{
 "cells": [
  {
   "cell_type": "code",
   "execution_count": 2,
   "id": "3561d163-923f-4081-a908-773c761838d4",
   "metadata": {},
   "outputs": [],
   "source": [
    "# 주석 사용하기\n",
    "x = 1 # 여기서 =(등호) 기호는 수학의 같다는 의미와는 다르다.\n",
    "      # ... 우측 변의 리터럴(값)을 좌측 변의 변수에 대입한다는 의미다.\n",
    "      # 1은 숫자형 리터럴\n",
    "        \n",
    "# 문자열 리터럴\n",
    "text = \"#는 주석이 아니다. 따옴표 안은 문자열 리터럴입니다\"\n",
    "      "
   ]
  },
  {
   "cell_type": "code",
   "execution_count": 3,
   "id": "07f6fb5b-4676-4224-839e-95fe04c0f8aa",
   "metadata": {},
   "outputs": [
    {
     "name": "stdout",
     "output_type": "stream",
     "text": [
      "1\n"
     ]
    }
   ],
   "source": [
    "print(x)"
   ]
  },
  {
   "cell_type": "code",
   "execution_count": 4,
   "id": "20304e0f-cc40-43b9-bc7a-a71de9b652f4",
   "metadata": {},
   "outputs": [
    {
     "name": "stdout",
     "output_type": "stream",
     "text": [
      "#는 주석이 아니다. 따옴표 안은 문자열 리터럴입니다\n"
     ]
    }
   ],
   "source": [
    "print(text)"
   ]
  },
  {
   "cell_type": "code",
   "execution_count": 9,
   "id": "51cbb2f8-8048-4364-87c9-56b8bcac9b4f",
   "metadata": {},
   "outputs": [
    {
     "name": "stdout",
     "output_type": "stream",
     "text": [
      "Hello, World!\n",
      "Hello, World!\n",
      "Python Programming\n"
     ]
    }
   ],
   "source": [
    "x = \"Hello, World!\"\n",
    "y = \"Python Programming\"\n",
    "print(x)\n",
    "print(\"Hello, World!\")\n",
    "print(y)"
   ]
  },
  {
   "cell_type": "code",
   "execution_count": 10,
   "id": "fa61459e-1bca-452d-9842-c9c3ba545399",
   "metadata": {},
   "outputs": [
    {
     "data": {
      "text/plain": [
       "89"
      ]
     },
     "execution_count": 10,
     "metadata": {},
     "output_type": "execute_result"
    }
   ],
   "source": [
    "13 + (22 - 3) * 4"
   ]
  },
  {
   "cell_type": "code",
   "execution_count": 11,
   "id": "96a90613-43f4-43b8-8587-66a256ffb747",
   "metadata": {},
   "outputs": [
    {
     "data": {
      "text/plain": [
       "23"
      ]
     },
     "execution_count": 11,
     "metadata": {},
     "output_type": "execute_result"
    }
   ],
   "source": [
    "13 + 22 - 3 * 4"
   ]
  },
  {
   "cell_type": "code",
   "execution_count": 14,
   "id": "b02e512b-1a1d-4cd5-8337-686e29736b4b",
   "metadata": {},
   "outputs": [
    {
     "data": {
      "text/plain": [
       "28.2"
      ]
     },
     "execution_count": 14,
     "metadata": {},
     "output_type": "execute_result"
    }
   ],
   "source": [
    "13 + ((22 - 3) * 4) / 5"
   ]
  },
  {
   "cell_type": "code",
   "execution_count": 21,
   "id": "fba3f00f-b058-4a2b-84c9-d814e72b96e4",
   "metadata": {},
   "outputs": [
    {
     "data": {
      "text/plain": [
       "7"
      ]
     },
     "execution_count": 21,
     "metadata": {},
     "output_type": "execute_result"
    }
   ],
   "source": [
    "int(0.2467 * 12 + 4.159)"
   ]
  },
  {
   "cell_type": "code",
   "execution_count": 23,
   "id": "1484336a-ae2c-4562-b829-9f50cca90430",
   "metadata": {},
   "outputs": [
    {
     "name": "stdout",
     "output_type": "stream",
     "text": [
      "가장 시끄러운 층은 = 7 층\n"
     ]
    }
   ],
   "source": [
    "print('가장 시끄러운','층은', '=', 7, '층')"
   ]
  },
  {
   "cell_type": "code",
   "execution_count": 27,
   "id": "de459b76-7434-4be3-afd9-c39ec975d409",
   "metadata": {},
   "outputs": [
    {
     "name": "stdout",
     "output_type": "stream",
     "text": [
      "가장 시끄러운 층은 = 7 층\n"
     ]
    }
   ],
   "source": [
    "print('가장 시끄러운 층은 =',7,'층')"
   ]
  },
  {
   "cell_type": "code",
   "execution_count": 31,
   "id": "9c75d673-ef5a-4c07-b958-6bc346236ff4",
   "metadata": {},
   "outputs": [
    {
     "name": "stdout",
     "output_type": "stream",
     "text": [
      "냉장고 가격은 1272000 원 입니다.\n"
     ]
    }
   ],
   "source": [
    "price = 53000*24\n",
    "print('냉장고 가격은',price,'원 입니다.')"
   ]
  },
  {
   "cell_type": "code",
   "execution_count": 41,
   "id": "f110a7b9-44d8-45a5-9074-f7222cd9926d",
   "metadata": {},
   "outputs": [
    {
     "name": "stdout",
     "output_type": "stream",
     "text": [
      "총 지불 해야 할 금액은 16500000 원 입니다.\n"
     ]
    }
   ],
   "source": [
    "people=250\n",
    "tax=0.1\n",
    "price = 20000*3*people\n",
    "tax_price =int(price*(1+tax))\n",
    "print('총 지불 해야 할 금액은',tax_price,'원 입니다.')"
   ]
  },
  {
   "cell_type": "code",
   "execution_count": 44,
   "id": "473908d2-e87b-4d02-8ada-62b17220457a",
   "metadata": {},
   "outputs": [
    {
     "data": {
      "text/plain": [
       "453.0"
      ]
     },
     "execution_count": 44,
     "metadata": {},
     "output_type": "execute_result"
    }
   ],
   "source": [
    "AP=380\n",
    "AP*0.6+225"
   ]
  },
  {
   "cell_type": "code",
   "execution_count": 47,
   "id": "0f133bdf-8d5a-4658-9fba-df7695cc5322",
   "metadata": {},
   "outputs": [
    {
     "name": "stdout",
     "output_type": "stream",
     "text": [
      "30\n"
     ]
    }
   ],
   "source": [
    "a = 10 \n",
    "a = a + 20\n",
    "print(a)"
   ]
  },
  {
   "cell_type": "code",
   "execution_count": 48,
   "id": "ce9f0d5e-f7fa-4dd5-931b-f0c5c80a9340",
   "metadata": {},
   "outputs": [
    {
     "ename": "NameError",
     "evalue": "name 'a' is not defined",
     "output_type": "error",
     "traceback": [
      "\u001b[1;31m---------------------------------------------------------------------------\u001b[0m",
      "\u001b[1;31mNameError\u001b[0m                                 Traceback (most recent call last)",
      "\u001b[1;32m~\\AppData\\Local\\Temp\\ipykernel_9424\\1497285116.py\u001b[0m in \u001b[0;36m<module>\u001b[1;34m\u001b[0m\n\u001b[0;32m      1\u001b[0m \u001b[1;32mdel\u001b[0m \u001b[0ma\u001b[0m\u001b[1;33m\u001b[0m\u001b[1;33m\u001b[0m\u001b[0m\n\u001b[1;32m----> 2\u001b[1;33m \u001b[0mprint\u001b[0m\u001b[1;33m(\u001b[0m\u001b[0ma\u001b[0m\u001b[1;33m)\u001b[0m\u001b[1;33m\u001b[0m\u001b[1;33m\u001b[0m\u001b[0m\n\u001b[0m",
      "\u001b[1;31mNameError\u001b[0m: name 'a' is not defined"
     ]
    }
   ],
   "source": [
    "del a\n",
    "print(a)"
   ]
  },
  {
   "cell_type": "code",
   "execution_count": 52,
   "id": "cf2202de-cb46-4a8e-b819-87589bcb038b",
   "metadata": {},
   "outputs": [
    {
     "name": "stdout",
     "output_type": "stream",
     "text": [
      "10\n",
      "20\n"
     ]
    }
   ],
   "source": [
    "a = 10\n",
    "\n",
    "# 변수 a에 20을 더하고 할당하지 않으면 a=10\n",
    "a + 20\n",
    "print(a)\n",
    "\n",
    "#a = a + 10 과 a += 10 은 같은 말 (a라는 변수에 10을 늘리겠다)\n",
    "a += 10\n",
    "print(a)"
   ]
  },
  {
   "cell_type": "code",
   "execution_count": 55,
   "id": "4163ac19-e309-4160-b473-d5aa3c4c5137",
   "metadata": {},
   "outputs": [
    {
     "name": "stdout",
     "output_type": "stream",
     "text": [
      "None\n"
     ]
    }
   ],
   "source": [
    "#변수에 빈 값 할당 -> null\n",
    "a = None\n",
    "print(a)"
   ]
  },
  {
   "cell_type": "code",
   "execution_count": 2,
   "id": "8fea5691-6c18-470b-8e7d-f09e59b31aa5",
   "metadata": {},
   "outputs": [
    {
     "name": "stdout",
     "output_type": "stream",
     "text": [
      "\"안녕?\"이라는 그 인사를 듣고 나는 '누구지?'라고 생각했다.\n"
     ]
    }
   ],
   "source": [
    "print('\"안녕?\"이라는 그 인사를 듣고 나는 \\'누구지?\\'라고 생각했다.')\n",
    "    "
   ]
  },
  {
   "cell_type": "code",
   "execution_count": null,
   "id": "c14d97d0-3eda-42bf-979e-7459a4403351",
   "metadata": {},
   "outputs": [],
   "source": []
  }
 ],
 "metadata": {
  "kernelspec": {
   "display_name": "Python 3 (ipykernel)",
   "language": "python",
   "name": "python3"
  },
  "language_info": {
   "codemirror_mode": {
    "name": "ipython",
    "version": 3
   },
   "file_extension": ".py",
   "mimetype": "text/x-python",
   "name": "python",
   "nbconvert_exporter": "python",
   "pygments_lexer": "ipython3",
   "version": "3.9.13"
  }
 },
 "nbformat": 4,
 "nbformat_minor": 5
}
