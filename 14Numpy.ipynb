{
 "cells": [
  {
   "cell_type": "code",
   "execution_count": 1,
   "id": "6f753e23-7b2d-46b1-8cb2-6cbbadde329f",
   "metadata": {},
   "outputs": [],
   "source": [
    "#Numpy배열과 list차이\n",
    "    #Numpy - 같은 구조로 연속된 자료 -> 벡터화 연산 가능/복잡한 수식 계산 가능\n",
    "    #list - 각 자료마다 크기가 다르고 위치가 연속적이지 않음\n",
    "    #Numpy가 상대적으로 속도가 빠르고 메모리를 적게 차지함\n",
    "\n",
    "#Numpy는 자료를 변경 불가, 모두 같은 자료형으로만 \n"
   ]
  },
  {
   "cell_type": "code",
   "execution_count": 3,
   "id": "ba594ea1-b969-49b6-8106-7c3b1659b1dd",
   "metadata": {},
   "outputs": [],
   "source": [
    "#li = [1,2,3,4,5,6,7,8,9,10]\n",
    "#li*10 -> li가 총 10번 반복 출력 됨\n",
    "#각 요소에 대한 계산 불가능"
   ]
  },
  {
   "cell_type": "code",
   "execution_count": null,
   "id": "216262ab-8310-4876-9a16-7dc70a85f82b",
   "metadata": {},
   "outputs": [],
   "source": [
    "!conda list"
   ]
  },
  {
   "cell_type": "code",
   "execution_count": 3,
   "id": "d5fab667-200e-4458-8b23-8a2325788300",
   "metadata": {},
   "outputs": [],
   "source": [
    "#Numpy패키지\n",
    "#anaconda에 기본적으로 포한되어 설치된 라이브러리\n",
    "#별칭은 np라는 이름으로 임포트\n",
    "\n",
    "import numpy as np\n"
   ]
  },
  {
   "cell_type": "code",
   "execution_count": 70,
   "id": "3857eaa9-58a9-4132-9ff7-49cd94597ecf",
   "metadata": {},
   "outputs": [
    {
     "data": {
      "text/plain": [
       "array([0, 1, 2, 3, 4, 5, 6, 7, 8, 9])"
      ]
     },
     "execution_count": 70,
     "metadata": {},
     "output_type": "execute_result"
    }
   ],
   "source": [
    "##1차원 배열 \n",
    "\n",
    "#.array()\n",
    "#ndarray 클래스 객체, Numpy 배열로 변환\n",
    "#np.array() -> return ndarray \n",
    "\n",
    "ar = np.array([ _ for _ in range(10)])\n",
    "ar\n"
   ]
  },
  {
   "cell_type": "code",
   "execution_count": 28,
   "id": "5b9bcac1-83a6-4991-a3b8-5e55f0aa0b60",
   "metadata": {},
   "outputs": [
    {
     "data": {
      "text/plain": [
       "array([ 0.1,  5. ,  4. , 12. ,  0.5])"
      ]
     },
     "execution_count": 28,
     "metadata": {},
     "output_type": "execute_result"
    }
   ],
   "source": [
    "#정수와 실수가 혼합된 경우\n",
    "#표현 범위가 더 큰 자료형으로 변환 -> 모두 실수로 변환\n",
    "\n",
    "ar2 = np.array([0.1,5,4,12,0.5])\n",
    "ar2"
   ]
  },
  {
   "cell_type": "code",
   "execution_count": 19,
   "id": "2d881f38-7ed4-4917-a9f2-ca7a49c6b9aa",
   "metadata": {},
   "outputs": [
    {
     "data": {
      "text/plain": [
       "numpy.ndarray"
      ]
     },
     "execution_count": 19,
     "metadata": {},
     "output_type": "execute_result"
    }
   ],
   "source": [
    "#np.array()로 생성한 객체는 numpy.ndarray 타입을 갖는다.\n",
    "type(ar)"
   ]
  },
  {
   "cell_type": "code",
   "execution_count": 71,
   "id": "4d5465ae-3493-42d6-b0af-9c420539bd89",
   "metadata": {},
   "outputs": [
    {
     "data": {
      "text/plain": [
       "(10,)"
      ]
     },
     "execution_count": 71,
     "metadata": {},
     "output_type": "execute_result"
    }
   ],
   "source": [
    "#.shape() \n",
    "#넘파이 배열의 모양 확인\n",
    "#(10,) -> 1차원의 10칸 갖는 ndarray 모양\n",
    "\n",
    "ar.shape"
   ]
  },
  {
   "cell_type": "code",
   "execution_count": 33,
   "id": "bf3069f2-8c97-483d-8d28-dfb37a15abe1",
   "metadata": {},
   "outputs": [],
   "source": [
    "#dtype지정\n",
    "x = np.array([1,2,3],dtype='f')\n",
    "\n",
    "y = np.array([1,2,3],dtype='U')"
   ]
  },
  {
   "cell_type": "code",
   "execution_count": 37,
   "id": "1d661415-c5c3-4f2b-aee6-5ac07f5177a9",
   "metadata": {},
   "outputs": [
    {
     "data": {
      "text/plain": [
       "3.0"
      ]
     },
     "execution_count": 37,
     "metadata": {},
     "output_type": "execute_result"
    }
   ],
   "source": [
    "#ndarray도 인덱싱 가능\n",
    "x[0] + x[1]"
   ]
  },
  {
   "cell_type": "code",
   "execution_count": 38,
   "id": "d535f750-0022-4101-99ff-a10d40c8fff4",
   "metadata": {},
   "outputs": [
    {
     "data": {
      "text/plain": [
       "dtype('<U1')"
      ]
     },
     "execution_count": 38,
     "metadata": {},
     "output_type": "execute_result"
    }
   ],
   "source": [
    "#.dtype\n",
    "#넘파이 배열의 자료형 확인\n",
    "#크기 지정 안해도 Numpy에서 지정 -> 가장 큰 글자가 한글자라서 크기는 1로 \n",
    "y.dtype"
   ]
  },
  {
   "cell_type": "code",
   "execution_count": 42,
   "id": "6ebf649c-c431-4cc5-b08b-108dde4a521e",
   "metadata": {},
   "outputs": [],
   "source": [
    "x = [0, 1, -1, 0]\n",
    "y = [1, 0, 0, 0]\n",
    "\n",
    "# x/y -> 리스트끼리의 연산은 불가능\n",
    "\n",
    "xn = np.array(x)\n",
    "yn = np.array(y)"
   ]
  },
  {
   "cell_type": "code",
   "execution_count": 43,
   "id": "ffed139c-ff85-4f62-bbb7-0da3c2adabc9",
   "metadata": {},
   "outputs": [
    {
     "name": "stderr",
     "output_type": "stream",
     "text": [
      "C:\\Users\\user\\AppData\\Local\\Temp\\ipykernel_13288\\1069198053.py:4: RuntimeWarning: divide by zero encountered in true_divide\n",
      "  xn / yn\n",
      "C:\\Users\\user\\AppData\\Local\\Temp\\ipykernel_13288\\1069198053.py:4: RuntimeWarning: invalid value encountered in true_divide\n",
      "  xn / yn\n"
     ]
    },
    {
     "data": {
      "text/plain": [
       "array([  0.,  inf, -inf,  nan])"
      ]
     },
     "execution_count": 43,
     "metadata": {},
     "output_type": "execute_result"
    }
   ],
   "source": [
    "#.inf : 무한대(infinity)\n",
    "#.nan : 정의할 수 없는 숫자(not a number)\n",
    "\n",
    "xn / yn"
   ]
  },
  {
   "cell_type": "code",
   "execution_count": 53,
   "id": "de0739d6-6e64-4bb8-bd44-fbc067c0f8f9",
   "metadata": {},
   "outputs": [
    {
     "data": {
      "text/plain": [
       "array([ 0,  2,  4,  6,  8, 10, 12, 14, 16, 18])"
      ]
     },
     "execution_count": 53,
     "metadata": {},
     "output_type": "execute_result"
    }
   ],
   "source": [
    "#벡터화 연산\n",
    "#배열의 각 요소에 대한 반복 연산\n",
    "\n",
    "#각 요소가 2배가 되는 연산\n",
    "#리스트\n",
    "    #for문으로 각 요소를 꺼내오고 각각에 *2를 해줘야 함\n",
    "    #[_* 2 for _ in range(10)]\n",
    "\n",
    "#넘파이 배열 객체\n",
    "data = [0,1,2,3,4,5,6,7,8,9]\n",
    "x = np.array(data)\n",
    "x * 2\n"
   ]
  },
  {
   "cell_type": "code",
   "execution_count": 59,
   "id": "699e3a11-6dfb-4597-b113-0e323ede044e",
   "metadata": {},
   "outputs": [
    {
     "data": {
      "text/plain": [
       "array([False,  True, False])"
      ]
     },
     "execution_count": 59,
     "metadata": {},
     "output_type": "execute_result"
    }
   ],
   "source": [
    "a = np.array([1,2,3])\n",
    "b = np.array([10,20,30])\n",
    "\n",
    "a == 2\n",
    "#a == np.array([2,2,2])"
   ]
  },
  {
   "cell_type": "code",
   "execution_count": 58,
   "id": "49bdcd40-6692-49c8-a12d-dd5f0fc11bce",
   "metadata": {},
   "outputs": [
    {
     "data": {
      "text/plain": [
       "array([ True, False, False])"
      ]
     },
     "execution_count": 58,
     "metadata": {},
     "output_type": "execute_result"
    }
   ],
   "source": [
    "b < 20\n",
    "#b < np.array([20,20,20])"
   ]
  },
  {
   "cell_type": "code",
   "execution_count": 67,
   "id": "8a5ea3f0-bb6b-4cef-891b-753a94f2787f",
   "metadata": {},
   "outputs": [
    {
     "data": {
      "text/plain": [
       "array([False,  True,  True])"
      ]
     },
     "execution_count": 67,
     "metadata": {},
     "output_type": "execute_result"
    }
   ],
   "source": [
    "b > 10"
   ]
  },
  {
   "cell_type": "code",
   "execution_count": 69,
   "id": "ea8714bf-e184-4efe-84c8-2e5ae1868788",
   "metadata": {},
   "outputs": [
    {
     "data": {
      "text/plain": [
       "array([False,  True, False])"
      ]
     },
     "execution_count": 69,
     "metadata": {},
     "output_type": "execute_result"
    }
   ],
   "source": [
    "# & 연산자 (=and)\n",
    "# 모두 T(or F)이면 T(or F) , 하나라도 F이면 F\n",
    "#Numpy에서는 and 사용하면 error\n",
    "\n",
    "(a==2) & (b >10)\n",
    "\n",
    "# 연산자 우선순위 떄문에 ()없으면 error\n",
    "# a==2 & b >10"
   ]
  },
  {
   "cell_type": "code",
   "execution_count": 75,
   "id": "afcd08db-40b4-4fef-a040-69447a4360c9",
   "metadata": {},
   "outputs": [
    {
     "data": {
      "text/plain": [
       "array([[0, 1, 2],\n",
       "       [3, 4, 5]])"
      ]
     },
     "execution_count": 75,
     "metadata": {},
     "output_type": "execute_result"
    }
   ],
   "source": [
    "#2차원 배열 (=행렬 matrix)\n",
    "#중첩된 리스트 이용\n",
    "\n",
    "c = np.array([[0,1,2],[3,4,5]])   #2 X 3 array\n",
    "c"
   ]
  },
  {
   "cell_type": "code",
   "execution_count": 77,
   "id": "b72a9730-62cc-4c26-956e-1f3e482df613",
   "metadata": {},
   "outputs": [
    {
     "data": {
      "text/plain": [
       "(2, 3)"
      ]
     },
     "execution_count": 77,
     "metadata": {},
     "output_type": "execute_result"
    }
   ],
   "source": [
    "c.shape   #2행 3열"
   ]
  },
  {
   "cell_type": "code",
   "execution_count": 79,
   "id": "a9d1ffc6-9930-49ef-893f-ce98d2627389",
   "metadata": {},
   "outputs": [
    {
     "data": {
      "text/plain": [
       "2"
      ]
     },
     "execution_count": 79,
     "metadata": {},
     "output_type": "execute_result"
    }
   ],
   "source": [
    "#행의 갯수\n",
    "len(c)   "
   ]
  },
  {
   "cell_type": "code",
   "execution_count": 83,
   "id": "4808bd5c-a991-4c17-97cc-58c24d272e86",
   "metadata": {},
   "outputs": [
    {
     "data": {
      "text/plain": [
       "3"
      ]
     },
     "execution_count": 83,
     "metadata": {},
     "output_type": "execute_result"
    }
   ],
   "source": [
    "#열의 갯수\n",
    "len(c[0])"
   ]
  },
  {
   "cell_type": "code",
   "execution_count": 82,
   "id": "0ab4cacf-dead-495c-931b-4862747402be",
   "metadata": {},
   "outputs": [
    {
     "data": {
      "text/plain": [
       "array([[10, 20, 30, 40],\n",
       "       [50, 60, 70, 80]])"
      ]
     },
     "execution_count": 82,
     "metadata": {},
     "output_type": "execute_result"
    }
   ],
   "source": [
    "a = np.array([[10,20,30,40],[50,60,70,80]])\n",
    "a"
   ]
  },
  {
   "cell_type": "code",
   "execution_count": 86,
   "id": "81e7b691-1aee-4077-8d5b-982c3abc766a",
   "metadata": {},
   "outputs": [
    {
     "data": {
      "text/plain": [
       "array([[[ 1,  2,  3,  4],\n",
       "        [ 5,  6,  7,  8],\n",
       "        [ 9, 10, 11, 12]],\n",
       "\n",
       "       [[11, 12, 13, 14],\n",
       "        [15, 16, 17, 18],\n",
       "        [19, 20, 21, 22]]])"
      ]
     },
     "execution_count": 86,
     "metadata": {},
     "output_type": "execute_result"
    }
   ],
   "source": [
    "#3차원 배열\n",
    "#리스트 3번 중첩\n",
    "#가장 바깥쪽 리스트의 길이부터 안쪽 리스트 길이의 순서로 표시\n",
    "\n",
    "#2 X 3 X 4\n",
    "d =np.array([[[1,2,3,4],[5,6,7,8],[9,10,11,12]],[[11,12,13,14],[15,16,17,18],[19,20,21,22]]])\n",
    "d"
   ]
  },
  {
   "cell_type": "code",
   "execution_count": 88,
   "id": "9a053d37-f23f-4472-b9a0-6007f1cbd09a",
   "metadata": {},
   "outputs": [
    {
     "data": {
      "text/plain": [
       "(2, 3, 4)"
      ]
     },
     "execution_count": 88,
     "metadata": {},
     "output_type": "execute_result"
    }
   ],
   "source": [
    "len(d),len(d[0]),len(d[0][0])    #소괄호가 생략된 튜플 "
   ]
  },
  {
   "cell_type": "code",
   "execution_count": 89,
   "id": "2311ad35-5470-4db9-8a5f-86127e669def",
   "metadata": {},
   "outputs": [
    {
     "name": "stdout",
     "output_type": "stream",
     "text": [
      "3\n",
      "(2, 3, 4)\n"
     ]
    }
   ],
   "source": [
    "#ndim : 배열의 차원\n",
    "#shape : 배열의 크기\n",
    "\n",
    "print(d.ndim)\n",
    "print(d.shape)"
   ]
  },
  {
   "cell_type": "code",
   "execution_count": 95,
   "id": "4a5b97eb-b176-48ea-9f81-db1ea763a4eb",
   "metadata": {},
   "outputs": [
    {
     "data": {
      "text/plain": [
       "4"
      ]
     },
     "execution_count": 95,
     "metadata": {},
     "output_type": "execute_result"
    }
   ],
   "source": [
    "#1차원 배열의 인덱싱 (=리스트 인덱싱)\n",
    "\n",
    "a = np.array([0,1,2,3,4])\n",
    "a[-1]"
   ]
  },
  {
   "cell_type": "code",
   "execution_count": 120,
   "id": "72fcf586-981a-4b1f-be4e-38d4da5b14b0",
   "metadata": {},
   "outputs": [
    {
     "name": "stdout",
     "output_type": "stream",
     "text": [
      "(2, 3)\n",
      "2\n"
     ]
    }
   ],
   "source": [
    "#다차원 배열의 인덱싱\n",
    "\n",
    "test = [[1,2,3,4],[5,6,7,8]]   #list\n",
    "test[1][1]                     #6\n",
    "\n",
    "a = np.array([[0,1,2],[3,4,5]]) #ndarray\n",
    "a\n",
    "\n",
    "print(a.shape)     #인덱싱 -> a[0~!,0~2]\n",
    "print(a.ndim)\n"
   ]
  },
  {
   "cell_type": "code",
   "execution_count": 121,
   "id": "be7fbc33-3e42-47a1-bd18-037b855ce48c",
   "metadata": {},
   "outputs": [
    {
     "data": {
      "text/plain": [
       "array([0, 1, 2])"
      ]
     },
     "execution_count": 121,
     "metadata": {},
     "output_type": "execute_result"
    }
   ],
   "source": [
    "a[0,:]    #첫 번째 행 전체"
   ]
  },
  {
   "cell_type": "code",
   "execution_count": 122,
   "id": "3a39577e-f743-40ff-a68c-30564de8f9e8",
   "metadata": {},
   "outputs": [
    {
     "data": {
      "text/plain": [
       "array([4, 5])"
      ]
     },
     "execution_count": 122,
     "metadata": {},
     "output_type": "execute_result"
    }
   ],
   "source": [
    "a[1,1:]"
   ]
  },
  {
   "cell_type": "code",
   "execution_count": 118,
   "id": "95097a55-32b3-43dc-bcf8-14854d6f2515",
   "metadata": {},
   "outputs": [
    {
     "data": {
      "text/plain": [
       "[1, 2, 3]"
      ]
     },
     "execution_count": 118,
     "metadata": {},
     "output_type": "execute_result"
    }
   ],
   "source": [
    "c = [[1,2,3,4],[5,6,7,8]] #list\n",
    "c[0][:3]    # a에서 1,2,3의 값 가져오기"
   ]
  },
  {
   "cell_type": "code",
   "execution_count": 123,
   "id": "ea3e20c6-380c-4b56-b53f-7736c5ba970b",
   "metadata": {},
   "outputs": [],
   "source": [
    "m=np.array([[0,1,2,3,4],[5,6,7,8,9],[10,11,12,13,14]])"
   ]
  },
  {
   "cell_type": "code",
   "execution_count": 124,
   "id": "207a8916-a5d4-4f93-8ace-fdf6f58059f1",
   "metadata": {},
   "outputs": [
    {
     "data": {
      "text/plain": [
       "7"
      ]
     },
     "execution_count": 124,
     "metadata": {},
     "output_type": "execute_result"
    }
   ],
   "source": [
    "m[1,2]"
   ]
  },
  {
   "cell_type": "code",
   "execution_count": 125,
   "id": "0b864be5-17a9-406c-9cc1-382e5489fc10",
   "metadata": {},
   "outputs": [
    {
     "data": {
      "text/plain": [
       "14"
      ]
     },
     "execution_count": 125,
     "metadata": {},
     "output_type": "execute_result"
    }
   ],
   "source": [
    "m[2,-1]"
   ]
  },
  {
   "cell_type": "code",
   "execution_count": 126,
   "id": "1541e640-704f-492a-87eb-9ef0fbb3cb8e",
   "metadata": {},
   "outputs": [
    {
     "data": {
      "text/plain": [
       "array([6, 7])"
      ]
     },
     "execution_count": 126,
     "metadata": {},
     "output_type": "execute_result"
    }
   ],
   "source": [
    "m[1,1:3]"
   ]
  },
  {
   "cell_type": "code",
   "execution_count": 127,
   "id": "c91e9ea8-3a90-4429-b785-1ba666f36968",
   "metadata": {},
   "outputs": [
    {
     "data": {
      "text/plain": [
       "array([ 7, 12])"
      ]
     },
     "execution_count": 127,
     "metadata": {},
     "output_type": "execute_result"
    }
   ],
   "source": [
    "m[1:,2]"
   ]
  },
  {
   "cell_type": "code",
   "execution_count": 130,
   "id": "8370bb3c-c76c-470f-bfe8-10d1c31eac88",
   "metadata": {},
   "outputs": [
    {
     "data": {
      "text/plain": [
       "array([[3, 4],\n",
       "       [8, 9]])"
      ]
     },
     "execution_count": 130,
     "metadata": {},
     "output_type": "execute_result"
    }
   ],
   "source": [
    "m[:2,3:]"
   ]
  },
  {
   "cell_type": "code",
   "execution_count": 132,
   "id": "c3a0359e-3a90-43bc-8667-37d32f8993a2",
   "metadata": {},
   "outputs": [
    {
     "data": {
      "text/plain": [
       "array(['', '', '', '', ''], dtype='<U4')"
      ]
     },
     "execution_count": 132,
     "metadata": {},
     "output_type": "execute_result"
    }
   ],
   "source": [
    "#zeros \n",
    "#모든 값이 0인 배열 생성\n",
    "\n",
    "a = np.zeros(5, dtype='U4')\n",
    "a"
   ]
  },
  {
   "cell_type": "code",
   "execution_count": 137,
   "id": "6d79fce5-172f-4d45-97b5-43e14b726464",
   "metadata": {},
   "outputs": [
    {
     "data": {
      "text/plain": [
       "array(['abc', 'abcd', 'ABCD', '', ''], dtype='<U4')"
      ]
     },
     "execution_count": 137,
     "metadata": {},
     "output_type": "execute_result"
    }
   ],
   "source": [
    "a[0] ='abc'\n",
    "a[1] = 'abcd'\n",
    "a[2] = 'ABCDE'  #dtype='<U4'으로 4글자까지만 \n",
    "a"
   ]
  },
  {
   "cell_type": "code",
   "execution_count": 140,
   "id": "4b2a50af-b647-4b42-9ebc-50bd32ece794",
   "metadata": {},
   "outputs": [
    {
     "data": {
      "text/plain": [
       "array([[[1, 1, 1, 1],\n",
       "        [1, 1, 1, 1],\n",
       "        [1, 1, 1, 1]],\n",
       "\n",
       "       [[1, 1, 1, 1],\n",
       "        [1, 1, 1, 1],\n",
       "        [1, 1, 1, 1]]], dtype=int64)"
      ]
     },
     "execution_count": 140,
     "metadata": {},
     "output_type": "execute_result"
    }
   ],
   "source": [
    "#ones\n",
    "#1로 초기화\n",
    "e = np.ones((2,3,4),dtype='i8')\n",
    "e"
   ]
  },
  {
   "cell_type": "code",
   "execution_count": 141,
   "id": "82dc049a-fdfd-421c-8b97-2f6ee5744d5a",
   "metadata": {},
   "outputs": [],
   "source": [
    "test = np.array([10,20,30])"
   ]
  },
  {
   "cell_type": "code",
   "execution_count": 144,
   "id": "3dc583ac-5938-44ee-aaa9-43d981dae606",
   "metadata": {},
   "outputs": [
    {
     "data": {
      "text/plain": [
       "array([1., 1., 1.], dtype=float32)"
      ]
     },
     "execution_count": 144,
     "metadata": {},
     "output_type": "execute_result"
    }
   ],
   "source": [
    "#_like(배열,dtype)\n",
    "#인수 배열과 동일한 shape의 배열 생성\n",
    "np.ones_like(test,dtype='f')"
   ]
  },
  {
   "cell_type": "code",
   "execution_count": 143,
   "id": "f8c6adf1-99ff-414c-987c-880eb352da01",
   "metadata": {},
   "outputs": [
    {
     "data": {
      "text/plain": [
       "array([0., 0., 0.], dtype=float32)"
      ]
     },
     "execution_count": 143,
     "metadata": {},
     "output_type": "execute_result"
    }
   ],
   "source": [
    "np.zeros_like(test,dtype='f')"
   ]
  },
  {
   "cell_type": "code",
   "execution_count": 145,
   "id": "203ff448-0a10-4e1a-bab2-4947ade0f0c0",
   "metadata": {},
   "outputs": [
    {
     "data": {
      "text/plain": [
       "array([[4.24399158e-314, 8.48798317e-314, 1.27319747e-313],\n",
       "       [1.69759663e-313, 2.12199579e-313, 2.54639495e-313],\n",
       "       [2.54639495e-313, 2.97079411e-313, 3.39519327e-313],\n",
       "       [3.81959242e-313, 4.24399158e-313, 4.66839074e-313]])"
      ]
     },
     "execution_count": 145,
     "metadata": {},
     "output_type": "execute_result"
    }
   ],
   "source": [
    "#empty\n",
    "#빠르게 배열의 shape을 만들수 있다\n",
    "g=np.empty((4,3))\n",
    "g"
   ]
  },
  {
   "cell_type": "code",
   "execution_count": 146,
   "id": "376d1a5a-1991-4488-a919-702e5a8ee686",
   "metadata": {},
   "outputs": [
    {
     "data": {
      "text/plain": [
       "array([0, 1, 2, 3, 4, 5, 6, 7, 8, 9])"
      ]
     },
     "execution_count": 146,
     "metadata": {},
     "output_type": "execute_result"
    }
   ],
   "source": [
    "#arange()\n",
    "#Numpy버전의 range명령\n",
    "\n",
    "np.arange(10)"
   ]
  },
  {
   "cell_type": "code",
   "execution_count": 149,
   "id": "c5cdad1b-a770-434e-a452-349977baacd1",
   "metadata": {},
   "outputs": [
    {
     "data": {
      "text/plain": [
       "array([ 3,  5,  7,  9, 11, 13, 15, 17, 19])"
      ]
     },
     "execution_count": 149,
     "metadata": {},
     "output_type": "execute_result"
    }
   ],
   "source": [
    "np.arange(3,21,2) #시작, 끝(포함X),단계"
   ]
  },
  {
   "cell_type": "code",
   "execution_count": 152,
   "id": "9b8cb564-a3b1-4246-90dc-1c440aafcb08",
   "metadata": {},
   "outputs": [
    {
     "data": {
      "text/plain": [
       "array([  0.,  25.,  50.,  75., 100.])"
      ]
     },
     "execution_count": 152,
     "metadata": {},
     "output_type": "execute_result"
    }
   ],
   "source": [
    "#linspace \n",
    "#구간을 선형 간격으로 특정 수 만큼 분할\n",
    "\n",
    "ex = np.linspace(0,100,5)\n",
    "ex"
   ]
  },
  {
   "cell_type": "code",
   "execution_count": 154,
   "id": "8a8582ea-f028-40de-af4d-b59b301d824f",
   "metadata": {},
   "outputs": [
    {
     "data": {
      "text/plain": [
       "array([1.e+000, 1.e+025, 1.e+050, 1.e+075, 1.e+100])"
      ]
     },
     "execution_count": 154,
     "metadata": {},
     "output_type": "execute_result"
    }
   ],
   "source": [
    "#logspace \n",
    "#구간을 로그 간격으로 특정 수 만큼 분할\n",
    "\n",
    "ex2 = np.logspace(0,100,5)\n",
    "ex2"
   ]
  },
  {
   "cell_type": "code",
   "execution_count": 4,
   "id": "bf7e0ab2-a8a9-43f5-a4bc-fd1474d3863d",
   "metadata": {},
   "outputs": [
    {
     "data": {
      "text/plain": [
       "array([[1, 2, 3],\n",
       "       [4, 5, 6]])"
      ]
     },
     "execution_count": 4,
     "metadata": {},
     "output_type": "execute_result"
    }
   ],
   "source": [
    "#전치 연산 (transpose)\n",
    "#.T                    -> 메서드가 아닌 속성\n",
    "#행과 열을 바꿈\n",
    "\n",
    "A = np.array([[1,2,3],[4,5,6]])\n",
    "A"
   ]
  },
  {
   "cell_type": "code",
   "execution_count": 158,
   "id": "181c0d8e-fda8-4d51-8b9b-e2e86de1a5a9",
   "metadata": {},
   "outputs": [
    {
     "data": {
      "text/plain": [
       "array([[1, 4],\n",
       "       [2, 5],\n",
       "       [3, 6]])"
      ]
     },
     "execution_count": 158,
     "metadata": {},
     "output_type": "execute_result"
    }
   ],
   "source": [
    "A.T"
   ]
  },
  {
   "cell_type": "code",
   "execution_count": 161,
   "id": "cb91721a-70cc-44e2-847a-2ce4166a4a77",
   "metadata": {},
   "outputs": [
    {
     "data": {
      "text/plain": [
       "array([[ 0,  1,  2,  3],\n",
       "       [ 4,  5,  6,  7],\n",
       "       [ 8,  9, 10, 11]])"
      ]
     },
     "execution_count": 161,
     "metadata": {},
     "output_type": "execute_result"
    }
   ],
   "source": [
    "#배열의 크기 변형\n",
    "#reshape()\n",
    "\n",
    "a = np.arange(12)\n",
    "a\n",
    "\n",
    "b = a.reshape(3,4)\n",
    "b"
   ]
  },
  {
   "cell_type": "code",
   "execution_count": 166,
   "id": "fac21dd3-6ba6-4f0e-af51-2aeb976388eb",
   "metadata": {},
   "outputs": [
    {
     "data": {
      "text/plain": [
       "(2, 3, 2)"
      ]
     },
     "execution_count": 166,
     "metadata": {},
     "output_type": "execute_result"
    }
   ],
   "source": [
    "a.reshape(2,-1,2).shape  #-1은 Numpy 알아서 나눠떨어지게 해라."
   ]
  },
  {
   "cell_type": "code",
   "execution_count": 168,
   "id": "8abd46ee-30ff-451e-ac0e-ade22e11df65",
   "metadata": {},
   "outputs": [],
   "source": [
    "# a.reshape(7,-1)   #-1사용하려면 나눠떨어지는 모양으로 shape 설정해야 함"
   ]
  },
  {
   "cell_type": "code",
   "execution_count": 173,
   "id": "3b9ffec3-f20b-4a6d-805a-cefa192b1794",
   "metadata": {},
   "outputs": [
    {
     "data": {
      "text/plain": [
       "array([ 0,  1,  2,  3,  4,  5,  6,  7,  8,  9, 10, 11])"
      ]
     },
     "execution_count": 173,
     "metadata": {},
     "output_type": "execute_result"
    }
   ],
   "source": [
    "#1차원으로 변경\n",
    "#flatten()\n",
    "#ravel()\n",
    "\n",
    "a.reshape(2,-1,2).flatten()\n",
    "a.ravel()"
   ]
  },
  {
   "cell_type": "code",
   "execution_count": 181,
   "id": "f2e6e6a0-a07a-4c76-86bc-4b290509189f",
   "metadata": {},
   "outputs": [
    {
     "data": {
      "text/plain": [
       "array([[ 0],\n",
       "       [ 1],\n",
       "       [ 2],\n",
       "       [ 3],\n",
       "       [ 4],\n",
       "       [ 5],\n",
       "       [ 6],\n",
       "       [ 7],\n",
       "       [ 8],\n",
       "       [ 9],\n",
       "       [10],\n",
       "       [11]])"
      ]
     },
     "execution_count": 181,
     "metadata": {},
     "output_type": "execute_result"
    }
   ],
   "source": [
    "#newaxis\n",
    "#차원만 1차원 증가\n",
    "\n",
    "a[:,np.newaxis]\n",
    "#a.ndim"
   ]
  },
  {
   "cell_type": "code",
   "execution_count": 192,
   "id": "491afaf1-e528-48f0-b1d3-daba4fa3b7aa",
   "metadata": {},
   "outputs": [
    {
     "data": {
      "text/plain": [
       "array([[1., 1., 1.],\n",
       "       [1., 1., 1.]])"
      ]
     },
     "execution_count": 192,
     "metadata": {},
     "output_type": "execute_result"
    }
   ],
   "source": [
    "a1 =np.ones((2,3))\n",
    "a1\n"
   ]
  },
  {
   "cell_type": "code",
   "execution_count": 193,
   "id": "60d1dce4-62eb-4dbc-9fd5-e885ca8250f5",
   "metadata": {},
   "outputs": [
    {
     "data": {
      "text/plain": [
       "array([[0., 0.],\n",
       "       [0., 0.]])"
      ]
     },
     "execution_count": 193,
     "metadata": {},
     "output_type": "execute_result"
    }
   ],
   "source": [
    "a2 = np.zeros((2,2))\n",
    "a2"
   ]
  },
  {
   "cell_type": "code",
   "execution_count": 194,
   "id": "b3faf662-d862-4320-ab50-fcf633f5b7af",
   "metadata": {},
   "outputs": [
    {
     "data": {
      "text/plain": [
       "array([[1., 1., 1., 0., 0.],\n",
       "       [1., 1., 1., 0., 0.]])"
      ]
     },
     "execution_count": 194,
     "metadata": {},
     "output_type": "execute_result"
    }
   ],
   "source": [
    "##배열 연결(concatenate)\n",
    "#hstack([])\n",
    "#배열 수평하게 연결\n",
    "#행의 수가 같은 배열\n",
    "\n",
    "np.hstack([a1,a2])"
   ]
  },
  {
   "cell_type": "code",
   "execution_count": 196,
   "id": "2ff3e84c-c86f-41f9-b38b-9d969ea40221",
   "metadata": {},
   "outputs": [
    {
     "data": {
      "text/plain": [
       "array([[0., 0., 0.],\n",
       "       [0., 0., 0.],\n",
       "       [0., 0., 0.]])"
      ]
     },
     "execution_count": 196,
     "metadata": {},
     "output_type": "execute_result"
    }
   ],
   "source": [
    "b1 = np.zeros((3,3))\n",
    "b1"
   ]
  },
  {
   "cell_type": "code",
   "execution_count": 184,
   "id": "00cdeb63-01f2-41ba-9ec3-61c33b9c7d0c",
   "metadata": {},
   "outputs": [],
   "source": [
    "#vstack\n",
    "#위아래로 연결\n",
    "#열의 수가 같은 배열"
   ]
  },
  {
   "cell_type": "code",
   "execution_count": 197,
   "id": "e9e2af75-73a4-4f0e-8fe0-6b06ff85d0cd",
   "metadata": {},
   "outputs": [
    {
     "data": {
      "text/plain": [
       "array([[1., 1., 1.],\n",
       "       [1., 1., 1.],\n",
       "       [0., 0., 0.],\n",
       "       [0., 0., 0.],\n",
       "       [0., 0., 0.]])"
      ]
     },
     "execution_count": 197,
     "metadata": {},
     "output_type": "execute_result"
    }
   ],
   "source": [
    "np.vstack([a1,b1])"
   ]
  },
  {
   "cell_type": "code",
   "execution_count": 204,
   "id": "76afe18d-ddb4-4fb6-8788-4d4a2f800411",
   "metadata": {},
   "outputs": [
    {
     "data": {
      "text/plain": [
       "array([[1., 1., 1., 1.],\n",
       "       [1., 1., 1., 1.],\n",
       "       [1., 1., 1., 1.]])"
      ]
     },
     "execution_count": 204,
     "metadata": {},
     "output_type": "execute_result"
    }
   ],
   "source": [
    "c1 = np.ones((3,4))\n",
    "c1"
   ]
  },
  {
   "cell_type": "code",
   "execution_count": 205,
   "id": "2c050fe8-71e9-4d47-9f0a-f21834261bf8",
   "metadata": {},
   "outputs": [
    {
     "data": {
      "text/plain": [
       "array([[0., 0., 0., 0.],\n",
       "       [0., 0., 0., 0.],\n",
       "       [0., 0., 0., 0.]])"
      ]
     },
     "execution_count": 205,
     "metadata": {},
     "output_type": "execute_result"
    }
   ],
   "source": [
    "c2 = np.zeros((3,4))\n",
    "c2"
   ]
  },
  {
   "cell_type": "code",
   "execution_count": 206,
   "id": "74564437-c6c6-4938-b9dc-1c86d875bac5",
   "metadata": {},
   "outputs": [
    {
     "data": {
      "text/plain": [
       "array([[[1., 0.],\n",
       "        [1., 0.],\n",
       "        [1., 0.],\n",
       "        [1., 0.]],\n",
       "\n",
       "       [[1., 0.],\n",
       "        [1., 0.],\n",
       "        [1., 0.],\n",
       "        [1., 0.]],\n",
       "\n",
       "       [[1., 0.],\n",
       "        [1., 0.],\n",
       "        [1., 0.],\n",
       "        [1., 0.]]])"
      ]
     },
     "execution_count": 206,
     "metadata": {},
     "output_type": "execute_result"
    }
   ],
   "source": [
    "#dstack\n",
    "#깊이(depth) 방향으로 배열 합침\n",
    "\n",
    "np.dstack([c1,c2])   #2개의 (3 X 4) -> 1개의 (3 X 4 X 2)"
   ]
  },
  {
   "cell_type": "code",
   "execution_count": 221,
   "id": "99f12725-7a3d-4ff0-b29a-34df5d519a52",
   "metadata": {},
   "outputs": [
    {
     "data": {
      "text/plain": [
       "array([[[1., 1., 1., 1.],\n",
       "        [1., 1., 1., 1.],\n",
       "        [1., 1., 1., 1.]],\n",
       "\n",
       "       [[0., 0., 0., 0.],\n",
       "        [0., 0., 0., 0.],\n",
       "        [0., 0., 0., 0.]]])"
      ]
     },
     "execution_count": 221,
     "metadata": {},
     "output_type": "execute_result"
    }
   ],
   "source": [
    "#stack\n",
    "#dstack의 확장\n",
    "#dstack과 달리 사용자가 지정한 차원(축)으로 배열 연결\n",
    "#axis인수 defalt = 0\n",
    "\n",
    "#axis = 0 이면 가장 바깥쪽에서 크게 배열 합치기\n",
    "c= np.stack([c1,c2])\n",
    "c"
   ]
  },
  {
   "cell_type": "code",
   "execution_count": 215,
   "id": "c0ab2549-d4e5-4874-976a-0a518c684845",
   "metadata": {},
   "outputs": [],
   "source": [
    "d1 = np.ones((4,5))\n",
    "d2 = np.zeros((4,5))\n",
    "d3 = np.arange(20).reshape(4,5)"
   ]
  },
  {
   "cell_type": "code",
   "execution_count": 217,
   "id": "7689150f-5a00-4fe8-aad7-83509279f6f9",
   "metadata": {},
   "outputs": [
    {
     "data": {
      "text/plain": [
       "array([[1., 1., 1., 1., 1.],\n",
       "       [1., 1., 1., 1., 1.],\n",
       "       [1., 1., 1., 1., 1.],\n",
       "       [1., 1., 1., 1., 1.]])"
      ]
     },
     "execution_count": 217,
     "metadata": {},
     "output_type": "execute_result"
    }
   ],
   "source": [
    "d1"
   ]
  },
  {
   "cell_type": "code",
   "execution_count": 218,
   "id": "cb3d0987-e9ba-4f77-a1be-a30f7f205f85",
   "metadata": {},
   "outputs": [
    {
     "data": {
      "text/plain": [
       "array([[0., 0., 0., 0., 0.],\n",
       "       [0., 0., 0., 0., 0.],\n",
       "       [0., 0., 0., 0., 0.],\n",
       "       [0., 0., 0., 0., 0.]])"
      ]
     },
     "execution_count": 218,
     "metadata": {},
     "output_type": "execute_result"
    }
   ],
   "source": [
    "d2"
   ]
  },
  {
   "cell_type": "code",
   "execution_count": 219,
   "id": "043f9d95-357c-40db-a061-bf0b1d6a8813",
   "metadata": {},
   "outputs": [
    {
     "data": {
      "text/plain": [
       "array([[ 0,  1,  2,  3,  4],\n",
       "       [ 5,  6,  7,  8,  9],\n",
       "       [10, 11, 12, 13, 14],\n",
       "       [15, 16, 17, 18, 19]])"
      ]
     },
     "execution_count": 219,
     "metadata": {},
     "output_type": "execute_result"
    }
   ],
   "source": [
    "d3"
   ]
  },
  {
   "cell_type": "code",
   "execution_count": 226,
   "id": "237fba24-dee8-45e9-9fc7-f0f926cbb3bc",
   "metadata": {},
   "outputs": [
    {
     "data": {
      "text/plain": [
       "array([[[ 1.,  1.,  1.,  1.,  1.],\n",
       "        [ 0.,  0.,  0.,  0.,  0.],\n",
       "        [ 0.,  1.,  2.,  3.,  4.]],\n",
       "\n",
       "       [[ 1.,  1.,  1.,  1.,  1.],\n",
       "        [ 0.,  0.,  0.,  0.,  0.],\n",
       "        [ 5.,  6.,  7.,  8.,  9.]],\n",
       "\n",
       "       [[ 1.,  1.,  1.,  1.,  1.],\n",
       "        [ 0.,  0.,  0.,  0.,  0.],\n",
       "        [10., 11., 12., 13., 14.]],\n",
       "\n",
       "       [[ 1.,  1.,  1.,  1.,  1.],\n",
       "        [ 0.,  0.,  0.,  0.,  0.],\n",
       "        [15., 16., 17., 18., 19.]]])"
      ]
     },
     "execution_count": 226,
     "metadata": {},
     "output_type": "execute_result"
    }
   ],
   "source": [
    "np.stack([d1,d2,d3],axis = 1)"
   ]
  },
  {
   "cell_type": "code",
   "execution_count": 228,
   "id": "3820efc7-7db9-4388-b8ed-70b3941935e0",
   "metadata": {},
   "outputs": [
    {
     "data": {
      "text/plain": [
       "array([[[ 1.,  0.,  0.],\n",
       "        [ 1.,  0.,  1.],\n",
       "        [ 1.,  0.,  2.],\n",
       "        [ 1.,  0.,  3.],\n",
       "        [ 1.,  0.,  4.]],\n",
       "\n",
       "       [[ 1.,  0.,  5.],\n",
       "        [ 1.,  0.,  6.],\n",
       "        [ 1.,  0.,  7.],\n",
       "        [ 1.,  0.,  8.],\n",
       "        [ 1.,  0.,  9.]],\n",
       "\n",
       "       [[ 1.,  0., 10.],\n",
       "        [ 1.,  0., 11.],\n",
       "        [ 1.,  0., 12.],\n",
       "        [ 1.,  0., 13.],\n",
       "        [ 1.,  0., 14.]],\n",
       "\n",
       "       [[ 1.,  0., 15.],\n",
       "        [ 1.,  0., 16.],\n",
       "        [ 1.,  0., 17.],\n",
       "        [ 1.,  0., 18.],\n",
       "        [ 1.,  0., 19.]]])"
      ]
     },
     "execution_count": 228,
     "metadata": {},
     "output_type": "execute_result"
    }
   ],
   "source": [
    "np.stack([d1,d2,d3],axis = 2)"
   ]
  },
  {
   "cell_type": "code",
   "execution_count": 229,
   "id": "e20c2919-6a66-4e01-b5bb-885e413df8fe",
   "metadata": {},
   "outputs": [],
   "source": [
    "#r_메서드\n",
    "#기능은  hstack과 동일\n",
    "#hstack은 (), r_은 []"
   ]
  },
  {
   "cell_type": "code",
   "execution_count": 232,
   "id": "5bed040f-bbb1-4f50-b698-90a284c58590",
   "metadata": {},
   "outputs": [
    {
     "data": {
      "text/plain": [
       "array([[1, 4],\n",
       "       [2, 5],\n",
       "       [3, 6]])"
      ]
     },
     "execution_count": 232,
     "metadata": {},
     "output_type": "execute_result"
    }
   ],
   "source": [
    "#c_메서드\n",
    "#차원을 증가시킨 후 좌우 연결\n",
    "#1차원 연결하면 2차원\n",
    "\n",
    "np.c_[np.array([1,2,3]),np.array([4,5,6])]"
   ]
  },
  {
   "cell_type": "code",
   "execution_count": 236,
   "id": "37d80d3d-ab61-4fb3-8703-432b237b644d",
   "metadata": {},
   "outputs": [
    {
     "data": {
      "text/plain": [
       "array([[0, 1, 2, 0, 1, 2],\n",
       "       [3, 4, 5, 3, 4, 5]])"
      ]
     },
     "execution_count": 236,
     "metadata": {},
     "output_type": "execute_result"
    }
   ],
   "source": [
    "#tile \n",
    "#동일한 배열 반복해서 연결\n",
    "\n",
    "a =  np.array([[0,1,2],[3,4,5]])\n",
    "np.tile(a,2)"
   ]
  },
  {
   "cell_type": "code",
   "execution_count": 255,
   "id": "16964a40-74bd-49f7-9c27-61f11d4d44d1",
   "metadata": {},
   "outputs": [
    {
     "data": {
      "text/plain": [
       "array([[  0.,   0.,   0.,   1.,   1.],\n",
       "       [  0.,   0.,   0.,   1.,   1.],\n",
       "       [  0.,   0.,   0.,   1.,   1.],\n",
       "       [ 10.,  20.,  30.,  40.,  50.],\n",
       "       [ 60.,  70.,  80.,  90., 100.],\n",
       "       [110., 120., 130., 140., 150.],\n",
       "       [  0.,   0.,   0.,   1.,   1.],\n",
       "       [  0.,   0.,   0.,   1.,   1.],\n",
       "       [  0.,   0.,   0.,   1.,   1.],\n",
       "       [ 10.,  20.,  30.,  40.,  50.],\n",
       "       [ 60.,  70.,  80.,  90., 100.],\n",
       "       [110., 120., 130., 140., 150.]])"
      ]
     },
     "execution_count": 255,
     "metadata": {},
     "output_type": "execute_result"
    }
   ],
   "source": [
    "zero = np.zeros((3,3))\n",
    "one = np.ones((3,2))\n",
    "ten = np.arange(10,160,10)\n",
    "ten = ten.reshape(3,5)\n",
    "\n",
    "a = np.vstack([np.hstack([zero,one]),ten])\n",
    "np.tile(a,(2,1))"
   ]
  },
  {
   "cell_type": "code",
   "execution_count": 256,
   "id": "9339e6b1-3fe2-4293-8d56-89fddc438e40",
   "metadata": {},
   "outputs": [],
   "source": [
    "#벡터화 연산\n",
    "#사칙 연산 , 비교 연산, 논리 연산\n",
    "\n",
    "a = np.array([1,2,3,4])\n",
    "b = np.array([4,2,4,2])"
   ]
  },
  {
   "cell_type": "code",
   "execution_count": 257,
   "id": "74ab2be8-d70c-4d5a-9600-88644dc93bc1",
   "metadata": {},
   "outputs": [
    {
     "data": {
      "text/plain": [
       "array([False,  True, False, False])"
      ]
     },
     "execution_count": 257,
     "metadata": {},
     "output_type": "execute_result"
    }
   ],
   "source": [
    "a==b"
   ]
  },
  {
   "cell_type": "code",
   "execution_count": 258,
   "id": "60e2b209-e32b-44a2-bbe1-abf0a7e8bc34",
   "metadata": {},
   "outputs": [
    {
     "data": {
      "text/plain": [
       "array([False,  True, False,  True])"
      ]
     },
     "execution_count": 258,
     "metadata": {},
     "output_type": "execute_result"
    }
   ],
   "source": [
    "a>=b"
   ]
  },
  {
   "cell_type": "code",
   "execution_count": 259,
   "id": "0d02ad5e-ad5a-47ba-951d-30573c7d1d1f",
   "metadata": {},
   "outputs": [
    {
     "data": {
      "text/plain": [
       "False"
      ]
     },
     "execution_count": 259,
     "metadata": {},
     "output_type": "execute_result"
    }
   ],
   "source": [
    "#all()\n",
    "#모든 원소가 다 같은지 확인\n",
    "\n",
    "np.all(a==b)"
   ]
  },
  {
   "cell_type": "code",
   "execution_count": 266,
   "id": "9bc2b66a-dacd-4bde-ad4a-34afbbc501ef",
   "metadata": {},
   "outputs": [
    {
     "data": {
      "text/plain": [
       "array([[ 0,  1,  2,  3],\n",
       "       [ 4,  5,  6,  7],\n",
       "       [ 8,  9, 10, 11]])"
      ]
     },
     "execution_count": 266,
     "metadata": {},
     "output_type": "execute_result"
    }
   ],
   "source": [
    "#스칼라와 벡터/행렬의 곱\n",
    "\n",
    "y = np.arange(12).reshape(3,4)\n",
    "y"
   ]
  },
  {
   "cell_type": "code",
   "execution_count": 268,
   "id": "87823f1c-fd31-45de-8f1d-c8da9ec5306b",
   "metadata": {},
   "outputs": [
    {
     "data": {
      "text/plain": [
       "array([[   0,  100,  200,  300],\n",
       "       [ 400,  500,  600,  700],\n",
       "       [ 800,  900, 1000, 1100]])"
      ]
     },
     "execution_count": 268,
     "metadata": {},
     "output_type": "execute_result"
    }
   ],
   "source": [
    "100 * y"
   ]
  },
  {
   "cell_type": "code",
   "execution_count": 274,
   "id": "87c14eed-755e-43ac-8c7e-fb59bd327a8a",
   "metadata": {},
   "outputs": [],
   "source": [
    "#브로드캐스팅(broadcasting)\n",
    "#배열끼리 산술 연산은 두 배열의 shapes가 일치해야\n",
    "#모양이 다른 배열 간의 연산이 가능하도록 배열의 크기를 변환시켜줌\n",
    "#더 작은 배열이 더 큰 배열에 호환\n"
   ]
  },
  {
   "cell_type": "code",
   "execution_count": 279,
   "id": "f8ddf51a-a79b-43d1-9faf-ab2b4767f70f",
   "metadata": {},
   "outputs": [
    {
     "data": {
      "text/plain": [
       "array([2., 4., 6.])"
      ]
     },
     "execution_count": 279,
     "metadata": {},
     "output_type": "execute_result"
    }
   ],
   "source": [
    "#스칼라 곱 -> 적은 메모리 사용으로 더 효율적\n",
    "a = np.array([1.0,2.0,3.0])\n",
    "b = 2.0                 \n",
    "a*b           \n",
    "\n",
    "#브로드캐스팅 동작 구조\n",
    "a = np.array([1.0,2.0,3.0])\n",
    "b = np.array([2.0,2.0,2.0])   \n",
    "a*b    "
   ]
  },
  {
   "cell_type": "code",
   "execution_count": 281,
   "id": "5a5983b6-f4b6-4553-8e7c-7fbad59507d0",
   "metadata": {},
   "outputs": [],
   "source": [
    "#브로드캐스팅 가능한 경우\n",
    "#넘파이 배열의 shape을 우측 정렬 후 \n",
    "    #1. 차원 간의 숫자가 동일\n",
    "    #2. 차원 중 하나가 1인 경우"
   ]
  },
  {
   "cell_type": "code",
   "execution_count": 296,
   "id": "f3205d80-336f-46e7-a3f7-8f84c2c5a643",
   "metadata": {},
   "outputs": [],
   "source": [
    "#차원 축소 연산\n",
    "#행 하나의 원소들에 대한 평균을 구하면 행에 대해 하나의 숫자가 나옴\n",
    "#2차원 이상일 때는 axis 키워드 인수 사용\n",
    "\n",
    "#집계연산\n",
    "    #최대/최소 :min,max,argmin,argmax\n",
    "    #통계 :sum,mean,median,std,var\n",
    "    #불리언 :all,any\n",
    "    "
   ]
  },
  {
   "cell_type": "code",
   "execution_count": 297,
   "id": "ee16d08c-e49f-4256-8bad-40d5dd99348a",
   "metadata": {},
   "outputs": [
    {
     "data": {
      "text/plain": [
       "10"
      ]
     },
     "execution_count": 297,
     "metadata": {},
     "output_type": "execute_result"
    }
   ],
   "source": [
    "#sum\n",
    "\n",
    "x = np.array([1,2,3,4])\n",
    "x\n",
    "\n",
    "np.sum(x) #Numpy의 sum메서드\n",
    "x.sum()   #ndarray의 sum메서드"
   ]
  },
  {
   "cell_type": "code",
   "execution_count": 291,
   "id": "8430002e-be04-40af-ad65-cf7eda78c344",
   "metadata": {},
   "outputs": [
    {
     "data": {
      "text/plain": [
       "array([[ 0,  1,  2,  3],\n",
       "       [ 4,  5,  6,  7],\n",
       "       [ 8,  9, 10, 11]])"
      ]
     },
     "execution_count": 291,
     "metadata": {},
     "output_type": "execute_result"
    }
   ],
   "source": [
    "x = np.arange(12).reshape(3,-1)\n",
    "x\n"
   ]
  },
  {
   "cell_type": "code",
   "execution_count": 292,
   "id": "b88976d5-4c4f-42c1-a1a4-da6cc61ad995",
   "metadata": {},
   "outputs": [
    {
     "data": {
      "text/plain": [
       "array([12, 15, 18, 21])"
      ]
     },
     "execution_count": 292,
     "metadata": {},
     "output_type": "execute_result"
    }
   ],
   "source": [
    "x.sum(axis=0)"
   ]
  },
  {
   "cell_type": "code",
   "execution_count": 295,
   "id": "dd7259b7-aa78-48b3-87c6-d0500a922c93",
   "metadata": {},
   "outputs": [
    {
     "data": {
      "text/plain": [
       "array([ 6, 22, 38])"
      ]
     },
     "execution_count": 295,
     "metadata": {},
     "output_type": "execute_result"
    }
   ],
   "source": [
    "x.sum(axis=1)"
   ]
  },
  {
   "cell_type": "code",
   "execution_count": 303,
   "id": "db3b3ffb-10ac-4779-8aed-ca8a3679ecfe",
   "metadata": {},
   "outputs": [
    {
     "data": {
      "text/plain": [
       "array([[[ 0,  1],\n",
       "        [ 2,  3],\n",
       "        [ 4,  5],\n",
       "        [ 6,  7],\n",
       "        [ 8,  9]],\n",
       "\n",
       "       [[10, 11],\n",
       "        [12, 13],\n",
       "        [14, 15],\n",
       "        [16, 17],\n",
       "        [18, 19]]])"
      ]
     },
     "execution_count": 303,
     "metadata": {},
     "output_type": "execute_result"
    }
   ],
   "source": [
    "#min\n",
    "\n",
    "x = np.arange(20).reshape(2,5,-1)\n",
    "x\n"
   ]
  },
  {
   "cell_type": "code",
   "execution_count": 302,
   "id": "4cf1e4fa-9045-4e20-b8da-ab58e1c4a413",
   "metadata": {},
   "outputs": [
    {
     "data": {
      "text/plain": [
       "array([[0, 1],\n",
       "       [2, 3],\n",
       "       [4, 5],\n",
       "       [6, 7],\n",
       "       [8, 9]])"
      ]
     },
     "execution_count": 302,
     "metadata": {},
     "output_type": "execute_result"
    }
   ],
   "source": [
    "x.min(axis=0)"
   ]
  },
  {
   "cell_type": "code",
   "execution_count": 304,
   "id": "5e0eeeec-a18a-46fc-9c5d-48a1c4475c6d",
   "metadata": {},
   "outputs": [
    {
     "data": {
      "text/plain": [
       "array([[ 0,  1],\n",
       "       [10, 11]])"
      ]
     },
     "execution_count": 304,
     "metadata": {},
     "output_type": "execute_result"
    }
   ],
   "source": [
    "x.min(axis=1)"
   ]
  },
  {
   "cell_type": "code",
   "execution_count": 308,
   "id": "389bee7c-f50c-4b3e-ac71-7848f5329d22",
   "metadata": {},
   "outputs": [
    {
     "data": {
      "text/plain": [
       "array([[[ 0,  1],\n",
       "        [ 2,  3],\n",
       "        [ 4,  5],\n",
       "        [ 6,  7],\n",
       "        [ 8,  9]],\n",
       "\n",
       "       [[10, 11],\n",
       "        [12, 13],\n",
       "        [14, 15],\n",
       "        [16, 17],\n",
       "        [18, 19]]])"
      ]
     },
     "execution_count": 308,
     "metadata": {},
     "output_type": "execute_result"
    }
   ],
   "source": [
    "#argmin\n",
    "#제일 작은 값의 인덱스 반환\n",
    "x"
   ]
  },
  {
   "cell_type": "code",
   "execution_count": 310,
   "id": "be0a6d8b-09e7-48af-9f76-13acfc846eca",
   "metadata": {},
   "outputs": [
    {
     "data": {
      "text/plain": [
       "array([[0, 0],\n",
       "       [0, 0],\n",
       "       [0, 0],\n",
       "       [0, 0],\n",
       "       [0, 0]], dtype=int64)"
      ]
     },
     "execution_count": 310,
     "metadata": {},
     "output_type": "execute_result"
    }
   ],
   "source": [
    "x.argmin(axis=0)"
   ]
  },
  {
   "cell_type": "code",
   "execution_count": 311,
   "id": "3115fad6-9786-48ea-9b71-5669e2c322bc",
   "metadata": {},
   "outputs": [
    {
     "data": {
      "text/plain": [
       "array([[0, 0],\n",
       "       [0, 0]], dtype=int64)"
      ]
     },
     "execution_count": 311,
     "metadata": {},
     "output_type": "execute_result"
    }
   ],
   "source": [
    "x.argmin(axis=1)"
   ]
  },
  {
   "cell_type": "code",
   "execution_count": 312,
   "id": "7c1be8ce-f683-4eb9-94a4-4c7f7e653a8a",
   "metadata": {},
   "outputs": [
    {
     "data": {
      "text/plain": [
       "array([[ 8,  9],\n",
       "       [18, 19]])"
      ]
     },
     "execution_count": 312,
     "metadata": {},
     "output_type": "execute_result"
    }
   ],
   "source": [
    "#max\n",
    "x.max(axis=1)"
   ]
  },
  {
   "cell_type": "code",
   "execution_count": 314,
   "id": "2a0de8c3-91ce-4c9f-ac1c-63f678917628",
   "metadata": {},
   "outputs": [
    {
     "data": {
      "text/plain": [
       "array([[1, 1, 1, 1, 1],\n",
       "       [1, 1, 1, 1, 1]], dtype=int64)"
      ]
     },
     "execution_count": 314,
     "metadata": {},
     "output_type": "execute_result"
    }
   ],
   "source": [
    "#argmax\n",
    "x.argmax(axis=2)"
   ]
  },
  {
   "cell_type": "code",
   "execution_count": 325,
   "id": "67d30d18-c3a2-4bd9-86a5-f6654dcb472b",
   "metadata": {},
   "outputs": [
    {
     "data": {
      "text/plain": [
       "array([[ 6,  4,  8,  1],\n",
       "       [11,  3,  8, 10]])"
      ]
     },
     "execution_count": 325,
     "metadata": {},
     "output_type": "execute_result"
    }
   ],
   "source": [
    "m = np.array([[6,4,8,1],[11,3,8,10]])\n",
    "m\n"
   ]
  },
  {
   "cell_type": "code",
   "execution_count": 327,
   "id": "72cd4b1d-403d-4a77-96e6-3e0926c0e991",
   "metadata": {},
   "outputs": [
    {
     "data": {
      "text/plain": [
       "array([2, 0], dtype=int64)"
      ]
     },
     "execution_count": 327,
     "metadata": {},
     "output_type": "execute_result"
    }
   ],
   "source": [
    "m.argmax(axis=1)"
   ]
  },
  {
   "cell_type": "code",
   "execution_count": 328,
   "id": "fc1670f5-9d46-4d28-8aa2-ff8ac55be2c8",
   "metadata": {},
   "outputs": [],
   "source": [
    "#mean() : 평균\n",
    "#median : 중앙값\n",
    "#np.all() : 배열이 모두 True이면 True\n",
    "#np.any() : 하나라도 True 이면 True\n"
   ]
  },
  {
   "cell_type": "code",
   "execution_count": 333,
   "id": "1e444d01-aea6-4ae4-ab61-b8bf26b1006e",
   "metadata": {},
   "outputs": [],
   "source": [
    "a = np.array([1,2,3,2])\n",
    "b = np.array([2,2,3,2])\n",
    "c = np.array([6,4,4,5,])"
   ]
  },
  {
   "cell_type": "code",
   "execution_count": 334,
   "id": "23241be4-0e91-4625-a0c8-c14c278fd941",
   "metadata": {},
   "outputs": [
    {
     "data": {
      "text/plain": [
       "True"
      ]
     },
     "execution_count": 334,
     "metadata": {},
     "output_type": "execute_result"
    }
   ],
   "source": [
    "((a<=b) & (b<=c)).all()"
   ]
  },
  {
   "cell_type": "code",
   "execution_count": 330,
   "id": "1b06c192-1778-4b31-970b-a14a01cf3232",
   "metadata": {},
   "outputs": [
    {
     "data": {
      "text/plain": [
       "array([[0, 0, 0, ..., 0, 0, 0],\n",
       "       [0, 0, 0, ..., 0, 0, 0],\n",
       "       [0, 0, 0, ..., 0, 0, 0],\n",
       "       ...,\n",
       "       [0, 0, 0, ..., 0, 0, 0],\n",
       "       [0, 0, 0, ..., 0, 0, 0],\n",
       "       [0, 0, 0, ..., 0, 0, 0]], dtype=int64)"
      ]
     },
     "execution_count": 330,
     "metadata": {},
     "output_type": "execute_result"
    }
   ],
   "source": [
    "a = np.zeros((100,100),dtype=np.int64)\n",
    "a"
   ]
  },
  {
   "cell_type": "code",
   "execution_count": 331,
   "id": "6c273647-824b-4cda-bdd5-cc5c7851e98d",
   "metadata": {},
   "outputs": [
    {
     "data": {
      "text/plain": [
       "False"
      ]
     },
     "execution_count": 331,
     "metadata": {},
     "output_type": "execute_result"
    }
   ],
   "source": [
    "np.any(a != 0)"
   ]
  },
  {
   "cell_type": "code",
   "execution_count": 332,
   "id": "2b55f078-65c8-4657-88bd-4a0bc8417626",
   "metadata": {},
   "outputs": [
    {
     "data": {
      "text/plain": [
       "True"
      ]
     },
     "execution_count": 332,
     "metadata": {},
     "output_type": "execute_result"
    }
   ],
   "source": [
    "np.all(a==a)"
   ]
  },
  {
   "cell_type": "code",
   "execution_count": 340,
   "id": "22a8d08e-6817-45bf-8eb7-eff570ab4562",
   "metadata": {},
   "outputs": [
    {
     "data": {
      "text/plain": [
       "array([[1.1, 7.1, 8. , 2.1, 6.5, 7.2],\n",
       "       [2.7, 5.2, 3.3, 9. , 7.7, 2.8],\n",
       "       [0.7, 8.8, 4.2, 8.9, 4.3, 7.4],\n",
       "       [8.2, 1.1, 5.4, 2.9, 6.9, 0.2],\n",
       "       [7.4, 4.8, 2.7, 3.1, 2.8, 8.9]])"
      ]
     },
     "execution_count": 340,
     "metadata": {},
     "output_type": "execute_result"
    }
   ],
   "source": [
    "practice = np.array([[1.1, 7.1,8.0, 2.1, 6.5, 7.2],\n",
    "                    [2.7, 5.2, 3.3, 9.0, 7.7, 2.8],\n",
    "                    [0.7, 8.8, 4.2, 8.9, 4.3, 7.4],\n",
    "                    [8.2, 1.1, 5.4, 2.9, 6.9, 0.2],\n",
    "                    [7.4, 4.8, 2.7, 3.1, 2.8, 8.9]])\n",
    "practice"
   ]
  },
  {
   "cell_type": "code",
   "execution_count": 350,
   "id": "eff09bc1-c778-4f0d-b891-4946d24ebcb1",
   "metadata": {},
   "outputs": [
    {
     "data": {
      "text/plain": [
       "9.0"
      ]
     },
     "execution_count": 350,
     "metadata": {},
     "output_type": "execute_result"
    }
   ],
   "source": [
    "practice.max()   #전체의 최대값"
   ]
  },
  {
   "cell_type": "code",
   "execution_count": 351,
   "id": "ddc391d9-95b6-4f35-aebd-5cb672f87375",
   "metadata": {},
   "outputs": [
    {
     "data": {
      "text/plain": [
       "array([20.1, 27. , 23.6, 26. , 28.2, 26.5])"
      ]
     },
     "execution_count": 351,
     "metadata": {},
     "output_type": "execute_result"
    }
   ],
   "source": [
    "practice.sum(axis=0)  #행 간의 합"
   ]
  },
  {
   "cell_type": "code",
   "execution_count": 352,
   "id": "5a6f5e04-938b-479e-a948-c144f793c398",
   "metadata": {},
   "outputs": [
    {
     "data": {
      "text/plain": [
       "array([8.2, 8.8, 8. , 9. , 7.7, 8.9])"
      ]
     },
     "execution_count": 352,
     "metadata": {},
     "output_type": "execute_result"
    }
   ],
   "source": [
    "practice.max(axis=0)  #행 간의 최대값"
   ]
  },
  {
   "cell_type": "code",
   "execution_count": 353,
   "id": "252a476f-d3d7-4935-84e0-59e1cf9be7b8",
   "metadata": {},
   "outputs": [
    {
     "data": {
      "text/plain": [
       "array([5.33333333, 5.11666667, 5.71666667, 4.11666667, 4.95      ])"
      ]
     },
     "execution_count": 353,
     "metadata": {},
     "output_type": "execute_result"
    }
   ],
   "source": [
    "practice.mean(axis=1)  #열 간의 평균"
   ]
  },
  {
   "cell_type": "code",
   "execution_count": 354,
   "id": "c4db6118-6d55-435f-80cc-0ce7997bdac4",
   "metadata": {},
   "outputs": [
    {
     "data": {
      "text/plain": [
       "array([1.1, 2.7, 0.7, 0.2, 2.7])"
      ]
     },
     "execution_count": 354,
     "metadata": {},
     "output_type": "execute_result"
    }
   ],
   "source": [
    "practice.min(axis=1)  #열 간의 최소값"
   ]
  },
  {
   "cell_type": "code",
   "execution_count": 355,
   "id": "02289112-f8ce-4625-91c9-3515ab9643f1",
   "metadata": {},
   "outputs": [],
   "source": [
    "#정렬\n",
    "#np.sort()\n",
    "#axis=0 -> 행간 정렬 / axis=1 -> 열간 정렬\n",
    "#디폴트 값은 -1 -> 가장 안쪽(나중)의 차원\n",
    "\n",
    "#정렬은 자료의 자체가 변화하는 메서드이므로 주의!\n",
    "\n"
   ]
  },
  {
   "cell_type": "code",
   "execution_count": 376,
   "id": "a2fff078-2028-438a-9d7d-e3de932a9f06",
   "metadata": {},
   "outputs": [
    {
     "data": {
      "text/plain": [
       "array([2, 3, 1, 0], dtype=int64)"
      ]
     },
     "execution_count": 376,
     "metadata": {},
     "output_type": "execute_result"
    }
   ],
   "source": [
    "#np.argsort()\n",
    "#자료의 순서 , 정렬 X\n",
    "#오름차순 별로 자료의 인덱스 가져옴\n",
    "\n",
    "a = np.array([42,38,12,25])\n",
    "j = np.argsort(a)\n",
    "j"
   ]
  },
  {
   "cell_type": "code",
   "execution_count": 360,
   "id": "2fd37763-7801-49f8-9bcf-e3262527325c",
   "metadata": {},
   "outputs": [
    {
     "data": {
      "text/plain": [
       "array([12, 25, 38, 42])"
      ]
     },
     "execution_count": 360,
     "metadata": {},
     "output_type": "execute_result"
    }
   ],
   "source": [
    "#중요*\n",
    "\n",
    "a[j]   # argsort의 인덱스를 통해 배열 인덱싱"
   ]
  },
  {
   "cell_type": "code",
   "execution_count": 366,
   "id": "6e987798-f617-4ed9-8e01-0300c0e5aedb",
   "metadata": {},
   "outputs": [
    {
     "name": "stdout",
     "output_type": "stream",
     "text": [
      "[1 4 5]\n"
     ]
    }
   ],
   "source": [
    "#고급 인덱싱 - 인덱스 배열을 사용한 인덱싱\n",
    "\n",
    "a = np.array([[1,2],[3,4],[5,6]])\n",
    "a\n",
    "\n",
    "print(a[[0,1,2],[0,1,0]])   # [0,1,2] : 행에 대한 인덱스 / [0,1,0]: 열에 대한 인덱스\n"
   ]
  },
  {
   "cell_type": "code",
   "execution_count": 375,
   "id": "a3f65c4a-f88e-4ece-b0e1-c7042fa22227",
   "metadata": {},
   "outputs": [
    {
     "name": "stdout",
     "output_type": "stream",
     "text": [
      "[[1 2 1]\n",
      " [3 4 3]\n",
      " [5 6 5]]\n",
      "[[5 6 5]\n",
      " [3 4 3]\n",
      " [1 2 1]]\n"
     ]
    }
   ],
   "source": [
    "a = np.array([[1,2],[3,4],[5,6]])\n",
    "a\n",
    "\n",
    "print(a[:,[0,1,0]])   #a[0][0,1,0] = [1,2,1]\n",
    "                      #a[1][0,1,0] = [3,4,3]\n",
    "                      #a[2][0,1,0] = [5,6,5]\n",
    "        \n",
    "print(a[::-1,[0,1,0]]) #역순 슬라이싱 "
   ]
  },
  {
   "cell_type": "code",
   "execution_count": 410,
   "id": "7af7618d-d75a-4720-b8a8-1c6a84ecc956",
   "metadata": {},
   "outputs": [
    {
     "name": "stdout",
     "output_type": "stream",
     "text": [
      "[[  1   4   2   3]\n",
      " [ 46  71  99 100]\n",
      " [ 81 100  59  90]]\n"
     ]
    }
   ],
   "source": [
    "scores = np.array([[1,2,3,4],\n",
    "                   [46,99,100,71],\n",
    "                   [81,59,90,100]])\n",
    "\n",
    "eng_sort = np.argsort(scores[1])\n",
    "print(scores[:,eng_sort])"
   ]
  },
  {
   "cell_type": "code",
   "execution_count": 464,
   "id": "cec71272-1353-4fc0-a3ae-397da8ba2a43",
   "metadata": {},
   "outputs": [
    {
     "data": {
      "text/plain": [
       "array([ 18,   5,  10,  23,  19,  -8,  10,   0,   0,   5,   2,  15,   8,\n",
       "         2,   5,   4,  15,  -1,   4,  -7, -24,   7,   9,  -6,  23, -13])"
      ]
     },
     "execution_count": 464,
     "metadata": {},
     "output_type": "execute_result"
    }
   ],
   "source": [
    "#기술통계\n",
    "\n",
    "x = np.array([18,5,10,23,19,-8,10,0,0,5,2,15,8,\n",
    "              2,5,4,15,-1,4,-7,-24,7,9,-6,23,-13])\n",
    "x"
   ]
  },
  {
   "cell_type": "code",
   "execution_count": 413,
   "id": "69de5f51-5231-43b2-b48b-3edcf11f89e3",
   "metadata": {},
   "outputs": [
    {
     "data": {
      "text/plain": [
       "26"
      ]
     },
     "execution_count": 413,
     "metadata": {},
     "output_type": "execute_result"
    }
   ],
   "source": [
    "len(x)  #개수"
   ]
  },
  {
   "cell_type": "code",
   "execution_count": 416,
   "id": "4f8c26b7-c01a-45aa-9db2-a5d651a3226c",
   "metadata": {},
   "outputs": [
    {
     "data": {
      "text/plain": [
       "4.8076923076923075"
      ]
     },
     "execution_count": 416,
     "metadata": {},
     "output_type": "execute_result"
    }
   ],
   "source": [
    "np.mean(x)  #평균"
   ]
  },
  {
   "cell_type": "code",
   "execution_count": 418,
   "id": "545952b6-6655-4b7e-be4e-aee17093412e",
   "metadata": {},
   "outputs": [
    {
     "data": {
      "text/plain": [
       "115.23224852071006"
      ]
     },
     "execution_count": 418,
     "metadata": {},
     "output_type": "execute_result"
    }
   ],
   "source": [
    "np.var(x)   #표본 분산"
   ]
  },
  {
   "cell_type": "code",
   "execution_count": 420,
   "id": "f91c9fd4-f5cb-4ae6-86c4-6c02bdc41652",
   "metadata": {},
   "outputs": [
    {
     "data": {
      "text/plain": [
       "10.734628476137871"
      ]
     },
     "execution_count": 420,
     "metadata": {},
     "output_type": "execute_result"
    }
   ],
   "source": [
    "np.std(x)   #표본 표준편차"
   ]
  },
  {
   "cell_type": "code",
   "execution_count": 421,
   "id": "9f1124cc-d2de-4172-98a1-456add534fb7",
   "metadata": {},
   "outputs": [
    {
     "data": {
      "text/plain": [
       "23"
      ]
     },
     "execution_count": 421,
     "metadata": {},
     "output_type": "execute_result"
    }
   ],
   "source": [
    "np.max(x)"
   ]
  },
  {
   "cell_type": "code",
   "execution_count": 422,
   "id": "06f78f35-3623-41f2-9c42-f055c1b8cdc8",
   "metadata": {},
   "outputs": [
    {
     "data": {
      "text/plain": [
       "-24"
      ]
     },
     "execution_count": 422,
     "metadata": {},
     "output_type": "execute_result"
    }
   ],
   "source": [
    "np.min(x)"
   ]
  },
  {
   "cell_type": "code",
   "execution_count": 423,
   "id": "b02234b4-d5e9-48d7-b1f0-afb4fcf22d2c",
   "metadata": {},
   "outputs": [
    {
     "data": {
      "text/plain": [
       "5.0"
      ]
     },
     "execution_count": 423,
     "metadata": {},
     "output_type": "execute_result"
    }
   ],
   "source": [
    "np.median(x)"
   ]
  },
  {
   "cell_type": "code",
   "execution_count": 457,
   "id": "0e34faeb-cfe3-4c6e-9be5-34de7d7c97ba",
   "metadata": {},
   "outputs": [],
   "source": [
    "#사분위수\n",
    "#데이터를 4구간으로 나눠서 각각 1/4,2/4,3/4 위치에 있는 수\n",
    "#1사분위수 - 하위 25% / 2사분위수 - 중앙값 / 3사분위수 - 하위 75%"
   ]
  },
  {
   "cell_type": "code",
   "execution_count": 466,
   "id": "d3b28a27-f93d-48e6-8e87-69b81c09c9f2",
   "metadata": {},
   "outputs": [
    {
     "data": {
      "text/plain": [
       "10.0"
      ]
     },
     "execution_count": 466,
     "metadata": {},
     "output_type": "execute_result"
    }
   ],
   "source": [
    "np.percentile(x,25)  #1사분위 수\n",
    "np.percentile(x,50)  #2사분위 수\n",
    "np.percentile(x,75)  #3사분위 수"
   ]
  },
  {
   "cell_type": "code",
   "execution_count": null,
   "id": "a9c432a0-b4c1-44da-80b0-8f8fdf43b6d4",
   "metadata": {},
   "outputs": [],
   "source": [
    "np.percentile(x,50)"
   ]
  },
  {
   "cell_type": "code",
   "execution_count": 425,
   "id": "04bbc868-219d-4a93-9e58-daf157aecc96",
   "metadata": {},
   "outputs": [],
   "source": [
    "np.random.seed(0)"
   ]
  },
  {
   "cell_type": "code",
   "execution_count": 426,
   "id": "e67d05d1-d3c8-46e7-899b-3363fe0badda",
   "metadata": {},
   "outputs": [
    {
     "data": {
      "text/plain": [
       "array([0.5488135 , 0.71518937, 0.60276338, 0.54488318, 0.4236548 ])"
      ]
     },
     "execution_count": 426,
     "metadata": {},
     "output_type": "execute_result"
    }
   ],
   "source": [
    "np.random.rand(5)"
   ]
  },
  {
   "cell_type": "code",
   "execution_count": 427,
   "id": "2e1ac11a-519e-4c68-bc58-40504c3fd80e",
   "metadata": {},
   "outputs": [
    {
     "data": {
      "text/plain": [
       "array([0.64589411, 0.43758721, 0.891773  , 0.96366276, 0.38344152,\n",
       "       0.79172504, 0.52889492, 0.56804456, 0.92559664, 0.07103606])"
      ]
     },
     "execution_count": 427,
     "metadata": {},
     "output_type": "execute_result"
    }
   ],
   "source": [
    "np.random.rand(10)"
   ]
  },
  {
   "cell_type": "code",
   "execution_count": 428,
   "id": "7baba348-75b0-4104-9a0a-672361bfd9e6",
   "metadata": {},
   "outputs": [
    {
     "data": {
      "text/plain": [
       "array([0.0871293 , 0.0202184 , 0.83261985, 0.77815675, 0.87001215,\n",
       "       0.97861834, 0.79915856, 0.46147936, 0.78052918, 0.11827443])"
      ]
     },
     "execution_count": 428,
     "metadata": {},
     "output_type": "execute_result"
    }
   ],
   "source": [
    "np.random.rand(10)"
   ]
  },
  {
   "cell_type": "code",
   "execution_count": 435,
   "id": "8e72859e-b384-4693-946b-479d86eff6ad",
   "metadata": {},
   "outputs": [
    {
     "data": {
      "text/plain": [
       "array([5, 2, 3, 4, 1, 0, 9, 8, 7, 6])"
      ]
     },
     "execution_count": 435,
     "metadata": {},
     "output_type": "execute_result"
    }
   ],
   "source": [
    "#데이터 순서 바꾸기\n",
    "#shuffle()\n",
    "#자체 변환 하마수로 한번 사용하면 변수의 값이 바뀌기 때문에 주의!\n",
    "\n",
    "x = np.arange(10)\n",
    "x\n",
    "np.random.shuffle(x)\n",
    "x"
   ]
  },
  {
   "cell_type": "code",
   "execution_count": 456,
   "id": "9caf87f2-3786-4efc-9a7c-541eb5da5b3c",
   "metadata": {},
   "outputs": [
    {
     "data": {
      "text/plain": [
       "array([3, 3, 3, 2, 2, 3, 3, 3, 3, 2])"
      ]
     },
     "execution_count": 456,
     "metadata": {},
     "output_type": "execute_result"
    }
   ],
   "source": [
    "#데이터 샘플링\n",
    "#모집단에서 표본을 무작위 선택 , 표본선택 혹은 샘플링\n",
    "#numpy.random.choice(a, size=None, replace=True, p=None)\n",
    "    # replace : True이면 복원추출\n",
    "    # p : 배열. 각 데이터가 선택될 수 있는 확률.\n",
    "\n",
    "np.random.choice(5,5,replace =False)  #shuffle의 명령 동일\n",
    "np.random.choice(5,3,replace = False) #3개만 선택\n",
    "np.random.choice(5,10)  #반복해서 10개 선택\n",
    "np.random.choice(5,10,p=[0.1,0,0.3,0.6,0]) #선택 확률 다르게 해서 10개 선택"
   ]
  },
  {
   "cell_type": "code",
   "execution_count": 438,
   "id": "4ca61b22-810b-423e-979a-6b9a861b558a",
   "metadata": {},
   "outputs": [],
   "source": [
    "#난수 생성\n",
    "#Numpy의 random패키지\n",
    "    #rand : 0부터 1사이의 균일분포\n",
    "    #randn : 표준 정규 분포\n",
    "    #randint : 균일 분포의 정수 난수"
   ]
  },
  {
   "cell_type": "code",
   "execution_count": 439,
   "id": "e157fa13-97a6-4bea-9050-f91127113949",
   "metadata": {},
   "outputs": [
    {
     "data": {
      "text/plain": [
       "array([0.33739616, 0.64817187, 0.36824154, 0.95715516, 0.14035078,\n",
       "       0.87008726, 0.47360805, 0.80091075, 0.52047748, 0.67887953])"
      ]
     },
     "execution_count": 439,
     "metadata": {},
     "output_type": "execute_result"
    }
   ],
   "source": [
    "np.random.rand(10)"
   ]
  },
  {
   "cell_type": "code",
   "execution_count": 441,
   "id": "c2202f72-e84c-4798-b84e-bc96ab150be6",
   "metadata": {},
   "outputs": [
    {
     "data": {
      "text/plain": [
       "array([[0.44994999, 0.61306346, 0.90234858, 0.09928035, 0.96980907],\n",
       "       [0.65314004, 0.17090959, 0.35815217, 0.75068614, 0.60783067],\n",
       "       [0.32504723, 0.03842543, 0.63427406, 0.95894927, 0.65279032]])"
      ]
     },
     "execution_count": 441,
     "metadata": {},
     "output_type": "execute_result"
    }
   ],
   "source": [
    "np.random.rand(3,5)  #shape 3 X 5"
   ]
  },
  {
   "cell_type": "code",
   "execution_count": 443,
   "id": "ca673e68-b31f-43ce-b77c-de1f7d8245f0",
   "metadata": {},
   "outputs": [
    {
     "data": {
      "text/plain": [
       "array([[ 0.02686925,  1.05583713, -0.07318342, -0.66572066],\n",
       "       [-0.04411241, -0.36326702, -0.01234481,  0.04212149],\n",
       "       [ 1.95929589, -0.1984257 ,  0.33053441, -1.43582841]])"
      ]
     },
     "execution_count": 443,
     "metadata": {},
     "output_type": "execute_result"
    }
   ],
   "source": [
    "#randn()\n",
    "#평균이 0이고 표준편차가 1인 표준 정규 분포를 따르는 난수\n",
    "\n",
    "np.random.randn(3,4)"
   ]
  },
  {
   "cell_type": "code",
   "execution_count": 451,
   "id": "2a2a6fdd-ff60-4d68-a125-8b3d1cade0e1",
   "metadata": {},
   "outputs": [
    {
     "data": {
      "text/plain": [
       "array([[19, 14, 14, 16, 14],\n",
       "       [14, 13, 14, 14, 18],\n",
       "       [14, 13, 17, 15, 15]])"
      ]
     },
     "execution_count": 451,
     "metadata": {},
     "output_type": "execute_result"
    }
   ],
   "source": [
    "#randint()\n",
    "#numpy.random.randint(low, high=None, size=None)\n",
    "    #high는 범위에 포함 X / 입력하지 않으면 0~low사이의 숫자 / 입력하면 low~high사이의 숫자\n",
    "    #size는 난수의 개수\n",
    "    \n",
    "np.random.randint(10,20,size=(3,5))\n"
   ]
  },
  {
   "cell_type": "code",
   "execution_count": 7,
   "id": "3492bc6e-befc-4c1a-969e-458bf4a9dfcc",
   "metadata": {},
   "outputs": [
    {
     "data": {
      "text/plain": [
       "0.56"
      ]
     },
     "execution_count": 7,
     "metadata": {},
     "output_type": "execute_result"
    }
   ],
   "source": [
    "#연습문제\n",
    "\n",
    "#동전을 100번 던진 결과를 난수 발생 , 앞면:1 , 뒷면:0\n",
    "#이때 앞면이 나올 확률\n",
    "\n",
    "np.random.seed(0)\n",
    "r = np.random.randint(0,2,size=100)\n",
    "sum(r)/len(r)"
   ]
  },
  {
   "cell_type": "code",
   "execution_count": 6,
   "id": "84b5e993-3bf2-42d4-91a7-ac47337abcb1",
   "metadata": {},
   "outputs": [
    {
     "data": {
      "text/plain": [
       "3.42"
      ]
     },
     "execution_count": 6,
     "metadata": {},
     "output_type": "execute_result"
    }
   ],
   "source": [
    "#주사위를 100번 던져서 나오는 숫자를 난수 생성\n",
    "#그 숫자들의 평균\n",
    "\n",
    "np.random.seed(0)\n",
    "a = np.random.randint(1,7,100)\n",
    "a.mean()"
   ]
  },
  {
   "cell_type": "code",
   "execution_count": 468,
   "id": "823350bf-bcf2-4e94-8ca5-140dead8b909",
   "metadata": {},
   "outputs": [
    {
     "data": {
      "text/plain": [
       "array([ 2, 11, 34])"
      ]
     },
     "execution_count": 468,
     "metadata": {},
     "output_type": "execute_result"
    }
   ],
   "source": [
    "#정수 데이터 카운팅\n",
    "#데이터에서 중복되지 않는 값의 리스트 출력\n",
    "\n",
    "np.unique([11,11,2,2,34,34])"
   ]
  },
  {
   "cell_type": "code",
   "execution_count": 475,
   "id": "aef412c0-97f3-4ecb-b44a-c92efb7813a1",
   "metadata": {},
   "outputs": [
    {
     "data": {
      "text/plain": [
       "array(['a', 'b', 'c'], dtype='<U1')"
      ]
     },
     "execution_count": 475,
     "metadata": {},
     "output_type": "execute_result"
    }
   ],
   "source": [
    "a = np.array(['a','b','b','c','a'])\n",
    "index, count = np.unique(a,return_counts=True)\n",
    "index"
   ]
  },
  {
   "cell_type": "code",
   "execution_count": 476,
   "id": "b9223409-4680-492e-a490-52f587c50a69",
   "metadata": {},
   "outputs": [
    {
     "data": {
      "text/plain": [
       "array([2, 2, 1], dtype=int64)"
      ]
     },
     "execution_count": 476,
     "metadata": {},
     "output_type": "execute_result"
    }
   ],
   "source": [
    "count"
   ]
  },
  {
   "cell_type": "code",
   "execution_count": 18,
   "id": "c8ff5dea-7ac3-41c7-b89c-d8d3f0e81eeb",
   "metadata": {},
   "outputs": [
    {
     "data": {
      "text/plain": [
       "array([[ 8, 10, 12],\n",
       "       [14, 16, 18]])"
      ]
     },
     "execution_count": 18,
     "metadata": {},
     "output_type": "execute_result"
    }
   ],
   "source": [
    "np1 = np.array([[1,2,3],[4,5,6]])\n",
    "np2 = np.array([[7,8,9],[10,11,12]])\n",
    "\n",
    "np1+np2\n"
   ]
  },
  {
   "cell_type": "code",
   "execution_count": 12,
   "id": "5c1e3671-1bf5-4133-b868-d32fc9dc3090",
   "metadata": {},
   "outputs": [
    {
     "data": {
      "text/plain": [
       "array([ 3,  6,  9, 12, 15, 18, 21, 24, 27])"
      ]
     },
     "execution_count": 12,
     "metadata": {},
     "output_type": "execute_result"
    }
   ],
   "source": [
    "#연습문제 - \n",
    "a  = np.arange(1,10)\n",
    "a * 3"
   ]
  },
  {
   "cell_type": "code",
   "execution_count": 45,
   "id": "d02b17b2-f8cd-4a29-9078-a5cfa4de55f0",
   "metadata": {},
   "outputs": [
    {
     "data": {
      "text/plain": [
       "array([0., 0., 0., 0., 1., 0., 0., 0., 0., 0.])"
      ]
     },
     "execution_count": 45,
     "metadata": {},
     "output_type": "execute_result"
    }
   ],
   "source": [
    "#연습문제 \n",
    "#5번째 숫자만 1\n",
    "\n",
    "a = np.zeros(10)\n",
    "a[4] = 1\n",
    "a"
   ]
  },
  {
   "cell_type": "code",
   "execution_count": 44,
   "id": "28bb3e76-90bd-40c4-bef8-58bb45b1000b",
   "metadata": {},
   "outputs": [
    {
     "data": {
      "text/plain": [
       "array([49, 48, 47, 46, 45, 44, 43, 42, 41, 40, 39, 38, 37, 36, 35, 34, 33,\n",
       "       32, 31, 30, 29, 28, 27, 26, 25, 24, 23, 22, 21, 20, 19, 18, 17, 16,\n",
       "       15, 14, 13, 12, 11, 10,  9,  8,  7,  6,  5,  4,  3,  2,  1,  0])"
      ]
     },
     "execution_count": 44,
     "metadata": {},
     "output_type": "execute_result"
    }
   ],
   "source": [
    "#연습문제\n",
    "#역순\n",
    "\n",
    "b = np.arange(50)\n",
    "b[::-1]"
   ]
  },
  {
   "cell_type": "code",
   "execution_count": 46,
   "id": "47644807-db2e-4c9d-a534-1217cc99a9df",
   "metadata": {},
   "outputs": [
    {
     "data": {
      "text/plain": [
       "array([[['', '', ''],\n",
       "        ['', '', ''],\n",
       "        ['', '', '']],\n",
       "\n",
       "       [['', '', ''],\n",
       "        ['', '', ''],\n",
       "        ['', '', '']],\n",
       "\n",
       "       [['', '', ''],\n",
       "        ['', '', ''],\n",
       "        ['', '', '']]], dtype='<U10')"
      ]
     },
     "execution_count": 46,
     "metadata": {},
     "output_type": "execute_result"
    }
   ],
   "source": [
    "#연습문제\n",
    "#빈 문자열을 갖는 shape이 (3,3,3)이고 type이 U10인 배열 생성\n",
    "\n",
    "a = np.zeros((3,3,3),dtype = '<U10')\n",
    "a"
   ]
  },
  {
   "cell_type": "code",
   "execution_count": 51,
   "id": "a7dd3f4f-899e-4a99-8cb4-92c71c67e5b5",
   "metadata": {},
   "outputs": [
    {
     "data": {
      "text/plain": [
       "array([[['playdata', 'playdata', 'playdata'],\n",
       "        ['playdata', 'playdata', 'playdata'],\n",
       "        ['playdata', 'playdata', 'playdata']],\n",
       "\n",
       "       [['playdata', 'playdata', 'playdata'],\n",
       "        ['playdata', 'playdata', 'playdata'],\n",
       "        ['playdata', 'playdata', 'playdata']],\n",
       "\n",
       "       [['playdata', 'playdata', 'playdata'],\n",
       "        ['playdata', 'playdata', 'playdata'],\n",
       "        ['playdata', 'playdata', 'playdata']]], dtype='<U8')"
      ]
     },
     "execution_count": 51,
     "metadata": {},
     "output_type": "execute_result"
    }
   ],
   "source": [
    "#np.full\n",
    "#하나의 특정 값으로 배열을 채울때\n",
    "\n",
    "a = np.full((3,3,3),'playdata')\n",
    "a"
   ]
  },
  {
   "cell_type": "code",
   "execution_count": 57,
   "id": "0826e1f2-f1ce-45ae-950e-9827d44c9ae4",
   "metadata": {},
   "outputs": [
    {
     "data": {
      "text/plain": [
       "array([[[ 2,  4,  6,  8, 10],\n",
       "        [12, 14, 16, 18, 20]],\n",
       "\n",
       "       [[22, 24, 26, 28, 30],\n",
       "        [32, 34, 36, 38, 40]]])"
      ]
     },
     "execution_count": 57,
     "metadata": {},
     "output_type": "execute_result"
    }
   ],
   "source": [
    "np.arange(2,41,2).reshape(2,2,5)"
   ]
  },
  {
   "cell_type": "code",
   "execution_count": 61,
   "id": "f3bec757-5e70-42f3-a983-ccbf9b7a8315",
   "metadata": {},
   "outputs": [
    {
     "data": {
      "text/plain": [
       "array([[1, 0, 0, 0],\n",
       "       [0, 1, 0, 0],\n",
       "       [0, 0, 1, 0],\n",
       "       [0, 0, 0, 1]], dtype=int32)"
      ]
     },
     "execution_count": 61,
     "metadata": {},
     "output_type": "execute_result"
    }
   ],
   "source": [
    "#단위 행렬 (=항등행렬)\n",
    "#주대각선의 원소가 모두 1이고 나머지는 모두 0인 정사각행렬\n",
    "#np.eye(n)\n",
    "\n",
    "np.eye(4,dtype='i')"
   ]
  },
  {
   "cell_type": "code",
   "execution_count": 81,
   "id": "d4a5310c-d314-4384-871a-6d03e2ea5460",
   "metadata": {},
   "outputs": [
    {
     "data": {
      "text/plain": [
       "array([[False,  True,  True],\n",
       "       [False,  True,  True],\n",
       "       [ True,  True,  True]])"
      ]
     },
     "execution_count": 81,
     "metadata": {},
     "output_type": "execute_result"
    }
   ],
   "source": [
    "#데이터 타입 변경\n",
    "#astype(dtype='')  / dtype 필수\n",
    "\n",
    "np.random.seed(0)\n",
    "B = np.random.randint(0,2,9)\n",
    "B.astype(dtype= 'bool').reshape(3,3)    #bool대신에 ? 사용가능\n"
   ]
  },
  {
   "cell_type": "code",
   "execution_count": 88,
   "id": "dc0f081f-3c06-4ea5-950d-c9e61e0dc32e",
   "metadata": {},
   "outputs": [
    {
     "data": {
      "text/plain": [
       "array([5, 7, 6, 5, 4, 6, 4, 8, 9, 3])"
      ]
     },
     "execution_count": 88,
     "metadata": {},
     "output_type": "execute_result"
    }
   ],
   "source": [
    "np.random.seed(0)\n",
    "f = np.random.rand(10) * 10 \n",
    "f.astype('int')"
   ]
  },
  {
   "cell_type": "code",
   "execution_count": 99,
   "id": "2ec1685e-df8f-4569-9f94-a9e7ffda8229",
   "metadata": {},
   "outputs": [
    {
     "data": {
      "text/plain": [
       "array([[1., 1., 1., 1., 1., 1., 1., 1., 1., 1.],\n",
       "       [1., 0., 0., 0., 0., 0., 0., 0., 0., 1.],\n",
       "       [1., 0., 0., 0., 0., 0., 0., 0., 0., 1.],\n",
       "       [1., 0., 0., 0., 0., 0., 0., 0., 0., 1.],\n",
       "       [1., 0., 0., 0., 0., 0., 0., 0., 0., 1.],\n",
       "       [1., 0., 0., 0., 0., 0., 0., 0., 0., 1.],\n",
       "       [1., 0., 0., 0., 0., 0., 0., 0., 0., 1.],\n",
       "       [1., 0., 0., 0., 0., 0., 0., 0., 0., 1.],\n",
       "       [1., 0., 0., 0., 0., 0., 0., 0., 0., 1.],\n",
       "       [1., 1., 1., 1., 1., 1., 1., 1., 1., 1.]])"
      ]
     },
     "execution_count": 99,
     "metadata": {},
     "output_type": "execute_result"
    }
   ],
   "source": [
    "f = np.ones((10,10))\n",
    "f[1:-1,1:-1] = 0\n",
    "f"
   ]
  },
  {
   "cell_type": "code",
   "execution_count": 121,
   "id": "65492a3a-8f86-4ab7-bf60-33a80d28c78d",
   "metadata": {},
   "outputs": [
    {
     "data": {
      "text/plain": [
       "array([[0., 0., 0., 0., 0., 0., 0., 0., 0., 0.],\n",
       "       [0., 1., 1., 1., 1., 1., 1., 1., 1., 0.],\n",
       "       [0., 1., 1., 1., 1., 1., 1., 1., 1., 0.],\n",
       "       [0., 1., 1., 1., 1., 1., 1., 1., 1., 0.],\n",
       "       [0., 1., 1., 1., 1., 1., 1., 1., 1., 0.],\n",
       "       [0., 1., 1., 1., 1., 1., 1., 1., 1., 0.],\n",
       "       [0., 1., 1., 1., 1., 1., 1., 1., 1., 0.],\n",
       "       [0., 1., 1., 1., 1., 1., 1., 1., 1., 0.],\n",
       "       [0., 1., 1., 1., 1., 1., 1., 1., 1., 0.],\n",
       "       [0., 0., 0., 0., 0., 0., 0., 0., 0., 0.]])"
      ]
     },
     "execution_count": 121,
     "metadata": {},
     "output_type": "execute_result"
    }
   ],
   "source": [
    "f = np.ones((10,10))\n",
    "f[:,[0,-1]]=0\n",
    "f[[0,-1],:]=0\n",
    "f"
   ]
  },
  {
   "cell_type": "code",
   "execution_count": 144,
   "id": "d22ae2a5-42e2-4567-be57-24a226f07a28",
   "metadata": {},
   "outputs": [
    {
     "data": {
      "text/plain": [
       "array([[1., 0., 1., 0., 1., 0., 1., 0.],\n",
       "       [0., 1., 0., 1., 0., 1., 0., 1.],\n",
       "       [1., 0., 1., 0., 1., 0., 1., 0.],\n",
       "       [0., 1., 0., 1., 0., 1., 0., 1.],\n",
       "       [1., 0., 1., 0., 1., 0., 1., 0.],\n",
       "       [0., 1., 0., 1., 0., 1., 0., 1.],\n",
       "       [1., 0., 1., 0., 1., 0., 1., 0.],\n",
       "       [0., 1., 0., 1., 0., 1., 0., 1.]])"
      ]
     },
     "execution_count": 144,
     "metadata": {},
     "output_type": "execute_result"
    }
   ],
   "source": [
    "#\n",
    "\n",
    "z=np.ones((8,8))\n",
    "z[1::2,::2] =0 \n",
    "z[::2,1::2]=0\n",
    "z"
   ]
  },
  {
   "cell_type": "code",
   "execution_count": 150,
   "id": "54982c18-6499-4226-b827-f9a246564064",
   "metadata": {},
   "outputs": [
    {
     "data": {
      "text/plain": [
       "array([[1., 0., 1., 0., 1., 0., 1., 0.],\n",
       "       [0., 1., 0., 1., 0., 1., 0., 1.],\n",
       "       [1., 0., 1., 0., 1., 0., 1., 0.],\n",
       "       [0., 1., 0., 1., 0., 1., 0., 1.],\n",
       "       [1., 0., 1., 0., 1., 0., 1., 0.],\n",
       "       [0., 1., 0., 1., 0., 1., 0., 1.],\n",
       "       [1., 0., 1., 0., 1., 0., 1., 0.],\n",
       "       [0., 1., 0., 1., 0., 1., 0., 1.]])"
      ]
     },
     "execution_count": 150,
     "metadata": {},
     "output_type": "execute_result"
    }
   ],
   "source": [
    "np.tile(np.eye(2),(4,4))"
   ]
  },
  {
   "cell_type": "code",
   "execution_count": 169,
   "id": "6fb0bce8-b231-40d6-ad2a-1535c1a125a6",
   "metadata": {},
   "outputs": [
    {
     "name": "stdout",
     "output_type": "stream",
     "text": [
      "[ 0  1  2  3 -4 -5 -6  7  8  9 10]\n"
     ]
    }
   ],
   "source": [
    "#boolean indexing\n",
    "#같은 shape과 len의 boolean type의 값을 갖는 ndarray로 인덱싱\n",
    "\n",
    "v = np.arange(0,11)\n",
    "neg = np.array([True if i>3 and i<7 else False for i in range(0,11)])\n",
    "v[neg] = v[neg] * -1\n",
    "v\n",
    "\n",
    "#강사님\n",
    "a = np.arange(11)\n",
    "a[(3<a) & (7>a)] *= -1\n",
    "print(a)"
   ]
  },
  {
   "cell_type": "code",
   "execution_count": 172,
   "id": "a88062bf-0f4b-45d0-bc24-5bf1ba867c70",
   "metadata": {},
   "outputs": [
    {
     "data": {
      "text/plain": [
       "1683"
      ]
     },
     "execution_count": 172,
     "metadata": {},
     "output_type": "execute_result"
    }
   ],
   "source": [
    "#1부터 100까지의 3의 배수를 갖는 1차원 배열 생성 후 전체의 합\n",
    "\n",
    "a = np.arange(3,101,3)\n",
    "a.sum()"
   ]
  },
  {
   "cell_type": "code",
   "execution_count": 180,
   "id": "cd558176-dca1-46f5-97c0-650fc8bc23f3",
   "metadata": {},
   "outputs": [
    {
     "data": {
      "text/plain": [
       "array([0.1, 0.2, 0.3, 0.4, 0.5, 0.6, 0.7, 0.8, 0.9])"
      ]
     },
     "execution_count": 180,
     "metadata": {},
     "output_type": "execute_result"
    }
   ],
   "source": [
    "np.linspace(0.1,0.9,9)"
   ]
  },
  {
   "cell_type": "code",
   "execution_count": 3,
   "id": "aa57f2a7-dece-495c-b869-7ad79845663d",
   "metadata": {},
   "outputs": [
    {
     "name": "stdin",
     "output_type": "stream",
     "text": [
      "로또 몇개 드릴까요? 2\n"
     ]
    },
    {
     "data": {
      "text/plain": [
       "[array([ 8, 16, 23, 27, 36, 38]), array([10, 18, 19, 30, 37, 41])]"
      ]
     },
     "metadata": {},
     "output_type": "display_data"
    }
   ],
   "source": [
    "import numpy as np\n",
    "#로또 번호 생성기\n",
    "#자연수 이외의 값을 입력하면 다시 입력대기\n",
    "#로또 번호는 1차원의 ndarray의 형태로 오름차순 정렬\n",
    "\n",
    "while True :\n",
    "    try: \n",
    "        count = int(input('로또 몇개 드릴까요?'))\n",
    "        if count <= 0:\n",
    "            raise Error\n",
    "        numbers = np.arange(1,46)\n",
    "        lottos = [np.sort(np.random.choice(numbers,6,replace=False)) for _ in range(count)]\n",
    "        display(lottos)\n",
    "        break\n",
    "    except:\n",
    "        print('자연수만 입력해주세요.')"
   ]
  },
  {
   "cell_type": "code",
   "execution_count": 34,
   "id": "8b748635-7d34-4f78-a672-0ec60c199309",
   "metadata": {},
   "outputs": [
    {
     "data": {
      "text/plain": [
       "8"
      ]
     },
     "execution_count": 34,
     "metadata": {},
     "output_type": "execute_result"
    }
   ],
   "source": [
    "#서버의 응답시간 데이터\n",
    "#200ms를 넘기는 값의 개수 \n",
    "\n",
    "resp_time = np. array([158,  85, 205,  24,  42, 175, 188, 149, 153, 171, 137,  55, 108,\n",
    "                       199, 177, 209, 218,  76, 103, 189, 110, 192, 136, 119,   4, 102,\n",
    "                       177, 212, 110,  37, 163,  32,  77,  22, 125, 184,  46, 139,  72,\n",
    "                       168, 133, 209, 148,  47, 102,  65, 160,  56,  11,  96, 169, 118,\n",
    "                        55, 135, 217,  49, 100,  85, 179,  15, 139, 199, 124, 142,  15,\n",
    "                        49, 168, 171, 168, 177, 147,  23, 199,  26,  51,  42,  90, 128,\n",
    "                       186, 169, 129,  70, 198, 111,  81, 150,  17, 177, 201,  10,  75,\n",
    "                       199,  55, 151, 183, 152, 119, 193, 110, 204])\n",
    "\n",
    "\n",
    "len(resp_time[resp_time > 200])\n",
    "\n",
    "#강사님\n",
    "(resp_time > 200).sum()"
   ]
  },
  {
   "cell_type": "code",
   "execution_count": 36,
   "id": "cbe0a59a-fe7d-459c-b158-822c54247828",
   "metadata": {},
   "outputs": [
    {
     "name": "stdout",
     "output_type": "stream",
     "text": [
      "71.5\n",
      "131.0\n",
      "175.5\n",
      "1분위(25%) 값 : 71.5ms\n",
      "2분위(50%) 값 : 131.0ms\n",
      "3분위(75%) 값 : 175.5ms\n"
     ]
    }
   ],
   "source": [
    "#사분위수 구하기\n",
    "\n",
    "print(np.percentile(resp_time,25))\n",
    "print(np.percentile(resp_time,50))\n",
    "print(np.percentile(resp_time,75))\n",
    "\n",
    "#강사님\n",
    "for i,v in enumerate(range(25,76,25)):\n",
    "    print(f'{i+1}분위({v}%) 값 : {np.percentile(resp_time,v)}ms')"
   ]
  },
  {
   "cell_type": "code",
   "execution_count": 32,
   "id": "496be5a4-375a-42e1-b4f2-d6537a5c1558",
   "metadata": {},
   "outputs": [
    {
     "name": "stdout",
     "output_type": "stream",
     "text": [
      "뽀로로가 81표로 반장으로 선출되었습니다.\n"
     ]
    }
   ],
   "source": [
    "p = [\"뽀로로\", \"루피\", \"크롱\"]\n",
    "result = np.array([2, 1, 2, 2, 2, 2, 0, 2, 1, 1, 0, 0, 2, 0, 0, 1, 1, 2, 2, 2, 1, 1,\n",
    "                   1, 2, 0, 2, 2, 0, 1, 1, 0, 2, 1, 0, 1, 2, 0, 0, 1, 0, 1, 1, 1, 2,\n",
    "                   1, 1, 1, 0, 0, 0, 0, 1, 0, 0, 2, 0, 2, 2, 0, 0, 1, 1, 1, 0, 0, 2,\n",
    "                   2, 1, 0, 1, 2, 0, 2, 0, 0, 0, 2, 0, 0, 0, 0, 0, 1, 2, 1, 1, 2, 0,\n",
    "                   2, 0, 0, 0, 0, 2, 1, 2, 0, 2, 0, 0, 1, 0, 1, 2, 1, 2, 0, 2, 2, 1,\n",
    "                   2, 0, 0, 1, 1, 0, 1, 2, 1, 2, 0, 2, 2, 2, 2, 0, 2, 2, 0, 2, 0, 2,\n",
    "                   1, 1, 2, 1, 1, 0, 0, 1, 0, 0, 0, 2, 2, 0, 2, 0, 0, 0, 2, 0, 0, 0,\n",
    "                   2, 0, 1, 2, 1, 0, 2, 0, 0, 1, 2, 1, 1, 2, 2, 0, 0, 0, 0, 2, 2, 1,\n",
    "                   0, 1, 1, 2, 2, 1, 0, 0, 2, 0, 0, 0, 2, 0, 2, 2, 0, 2, 1, 0, 0, 2,\n",
    "                   0, 1])\n",
    "\n",
    "count = np.bincount(result,minlength=3)\n",
    "winner_index =count.argmax()\n",
    "print(f'{p[winner_index]}가 {count[winner_index]}표로 반장으로 선출되었습니다.')"
   ]
  },
  {
   "cell_type": "code",
   "execution_count": null,
   "id": "b818b85b-462a-45db-a94b-0f2053620667",
   "metadata": {},
   "outputs": [],
   "source": []
  }
 ],
 "metadata": {
  "kernelspec": {
   "display_name": "Python 3 (ipykernel)",
   "language": "python",
   "name": "python3"
  },
  "language_info": {
   "codemirror_mode": {
    "name": "ipython",
    "version": 3
   },
   "file_extension": ".py",
   "mimetype": "text/x-python",
   "name": "python",
   "nbconvert_exporter": "python",
   "pygments_lexer": "ipython3",
   "version": "3.9.13"
  }
 },
 "nbformat": 4,
 "nbformat_minor": 5
}
