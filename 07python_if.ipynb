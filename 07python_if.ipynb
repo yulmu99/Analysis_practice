{
 "cells": [
  {
   "cell_type": "code",
   "execution_count": 4,
   "id": "fb10c03e-c65a-4026-8b21-6797fa3549f9",
   "metadata": {},
   "outputs": [],
   "source": [
    "#if\n",
    "\n",
    "#if 조건 : True면 아래 들여쓰기한 부분을 실행\n",
    "#   들여쓰기(띄어쓰기 4칸)\n",
    "#   들여쓰기(띄어쓰기 4칸)\n",
    "#False면 if문을 건너뛰고 다시 주흐름으로 \n",
    "\n",
    "#객체 타입 비교\n",
    "#좌 is 우\n",
    "#좌,우 객체를 비교해서 동일한 종류면 True, 아니면 False 반환\n",
    "\n",
    "if type(input_value4) is int :\n",
    "    print(\"input_value4는 정수입니다.\")\n",
    "    \n",
    "#if문에 True와 False를 복합적으로 다룰 때는 논리 연산자\n",
    "\n",
    "#and : 좌,우 모두 True일 때 True 반환\n",
    "#or : 좌,우 중에 하나라도 True이면 True 반환\n",
    "#nor : True는 False로 , False는 True 반환"
   ]
  },
  {
   "cell_type": "code",
   "execution_count": 8,
   "id": "4d1fd7a2-a02a-4cdf-947a-2ab320590a63",
   "metadata": {},
   "outputs": [
    {
     "name": "stdout",
     "output_type": "stream",
     "text": [
      "<class 'int'>\n",
      "정수\n",
      "\n",
      "시작\n",
      "10보다 작고, 5보다 큼\n",
      "끝\n"
     ]
    }
   ],
   "source": [
    "#if문과 elif문\n",
    "#elif문은 if문이 모두 False일 때 실행\n",
    "#우선순위는 if -> elif // if가 True이면 elif는 실행 조차 X\n",
    "\n",
    "#if 조건 : True이면 들여쓰기1, False이면 elif문 들여쓰기2 실행\n",
    "#    들여쓰기1\n",
    "#    들여쓰기1\n",
    "#elif 조건 : \n",
    "#    들여쓰기2\n",
    "#    들여쓰기2\n",
    "\n",
    "b=10\n",
    "print(type(b))\n",
    "\n",
    "if type(b) is int : \n",
    "    print('정수')\n",
    "\n",
    "elif type(b) is str :  #type(b) is not int\n",
    "    print('문자열')\n",
    "    \n",
    "          \n",
    "c = 10\n",
    "print('\\n시작')\n",
    "\n",
    "if c > 10:\n",
    "    print(\"10보다 큼\")\n",
    "\n",
    "elif c < 5:\n",
    "    print(\"10보다 작고, 5보다 작음\")\n",
    "\n",
    "elif True :\n",
    "    print('10보다 작고, 5보다 큼')\n",
    "    \n",
    "print('끝')\n",
    "    "
   ]
  },
  {
   "cell_type": "code",
   "execution_count": 12,
   "id": "b4289f43-575a-4ca7-822d-d019aeb620f2",
   "metadata": {},
   "outputs": [
    {
     "name": "stdout",
     "output_type": "stream",
     "text": [
      "시작\n",
      "우\n",
      "끝\n"
     ]
    }
   ],
   "source": [
    "#예제1\n",
    "\n",
    "c = 85\n",
    "\n",
    "print(\"시작\")\n",
    "\n",
    "if c >= 90:\n",
    "    print(\"수\")\n",
    "    \n",
    "elif c >= 80:  #c < 90 and c >= 80\n",
    "    print(\"우\")\n",
    "    \n",
    "elif c >= 70:  #c < 80 and c >= 70\n",
    "    print(\"미\")\n",
    "    \n",
    "print(\"끝\")\n",
    "    "
   ]
  },
  {
   "cell_type": "code",
   "execution_count": 41,
   "id": "b58656bd-a8a0-467f-9455-44343e1e17aa",
   "metadata": {},
   "outputs": [
    {
     "name": "stdin",
     "output_type": "stream",
     "text": [
      "아이디를 입력하세요 : biana\n",
      "회원 등급을 입력하세요 : 4\n"
     ]
    },
    {
     "name": "stdout",
     "output_type": "stream",
     "text": [
      "\n",
      "권한이 없습니다.\n"
     ]
    }
   ],
   "source": [
    "#if문 elif문 else문\n",
    "\n",
    "#if 조건 : \n",
    "#    들여쓰기\n",
    "#elif 조건 :\n",
    "#    들여쓰기\n",
    "#else 조건(생략가능) :  #위의 if문과 elif문이 모두 아니라면\n",
    "#    들여쓰기\n",
    "\n",
    "id = input(\"아이디를 입력하세요 :\")\n",
    "\n",
    "if id == 'admin' :\n",
    "    print('최고 관리자, 모든 권한을 갖습니다.')\n",
    "elif id != 'admin' :\n",
    "    grade =int( input('회원 등급을 입력하세요 :'))\n",
    "    if 1 <= grade <= 3 :\n",
    "        print('\\n제한적인 권한을 갖습니다.')\n",
    "    else :\n",
    "        print('\\n권한이 없습니다.')\n"
   ]
  },
  {
   "cell_type": "code",
   "execution_count": 42,
   "id": "0ed6e9bf-8015-420a-8af1-7c89a650ab05",
   "metadata": {},
   "outputs": [],
   "source": [
    "##if문 정리\n",
    "\n",
    "#if문 실행부분이 빈칸인 경우 오류\n",
    "#if문의 바디를 나중에 작성할 예정일 때\n",
    "#pass사용\n",
    "#if 조건식:\n",
    "#    pass #TOBE\n",
    "\n",
    "#조건문에 대입연산자 =  사용 불가\n",
    "\n",
    "#조건문 뒤에 콜론(:) 생략 불가\n",
    "\n",
    "#if문 중첩 사용 가능 /  중첩할 때마다 들여쓰기가 늘어남\n",
    "#들여쓰기가 중요\n"
   ]
  },
  {
   "cell_type": "code",
   "execution_count": 50,
   "id": "4614f826-2fe2-4c08-b4fe-c780ca3cd46c",
   "metadata": {},
   "outputs": [
    {
     "name": "stdin",
     "output_type": "stream",
     "text": [
      "자연수를 하나 입력해주세요: 21\n"
     ]
    },
    {
     "name": "stdout",
     "output_type": "stream",
     "text": [
      "0\n"
     ]
    },
    {
     "name": "stdin",
     "output_type": "stream",
     "text": [
      "자연수를 하나 입력해주세요: 70\n"
     ]
    },
    {
     "name": "stdout",
     "output_type": "stream",
     "text": [
      "20\n"
     ]
    }
   ],
   "source": [
    "#나 ver\n",
    "a =int(input('자연수를 하나 입력해주세요:'))\n",
    "\n",
    "if a >= 0:\n",
    "    if a >= 50:\n",
    "        print(a-50)\n",
    "    else :\n",
    "        print(0)\n",
    "    \n",
    "#강사님 ver\n",
    "int_value = int(input('자연수를 하나 입력해주세요:'))\n",
    "result = int_value - 50\n",
    "\n",
    "if result < 0:\n",
    "    result = 0\n",
    "\n",
    "print(result)\n"
   ]
  },
  {
   "cell_type": "code",
   "execution_count": 57,
   "id": "c9657594-6182-483a-9eea-665fb55d6a22",
   "metadata": {},
   "outputs": [
    {
     "name": "stdin",
     "output_type": "stream",
     "text": [
      "자연수를 하나 입력해주세요: 21\n"
     ]
    },
    {
     "name": "stdout",
     "output_type": "stream",
     "text": [
      "홀수입니다.\n"
     ]
    }
   ],
   "source": [
    "value = int(input('자연수를 하나 입력해주세요:'))\n",
    "\n",
    "if value % 2 == 0 :\n",
    "    print('짝수입니다.')\n",
    "else :\n",
    "    print('홀수입니다.')"
   ]
  },
  {
   "cell_type": "code",
   "execution_count": 80,
   "id": "962257e0-f99f-4cf8-a2bd-5c841d8cdd8e",
   "metadata": {},
   "outputs": [
    {
     "name": "stdin",
     "output_type": "stream",
     "text": [
      "소프트웨어 설계 점수를 입력하세요. 60\n",
      "소프트웨어 개발 점수를 입력하세요. 60\n",
      "데이터베이스 구축 점수를 입력하세요. 60\n",
      "프로그래밍 언어 활용 점수를 입력하세요. 60\n",
      "정보시스템 구축관리 점수를 입력하세요. 60\n"
     ]
    },
    {
     "name": "stdout",
     "output_type": "stream",
     "text": [
      "합격\n"
     ]
    }
   ],
   "source": [
    "s1 = int(input('소프트웨어 설계 점수를 입력하세요.'))\n",
    "s2 = int(input('소프트웨어 개발 점수를 입력하세요.'))\n",
    "s3 = int(input('데이터베이스 구축 점수를 입력하세요.'))\n",
    "s4 = int(input('프로그래밍 언어 활용 점수를 입력하세요.'))\n",
    "s5 = int(input('정보시스템 구축관리 점수를 입력하세요.'))\n",
    "s=[s1,s2,s3,s4,s5]\n",
    "\n",
    "avg = sum(s)/len(s)\n",
    "\n",
    "if (0<= s1 <= 100 and 0<= s2 <= 100 and 0 <= s3 <= 100 \n",
    "    and 0<= s4 <= 100 and 0<= s5 <= 100) :\n",
    "    if avg >= 60 :\n",
    "        print('합격')\n",
    "    else :\n",
    "        print('불합격')\n",
    "else :\n",
    "    print('잘못된 점수입니다.')\n"
   ]
  },
  {
   "cell_type": "code",
   "execution_count": 91,
   "id": "02bc702b-1c9a-4c72-8124-a26a5d74e00f",
   "metadata": {},
   "outputs": [
    {
     "name": "stdin",
     "output_type": "stream",
     "text": [
      "현재 물의 온도를 입력해주세요 -0.12\n"
     ]
    },
    {
     "name": "stdout",
     "output_type": "stream",
     "text": [
      "고체로 예상됩니다.\n"
     ]
    }
   ],
   "source": [
    "temp = float(input('현재 물의 온도를 입력해주세요'))\n",
    "if temp >= 100 :\n",
    "    print('기체로 예상됩니다.')\n",
    "elif 0 <= temp <= 100 :\n",
    "    print('액체로 예상됩니다.')\n",
    "else :\n",
    "    print('고체로 예상됩니다.')\n"
   ]
  },
  {
   "cell_type": "code",
   "execution_count": 97,
   "id": "eee4d008-8942-43cc-b9dc-a30c75990a18",
   "metadata": {},
   "outputs": [
    {
     "name": "stdin",
     "output_type": "stream",
     "text": [
      "자신의 나이를 입력하세요: 5\n"
     ]
    },
    {
     "name": "stdout",
     "output_type": "stream",
     "text": [
      "무료\n"
     ]
    }
   ],
   "source": [
    "age = int(input('자신의 나이를 입력하세요:'))\n",
    "if age >= 19 :\n",
    "    print('1500원')\n",
    "elif age >= 12 :\n",
    "    print('1100원')\n",
    "elif age >= 6 :\n",
    "    print('800원')\n",
    "else :\n",
    "    print('무료')\n",
    "    \n",
    "          "
   ]
  },
  {
   "cell_type": "code",
   "execution_count": 102,
   "id": "42697f14-bf51-4fea-8a5b-0388655e3886",
   "metadata": {},
   "outputs": [
    {
     "name": "stdin",
     "output_type": "stream",
     "text": [
      "발주 수량을 입력하세요: 2001\n"
     ]
    },
    {
     "name": "stdout",
     "output_type": "stream",
     "text": [
      "2001개를 주문하셨습니다.\n",
      "적용 할인율은 20%입니다.\n",
      "총 발주 금액은 $16008입니다.\n"
     ]
    }
   ],
   "source": [
    "ea = int(input('발주 수량을 입력하세요:'))\n",
    "sum_price = 10*ea\n",
    "\n",
    "if ea < 1000:\n",
    "    print(ea,'개를 주문하셨습니다.\\n수량 할인이 적용되지 않습니다.\\n총 발주 금액은 $',sum_price,'입니다.',sep=\"\")\n",
    "elif ea <= 1500 :\n",
    "    print(ea,'개를 주문하셨습니다.\\n적용 할인율은 5%입니다.\\n총 발주 금액은 $',int(sum_price*0.95),'입니다.',sep=\"\")\n",
    "elif ea <= 2000 :\n",
    "    print(ea,'개를 주문하셨습니다.\\n적용 할인율은 10%입니다.\\n총 발주 금액은 $',int(sum_price*0.9),'입니다.',sep=\"\")\n",
    "else :\n",
    "    print(ea,'개를 주문하셨습니다.\\n적용 할인율은 20%입니다.\\n총 발주 금액은 $',int(sum_price*0.8),'입니다.',sep=\"\")"
   ]
  },
  {
   "cell_type": "code",
   "execution_count": 122,
   "id": "24a2113d-ecd5-4ebe-9401-2189a93a7e56",
   "metadata": {},
   "outputs": [
    {
     "name": "stdin",
     "output_type": "stream",
     "text": [
      "발주 수량을 입력하세요: 2001\n"
     ]
    },
    {
     "name": "stdout",
     "output_type": "stream",
     "text": [
      "2001개를 주문하셨습니다.\n",
      "적용 할인율은 20%입니다.\n",
      "총 발주 금액은 $16008입니다.\n"
     ]
    }
   ],
   "source": [
    "ea = int(input('발주 수량을 입력하세요:'))\n",
    "sum_price = 10*ea\n",
    "\n",
    "if ea < 1000:\n",
    "    per = 0\n",
    "    total = sum_price\n",
    "elif ea <= 1500 :\n",
    "    per = 5\n",
    "    total = sum_price*0.95\n",
    "elif ea <= 2000 :\n",
    "    per = 10\n",
    "    total = sum_price*0.9\n",
    "else : \n",
    "    per = 20\n",
    "    total = sum_price*0.8\n",
    "    \n",
    "sale = \"\"\"{}개를 주문하셨습니다.\n",
    "적용 할인율은 {}%입니다.\n",
    "총 발주 금액은 ${}입니다.\\\n",
    "\"\"\".format(ea,per,int(total))\n",
    "print(sale)\n"
   ]
  },
  {
   "cell_type": "code",
   "execution_count": 123,
   "id": "3beb0b04-54cc-4749-81e4-2cf3786e76b5",
   "metadata": {},
   "outputs": [
    {
     "name": "stdin",
     "output_type": "stream",
     "text": [
      "주민번호 뒷자리를 입력하세요: 5678912\n"
     ]
    },
    {
     "name": "stdout",
     "output_type": "stream",
     "text": [
      "잘못된 입력입니다.\n"
     ]
    }
   ],
   "source": [
    "jumin =input('주민번호 뒷자리를 입력하세요:')\n",
    "\n",
    "if len(jumin) != 7 :\n",
    "    print('자리수를 잘못 입력했습니다.')\n",
    "else :\n",
    "    if jumin[0] == '1' or jumin[0] == '3' :  # jumin[0] in (1,3)도 가능\n",
    "        print('남자')\n",
    "    elif jumin[0] in (2,4) :\n",
    "        print('여자')\n",
    "    else :\n",
    "        print('잘못된 입력입니다.')\n",
    "    "
   ]
  },
  {
   "cell_type": "code",
   "execution_count": 142,
   "id": "7557b491-e872-4a73-800b-f674381d619f",
   "metadata": {},
   "outputs": [
    {
     "name": "stdin",
     "output_type": "stream",
     "text": [
      "확인할 연도를 입력하세요: 1900\n"
     ]
    },
    {
     "name": "stdout",
     "output_type": "stream",
     "text": [
      "평년입니다.\n"
     ]
    }
   ],
   "source": [
    "#나 ver\n",
    "\n",
    "year = int(input('확인할 연도를 입력하세요:'))\n",
    "\n",
    "if year % 100 == 0 and year % 400 != 0:\n",
    "    print('평년입니다.')\n",
    "elif year % 4 == 0 :\n",
    "    print('윤년입니다.')\n",
    "else :\n",
    "    print('평년입니다.')"
   ]
  },
  {
   "cell_type": "code",
   "execution_count": 143,
   "id": "7a31cbd7-0682-4078-a6b8-43f830a84ba2",
   "metadata": {},
   "outputs": [
    {
     "name": "stdin",
     "output_type": "stream",
     "text": [
      "확인할 연도를 입력하세요: 1900\n"
     ]
    },
    {
     "name": "stdout",
     "output_type": "stream",
     "text": [
      "평년입니다.\n"
     ]
    }
   ],
   "source": [
    "#강사님 ver\n",
    "\n",
    "year = int(input('확인할 연도를 입력하세요:'))\n",
    "\n",
    "if year % 4 and  (year % 100 !=0 or year % 400 ==0) :\n",
    "    print('윤년입니다.')\n",
    "else :\n",
    "    print('평년입니다.')\n",
    "    "
   ]
  },
  {
   "cell_type": "code",
   "execution_count": null,
   "id": "34d8811f-605b-433c-b75c-8e44dcb754c9",
   "metadata": {},
   "outputs": [],
   "source": []
  }
 ],
 "metadata": {
  "kernelspec": {
   "display_name": "Python 3 (ipykernel)",
   "language": "python",
   "name": "python3"
  },
  "language_info": {
   "codemirror_mode": {
    "name": "ipython",
    "version": 3
   },
   "file_extension": ".py",
   "mimetype": "text/x-python",
   "name": "python",
   "nbconvert_exporter": "python",
   "pygments_lexer": "ipython3",
   "version": "3.9.13"
  }
 },
 "nbformat": 4,
 "nbformat_minor": 5
}
