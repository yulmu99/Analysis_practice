{
 "cells": [
  {
   "cell_type": "code",
   "execution_count": 2,
   "id": "777d317d-d7dc-4864-aa0c-afaef671f156",
   "metadata": {},
   "outputs": [
    {
     "name": "stdout",
     "output_type": "stream",
     "text": [
      "\n",
      "안녕하세요.\n",
      "나는 파이썬을 공부하고 있습니다.\n",
      "반갑습니다.\n",
      "\n"
     ]
    }
   ],
   "source": [
    "s4 = \"\"\"\n",
    "안녕하세요.\n",
    "나는 파이썬을 공부하고 있습니다.\n",
    "반갑습니다.\n",
    "\"\"\"\n",
    "\n",
    "print(s4)"
   ]
  },
  {
   "cell_type": "code",
   "execution_count": 3,
   "id": "ac8d68c8-ca67-4122-9252-e4b50c5789e5",
   "metadata": {},
   "outputs": [
    {
     "name": "stdout",
     "output_type": "stream",
     "text": [
      "안녕하세요.\n",
      "나는 파이썬을 공부하고 있습니다.\n",
      "반갑습니다.\n",
      "\n"
     ]
    }
   ],
   "source": [
    "# 삼중따옴표 안에서 줄바꿈 삭제 : \\\n",
    "\n",
    "s4 = \"\"\"\\\n",
    "안녕하세요.\n",
    "나는 파이썬을 공부하고 있습니다.\n",
    "반갑습니다.\n",
    "\"\"\"\n",
    "\n",
    "print(s4)"
   ]
  },
  {
   "cell_type": "code",
   "execution_count": 9,
   "id": "ccd48903-b57a-4ae3-8e4b-7f9e3a404819",
   "metadata": {},
   "outputs": [
    {
     "name": "stdout",
     "output_type": "stream",
     "text": [
      "안녕하세요.\n",
      "나는 파이썬을 공부하고 있습니다.\n",
      "반갑습니다.\n"
     ]
    }
   ],
   "source": [
    "s4 = \"\"\"\\\n",
    "안녕하세요.\n",
    "나는 파이썬을 공부하고 있습니다.\n",
    "반갑습니다.\\\n",
    "\"\"\"\n",
    "\n",
    "print(s4)"
   ]
  },
  {
   "cell_type": "code",
   "execution_count": 10,
   "id": "86937829-d099-49ae-a940-e710147ce627",
   "metadata": {},
   "outputs": [
    {
     "name": "stdout",
     "output_type": "stream",
     "text": [
      "\"안녕하세요.\"\n",
      "나는 파이썬을 공부하고 있습니다.\n",
      "반갑습니다.\n"
     ]
    }
   ],
   "source": [
    "\n",
    "\n",
    "s4 = \"\"\"\\\n",
    "\"안녕하세요.\"\n",
    "나는 파이썬을 공부하고 있습니다.\n",
    "반갑습니다.\\\n",
    "\"\"\"\n",
    "\n",
    "print(s4)"
   ]
  },
  {
   "cell_type": "code",
   "execution_count": 20,
   "id": "37595152-dea7-44e8-b05b-11b90341eb6d",
   "metadata": {},
   "outputs": [
    {
     "name": "stdout",
     "output_type": "stream",
     "text": [
      "너무 너무 너무 너무 너무 너무 너무 파이썬 공부가 즐겁습니다.\n"
     ]
    }
   ],
   "source": [
    "s5 = '너무 너무 너무 너무 너무 너무 너무 파이썬 공부가 즐겁습니다.'\n",
    "\n",
    "print(s5)"
   ]
  },
  {
   "cell_type": "code",
   "execution_count": 26,
   "id": "dcd0647f-2c8c-4701-8a67-7197fad7015b",
   "metadata": {},
   "outputs": [
    {
     "name": "stdout",
     "output_type": "stream",
     "text": [
      "너무 너무 너무 너무 너무 너무 너무 너무 너무 너무 너무 너무 너무 너무 너무 너무 너무 너무 너무 너무 너무 너무 너무 너무 너무 너무 너무 너무 너무 너무 너무 너무 너무 너무 너무 너무 너무 너무 너무 너무 너무 너무 너무 너무 너무 너무 너무 너무 너무 너무 너무 너무 너무 너무 너무 너무 너무 너무 너무 너무 너무 너무 너무 너무 너무 너무 너무 너무 너무 너무 너무 너무 너무 너무 너무 너무 너무 너무 너무 너무 너무 너무 너무 너무 너무 너무 너무 너무 너무 너무 너무 너무 너무 너무 너무 너무 너무 너무 너무 너무 파이썬 공부가 즐겁습니다\n"
     ]
    }
   ],
   "source": [
    "# 문자열 반복 : *\n",
    "# 문자열 이음 : +\n",
    "# 연산자 우선순위 * -> +\n",
    "\n",
    "s6 = '너무 ' * 100 + '파이썬 공부가 즐겁습니다'\n",
    "\n",
    "print(s6)"
   ]
  },
  {
   "cell_type": "code",
   "execution_count": 28,
   "id": "30efa41f-dd01-463f-9ace-90f58f562134",
   "metadata": {},
   "outputs": [
    {
     "name": "stdout",
     "output_type": "stream",
     "text": [
      "P\n",
      "o\n"
     ]
    }
   ],
   "source": [
    "#문자열(str) 인덱스\n",
    "#0부터 시작, 맨뒤는 -1\n",
    "\n",
    "word = 'Python'\n",
    "print(word[0])\n",
    "\n",
    "word = 'Python'\n",
    "print(word[-2])"
   ]
  },
  {
   "cell_type": "code",
   "execution_count": 32,
   "id": "50b627ff-c731-4554-a18b-5387025d197c",
   "metadata": {},
   "outputs": [
    {
     "name": "stdout",
     "output_type": "stream",
     "text": [
      "꺾\n"
     ]
    }
   ],
   "source": [
    "sentence = '중요한 것은 꺾이지 않는 마음'\n",
    "\n",
    "print(sentence[7])"
   ]
  },
  {
   "cell_type": "code",
   "execution_count": 38,
   "id": "ff14babe-c39d-40f1-8bd3-2d432ccbd7c9",
   "metadata": {},
   "outputs": [
    {
     "name": "stdout",
     "output_type": "stream",
     "text": [
      "ho\n",
      "Pto\n"
     ]
    }
   ],
   "source": [
    "#문자열 슬라이싱 \n",
    "#[이상:미만:증감]\n",
    "#첫 시작 0, 맨 마지막 -1, 증감 1은 생략 가능\n",
    "\n",
    "word = 'Python'\n",
    "print(word[-3:-1])\n",
    "\n",
    "word = 'Python'\n",
    "print(word[::2])\n"
   ]
  },
  {
   "cell_type": "code",
   "execution_count": 40,
   "id": "4b238287-dfe0-4a6b-9a4d-ae7e50426575",
   "metadata": {},
   "outputs": [
    {
     "name": "stdout",
     "output_type": "stream",
     "text": [
      "꺾이지 않는 마음\n"
     ]
    }
   ],
   "source": [
    "sentence = '중요한 것은 꺾이지 않는 마음'\n",
    "\n",
    "print(sentence[7:])"
   ]
  },
  {
   "cell_type": "code",
   "execution_count": 67,
   "id": "5cf7e589-42f2-4783-84f9-05bb7dbeb3dd",
   "metadata": {},
   "outputs": [
    {
     "name": "stdout",
     "output_type": "stream",
     "text": [
      "한요중\n"
     ]
    }
   ],
   "source": [
    "#역방향 슬라이싱 \n",
    "#증감 -1\n",
    "\n",
    "sentence = '중요한 것은 꺾이지 않는 마음'\n",
    "\n",
    "print(sentence[2::-1])\n"
   ]
  },
  {
   "cell_type": "code",
   "execution_count": 70,
   "id": "d688777e-6392-4ccd-a14a-e0998503223d",
   "metadata": {},
   "outputs": [
    {
     "name": "stdout",
     "output_type": "stream",
     "text": [
      "대단한 것은 꺾이지 않는 마음\n"
     ]
    }
   ],
   "source": [
    "#문자열 변경\n",
    "#문자열은 불변, 기존 문자열을 변경할 수는 없고 새로운 문자열 생성\n",
    "\n",
    "sentence = '중요한 것은 꺾이지 않는 마음'\n",
    "sentence = '대단한' + sentence[3:]\n",
    "\n",
    "print(sentence)"
   ]
  },
  {
   "cell_type": "code",
   "execution_count": 71,
   "id": "4a116cea-b200-4c81-aa1a-18c7d6fb5b43",
   "metadata": {},
   "outputs": [
    {
     "data": {
      "text/plain": [
       "16"
      ]
     },
     "execution_count": 71,
     "metadata": {},
     "output_type": "execute_result"
    }
   ],
   "source": [
    "#시퀀스의 크기\n",
    "#len()함수\n",
    "\n",
    "sentence = '중요한 것은 꺾이지 않는 마음'\n",
    "len(sentence)"
   ]
  },
  {
   "cell_type": "code",
   "execution_count": 74,
   "id": "c6791c29-0c19-486b-83ef-c1665e80c900",
   "metadata": {},
   "outputs": [
    {
     "name": "stdout",
     "output_type": "stream",
     "text": [
      "[1, 4, 9, 16, 25]\n"
     ]
    }
   ],
   "source": [
    "#리스트(list) 자료\n",
    "#서로 다른 형의 항목 포함 가능 [str,int,float,...,]\n",
    "#가변\n",
    "\n",
    "squares = [1**2,2**2,3**2,4**2,5**2]\n",
    "print(squares)"
   ]
  },
  {
   "cell_type": "code",
   "execution_count": 75,
   "id": "e5b24b79-0912-4e09-8942-433bb76a12cd",
   "metadata": {},
   "outputs": [
    {
     "name": "stdout",
     "output_type": "stream",
     "text": [
      "[9, 16, 25]\n"
     ]
    }
   ],
   "source": [
    "#리스트 슬라이싱\n",
    "\n",
    "squares = [1**2,2**2,3**2,4**2,5**2]\n",
    "print(squares[-3:])"
   ]
  },
  {
   "cell_type": "code",
   "execution_count": 93,
   "id": "da2ad9b5-ed62-4a33-a856-48e8e139b2ec",
   "metadata": {},
   "outputs": [
    {
     "name": "stdout",
     "output_type": "stream",
     "text": [
      "[1, 4, 9, 16, 25, 36, 49, 64]\n",
      "['a', 'b', 'c', 'a', 'b', 'c', 'a', 'b', 'c']\n"
     ]
    }
   ],
   "source": [
    "#리스트 더하기와 곱하기(반복)\n",
    "\n",
    "squares = [1**2,2**2,3**2,4**2,5**2]\n",
    "print(squares + [36,49,64])\n",
    "\n",
    "letters = ['a','b','c']\n",
    "print(letters * 3)"
   ]
  },
  {
   "cell_type": "code",
   "execution_count": 94,
   "id": "8d6c79e2-4810-43a1-8210-1ed955d98438",
   "metadata": {},
   "outputs": [
    {
     "name": "stdout",
     "output_type": "stream",
     "text": [
      "[1, 8, 27, 65, 125]\n",
      "[1, 8, 27, 64, 125]\n",
      "['a', 'b', 'C', 'D', 'E']\n"
     ]
    }
   ],
   "source": [
    "#리스트 값 변경\n",
    "\n",
    "cubes = [1,8,27,65,125]\n",
    "print(cubes)\n",
    "\n",
    "cubes[3] = 4**3\n",
    "print(cubes)\n",
    "\n",
    "letters[2:5] =  ['C','D','E']\n",
    "print(letters)\n"
   ]
  },
  {
   "cell_type": "code",
   "execution_count": 95,
   "id": "7786cafb-aaff-4138-82e2-7c39a9dfe329",
   "metadata": {},
   "outputs": [
    {
     "name": "stdout",
     "output_type": "stream",
     "text": [
      "[['a', 'b', 'c'], [1, 2, 3]]\n",
      "['a', 'b', 'c']\n",
      "b\n"
     ]
    }
   ],
   "source": [
    "#리스트 안에 리스트\n",
    "a = ['a','b','c']\n",
    "n = [1,2,3]\n",
    "x = [a,n]\n",
    "print(x)\n",
    "\n",
    "print(x[0])\n",
    "print(x[0][1])\n"
   ]
  },
  {
   "cell_type": "code",
   "execution_count": 96,
   "id": "76a3246f-c173-44f3-8840-81281a63f93c",
   "metadata": {},
   "outputs": [
    {
     "name": "stdout",
     "output_type": "stream",
     "text": [
      "True\n"
     ]
    }
   ],
   "source": [
    "#리스트에 특정 요소가 있는지 확인\n",
    "#item in list\n",
    "#bool literal - True, False 로 반환\n",
    "\n",
    "numbers = [1,2,3,4,5,6,7]\n",
    "print(5 in numbers)"
   ]
  },
  {
   "cell_type": "code",
   "execution_count": 118,
   "id": "e27facf0-b4a9-41c2-ab63-80612f98b009",
   "metadata": {},
   "outputs": [
    {
     "data": {
      "text/plain": [
       "False"
      ]
     },
     "execution_count": 118,
     "metadata": {},
     "output_type": "execute_result"
    }
   ],
   "source": [
    "#연습문제\n",
    "#공무원 시험 결과가 [국,영,수,선1,선2]으로 제공된다. \n",
    "#이때 한 과목이라도 60미만이면 과락이다.\n",
    "#과락이면, False, 아니면 True\n",
    "\n",
    "scores=[88,73,89,59,77]\n",
    "scores[0]>=60 and scores[1]>=60 and scores[2]>=60 and scores[3]>=60 and scores[4]>=60\n"
   ]
  },
  {
   "cell_type": "code",
   "execution_count": 122,
   "id": "74418642-662c-42ef-8a9a-9ee2d53cb92e",
   "metadata": {},
   "outputs": [
    {
     "name": "stdout",
     "output_type": "stream",
     "text": [
      "<class 'tuple'>\n",
      "('음', '오', '아', '예')\n"
     ]
    }
   ],
   "source": [
    "#튜플(typle)자료\n",
    "#서로 다른 형의 항목 포함 가능 (str,int,float,...,)\n",
    "#불변 -> 수정, 삭제 불가능\n",
    "#소괄호 생략 가능 / 하지만 생략하는 것을 추천하지는 않음\n",
    "\n",
    "t_v2 = '음','오','아','예'\n",
    "print(type(t_v2))\n",
    "print(t_v2)"
   ]
  },
  {
   "cell_type": "code",
   "execution_count": 123,
   "id": "c7d832d4-edb3-4423-aae6-30c13cdd3e27",
   "metadata": {},
   "outputs": [],
   "source": [
    "##튜플과 리스트의 차이\n",
    "#튜플 : 수정,삭제가 불가능 하지만 처리 속도가 빠름\n",
    "#리스트 : 수정,삭제가 가능 하지만 처리 속도가 다소 걸림"
   ]
  },
  {
   "cell_type": "code",
   "execution_count": 124,
   "id": "5b6a2973-72fc-495d-8281-7743cc913440",
   "metadata": {},
   "outputs": [
    {
     "name": "stdout",
     "output_type": "stream",
     "text": [
      "0.24219489097595215\n"
     ]
    }
   ],
   "source": [
    "#튜플\n",
    "\n",
    "import time\n",
    "start_time = time.time() # 시작하는 시간\n",
    "test = []\n",
    "# 1,000,000번을 반복해서 tuple만듭니다.\n",
    "for _ in range(1_000_000):\n",
    "    tp = (_, _) # tuple\n",
    "    test.append(tp)\n",
    "# 끝나는 시간 - 시작하는 시간\n",
    "print(time.time() - start_time)\n",
    "# 동작한 시간"
   ]
  },
  {
   "cell_type": "code",
   "execution_count": 125,
   "id": "eb58631b-8a06-4d68-b6ca-80973d2896c2",
   "metadata": {},
   "outputs": [
    {
     "name": "stdout",
     "output_type": "stream",
     "text": [
      "0.6586039066314697\n"
     ]
    }
   ],
   "source": [
    "#리스트\n",
    "\n",
    "start_time = time.time()\n",
    "test = []\n",
    "for _ in range(1_000_000):\n",
    "    tp = [_, _] # list\n",
    "    test.append(tp)\n",
    "print(time.time() - start_time)"
   ]
  },
  {
   "cell_type": "code",
   "execution_count": 126,
   "id": "940526f1-9648-46f1-8a50-f7dcbfce836f",
   "metadata": {},
   "outputs": [
    {
     "name": "stdout",
     "output_type": "stream",
     "text": [
      "text1\n",
      "text2\n",
      "이렇게 리스트도 가능\n",
      "문 자 열 도\n"
     ]
    }
   ],
   "source": [
    "#unpacking\n",
    "#시퀀스(연속형) 자료형의 요소 각각을 변수에 동시에 할당 \n",
    "#요소와 변수의 개수가 동일할 때\n",
    "\n",
    "s1,s2 = 'text1','text2'   #tuple   \n",
    "print(s1)\n",
    "print(s2)\n",
    "\n",
    "s3,s4,s5 = ['이렇게','리스트도','가능']   #list\n",
    "print(s3,s4,s5)\n",
    " \n",
    "s6,s7,s8,s9 = \"문자열도\"   #str\n",
    "print(s6,s7,s8,s9)       "
   ]
  },
  {
   "cell_type": "code",
   "execution_count": null,
   "id": "330d2e19-8125-4e53-82f1-7c2ba778b4d6",
   "metadata": {},
   "outputs": [],
   "source": []
  }
 ],
 "metadata": {
  "kernelspec": {
   "display_name": "Python 3 (ipykernel)",
   "language": "python",
   "name": "python3"
  },
  "language_info": {
   "codemirror_mode": {
    "name": "ipython",
    "version": 3
   },
   "file_extension": ".py",
   "mimetype": "text/x-python",
   "name": "python",
   "nbconvert_exporter": "python",
   "pygments_lexer": "ipython3",
   "version": "3.9.13"
  }
 },
 "nbformat": 4,
 "nbformat_minor": 5
}
