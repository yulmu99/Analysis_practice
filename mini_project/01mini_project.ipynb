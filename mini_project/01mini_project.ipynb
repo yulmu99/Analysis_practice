{
 "cells": [
  {
   "cell_type": "code",
   "execution_count": 8,
   "id": "4d6fc2c2-1ce4-4918-b3b2-348ce61a5fef",
   "metadata": {},
   "outputs": [],
   "source": [
    "import pandas as pd\n",
    "import xmltodict"
   ]
  },
  {
   "cell_type": "code",
   "execution_count": 48,
   "id": "b4ea02b1-4c47-4aa4-ad1e-d1b2cb722e86",
   "metadata": {},
   "outputs": [],
   "source": [
    "#생태통로 데이터 \n",
    "\n",
    "Eco_corridor_map = pd.read_csv('datas/Mapservice2023-03-10.csv',encoding='euc-kr')\n",
    "Eco_corridor_map.to_csv('mini_project/Eco_corridor_map.csv')\n"
   ]
  },
  {
   "cell_type": "code",
   "execution_count": 49,
   "id": "f08f67a4-3057-4da4-b8fe-47df97d69fb8",
   "metadata": {},
   "outputs": [],
   "source": [
    "#도로별 로드킬 발생건수 데이터 \n",
    "\n",
    "road_kill = pd.read_csv('datas/한국도로공사_로드킬 데이터 정보_20211231.csv',encoding='cp949')\n",
    "road_kill.to_csv('mini_project/road_kill.csv')\n"
   ]
  },
  {
   "cell_type": "code",
   "execution_count": 13,
   "id": "c4350d6c-b5c1-4f1f-83d7-99037e285194",
   "metadata": {},
   "outputs": [
    {
     "name": "stdout",
     "output_type": "stream",
     "text": [
      "C:\\python\n"
     ]
    }
   ],
   "source": [
    "%cd C:\\\\python"
   ]
  },
  {
   "cell_type": "code",
   "execution_count": 29,
   "id": "6008756e-38ba-4176-b289-70b07bb31a47",
   "metadata": {},
   "outputs": [
    {
     "data": {
      "text/plain": [
       "국도          17502\n",
       "고속국도(재정)     1866\n",
       "지방도          1230\n",
       "시도            665\n",
       "고속국도(민자)       76\n",
       "군도             51\n",
       "특별광역시도          4\n",
       "국유임도            2\n",
       "이도              1\n",
       "Name: 도로유형, dtype: int64"
      ]
     },
     "execution_count": 29,
     "metadata": {},
     "output_type": "execute_result"
    }
   ],
   "source": [
    "#야생동물별 로드킬 발생장소 데이터 \n",
    "\n",
    "road_kill_species = pd.read_csv('mini_project/road_kill_species.csv')\n",
    "#road_kill_species.to_csv('mini_project/road_kill_species.csv')\n",
    "\n",
    "road_kill_species.도로유형.value_counts()"
   ]
  },
  {
   "cell_type": "code",
   "execution_count": 32,
   "id": "7485116f-2045-4ea1-9780-4ace8e722f3b",
   "metadata": {},
   "outputs": [
    {
     "data": {
      "text/plain": [
       "국도          17502\n",
       "고속국도(재정)     1866\n",
       "지방도          1230\n",
       "시도            665\n",
       "고속국도(민자)       76\n",
       "군도             51\n",
       "특별광역시도          4\n",
       "국유임도            2\n",
       "이도              1\n",
       "Name: 도로유형, dtype: int64"
      ]
     },
     "execution_count": 32,
     "metadata": {},
     "output_type": "execute_result"
    }
   ],
   "source": [
    "road_kill_species.도로유형.value_counts()"
   ]
  },
  {
   "cell_type": "code",
   "execution_count": 64,
   "id": "e0d7c196-c64d-48af-bfed-de8550d3f404",
   "metadata": {},
   "outputs": [
    {
     "name": "stdout",
     "output_type": "stream",
     "text": [
      "<?xml version=\"1.0\" encoding=\"UTF-8\"?>\n",
      "<metadata xml:lang=\"ko\"><Esri><CreaDate>20200219</CreaDate><CreaTime>10393300</CreaTime><ArcGISFormat>1.0</ArcGISFormat><SyncOnce>FALSE</SyncOnce><DataProperties><itemProps><itemName Sync=\"TRUE\">포유류_GRS80</itemName><imsContentType Sync=\"TRUE\">002</imsContentType><itemLocation><linkage Sync=\"TRUE\">file://\\\\임지\\D\\01_NIE_GIS\\02_GISDB\\전국자연환경조사자료제공용.gdb</linkage><protocol Sync=\"TRUE\">Local Area Network</protocol></itemLocation></itemProps><coordRef><type Sync=\"TRUE\">Projected</type><geogcsn Sync=\"TRUE\">GCS_ITRF_2000</geogcsn><csUnits Sync=\"TRUE\">Linear Unit: Meter (1.000000)</csUnits><projcsn Sync=\"TRUE\">PCS_ITRF2000_TM</projcsn><peXml Sync=\"TRUE\">&lt;ProjectedCoordinateSystem xsi:type='typens:ProjectedCoordinateSystem' xmlns:xsi='http://www.w3.org/2001/XMLSchema-instance' xmlns:xs='http://www.w3.org/2001/XMLSchema' xmlns:typens='http://www.esri.com/schemas/ArcGIS/10.5'&gt;&lt;WKT&gt;PROJCS[&amp;quot;PCS_ITRF2000_TM&amp;quot;,GEOGCS[&amp;quot;GCS_ITRF_2000&amp;quot;,DATUM[&amp;quot;D_ITRF_2000&amp;quot;,SPHEROID[&amp;quot;GRS_1980&amp;quot;,6378137.0,298.257222101]],PRIMEM[&amp;quot;Greenwich&amp;quot;,0.0],UNIT[&amp;quot;Degree&amp;quot;,0.0174532925199433]],PROJECTION[&amp;quot;Transverse_Mercator&amp;quot;],PARAMETER[&amp;quot;False_Easting&amp;quot;,200000.0],PARAMETER[&amp;quot;False_Northing&amp;quot;,500000.0],PARAMETER[&amp;quot;Central_Meridian&amp;quot;,127.0],PARAMETER[&amp;quot;Scale_Factor&amp;quot;,1.0],PARAMETER[&amp;quot;Latitude_Of_Origin&amp;quot;,38.0],UNIT[&amp;quot;Meter&amp;quot;,1.0]]&lt;/WKT&gt;&lt;XOrigin&gt;-5423200&lt;/XOrigin&gt;&lt;YOrigin&gt;-13709600&lt;/YOrigin&gt;&lt;XYScale&gt;10000&lt;/XYScale&gt;&lt;ZOrigin&gt;-100000&lt;/ZOrigin&gt;&lt;ZScale&gt;10000&lt;/ZScale&gt;&lt;MOrigin&gt;-100000&lt;/MOrigin&gt;&lt;MScale&gt;10000&lt;/MScale&gt;&lt;XYTolerance&gt;0.001&lt;/XYTolerance&gt;&lt;ZTolerance&gt;0.001&lt;/ZTolerance&gt;&lt;MTolerance&gt;0.001&lt;/MTolerance&gt;&lt;HighPrecision&gt;true&lt;/HighPrecision&gt;&lt;/ProjectedCoordinateSystem&gt;</peXml></coordRef><lineage><Process ToolSource=\"c:\\program files (x86)\\arcgis\\desktop10.5\\ArcToolbox\\Toolboxes\\Data Management Tools.tbx\\CopyFeatures\" Date=\"20191023\" Time=\"155209\">CopyFeatures D:\\01_NIE_GIS\\02_GISDB\\P_과거자료\\2차_전국자연환경조사\\동식물분포도_SHP\\포유류_GRS80.shp D:\\01_NIE_GIS\\02_GISDB\\전국자연환경조사자료제공용.gdb\\포유류_GRS80 # 0 0 0</Process><Process ToolSource=\"c:\\program files (x86)\\arcgis\\desktop10.5\\ArcToolbox\\Toolboxes\\Data Management Tools.tbx\\DeleteField\" Date=\"20191023\" Time=\"160509\">DeleteField 제2차전국_포유류 조사지코드;조사자;조사시작일;조사종료일;종코드;확인법;개체수;설문지번호;목격년월일;목격장소;특기사항;NUMBER</Process></lineage></DataProperties><SyncDate>20191023</SyncDate><SyncTime>15520400</SyncTime><ModDate>20191023</ModDate><ModTime>15520400</ModTime></Esri><dataIdInfo><envirDesc Sync=\"TRUE\">Microsoft Windows 7 Version 6.1 (Build 7601) Service Pack 1; Esri ArcGIS 10.5.1.7333</envirDesc><dataLang><languageCode value=\"kor\" Sync=\"TRUE\"></languageCode><countryCode value=\"KOR\" Sync=\"TRUE\"></countryCode></dataLang><idCitation><resTitle Sync=\"TRUE\">포유류_GRS80</resTitle><presForm><PresFormCd value=\"005\" Sync=\"TRUE\"></PresFormCd></presForm></idCitation><spatRpType><SpatRepTypCd value=\"001\" Sync=\"TRUE\"></SpatRepTypCd></spatRpType></dataIdInfo><mdLang><languageCode value=\"kor\" Sync=\"TRUE\"></languageCode><countryCode value=\"KOR\" Sync=\"TRUE\"></countryCode></mdLang><distInfo><distFormat><formatName Sync=\"TRUE\">File Geodatabase Feature Class</formatName></distFormat></distInfo><mdHrLv><ScopeCd value=\"005\" Sync=\"TRUE\"></ScopeCd></mdHrLv><mdHrLvName Sync=\"TRUE\">dataset</mdHrLvName><refSysInfo><RefSystem><refSysID><identCode code=\"0\" Sync=\"TRUE\"></identCode></refSysID></RefSystem></refSysInfo><spatRepInfo><VectSpatRep><geometObjs Name=\"포유류_GRS80\"><geoObjTyp><GeoObjTypCd value=\"004\" Sync=\"TRUE\"></GeoObjTypCd></geoObjTyp><geoObjCnt Sync=\"TRUE\">0</geoObjCnt></geometObjs><topLvl><TopoLevCd value=\"001\" Sync=\"TRUE\"></TopoLevCd></topLvl></VectSpatRep></spatRepInfo><spdoinfo><ptvctinf><esriterm Name=\"포유류_GRS80\"><efeatyp Sync=\"TRUE\">Simple</efeatyp><efeageom code=\"1\" Sync=\"TRUE\"></efeageom><esritopo Sync=\"TRUE\">FALSE</esritopo><efeacnt Sync=\"TRUE\">0</efeacnt><spindex Sync=\"TRUE\">TRUE</spindex><linrefer Sync=\"TRUE\">FALSE</linrefer></esriterm></ptvctinf></spdoinfo><eainfo><detailed Name=\"포유류_GRS80\"><enttyp><enttypl Sync=\"TRUE\">포유류_GRS80</enttypl><enttypt Sync=\"TRUE\">Feature Class</enttypt><enttypc Sync=\"TRUE\">0</enttypc></enttyp><attr><attrlabl Sync=\"TRUE\">OBJECTID</attrlabl><attalias Sync=\"TRUE\">FID</attalias><attrtype Sync=\"TRUE\">OID</attrtype><attwidth Sync=\"TRUE\">4</attwidth><atprecis Sync=\"TRUE\">0</atprecis><attscale Sync=\"TRUE\">0</attscale><attrdef Sync=\"TRUE\">Internal feature number.</attrdef><attrdefs Sync=\"TRUE\">Esri</attrdefs><attrdomv><udom Sync=\"TRUE\">Sequential unique whole numbers that are automatically generated.</udom></attrdomv></attr><attr><attrlabl Sync=\"TRUE\">Shape</attrlabl><attalias Sync=\"TRUE\">Shape</attalias><attrtype Sync=\"TRUE\">Geometry</attrtype><attwidth Sync=\"TRUE\">0</attwidth><atprecis Sync=\"TRUE\">0</atprecis><attscale Sync=\"TRUE\">0</attscale><attrdef Sync=\"TRUE\">Feature geometry.</attrdef><attrdefs Sync=\"TRUE\">Esri</attrdefs><attrdomv><udom Sync=\"TRUE\">Coordinates defining the features.</udom></attrdomv></attr><attr><attrlabl Sync=\"TRUE\">조사연도</attrlabl><attalias Sync=\"TRUE\">조사연도</attalias><attrtype Sync=\"TRUE\">String</attrtype><attwidth Sync=\"TRUE\">4</attwidth><atprecis Sync=\"TRUE\">0</atprecis><attscale Sync=\"TRUE\">0</attscale></attr><attr><attrlabl Sync=\"TRUE\">조사지코드</attrlabl><attalias Sync=\"TRUE\">조사지코드</attalias><attrtype Sync=\"TRUE\">String</attrtype><attwidth Sync=\"TRUE\">9</attwidth><atprecis Sync=\"TRUE\">0</atprecis><attscale Sync=\"TRUE\">0</attscale></attr><attr><attrlabl Sync=\"TRUE\">조사자</attrlabl><attalias Sync=\"TRUE\">조사자</attalias><attrtype Sync=\"TRUE\">String</attrtype><attwidth Sync=\"TRUE\">20</attwidth><atprecis Sync=\"TRUE\">0</atprecis><attscale Sync=\"TRUE\">0</attscale></attr><attr><attrlabl Sync=\"TRUE\">조사시작일</attrlabl><attalias Sync=\"TRUE\">조사시작일</attalias><attrtype Sync=\"TRUE\">String</attrtype><attwidth Sync=\"TRUE\">8</attwidth><atprecis Sync=\"TRUE\">0</atprecis><attscale Sync=\"TRUE\">0</attscale></attr><attr><attrlabl Sync=\"TRUE\">조사종료일</attrlabl><attalias Sync=\"TRUE\">조사종료일</attalias><attrtype Sync=\"TRUE\">String</attrtype><attwidth Sync=\"TRUE\">8</attwidth><atprecis Sync=\"TRUE\">0</atprecis><attscale Sync=\"TRUE\">0</attscale></attr><attr><attrlabl Sync=\"TRUE\">종코드</attrlabl><attalias Sync=\"TRUE\">종코드</attalias><attrtype Sync=\"TRUE\">String</attrtype><attwidth Sync=\"TRUE\">5</attwidth><atprecis Sync=\"TRUE\">0</atprecis><attscale Sync=\"TRUE\">0</attscale></attr><attr><attrlabl Sync=\"TRUE\">국명</attrlabl><attalias Sync=\"TRUE\">국명</attalias><attrtype Sync=\"TRUE\">String</attrtype><attwidth Sync=\"TRUE\">20</attwidth><atprecis Sync=\"TRUE\">0</atprecis><attscale Sync=\"TRUE\">0</attscale></attr><attr><attrlabl Sync=\"TRUE\">학명</attrlabl><attalias Sync=\"TRUE\">학명</attalias><attrtype Sync=\"TRUE\">String</attrtype><attwidth Sync=\"TRUE\">50</attwidth><atprecis Sync=\"TRUE\">0</atprecis><attscale Sync=\"TRUE\">0</attscale></attr><attr><attrlabl Sync=\"TRUE\">명명자</attrlabl><attalias Sync=\"TRUE\">명명자</attalias><attrtype Sync=\"TRUE\">String</attrtype><attwidth Sync=\"TRUE\">50</attwidth><atprecis Sync=\"TRUE\">0</atprecis><attscale Sync=\"TRUE\">0</attscale></attr><attr><attrlabl Sync=\"TRUE\">확인법</attrlabl><attalias Sync=\"TRUE\">확인법</attalias><attrtype Sync=\"TRUE\">String</attrtype><attwidth Sync=\"TRUE\">50</attwidth><atprecis Sync=\"TRUE\">0</atprecis><attscale Sync=\"TRUE\">0</attscale></attr><attr><attrlabl Sync=\"TRUE\">개체수</attrlabl><attalias Sync=\"TRUE\">개체수</attalias><attrtype Sync=\"TRUE\">String</attrtype><attwidth Sync=\"TRUE\">20</attwidth><atprecis Sync=\"TRUE\">0</atprecis><attscale Sync=\"TRUE\">0</attscale></attr><attr><attrlabl Sync=\"TRUE\">설문지번호</attrlabl><attalias Sync=\"TRUE\">설문지번호</attalias><attrtype Sync=\"TRUE\">String</attrtype><attwidth Sync=\"TRUE\">10</attwidth><atprecis Sync=\"TRUE\">0</atprecis><attscale Sync=\"TRUE\">0</attscale></attr><attr><attrlabl Sync=\"TRUE\">목격년월일</attrlabl><attalias Sync=\"TRUE\">목격년월일</attalias><attrtype Sync=\"TRUE\">String</attrtype><attwidth Sync=\"TRUE\">8</attwidth><atprecis Sync=\"TRUE\">0</atprecis><attscale Sync=\"TRUE\">0</attscale></attr><attr><attrlabl Sync=\"TRUE\">목격장소</attrlabl><attalias Sync=\"TRUE\">목격장소</attalias><attrtype Sync=\"TRUE\">String</attrtype><attwidth Sync=\"TRUE\">20</attwidth><atprecis Sync=\"TRUE\">0</atprecis><attscale Sync=\"TRUE\">0</attscale></attr><attr><attrlabl Sync=\"TRUE\">목격내용</attrlabl><attalias Sync=\"TRUE\">목격내용</attalias><attrtype Sync=\"TRUE\">String</attrtype><attwidth Sync=\"TRUE\">50</attwidth><atprecis Sync=\"TRUE\">0</atprecis><attscale Sync=\"TRUE\">0</attscale></attr><attr><attrlabl Sync=\"TRUE\">특기사항</attrlabl><attalias Sync=\"TRUE\">특기사항</attalias><attrtype Sync=\"TRUE\">String</attrtype><attwidth Sync=\"TRUE\">20</attwidth><atprecis Sync=\"TRUE\">0</atprecis><attscale Sync=\"TRUE\">0</attscale></attr><attr><attrlabl Sync=\"TRUE\">NUMBER</attrlabl><attalias Sync=\"TRUE\">NUMBER</attalias><attrtype Sync=\"TRUE\">String</attrtype><attwidth Sync=\"TRUE\">6</attwidth><atprecis Sync=\"TRUE\">0</atprecis><attscale Sync=\"TRUE\">0</attscale></attr></detailed></eainfo><mdDateSt Sync=\"TRUE\">20191023</mdDateSt></metadata>\n",
      "\n"
     ]
    },
    {
     "ename": "ValueError",
     "evalue": "I/O operation on closed file.",
     "output_type": "error",
     "traceback": [
      "\u001b[1;31m---------------------------------------------------------------------------\u001b[0m",
      "\u001b[1;31mValueError\u001b[0m                                Traceback (most recent call last)",
      "\u001b[1;32m~\\AppData\\Local\\Temp\\ipykernel_18140\\3236420240.py\u001b[0m in \u001b[0;36m<module>\u001b[1;34m\u001b[0m\n\u001b[0;32m      3\u001b[0m \u001b[1;33m\u001b[0m\u001b[0m\n\u001b[0;32m      4\u001b[0m \u001b[1;32mfrom\u001b[0m \u001b[0mbs4\u001b[0m \u001b[1;32mimport\u001b[0m \u001b[0mBeautifulSoup\u001b[0m\u001b[1;33m\u001b[0m\u001b[1;33m\u001b[0m\u001b[0m\n\u001b[1;32m----> 5\u001b[1;33m \u001b[0manimal\u001b[0m \u001b[1;33m=\u001b[0m \u001b[0mBeautifulSoup\u001b[0m\u001b[1;33m(\u001b[0m\u001b[0manimal\u001b[0m\u001b[1;33m,\u001b[0m\u001b[1;34m'html.parser'\u001b[0m\u001b[1;33m)\u001b[0m\u001b[1;33m\u001b[0m\u001b[1;33m\u001b[0m\u001b[0m\n\u001b[0m\u001b[0;32m      6\u001b[0m \u001b[1;33m\u001b[0m\u001b[0m\n",
      "\u001b[1;32m~\\anaconda3\\lib\\site-packages\\bs4\\__init__.py\u001b[0m in \u001b[0;36m__init__\u001b[1;34m(self, markup, features, builder, parse_only, from_encoding, exclude_encodings, element_classes, **kwargs)\u001b[0m\n\u001b[0;32m    310\u001b[0m \u001b[1;33m\u001b[0m\u001b[0m\n\u001b[0;32m    311\u001b[0m         \u001b[1;32mif\u001b[0m \u001b[0mhasattr\u001b[0m\u001b[1;33m(\u001b[0m\u001b[0mmarkup\u001b[0m\u001b[1;33m,\u001b[0m \u001b[1;34m'read'\u001b[0m\u001b[1;33m)\u001b[0m\u001b[1;33m:\u001b[0m        \u001b[1;31m# It's a file-type object.\u001b[0m\u001b[1;33m\u001b[0m\u001b[1;33m\u001b[0m\u001b[0m\n\u001b[1;32m--> 312\u001b[1;33m             \u001b[0mmarkup\u001b[0m \u001b[1;33m=\u001b[0m \u001b[0mmarkup\u001b[0m\u001b[1;33m.\u001b[0m\u001b[0mread\u001b[0m\u001b[1;33m(\u001b[0m\u001b[1;33m)\u001b[0m\u001b[1;33m\u001b[0m\u001b[1;33m\u001b[0m\u001b[0m\n\u001b[0m\u001b[0;32m    313\u001b[0m         elif len(markup) <= 256 and (\n\u001b[0;32m    314\u001b[0m                 \u001b[1;33m(\u001b[0m\u001b[0misinstance\u001b[0m\u001b[1;33m(\u001b[0m\u001b[0mmarkup\u001b[0m\u001b[1;33m,\u001b[0m \u001b[0mbytes\u001b[0m\u001b[1;33m)\u001b[0m \u001b[1;32mand\u001b[0m \u001b[1;32mnot\u001b[0m \u001b[1;34mb'<'\u001b[0m \u001b[1;32min\u001b[0m \u001b[0mmarkup\u001b[0m\u001b[1;33m)\u001b[0m\u001b[1;33m\u001b[0m\u001b[1;33m\u001b[0m\u001b[0m\n",
      "\u001b[1;31mValueError\u001b[0m: I/O operation on closed file."
     ]
    }
   ],
   "source": [
    "with open('datas/제2차_전국자연환경조사_포유류(멸종제외).shp.xml','r', encoding='UTF-8') as animal:\n",
    "    print(animal.read())\n",
    "\n",
    "from bs4 import BeautifulSoup\n",
    "animal = BeautifulSoup(animal,'html.parser')\n",
    "    "
   ]
  },
  {
   "cell_type": "code",
   "execution_count": null,
   "id": "1764d573-821b-4692-90df-e2d55b16e87b",
   "metadata": {},
   "outputs": [],
   "source": []
  }
 ],
 "metadata": {
  "kernelspec": {
   "display_name": "Python 3 (ipykernel)",
   "language": "python",
   "name": "python3"
  },
  "language_info": {
   "codemirror_mode": {
    "name": "ipython",
    "version": 3
   },
   "file_extension": ".py",
   "mimetype": "text/x-python",
   "name": "python",
   "nbconvert_exporter": "python",
   "pygments_lexer": "ipython3",
   "version": "3.9.13"
  }
 },
 "nbformat": 4,
 "nbformat_minor": 5
}
