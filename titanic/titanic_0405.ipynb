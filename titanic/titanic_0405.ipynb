{
 "cells": [
  {
   "cell_type": "markdown",
   "id": "47225c97",
   "metadata": {},
   "source": [
    "# titanic호 탑승객의 생존유무(survived) 예측"
   ]
  },
  {
   "cell_type": "code",
   "execution_count": 1,
   "id": "3235fb79",
   "metadata": {
    "tags": []
   },
   "outputs": [],
   "source": [
    "import pandas as pd\n",
    "import numpy as np\n",
    "import random as rnd"
   ]
  },
  {
   "cell_type": "code",
   "execution_count": 2,
   "id": "c252c917",
   "metadata": {
    "tags": []
   },
   "outputs": [],
   "source": [
    "import seaborn as sns\n",
    "import matplotlib.pyplot as plt\n",
    "%matplotlib inline"
   ]
  },
  {
   "cell_type": "code",
   "execution_count": 3,
   "id": "6d59a6e4",
   "metadata": {
    "tags": []
   },
   "outputs": [],
   "source": [
    "from sklearn.linear_model import LogisticRegression\n",
    "from sklearn.svm import SVC, LinearSVC\n",
    "from sklearn.ensemble import RandomForestClassifier\n",
    "from sklearn.neighbors import KNeighborsClassifier\n",
    "from sklearn.naive_bayes import GaussianNB\n",
    "from sklearn.tree import DecisionTreeClassifier"
   ]
  },
  {
   "cell_type": "code",
   "execution_count": 4,
   "id": "4ce27a73-1de9-4be8-b41b-60edd6fd4522",
   "metadata": {},
   "outputs": [
    {
     "name": "stdout",
     "output_type": "stream",
     "text": [
      "C:\\python\n"
     ]
    }
   ],
   "source": [
    "%cd C://python"
   ]
  },
  {
   "cell_type": "code",
   "execution_count": 5,
   "id": "718432c4",
   "metadata": {
    "tags": []
   },
   "outputs": [],
   "source": [
    "import easydict\n",
    "args = easydict.EasyDict()\n",
    "\n",
    "# path 정보\n",
    "args.train_csv = 'titanic/train.csv' \n",
    "args.test_csv = 'titanic/test.csv'\n",
    "args.default_submission_csv = 'titanic/submission.csv'\n",
    "\n",
    "args.submission_csv ='submission_0405.csv'\n",
    "args.save_results = \"model_results.json\"\n",
    "\n",
    "# 데이터 분석을 위한 변수들\n",
    "args.random_state = 21\n",
    "args.results = []"
   ]
  },
  {
   "cell_type": "markdown",
   "id": "ff3fd27c-c07c-482e-a379-6fcc8d7854ca",
   "metadata": {},
   "source": [
    "## 데이터 불러오기"
   ]
  },
  {
   "cell_type": "markdown",
   "id": "db0c88f1-1187-429c-a88b-0f0b2abeacfe",
   "metadata": {},
   "source": [
    "- survived : 생존=1, 죽음=0\n",
    "- pclass : 승객 등급. 1등급=1, 2등급=2, 3등급=3\n",
    "- sibsp : 함께 탑승한 형제 또는 배우자 수\n",
    "- parch : 함께 탑승한 부모 또는 자녀 수\n",
    "- ticket : 티켓 번호\n",
    "- cabin : 선실 번호\n",
    "- embarked : 탑승장소 S=Southhampton, C=Cherbourg, Q=Queenstown"
   ]
  },
  {
   "cell_type": "code",
   "execution_count": 6,
   "id": "b6c305ea",
   "metadata": {
    "tags": []
   },
   "outputs": [
    {
     "data": {
      "text/plain": [
       "((916, 12), (393, 11))"
      ]
     },
     "execution_count": 6,
     "metadata": {},
     "output_type": "execute_result"
    }
   ],
   "source": [
    "raw_train = pd.read_csv(args.train_csv) \n",
    "raw_test = pd.read_csv(args.test_csv)\n",
    "\n",
    "raw_train.shape, raw_test.shape   "
   ]
  },
  {
   "cell_type": "code",
   "execution_count": 7,
   "id": "752dbfe0",
   "metadata": {
    "tags": []
   },
   "outputs": [
    {
     "data": {
      "text/plain": [
       "Index(['passengerid', 'survived', 'pclass', 'name', 'gender', 'age', 'sibsp',\n",
       "       'parch', 'ticket', 'fare', 'cabin', 'embarked'],\n",
       "      dtype='object')"
      ]
     },
     "execution_count": 7,
     "metadata": {},
     "output_type": "execute_result"
    }
   ],
   "source": [
    "raw_train.columns  "
   ]
  },
  {
   "cell_type": "code",
   "execution_count": 8,
   "id": "48a25bed",
   "metadata": {
    "tags": []
   },
   "outputs": [
    {
     "data": {
      "text/plain": [
       "916"
      ]
     },
     "execution_count": 8,
     "metadata": {},
     "output_type": "execute_result"
    }
   ],
   "source": [
    "raw_train['passengerid'].nunique()"
   ]
  },
  {
   "cell_type": "code",
   "execution_count": 9,
   "id": "fa44819a",
   "metadata": {
    "tags": []
   },
   "outputs": [],
   "source": [
    "#passengerid는 모두 다른 값이므로 삭제\n",
    "del raw_train['passengerid']"
   ]
  },
  {
   "cell_type": "code",
   "execution_count": 10,
   "id": "93d63116",
   "metadata": {
    "tags": []
   },
   "outputs": [
    {
     "name": "stdout",
     "output_type": "stream",
     "text": [
      "(393, 10)\n"
     ]
    }
   ],
   "source": [
    "raw_test.set_index(['passengerid'], inplace=True) \n",
    "print(f'{raw_test.shape}')"
   ]
  },
  {
   "cell_type": "code",
   "execution_count": 11,
   "id": "74ec1688-e5da-4596-ae0c-c2b4c11b5297",
   "metadata": {},
   "outputs": [
    {
     "data": {
      "text/plain": [
       "((916, 11), (393, 10))"
      ]
     },
     "execution_count": 11,
     "metadata": {},
     "output_type": "execute_result"
    }
   ],
   "source": [
    "raw_train.shape , raw_test.shape"
   ]
  },
  {
   "cell_type": "code",
   "execution_count": 12,
   "id": "c57a7395",
   "metadata": {
    "tags": []
   },
   "outputs": [
    {
     "data": {
      "text/plain": [
       "Index(['survived', 'pclass', 'name', 'gender', 'age', 'sibsp', 'parch',\n",
       "       'ticket', 'fare', 'cabin', 'embarked'],\n",
       "      dtype='object')"
      ]
     },
     "execution_count": 12,
     "metadata": {},
     "output_type": "execute_result"
    }
   ],
   "source": [
    "raw_train.columns"
   ]
  },
  {
   "cell_type": "code",
   "execution_count": 13,
   "id": "d0533185",
   "metadata": {
    "tags": []
   },
   "outputs": [
    {
     "data": {
      "text/plain": [
       "Index(['pclass', 'name', 'gender', 'age', 'sibsp', 'parch', 'ticket', 'fare',\n",
       "       'cabin', 'embarked'],\n",
       "      dtype='object')"
      ]
     },
     "execution_count": 13,
     "metadata": {},
     "output_type": "execute_result"
    }
   ],
   "source": [
    "raw_test.columns"
   ]
  },
  {
   "cell_type": "markdown",
   "id": "6997a3b0",
   "metadata": {},
   "source": [
    "## train_test_split"
   ]
  },
  {
   "cell_type": "markdown",
   "id": "ab2644de-fc0f-43c1-b888-d0fc82c8d4e5",
   "metadata": {},
   "source": [
    "raw train data -> train, test로 분리"
   ]
  },
  {
   "cell_type": "code",
   "execution_count": 14,
   "id": "b1463235",
   "metadata": {
    "tags": []
   },
   "outputs": [],
   "source": [
    "from sklearn.model_selection import train_test_split"
   ]
  },
  {
   "cell_type": "code",
   "execution_count": 15,
   "id": "286bcce6",
   "metadata": {
    "tags": []
   },
   "outputs": [],
   "source": [
    "train, test = train_test_split(raw_train, test_size=0.3, stratify=raw_train['survived'],random_state=args.random_state) "
   ]
  },
  {
   "cell_type": "code",
   "execution_count": 16,
   "id": "0ab6263e",
   "metadata": {
    "tags": []
   },
   "outputs": [
    {
     "data": {
      "text/plain": [
       "((641, 11), (275, 11))"
      ]
     },
     "execution_count": 16,
     "metadata": {},
     "output_type": "execute_result"
    }
   ],
   "source": [
    "train.shape, test.shape"
   ]
  },
  {
   "cell_type": "code",
   "execution_count": 17,
   "id": "d3b56098",
   "metadata": {
    "tags": []
   },
   "outputs": [
    {
     "name": "stdout",
     "output_type": "stream",
     "text": [
      "<class 'pandas.core.frame.DataFrame'>\n",
      "Int64Index: 641 entries, 812 to 277\n",
      "Data columns (total 11 columns):\n",
      " #   Column    Non-Null Count  Dtype  \n",
      "---  ------    --------------  -----  \n",
      " 0   survived  641 non-null    int64  \n",
      " 1   pclass    641 non-null    int64  \n",
      " 2   name      641 non-null    object \n",
      " 3   gender    641 non-null    object \n",
      " 4   age       512 non-null    float64\n",
      " 5   sibsp     641 non-null    int64  \n",
      " 6   parch     641 non-null    int64  \n",
      " 7   ticket    641 non-null    object \n",
      " 8   fare      641 non-null    float64\n",
      " 9   cabin     135 non-null    object \n",
      " 10  embarked  641 non-null    object \n",
      "dtypes: float64(2), int64(4), object(5)\n",
      "memory usage: 60.1+ KB\n"
     ]
    }
   ],
   "source": [
    "train.info()"
   ]
  },
  {
   "cell_type": "code",
   "execution_count": 18,
   "id": "864967d0",
   "metadata": {
    "tags": []
   },
   "outputs": [
    {
     "data": {
      "text/html": [
       "<div>\n",
       "<style scoped>\n",
       "    .dataframe tbody tr th:only-of-type {\n",
       "        vertical-align: middle;\n",
       "    }\n",
       "\n",
       "    .dataframe tbody tr th {\n",
       "        vertical-align: top;\n",
       "    }\n",
       "\n",
       "    .dataframe thead th {\n",
       "        text-align: right;\n",
       "    }\n",
       "</style>\n",
       "<table border=\"1\" class=\"dataframe\">\n",
       "  <thead>\n",
       "    <tr style=\"text-align: right;\">\n",
       "      <th></th>\n",
       "      <th>survived</th>\n",
       "      <th>pclass</th>\n",
       "      <th>name</th>\n",
       "      <th>gender</th>\n",
       "      <th>age</th>\n",
       "      <th>sibsp</th>\n",
       "      <th>parch</th>\n",
       "      <th>ticket</th>\n",
       "      <th>fare</th>\n",
       "      <th>cabin</th>\n",
       "      <th>embarked</th>\n",
       "    </tr>\n",
       "  </thead>\n",
       "  <tbody>\n",
       "    <tr>\n",
       "      <th>count</th>\n",
       "      <td>641.000000</td>\n",
       "      <td>641.000000</td>\n",
       "      <td>641</td>\n",
       "      <td>641</td>\n",
       "      <td>512.000000</td>\n",
       "      <td>641.000000</td>\n",
       "      <td>641.000000</td>\n",
       "      <td>641</td>\n",
       "      <td>641.000000</td>\n",
       "      <td>135</td>\n",
       "      <td>641</td>\n",
       "    </tr>\n",
       "    <tr>\n",
       "      <th>unique</th>\n",
       "      <td>NaN</td>\n",
       "      <td>NaN</td>\n",
       "      <td>641</td>\n",
       "      <td>2</td>\n",
       "      <td>NaN</td>\n",
       "      <td>NaN</td>\n",
       "      <td>NaN</td>\n",
       "      <td>529</td>\n",
       "      <td>NaN</td>\n",
       "      <td>110</td>\n",
       "      <td>3</td>\n",
       "    </tr>\n",
       "    <tr>\n",
       "      <th>top</th>\n",
       "      <td>NaN</td>\n",
       "      <td>NaN</td>\n",
       "      <td>Ohman, Miss. Velin</td>\n",
       "      <td>male</td>\n",
       "      <td>NaN</td>\n",
       "      <td>NaN</td>\n",
       "      <td>NaN</td>\n",
       "      <td>3101295</td>\n",
       "      <td>NaN</td>\n",
       "      <td>B96 B98</td>\n",
       "      <td>S</td>\n",
       "    </tr>\n",
       "    <tr>\n",
       "      <th>freq</th>\n",
       "      <td>NaN</td>\n",
       "      <td>NaN</td>\n",
       "      <td>1</td>\n",
       "      <td>407</td>\n",
       "      <td>NaN</td>\n",
       "      <td>NaN</td>\n",
       "      <td>NaN</td>\n",
       "      <td>5</td>\n",
       "      <td>NaN</td>\n",
       "      <td>3</td>\n",
       "      <td>455</td>\n",
       "    </tr>\n",
       "    <tr>\n",
       "      <th>mean</th>\n",
       "      <td>0.377535</td>\n",
       "      <td>2.305772</td>\n",
       "      <td>NaN</td>\n",
       "      <td>NaN</td>\n",
       "      <td>30.344082</td>\n",
       "      <td>0.466459</td>\n",
       "      <td>0.368175</td>\n",
       "      <td>NaN</td>\n",
       "      <td>31.654446</td>\n",
       "      <td>NaN</td>\n",
       "      <td>NaN</td>\n",
       "    </tr>\n",
       "    <tr>\n",
       "      <th>std</th>\n",
       "      <td>0.485149</td>\n",
       "      <td>0.829221</td>\n",
       "      <td>NaN</td>\n",
       "      <td>NaN</td>\n",
       "      <td>14.492658</td>\n",
       "      <td>0.961386</td>\n",
       "      <td>0.897140</td>\n",
       "      <td>NaN</td>\n",
       "      <td>49.827609</td>\n",
       "      <td>NaN</td>\n",
       "      <td>NaN</td>\n",
       "    </tr>\n",
       "    <tr>\n",
       "      <th>min</th>\n",
       "      <td>0.000000</td>\n",
       "      <td>1.000000</td>\n",
       "      <td>NaN</td>\n",
       "      <td>NaN</td>\n",
       "      <td>0.170000</td>\n",
       "      <td>0.000000</td>\n",
       "      <td>0.000000</td>\n",
       "      <td>NaN</td>\n",
       "      <td>0.000000</td>\n",
       "      <td>NaN</td>\n",
       "      <td>NaN</td>\n",
       "    </tr>\n",
       "    <tr>\n",
       "      <th>25%</th>\n",
       "      <td>0.000000</td>\n",
       "      <td>2.000000</td>\n",
       "      <td>NaN</td>\n",
       "      <td>NaN</td>\n",
       "      <td>21.000000</td>\n",
       "      <td>0.000000</td>\n",
       "      <td>0.000000</td>\n",
       "      <td>NaN</td>\n",
       "      <td>7.895800</td>\n",
       "      <td>NaN</td>\n",
       "      <td>NaN</td>\n",
       "    </tr>\n",
       "    <tr>\n",
       "      <th>50%</th>\n",
       "      <td>0.000000</td>\n",
       "      <td>3.000000</td>\n",
       "      <td>NaN</td>\n",
       "      <td>NaN</td>\n",
       "      <td>28.000000</td>\n",
       "      <td>0.000000</td>\n",
       "      <td>0.000000</td>\n",
       "      <td>NaN</td>\n",
       "      <td>14.400000</td>\n",
       "      <td>NaN</td>\n",
       "      <td>NaN</td>\n",
       "    </tr>\n",
       "    <tr>\n",
       "      <th>75%</th>\n",
       "      <td>1.000000</td>\n",
       "      <td>3.000000</td>\n",
       "      <td>NaN</td>\n",
       "      <td>NaN</td>\n",
       "      <td>38.000000</td>\n",
       "      <td>1.000000</td>\n",
       "      <td>0.000000</td>\n",
       "      <td>NaN</td>\n",
       "      <td>30.000000</td>\n",
       "      <td>NaN</td>\n",
       "      <td>NaN</td>\n",
       "    </tr>\n",
       "    <tr>\n",
       "      <th>max</th>\n",
       "      <td>1.000000</td>\n",
       "      <td>3.000000</td>\n",
       "      <td>NaN</td>\n",
       "      <td>NaN</td>\n",
       "      <td>80.000000</td>\n",
       "      <td>8.000000</td>\n",
       "      <td>9.000000</td>\n",
       "      <td>NaN</td>\n",
       "      <td>512.329200</td>\n",
       "      <td>NaN</td>\n",
       "      <td>NaN</td>\n",
       "    </tr>\n",
       "  </tbody>\n",
       "</table>\n",
       "</div>"
      ],
      "text/plain": [
       "          survived      pclass                name gender         age  \\\n",
       "count   641.000000  641.000000                 641    641  512.000000   \n",
       "unique         NaN         NaN                 641      2         NaN   \n",
       "top            NaN         NaN  Ohman, Miss. Velin   male         NaN   \n",
       "freq           NaN         NaN                   1    407         NaN   \n",
       "mean      0.377535    2.305772                 NaN    NaN   30.344082   \n",
       "std       0.485149    0.829221                 NaN    NaN   14.492658   \n",
       "min       0.000000    1.000000                 NaN    NaN    0.170000   \n",
       "25%       0.000000    2.000000                 NaN    NaN   21.000000   \n",
       "50%       0.000000    3.000000                 NaN    NaN   28.000000   \n",
       "75%       1.000000    3.000000                 NaN    NaN   38.000000   \n",
       "max       1.000000    3.000000                 NaN    NaN   80.000000   \n",
       "\n",
       "             sibsp       parch   ticket        fare    cabin embarked  \n",
       "count   641.000000  641.000000      641  641.000000      135      641  \n",
       "unique         NaN         NaN      529         NaN      110        3  \n",
       "top            NaN         NaN  3101295         NaN  B96 B98        S  \n",
       "freq           NaN         NaN        5         NaN        3      455  \n",
       "mean      0.466459    0.368175      NaN   31.654446      NaN      NaN  \n",
       "std       0.961386    0.897140      NaN   49.827609      NaN      NaN  \n",
       "min       0.000000    0.000000      NaN    0.000000      NaN      NaN  \n",
       "25%       0.000000    0.000000      NaN    7.895800      NaN      NaN  \n",
       "50%       0.000000    0.000000      NaN   14.400000      NaN      NaN  \n",
       "75%       1.000000    0.000000      NaN   30.000000      NaN      NaN  \n",
       "max       8.000000    9.000000      NaN  512.329200      NaN      NaN  "
      ]
     },
     "execution_count": 18,
     "metadata": {},
     "output_type": "execute_result"
    }
   ],
   "source": [
    "train.describe(include='all')"
   ]
  },
  {
   "cell_type": "markdown",
   "id": "d308153e",
   "metadata": {},
   "source": [
    "- 이름(Name)은 모두 다르다.\n",
    "- 성별(gender)은 407/641로 남성이 많다.\n",
    "- 승선(Embarked)은 총 3개의 종류가 있고, S가 제일 많다.\n",
    "- 티켓(Ticket)은 중복이 매우 적다."
   ]
  },
  {
   "cell_type": "code",
   "execution_count": 19,
   "id": "5f03a25f",
   "metadata": {
    "tags": []
   },
   "outputs": [
    {
     "data": {
      "text/html": [
       "<div>\n",
       "<style scoped>\n",
       "    .dataframe tbody tr th:only-of-type {\n",
       "        vertical-align: middle;\n",
       "    }\n",
       "\n",
       "    .dataframe tbody tr th {\n",
       "        vertical-align: top;\n",
       "    }\n",
       "\n",
       "    .dataframe thead th {\n",
       "        text-align: right;\n",
       "    }\n",
       "</style>\n",
       "<table border=\"1\" class=\"dataframe\">\n",
       "  <thead>\n",
       "    <tr style=\"text-align: right;\">\n",
       "      <th></th>\n",
       "      <th>survived</th>\n",
       "      <th>pclass</th>\n",
       "      <th>age</th>\n",
       "      <th>sibsp</th>\n",
       "      <th>parch</th>\n",
       "      <th>fare</th>\n",
       "    </tr>\n",
       "  </thead>\n",
       "  <tbody>\n",
       "    <tr>\n",
       "      <th>count</th>\n",
       "      <td>641.000000</td>\n",
       "      <td>641.000000</td>\n",
       "      <td>512.000000</td>\n",
       "      <td>641.000000</td>\n",
       "      <td>641.000000</td>\n",
       "      <td>641.000000</td>\n",
       "    </tr>\n",
       "    <tr>\n",
       "      <th>mean</th>\n",
       "      <td>0.377535</td>\n",
       "      <td>2.305772</td>\n",
       "      <td>30.344082</td>\n",
       "      <td>0.466459</td>\n",
       "      <td>0.368175</td>\n",
       "      <td>31.654446</td>\n",
       "    </tr>\n",
       "    <tr>\n",
       "      <th>std</th>\n",
       "      <td>0.485149</td>\n",
       "      <td>0.829221</td>\n",
       "      <td>14.492658</td>\n",
       "      <td>0.961386</td>\n",
       "      <td>0.897140</td>\n",
       "      <td>49.827609</td>\n",
       "    </tr>\n",
       "    <tr>\n",
       "      <th>min</th>\n",
       "      <td>0.000000</td>\n",
       "      <td>1.000000</td>\n",
       "      <td>0.170000</td>\n",
       "      <td>0.000000</td>\n",
       "      <td>0.000000</td>\n",
       "      <td>0.000000</td>\n",
       "    </tr>\n",
       "    <tr>\n",
       "      <th>25%</th>\n",
       "      <td>0.000000</td>\n",
       "      <td>2.000000</td>\n",
       "      <td>21.000000</td>\n",
       "      <td>0.000000</td>\n",
       "      <td>0.000000</td>\n",
       "      <td>7.895800</td>\n",
       "    </tr>\n",
       "    <tr>\n",
       "      <th>50%</th>\n",
       "      <td>0.000000</td>\n",
       "      <td>3.000000</td>\n",
       "      <td>28.000000</td>\n",
       "      <td>0.000000</td>\n",
       "      <td>0.000000</td>\n",
       "      <td>14.400000</td>\n",
       "    </tr>\n",
       "    <tr>\n",
       "      <th>75%</th>\n",
       "      <td>1.000000</td>\n",
       "      <td>3.000000</td>\n",
       "      <td>38.000000</td>\n",
       "      <td>1.000000</td>\n",
       "      <td>0.000000</td>\n",
       "      <td>30.000000</td>\n",
       "    </tr>\n",
       "    <tr>\n",
       "      <th>max</th>\n",
       "      <td>1.000000</td>\n",
       "      <td>3.000000</td>\n",
       "      <td>80.000000</td>\n",
       "      <td>8.000000</td>\n",
       "      <td>9.000000</td>\n",
       "      <td>512.329200</td>\n",
       "    </tr>\n",
       "  </tbody>\n",
       "</table>\n",
       "</div>"
      ],
      "text/plain": [
       "         survived      pclass         age       sibsp       parch        fare\n",
       "count  641.000000  641.000000  512.000000  641.000000  641.000000  641.000000\n",
       "mean     0.377535    2.305772   30.344082    0.466459    0.368175   31.654446\n",
       "std      0.485149    0.829221   14.492658    0.961386    0.897140   49.827609\n",
       "min      0.000000    1.000000    0.170000    0.000000    0.000000    0.000000\n",
       "25%      0.000000    2.000000   21.000000    0.000000    0.000000    7.895800\n",
       "50%      0.000000    3.000000   28.000000    0.000000    0.000000   14.400000\n",
       "75%      1.000000    3.000000   38.000000    1.000000    0.000000   30.000000\n",
       "max      1.000000    3.000000   80.000000    8.000000    9.000000  512.329200"
      ]
     },
     "execution_count": 19,
     "metadata": {},
     "output_type": "execute_result"
    }
   ],
   "source": [
    "train.describe(include=np.number)"
   ]
  },
  {
   "cell_type": "code",
   "execution_count": 20,
   "id": "e0670078",
   "metadata": {
    "tags": []
   },
   "outputs": [
    {
     "data": {
      "text/html": [
       "<div>\n",
       "<style scoped>\n",
       "    .dataframe tbody tr th:only-of-type {\n",
       "        vertical-align: middle;\n",
       "    }\n",
       "\n",
       "    .dataframe tbody tr th {\n",
       "        vertical-align: top;\n",
       "    }\n",
       "\n",
       "    .dataframe thead th {\n",
       "        text-align: right;\n",
       "    }\n",
       "</style>\n",
       "<table border=\"1\" class=\"dataframe\">\n",
       "  <thead>\n",
       "    <tr style=\"text-align: right;\">\n",
       "      <th></th>\n",
       "      <th>name</th>\n",
       "      <th>gender</th>\n",
       "      <th>ticket</th>\n",
       "      <th>cabin</th>\n",
       "      <th>embarked</th>\n",
       "    </tr>\n",
       "  </thead>\n",
       "  <tbody>\n",
       "    <tr>\n",
       "      <th>count</th>\n",
       "      <td>641</td>\n",
       "      <td>641</td>\n",
       "      <td>641</td>\n",
       "      <td>135</td>\n",
       "      <td>641</td>\n",
       "    </tr>\n",
       "    <tr>\n",
       "      <th>unique</th>\n",
       "      <td>641</td>\n",
       "      <td>2</td>\n",
       "      <td>529</td>\n",
       "      <td>110</td>\n",
       "      <td>3</td>\n",
       "    </tr>\n",
       "    <tr>\n",
       "      <th>top</th>\n",
       "      <td>Ohman, Miss. Velin</td>\n",
       "      <td>male</td>\n",
       "      <td>3101295</td>\n",
       "      <td>B96 B98</td>\n",
       "      <td>S</td>\n",
       "    </tr>\n",
       "    <tr>\n",
       "      <th>freq</th>\n",
       "      <td>1</td>\n",
       "      <td>407</td>\n",
       "      <td>5</td>\n",
       "      <td>3</td>\n",
       "      <td>455</td>\n",
       "    </tr>\n",
       "  </tbody>\n",
       "</table>\n",
       "</div>"
      ],
      "text/plain": [
       "                      name gender   ticket    cabin embarked\n",
       "count                  641    641      641      135      641\n",
       "unique                 641      2      529      110        3\n",
       "top     Ohman, Miss. Velin   male  3101295  B96 B98        S\n",
       "freq                     1    407        5        3      455"
      ]
     },
     "execution_count": 20,
     "metadata": {},
     "output_type": "execute_result"
    }
   ],
   "source": [
    "train.describe(exclude=np.number)"
   ]
  },
  {
   "cell_type": "markdown",
   "id": "d8491d9c",
   "metadata": {},
   "source": [
    "### EDA"
   ]
  },
  {
   "cell_type": "markdown",
   "id": "7615385c",
   "metadata": {},
   "source": [
    "#### Correcting\n",
    "- 필요없는 column 삭제\n",
    "> ticket<br>\n",
    "> cabin은 null값이 많이 존재"
   ]
  },
  {
   "cell_type": "code",
   "execution_count": 21,
   "id": "c53ccdfa",
   "metadata": {
    "tags": []
   },
   "outputs": [
    {
     "name": "stdout",
     "output_type": "stream",
     "text": [
      "before: ((641, 11), (275, 11), (393, 10))\n",
      "after: ((641, 9), (275, 9), (393, 8))\n"
     ]
    }
   ],
   "source": [
    "print(f'before: {train.shape , test.shape, raw_test.shape}')\n",
    "\n",
    "del train['ticket']\n",
    "#del train['cabin']\n",
    "\n",
    "del test['ticket']\n",
    "#del test['cabin']\n",
    "\n",
    "del raw_test['ticket']\n",
    "#del raw_test['cabin']\n",
    "\n",
    "print(f'after: {train.shape , test.shape, raw_test.shape}')"
   ]
  },
  {
   "cell_type": "markdown",
   "id": "d2d2a7b5",
   "metadata": {},
   "source": [
    "#### pivoting features"
   ]
  },
  {
   "cell_type": "code",
   "execution_count": 23,
   "id": "41ffd48e",
   "metadata": {
    "tags": []
   },
   "outputs": [
    {
     "data": {
      "text/html": [
       "<div>\n",
       "<style scoped>\n",
       "    .dataframe tbody tr th:only-of-type {\n",
       "        vertical-align: middle;\n",
       "    }\n",
       "\n",
       "    .dataframe tbody tr th {\n",
       "        vertical-align: top;\n",
       "    }\n",
       "\n",
       "    .dataframe thead th {\n",
       "        text-align: right;\n",
       "    }\n",
       "</style>\n",
       "<table border=\"1\" class=\"dataframe\">\n",
       "  <thead>\n",
       "    <tr style=\"text-align: right;\">\n",
       "      <th></th>\n",
       "      <th>pclass</th>\n",
       "      <th>survived</th>\n",
       "    </tr>\n",
       "  </thead>\n",
       "  <tbody>\n",
       "    <tr>\n",
       "      <th>0</th>\n",
       "      <td>1</td>\n",
       "      <td>0.618421</td>\n",
       "    </tr>\n",
       "    <tr>\n",
       "      <th>1</th>\n",
       "      <td>2</td>\n",
       "      <td>0.404255</td>\n",
       "    </tr>\n",
       "    <tr>\n",
       "      <th>2</th>\n",
       "      <td>3</td>\n",
       "      <td>0.261494</td>\n",
       "    </tr>\n",
       "  </tbody>\n",
       "</table>\n",
       "</div>"
      ],
      "text/plain": [
       "   pclass  survived\n",
       "0       1  0.618421\n",
       "1       2  0.404255\n",
       "2       3  0.261494"
      ]
     },
     "execution_count": 23,
     "metadata": {},
     "output_type": "execute_result"
    }
   ],
   "source": [
    "#pcalss\n",
    "train[['pclass','survived']].groupby(['pclass'],as_index=False).mean().sort_values(by='survived',ascending=False)"
   ]
  },
  {
   "cell_type": "code",
   "execution_count": 24,
   "id": "6fc43f2c",
   "metadata": {
    "tags": []
   },
   "outputs": [
    {
     "data": {
      "text/html": [
       "<div>\n",
       "<style scoped>\n",
       "    .dataframe tbody tr th:only-of-type {\n",
       "        vertical-align: middle;\n",
       "    }\n",
       "\n",
       "    .dataframe tbody tr th {\n",
       "        vertical-align: top;\n",
       "    }\n",
       "\n",
       "    .dataframe thead th {\n",
       "        text-align: right;\n",
       "    }\n",
       "</style>\n",
       "<table border=\"1\" class=\"dataframe\">\n",
       "  <thead>\n",
       "    <tr style=\"text-align: right;\">\n",
       "      <th></th>\n",
       "      <th>gender</th>\n",
       "      <th>survived</th>\n",
       "    </tr>\n",
       "  </thead>\n",
       "  <tbody>\n",
       "    <tr>\n",
       "      <th>0</th>\n",
       "      <td>female</td>\n",
       "      <td>0.816239</td>\n",
       "    </tr>\n",
       "    <tr>\n",
       "      <th>1</th>\n",
       "      <td>male</td>\n",
       "      <td>0.125307</td>\n",
       "    </tr>\n",
       "  </tbody>\n",
       "</table>\n",
       "</div>"
      ],
      "text/plain": [
       "   gender  survived\n",
       "0  female  0.816239\n",
       "1    male  0.125307"
      ]
     },
     "execution_count": 24,
     "metadata": {},
     "output_type": "execute_result"
    }
   ],
   "source": [
    "#gender\n",
    "train[['gender','survived']].groupby(['gender'],as_index=False).mean().sort_values(by='survived',ascending=False)"
   ]
  },
  {
   "cell_type": "code",
   "execution_count": 26,
   "id": "9af312c9",
   "metadata": {
    "tags": []
   },
   "outputs": [
    {
     "data": {
      "text/html": [
       "<div>\n",
       "<style scoped>\n",
       "    .dataframe tbody tr th:only-of-type {\n",
       "        vertical-align: middle;\n",
       "    }\n",
       "\n",
       "    .dataframe tbody tr th {\n",
       "        vertical-align: top;\n",
       "    }\n",
       "\n",
       "    .dataframe thead th {\n",
       "        text-align: right;\n",
       "    }\n",
       "</style>\n",
       "<table border=\"1\" class=\"dataframe\">\n",
       "  <thead>\n",
       "    <tr style=\"text-align: right;\">\n",
       "      <th></th>\n",
       "      <th>sibsp</th>\n",
       "      <th>survived</th>\n",
       "    </tr>\n",
       "  </thead>\n",
       "  <tbody>\n",
       "    <tr>\n",
       "      <th>1</th>\n",
       "      <td>1</td>\n",
       "      <td>0.558442</td>\n",
       "    </tr>\n",
       "    <tr>\n",
       "      <th>2</th>\n",
       "      <td>2</td>\n",
       "      <td>0.421053</td>\n",
       "    </tr>\n",
       "    <tr>\n",
       "      <th>0</th>\n",
       "      <td>0</td>\n",
       "      <td>0.330317</td>\n",
       "    </tr>\n",
       "    <tr>\n",
       "      <th>4</th>\n",
       "      <td>4</td>\n",
       "      <td>0.100000</td>\n",
       "    </tr>\n",
       "    <tr>\n",
       "      <th>3</th>\n",
       "      <td>3</td>\n",
       "      <td>0.090909</td>\n",
       "    </tr>\n",
       "    <tr>\n",
       "      <th>5</th>\n",
       "      <td>5</td>\n",
       "      <td>0.000000</td>\n",
       "    </tr>\n",
       "    <tr>\n",
       "      <th>6</th>\n",
       "      <td>8</td>\n",
       "      <td>0.000000</td>\n",
       "    </tr>\n",
       "  </tbody>\n",
       "</table>\n",
       "</div>"
      ],
      "text/plain": [
       "   sibsp  survived\n",
       "1      1  0.558442\n",
       "2      2  0.421053\n",
       "0      0  0.330317\n",
       "4      4  0.100000\n",
       "3      3  0.090909\n",
       "5      5  0.000000\n",
       "6      8  0.000000"
      ]
     },
     "execution_count": 26,
     "metadata": {},
     "output_type": "execute_result"
    }
   ],
   "source": [
    "#sibsp - 형제,배우자 수\n",
    "train[['sibsp','survived']].groupby(['sibsp'],as_index=False).mean().sort_values(by='survived',ascending=False)"
   ]
  },
  {
   "cell_type": "code",
   "execution_count": 28,
   "id": "39152bf5",
   "metadata": {
    "tags": []
   },
   "outputs": [
    {
     "data": {
      "text/html": [
       "<div>\n",
       "<style scoped>\n",
       "    .dataframe tbody tr th:only-of-type {\n",
       "        vertical-align: middle;\n",
       "    }\n",
       "\n",
       "    .dataframe tbody tr th {\n",
       "        vertical-align: top;\n",
       "    }\n",
       "\n",
       "    .dataframe thead th {\n",
       "        text-align: right;\n",
       "    }\n",
       "</style>\n",
       "<table border=\"1\" class=\"dataframe\">\n",
       "  <thead>\n",
       "    <tr style=\"text-align: right;\">\n",
       "      <th></th>\n",
       "      <th>parch</th>\n",
       "      <th>survived</th>\n",
       "    </tr>\n",
       "  </thead>\n",
       "  <tbody>\n",
       "    <tr>\n",
       "      <th>7</th>\n",
       "      <td>9</td>\n",
       "      <td>1.000000</td>\n",
       "    </tr>\n",
       "    <tr>\n",
       "      <th>1</th>\n",
       "      <td>1</td>\n",
       "      <td>0.520548</td>\n",
       "    </tr>\n",
       "    <tr>\n",
       "      <th>2</th>\n",
       "      <td>2</td>\n",
       "      <td>0.479167</td>\n",
       "    </tr>\n",
       "    <tr>\n",
       "      <th>3</th>\n",
       "      <td>3</td>\n",
       "      <td>0.400000</td>\n",
       "    </tr>\n",
       "    <tr>\n",
       "      <th>0</th>\n",
       "      <td>0</td>\n",
       "      <td>0.348515</td>\n",
       "    </tr>\n",
       "    <tr>\n",
       "      <th>5</th>\n",
       "      <td>5</td>\n",
       "      <td>0.333333</td>\n",
       "    </tr>\n",
       "    <tr>\n",
       "      <th>4</th>\n",
       "      <td>4</td>\n",
       "      <td>0.250000</td>\n",
       "    </tr>\n",
       "    <tr>\n",
       "      <th>6</th>\n",
       "      <td>6</td>\n",
       "      <td>0.000000</td>\n",
       "    </tr>\n",
       "  </tbody>\n",
       "</table>\n",
       "</div>"
      ],
      "text/plain": [
       "   parch  survived\n",
       "7      9  1.000000\n",
       "1      1  0.520548\n",
       "2      2  0.479167\n",
       "3      3  0.400000\n",
       "0      0  0.348515\n",
       "5      5  0.333333\n",
       "4      4  0.250000\n",
       "6      6  0.000000"
      ]
     },
     "execution_count": 28,
     "metadata": {},
     "output_type": "execute_result"
    }
   ],
   "source": [
    "#parch - 부모,자녀 수\n",
    "train[['parch','survived']].groupby(['parch'],as_index=False).mean().sort_values(by='survived',ascending=False)"
   ]
  },
  {
   "cell_type": "markdown",
   "id": "7db7e022",
   "metadata": {},
   "source": [
    "#### Correlating \n",
    "- 상관관계"
   ]
  },
  {
   "cell_type": "code",
   "execution_count": 33,
   "id": "96adf476-3509-43e2-bb0c-68c9e317534e",
   "metadata": {},
   "outputs": [
    {
     "data": {
      "image/png": "[encoded data removed]",
      "text/plain": [
       "<Figure size 640x480 with 1 Axes>"
      ]
     },
     "metadata": {},
     "output_type": "display_data"
    }
   ],
   "source": [
    "plt.hist(train['age'], bins=20)\n",
    "plt.show()"
   ]
  },
  {
   "cell_type": "code",
   "execution_count": 29,
   "id": "3d69e3f6",
   "metadata": {
    "tags": []
   },
   "outputs": [
    {
     "data": {
      "text/plain": [
       "<seaborn.axisgrid.FacetGrid at 0x2ad7217a4c0>"
      ]
     },
     "execution_count": 29,
     "metadata": {},
     "output_type": "execute_result"
    },
    {
     "data": {
      "image/png": "[encoded data removed]",
      "text/plain": [
       "<Figure size 600x300 with 2 Axes>"
      ]
     },
     "metadata": {},
     "output_type": "display_data"
    }
   ],
   "source": [
    "#age\n",
    "g = sns.FacetGrid(train, col ='survived')\n",
    "g.map(plt.hist,'age', bins=20)"
   ]
  },
  {
   "cell_type": "code",
   "execution_count": 151,
   "id": "0ff70a52",
   "metadata": {
    "execution": {
     "iopub.execute_input": "2023-04-05T16:30:38.363358Z",
     "iopub.status.busy": "2023-04-05T16:30:38.362195Z",
     "iopub.status.idle": "2023-04-05T16:30:38.368959Z",
     "shell.execute_reply": "2023-04-05T16:30:38.367649Z",
     "shell.execute_reply.started": "2023-04-05T16:30:38.363317Z"
    }
   },
   "outputs": [],
   "source": [
    "import logging\n",
    "\n",
    "logging.getLogger('matplotlib.font_manager').setLevel(logging.ERROR) "
   ]
  },
  {
   "cell_type": "code",
   "execution_count": 35,
   "id": "4d863eb2",
   "metadata": {
    "tags": []
   },
   "outputs": [
    {
     "data": {
      "text/plain": [
       "<seaborn.axisgrid.FacetGrid at 0x2ad74ae1fa0>"
      ]
     },
     "execution_count": 46,
     "metadata": {},
     "output_type": "execute_result"
    },
    {
     "data": {
      "image/png": "[encoded data removed]",
      "text/plain": [
       "<Figure size 971.111x900 with 6 Axes>"
      ]
     },
     "metadata": {},
     "output_type": "display_data"
    }
   ],
   "source": [
    "#pclasss\n",
    "grid = sns.FacetGrid(train,col='survived',row='pclass', aspect=1.6)\n",
    "grid.map(plt.hist,'age',alpha=.5, bins=20)\n",
    "grid.add_legend()"
   ]
  },
  {
   "cell_type": "markdown",
   "id": "68a27515",
   "metadata": {},
   "source": [
    "- pclass에 따라 승객의 나이 분포 다름\n",
    "- Pclass=2, Pclass=3에서 영아 승객은 대부분 생존\n",
    "- Pclass=3인 승객수가 가장 많지만 대다수가 생존하지 못함"
   ]
  },
  {
   "cell_type": "code",
   "execution_count": 62,
   "id": "e21066da",
   "metadata": {
    "tags": []
   },
   "outputs": [
    {
     "data": {
      "image/png": "[encoded data removed]",
      "text/plain": [
       "<Figure size 578x900 with 3 Axes>"
      ]
     },
     "metadata": {},
     "output_type": "display_data"
    }
   ],
   "source": [
    "grid = sns.FacetGrid(train, row='embarked',  aspect=1.6)\n",
    "grid.map(sns.pointplot, 'pclass', 'survived', 'gender', palette='deep',order=[1,2,3], hue_order=[\"male\",\"female\"])\n",
    "grid.add_legend()\n",
    "\n",
    "plt.show()"
   ]
  },
  {
   "cell_type": "code",
   "execution_count": 76,
   "id": "9fb0e435-9699-4887-bb9c-e69a880385f1",
   "metadata": {},
   "outputs": [
    {
     "data": {
      "text/html": [
       "<div>\n",
       "<style scoped>\n",
       "    .dataframe tbody tr th:only-of-type {\n",
       "        vertical-align: middle;\n",
       "    }\n",
       "\n",
       "    .dataframe tbody tr th {\n",
       "        vertical-align: top;\n",
       "    }\n",
       "\n",
       "    .dataframe thead th {\n",
       "        text-align: right;\n",
       "    }\n",
       "</style>\n",
       "<table border=\"1\" class=\"dataframe\">\n",
       "  <thead>\n",
       "    <tr style=\"text-align: right;\">\n",
       "      <th></th>\n",
       "      <th></th>\n",
       "      <th></th>\n",
       "      <th>survived</th>\n",
       "    </tr>\n",
       "    <tr>\n",
       "      <th>embarked</th>\n",
       "      <th>pclass</th>\n",
       "      <th>gender</th>\n",
       "      <th></th>\n",
       "    </tr>\n",
       "  </thead>\n",
       "  <tbody>\n",
       "    <tr>\n",
       "      <th rowspan=\"6\" valign=\"top\">C</th>\n",
       "      <th rowspan=\"2\" valign=\"top\">1</th>\n",
       "      <th>female</th>\n",
       "      <td>1.000000</td>\n",
       "    </tr>\n",
       "    <tr>\n",
       "      <th>male</th>\n",
       "      <td>0.333333</td>\n",
       "    </tr>\n",
       "    <tr>\n",
       "      <th rowspan=\"2\" valign=\"top\">2</th>\n",
       "      <th>female</th>\n",
       "      <td>1.000000</td>\n",
       "    </tr>\n",
       "    <tr>\n",
       "      <th>male</th>\n",
       "      <td>0.090909</td>\n",
       "    </tr>\n",
       "    <tr>\n",
       "      <th rowspan=\"2\" valign=\"top\">3</th>\n",
       "      <th>female</th>\n",
       "      <td>0.615385</td>\n",
       "    </tr>\n",
       "    <tr>\n",
       "      <th>male</th>\n",
       "      <td>0.151515</td>\n",
       "    </tr>\n",
       "    <tr>\n",
       "      <th rowspan=\"4\" valign=\"top\">Q</th>\n",
       "      <th>1</th>\n",
       "      <th>male</th>\n",
       "      <td>0.000000</td>\n",
       "    </tr>\n",
       "    <tr>\n",
       "      <th>2</th>\n",
       "      <th>male</th>\n",
       "      <td>0.000000</td>\n",
       "    </tr>\n",
       "    <tr>\n",
       "      <th rowspan=\"2\" valign=\"top\">3</th>\n",
       "      <th>female</th>\n",
       "      <td>0.857143</td>\n",
       "    </tr>\n",
       "    <tr>\n",
       "      <th>male</th>\n",
       "      <td>0.071429</td>\n",
       "    </tr>\n",
       "    <tr>\n",
       "      <th rowspan=\"6\" valign=\"top\">S</th>\n",
       "      <th rowspan=\"2\" valign=\"top\">1</th>\n",
       "      <th>female</th>\n",
       "      <td>0.972222</td>\n",
       "    </tr>\n",
       "    <tr>\n",
       "      <th>male</th>\n",
       "      <td>0.265306</td>\n",
       "    </tr>\n",
       "    <tr>\n",
       "      <th rowspan=\"2\" valign=\"top\">2</th>\n",
       "      <th>female</th>\n",
       "      <td>0.921569</td>\n",
       "    </tr>\n",
       "    <tr>\n",
       "      <th>male</th>\n",
       "      <td>0.054795</td>\n",
       "    </tr>\n",
       "    <tr>\n",
       "      <th rowspan=\"2\" valign=\"top\">3</th>\n",
       "      <th>female</th>\n",
       "      <td>0.553846</td>\n",
       "    </tr>\n",
       "    <tr>\n",
       "      <th>male</th>\n",
       "      <td>0.088398</td>\n",
       "    </tr>\n",
       "  </tbody>\n",
       "</table>\n",
       "</div>"
      ],
      "text/plain": [
       "                        survived\n",
       "embarked pclass gender          \n",
       "C        1      female  1.000000\n",
       "                male    0.333333\n",
       "         2      female  1.000000\n",
       "                male    0.090909\n",
       "         3      female  0.615385\n",
       "                male    0.151515\n",
       "Q        1      male    0.000000\n",
       "         2      male    0.000000\n",
       "         3      female  0.857143\n",
       "                male    0.071429\n",
       "S        1      female  0.972222\n",
       "                male    0.265306\n",
       "         2      female  0.921569\n",
       "                male    0.054795\n",
       "         3      female  0.553846\n",
       "                male    0.088398"
      ]
     },
     "execution_count": 76,
     "metadata": {},
     "output_type": "execute_result"
    }
   ],
   "source": [
    "df = train[['gender','pclass','embarked','survived']]\n",
    "grouped = df.groupby(['embarked','pclass','gender'])\n",
    "gdf = grouped.mean()\n",
    "gdf"
   ]
  },
  {
   "cell_type": "markdown",
   "id": "655f2a0d",
   "metadata": {},
   "source": [
    "- 여성의 생존 비율 높음\n",
    "- Embarked=S에서 남성 생존 비율 높음"
   ]
  },
  {
   "cell_type": "code",
   "execution_count": 82,
   "id": "07778e45",
   "metadata": {
    "tags": []
   },
   "outputs": [
    {
     "data": {
      "image/png": "[encoded data removed]",
      "text/plain": [
       "<Figure size 971.111x900 with 6 Axes>"
      ]
     },
     "metadata": {},
     "output_type": "display_data"
    }
   ],
   "source": [
    "grid = sns.FacetGrid(train, row='embarked', col='survived',  aspect=1.6)\n",
    "grid.map(sns.barplot, 'gender', 'fare', alpha=.5, order=[\"male\",\"female\"])\n",
    "grid.add_legend()\n",
    "\n",
    "plt.show()"
   ]
  },
  {
   "cell_type": "markdown",
   "id": "88280a7f-50af-4d17-aa7c-60df20592d6e",
   "metadata": {},
   "source": [
    "#### Missing data"
   ]
  },
  {
   "cell_type": "code",
   "execution_count": 99,
   "id": "ca689acb-479a-4104-a2b0-34aff134f1d2",
   "metadata": {},
   "outputs": [
    {
     "data": {
      "text/plain": [
       "(survived      0\n",
       " pclass        0\n",
       " gender        0\n",
       " age         129\n",
       " sibsp         0\n",
       " parch         0\n",
       " fare          0\n",
       " embarked      0\n",
       " title         0\n",
       " dtype: int64,\n",
       " survived     0\n",
       " pclass       0\n",
       " gender       0\n",
       " age         51\n",
       " sibsp        0\n",
       " parch        0\n",
       " fare         0\n",
       " embarked     1\n",
       " title        0\n",
       " dtype: int64,\n",
       " pclass       0\n",
       " gender       0\n",
       " age         83\n",
       " sibsp        0\n",
       " parch        0\n",
       " fare         1\n",
       " embarked     1\n",
       " title        0\n",
       " dtype: int64)"
      ]
     },
     "execution_count": 99,
     "metadata": {},
     "output_type": "execute_result"
    }
   ],
   "source": [
    "train.isnull().sum() , test.isnull().sum(), raw_test.isnull().sum()"
   ]
  },
  {
   "cell_type": "markdown",
   "id": "0bf7b97e-b61e-4d52-8443-e1aeae061d4e",
   "metadata": {},
   "source": [
    "##### age\n",
    "- title별 age 평균으로 결측치 대체"
   ]
  },
  {
   "cell_type": "code",
   "execution_count": 101,
   "id": "b3a23e3e-caff-44cb-880c-16c34ecaba20",
   "metadata": {},
   "outputs": [
    {
     "data": {
      "text/html": [
       "<div>\n",
       "<style scoped>\n",
       "    .dataframe tbody tr th:only-of-type {\n",
       "        vertical-align: middle;\n",
       "    }\n",
       "\n",
       "    .dataframe tbody tr th {\n",
       "        vertical-align: top;\n",
       "    }\n",
       "\n",
       "    .dataframe thead th {\n",
       "        text-align: right;\n",
       "    }\n",
       "</style>\n",
       "<table border=\"1\" class=\"dataframe\">\n",
       "  <thead>\n",
       "    <tr style=\"text-align: right;\">\n",
       "      <th></th>\n",
       "      <th>title</th>\n",
       "      <th>age</th>\n",
       "    </tr>\n",
       "  </thead>\n",
       "  <tbody>\n",
       "    <tr>\n",
       "      <th>0</th>\n",
       "      <td>Miss</td>\n",
       "      <td>21.899238</td>\n",
       "    </tr>\n",
       "    <tr>\n",
       "      <th>1</th>\n",
       "      <td>Mr</td>\n",
       "      <td>32.107394</td>\n",
       "    </tr>\n",
       "    <tr>\n",
       "      <th>2</th>\n",
       "      <td>Mrs</td>\n",
       "      <td>37.545455</td>\n",
       "    </tr>\n",
       "    <tr>\n",
       "      <th>3</th>\n",
       "      <td>Other</td>\n",
       "      <td>23.264286</td>\n",
       "    </tr>\n",
       "  </tbody>\n",
       "</table>\n",
       "</div>"
      ],
      "text/plain": [
       "   title        age\n",
       "0   Miss  21.899238\n",
       "1     Mr  32.107394\n",
       "2    Mrs  37.545455\n",
       "3  Other  23.264286"
      ]
     },
     "execution_count": 101,
     "metadata": {},
     "output_type": "execute_result"
    }
   ],
   "source": [
    "title_mean = train[['title','age']].groupby(['title'],as_index=False).mean()\n",
    "title_mean"
   ]
  },
  {
   "cell_type": "code",
   "execution_count": 102,
   "id": "1034e9f7-4c83-40a8-980d-8803a059403d",
   "metadata": {},
   "outputs": [],
   "source": [
    "cond= []\n",
    "\n",
    "train[cond]\n",
    "\n",
    "for i in range(len(title_mean.title)):\n",
    "    train.loc[((train.title.values==title_mean.title[i]) & train['age'].isnull()), 'age'] = title_mean.age[i]\n",
    "    test.loc[((test.title.values==title_mean.title[i])& test['age'].isnull()),'age'] = title_mean.age[i]\n",
    "    raw_test.loc[((raw_test.title.values==title_mean.title[i])& raw_test['age'].isnull()),'age'] = title_mean.age[i]"
   ]
  },
  {
   "cell_type": "code",
   "execution_count": 103,
   "id": "c1131b9f-17fb-41f2-91db-778499b3bf30",
   "metadata": {},
   "outputs": [
    {
     "data": {
      "text/plain": [
       "(0, 0, 0)"
      ]
     },
     "execution_count": 103,
     "metadata": {},
     "output_type": "execute_result"
    }
   ],
   "source": [
    "train['age'].isnull().sum() , test['age'].isnull().sum(), raw_test['age'].isnull().sum()"
   ]
  },
  {
   "cell_type": "markdown",
   "id": "5f79d269-0be0-4201-93bb-3b0fb61ebdeb",
   "metadata": {},
   "source": [
    "##### embarked \n",
    "- 최빈값으로 대체"
   ]
  },
  {
   "cell_type": "code",
   "execution_count": 105,
   "id": "9ac93bd4-c7ca-4e89-b984-4fd37fb81ed8",
   "metadata": {},
   "outputs": [
    {
     "data": {
      "text/plain": [
       "(0, 1, 1)"
      ]
     },
     "execution_count": 105,
     "metadata": {},
     "output_type": "execute_result"
    }
   ],
   "source": [
    "train.embarked.isnull().sum() , test.embarked.isnull().sum(), raw_test.embarked.isnull().sum()"
   ]
  },
  {
   "cell_type": "code",
   "execution_count": 106,
   "id": "92564493-b2f2-4027-97d7-e9db6a87697f",
   "metadata": {},
   "outputs": [
    {
     "data": {
      "text/plain": [
       "S    455\n",
       "C    128\n",
       "Q     58\n",
       "Name: embarked, dtype: int64"
      ]
     },
     "execution_count": 106,
     "metadata": {},
     "output_type": "execute_result"
    }
   ],
   "source": [
    "train.embarked.value_counts()"
   ]
  },
  {
   "cell_type": "code",
   "execution_count": 107,
   "id": "09e750f4-78d2-4880-aae4-7c1c69853a88",
   "metadata": {},
   "outputs": [
    {
     "data": {
      "text/plain": [
       "'S'"
      ]
     },
     "execution_count": 107,
     "metadata": {},
     "output_type": "execute_result"
    }
   ],
   "source": [
    "train.embarked.mode().values[0]"
   ]
  },
  {
   "cell_type": "code",
   "execution_count": 108,
   "id": "c5eac258-bf0e-4c79-b805-7dd04c61b29c",
   "metadata": {},
   "outputs": [],
   "source": [
    "# embarked 결측치는 최빈값으로 대체\n",
    "test['embarked'].fillna(train.embarked.mode().values[0],inplace = True)\n",
    "raw_test['embarked'].fillna(train.embarked.mode().values[0],inplace = True)"
   ]
  },
  {
   "cell_type": "code",
   "execution_count": 109,
   "id": "38c6dc18-5832-417b-ab7a-646009916ad6",
   "metadata": {},
   "outputs": [
    {
     "data": {
      "text/plain": [
       "(0, 0, 0)"
      ]
     },
     "execution_count": 109,
     "metadata": {},
     "output_type": "execute_result"
    }
   ],
   "source": [
    "train.embarked.isnull().sum() , test.embarked.isnull().sum(), raw_test.embarked.isnull().sum()"
   ]
  },
  {
   "cell_type": "markdown",
   "id": "964324b1-7306-488b-87cc-ad62a1a0b9bc",
   "metadata": {},
   "source": [
    "##### fare\n",
    "- 중앙값으로 대체"
   ]
  },
  {
   "cell_type": "code",
   "execution_count": 111,
   "id": "132adc3d-4580-4363-b7a4-914839ea8b3d",
   "metadata": {},
   "outputs": [
    {
     "data": {
      "text/plain": [
       "(0, 0, 1)"
      ]
     },
     "execution_count": 111,
     "metadata": {},
     "output_type": "execute_result"
    }
   ],
   "source": [
    "train.fare.isnull().sum() , test.fare.isnull().sum(), raw_test.fare.isnull().sum()"
   ]
  },
  {
   "cell_type": "code",
   "execution_count": 112,
   "id": "d1115943-792b-40cc-8fca-4c7bde5776c8",
   "metadata": {},
   "outputs": [],
   "source": [
    "#중앙값으로 대체\n",
    "raw_test['fare'].fillna(train['fare'].median(),inplace=True)"
   ]
  },
  {
   "cell_type": "code",
   "execution_count": 113,
   "id": "f0b15258-9aee-4513-b08d-6f63378132e2",
   "metadata": {},
   "outputs": [
    {
     "data": {
      "text/plain": [
       "(0, 0, 0)"
      ]
     },
     "execution_count": 113,
     "metadata": {},
     "output_type": "execute_result"
    }
   ],
   "source": [
    "train.fare.isnull().sum() , test.fare.isnull().sum(), raw_test.fare.isnull().sum()"
   ]
  },
  {
   "cell_type": "markdown",
   "id": "1430e9d0",
   "metadata": {},
   "source": [
    "#### New Features "
   ]
  },
  {
   "cell_type": "markdown",
   "id": "af5e8e4e-43a0-42cc-b07b-4f5b7253b127",
   "metadata": {},
   "source": [
    "##### name title"
   ]
  },
  {
   "cell_type": "code",
   "execution_count": 155,
   "id": "0a99f70c",
   "metadata": {
    "execution": {
     "iopub.execute_input": "2023-04-05T16:30:42.780182Z",
     "iopub.status.busy": "2023-04-05T16:30:42.779565Z",
     "iopub.status.idle": "2023-04-05T16:30:42.793110Z",
     "shell.execute_reply": "2023-04-05T16:30:42.790861Z",
     "shell.execute_reply.started": "2023-04-05T16:30:42.780037Z"
    }
   },
   "outputs": [
    {
     "data": {
      "text/plain": [
       "812                                   Ohman, Miss. Velin\n",
       "134                                  Buckley, Mr. Daniel\n",
       "390                                    Jonsson, Mr. Carl\n",
       "305                             Hassan, Mr. Houssein G N\n",
       "203                                      Corn, Mr. Harry\n",
       "                             ...                        \n",
       "273                                    Davis, Miss. Mary\n",
       "343                            Mulvihill, Miss. Bertha E\n",
       "450    Lindeberg-Lind, Mr. Erik Gustaf (Mr Edward Lin...\n",
       "94                          Panula, Master. Urho Abraham\n",
       "277                               Hunt, Mr. George Henry\n",
       "Name: name, Length: 641, dtype: object"
      ]
     },
     "execution_count": 155,
     "metadata": {},
     "output_type": "execute_result"
    }
   ],
   "source": [
    "train.name"
   ]
  },
  {
   "cell_type": "code",
   "execution_count": 85,
   "id": "73d81599",
   "metadata": {
    "tags": []
   },
   "outputs": [
    {
     "name": "stdout",
     "output_type": "stream",
     "text": [
      "before: ((641, 10), (275, 10), (393, 9))\n",
      "after: ((641, 10), (275, 10), (393, 9))\n"
     ]
    }
   ],
   "source": [
    "print(f'before: {train.shape , test.shape , raw_test.shape}')\n",
    "\n",
    "train['title'] = train.name.map(lambda x : x.split(',')[1].split('.')[0])\n",
    "test['title'] = test.name.map(lambda x : x.split(',')[1].split('.')[0])\n",
    "raw_test['title'] = raw_test.name.map(lambda x : x.split(',')[1].split('.')[0])\n",
    "\n",
    "print(f'after: {train.shape , test.shape , raw_test.shape}')"
   ]
  },
  {
   "cell_type": "code",
   "execution_count": 90,
   "id": "a10a6086-ec17-4fe2-a509-f478d3c74ed8",
   "metadata": {},
   "outputs": [
    {
     "data": {
      "text/plain": [
       " Mr          370\n",
       " Miss        126\n",
       " Mrs         106\n",
       " Master       22\n",
       " Rev           4\n",
       " Dr            3\n",
       " Col           3\n",
       " Major         2\n",
       " Capt          1\n",
       " Mlle          1\n",
       " Ms            1\n",
       " Sir           1\n",
       " Jonkheer      1\n",
       "Name: title, dtype: int64"
      ]
     },
     "execution_count": 90,
     "metadata": {},
     "output_type": "execute_result"
    }
   ],
   "source": [
    "train.title.value_counts()"
   ]
  },
  {
   "cell_type": "code",
   "execution_count": 91,
   "id": "a121d0e1",
   "metadata": {
    "tags": []
   },
   "outputs": [
    {
     "data": {
      "text/plain": [
       "[' Mr', ' Miss', ' Mrs']"
      ]
     },
     "execution_count": 91,
     "metadata": {},
     "output_type": "execute_result"
    }
   ],
   "source": [
    "list(train['title'].value_counts().index[:3])"
   ]
  },
  {
   "cell_type": "code",
   "execution_count": 92,
   "id": "8694abe6",
   "metadata": {
    "tags": []
   },
   "outputs": [],
   "source": [
    "def add_title(title):\n",
    "    result = 'Other'\n",
    "    try:\n",
    "        if title in list(train['title'].value_counts().index[:3]):\n",
    "            return title\n",
    "        else:\n",
    "            return result\n",
    "    except:\n",
    "        return result\n",
    "    \n",
    "train['title'] = train['title'].map(lambda x : add_title(x))\n",
    "test['title'] = test['title'].map(lambda x : add_title(x))\n",
    "raw_test['title'] = raw_test['title'].map(lambda x : add_title(x))"
   ]
  },
  {
   "cell_type": "code",
   "execution_count": 93,
   "id": "066f8de1",
   "metadata": {
    "tags": []
   },
   "outputs": [
    {
     "data": {
      "text/plain": [
       "(array([' Miss', ' Mr', ' Mrs', 'Other'], dtype=object),\n",
       " array([' Mr', 'Other', ' Miss', ' Mrs'], dtype=object),\n",
       " array([' Miss', ' Mrs', ' Mr', 'Other'], dtype=object))"
      ]
     },
     "execution_count": 93,
     "metadata": {},
     "output_type": "execute_result"
    }
   ],
   "source": [
    "train['title'].unique(), test['title'].unique(), raw_test['title'].unique()"
   ]
  },
  {
   "cell_type": "code",
   "execution_count": 94,
   "id": "c5d88b61",
   "metadata": {
    "tags": []
   },
   "outputs": [],
   "source": [
    "train['title'] = train['title'].map(lambda x : x.strip())\n",
    "test['title'] = test['title'].map(lambda x : x.strip())\n",
    "raw_test['title'] = raw_test['title'].map(lambda x : x.strip())"
   ]
  },
  {
   "cell_type": "code",
   "execution_count": 95,
   "id": "9c9ca94f",
   "metadata": {
    "tags": []
   },
   "outputs": [
    {
     "data": {
      "text/plain": [
       "array(['Miss', 'Mr', 'Mrs', 'Other'], dtype=object)"
      ]
     },
     "execution_count": 95,
     "metadata": {},
     "output_type": "execute_result"
    }
   ],
   "source": [
    "train.title.unique()"
   ]
  },
  {
   "cell_type": "code",
   "execution_count": null,
   "id": "a5642929",
   "metadata": {
    "tags": []
   },
   "outputs": [],
   "source": [
    "#name 삭제\n",
    "print(f'before: {train.shape , test.shape , raw_test.shape}')\n",
    "\n",
    "del train['name']\n",
    "del test['name']\n",
    "del raw_test['name']\n",
    "\n",
    "print(f'after: {train.shape , test.shape , raw_test.shape}')"
   ]
  },
  {
   "cell_type": "markdown",
   "id": "c4f0b084-3099-43c3-8d5f-c54d1ef09171",
   "metadata": {},
   "source": [
    "##### age \n",
    "- 연령대별로 범주화"
   ]
  },
  {
   "cell_type": "code",
   "execution_count": 122,
   "id": "ef8ea57d-9c6b-47cf-a7b5-4e273aa473ce",
   "metadata": {},
   "outputs": [
    {
     "data": {
      "text/html": [
       "<div>\n",
       "<style scoped>\n",
       "    .dataframe tbody tr th:only-of-type {\n",
       "        vertical-align: middle;\n",
       "    }\n",
       "\n",
       "    .dataframe tbody tr th {\n",
       "        vertical-align: top;\n",
       "    }\n",
       "\n",
       "    .dataframe thead tr th {\n",
       "        text-align: left;\n",
       "    }\n",
       "\n",
       "    .dataframe thead tr:last-of-type th {\n",
       "        text-align: right;\n",
       "    }\n",
       "</style>\n",
       "<table border=\"1\" class=\"dataframe\">\n",
       "  <thead>\n",
       "    <tr>\n",
       "      <th></th>\n",
       "      <th colspan=\"3\" halign=\"left\">survived</th>\n",
       "    </tr>\n",
       "    <tr>\n",
       "      <th></th>\n",
       "      <th>mean</th>\n",
       "      <th>sum</th>\n",
       "      <th>count</th>\n",
       "    </tr>\n",
       "    <tr>\n",
       "      <th>AgeBand</th>\n",
       "      <th></th>\n",
       "      <th></th>\n",
       "      <th></th>\n",
       "    </tr>\n",
       "  </thead>\n",
       "  <tbody>\n",
       "    <tr>\n",
       "      <th>(0.0902, 16.136]</th>\n",
       "      <td>0.446429</td>\n",
       "      <td>25</td>\n",
       "      <td>56</td>\n",
       "    </tr>\n",
       "    <tr>\n",
       "      <th>(16.136, 32.102]</th>\n",
       "      <td>0.410169</td>\n",
       "      <td>121</td>\n",
       "      <td>295</td>\n",
       "    </tr>\n",
       "    <tr>\n",
       "      <th>(32.102, 48.068]</th>\n",
       "      <td>0.298701</td>\n",
       "      <td>69</td>\n",
       "      <td>231</td>\n",
       "    </tr>\n",
       "    <tr>\n",
       "      <th>(48.068, 64.034]</th>\n",
       "      <td>0.510204</td>\n",
       "      <td>25</td>\n",
       "      <td>49</td>\n",
       "    </tr>\n",
       "    <tr>\n",
       "      <th>(64.034, 80.0]</th>\n",
       "      <td>0.200000</td>\n",
       "      <td>2</td>\n",
       "      <td>10</td>\n",
       "    </tr>\n",
       "  </tbody>\n",
       "</table>\n",
       "</div>"
      ],
      "text/plain": [
       "                  survived           \n",
       "                      mean  sum count\n",
       "AgeBand                              \n",
       "(0.0902, 16.136]  0.446429   25    56\n",
       "(16.136, 32.102]  0.410169  121   295\n",
       "(32.102, 48.068]  0.298701   69   231\n",
       "(48.068, 64.034]  0.510204   25    49\n",
       "(64.034, 80.0]    0.200000    2    10"
      ]
     },
     "execution_count": 122,
     "metadata": {},
     "output_type": "execute_result"
    }
   ],
   "source": [
    "train['AgeBand'] = pd.cut(train['age'],5)\n",
    "train[['AgeBand','survived']].groupby(['AgeBand'],as_index=False).agg(['mean','sum','count'])"
   ]
  },
  {
   "cell_type": "code",
   "execution_count": 123,
   "id": "634deae3-5f49-423a-9000-3595d306f2f6",
   "metadata": {},
   "outputs": [
    {
     "data": {
      "text/html": [
       "<div>\n",
       "<style scoped>\n",
       "    .dataframe tbody tr th:only-of-type {\n",
       "        vertical-align: middle;\n",
       "    }\n",
       "\n",
       "    .dataframe tbody tr th {\n",
       "        vertical-align: top;\n",
       "    }\n",
       "\n",
       "    .dataframe thead th {\n",
       "        text-align: right;\n",
       "    }\n",
       "</style>\n",
       "<table border=\"1\" class=\"dataframe\">\n",
       "  <thead>\n",
       "    <tr style=\"text-align: right;\">\n",
       "      <th></th>\n",
       "      <th>survived</th>\n",
       "      <th>pclass</th>\n",
       "      <th>gender</th>\n",
       "      <th>age</th>\n",
       "      <th>sibsp</th>\n",
       "      <th>parch</th>\n",
       "      <th>fare</th>\n",
       "      <th>embarked</th>\n",
       "      <th>title</th>\n",
       "      <th>FamilySize</th>\n",
       "      <th>AgeBand</th>\n",
       "    </tr>\n",
       "  </thead>\n",
       "  <tbody>\n",
       "    <tr>\n",
       "      <th>812</th>\n",
       "      <td>1</td>\n",
       "      <td>3</td>\n",
       "      <td>female</td>\n",
       "      <td>1.0</td>\n",
       "      <td>0</td>\n",
       "      <td>0</td>\n",
       "      <td>7.7750</td>\n",
       "      <td>S</td>\n",
       "      <td>Miss</td>\n",
       "      <td>1</td>\n",
       "      <td>(16.136, 32.102]</td>\n",
       "    </tr>\n",
       "    <tr>\n",
       "      <th>134</th>\n",
       "      <td>0</td>\n",
       "      <td>3</td>\n",
       "      <td>male</td>\n",
       "      <td>1.0</td>\n",
       "      <td>0</td>\n",
       "      <td>0</td>\n",
       "      <td>7.8208</td>\n",
       "      <td>Q</td>\n",
       "      <td>Mr</td>\n",
       "      <td>1</td>\n",
       "      <td>(16.136, 32.102]</td>\n",
       "    </tr>\n",
       "    <tr>\n",
       "      <th>390</th>\n",
       "      <td>1</td>\n",
       "      <td>3</td>\n",
       "      <td>male</td>\n",
       "      <td>1.0</td>\n",
       "      <td>0</td>\n",
       "      <td>0</td>\n",
       "      <td>7.8542</td>\n",
       "      <td>S</td>\n",
       "      <td>Mr</td>\n",
       "      <td>1</td>\n",
       "      <td>(16.136, 32.102]</td>\n",
       "    </tr>\n",
       "    <tr>\n",
       "      <th>305</th>\n",
       "      <td>0</td>\n",
       "      <td>3</td>\n",
       "      <td>male</td>\n",
       "      <td>0.0</td>\n",
       "      <td>0</td>\n",
       "      <td>0</td>\n",
       "      <td>18.7875</td>\n",
       "      <td>C</td>\n",
       "      <td>Mr</td>\n",
       "      <td>1</td>\n",
       "      <td>(0.0902, 16.136]</td>\n",
       "    </tr>\n",
       "    <tr>\n",
       "      <th>203</th>\n",
       "      <td>0</td>\n",
       "      <td>3</td>\n",
       "      <td>male</td>\n",
       "      <td>1.0</td>\n",
       "      <td>0</td>\n",
       "      <td>0</td>\n",
       "      <td>8.0500</td>\n",
       "      <td>S</td>\n",
       "      <td>Mr</td>\n",
       "      <td>1</td>\n",
       "      <td>(16.136, 32.102]</td>\n",
       "    </tr>\n",
       "  </tbody>\n",
       "</table>\n",
       "</div>"
      ],
      "text/plain": [
       "     survived  pclass  gender  age  sibsp  parch     fare embarked title  \\\n",
       "812         1       3  female  1.0      0      0   7.7750        S  Miss   \n",
       "134         0       3    male  1.0      0      0   7.8208        Q    Mr   \n",
       "390         1       3    male  1.0      0      0   7.8542        S    Mr   \n",
       "305         0       3    male  0.0      0      0  18.7875        C    Mr   \n",
       "203         0       3    male  1.0      0      0   8.0500        S    Mr   \n",
       "\n",
       "     FamilySize           AgeBand  \n",
       "812           1  (16.136, 32.102]  \n",
       "134           1  (16.136, 32.102]  \n",
       "390           1  (16.136, 32.102]  \n",
       "305           1  (0.0902, 16.136]  \n",
       "203           1  (16.136, 32.102]  "
      ]
     },
     "execution_count": 123,
     "metadata": {},
     "output_type": "execute_result"
    }
   ],
   "source": [
    "#age를 범주형으로 변환\n",
    "for dataset in combine:    \n",
    "    dataset.loc[ dataset['age'] <= 16, 'age'] = 0\n",
    "    dataset.loc[(dataset['age'] > 16) & (dataset['age'] <= 32), 'age'] = 1\n",
    "    dataset.loc[(dataset['age'] > 32) & (dataset['age'] <= 48), 'age'] = 2\n",
    "    dataset.loc[(dataset['age'] > 48) & (dataset['age'] <= 64), 'age'] = 3\n",
    "    dataset.loc[ dataset['age'] > 64, 'age'] = 4\n",
    "train.head()"
   ]
  },
  {
   "cell_type": "code",
   "execution_count": 124,
   "id": "85f1966d-0cd0-4352-9c5a-c76aea5db14f",
   "metadata": {},
   "outputs": [
    {
     "name": "stdout",
     "output_type": "stream",
     "text": [
      "<class 'pandas.core.frame.DataFrame'>\n",
      "Int64Index: 641 entries, 812 to 277\n",
      "Data columns (total 11 columns):\n",
      " #   Column      Non-Null Count  Dtype   \n",
      "---  ------      --------------  -----   \n",
      " 0   survived    641 non-null    int64   \n",
      " 1   pclass      641 non-null    int64   \n",
      " 2   gender      641 non-null    object  \n",
      " 3   age         641 non-null    float64 \n",
      " 4   sibsp       641 non-null    int64   \n",
      " 5   parch       641 non-null    int64   \n",
      " 6   fare        641 non-null    float64 \n",
      " 7   embarked    641 non-null    object  \n",
      " 8   title       641 non-null    object  \n",
      " 9   FamilySize  641 non-null    int64   \n",
      " 10  AgeBand     641 non-null    category\n",
      "dtypes: category(1), float64(2), int64(5), object(3)\n",
      "memory usage: 56.0+ KB\n"
     ]
    }
   ],
   "source": [
    "train.info()"
   ]
  },
  {
   "cell_type": "code",
   "execution_count": 126,
   "id": "1a331a9d-8a47-4b03-9130-f57e4ebbc27d",
   "metadata": {},
   "outputs": [
    {
     "name": "stdout",
     "output_type": "stream",
     "text": [
      "<class 'pandas.core.frame.DataFrame'>\n",
      "Int64Index: 641 entries, 812 to 277\n",
      "Data columns (total 11 columns):\n",
      " #   Column      Non-Null Count  Dtype   \n",
      "---  ------      --------------  -----   \n",
      " 0   survived    641 non-null    int64   \n",
      " 1   pclass      641 non-null    int64   \n",
      " 2   gender      641 non-null    object  \n",
      " 3   age         641 non-null    int64   \n",
      " 4   sibsp       641 non-null    int64   \n",
      " 5   parch       641 non-null    int64   \n",
      " 6   fare        641 non-null    float64 \n",
      " 7   embarked    641 non-null    object  \n",
      " 8   title       641 non-null    object  \n",
      " 9   FamilySize  641 non-null    int64   \n",
      " 10  AgeBand     641 non-null    category\n",
      "dtypes: category(1), float64(1), int64(6), object(3)\n",
      "memory usage: 56.0+ KB\n"
     ]
    }
   ],
   "source": [
    "#age type 변경\n",
    "train['age']=train.age.astype('int64')\n",
    "test['age']=test.age.astype('int64')\n",
    "raw_test['age']=raw_test.age.astype('int64')\n",
    "train.info()"
   ]
  },
  {
   "cell_type": "code",
   "execution_count": 129,
   "id": "8f90fc12-649c-410f-b439-11e20fb96b83",
   "metadata": {},
   "outputs": [
    {
     "data": {
      "text/html": [
       "<div>\n",
       "<style scoped>\n",
       "    .dataframe tbody tr th:only-of-type {\n",
       "        vertical-align: middle;\n",
       "    }\n",
       "\n",
       "    .dataframe tbody tr th {\n",
       "        vertical-align: top;\n",
       "    }\n",
       "\n",
       "    .dataframe thead th {\n",
       "        text-align: right;\n",
       "    }\n",
       "</style>\n",
       "<table border=\"1\" class=\"dataframe\">\n",
       "  <thead>\n",
       "    <tr style=\"text-align: right;\">\n",
       "      <th></th>\n",
       "      <th>age</th>\n",
       "      <th>AgeBand</th>\n",
       "    </tr>\n",
       "  </thead>\n",
       "  <tbody>\n",
       "    <tr>\n",
       "      <th>812</th>\n",
       "      <td>1</td>\n",
       "      <td>(16.136, 32.102]</td>\n",
       "    </tr>\n",
       "    <tr>\n",
       "      <th>134</th>\n",
       "      <td>1</td>\n",
       "      <td>(16.136, 32.102]</td>\n",
       "    </tr>\n",
       "    <tr>\n",
       "      <th>390</th>\n",
       "      <td>1</td>\n",
       "      <td>(16.136, 32.102]</td>\n",
       "    </tr>\n",
       "    <tr>\n",
       "      <th>305</th>\n",
       "      <td>0</td>\n",
       "      <td>(0.0902, 16.136]</td>\n",
       "    </tr>\n",
       "    <tr>\n",
       "      <th>203</th>\n",
       "      <td>1</td>\n",
       "      <td>(16.136, 32.102]</td>\n",
       "    </tr>\n",
       "    <tr>\n",
       "      <th>...</th>\n",
       "      <td>...</td>\n",
       "      <td>...</td>\n",
       "    </tr>\n",
       "    <tr>\n",
       "      <th>273</th>\n",
       "      <td>1</td>\n",
       "      <td>(16.136, 32.102]</td>\n",
       "    </tr>\n",
       "    <tr>\n",
       "      <th>343</th>\n",
       "      <td>1</td>\n",
       "      <td>(16.136, 32.102]</td>\n",
       "    </tr>\n",
       "    <tr>\n",
       "      <th>450</th>\n",
       "      <td>2</td>\n",
       "      <td>(32.102, 48.068]</td>\n",
       "    </tr>\n",
       "    <tr>\n",
       "      <th>94</th>\n",
       "      <td>0</td>\n",
       "      <td>(0.0902, 16.136]</td>\n",
       "    </tr>\n",
       "    <tr>\n",
       "      <th>277</th>\n",
       "      <td>2</td>\n",
       "      <td>(32.102, 48.068]</td>\n",
       "    </tr>\n",
       "  </tbody>\n",
       "</table>\n",
       "<p>641 rows × 2 columns</p>\n",
       "</div>"
      ],
      "text/plain": [
       "     age           AgeBand\n",
       "812    1  (16.136, 32.102]\n",
       "134    1  (16.136, 32.102]\n",
       "390    1  (16.136, 32.102]\n",
       "305    0  (0.0902, 16.136]\n",
       "203    1  (16.136, 32.102]\n",
       "..   ...               ...\n",
       "273    1  (16.136, 32.102]\n",
       "343    1  (16.136, 32.102]\n",
       "450    2  (32.102, 48.068]\n",
       "94     0  (0.0902, 16.136]\n",
       "277    2  (32.102, 48.068]\n",
       "\n",
       "[641 rows x 2 columns]"
      ]
     },
     "execution_count": 129,
     "metadata": {},
     "output_type": "execute_result"
    }
   ],
   "source": [
    "train[['age','AgeBand']]  #확인"
   ]
  },
  {
   "cell_type": "code",
   "execution_count": 130,
   "id": "f10cbade-4771-4f52-9fb9-2dd43a60435d",
   "metadata": {},
   "outputs": [],
   "source": [
    "# AgeBand 삭제\n",
    "del train['AgeBand']"
   ]
  },
  {
   "cell_type": "markdown",
   "id": "109cad7d-a2a0-403e-b102-7cd9a600d13c",
   "metadata": {},
   "source": [
    "##### FamilySize \n",
    "- parch와 sibsp 이용"
   ]
  },
  {
   "cell_type": "code",
   "execution_count": 131,
   "id": "307b5b71-03b9-4e3e-9e0b-22dc0f2bd236",
   "metadata": {},
   "outputs": [
    {
     "name": "stdout",
     "output_type": "stream",
     "text": [
      "before: ((641, 10), (275, 10), (393, 9))\n",
      "after: ((641, 10), (275, 10), (393, 9))\n"
     ]
    }
   ],
   "source": [
    "print(f'before: {train.shape , test.shape , raw_test.shape}')\n",
    "\n",
    "combine = [train, test , raw_test]\n",
    "for dataset in combine:\n",
    "    dataset['FamilySize'] = dataset['parch'] + dataset['sibsp'] + 1 \n",
    "\n",
    "train[['FamilySize','survived']].groupby(['FamilySize'],as_index=False).mean().sort_values(by='survived',ascending=False)\n",
    "\n",
    "print(f'after: {train.shape , test.shape , raw_test.shape}')"
   ]
  },
  {
   "cell_type": "markdown",
   "id": "c0aa2361-2cf2-4ffb-981b-8b0bef97c89e",
   "metadata": {},
   "source": [
    "##### IsAlone\n",
    "\n",
    "- 1인가구인지?"
   ]
  },
  {
   "cell_type": "code",
   "execution_count": 134,
   "id": "c19b5453-35c6-4073-abc4-898b150f3d02",
   "metadata": {},
   "outputs": [
    {
     "name": "stdout",
     "output_type": "stream",
     "text": [
      "before: ((641, 11), (275, 11), (393, 10))\n",
      "after: ((641, 11), (275, 11), (393, 10))\n"
     ]
    }
   ],
   "source": [
    "print(f'before: {train.shape , test.shape , raw_test.shape}')\n",
    "\n",
    "for dataset in combine:\n",
    "    dataset['IsAlone'] = 0\n",
    "    dataset.loc[dataset['FamilySize'] == 1,'IsAlone']=1\n",
    "\n",
    "print(f'after: {train.shape , test.shape , raw_test.shape}')"
   ]
  },
  {
   "cell_type": "code",
   "execution_count": 133,
   "id": "08406874-96be-44cb-92bc-84fac92f6c4e",
   "metadata": {},
   "outputs": [
    {
     "data": {
      "text/html": [
       "<div>\n",
       "<style scoped>\n",
       "    .dataframe tbody tr th:only-of-type {\n",
       "        vertical-align: middle;\n",
       "    }\n",
       "\n",
       "    .dataframe tbody tr th {\n",
       "        vertical-align: top;\n",
       "    }\n",
       "\n",
       "    .dataframe thead th {\n",
       "        text-align: right;\n",
       "    }\n",
       "</style>\n",
       "<table border=\"1\" class=\"dataframe\">\n",
       "  <thead>\n",
       "    <tr style=\"text-align: right;\">\n",
       "      <th></th>\n",
       "      <th>IsAlone</th>\n",
       "      <th>survived</th>\n",
       "    </tr>\n",
       "  </thead>\n",
       "  <tbody>\n",
       "    <tr>\n",
       "      <th>0</th>\n",
       "      <td>0</td>\n",
       "      <td>0.504132</td>\n",
       "    </tr>\n",
       "    <tr>\n",
       "      <th>1</th>\n",
       "      <td>1</td>\n",
       "      <td>0.300752</td>\n",
       "    </tr>\n",
       "  </tbody>\n",
       "</table>\n",
       "</div>"
      ],
      "text/plain": [
       "   IsAlone  survived\n",
       "0        0  0.504132\n",
       "1        1  0.300752"
      ]
     },
     "execution_count": 133,
     "metadata": {},
     "output_type": "execute_result"
    }
   ],
   "source": [
    "train[['IsAlone','survived']].groupby(['IsAlone'],as_index=False).mean()"
   ]
  },
  {
   "cell_type": "markdown",
   "id": "d3963895",
   "metadata": {},
   "source": [
    "### Data Encoding"
   ]
  },
  {
   "cell_type": "code",
   "execution_count": 140,
   "id": "5073320b",
   "metadata": {
    "tags": []
   },
   "outputs": [],
   "source": [
    "from sklearn.preprocessing import OneHotEncoder"
   ]
  },
  {
   "cell_type": "code",
   "execution_count": 142,
   "id": "cdd5d4cd",
   "metadata": {
    "tags": []
   },
   "outputs": [
    {
     "data": {
      "text/html": [
       "<div>\n",
       "<style scoped>\n",
       "    .dataframe tbody tr th:only-of-type {\n",
       "        vertical-align: middle;\n",
       "    }\n",
       "\n",
       "    .dataframe tbody tr th {\n",
       "        vertical-align: top;\n",
       "    }\n",
       "\n",
       "    .dataframe thead th {\n",
       "        text-align: right;\n",
       "    }\n",
       "</style>\n",
       "<table border=\"1\" class=\"dataframe\">\n",
       "  <thead>\n",
       "    <tr style=\"text-align: right;\">\n",
       "      <th></th>\n",
       "      <th>gender</th>\n",
       "      <th>embarked</th>\n",
       "      <th>title</th>\n",
       "    </tr>\n",
       "  </thead>\n",
       "  <tbody>\n",
       "    <tr>\n",
       "      <th>count</th>\n",
       "      <td>641</td>\n",
       "      <td>641</td>\n",
       "      <td>641</td>\n",
       "    </tr>\n",
       "    <tr>\n",
       "      <th>unique</th>\n",
       "      <td>2</td>\n",
       "      <td>3</td>\n",
       "      <td>4</td>\n",
       "    </tr>\n",
       "    <tr>\n",
       "      <th>top</th>\n",
       "      <td>male</td>\n",
       "      <td>S</td>\n",
       "      <td>Mr</td>\n",
       "    </tr>\n",
       "    <tr>\n",
       "      <th>freq</th>\n",
       "      <td>407</td>\n",
       "      <td>455</td>\n",
       "      <td>370</td>\n",
       "    </tr>\n",
       "  </tbody>\n",
       "</table>\n",
       "</div>"
      ],
      "text/plain": [
       "       gender embarked title\n",
       "count     641      641   641\n",
       "unique      2        3     4\n",
       "top      male        S    Mr\n",
       "freq      407      455   370"
      ]
     },
     "execution_count": 142,
     "metadata": {},
     "output_type": "execute_result"
    }
   ],
   "source": [
    "train.describe(exclude=np.number)  #범주형"
   ]
  },
  {
   "cell_type": "code",
   "execution_count": 144,
   "id": "4a4652f2",
   "metadata": {
    "tags": []
   },
   "outputs": [
    {
     "data": {
      "text/plain": [
       "(0, 0, 0)"
      ]
     },
     "execution_count": 144,
     "metadata": {},
     "output_type": "execute_result"
    }
   ],
   "source": [
    "train.isnull().sum().sum() ,test.isnull().sum().sum(), raw_test.isnull().sum().sum()"
   ]
  },
  {
   "cell_type": "code",
   "execution_count": 146,
   "id": "0dec397c",
   "metadata": {
    "tags": []
   },
   "outputs": [
    {
     "data": {
      "text/plain": [
       "(Index(['FamilySize', 'IsAlone', 'age', 'fare', 'parch', 'pclass', 'sibsp',\n",
       "        'survived'],\n",
       "       dtype='object'),\n",
       " Index(['FamilySize', 'IsAlone', 'age', 'fare', 'parch', 'pclass', 'sibsp'], dtype='object'))"
      ]
     },
     "execution_count": 146,
     "metadata": {},
     "output_type": "execute_result"
    }
   ],
   "source": [
    "enc_cols = ['gender','embarked','title']\n",
    "normal_cols = train.columns.difference(['gender','embarked','title'])\n",
    "\n",
    "#raw_test용 (survived를 제외시킨 column)\n",
    "normal_cols_ori = normal_cols      \n",
    "normal_cols_ori = normal_cols_ori.drop('survived')\n",
    "\n",
    "normal_cols , normal_cols_ori"
   ]
  },
  {
   "cell_type": "code",
   "execution_count": 148,
   "id": "a1018378",
   "metadata": {
    "tags": []
   },
   "outputs": [
    {
     "name": "stdout",
     "output_type": "stream",
     "text": [
      "before: (641, 11) / (275, 11) / (393, 16)\n",
      "after: (641, 17) / (275, 17) / (393, 16)\n"
     ]
    },
    {
     "data": {
      "text/html": [
       "<div>\n",
       "<style scoped>\n",
       "    .dataframe tbody tr th:only-of-type {\n",
       "        vertical-align: middle;\n",
       "    }\n",
       "\n",
       "    .dataframe tbody tr th {\n",
       "        vertical-align: top;\n",
       "    }\n",
       "\n",
       "    .dataframe thead th {\n",
       "        text-align: right;\n",
       "    }\n",
       "</style>\n",
       "<table border=\"1\" class=\"dataframe\">\n",
       "  <thead>\n",
       "    <tr style=\"text-align: right;\">\n",
       "      <th></th>\n",
       "      <th>FamilySize</th>\n",
       "      <th>IsAlone</th>\n",
       "      <th>age</th>\n",
       "      <th>fare</th>\n",
       "      <th>parch</th>\n",
       "      <th>pclass</th>\n",
       "      <th>sibsp</th>\n",
       "      <th>survived</th>\n",
       "      <th>gender_female</th>\n",
       "      <th>gender_male</th>\n",
       "      <th>embarked_C</th>\n",
       "      <th>embarked_Q</th>\n",
       "      <th>embarked_S</th>\n",
       "      <th>title_Miss</th>\n",
       "      <th>title_Mr</th>\n",
       "      <th>title_Mrs</th>\n",
       "      <th>title_Other</th>\n",
       "    </tr>\n",
       "  </thead>\n",
       "  <tbody>\n",
       "    <tr>\n",
       "      <th>0</th>\n",
       "      <td>1</td>\n",
       "      <td>1</td>\n",
       "      <td>2</td>\n",
       "      <td>7.5750</td>\n",
       "      <td>0</td>\n",
       "      <td>3</td>\n",
       "      <td>0</td>\n",
       "      <td>0</td>\n",
       "      <td>0.0</td>\n",
       "      <td>1.0</td>\n",
       "      <td>0.0</td>\n",
       "      <td>0.0</td>\n",
       "      <td>1.0</td>\n",
       "      <td>0.0</td>\n",
       "      <td>1.0</td>\n",
       "      <td>0.0</td>\n",
       "      <td>0.0</td>\n",
       "    </tr>\n",
       "    <tr>\n",
       "      <th>1</th>\n",
       "      <td>2</td>\n",
       "      <td>0</td>\n",
       "      <td>2</td>\n",
       "      <td>76.7292</td>\n",
       "      <td>0</td>\n",
       "      <td>1</td>\n",
       "      <td>1</td>\n",
       "      <td>1</td>\n",
       "      <td>0.0</td>\n",
       "      <td>1.0</td>\n",
       "      <td>1.0</td>\n",
       "      <td>0.0</td>\n",
       "      <td>0.0</td>\n",
       "      <td>0.0</td>\n",
       "      <td>1.0</td>\n",
       "      <td>0.0</td>\n",
       "      <td>0.0</td>\n",
       "    </tr>\n",
       "    <tr>\n",
       "      <th>2</th>\n",
       "      <td>3</td>\n",
       "      <td>0</td>\n",
       "      <td>3</td>\n",
       "      <td>81.8583</td>\n",
       "      <td>1</td>\n",
       "      <td>1</td>\n",
       "      <td>1</td>\n",
       "      <td>0</td>\n",
       "      <td>0.0</td>\n",
       "      <td>1.0</td>\n",
       "      <td>0.0</td>\n",
       "      <td>0.0</td>\n",
       "      <td>1.0</td>\n",
       "      <td>0.0</td>\n",
       "      <td>0.0</td>\n",
       "      <td>0.0</td>\n",
       "      <td>1.0</td>\n",
       "    </tr>\n",
       "    <tr>\n",
       "      <th>3</th>\n",
       "      <td>11</td>\n",
       "      <td>0</td>\n",
       "      <td>1</td>\n",
       "      <td>69.5500</td>\n",
       "      <td>2</td>\n",
       "      <td>3</td>\n",
       "      <td>8</td>\n",
       "      <td>1</td>\n",
       "      <td>1.0</td>\n",
       "      <td>0.0</td>\n",
       "      <td>0.0</td>\n",
       "      <td>0.0</td>\n",
       "      <td>1.0</td>\n",
       "      <td>1.0</td>\n",
       "      <td>0.0</td>\n",
       "      <td>0.0</td>\n",
       "      <td>0.0</td>\n",
       "    </tr>\n",
       "    <tr>\n",
       "      <th>4</th>\n",
       "      <td>2</td>\n",
       "      <td>0</td>\n",
       "      <td>2</td>\n",
       "      <td>57.7500</td>\n",
       "      <td>0</td>\n",
       "      <td>1</td>\n",
       "      <td>1</td>\n",
       "      <td>1</td>\n",
       "      <td>1.0</td>\n",
       "      <td>0.0</td>\n",
       "      <td>1.0</td>\n",
       "      <td>0.0</td>\n",
       "      <td>0.0</td>\n",
       "      <td>0.0</td>\n",
       "      <td>0.0</td>\n",
       "      <td>1.0</td>\n",
       "      <td>0.0</td>\n",
       "    </tr>\n",
       "  </tbody>\n",
       "</table>\n",
       "</div>"
      ],
      "text/plain": [
       "   FamilySize  IsAlone  age     fare  parch  pclass  sibsp  survived  \\\n",
       "0           1        1    2   7.5750      0       3      0         0   \n",
       "1           2        0    2  76.7292      0       1      1         1   \n",
       "2           3        0    3  81.8583      1       1      1         0   \n",
       "3          11        0    1  69.5500      2       3      8         1   \n",
       "4           2        0    2  57.7500      0       1      1         1   \n",
       "\n",
       "   gender_female  gender_male  embarked_C  embarked_Q  embarked_S  title_Miss  \\\n",
       "0            0.0          1.0         0.0         0.0         1.0         0.0   \n",
       "1            0.0          1.0         1.0         0.0         0.0         0.0   \n",
       "2            0.0          1.0         0.0         0.0         1.0         0.0   \n",
       "3            1.0          0.0         0.0         0.0         1.0         1.0   \n",
       "4            1.0          0.0         1.0         0.0         0.0         0.0   \n",
       "\n",
       "   title_Mr  title_Mrs  title_Other  \n",
       "0       1.0        0.0          0.0  \n",
       "1       1.0        0.0          0.0  \n",
       "2       0.0        0.0          1.0  \n",
       "3       0.0        0.0          0.0  \n",
       "4       0.0        1.0          0.0  "
      ]
     },
     "execution_count": 148,
     "metadata": {},
     "output_type": "execute_result"
    }
   ],
   "source": [
    "print(f'before: {train.shape} / {test.shape} / {enc_raw_te.shape}')\n",
    "\n",
    "enc = OneHotEncoder()\n",
    "\n",
    "#train\n",
    "tmp_tr = pd.DataFrame(                              \n",
    "    enc.fit_transform(train[enc_cols]).toarray(),   \n",
    "    columns = enc.get_feature_names_out()           \n",
    ")\n",
    "enc_tr = pd.concat(\n",
    "    [train[normal_cols].reset_index(drop=True), tmp_tr.reset_index(drop=True)]    \n",
    "    , axis=1\n",
    ")\n",
    "\n",
    "# # test\n",
    "tmp_te = pd.DataFrame(\n",
    "    enc.transform(test[enc_cols]).toarray(), \n",
    "    columns = enc.get_feature_names_out()\n",
    ")\n",
    "enc_te = pd.concat(\n",
    "    [test[normal_cols].reset_index(drop=True), tmp_te.reset_index(drop=True)]\n",
    "    , axis=1\n",
    ")\n",
    "\n",
    "# raw_test\n",
    "tmp_te = pd.DataFrame(\n",
    "    enc.transform(raw_test[enc_cols]).toarray(), \n",
    "    columns = enc.get_feature_names_out()\n",
    ")\n",
    "\n",
    "enc_raw_te = pd.concat(\n",
    "    [raw_test[normal_cols_ori].reset_index(drop=True), tmp_te.reset_index(drop=True)]\n",
    "    , axis=1\n",
    ")\n",
    "\n",
    "print(f'after: {enc_tr.shape} / {enc_te.shape} / {enc_raw_te.shape}')\n",
    "enc_te.head()"
   ]
  },
  {
   "cell_type": "markdown",
   "id": "46befce7-2719-446d-b830-cf4716c9993e",
   "metadata": {},
   "source": [
    "#### target, feature 분리"
   ]
  },
  {
   "cell_type": "code",
   "execution_count": 154,
   "id": "c617e28a",
   "metadata": {
    "tags": []
   },
   "outputs": [],
   "source": [
    "#enc_tr\n",
    "y_tr = enc_tr['survived']                   #타겟 데이터\n",
    "X_tr = enc_tr.drop(['survived'], axis=1)    #Feature 데이터만"
   ]
  },
  {
   "cell_type": "code",
   "execution_count": 151,
   "id": "f4a01763",
   "metadata": {
    "tags": []
   },
   "outputs": [
    {
     "data": {
      "text/html": [
       "<div>\n",
       "<style scoped>\n",
       "    .dataframe tbody tr th:only-of-type {\n",
       "        vertical-align: middle;\n",
       "    }\n",
       "\n",
       "    .dataframe tbody tr th {\n",
       "        vertical-align: top;\n",
       "    }\n",
       "\n",
       "    .dataframe thead th {\n",
       "        text-align: right;\n",
       "    }\n",
       "</style>\n",
       "<table border=\"1\" class=\"dataframe\">\n",
       "  <thead>\n",
       "    <tr style=\"text-align: right;\">\n",
       "      <th></th>\n",
       "      <th>FamilySize</th>\n",
       "      <th>IsAlone</th>\n",
       "      <th>age</th>\n",
       "      <th>fare</th>\n",
       "      <th>parch</th>\n",
       "      <th>pclass</th>\n",
       "      <th>sibsp</th>\n",
       "      <th>gender_female</th>\n",
       "      <th>gender_male</th>\n",
       "      <th>embarked_C</th>\n",
       "      <th>embarked_Q</th>\n",
       "      <th>embarked_S</th>\n",
       "      <th>title_Miss</th>\n",
       "      <th>title_Mr</th>\n",
       "      <th>title_Mrs</th>\n",
       "      <th>title_Other</th>\n",
       "    </tr>\n",
       "  </thead>\n",
       "  <tbody>\n",
       "    <tr>\n",
       "      <th>0</th>\n",
       "      <td>1</td>\n",
       "      <td>1</td>\n",
       "      <td>1</td>\n",
       "      <td>7.7750</td>\n",
       "      <td>0</td>\n",
       "      <td>3</td>\n",
       "      <td>0</td>\n",
       "      <td>1.0</td>\n",
       "      <td>0.0</td>\n",
       "      <td>0.0</td>\n",
       "      <td>0.0</td>\n",
       "      <td>1.0</td>\n",
       "      <td>1.0</td>\n",
       "      <td>0.0</td>\n",
       "      <td>0.0</td>\n",
       "      <td>0.0</td>\n",
       "    </tr>\n",
       "    <tr>\n",
       "      <th>1</th>\n",
       "      <td>1</td>\n",
       "      <td>1</td>\n",
       "      <td>1</td>\n",
       "      <td>7.8208</td>\n",
       "      <td>0</td>\n",
       "      <td>3</td>\n",
       "      <td>0</td>\n",
       "      <td>0.0</td>\n",
       "      <td>1.0</td>\n",
       "      <td>0.0</td>\n",
       "      <td>1.0</td>\n",
       "      <td>0.0</td>\n",
       "      <td>0.0</td>\n",
       "      <td>1.0</td>\n",
       "      <td>0.0</td>\n",
       "      <td>0.0</td>\n",
       "    </tr>\n",
       "    <tr>\n",
       "      <th>2</th>\n",
       "      <td>1</td>\n",
       "      <td>1</td>\n",
       "      <td>1</td>\n",
       "      <td>7.8542</td>\n",
       "      <td>0</td>\n",
       "      <td>3</td>\n",
       "      <td>0</td>\n",
       "      <td>0.0</td>\n",
       "      <td>1.0</td>\n",
       "      <td>0.0</td>\n",
       "      <td>0.0</td>\n",
       "      <td>1.0</td>\n",
       "      <td>0.0</td>\n",
       "      <td>1.0</td>\n",
       "      <td>0.0</td>\n",
       "      <td>0.0</td>\n",
       "    </tr>\n",
       "    <tr>\n",
       "      <th>3</th>\n",
       "      <td>1</td>\n",
       "      <td>1</td>\n",
       "      <td>0</td>\n",
       "      <td>18.7875</td>\n",
       "      <td>0</td>\n",
       "      <td>3</td>\n",
       "      <td>0</td>\n",
       "      <td>0.0</td>\n",
       "      <td>1.0</td>\n",
       "      <td>1.0</td>\n",
       "      <td>0.0</td>\n",
       "      <td>0.0</td>\n",
       "      <td>0.0</td>\n",
       "      <td>1.0</td>\n",
       "      <td>0.0</td>\n",
       "      <td>0.0</td>\n",
       "    </tr>\n",
       "    <tr>\n",
       "      <th>4</th>\n",
       "      <td>1</td>\n",
       "      <td>1</td>\n",
       "      <td>1</td>\n",
       "      <td>8.0500</td>\n",
       "      <td>0</td>\n",
       "      <td>3</td>\n",
       "      <td>0</td>\n",
       "      <td>0.0</td>\n",
       "      <td>1.0</td>\n",
       "      <td>0.0</td>\n",
       "      <td>0.0</td>\n",
       "      <td>1.0</td>\n",
       "      <td>0.0</td>\n",
       "      <td>1.0</td>\n",
       "      <td>0.0</td>\n",
       "      <td>0.0</td>\n",
       "    </tr>\n",
       "  </tbody>\n",
       "</table>\n",
       "</div>"
      ],
      "text/plain": [
       "   FamilySize  IsAlone  age     fare  parch  pclass  sibsp  gender_female  \\\n",
       "0           1        1    1   7.7750      0       3      0            1.0   \n",
       "1           1        1    1   7.8208      0       3      0            0.0   \n",
       "2           1        1    1   7.8542      0       3      0            0.0   \n",
       "3           1        1    0  18.7875      0       3      0            0.0   \n",
       "4           1        1    1   8.0500      0       3      0            0.0   \n",
       "\n",
       "   gender_male  embarked_C  embarked_Q  embarked_S  title_Miss  title_Mr  \\\n",
       "0          0.0         0.0         0.0         1.0         1.0       0.0   \n",
       "1          1.0         0.0         1.0         0.0         0.0       1.0   \n",
       "2          1.0         0.0         0.0         1.0         0.0       1.0   \n",
       "3          1.0         1.0         0.0         0.0         0.0       1.0   \n",
       "4          1.0         0.0         0.0         1.0         0.0       1.0   \n",
       "\n",
       "   title_Mrs  title_Other  \n",
       "0        0.0          0.0  \n",
       "1        0.0          0.0  \n",
       "2        0.0          0.0  \n",
       "3        0.0          0.0  \n",
       "4        0.0          0.0  "
      ]
     },
     "execution_count": 151,
     "metadata": {},
     "output_type": "execute_result"
    }
   ],
   "source": [
    "X_tr.head()"
   ]
  },
  {
   "cell_type": "code",
   "execution_count": 155,
   "id": "de32e72a",
   "metadata": {
    "tags": []
   },
   "outputs": [],
   "source": [
    "#enc_te\n",
    "y_te = enc_te['survived']                   #타겟 데이터\n",
    "X_te = enc_te.drop(['survived'], axis=1)    #Feature 데이터만"
   ]
  },
  {
   "cell_type": "code",
   "execution_count": 210,
   "id": "deb96c67",
   "metadata": {
    "execution": {
     "iopub.execute_input": "2023-04-05T16:30:48.294772Z",
     "iopub.status.busy": "2023-04-05T16:30:48.294374Z",
     "iopub.status.idle": "2023-04-05T16:30:48.304338Z",
     "shell.execute_reply": "2023-04-05T16:30:48.302841Z",
     "shell.execute_reply.started": "2023-04-05T16:30:48.294737Z"
    }
   },
   "outputs": [
    {
     "name": "stdout",
     "output_type": "stream",
     "text": [
      "after: (641, 16) / (275, 16) / (393, 16)\n"
     ]
    }
   ],
   "source": [
    "print(f'after: {X_tr.shape} / {X_te.shape} / {enc_raw_te.shape}')"
   ]
  },
  {
   "cell_type": "markdown",
   "id": "9ca5db6b-8086-4977-8315-537ac785fe88",
   "metadata": {},
   "source": [
    "### Training"
   ]
  },
  {
   "cell_type": "markdown",
   "id": "76e7fd9d",
   "metadata": {},
   "source": [
    "#### CatBoost\n"
   ]
  },
  {
   "cell_type": "code",
   "execution_count": 211,
   "id": "d49f24a0",
   "metadata": {
    "execution": {
     "iopub.execute_input": "2023-04-05T16:30:48.307552Z",
     "iopub.status.busy": "2023-04-05T16:30:48.307002Z",
     "iopub.status.idle": "2023-04-05T16:30:48.317839Z",
     "shell.execute_reply": "2023-04-05T16:30:48.316391Z",
     "shell.execute_reply.started": "2023-04-05T16:30:48.307500Z"
    }
   },
   "outputs": [],
   "source": [
    "# !pip install catboost"
   ]
  },
  {
   "cell_type": "code",
   "execution_count": 157,
   "id": "4a44e145",
   "metadata": {
    "tags": []
   },
   "outputs": [],
   "source": [
    "from catboost import CatBoostClassifier"
   ]
  },
  {
   "cell_type": "code",
   "execution_count": 159,
   "id": "fdb0f1ef",
   "metadata": {
    "tags": []
   },
   "outputs": [],
   "source": [
    "hp = {\n",
    "    \"random_state\" : 42,\n",
    "    \"verbose\" : 0 # 부스팅 단계 출력 안보이게 하기\n",
    "}\n",
    "\n",
    "model1 = CatBoostClassifier(**hp).fit(X_tr, y_tr)"
   ]
  },
  {
   "cell_type": "code",
   "execution_count": 160,
   "id": "188f9c2f",
   "metadata": {
    "tags": []
   },
   "outputs": [
    {
     "name": "stdout",
     "output_type": "stream",
     "text": [
      "model: 0.9074167791273055\n"
     ]
    }
   ],
   "source": [
    "#AUC\n",
    "from sklearn.metrics import roc_curve, auc \n",
    "\n",
    "y_pred = model1.predict_proba(X_te)[:,1]   # 예측값 / proba : 확률 예측  > 0과 1사이에 있는 값이 나옴 > 이 값을 submit 파일에 올리면 됨\n",
    "fpr, tpr, thresholds = roc_curve(y_te,y_pred)\n",
    "auc_te = auc(fpr, tpr)\n",
    "print(f'model: {auc_te}')"
   ]
  },
  {
   "cell_type": "markdown",
   "id": "b2a36b83",
   "metadata": {},
   "source": [
    "#### Light GBM"
   ]
  },
  {
   "cell_type": "code",
   "execution_count": 170,
   "id": "ac2318aa",
   "metadata": {
    "tags": []
   },
   "outputs": [],
   "source": [
    "from lightgbm import LGBMClassifier ,plot_importance\n",
    "\n",
    "model2 = LGBMClassifier(random_state=42).fit(X_tr,y_tr)"
   ]
  },
  {
   "cell_type": "code",
   "execution_count": 162,
   "id": "ed35fd24",
   "metadata": {
    "tags": []
   },
   "outputs": [
    {
     "name": "stdout",
     "output_type": "stream",
     "text": [
      "model: 0.8817757534862798\n"
     ]
    }
   ],
   "source": [
    "from sklearn.metrics import roc_curve, auc\n",
    "\n",
    "#AUC\n",
    "y_pred = model2.predict_proba(X_te)[:,1]\n",
    "fpr, tpr, thresholds = roc_curve(y_te,y_pred)\n",
    "auc_te = auc(fpr, tpr)\n",
    "print(f'model: {auc_te}')"
   ]
  },
  {
   "cell_type": "code",
   "execution_count": 171,
   "id": "e4e1a65d-844e-44db-ba14-8c07fc33394b",
   "metadata": {},
   "outputs": [
    {
     "data": {
      "image/png": "[encoded data removed]",
      "text/plain": [
       "<Figure size 640x480 with 1 Axes>"
      ]
     },
     "metadata": {},
     "output_type": "display_data"
    }
   ],
   "source": [
    "plot_importance(model2)\n",
    "plt.show()"
   ]
  },
  {
   "cell_type": "markdown",
   "id": "02da5388",
   "metadata": {},
   "source": [
    "#### XGboost"
   ]
  },
  {
   "cell_type": "code",
   "execution_count": 166,
   "id": "e5fd15da",
   "metadata": {
    "tags": []
   },
   "outputs": [],
   "source": [
    "from xgboost import XGBClassifier ,plot_importance\n",
    "\n",
    "model3 = XGBClassifier(random_state=42).fit(X_tr,y_tr)"
   ]
  },
  {
   "cell_type": "code",
   "execution_count": 265,
   "id": "3c66a68b",
   "metadata": {
    "execution": {
     "iopub.execute_input": "2023-04-05T16:55:44.187185Z",
     "iopub.status.busy": "2023-04-05T16:55:44.186225Z",
     "iopub.status.idle": "2023-04-05T16:55:44.197646Z",
     "shell.execute_reply": "2023-04-05T16:55:44.195810Z",
     "shell.execute_reply.started": "2023-04-05T16:55:44.187126Z"
    }
   },
   "outputs": [
    {
     "data": {
      "text/plain": [
       "((641, 16), (641,), (275, 17))"
      ]
     },
     "execution_count": 265,
     "metadata": {},
     "output_type": "execute_result"
    }
   ],
   "source": [
    "X_tr.shape , y_tr.shape , enc_te.shape"
   ]
  },
  {
   "cell_type": "code",
   "execution_count": 266,
   "id": "7426614e",
   "metadata": {
    "execution": {
     "iopub.execute_input": "2023-04-05T16:55:46.450762Z",
     "iopub.status.busy": "2023-04-05T16:55:46.450327Z",
     "iopub.status.idle": "2023-04-05T16:55:46.462697Z",
     "shell.execute_reply": "2023-04-05T16:55:46.461168Z",
     "shell.execute_reply.started": "2023-04-05T16:55:46.450728Z"
    }
   },
   "outputs": [],
   "source": [
    "y_pred = model3.predict_proba(X_te)[:,1]"
   ]
  },
  {
   "cell_type": "code",
   "execution_count": 164,
   "id": "792a1c37",
   "metadata": {
    "tags": []
   },
   "outputs": [
    {
     "name": "stdout",
     "output_type": "stream",
     "text": [
      "model: 0.8888326585695006\n"
     ]
    }
   ],
   "source": [
    "from sklearn.metrics import roc_curve, auc\n",
    "\n",
    "y_pred = model3.predict_proba(X_te)[:,1]\n",
    "fpr, tpr, thresholds = roc_curve(y_te,y_pred)\n",
    "auc_te = auc(fpr, tpr)\n",
    "print(f'model: {auc_te}')"
   ]
  },
  {
   "cell_type": "code",
   "execution_count": 168,
   "id": "3ef5ed55",
   "metadata": {
    "tags": []
   },
   "outputs": [
    {
     "data": {
      "image/png": "[encoded data removed]",
      "text/plain": [
       "<Figure size 640x480 with 1 Axes>"
      ]
     },
     "metadata": {},
     "output_type": "display_data"
    }
   ],
   "source": [
    "plot_importance(model3)\n",
    "plt.show()"
   ]
  },
  {
   "cell_type": "markdown",
   "id": "251fdffd-504f-4a8b-9c86-495992d3a567",
   "metadata": {},
   "source": [
    "### Submission"
   ]
  },
  {
   "cell_type": "code",
   "execution_count": 172,
   "id": "3703646d",
   "metadata": {
    "tags": []
   },
   "outputs": [
    {
     "data": {
      "text/plain": [
       "(393,)"
      ]
     },
     "execution_count": 172,
     "metadata": {},
     "output_type": "execute_result"
    }
   ],
   "source": [
    "#model1 사용\n",
    "ori_te_pred = model1.predict_proba(enc_raw_te)[:,1]\n",
    "ori_te_pred.shape"
   ]
  },
  {
   "cell_type": "code",
   "execution_count": 173,
   "id": "e182cd79",
   "metadata": {
    "tags": []
   },
   "outputs": [
    {
     "data": {
      "text/plain": [
       "array([0.88694496, 0.91877715, 0.86963106, 0.05780481, 0.94610475,\n",
       "       0.84186767, 0.08192711, 0.07049167, 0.82137935, 0.05444658,\n",
       "       0.07973417, 0.02100163, 0.6539678 , 0.74949839, 0.09522127,\n",
       "       0.27778733, 0.14623439, 0.04731196, 0.03435647, 0.07049167,\n",
       "       0.10705739, 0.04375636, 0.06398187, 0.12543003, 0.08083468,\n",
       "       0.1124872 , 0.21678118, 0.63593113, 0.57417374, 0.05235736,\n",
       "       0.75467952, 0.76255254, 0.07755942, 0.22515365, 0.25327749,\n",
       "       0.1027752 , 0.93634161, 0.04169472, 0.14226321, 0.05383063,\n",
       "       0.06015275, 0.9807044 , 0.10587906, 0.98481123, 0.05226485,\n",
       "       0.04169472, 0.18910518, 0.07555397, 0.04421088, 0.04036829,\n",
       "       0.57396802, 0.04008144, 0.96591918, 0.08340687, 0.75745971,\n",
       "       0.90023775, 0.38095547, 0.08695934, 0.04169472, 0.15271445,\n",
       "       0.9804994 , 0.63574214, 0.86070387, 0.04816505, 0.09725388,\n",
       "       0.04375636, 0.57824201, 0.87430279, 0.08706995, 0.96612359,\n",
       "       0.10006548, 0.63941438, 0.75020378, 0.89638896, 0.04860278,\n",
       "       0.35111296, 0.07978103, 0.96384248, 0.08695934, 0.10509492,\n",
       "       0.25915796, 0.07995951, 0.02165007, 0.21165476, 0.18041551,\n",
       "       0.92232788, 0.02716477, 0.86963106, 0.17666554, 0.81872875,\n",
       "       0.6339355 , 0.99349831, 0.30743906, 0.23117762, 0.05226485,\n",
       "       0.0413363 , 0.04169472, 0.18712019, 0.06968274, 0.05595449,\n",
       "       0.93421217, 0.89453739, 0.04437515, 0.06372962, 0.08083468,\n",
       "       0.10548657, 0.10518126, 0.68308806, 0.07358151, 0.53120823,\n",
       "       0.08418345, 0.08133898, 0.76860822, 0.04375636, 0.02716477,\n",
       "       0.25306278, 0.09695967, 0.57197655, 0.27590522, 0.0842974 ,\n",
       "       0.99083774, 0.08340687, 0.05780481, 0.97466773, 0.10705739,\n",
       "       0.03472995, 0.97364095, 0.08953417, 0.13039079, 0.98942734,\n",
       "       0.0415899 , 0.05780481, 0.86963106, 0.57396802, 0.07995951,\n",
       "       0.98426271, 0.987758  , 0.08695934, 0.98555453, 0.21302342,\n",
       "       0.10114691, 0.07049167, 0.08695934, 0.03604923, 0.23011531,\n",
       "       0.42935263, 0.8893773 , 0.22176003, 0.08695934, 0.02611428,\n",
       "       0.07293048, 0.08340687, 0.05226485, 0.10518126, 0.57417964,\n",
       "       0.10110186, 0.96455401, 0.10006548, 0.1027752 , 0.98676358,\n",
       "       0.07688692, 0.1124872 , 0.96706234, 0.96455401, 0.03378447,\n",
       "       0.35419893, 0.48326363, 0.06824749, 0.99348206, 0.10955867,\n",
       "       0.10705739, 0.07314564, 0.10705739, 0.27519837, 0.24741715,\n",
       "       0.08340687, 0.667004  , 0.93110227, 0.98370719, 0.97535336,\n",
       "       0.04008144, 0.06015275, 0.11149465, 0.89120188, 0.98741422,\n",
       "       0.32754074, 0.99102909, 0.26728379, 0.36191056, 0.01683488,\n",
       "       0.04299707, 0.88896056, 0.65901898, 0.97854423, 0.3092105 ,\n",
       "       0.08340687, 0.08910248, 0.05887948, 0.03578942, 0.44151697,\n",
       "       0.09725388, 0.07049167, 0.09160237, 0.18988359, 0.02611428,\n",
       "       0.04169456, 0.86922756, 0.08730478, 0.40443114, 0.0630465 ,\n",
       "       0.14643623, 0.33526876, 0.03817995, 0.04656392, 0.93110227,\n",
       "       0.79563776, 0.10587906, 0.09184052, 0.67850852, 0.13039079,\n",
       "       0.05780481, 0.99585302, 0.1027752 , 0.05887948, 0.08418345,\n",
       "       0.08706995, 0.18326822, 0.98597763, 0.98325256, 0.97757991,\n",
       "       0.83885838, 0.31739066, 0.3174237 , 0.04375636, 0.91790268,\n",
       "       0.51079328, 0.2169869 , 0.12165857, 0.18073965, 0.36538332,\n",
       "       0.03122506, 0.00944406, 0.10705739, 0.08706995, 0.08340687,\n",
       "       0.01649268, 0.53620425, 0.10587906, 0.84852818, 0.98838066,\n",
       "       0.98651091, 0.07968723, 0.93914211, 0.07995951, 0.91404543,\n",
       "       0.08074586, 0.08660856, 0.18156933, 0.90967377, 0.86861308,\n",
       "       0.05284819, 0.89821518, 0.0922831 , 0.21103188, 0.27916229,\n",
       "       0.26183409, 0.12165857, 0.10469532, 0.76981982, 0.83819541,\n",
       "       0.23964596, 0.06268502, 0.14264939, 0.10006548, 0.93394602,\n",
       "       0.07049167, 0.04375636, 0.1124872 , 0.09215092, 0.42935263,\n",
       "       0.07049167, 0.96014726, 0.69432693, 0.06372962, 0.99317832,\n",
       "       0.12165857, 0.10955867, 0.06478733, 0.90011715, 0.07293048,\n",
       "       0.05113161, 0.06015275, 0.65096921, 0.02368411, 0.06855292,\n",
       "       0.88662167, 0.3092105 , 0.07049167, 0.88527362, 0.08340687,\n",
       "       0.07249984, 0.92881753, 0.21165476, 0.07831525, 0.99085546,\n",
       "       0.11946044, 0.06968274, 0.11149465, 0.09184052, 0.10705739,\n",
       "       0.63593113, 0.08706995, 0.8971764 , 0.18500917, 0.98161803,\n",
       "       0.93634161, 0.09184052, 0.08706995, 0.05780481, 0.5913573 ,\n",
       "       0.23379391, 0.05226485, 0.10518126, 0.99034668, 0.51434709,\n",
       "       0.07429045, 0.07973417, 0.92786937, 0.05114243, 0.44815519,\n",
       "       0.64131936, 0.10518126, 0.07049167, 0.09155379, 0.84113111,\n",
       "       0.93079145, 0.10102124, 0.11149465, 0.92881753, 0.07713306,\n",
       "       0.98425773, 0.08069682, 0.23369025, 0.74889995, 0.08340687,\n",
       "       0.04169472, 0.76453056, 0.23964596, 0.98976869, 0.63593113,\n",
       "       0.66206578, 0.89120188, 0.08706995, 0.23228846, 0.96612359,\n",
       "       0.64159627, 0.38748112, 0.11149465, 0.89120188, 0.91466265,\n",
       "       0.04877196, 0.87245529, 0.98279094, 0.08190719, 0.95814221,\n",
       "       0.03578942, 0.79482807, 0.47816393, 0.98493567, 0.1124872 ,\n",
       "       0.13312686, 0.10518126, 0.183134  , 0.84873343, 0.84142983,\n",
       "       0.98413013, 0.11149465, 0.99289377, 0.06826808, 0.87903121,\n",
       "       0.02290506, 0.10799138, 0.94751916, 0.04375636, 0.04750856,\n",
       "       0.10705739, 0.10270527, 0.64900513, 0.86963106, 0.99022979,\n",
       "       0.8385699 , 0.46808177, 0.66404966])"
      ]
     },
     "execution_count": 173,
     "metadata": {},
     "output_type": "execute_result"
    }
   ],
   "source": [
    "ori_te_pred"
   ]
  },
  {
   "cell_type": "code",
   "execution_count": 175,
   "id": "fe9a6f93",
   "metadata": {
    "tags": []
   },
   "outputs": [
    {
     "name": "stdout",
     "output_type": "stream",
     "text": [
      "0\n"
     ]
    },
    {
     "data": {
      "text/html": [
       "<div>\n",
       "<style scoped>\n",
       "    .dataframe tbody tr th:only-of-type {\n",
       "        vertical-align: middle;\n",
       "    }\n",
       "\n",
       "    .dataframe tbody tr th {\n",
       "        vertical-align: top;\n",
       "    }\n",
       "\n",
       "    .dataframe thead th {\n",
       "        text-align: right;\n",
       "    }\n",
       "</style>\n",
       "<table border=\"1\" class=\"dataframe\">\n",
       "  <thead>\n",
       "    <tr style=\"text-align: right;\">\n",
       "      <th></th>\n",
       "      <th>passengerid</th>\n",
       "      <th>survived</th>\n",
       "    </tr>\n",
       "  </thead>\n",
       "  <tbody>\n",
       "    <tr>\n",
       "      <th>0</th>\n",
       "      <td>916</td>\n",
       "      <td>0.886945</td>\n",
       "    </tr>\n",
       "    <tr>\n",
       "      <th>1</th>\n",
       "      <td>917</td>\n",
       "      <td>0.918777</td>\n",
       "    </tr>\n",
       "    <tr>\n",
       "      <th>2</th>\n",
       "      <td>918</td>\n",
       "      <td>0.869631</td>\n",
       "    </tr>\n",
       "    <tr>\n",
       "      <th>3</th>\n",
       "      <td>919</td>\n",
       "      <td>0.057805</td>\n",
       "    </tr>\n",
       "    <tr>\n",
       "      <th>4</th>\n",
       "      <td>920</td>\n",
       "      <td>0.946105</td>\n",
       "    </tr>\n",
       "    <tr>\n",
       "      <th>5</th>\n",
       "      <td>921</td>\n",
       "      <td>0.841868</td>\n",
       "    </tr>\n",
       "    <tr>\n",
       "      <th>6</th>\n",
       "      <td>922</td>\n",
       "      <td>0.081927</td>\n",
       "    </tr>\n",
       "    <tr>\n",
       "      <th>7</th>\n",
       "      <td>923</td>\n",
       "      <td>0.070492</td>\n",
       "    </tr>\n",
       "    <tr>\n",
       "      <th>8</th>\n",
       "      <td>924</td>\n",
       "      <td>0.821379</td>\n",
       "    </tr>\n",
       "    <tr>\n",
       "      <th>9</th>\n",
       "      <td>925</td>\n",
       "      <td>0.054447</td>\n",
       "    </tr>\n",
       "  </tbody>\n",
       "</table>\n",
       "</div>"
      ],
      "text/plain": [
       "   passengerid  survived\n",
       "0          916  0.886945\n",
       "1          917  0.918777\n",
       "2          918  0.869631\n",
       "3          919  0.057805\n",
       "4          920  0.946105\n",
       "5          921  0.841868\n",
       "6          922  0.081927\n",
       "7          923  0.070492\n",
       "8          924  0.821379\n",
       "9          925  0.054447"
      ]
     },
     "execution_count": 175,
     "metadata": {},
     "output_type": "execute_result"
    }
   ],
   "source": [
    "submission['survived'] = ori_te_pred\n",
    "print(f'{submission.isnull().sum().sum()}')\n",
    "submission.head(10)"
   ]
  },
  {
   "cell_type": "code",
   "execution_count": null,
   "id": "5808deee",
   "metadata": {
    "execution": {
     "iopub.status.busy": "2023-04-05T16:30:50.836726Z",
     "iopub.status.idle": "2023-04-05T16:30:50.837441Z",
     "shell.execute_reply": "2023-04-05T16:30:50.837112Z",
     "shell.execute_reply.started": "2023-04-05T16:30:50.837075Z"
    }
   },
   "outputs": [],
   "source": [
    "submission.to_csv(args.submission_csv, header=True, index=False)"
   ]
  }
 ],
 "metadata": {
  "kernelspec": {
   "display_name": "Python 3 (ipykernel)",
   "language": "python",
   "name": "python3"
  },
  "language_info": {
   "codemirror_mode": {
    "name": "ipython",
    "version": 3
   },
   "file_extension": ".py",
   "mimetype": "text/x-python",
   "name": "python",
   "nbconvert_exporter": "python",
   "pygments_lexer": "ipython3",
   "version": "3.9.13"
  }
 },
 "nbformat": 4,
 "nbformat_minor": 5
}
