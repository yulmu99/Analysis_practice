{
 "cells": [
  {
   "cell_type": "markdown",
   "id": "47225c97",
   "metadata": {},
   "source": [
    "# titanic호 탑승객의 생존유무(survived) 예측"
   ]
  },
  {
   "cell_type": "code",
   "execution_count": 582,
   "id": "3235fb79",
   "metadata": {
    "tags": []
   },
   "outputs": [],
   "source": [
    "import pandas as pd\n",
    "import numpy as np\n",
    "import random as rnd"
   ]
  },
  {
   "cell_type": "code",
   "execution_count": 583,
   "id": "c252c917",
   "metadata": {
    "tags": []
   },
   "outputs": [],
   "source": [
    "import seaborn as sns\n",
    "import matplotlib.pyplot as plt\n",
    "%matplotlib inline"
   ]
  },
  {
   "cell_type": "code",
   "execution_count": 584,
   "id": "6d59a6e4",
   "metadata": {
    "tags": []
   },
   "outputs": [],
   "source": [
    "from sklearn.linear_model import LogisticRegression\n",
    "from sklearn.svm import SVC, LinearSVC\n",
    "from sklearn.ensemble import RandomForestClassifier\n",
    "from sklearn.neighbors import KNeighborsClassifier\n",
    "from sklearn.naive_bayes import GaussianNB\n",
    "from sklearn.tree import DecisionTreeClassifier"
   ]
  },
  {
   "cell_type": "code",
   "execution_count": 585,
   "id": "4ce27a73-1de9-4be8-b41b-60edd6fd4522",
   "metadata": {},
   "outputs": [
    {
     "name": "stdout",
     "output_type": "stream",
     "text": [
      "C:\\python\n"
     ]
    }
   ],
   "source": [
    "%cd C://python"
   ]
  },
  {
   "cell_type": "code",
   "execution_count": 650,
   "id": "718432c4",
   "metadata": {
    "tags": []
   },
   "outputs": [],
   "source": [
    "import easydict\n",
    "args = easydict.EasyDict()\n",
    "\n",
    "# path 정보\n",
    "args.train_csv = 'titanic/train.csv' \n",
    "args.test_csv = 'titanic/test.csv'\n",
    "args.default_submission_csv = 'titanic/submission.csv'\n",
    "\n",
    "args.submission_csv ='submission_0405.csv'\n",
    "args.save_results = \"model_results.json\"\n",
    "\n",
    "# 데이터 분석을 위한 변수들\n",
    "args.random_state = 21\n",
    "args.results = []"
   ]
  },
  {
   "cell_type": "markdown",
   "id": "ff3fd27c-c07c-482e-a379-6fcc8d7854ca",
   "metadata": {},
   "source": [
    "## 데이터 불러오기"
   ]
  },
  {
   "cell_type": "markdown",
   "id": "db0c88f1-1187-429c-a88b-0f0b2abeacfe",
   "metadata": {},
   "source": [
    "- survived : 생존=1, 죽음=0\n",
    "- pclass : 승객 등급. 1등급=1, 2등급=2, 3등급=3\n",
    "- sibsp : 함께 탑승한 형제 또는 배우자 수\n",
    "- parch : 함께 탑승한 부모 또는 자녀 수\n",
    "- ticket : 티켓 번호\n",
    "- cabin : 선실 번호\n",
    "- embarked : 탑승장소 S=Southhampton, C=Cherbourg, Q=Queenstown"
   ]
  },
  {
   "cell_type": "code",
   "execution_count": 651,
   "id": "b6c305ea",
   "metadata": {
    "tags": []
   },
   "outputs": [
    {
     "data": {
      "text/plain": [
       "((916, 12), (393, 11))"
      ]
     },
     "execution_count": 651,
     "metadata": {},
     "output_type": "execute_result"
    }
   ],
   "source": [
    "raw_train = pd.read_csv(args.train_csv) \n",
    "raw_test = pd.read_csv(args.test_csv)\n",
    "\n",
    "raw_train.shape, raw_test.shape   "
   ]
  },
  {
   "cell_type": "code",
   "execution_count": 652,
   "id": "752dbfe0",
   "metadata": {
    "tags": []
   },
   "outputs": [
    {
     "data": {
      "text/plain": [
       "Index(['passengerid', 'survived', 'pclass', 'name', 'gender', 'age', 'sibsp',\n",
       "       'parch', 'ticket', 'fare', 'cabin', 'embarked'],\n",
       "      dtype='object')"
      ]
     },
     "execution_count": 652,
     "metadata": {},
     "output_type": "execute_result"
    }
   ],
   "source": [
    "raw_train.columns  "
   ]
  },
  {
   "cell_type": "code",
   "execution_count": 653,
   "id": "48a25bed",
   "metadata": {
    "tags": []
   },
   "outputs": [
    {
     "data": {
      "text/plain": [
       "916"
      ]
     },
     "execution_count": 653,
     "metadata": {},
     "output_type": "execute_result"
    }
   ],
   "source": [
    "raw_train['passengerid'].nunique()"
   ]
  },
  {
   "cell_type": "code",
   "execution_count": 654,
   "id": "fa44819a",
   "metadata": {
    "tags": []
   },
   "outputs": [],
   "source": [
    "#passengerid는 모두 다른 값이므로 삭제\n",
    "del raw_train['passengerid']"
   ]
  },
  {
   "cell_type": "code",
   "execution_count": 655,
   "id": "93d63116",
   "metadata": {
    "tags": []
   },
   "outputs": [
    {
     "name": "stdout",
     "output_type": "stream",
     "text": [
      "(393, 10)\n"
     ]
    }
   ],
   "source": [
    "raw_test.set_index(['passengerid'], inplace=True) \n",
    "print(f'{raw_test.shape}')"
   ]
  },
  {
   "cell_type": "code",
   "execution_count": 656,
   "id": "74ec1688-e5da-4596-ae0c-c2b4c11b5297",
   "metadata": {},
   "outputs": [
    {
     "data": {
      "text/plain": [
       "((916, 11), (393, 10))"
      ]
     },
     "execution_count": 656,
     "metadata": {},
     "output_type": "execute_result"
    }
   ],
   "source": [
    "raw_train.shape , raw_test.shape"
   ]
  },
  {
   "cell_type": "code",
   "execution_count": 657,
   "id": "c57a7395",
   "metadata": {
    "tags": []
   },
   "outputs": [
    {
     "data": {
      "text/plain": [
       "Index(['survived', 'pclass', 'name', 'gender', 'age', 'sibsp', 'parch',\n",
       "       'ticket', 'fare', 'cabin', 'embarked'],\n",
       "      dtype='object')"
      ]
     },
     "execution_count": 657,
     "metadata": {},
     "output_type": "execute_result"
    }
   ],
   "source": [
    "raw_train.columns"
   ]
  },
  {
   "cell_type": "code",
   "execution_count": 658,
   "id": "d0533185",
   "metadata": {
    "tags": []
   },
   "outputs": [
    {
     "data": {
      "text/plain": [
       "Index(['pclass', 'name', 'gender', 'age', 'sibsp', 'parch', 'ticket', 'fare',\n",
       "       'cabin', 'embarked'],\n",
       "      dtype='object')"
      ]
     },
     "execution_count": 658,
     "metadata": {},
     "output_type": "execute_result"
    }
   ],
   "source": [
    "raw_test.columns"
   ]
  },
  {
   "cell_type": "markdown",
   "id": "6997a3b0",
   "metadata": {},
   "source": [
    "## train_test_split"
   ]
  },
  {
   "cell_type": "markdown",
   "id": "ab2644de-fc0f-43c1-b888-d0fc82c8d4e5",
   "metadata": {},
   "source": [
    "raw train data -> train, test로 분리"
   ]
  },
  {
   "cell_type": "code",
   "execution_count": 659,
   "id": "b1463235",
   "metadata": {
    "tags": []
   },
   "outputs": [],
   "source": [
    "from sklearn.model_selection import train_test_split"
   ]
  },
  {
   "cell_type": "code",
   "execution_count": 660,
   "id": "286bcce6",
   "metadata": {
    "tags": []
   },
   "outputs": [],
   "source": [
    "train, test = train_test_split(raw_train, test_size=0.3, stratify=raw_train['survived'],random_state=args.random_state) "
   ]
  },
  {
   "cell_type": "code",
   "execution_count": 661,
   "id": "0ab6263e",
   "metadata": {
    "tags": []
   },
   "outputs": [
    {
     "data": {
      "text/plain": [
       "((641, 11), (275, 11))"
      ]
     },
     "execution_count": 661,
     "metadata": {},
     "output_type": "execute_result"
    }
   ],
   "source": [
    "train.shape, test.shape"
   ]
  },
  {
   "cell_type": "code",
   "execution_count": 662,
   "id": "d3b56098",
   "metadata": {
    "tags": []
   },
   "outputs": [
    {
     "name": "stdout",
     "output_type": "stream",
     "text": [
      "<class 'pandas.core.frame.DataFrame'>\n",
      "Int64Index: 641 entries, 812 to 277\n",
      "Data columns (total 11 columns):\n",
      " #   Column    Non-Null Count  Dtype  \n",
      "---  ------    --------------  -----  \n",
      " 0   survived  641 non-null    int64  \n",
      " 1   pclass    641 non-null    int64  \n",
      " 2   name      641 non-null    object \n",
      " 3   gender    641 non-null    object \n",
      " 4   age       512 non-null    float64\n",
      " 5   sibsp     641 non-null    int64  \n",
      " 6   parch     641 non-null    int64  \n",
      " 7   ticket    641 non-null    object \n",
      " 8   fare      641 non-null    float64\n",
      " 9   cabin     135 non-null    object \n",
      " 10  embarked  641 non-null    object \n",
      "dtypes: float64(2), int64(4), object(5)\n",
      "memory usage: 60.1+ KB\n"
     ]
    }
   ],
   "source": [
    "train.info()"
   ]
  },
  {
   "cell_type": "code",
   "execution_count": 663,
   "id": "864967d0",
   "metadata": {
    "tags": []
   },
   "outputs": [
    {
     "data": {
      "text/html": [
       "<div>\n",
       "<style scoped>\n",
       "    .dataframe tbody tr th:only-of-type {\n",
       "        vertical-align: middle;\n",
       "    }\n",
       "\n",
       "    .dataframe tbody tr th {\n",
       "        vertical-align: top;\n",
       "    }\n",
       "\n",
       "    .dataframe thead th {\n",
       "        text-align: right;\n",
       "    }\n",
       "</style>\n",
       "<table border=\"1\" class=\"dataframe\">\n",
       "  <thead>\n",
       "    <tr style=\"text-align: right;\">\n",
       "      <th></th>\n",
       "      <th>survived</th>\n",
       "      <th>pclass</th>\n",
       "      <th>name</th>\n",
       "      <th>gender</th>\n",
       "      <th>age</th>\n",
       "      <th>sibsp</th>\n",
       "      <th>parch</th>\n",
       "      <th>ticket</th>\n",
       "      <th>fare</th>\n",
       "      <th>cabin</th>\n",
       "      <th>embarked</th>\n",
       "    </tr>\n",
       "  </thead>\n",
       "  <tbody>\n",
       "    <tr>\n",
       "      <th>count</th>\n",
       "      <td>641.000000</td>\n",
       "      <td>641.000000</td>\n",
       "      <td>641</td>\n",
       "      <td>641</td>\n",
       "      <td>512.000000</td>\n",
       "      <td>641.000000</td>\n",
       "      <td>641.000000</td>\n",
       "      <td>641</td>\n",
       "      <td>641.000000</td>\n",
       "      <td>135</td>\n",
       "      <td>641</td>\n",
       "    </tr>\n",
       "    <tr>\n",
       "      <th>unique</th>\n",
       "      <td>NaN</td>\n",
       "      <td>NaN</td>\n",
       "      <td>641</td>\n",
       "      <td>2</td>\n",
       "      <td>NaN</td>\n",
       "      <td>NaN</td>\n",
       "      <td>NaN</td>\n",
       "      <td>529</td>\n",
       "      <td>NaN</td>\n",
       "      <td>110</td>\n",
       "      <td>3</td>\n",
       "    </tr>\n",
       "    <tr>\n",
       "      <th>top</th>\n",
       "      <td>NaN</td>\n",
       "      <td>NaN</td>\n",
       "      <td>Ohman, Miss. Velin</td>\n",
       "      <td>male</td>\n",
       "      <td>NaN</td>\n",
       "      <td>NaN</td>\n",
       "      <td>NaN</td>\n",
       "      <td>3101295</td>\n",
       "      <td>NaN</td>\n",
       "      <td>B96 B98</td>\n",
       "      <td>S</td>\n",
       "    </tr>\n",
       "    <tr>\n",
       "      <th>freq</th>\n",
       "      <td>NaN</td>\n",
       "      <td>NaN</td>\n",
       "      <td>1</td>\n",
       "      <td>407</td>\n",
       "      <td>NaN</td>\n",
       "      <td>NaN</td>\n",
       "      <td>NaN</td>\n",
       "      <td>5</td>\n",
       "      <td>NaN</td>\n",
       "      <td>3</td>\n",
       "      <td>455</td>\n",
       "    </tr>\n",
       "    <tr>\n",
       "      <th>mean</th>\n",
       "      <td>0.377535</td>\n",
       "      <td>2.305772</td>\n",
       "      <td>NaN</td>\n",
       "      <td>NaN</td>\n",
       "      <td>30.344082</td>\n",
       "      <td>0.466459</td>\n",
       "      <td>0.368175</td>\n",
       "      <td>NaN</td>\n",
       "      <td>31.654446</td>\n",
       "      <td>NaN</td>\n",
       "      <td>NaN</td>\n",
       "    </tr>\n",
       "    <tr>\n",
       "      <th>std</th>\n",
       "      <td>0.485149</td>\n",
       "      <td>0.829221</td>\n",
       "      <td>NaN</td>\n",
       "      <td>NaN</td>\n",
       "      <td>14.492658</td>\n",
       "      <td>0.961386</td>\n",
       "      <td>0.897140</td>\n",
       "      <td>NaN</td>\n",
       "      <td>49.827609</td>\n",
       "      <td>NaN</td>\n",
       "      <td>NaN</td>\n",
       "    </tr>\n",
       "    <tr>\n",
       "      <th>min</th>\n",
       "      <td>0.000000</td>\n",
       "      <td>1.000000</td>\n",
       "      <td>NaN</td>\n",
       "      <td>NaN</td>\n",
       "      <td>0.170000</td>\n",
       "      <td>0.000000</td>\n",
       "      <td>0.000000</td>\n",
       "      <td>NaN</td>\n",
       "      <td>0.000000</td>\n",
       "      <td>NaN</td>\n",
       "      <td>NaN</td>\n",
       "    </tr>\n",
       "    <tr>\n",
       "      <th>25%</th>\n",
       "      <td>0.000000</td>\n",
       "      <td>2.000000</td>\n",
       "      <td>NaN</td>\n",
       "      <td>NaN</td>\n",
       "      <td>21.000000</td>\n",
       "      <td>0.000000</td>\n",
       "      <td>0.000000</td>\n",
       "      <td>NaN</td>\n",
       "      <td>7.895800</td>\n",
       "      <td>NaN</td>\n",
       "      <td>NaN</td>\n",
       "    </tr>\n",
       "    <tr>\n",
       "      <th>50%</th>\n",
       "      <td>0.000000</td>\n",
       "      <td>3.000000</td>\n",
       "      <td>NaN</td>\n",
       "      <td>NaN</td>\n",
       "      <td>28.000000</td>\n",
       "      <td>0.000000</td>\n",
       "      <td>0.000000</td>\n",
       "      <td>NaN</td>\n",
       "      <td>14.400000</td>\n",
       "      <td>NaN</td>\n",
       "      <td>NaN</td>\n",
       "    </tr>\n",
       "    <tr>\n",
       "      <th>75%</th>\n",
       "      <td>1.000000</td>\n",
       "      <td>3.000000</td>\n",
       "      <td>NaN</td>\n",
       "      <td>NaN</td>\n",
       "      <td>38.000000</td>\n",
       "      <td>1.000000</td>\n",
       "      <td>0.000000</td>\n",
       "      <td>NaN</td>\n",
       "      <td>30.000000</td>\n",
       "      <td>NaN</td>\n",
       "      <td>NaN</td>\n",
       "    </tr>\n",
       "    <tr>\n",
       "      <th>max</th>\n",
       "      <td>1.000000</td>\n",
       "      <td>3.000000</td>\n",
       "      <td>NaN</td>\n",
       "      <td>NaN</td>\n",
       "      <td>80.000000</td>\n",
       "      <td>8.000000</td>\n",
       "      <td>9.000000</td>\n",
       "      <td>NaN</td>\n",
       "      <td>512.329200</td>\n",
       "      <td>NaN</td>\n",
       "      <td>NaN</td>\n",
       "    </tr>\n",
       "  </tbody>\n",
       "</table>\n",
       "</div>"
      ],
      "text/plain": [
       "          survived      pclass                name gender         age  \\\n",
       "count   641.000000  641.000000                 641    641  512.000000   \n",
       "unique         NaN         NaN                 641      2         NaN   \n",
       "top            NaN         NaN  Ohman, Miss. Velin   male         NaN   \n",
       "freq           NaN         NaN                   1    407         NaN   \n",
       "mean      0.377535    2.305772                 NaN    NaN   30.344082   \n",
       "std       0.485149    0.829221                 NaN    NaN   14.492658   \n",
       "min       0.000000    1.000000                 NaN    NaN    0.170000   \n",
       "25%       0.000000    2.000000                 NaN    NaN   21.000000   \n",
       "50%       0.000000    3.000000                 NaN    NaN   28.000000   \n",
       "75%       1.000000    3.000000                 NaN    NaN   38.000000   \n",
       "max       1.000000    3.000000                 NaN    NaN   80.000000   \n",
       "\n",
       "             sibsp       parch   ticket        fare    cabin embarked  \n",
       "count   641.000000  641.000000      641  641.000000      135      641  \n",
       "unique         NaN         NaN      529         NaN      110        3  \n",
       "top            NaN         NaN  3101295         NaN  B96 B98        S  \n",
       "freq           NaN         NaN        5         NaN        3      455  \n",
       "mean      0.466459    0.368175      NaN   31.654446      NaN      NaN  \n",
       "std       0.961386    0.897140      NaN   49.827609      NaN      NaN  \n",
       "min       0.000000    0.000000      NaN    0.000000      NaN      NaN  \n",
       "25%       0.000000    0.000000      NaN    7.895800      NaN      NaN  \n",
       "50%       0.000000    0.000000      NaN   14.400000      NaN      NaN  \n",
       "75%       1.000000    0.000000      NaN   30.000000      NaN      NaN  \n",
       "max       8.000000    9.000000      NaN  512.329200      NaN      NaN  "
      ]
     },
     "execution_count": 663,
     "metadata": {},
     "output_type": "execute_result"
    }
   ],
   "source": [
    "train.describe(include='all')"
   ]
  },
  {
   "cell_type": "markdown",
   "id": "d308153e",
   "metadata": {},
   "source": [
    "- 이름(Name)은 모두 다르다.\n",
    "- 성별(gender)은 407/641로 남성이 많다.\n",
    "- 승선(Embarked)은 총 3개의 종류가 있고, S가 제일 많다.\n",
    "- 티켓(Ticket)은 중복이 매우 적다."
   ]
  },
  {
   "cell_type": "code",
   "execution_count": 664,
   "id": "5f03a25f",
   "metadata": {
    "tags": []
   },
   "outputs": [
    {
     "data": {
      "text/html": [
       "<div>\n",
       "<style scoped>\n",
       "    .dataframe tbody tr th:only-of-type {\n",
       "        vertical-align: middle;\n",
       "    }\n",
       "\n",
       "    .dataframe tbody tr th {\n",
       "        vertical-align: top;\n",
       "    }\n",
       "\n",
       "    .dataframe thead th {\n",
       "        text-align: right;\n",
       "    }\n",
       "</style>\n",
       "<table border=\"1\" class=\"dataframe\">\n",
       "  <thead>\n",
       "    <tr style=\"text-align: right;\">\n",
       "      <th></th>\n",
       "      <th>survived</th>\n",
       "      <th>pclass</th>\n",
       "      <th>age</th>\n",
       "      <th>sibsp</th>\n",
       "      <th>parch</th>\n",
       "      <th>fare</th>\n",
       "    </tr>\n",
       "  </thead>\n",
       "  <tbody>\n",
       "    <tr>\n",
       "      <th>count</th>\n",
       "      <td>641.000000</td>\n",
       "      <td>641.000000</td>\n",
       "      <td>512.000000</td>\n",
       "      <td>641.000000</td>\n",
       "      <td>641.000000</td>\n",
       "      <td>641.000000</td>\n",
       "    </tr>\n",
       "    <tr>\n",
       "      <th>mean</th>\n",
       "      <td>0.377535</td>\n",
       "      <td>2.305772</td>\n",
       "      <td>30.344082</td>\n",
       "      <td>0.466459</td>\n",
       "      <td>0.368175</td>\n",
       "      <td>31.654446</td>\n",
       "    </tr>\n",
       "    <tr>\n",
       "      <th>std</th>\n",
       "      <td>0.485149</td>\n",
       "      <td>0.829221</td>\n",
       "      <td>14.492658</td>\n",
       "      <td>0.961386</td>\n",
       "      <td>0.897140</td>\n",
       "      <td>49.827609</td>\n",
       "    </tr>\n",
       "    <tr>\n",
       "      <th>min</th>\n",
       "      <td>0.000000</td>\n",
       "      <td>1.000000</td>\n",
       "      <td>0.170000</td>\n",
       "      <td>0.000000</td>\n",
       "      <td>0.000000</td>\n",
       "      <td>0.000000</td>\n",
       "    </tr>\n",
       "    <tr>\n",
       "      <th>25%</th>\n",
       "      <td>0.000000</td>\n",
       "      <td>2.000000</td>\n",
       "      <td>21.000000</td>\n",
       "      <td>0.000000</td>\n",
       "      <td>0.000000</td>\n",
       "      <td>7.895800</td>\n",
       "    </tr>\n",
       "    <tr>\n",
       "      <th>50%</th>\n",
       "      <td>0.000000</td>\n",
       "      <td>3.000000</td>\n",
       "      <td>28.000000</td>\n",
       "      <td>0.000000</td>\n",
       "      <td>0.000000</td>\n",
       "      <td>14.400000</td>\n",
       "    </tr>\n",
       "    <tr>\n",
       "      <th>75%</th>\n",
       "      <td>1.000000</td>\n",
       "      <td>3.000000</td>\n",
       "      <td>38.000000</td>\n",
       "      <td>1.000000</td>\n",
       "      <td>0.000000</td>\n",
       "      <td>30.000000</td>\n",
       "    </tr>\n",
       "    <tr>\n",
       "      <th>max</th>\n",
       "      <td>1.000000</td>\n",
       "      <td>3.000000</td>\n",
       "      <td>80.000000</td>\n",
       "      <td>8.000000</td>\n",
       "      <td>9.000000</td>\n",
       "      <td>512.329200</td>\n",
       "    </tr>\n",
       "  </tbody>\n",
       "</table>\n",
       "</div>"
      ],
      "text/plain": [
       "         survived      pclass         age       sibsp       parch        fare\n",
       "count  641.000000  641.000000  512.000000  641.000000  641.000000  641.000000\n",
       "mean     0.377535    2.305772   30.344082    0.466459    0.368175   31.654446\n",
       "std      0.485149    0.829221   14.492658    0.961386    0.897140   49.827609\n",
       "min      0.000000    1.000000    0.170000    0.000000    0.000000    0.000000\n",
       "25%      0.000000    2.000000   21.000000    0.000000    0.000000    7.895800\n",
       "50%      0.000000    3.000000   28.000000    0.000000    0.000000   14.400000\n",
       "75%      1.000000    3.000000   38.000000    1.000000    0.000000   30.000000\n",
       "max      1.000000    3.000000   80.000000    8.000000    9.000000  512.329200"
      ]
     },
     "execution_count": 664,
     "metadata": {},
     "output_type": "execute_result"
    }
   ],
   "source": [
    "train.describe(include=np.number)"
   ]
  },
  {
   "cell_type": "code",
   "execution_count": 665,
   "id": "e0670078",
   "metadata": {
    "tags": []
   },
   "outputs": [
    {
     "data": {
      "text/html": [
       "<div>\n",
       "<style scoped>\n",
       "    .dataframe tbody tr th:only-of-type {\n",
       "        vertical-align: middle;\n",
       "    }\n",
       "\n",
       "    .dataframe tbody tr th {\n",
       "        vertical-align: top;\n",
       "    }\n",
       "\n",
       "    .dataframe thead th {\n",
       "        text-align: right;\n",
       "    }\n",
       "</style>\n",
       "<table border=\"1\" class=\"dataframe\">\n",
       "  <thead>\n",
       "    <tr style=\"text-align: right;\">\n",
       "      <th></th>\n",
       "      <th>name</th>\n",
       "      <th>gender</th>\n",
       "      <th>ticket</th>\n",
       "      <th>cabin</th>\n",
       "      <th>embarked</th>\n",
       "    </tr>\n",
       "  </thead>\n",
       "  <tbody>\n",
       "    <tr>\n",
       "      <th>count</th>\n",
       "      <td>641</td>\n",
       "      <td>641</td>\n",
       "      <td>641</td>\n",
       "      <td>135</td>\n",
       "      <td>641</td>\n",
       "    </tr>\n",
       "    <tr>\n",
       "      <th>unique</th>\n",
       "      <td>641</td>\n",
       "      <td>2</td>\n",
       "      <td>529</td>\n",
       "      <td>110</td>\n",
       "      <td>3</td>\n",
       "    </tr>\n",
       "    <tr>\n",
       "      <th>top</th>\n",
       "      <td>Ohman, Miss. Velin</td>\n",
       "      <td>male</td>\n",
       "      <td>3101295</td>\n",
       "      <td>B96 B98</td>\n",
       "      <td>S</td>\n",
       "    </tr>\n",
       "    <tr>\n",
       "      <th>freq</th>\n",
       "      <td>1</td>\n",
       "      <td>407</td>\n",
       "      <td>5</td>\n",
       "      <td>3</td>\n",
       "      <td>455</td>\n",
       "    </tr>\n",
       "  </tbody>\n",
       "</table>\n",
       "</div>"
      ],
      "text/plain": [
       "                      name gender   ticket    cabin embarked\n",
       "count                  641    641      641      135      641\n",
       "unique                 641      2      529      110        3\n",
       "top     Ohman, Miss. Velin   male  3101295  B96 B98        S\n",
       "freq                     1    407        5        3      455"
      ]
     },
     "execution_count": 665,
     "metadata": {},
     "output_type": "execute_result"
    }
   ],
   "source": [
    "train.describe(exclude=np.number)"
   ]
  },
  {
   "cell_type": "markdown",
   "id": "d8491d9c",
   "metadata": {},
   "source": [
    "### EDA"
   ]
  },
  {
   "cell_type": "markdown",
   "id": "7615385c",
   "metadata": {},
   "source": [
    "#### Correcting\n",
    "- 필요없는 column 삭제\n",
    "> ticket<br>\n",
    "> cabin은 null값이 많이 존재"
   ]
  },
  {
   "cell_type": "code",
   "execution_count": 666,
   "id": "c53ccdfa",
   "metadata": {
    "tags": []
   },
   "outputs": [
    {
     "name": "stdout",
     "output_type": "stream",
     "text": [
      "before: ((641, 11), (275, 11), (393, 10))\n",
      "after: ((641, 11), (275, 11), (393, 10))\n"
     ]
    }
   ],
   "source": [
    "print(f'before: {train.shape , test.shape, raw_test.shape}')\n",
    "\n",
    "#del train['ticket']\n",
    "#del train['cabin']\n",
    "\n",
    "#del test['ticket']\n",
    "#del test['cabin']\n",
    "\n",
    "#del raw_test['ticket']\n",
    "#del raw_test['cabin']\n",
    "\n",
    "print(f'after: {train.shape , test.shape, raw_test.shape}')"
   ]
  },
  {
   "cell_type": "markdown",
   "id": "fb3bbd0d-30a3-4d42-a452-7442a4d94757",
   "metadata": {},
   "source": [
    "##### cabin"
   ]
  },
  {
   "cell_type": "code",
   "execution_count": 667,
   "id": "07e4d327-5896-47ad-a3c3-95a35dc60e03",
   "metadata": {},
   "outputs": [
    {
     "data": {
      "text/plain": [
       "B96 B98            3\n",
       "D                  3\n",
       "B57 B59 B63 B66    3\n",
       "C23 C25 C27        2\n",
       "C54                2\n",
       "                  ..\n",
       "D49                1\n",
       "A5                 1\n",
       "C80                1\n",
       "A19                1\n",
       "C7                 1\n",
       "Name: cabin, Length: 110, dtype: int64"
      ]
     },
     "execution_count": 667,
     "metadata": {},
     "output_type": "execute_result"
    }
   ],
   "source": [
    "train.cabin.value_counts()   #2개이상인 데이터 존재"
   ]
  },
  {
   "cell_type": "code",
   "execution_count": 668,
   "id": "be13a4a3-10fa-4541-b50e-e7e8bbfe300e",
   "metadata": {},
   "outputs": [
    {
     "data": {
      "text/plain": [
       "739         [B20]\n",
       "738    [B96, B98]\n",
       "45     [B96, B98]\n",
       "428         [B49]\n",
       "471         [C65]\n",
       "          ...    \n",
       "472         [D36]\n",
       "230        [C106]\n",
       "125         [C86]\n",
       "641         [E77]\n",
       "98           [C7]\n",
       "Name: cabin, Length: 135, dtype: object"
      ]
     },
     "execution_count": 668,
     "metadata": {},
     "output_type": "execute_result"
    }
   ],
   "source": [
    "c = train.loc[train.cabin.notnull(),'cabin'].map(lambda x : x.split(' '))\n",
    "c"
   ]
  },
  {
   "cell_type": "code",
   "execution_count": 669,
   "id": "53cf1454-f3ee-4f93-9495-ac1d630bcd25",
   "metadata": {},
   "outputs": [
    {
     "data": {
      "text/plain": [
       "738              [B96, B98]\n",
       "45               [B96, B98]\n",
       "578         [B51, B53, B55]\n",
       "232                [F, G63]\n",
       "257    [B57, B59, B63, B66]\n",
       "249              [B96, B98]\n",
       "785                [F, E46]\n",
       "575    [B57, B59, B63, B66]\n",
       "105              [B58, B60]\n",
       "466         [C23, C25, C27]\n",
       "266              [E39, E41]\n",
       "517              [C62, C64]\n",
       "112    [B57, B59, B63, B66]\n",
       "702         [B52, B54, B56]\n",
       "420              [B58, B60]\n",
       "190         [B51, B53, B55]\n",
       "730                [F, E57]\n",
       "669              [C22, C26]\n",
       "247              [C55, C57]\n",
       "365         [C23, C25, C27]\n",
       "Name: cabin, dtype: object"
      ]
     },
     "execution_count": 669,
     "metadata": {},
     "output_type": "execute_result"
    }
   ],
   "source": [
    "c_count = c.map(lambda x : len(x))\n",
    "c[c_count >= 2]"
   ]
  },
  {
   "cell_type": "code",
   "execution_count": 670,
   "id": "3070a5f4-b7b9-4ba9-889b-efe7bf1b147e",
   "metadata": {},
   "outputs": [
    {
     "name": "stdout",
     "output_type": "stream",
     "text": [
      "<class 'pandas.core.frame.DataFrame'>\n",
      "Int64Index: 641 entries, 812 to 277\n",
      "Data columns (total 11 columns):\n",
      " #   Column    Non-Null Count  Dtype  \n",
      "---  ------    --------------  -----  \n",
      " 0   survived  641 non-null    int64  \n",
      " 1   pclass    641 non-null    int64  \n",
      " 2   name      641 non-null    object \n",
      " 3   gender    641 non-null    object \n",
      " 4   age       512 non-null    float64\n",
      " 5   sibsp     641 non-null    int64  \n",
      " 6   parch     641 non-null    int64  \n",
      " 7   ticket    641 non-null    object \n",
      " 8   fare      641 non-null    float64\n",
      " 9   cabin     135 non-null    object \n",
      " 10  embarked  641 non-null    object \n",
      "dtypes: float64(2), int64(4), object(5)\n",
      "memory usage: 60.1+ KB\n"
     ]
    }
   ],
   "source": [
    "train.info()"
   ]
  },
  {
   "cell_type": "code",
   "execution_count": 671,
   "id": "2ce43933-4680-4be5-8037-8b0df543e393",
   "metadata": {},
   "outputs": [],
   "source": [
    "train['cabin'] = train['cabin'].str[:2][train['cabin'].notnull()]\n",
    "test['cabin'] = test['cabin'].str[:2][test['cabin'].notnull()]\n",
    "raw_test['cabin'] = raw_test['cabin'].str[:2][raw_test['cabin'].notnull()]"
   ]
  },
  {
   "cell_type": "code",
   "execution_count": 672,
   "id": "233a874a-7908-490b-83c2-86c1b738a962",
   "metadata": {},
   "outputs": [
    {
     "data": {
      "text/plain": [
       "C1    12\n",
       "B5    10\n",
       "C8     6\n",
       "B4     6\n",
       "D3     5\n",
       "C5     5\n",
       "E3     5\n",
       "D1     5\n",
       "B3     5\n",
       "C9     5\n",
       "B2     4\n",
       "C2     4\n",
       "E1     4\n",
       "A2     4\n",
       "E4     3\n",
       "B9     3\n",
       "D4     3\n",
       "D      3\n",
       "F      3\n",
       "C3     3\n",
       "A1     3\n",
       "D2     3\n",
       "B7     2\n",
       "E5     2\n",
       "F3     2\n",
       "C4     2\n",
       "A3     2\n",
       "F2     2\n",
       "C7     2\n",
       "C6     2\n",
       "G6     2\n",
       "B8     2\n",
       "E6     1\n",
       "E8     1\n",
       "B6     1\n",
       "A6     1\n",
       "F      1\n",
       "D7     1\n",
       "B1     1\n",
       "E2     1\n",
       "A5     1\n",
       "D5     1\n",
       "E7     1\n",
       "Name: cabin, dtype: int64"
      ]
     },
     "execution_count": 672,
     "metadata": {},
     "output_type": "execute_result"
    }
   ],
   "source": [
    "train.cabin.value_counts()"
   ]
  },
  {
   "cell_type": "markdown",
   "id": "d2d2a7b5",
   "metadata": {},
   "source": [
    "#### pivoting features"
   ]
  },
  {
   "cell_type": "code",
   "execution_count": 455,
   "id": "41ffd48e",
   "metadata": {
    "tags": []
   },
   "outputs": [
    {
     "data": {
      "text/html": [
       "<div>\n",
       "<style scoped>\n",
       "    .dataframe tbody tr th:only-of-type {\n",
       "        vertical-align: middle;\n",
       "    }\n",
       "\n",
       "    .dataframe tbody tr th {\n",
       "        vertical-align: top;\n",
       "    }\n",
       "\n",
       "    .dataframe thead th {\n",
       "        text-align: right;\n",
       "    }\n",
       "</style>\n",
       "<table border=\"1\" class=\"dataframe\">\n",
       "  <thead>\n",
       "    <tr style=\"text-align: right;\">\n",
       "      <th></th>\n",
       "      <th>pclass</th>\n",
       "      <th>survived</th>\n",
       "    </tr>\n",
       "  </thead>\n",
       "  <tbody>\n",
       "    <tr>\n",
       "      <th>0</th>\n",
       "      <td>1</td>\n",
       "      <td>0.618421</td>\n",
       "    </tr>\n",
       "    <tr>\n",
       "      <th>1</th>\n",
       "      <td>2</td>\n",
       "      <td>0.404255</td>\n",
       "    </tr>\n",
       "    <tr>\n",
       "      <th>2</th>\n",
       "      <td>3</td>\n",
       "      <td>0.261494</td>\n",
       "    </tr>\n",
       "  </tbody>\n",
       "</table>\n",
       "</div>"
      ],
      "text/plain": [
       "   pclass  survived\n",
       "0       1  0.618421\n",
       "1       2  0.404255\n",
       "2       3  0.261494"
      ]
     },
     "execution_count": 455,
     "metadata": {},
     "output_type": "execute_result"
    }
   ],
   "source": [
    "#pcalss\n",
    "train[['pclass','survived']].groupby(['pclass'],as_index=False).mean().sort_values(by='survived',ascending=False)"
   ]
  },
  {
   "cell_type": "code",
   "execution_count": 456,
   "id": "6fc43f2c",
   "metadata": {
    "tags": []
   },
   "outputs": [
    {
     "data": {
      "text/html": [
       "<div>\n",
       "<style scoped>\n",
       "    .dataframe tbody tr th:only-of-type {\n",
       "        vertical-align: middle;\n",
       "    }\n",
       "\n",
       "    .dataframe tbody tr th {\n",
       "        vertical-align: top;\n",
       "    }\n",
       "\n",
       "    .dataframe thead th {\n",
       "        text-align: right;\n",
       "    }\n",
       "</style>\n",
       "<table border=\"1\" class=\"dataframe\">\n",
       "  <thead>\n",
       "    <tr style=\"text-align: right;\">\n",
       "      <th></th>\n",
       "      <th>gender</th>\n",
       "      <th>survived</th>\n",
       "    </tr>\n",
       "  </thead>\n",
       "  <tbody>\n",
       "    <tr>\n",
       "      <th>0</th>\n",
       "      <td>female</td>\n",
       "      <td>0.816239</td>\n",
       "    </tr>\n",
       "    <tr>\n",
       "      <th>1</th>\n",
       "      <td>male</td>\n",
       "      <td>0.125307</td>\n",
       "    </tr>\n",
       "  </tbody>\n",
       "</table>\n",
       "</div>"
      ],
      "text/plain": [
       "   gender  survived\n",
       "0  female  0.816239\n",
       "1    male  0.125307"
      ]
     },
     "execution_count": 456,
     "metadata": {},
     "output_type": "execute_result"
    }
   ],
   "source": [
    "#gender\n",
    "train[['gender','survived']].groupby(['gender'],as_index=False).mean().sort_values(by='survived',ascending=False)"
   ]
  },
  {
   "cell_type": "code",
   "execution_count": 457,
   "id": "9af312c9",
   "metadata": {
    "tags": []
   },
   "outputs": [
    {
     "data": {
      "text/html": [
       "<div>\n",
       "<style scoped>\n",
       "    .dataframe tbody tr th:only-of-type {\n",
       "        vertical-align: middle;\n",
       "    }\n",
       "\n",
       "    .dataframe tbody tr th {\n",
       "        vertical-align: top;\n",
       "    }\n",
       "\n",
       "    .dataframe thead th {\n",
       "        text-align: right;\n",
       "    }\n",
       "</style>\n",
       "<table border=\"1\" class=\"dataframe\">\n",
       "  <thead>\n",
       "    <tr style=\"text-align: right;\">\n",
       "      <th></th>\n",
       "      <th>sibsp</th>\n",
       "      <th>survived</th>\n",
       "    </tr>\n",
       "  </thead>\n",
       "  <tbody>\n",
       "    <tr>\n",
       "      <th>1</th>\n",
       "      <td>1</td>\n",
       "      <td>0.558442</td>\n",
       "    </tr>\n",
       "    <tr>\n",
       "      <th>2</th>\n",
       "      <td>2</td>\n",
       "      <td>0.421053</td>\n",
       "    </tr>\n",
       "    <tr>\n",
       "      <th>0</th>\n",
       "      <td>0</td>\n",
       "      <td>0.330317</td>\n",
       "    </tr>\n",
       "    <tr>\n",
       "      <th>4</th>\n",
       "      <td>4</td>\n",
       "      <td>0.100000</td>\n",
       "    </tr>\n",
       "    <tr>\n",
       "      <th>3</th>\n",
       "      <td>3</td>\n",
       "      <td>0.090909</td>\n",
       "    </tr>\n",
       "    <tr>\n",
       "      <th>5</th>\n",
       "      <td>5</td>\n",
       "      <td>0.000000</td>\n",
       "    </tr>\n",
       "    <tr>\n",
       "      <th>6</th>\n",
       "      <td>8</td>\n",
       "      <td>0.000000</td>\n",
       "    </tr>\n",
       "  </tbody>\n",
       "</table>\n",
       "</div>"
      ],
      "text/plain": [
       "   sibsp  survived\n",
       "1      1  0.558442\n",
       "2      2  0.421053\n",
       "0      0  0.330317\n",
       "4      4  0.100000\n",
       "3      3  0.090909\n",
       "5      5  0.000000\n",
       "6      8  0.000000"
      ]
     },
     "execution_count": 457,
     "metadata": {},
     "output_type": "execute_result"
    }
   ],
   "source": [
    "#sibsp - 형제,배우자 수\n",
    "train[['sibsp','survived']].groupby(['sibsp'],as_index=False).mean().sort_values(by='survived',ascending=False)"
   ]
  },
  {
   "cell_type": "code",
   "execution_count": 458,
   "id": "39152bf5",
   "metadata": {
    "tags": []
   },
   "outputs": [
    {
     "data": {
      "text/html": [
       "<div>\n",
       "<style scoped>\n",
       "    .dataframe tbody tr th:only-of-type {\n",
       "        vertical-align: middle;\n",
       "    }\n",
       "\n",
       "    .dataframe tbody tr th {\n",
       "        vertical-align: top;\n",
       "    }\n",
       "\n",
       "    .dataframe thead th {\n",
       "        text-align: right;\n",
       "    }\n",
       "</style>\n",
       "<table border=\"1\" class=\"dataframe\">\n",
       "  <thead>\n",
       "    <tr style=\"text-align: right;\">\n",
       "      <th></th>\n",
       "      <th>parch</th>\n",
       "      <th>survived</th>\n",
       "    </tr>\n",
       "  </thead>\n",
       "  <tbody>\n",
       "    <tr>\n",
       "      <th>7</th>\n",
       "      <td>9</td>\n",
       "      <td>1.000000</td>\n",
       "    </tr>\n",
       "    <tr>\n",
       "      <th>1</th>\n",
       "      <td>1</td>\n",
       "      <td>0.520548</td>\n",
       "    </tr>\n",
       "    <tr>\n",
       "      <th>2</th>\n",
       "      <td>2</td>\n",
       "      <td>0.479167</td>\n",
       "    </tr>\n",
       "    <tr>\n",
       "      <th>3</th>\n",
       "      <td>3</td>\n",
       "      <td>0.400000</td>\n",
       "    </tr>\n",
       "    <tr>\n",
       "      <th>0</th>\n",
       "      <td>0</td>\n",
       "      <td>0.348515</td>\n",
       "    </tr>\n",
       "    <tr>\n",
       "      <th>5</th>\n",
       "      <td>5</td>\n",
       "      <td>0.333333</td>\n",
       "    </tr>\n",
       "    <tr>\n",
       "      <th>4</th>\n",
       "      <td>4</td>\n",
       "      <td>0.250000</td>\n",
       "    </tr>\n",
       "    <tr>\n",
       "      <th>6</th>\n",
       "      <td>6</td>\n",
       "      <td>0.000000</td>\n",
       "    </tr>\n",
       "  </tbody>\n",
       "</table>\n",
       "</div>"
      ],
      "text/plain": [
       "   parch  survived\n",
       "7      9  1.000000\n",
       "1      1  0.520548\n",
       "2      2  0.479167\n",
       "3      3  0.400000\n",
       "0      0  0.348515\n",
       "5      5  0.333333\n",
       "4      4  0.250000\n",
       "6      6  0.000000"
      ]
     },
     "execution_count": 458,
     "metadata": {},
     "output_type": "execute_result"
    }
   ],
   "source": [
    "#parch - 부모,자녀 수\n",
    "train[['parch','survived']].groupby(['parch'],as_index=False).mean().sort_values(by='survived',ascending=False)"
   ]
  },
  {
   "cell_type": "markdown",
   "id": "7db7e022",
   "metadata": {},
   "source": [
    "#### Correlating \n",
    "- 상관관계"
   ]
  },
  {
   "cell_type": "code",
   "execution_count": 459,
   "id": "96adf476-3509-43e2-bb0c-68c9e317534e",
   "metadata": {},
   "outputs": [
    {
     "data": {
      "image/png": "[encoded data removed]",
      "text/plain": [
       "<Figure size 640x480 with 1 Axes>"
      ]
     },
     "metadata": {},
     "output_type": "display_data"
    }
   ],
   "source": [
    "plt.hist(train['age'], bins=20)\n",
    "plt.show()"
   ]
  },
  {
   "cell_type": "code",
   "execution_count": 460,
   "id": "3d69e3f6",
   "metadata": {
    "tags": []
   },
   "outputs": [
    {
     "data": {
      "text/plain": [
       "<seaborn.axisgrid.FacetGrid at 0x190a9031f70>"
      ]
     },
     "execution_count": 460,
     "metadata": {},
     "output_type": "execute_result"
    },
    {
     "data": {
      "image/png": "[encoded data removed]",
      "text/plain": [
       "<Figure size 600x300 with 2 Axes>"
      ]
     },
     "metadata": {},
     "output_type": "display_data"
    }
   ],
   "source": [
    "#age\n",
    "g = sns.FacetGrid(train, col ='survived')\n",
    "g.map(plt.hist,'age', bins=20)"
   ]
  },
  {
   "cell_type": "code",
   "execution_count": 461,
   "id": "0ff70a52",
   "metadata": {},
   "outputs": [],
   "source": [
    "import logging\n",
    "\n",
    "logging.getLogger('matplotlib.font_manager').setLevel(logging.ERROR) "
   ]
  },
  {
   "cell_type": "code",
   "execution_count": 462,
   "id": "4d863eb2",
   "metadata": {
    "tags": []
   },
   "outputs": [
    {
     "data": {
      "text/plain": [
       "<seaborn.axisgrid.FacetGrid at 0x190a95ab8e0>"
      ]
     },
     "execution_count": 462,
     "metadata": {},
     "output_type": "execute_result"
    },
    {
     "data": {
      "image/png": "[encoded data removed]",
      "text/plain": [
       "<Figure size 971.111x900 with 6 Axes>"
      ]
     },
     "metadata": {},
     "output_type": "display_data"
    }
   ],
   "source": [
    "#pclasss\n",
    "grid = sns.FacetGrid(train,col='survived',row='pclass', aspect=1.6)\n",
    "grid.map(plt.hist,'age',alpha=.5, bins=20)\n",
    "grid.add_legend()"
   ]
  },
  {
   "cell_type": "markdown",
   "id": "68a27515",
   "metadata": {},
   "source": [
    "- pclass에 따라 승객의 나이 분포 다름\n",
    "- Pclass=2, Pclass=3에서 영아 승객은 대부분 생존\n",
    "- Pclass=3인 승객수가 가장 많지만 대다수가 생존하지 못함"
   ]
  },
  {
   "cell_type": "code",
   "execution_count": 463,
   "id": "e21066da",
   "metadata": {
    "tags": []
   },
   "outputs": [
    {
     "data": {
      "image/png": "[encoded data removed]",
      "text/plain": [
       "<Figure size 578x900 with 3 Axes>"
      ]
     },
     "metadata": {},
     "output_type": "display_data"
    }
   ],
   "source": [
    "grid = sns.FacetGrid(train, row='embarked',  aspect=1.6)\n",
    "grid.map(sns.pointplot, 'pclass', 'survived', 'gender', palette='deep',order=[1,2,3], hue_order=[\"male\",\"female\"])\n",
    "grid.add_legend()\n",
    "\n",
    "plt.show()"
   ]
  },
  {
   "cell_type": "code",
   "execution_count": 464,
   "id": "9fb0e435-9699-4887-bb9c-e69a880385f1",
   "metadata": {},
   "outputs": [
    {
     "data": {
      "text/html": [
       "<div>\n",
       "<style scoped>\n",
       "    .dataframe tbody tr th:only-of-type {\n",
       "        vertical-align: middle;\n",
       "    }\n",
       "\n",
       "    .dataframe tbody tr th {\n",
       "        vertical-align: top;\n",
       "    }\n",
       "\n",
       "    .dataframe thead th {\n",
       "        text-align: right;\n",
       "    }\n",
       "</style>\n",
       "<table border=\"1\" class=\"dataframe\">\n",
       "  <thead>\n",
       "    <tr style=\"text-align: right;\">\n",
       "      <th></th>\n",
       "      <th></th>\n",
       "      <th></th>\n",
       "      <th>survived</th>\n",
       "    </tr>\n",
       "    <tr>\n",
       "      <th>embarked</th>\n",
       "      <th>pclass</th>\n",
       "      <th>gender</th>\n",
       "      <th></th>\n",
       "    </tr>\n",
       "  </thead>\n",
       "  <tbody>\n",
       "    <tr>\n",
       "      <th rowspan=\"6\" valign=\"top\">C</th>\n",
       "      <th rowspan=\"2\" valign=\"top\">1</th>\n",
       "      <th>female</th>\n",
       "      <td>1.000000</td>\n",
       "    </tr>\n",
       "    <tr>\n",
       "      <th>male</th>\n",
       "      <td>0.333333</td>\n",
       "    </tr>\n",
       "    <tr>\n",
       "      <th rowspan=\"2\" valign=\"top\">2</th>\n",
       "      <th>female</th>\n",
       "      <td>1.000000</td>\n",
       "    </tr>\n",
       "    <tr>\n",
       "      <th>male</th>\n",
       "      <td>0.090909</td>\n",
       "    </tr>\n",
       "    <tr>\n",
       "      <th rowspan=\"2\" valign=\"top\">3</th>\n",
       "      <th>female</th>\n",
       "      <td>0.615385</td>\n",
       "    </tr>\n",
       "    <tr>\n",
       "      <th>male</th>\n",
       "      <td>0.151515</td>\n",
       "    </tr>\n",
       "    <tr>\n",
       "      <th rowspan=\"4\" valign=\"top\">Q</th>\n",
       "      <th>1</th>\n",
       "      <th>male</th>\n",
       "      <td>0.000000</td>\n",
       "    </tr>\n",
       "    <tr>\n",
       "      <th>2</th>\n",
       "      <th>male</th>\n",
       "      <td>0.000000</td>\n",
       "    </tr>\n",
       "    <tr>\n",
       "      <th rowspan=\"2\" valign=\"top\">3</th>\n",
       "      <th>female</th>\n",
       "      <td>0.857143</td>\n",
       "    </tr>\n",
       "    <tr>\n",
       "      <th>male</th>\n",
       "      <td>0.071429</td>\n",
       "    </tr>\n",
       "    <tr>\n",
       "      <th rowspan=\"6\" valign=\"top\">S</th>\n",
       "      <th rowspan=\"2\" valign=\"top\">1</th>\n",
       "      <th>female</th>\n",
       "      <td>0.972222</td>\n",
       "    </tr>\n",
       "    <tr>\n",
       "      <th>male</th>\n",
       "      <td>0.265306</td>\n",
       "    </tr>\n",
       "    <tr>\n",
       "      <th rowspan=\"2\" valign=\"top\">2</th>\n",
       "      <th>female</th>\n",
       "      <td>0.921569</td>\n",
       "    </tr>\n",
       "    <tr>\n",
       "      <th>male</th>\n",
       "      <td>0.054795</td>\n",
       "    </tr>\n",
       "    <tr>\n",
       "      <th rowspan=\"2\" valign=\"top\">3</th>\n",
       "      <th>female</th>\n",
       "      <td>0.553846</td>\n",
       "    </tr>\n",
       "    <tr>\n",
       "      <th>male</th>\n",
       "      <td>0.088398</td>\n",
       "    </tr>\n",
       "  </tbody>\n",
       "</table>\n",
       "</div>"
      ],
      "text/plain": [
       "                        survived\n",
       "embarked pclass gender          \n",
       "C        1      female  1.000000\n",
       "                male    0.333333\n",
       "         2      female  1.000000\n",
       "                male    0.090909\n",
       "         3      female  0.615385\n",
       "                male    0.151515\n",
       "Q        1      male    0.000000\n",
       "         2      male    0.000000\n",
       "         3      female  0.857143\n",
       "                male    0.071429\n",
       "S        1      female  0.972222\n",
       "                male    0.265306\n",
       "         2      female  0.921569\n",
       "                male    0.054795\n",
       "         3      female  0.553846\n",
       "                male    0.088398"
      ]
     },
     "execution_count": 464,
     "metadata": {},
     "output_type": "execute_result"
    }
   ],
   "source": [
    "df = train[['gender','pclass','embarked','survived']]\n",
    "grouped = df.groupby(['embarked','pclass','gender'])\n",
    "gdf = grouped.mean()\n",
    "gdf"
   ]
  },
  {
   "cell_type": "markdown",
   "id": "655f2a0d",
   "metadata": {},
   "source": [
    "- 여성의 생존 비율 높음\n",
    "- Embarked=S에서 남성 생존 비율 높음"
   ]
  },
  {
   "cell_type": "code",
   "execution_count": 465,
   "id": "07778e45",
   "metadata": {
    "tags": []
   },
   "outputs": [
    {
     "data": {
      "image/png": "[encoded data removed]",
      "text/plain": [
       "<Figure size 971.111x900 with 6 Axes>"
      ]
     },
     "metadata": {},
     "output_type": "display_data"
    }
   ],
   "source": [
    "grid = sns.FacetGrid(train, row='embarked', col='survived',  aspect=1.6)\n",
    "grid.map(sns.barplot, 'gender', 'fare', alpha=.5, order=[\"male\",\"female\"])\n",
    "grid.add_legend()\n",
    "\n",
    "plt.show()"
   ]
  },
  {
   "cell_type": "markdown",
   "id": "88280a7f-50af-4d17-aa7c-60df20592d6e",
   "metadata": {},
   "source": [
    "#### Missing data"
   ]
  },
  {
   "cell_type": "code",
   "execution_count": 466,
   "id": "ca689acb-479a-4104-a2b0-34aff134f1d2",
   "metadata": {},
   "outputs": [
    {
     "data": {
      "text/plain": [
       "(survived      0\n",
       " pclass        0\n",
       " name          0\n",
       " gender        0\n",
       " age         129\n",
       " sibsp         0\n",
       " parch         0\n",
       " ticket        0\n",
       " fare          0\n",
       " cabin       506\n",
       " embarked      0\n",
       " dtype: int64,\n",
       " survived      0\n",
       " pclass        0\n",
       " name          0\n",
       " gender        0\n",
       " age          51\n",
       " sibsp         0\n",
       " parch         0\n",
       " ticket        0\n",
       " fare          0\n",
       " cabin       212\n",
       " embarked      1\n",
       " dtype: int64,\n",
       " pclass        0\n",
       " name          0\n",
       " gender        0\n",
       " age          83\n",
       " sibsp         0\n",
       " parch         0\n",
       " ticket        0\n",
       " fare          1\n",
       " cabin       296\n",
       " embarked      1\n",
       " dtype: int64)"
      ]
     },
     "execution_count": 466,
     "metadata": {},
     "output_type": "execute_result"
    }
   ],
   "source": [
    "train.isnull().sum() , test.isnull().sum(), raw_test.isnull().sum()"
   ]
  },
  {
   "cell_type": "markdown",
   "id": "0bf7b97e-b61e-4d52-8443-e1aeae061d4e",
   "metadata": {},
   "source": [
    "##### age\n",
    "- title별 age 평균으로 결측치 대체"
   ]
  },
  {
   "cell_type": "code",
   "execution_count": 467,
   "id": "b3a23e3e-caff-44cb-880c-16c34ecaba20",
   "metadata": {},
   "outputs": [
    {
     "ename": "KeyError",
     "evalue": "\"['title'] not in index\"",
     "output_type": "error",
     "traceback": [
      "\u001b[1;31m---------------------------------------------------------------------------\u001b[0m",
      "\u001b[1;31mKeyError\u001b[0m                                  Traceback (most recent call last)",
      "\u001b[1;32m~\\AppData\\Local\\Temp\\ipykernel_6344\\3971246935.py\u001b[0m in \u001b[0;36m<module>\u001b[1;34m\u001b[0m\n\u001b[1;32m----> 1\u001b[1;33m \u001b[0mtitle_mean\u001b[0m \u001b[1;33m=\u001b[0m \u001b[0mtrain\u001b[0m\u001b[1;33m[\u001b[0m\u001b[1;33m[\u001b[0m\u001b[1;34m'title'\u001b[0m\u001b[1;33m,\u001b[0m\u001b[1;34m'age'\u001b[0m\u001b[1;33m]\u001b[0m\u001b[1;33m]\u001b[0m\u001b[1;33m.\u001b[0m\u001b[0mgroupby\u001b[0m\u001b[1;33m(\u001b[0m\u001b[1;33m[\u001b[0m\u001b[1;34m'title'\u001b[0m\u001b[1;33m]\u001b[0m\u001b[1;33m,\u001b[0m\u001b[0mas_index\u001b[0m\u001b[1;33m=\u001b[0m\u001b[1;32mFalse\u001b[0m\u001b[1;33m)\u001b[0m\u001b[1;33m.\u001b[0m\u001b[0mmean\u001b[0m\u001b[1;33m(\u001b[0m\u001b[1;33m)\u001b[0m\u001b[1;33m\u001b[0m\u001b[1;33m\u001b[0m\u001b[0m\n\u001b[0m\u001b[0;32m      2\u001b[0m \u001b[0mtitle_mean\u001b[0m\u001b[1;33m\u001b[0m\u001b[1;33m\u001b[0m\u001b[0m\n",
      "\u001b[1;32m~\\anaconda3\\lib\\site-packages\\pandas\\core\\frame.py\u001b[0m in \u001b[0;36m__getitem__\u001b[1;34m(self, key)\u001b[0m\n\u001b[0;32m   3509\u001b[0m             \u001b[1;32mif\u001b[0m \u001b[0mis_iterator\u001b[0m\u001b[1;33m(\u001b[0m\u001b[0mkey\u001b[0m\u001b[1;33m)\u001b[0m\u001b[1;33m:\u001b[0m\u001b[1;33m\u001b[0m\u001b[1;33m\u001b[0m\u001b[0m\n\u001b[0;32m   3510\u001b[0m                 \u001b[0mkey\u001b[0m \u001b[1;33m=\u001b[0m \u001b[0mlist\u001b[0m\u001b[1;33m(\u001b[0m\u001b[0mkey\u001b[0m\u001b[1;33m)\u001b[0m\u001b[1;33m\u001b[0m\u001b[1;33m\u001b[0m\u001b[0m\n\u001b[1;32m-> 3511\u001b[1;33m             \u001b[0mindexer\u001b[0m \u001b[1;33m=\u001b[0m \u001b[0mself\u001b[0m\u001b[1;33m.\u001b[0m\u001b[0mcolumns\u001b[0m\u001b[1;33m.\u001b[0m\u001b[0m_get_indexer_strict\u001b[0m\u001b[1;33m(\u001b[0m\u001b[0mkey\u001b[0m\u001b[1;33m,\u001b[0m \u001b[1;34m\"columns\"\u001b[0m\u001b[1;33m)\u001b[0m\u001b[1;33m[\u001b[0m\u001b[1;36m1\u001b[0m\u001b[1;33m]\u001b[0m\u001b[1;33m\u001b[0m\u001b[1;33m\u001b[0m\u001b[0m\n\u001b[0m\u001b[0;32m   3512\u001b[0m \u001b[1;33m\u001b[0m\u001b[0m\n\u001b[0;32m   3513\u001b[0m         \u001b[1;31m# take() does not accept boolean indexers\u001b[0m\u001b[1;33m\u001b[0m\u001b[1;33m\u001b[0m\u001b[0m\n",
      "\u001b[1;32m~\\anaconda3\\lib\\site-packages\\pandas\\core\\indexes\\base.py\u001b[0m in \u001b[0;36m_get_indexer_strict\u001b[1;34m(self, key, axis_name)\u001b[0m\n\u001b[0;32m   5794\u001b[0m             \u001b[0mkeyarr\u001b[0m\u001b[1;33m,\u001b[0m \u001b[0mindexer\u001b[0m\u001b[1;33m,\u001b[0m \u001b[0mnew_indexer\u001b[0m \u001b[1;33m=\u001b[0m \u001b[0mself\u001b[0m\u001b[1;33m.\u001b[0m\u001b[0m_reindex_non_unique\u001b[0m\u001b[1;33m(\u001b[0m\u001b[0mkeyarr\u001b[0m\u001b[1;33m)\u001b[0m\u001b[1;33m\u001b[0m\u001b[1;33m\u001b[0m\u001b[0m\n\u001b[0;32m   5795\u001b[0m \u001b[1;33m\u001b[0m\u001b[0m\n\u001b[1;32m-> 5796\u001b[1;33m         \u001b[0mself\u001b[0m\u001b[1;33m.\u001b[0m\u001b[0m_raise_if_missing\u001b[0m\u001b[1;33m(\u001b[0m\u001b[0mkeyarr\u001b[0m\u001b[1;33m,\u001b[0m \u001b[0mindexer\u001b[0m\u001b[1;33m,\u001b[0m \u001b[0maxis_name\u001b[0m\u001b[1;33m)\u001b[0m\u001b[1;33m\u001b[0m\u001b[1;33m\u001b[0m\u001b[0m\n\u001b[0m\u001b[0;32m   5797\u001b[0m \u001b[1;33m\u001b[0m\u001b[0m\n\u001b[0;32m   5798\u001b[0m         \u001b[0mkeyarr\u001b[0m \u001b[1;33m=\u001b[0m \u001b[0mself\u001b[0m\u001b[1;33m.\u001b[0m\u001b[0mtake\u001b[0m\u001b[1;33m(\u001b[0m\u001b[0mindexer\u001b[0m\u001b[1;33m)\u001b[0m\u001b[1;33m\u001b[0m\u001b[1;33m\u001b[0m\u001b[0m\n",
      "\u001b[1;32m~\\anaconda3\\lib\\site-packages\\pandas\\core\\indexes\\base.py\u001b[0m in \u001b[0;36m_raise_if_missing\u001b[1;34m(self, key, indexer, axis_name)\u001b[0m\n\u001b[0;32m   5857\u001b[0m \u001b[1;33m\u001b[0m\u001b[0m\n\u001b[0;32m   5858\u001b[0m             \u001b[0mnot_found\u001b[0m \u001b[1;33m=\u001b[0m \u001b[0mlist\u001b[0m\u001b[1;33m(\u001b[0m\u001b[0mensure_index\u001b[0m\u001b[1;33m(\u001b[0m\u001b[0mkey\u001b[0m\u001b[1;33m)\u001b[0m\u001b[1;33m[\u001b[0m\u001b[0mmissing_mask\u001b[0m\u001b[1;33m.\u001b[0m\u001b[0mnonzero\u001b[0m\u001b[1;33m(\u001b[0m\u001b[1;33m)\u001b[0m\u001b[1;33m[\u001b[0m\u001b[1;36m0\u001b[0m\u001b[1;33m]\u001b[0m\u001b[1;33m]\u001b[0m\u001b[1;33m.\u001b[0m\u001b[0munique\u001b[0m\u001b[1;33m(\u001b[0m\u001b[1;33m)\u001b[0m\u001b[1;33m)\u001b[0m\u001b[1;33m\u001b[0m\u001b[1;33m\u001b[0m\u001b[0m\n\u001b[1;32m-> 5859\u001b[1;33m             \u001b[1;32mraise\u001b[0m \u001b[0mKeyError\u001b[0m\u001b[1;33m(\u001b[0m\u001b[1;34mf\"{not_found} not in index\"\u001b[0m\u001b[1;33m)\u001b[0m\u001b[1;33m\u001b[0m\u001b[1;33m\u001b[0m\u001b[0m\n\u001b[0m\u001b[0;32m   5860\u001b[0m \u001b[1;33m\u001b[0m\u001b[0m\n\u001b[0;32m   5861\u001b[0m     \u001b[1;33m@\u001b[0m\u001b[0moverload\u001b[0m\u001b[1;33m\u001b[0m\u001b[1;33m\u001b[0m\u001b[0m\n",
      "\u001b[1;31mKeyError\u001b[0m: \"['title'] not in index\""
     ]
    }
   ],
   "source": [
    "title_mean = train[['title','age']].groupby(['title'],as_index=False).mean()\n",
    "title_mean"
   ]
  },
  {
   "cell_type": "code",
   "execution_count": 468,
   "id": "1034e9f7-4c83-40a8-980d-8803a059403d",
   "metadata": {},
   "outputs": [
    {
     "ename": "AttributeError",
     "evalue": "'DataFrame' object has no attribute 'title'",
     "output_type": "error",
     "traceback": [
      "\u001b[1;31m---------------------------------------------------------------------------\u001b[0m",
      "\u001b[1;31mAttributeError\u001b[0m                            Traceback (most recent call last)",
      "\u001b[1;32m~\\AppData\\Local\\Temp\\ipykernel_6344\\1266229656.py\u001b[0m in \u001b[0;36m<module>\u001b[1;34m\u001b[0m\n\u001b[0;32m      4\u001b[0m \u001b[1;33m\u001b[0m\u001b[0m\n\u001b[0;32m      5\u001b[0m \u001b[1;32mfor\u001b[0m \u001b[0mi\u001b[0m \u001b[1;32min\u001b[0m \u001b[0mrange\u001b[0m\u001b[1;33m(\u001b[0m\u001b[0mlen\u001b[0m\u001b[1;33m(\u001b[0m\u001b[0mtitle_mean\u001b[0m\u001b[1;33m.\u001b[0m\u001b[0mtitle\u001b[0m\u001b[1;33m)\u001b[0m\u001b[1;33m)\u001b[0m\u001b[1;33m:\u001b[0m\u001b[1;33m\u001b[0m\u001b[1;33m\u001b[0m\u001b[0m\n\u001b[1;32m----> 6\u001b[1;33m     \u001b[0mtrain\u001b[0m\u001b[1;33m.\u001b[0m\u001b[0mloc\u001b[0m\u001b[1;33m[\u001b[0m\u001b[1;33m(\u001b[0m\u001b[1;33m(\u001b[0m\u001b[0mtrain\u001b[0m\u001b[1;33m.\u001b[0m\u001b[0mtitle\u001b[0m\u001b[1;33m.\u001b[0m\u001b[0mvalues\u001b[0m\u001b[1;33m==\u001b[0m\u001b[0mtitle_mean\u001b[0m\u001b[1;33m.\u001b[0m\u001b[0mtitle\u001b[0m\u001b[1;33m[\u001b[0m\u001b[0mi\u001b[0m\u001b[1;33m]\u001b[0m\u001b[1;33m)\u001b[0m \u001b[1;33m&\u001b[0m \u001b[0mtrain\u001b[0m\u001b[1;33m[\u001b[0m\u001b[1;34m'age'\u001b[0m\u001b[1;33m]\u001b[0m\u001b[1;33m.\u001b[0m\u001b[0misnull\u001b[0m\u001b[1;33m(\u001b[0m\u001b[1;33m)\u001b[0m\u001b[1;33m)\u001b[0m\u001b[1;33m,\u001b[0m \u001b[1;34m'age'\u001b[0m\u001b[1;33m]\u001b[0m \u001b[1;33m=\u001b[0m \u001b[0mtitle_mean\u001b[0m\u001b[1;33m.\u001b[0m\u001b[0mage\u001b[0m\u001b[1;33m[\u001b[0m\u001b[0mi\u001b[0m\u001b[1;33m]\u001b[0m\u001b[1;33m\u001b[0m\u001b[1;33m\u001b[0m\u001b[0m\n\u001b[0m\u001b[0;32m      7\u001b[0m     \u001b[0mtest\u001b[0m\u001b[1;33m.\u001b[0m\u001b[0mloc\u001b[0m\u001b[1;33m[\u001b[0m\u001b[1;33m(\u001b[0m\u001b[1;33m(\u001b[0m\u001b[0mtest\u001b[0m\u001b[1;33m.\u001b[0m\u001b[0mtitle\u001b[0m\u001b[1;33m.\u001b[0m\u001b[0mvalues\u001b[0m\u001b[1;33m==\u001b[0m\u001b[0mtitle_mean\u001b[0m\u001b[1;33m.\u001b[0m\u001b[0mtitle\u001b[0m\u001b[1;33m[\u001b[0m\u001b[0mi\u001b[0m\u001b[1;33m]\u001b[0m\u001b[1;33m)\u001b[0m\u001b[1;33m&\u001b[0m \u001b[0mtest\u001b[0m\u001b[1;33m[\u001b[0m\u001b[1;34m'age'\u001b[0m\u001b[1;33m]\u001b[0m\u001b[1;33m.\u001b[0m\u001b[0misnull\u001b[0m\u001b[1;33m(\u001b[0m\u001b[1;33m)\u001b[0m\u001b[1;33m)\u001b[0m\u001b[1;33m,\u001b[0m\u001b[1;34m'age'\u001b[0m\u001b[1;33m]\u001b[0m \u001b[1;33m=\u001b[0m \u001b[0mtitle_mean\u001b[0m\u001b[1;33m.\u001b[0m\u001b[0mage\u001b[0m\u001b[1;33m[\u001b[0m\u001b[0mi\u001b[0m\u001b[1;33m]\u001b[0m\u001b[1;33m\u001b[0m\u001b[1;33m\u001b[0m\u001b[0m\n\u001b[0;32m      8\u001b[0m     \u001b[0mraw_test\u001b[0m\u001b[1;33m.\u001b[0m\u001b[0mloc\u001b[0m\u001b[1;33m[\u001b[0m\u001b[1;33m(\u001b[0m\u001b[1;33m(\u001b[0m\u001b[0mraw_test\u001b[0m\u001b[1;33m.\u001b[0m\u001b[0mtitle\u001b[0m\u001b[1;33m.\u001b[0m\u001b[0mvalues\u001b[0m\u001b[1;33m==\u001b[0m\u001b[0mtitle_mean\u001b[0m\u001b[1;33m.\u001b[0m\u001b[0mtitle\u001b[0m\u001b[1;33m[\u001b[0m\u001b[0mi\u001b[0m\u001b[1;33m]\u001b[0m\u001b[1;33m)\u001b[0m\u001b[1;33m&\u001b[0m \u001b[0mraw_test\u001b[0m\u001b[1;33m[\u001b[0m\u001b[1;34m'age'\u001b[0m\u001b[1;33m]\u001b[0m\u001b[1;33m.\u001b[0m\u001b[0misnull\u001b[0m\u001b[1;33m(\u001b[0m\u001b[1;33m)\u001b[0m\u001b[1;33m)\u001b[0m\u001b[1;33m,\u001b[0m\u001b[1;34m'age'\u001b[0m\u001b[1;33m]\u001b[0m \u001b[1;33m=\u001b[0m \u001b[0mtitle_mean\u001b[0m\u001b[1;33m.\u001b[0m\u001b[0mage\u001b[0m\u001b[1;33m[\u001b[0m\u001b[0mi\u001b[0m\u001b[1;33m]\u001b[0m\u001b[1;33m\u001b[0m\u001b[1;33m\u001b[0m\u001b[0m\n",
      "\u001b[1;32m~\\anaconda3\\lib\\site-packages\\pandas\\core\\generic.py\u001b[0m in \u001b[0;36m__getattr__\u001b[1;34m(self, name)\u001b[0m\n\u001b[0;32m   5573\u001b[0m         ):\n\u001b[0;32m   5574\u001b[0m             \u001b[1;32mreturn\u001b[0m \u001b[0mself\u001b[0m\u001b[1;33m[\u001b[0m\u001b[0mname\u001b[0m\u001b[1;33m]\u001b[0m\u001b[1;33m\u001b[0m\u001b[1;33m\u001b[0m\u001b[0m\n\u001b[1;32m-> 5575\u001b[1;33m         \u001b[1;32mreturn\u001b[0m \u001b[0mobject\u001b[0m\u001b[1;33m.\u001b[0m\u001b[0m__getattribute__\u001b[0m\u001b[1;33m(\u001b[0m\u001b[0mself\u001b[0m\u001b[1;33m,\u001b[0m \u001b[0mname\u001b[0m\u001b[1;33m)\u001b[0m\u001b[1;33m\u001b[0m\u001b[1;33m\u001b[0m\u001b[0m\n\u001b[0m\u001b[0;32m   5576\u001b[0m \u001b[1;33m\u001b[0m\u001b[0m\n\u001b[0;32m   5577\u001b[0m     \u001b[1;32mdef\u001b[0m \u001b[0m__setattr__\u001b[0m\u001b[1;33m(\u001b[0m\u001b[0mself\u001b[0m\u001b[1;33m,\u001b[0m \u001b[0mname\u001b[0m\u001b[1;33m:\u001b[0m \u001b[0mstr\u001b[0m\u001b[1;33m,\u001b[0m \u001b[0mvalue\u001b[0m\u001b[1;33m)\u001b[0m \u001b[1;33m->\u001b[0m \u001b[1;32mNone\u001b[0m\u001b[1;33m:\u001b[0m\u001b[1;33m\u001b[0m\u001b[1;33m\u001b[0m\u001b[0m\n",
      "\u001b[1;31mAttributeError\u001b[0m: 'DataFrame' object has no attribute 'title'"
     ]
    }
   ],
   "source": [
    "cond= []\n",
    "\n",
    "train[cond]\n",
    "\n",
    "for i in range(len(title_mean.title)):\n",
    "    train.loc[((train.title.values==title_mean.title[i]) & train['age'].isnull()), 'age'] = title_mean.age[i]\n",
    "    test.loc[((test.title.values==title_mean.title[i])& test['age'].isnull()),'age'] = title_mean.age[i]\n",
    "    raw_test.loc[((raw_test.title.values==title_mean.title[i])& raw_test['age'].isnull()),'age'] = title_mean.age[i]"
   ]
  },
  {
   "cell_type": "code",
   "execution_count": 469,
   "id": "c1131b9f-17fb-41f2-91db-778499b3bf30",
   "metadata": {},
   "outputs": [
    {
     "data": {
      "text/plain": [
       "(129, 51, 83)"
      ]
     },
     "execution_count": 469,
     "metadata": {},
     "output_type": "execute_result"
    }
   ],
   "source": [
    "train['age'].isnull().sum() , test['age'].isnull().sum(), raw_test['age'].isnull().sum()"
   ]
  },
  {
   "cell_type": "markdown",
   "id": "5f79d269-0be0-4201-93bb-3b0fb61ebdeb",
   "metadata": {},
   "source": [
    "##### embarked \n",
    "- 최빈값으로 대체"
   ]
  },
  {
   "cell_type": "code",
   "execution_count": 470,
   "id": "9ac93bd4-c7ca-4e89-b984-4fd37fb81ed8",
   "metadata": {},
   "outputs": [
    {
     "data": {
      "text/plain": [
       "(0, 1, 1)"
      ]
     },
     "execution_count": 470,
     "metadata": {},
     "output_type": "execute_result"
    }
   ],
   "source": [
    "train.embarked.isnull().sum() , test.embarked.isnull().sum(), raw_test.embarked.isnull().sum()"
   ]
  },
  {
   "cell_type": "code",
   "execution_count": null,
   "id": "92564493-b2f2-4027-97d7-e9db6a87697f",
   "metadata": {},
   "outputs": [],
   "source": [
    "train.embarked.value_counts()"
   ]
  },
  {
   "cell_type": "code",
   "execution_count": null,
   "id": "09e750f4-78d2-4880-aae4-7c1c69853a88",
   "metadata": {},
   "outputs": [],
   "source": [
    "train.embarked.mode().values[0]"
   ]
  },
  {
   "cell_type": "code",
   "execution_count": null,
   "id": "c5eac258-bf0e-4c79-b805-7dd04c61b29c",
   "metadata": {},
   "outputs": [],
   "source": [
    "# embarked 결측치는 최빈값으로 대체\n",
    "test['embarked'].fillna(train.embarked.mode().values[0],inplace = True)\n",
    "raw_test['embarked'].fillna(train.embarked.mode().values[0],inplace = True)"
   ]
  },
  {
   "cell_type": "code",
   "execution_count": null,
   "id": "38c6dc18-5832-417b-ab7a-646009916ad6",
   "metadata": {},
   "outputs": [],
   "source": [
    "train.embarked.isnull().sum() , test.embarked.isnull().sum(), raw_test.embarked.isnull().sum()"
   ]
  },
  {
   "cell_type": "markdown",
   "id": "964324b1-7306-488b-87cc-ad62a1a0b9bc",
   "metadata": {},
   "source": [
    "##### fare\n",
    "- 중앙값으로 대체"
   ]
  },
  {
   "cell_type": "code",
   "execution_count": 53,
   "id": "132adc3d-4580-4363-b7a4-914839ea8b3d",
   "metadata": {},
   "outputs": [
    {
     "data": {
      "text/plain": [
       "(0, 0, 1)"
      ]
     },
     "execution_count": 53,
     "metadata": {},
     "output_type": "execute_result"
    }
   ],
   "source": [
    "train.fare.isnull().sum() , test.fare.isnull().sum(), raw_test.fare.isnull().sum()"
   ]
  },
  {
   "cell_type": "code",
   "execution_count": 54,
   "id": "d1115943-792b-40cc-8fca-4c7bde5776c8",
   "metadata": {},
   "outputs": [],
   "source": [
    "#중앙값으로 대체\n",
    "raw_test['fare'].fillna(train['fare'].median(),inplace=True)"
   ]
  },
  {
   "cell_type": "code",
   "execution_count": 55,
   "id": "f0b15258-9aee-4513-b08d-6f63378132e2",
   "metadata": {},
   "outputs": [
    {
     "data": {
      "text/plain": [
       "(0, 0, 0)"
      ]
     },
     "execution_count": 55,
     "metadata": {},
     "output_type": "execute_result"
    }
   ],
   "source": [
    "train.fare.isnull().sum() , test.fare.isnull().sum(), raw_test.fare.isnull().sum()"
   ]
  },
  {
   "cell_type": "markdown",
   "id": "56c27505-16df-4a29-824c-0c06b7e1b667",
   "metadata": {},
   "source": [
    "##### cabin\n"
   ]
  },
  {
   "cell_type": "markdown",
   "id": "08275591-df7e-4acb-866c-a960e2344769",
   "metadata": {},
   "source": [
    "- 실제 타이타닉호의 선실 구조 \n",
    ">1등실 : A - E &nbsp;/&nbsp; A,B,C에 대부분 1등실 모여있음 <br>\n",
    ">2등실 : D - F  <br>\n",
    ">3등실 : D - G / F에 대부분 3등실 모여있음 \n",
    "- pclass별 실제 가격 \n",
    "> 1등실 : 150-870<br>\n",
    "> 2등실 : 60-72 <br>\n",
    "> 3등실 : 15-40"
   ]
  },
  {
   "cell_type": "code",
   "execution_count": 689,
   "id": "5e0d5ea4-3f22-4d14-982b-f6ed5a583c61",
   "metadata": {},
   "outputs": [
    {
     "data": {
      "text/html": [
       "<div>\n",
       "<style scoped>\n",
       "    .dataframe tbody tr th:only-of-type {\n",
       "        vertical-align: middle;\n",
       "    }\n",
       "\n",
       "    .dataframe tbody tr th {\n",
       "        vertical-align: top;\n",
       "    }\n",
       "\n",
       "    .dataframe thead th {\n",
       "        text-align: right;\n",
       "    }\n",
       "</style>\n",
       "<table border=\"1\" class=\"dataframe\">\n",
       "  <thead>\n",
       "    <tr style=\"text-align: right;\">\n",
       "      <th></th>\n",
       "      <th>survived</th>\n",
       "      <th>pclass</th>\n",
       "      <th>name</th>\n",
       "      <th>gender</th>\n",
       "      <th>age</th>\n",
       "      <th>sibsp</th>\n",
       "      <th>parch</th>\n",
       "      <th>ticket</th>\n",
       "      <th>fare</th>\n",
       "      <th>cabin</th>\n",
       "      <th>embarked</th>\n",
       "      <th>CabinBand</th>\n",
       "    </tr>\n",
       "  </thead>\n",
       "  <tbody>\n",
       "    <tr>\n",
       "      <th>812</th>\n",
       "      <td>1</td>\n",
       "      <td>3</td>\n",
       "      <td>Ohman, Miss. Velin</td>\n",
       "      <td>female</td>\n",
       "      <td>22.0</td>\n",
       "      <td>0</td>\n",
       "      <td>0</td>\n",
       "      <td>347085</td>\n",
       "      <td>7.7750</td>\n",
       "      <td>NaN</td>\n",
       "      <td>S</td>\n",
       "      <td>NaN</td>\n",
       "    </tr>\n",
       "    <tr>\n",
       "      <th>134</th>\n",
       "      <td>0</td>\n",
       "      <td>3</td>\n",
       "      <td>Buckley, Mr. Daniel</td>\n",
       "      <td>male</td>\n",
       "      <td>21.0</td>\n",
       "      <td>0</td>\n",
       "      <td>0</td>\n",
       "      <td>330920</td>\n",
       "      <td>7.8208</td>\n",
       "      <td>NaN</td>\n",
       "      <td>Q</td>\n",
       "      <td>NaN</td>\n",
       "    </tr>\n",
       "    <tr>\n",
       "      <th>390</th>\n",
       "      <td>1</td>\n",
       "      <td>3</td>\n",
       "      <td>Jonsson, Mr. Carl</td>\n",
       "      <td>male</td>\n",
       "      <td>32.0</td>\n",
       "      <td>0</td>\n",
       "      <td>0</td>\n",
       "      <td>350417</td>\n",
       "      <td>7.8542</td>\n",
       "      <td>NaN</td>\n",
       "      <td>S</td>\n",
       "      <td>NaN</td>\n",
       "    </tr>\n",
       "    <tr>\n",
       "      <th>305</th>\n",
       "      <td>0</td>\n",
       "      <td>3</td>\n",
       "      <td>Hassan, Mr. Houssein G N</td>\n",
       "      <td>male</td>\n",
       "      <td>11.0</td>\n",
       "      <td>0</td>\n",
       "      <td>0</td>\n",
       "      <td>2699</td>\n",
       "      <td>18.7875</td>\n",
       "      <td>NaN</td>\n",
       "      <td>C</td>\n",
       "      <td>NaN</td>\n",
       "    </tr>\n",
       "    <tr>\n",
       "      <th>203</th>\n",
       "      <td>0</td>\n",
       "      <td>3</td>\n",
       "      <td>Corn, Mr. Harry</td>\n",
       "      <td>male</td>\n",
       "      <td>30.0</td>\n",
       "      <td>0</td>\n",
       "      <td>0</td>\n",
       "      <td>SOTON/OQ 392090</td>\n",
       "      <td>8.0500</td>\n",
       "      <td>NaN</td>\n",
       "      <td>S</td>\n",
       "      <td>NaN</td>\n",
       "    </tr>\n",
       "    <tr>\n",
       "      <th>...</th>\n",
       "      <td>...</td>\n",
       "      <td>...</td>\n",
       "      <td>...</td>\n",
       "      <td>...</td>\n",
       "      <td>...</td>\n",
       "      <td>...</td>\n",
       "      <td>...</td>\n",
       "      <td>...</td>\n",
       "      <td>...</td>\n",
       "      <td>...</td>\n",
       "      <td>...</td>\n",
       "      <td>...</td>\n",
       "    </tr>\n",
       "    <tr>\n",
       "      <th>273</th>\n",
       "      <td>1</td>\n",
       "      <td>2</td>\n",
       "      <td>Davis, Miss. Mary</td>\n",
       "      <td>female</td>\n",
       "      <td>28.0</td>\n",
       "      <td>0</td>\n",
       "      <td>0</td>\n",
       "      <td>237668</td>\n",
       "      <td>13.0000</td>\n",
       "      <td>NaN</td>\n",
       "      <td>S</td>\n",
       "      <td>NaN</td>\n",
       "    </tr>\n",
       "    <tr>\n",
       "      <th>343</th>\n",
       "      <td>1</td>\n",
       "      <td>3</td>\n",
       "      <td>Mulvihill, Miss. Bertha E</td>\n",
       "      <td>female</td>\n",
       "      <td>24.0</td>\n",
       "      <td>0</td>\n",
       "      <td>0</td>\n",
       "      <td>382653</td>\n",
       "      <td>7.7500</td>\n",
       "      <td>NaN</td>\n",
       "      <td>Q</td>\n",
       "      <td>NaN</td>\n",
       "    </tr>\n",
       "    <tr>\n",
       "      <th>450</th>\n",
       "      <td>0</td>\n",
       "      <td>1</td>\n",
       "      <td>Lindeberg-Lind, Mr. Erik Gustaf (Mr Edward Lin...</td>\n",
       "      <td>male</td>\n",
       "      <td>42.0</td>\n",
       "      <td>0</td>\n",
       "      <td>0</td>\n",
       "      <td>17475</td>\n",
       "      <td>26.5500</td>\n",
       "      <td>NaN</td>\n",
       "      <td>S</td>\n",
       "      <td>NaN</td>\n",
       "    </tr>\n",
       "    <tr>\n",
       "      <th>94</th>\n",
       "      <td>0</td>\n",
       "      <td>3</td>\n",
       "      <td>Panula, Master. Urho Abraham</td>\n",
       "      <td>male</td>\n",
       "      <td>2.0</td>\n",
       "      <td>4</td>\n",
       "      <td>1</td>\n",
       "      <td>3101295</td>\n",
       "      <td>39.6875</td>\n",
       "      <td>NaN</td>\n",
       "      <td>S</td>\n",
       "      <td>NaN</td>\n",
       "    </tr>\n",
       "    <tr>\n",
       "      <th>277</th>\n",
       "      <td>0</td>\n",
       "      <td>2</td>\n",
       "      <td>Hunt, Mr. George Henry</td>\n",
       "      <td>male</td>\n",
       "      <td>33.0</td>\n",
       "      <td>0</td>\n",
       "      <td>0</td>\n",
       "      <td>SCO/W 1585</td>\n",
       "      <td>12.2750</td>\n",
       "      <td>NaN</td>\n",
       "      <td>S</td>\n",
       "      <td>NaN</td>\n",
       "    </tr>\n",
       "  </tbody>\n",
       "</table>\n",
       "<p>641 rows × 12 columns</p>\n",
       "</div>"
      ],
      "text/plain": [
       "     survived  pclass                                               name  \\\n",
       "812         1       3                                 Ohman, Miss. Velin   \n",
       "134         0       3                                Buckley, Mr. Daniel   \n",
       "390         1       3                                  Jonsson, Mr. Carl   \n",
       "305         0       3                           Hassan, Mr. Houssein G N   \n",
       "203         0       3                                    Corn, Mr. Harry   \n",
       "..        ...     ...                                                ...   \n",
       "273         1       2                                  Davis, Miss. Mary   \n",
       "343         1       3                          Mulvihill, Miss. Bertha E   \n",
       "450         0       1  Lindeberg-Lind, Mr. Erik Gustaf (Mr Edward Lin...   \n",
       "94          0       3                       Panula, Master. Urho Abraham   \n",
       "277         0       2                             Hunt, Mr. George Henry   \n",
       "\n",
       "     gender   age  sibsp  parch           ticket     fare cabin embarked  \\\n",
       "812  female  22.0      0      0           347085   7.7750   NaN        S   \n",
       "134    male  21.0      0      0           330920   7.8208   NaN        Q   \n",
       "390    male  32.0      0      0           350417   7.8542   NaN        S   \n",
       "305    male  11.0      0      0             2699  18.7875   NaN        C   \n",
       "203    male  30.0      0      0  SOTON/OQ 392090   8.0500   NaN        S   \n",
       "..      ...   ...    ...    ...              ...      ...   ...      ...   \n",
       "273  female  28.0      0      0           237668  13.0000   NaN        S   \n",
       "343  female  24.0      0      0           382653   7.7500   NaN        Q   \n",
       "450    male  42.0      0      0            17475  26.5500   NaN        S   \n",
       "94     male   2.0      4      1          3101295  39.6875   NaN        S   \n",
       "277    male  33.0      0      0       SCO/W 1585  12.2750   NaN        S   \n",
       "\n",
       "    CabinBand  \n",
       "812       NaN  \n",
       "134       NaN  \n",
       "390       NaN  \n",
       "305       NaN  \n",
       "203       NaN  \n",
       "..        ...  \n",
       "273       NaN  \n",
       "343       NaN  \n",
       "450       NaN  \n",
       "94        NaN  \n",
       "277       NaN  \n",
       "\n",
       "[641 rows x 12 columns]"
      ]
     },
     "execution_count": 689,
     "metadata": {},
     "output_type": "execute_result"
    }
   ],
   "source": [
    "train_c= train.copy()\n",
    "train_c"
   ]
  },
  {
   "cell_type": "code",
   "execution_count": 691,
   "id": "d881201b-fa3e-43c6-8998-f4002590e7cb",
   "metadata": {},
   "outputs": [
    {
     "data": {
      "text/plain": [
       "506"
      ]
     },
     "execution_count": 691,
     "metadata": {},
     "output_type": "execute_result"
    }
   ],
   "source": [
    "train_c.cabin.isnull().sum() "
   ]
  },
  {
   "cell_type": "code",
   "execution_count": 692,
   "id": "9f2fcd61-9db0-447b-a14b-a9365e0d5370",
   "metadata": {},
   "outputs": [
    {
     "data": {
      "text/plain": [
       "341    NaN\n",
       "451    NaN\n",
       "550    NaN\n",
       "Name: CabinBand, dtype: object"
      ]
     },
     "execution_count": 692,
     "metadata": {},
     "output_type": "execute_result"
    }
   ],
   "source": [
    "cond = (train['fare'] >= 184) & (train['cabin'].isnull())\n",
    "train.loc[cond, 'CabinBand']"
   ]
  },
  {
   "cell_type": "code",
   "execution_count": 809,
   "id": "55c86f11-8d4e-4748-af9c-bc29d6d22d7f",
   "metadata": {},
   "outputs": [
    {
     "data": {
      "text/plain": [
       "['B', 'B', 'B']"
      ]
     },
     "execution_count": 809,
     "metadata": {},
     "output_type": "execute_result"
    }
   ],
   "source": [
    "letter = 'ABC'\n",
    "rand = [random.choice(letter) for i in range(len(train[cond]))]\n",
    "rand"
   ]
  },
  {
   "cell_type": "code",
   "execution_count": 810,
   "id": "0d3b5833-6277-41bd-b0bc-3e1e6f294771",
   "metadata": {},
   "outputs": [
    {
     "name": "stdout",
     "output_type": "stream",
     "text": [
      "341    NaN\n",
      "451    NaN\n",
      "550    NaN\n",
      "Name: CabinBand, dtype: object\n",
      "341    NaN\n",
      "451    NaN\n",
      "550    NaN\n",
      "Name: CabinBand, dtype: object\n",
      "341    NaN\n",
      "451    NaN\n",
      "550    NaN\n",
      "Name: CabinBand, dtype: object\n"
     ]
    },
    {
     "name": "stderr",
     "output_type": "stream",
     "text": [
      "C:\\Users\\user\\AppData\\Local\\Temp\\ipykernel_6344\\3645071504.py:3: SettingWithCopyWarning: \n",
      "A value is trying to be set on a copy of a slice from a DataFrame\n",
      "\n",
      "See the caveats in the documentation: https://pandas.pydata.org/pandas-docs/stable/user_guide/indexing.html#returning-a-view-versus-a-copy\n",
      "  train['CabinBand'].iloc[rand_index] = rand[i]\n"
     ]
    }
   ],
   "source": [
    "for i in range(len(rand)):\n",
    "    rand_index = train.loc[cond,'CabinBand'].index[i]\n",
    "    train['CabinBand'].iloc[rand_index] = rand[i]    \n",
    "    print(train.loc[cond,'CabinBand'])\n",
    "    "
   ]
  },
  {
   "cell_type": "code",
   "execution_count": null,
   "id": "934f86db-9b42-4b24-a251-3d01beb25f21",
   "metadata": {},
   "outputs": [],
   "source": []
  },
  {
   "cell_type": "code",
   "execution_count": 690,
   "id": "fab2b91d-09d9-4128-a039-6c0dfb006291",
   "metadata": {},
   "outputs": [
    {
     "data": {
      "text/plain": [
       "(506, 212, 296)"
      ]
     },
     "execution_count": 690,
     "metadata": {},
     "output_type": "execute_result"
    }
   ],
   "source": [
    "#cabin 결측치\n",
    "train.cabin.isnull().sum() , test.cabin.isnull().sum() ,raw_test.cabin.isnull().sum() "
   ]
  },
  {
   "cell_type": "code",
   "execution_count": 678,
   "id": "8ccc8ded-5b4f-4953-b6af-67c81dccd98f",
   "metadata": {},
   "outputs": [
    {
     "data": {
      "text/html": [
       "<div>\n",
       "<style scoped>\n",
       "    .dataframe tbody tr th:only-of-type {\n",
       "        vertical-align: middle;\n",
       "    }\n",
       "\n",
       "    .dataframe tbody tr th {\n",
       "        vertical-align: top;\n",
       "    }\n",
       "\n",
       "    .dataframe thead tr th {\n",
       "        text-align: left;\n",
       "    }\n",
       "\n",
       "    .dataframe thead tr:last-of-type th {\n",
       "        text-align: right;\n",
       "    }\n",
       "</style>\n",
       "<table border=\"1\" class=\"dataframe\">\n",
       "  <thead>\n",
       "    <tr>\n",
       "      <th></th>\n",
       "      <th colspan=\"8\" halign=\"left\">fare</th>\n",
       "    </tr>\n",
       "    <tr>\n",
       "      <th></th>\n",
       "      <th>count</th>\n",
       "      <th>mean</th>\n",
       "      <th>std</th>\n",
       "      <th>min</th>\n",
       "      <th>25%</th>\n",
       "      <th>50%</th>\n",
       "      <th>75%</th>\n",
       "      <th>max</th>\n",
       "    </tr>\n",
       "    <tr>\n",
       "      <th>pclass</th>\n",
       "      <th></th>\n",
       "      <th></th>\n",
       "      <th></th>\n",
       "      <th></th>\n",
       "      <th></th>\n",
       "      <th></th>\n",
       "      <th></th>\n",
       "      <th></th>\n",
       "    </tr>\n",
       "  </thead>\n",
       "  <tbody>\n",
       "    <tr>\n",
       "      <th>1</th>\n",
       "      <td>152.0</td>\n",
       "      <td>84.025220</td>\n",
       "      <td>80.094790</td>\n",
       "      <td>0.0</td>\n",
       "      <td>30.00</td>\n",
       "      <td>56.9292</td>\n",
       "      <td>91.684400</td>\n",
       "      <td>512.3292</td>\n",
       "    </tr>\n",
       "    <tr>\n",
       "      <th>2</th>\n",
       "      <td>141.0</td>\n",
       "      <td>20.599437</td>\n",
       "      <td>12.845749</td>\n",
       "      <td>0.0</td>\n",
       "      <td>13.00</td>\n",
       "      <td>15.0458</td>\n",
       "      <td>26.000000</td>\n",
       "      <td>73.5000</td>\n",
       "    </tr>\n",
       "    <tr>\n",
       "      <th>3</th>\n",
       "      <td>348.0</td>\n",
       "      <td>13.259039</td>\n",
       "      <td>11.427055</td>\n",
       "      <td>0.0</td>\n",
       "      <td>7.75</td>\n",
       "      <td>8.0500</td>\n",
       "      <td>14.468725</td>\n",
       "      <td>69.5500</td>\n",
       "    </tr>\n",
       "  </tbody>\n",
       "</table>\n",
       "</div>"
      ],
      "text/plain": [
       "         fare                                                                \n",
       "        count       mean        std  min    25%      50%        75%       max\n",
       "pclass                                                                       \n",
       "1       152.0  84.025220  80.094790  0.0  30.00  56.9292  91.684400  512.3292\n",
       "2       141.0  20.599437  12.845749  0.0  13.00  15.0458  26.000000   73.5000\n",
       "3       348.0  13.259039  11.427055  0.0   7.75   8.0500  14.468725   69.5500"
      ]
     },
     "execution_count": 678,
     "metadata": {},
     "output_type": "execute_result"
    }
   ],
   "source": [
    "# pclass별 fare\n",
    "train[['pclass','fare']].groupby(by='pclass').describe()"
   ]
  },
  {
   "cell_type": "code",
   "execution_count": 679,
   "id": "07bb1130-9e33-407f-8d17-f2789324184e",
   "metadata": {},
   "outputs": [],
   "source": [
    "train['CabinBand'] = CabinBand = train['cabin'].str[:1][train['cabin'].notnull()]"
   ]
  },
  {
   "cell_type": "code",
   "execution_count": 680,
   "id": "6279d193-372a-4c11-a663-07fc2336b805",
   "metadata": {},
   "outputs": [
    {
     "data": {
      "text/html": [
       "<div>\n",
       "<style scoped>\n",
       "    .dataframe tbody tr th:only-of-type {\n",
       "        vertical-align: middle;\n",
       "    }\n",
       "\n",
       "    .dataframe tbody tr th {\n",
       "        vertical-align: top;\n",
       "    }\n",
       "\n",
       "    .dataframe thead th {\n",
       "        text-align: right;\n",
       "    }\n",
       "</style>\n",
       "<table border=\"1\" class=\"dataframe\">\n",
       "  <thead>\n",
       "    <tr style=\"text-align: right;\">\n",
       "      <th></th>\n",
       "      <th>pclass</th>\n",
       "      <th>CabinBand</th>\n",
       "      <th>survived</th>\n",
       "    </tr>\n",
       "  </thead>\n",
       "  <tbody>\n",
       "    <tr>\n",
       "      <th>0</th>\n",
       "      <td>1</td>\n",
       "      <td>A</td>\n",
       "      <td>0.454545</td>\n",
       "    </tr>\n",
       "    <tr>\n",
       "      <th>1</th>\n",
       "      <td>1</td>\n",
       "      <td>B</td>\n",
       "      <td>0.705882</td>\n",
       "    </tr>\n",
       "    <tr>\n",
       "      <th>2</th>\n",
       "      <td>1</td>\n",
       "      <td>C</td>\n",
       "      <td>0.634146</td>\n",
       "    </tr>\n",
       "    <tr>\n",
       "      <th>3</th>\n",
       "      <td>1</td>\n",
       "      <td>D</td>\n",
       "      <td>0.764706</td>\n",
       "    </tr>\n",
       "    <tr>\n",
       "      <th>4</th>\n",
       "      <td>1</td>\n",
       "      <td>E</td>\n",
       "      <td>0.692308</td>\n",
       "    </tr>\n",
       "    <tr>\n",
       "      <th>5</th>\n",
       "      <td>2</td>\n",
       "      <td>D</td>\n",
       "      <td>0.250000</td>\n",
       "    </tr>\n",
       "    <tr>\n",
       "      <th>6</th>\n",
       "      <td>2</td>\n",
       "      <td>E</td>\n",
       "      <td>0.666667</td>\n",
       "    </tr>\n",
       "    <tr>\n",
       "      <th>7</th>\n",
       "      <td>2</td>\n",
       "      <td>F</td>\n",
       "      <td>0.600000</td>\n",
       "    </tr>\n",
       "    <tr>\n",
       "      <th>8</th>\n",
       "      <td>3</td>\n",
       "      <td>E</td>\n",
       "      <td>1.000000</td>\n",
       "    </tr>\n",
       "    <tr>\n",
       "      <th>9</th>\n",
       "      <td>3</td>\n",
       "      <td>F</td>\n",
       "      <td>0.000000</td>\n",
       "    </tr>\n",
       "    <tr>\n",
       "      <th>10</th>\n",
       "      <td>3</td>\n",
       "      <td>G</td>\n",
       "      <td>0.500000</td>\n",
       "    </tr>\n",
       "  </tbody>\n",
       "</table>\n",
       "</div>"
      ],
      "text/plain": [
       "    pclass CabinBand  survived\n",
       "0        1         A  0.454545\n",
       "1        1         B  0.705882\n",
       "2        1         C  0.634146\n",
       "3        1         D  0.764706\n",
       "4        1         E  0.692308\n",
       "5        2         D  0.250000\n",
       "6        2         E  0.666667\n",
       "7        2         F  0.600000\n",
       "8        3         E  1.000000\n",
       "9        3         F  0.000000\n",
       "10       3         G  0.500000"
      ]
     },
     "execution_count": 680,
     "metadata": {},
     "output_type": "execute_result"
    }
   ],
   "source": [
    "#pclass, cabinband별 생존율\n",
    "\n",
    "train[['CabinBand','pclass','survived']].groupby(by=['pclass','CabinBand'],as_index=False).mean()"
   ]
  },
  {
   "cell_type": "code",
   "execution_count": 681,
   "id": "eef50721-d4b9-494a-a6a3-74d833356090",
   "metadata": {},
   "outputs": [
    {
     "data": {
      "text/html": [
       "<div>\n",
       "<style scoped>\n",
       "    .dataframe tbody tr th:only-of-type {\n",
       "        vertical-align: middle;\n",
       "    }\n",
       "\n",
       "    .dataframe tbody tr th {\n",
       "        vertical-align: top;\n",
       "    }\n",
       "\n",
       "    .dataframe thead th {\n",
       "        text-align: right;\n",
       "    }\n",
       "</style>\n",
       "<table border=\"1\" class=\"dataframe\">\n",
       "  <thead>\n",
       "    <tr style=\"text-align: right;\">\n",
       "      <th></th>\n",
       "      <th>CabinBand</th>\n",
       "      <th>survived</th>\n",
       "    </tr>\n",
       "  </thead>\n",
       "  <tbody>\n",
       "    <tr>\n",
       "      <th>0</th>\n",
       "      <td>A</td>\n",
       "      <td>0.454545</td>\n",
       "    </tr>\n",
       "    <tr>\n",
       "      <th>1</th>\n",
       "      <td>B</td>\n",
       "      <td>0.705882</td>\n",
       "    </tr>\n",
       "    <tr>\n",
       "      <th>2</th>\n",
       "      <td>C</td>\n",
       "      <td>0.634146</td>\n",
       "    </tr>\n",
       "    <tr>\n",
       "      <th>3</th>\n",
       "      <td>D</td>\n",
       "      <td>0.666667</td>\n",
       "    </tr>\n",
       "    <tr>\n",
       "      <th>4</th>\n",
       "      <td>E</td>\n",
       "      <td>0.722222</td>\n",
       "    </tr>\n",
       "    <tr>\n",
       "      <th>5</th>\n",
       "      <td>F</td>\n",
       "      <td>0.375000</td>\n",
       "    </tr>\n",
       "    <tr>\n",
       "      <th>6</th>\n",
       "      <td>G</td>\n",
       "      <td>0.500000</td>\n",
       "    </tr>\n",
       "  </tbody>\n",
       "</table>\n",
       "</div>"
      ],
      "text/plain": [
       "  CabinBand  survived\n",
       "0         A  0.454545\n",
       "1         B  0.705882\n",
       "2         C  0.634146\n",
       "3         D  0.666667\n",
       "4         E  0.722222\n",
       "5         F  0.375000\n",
       "6         G  0.500000"
      ]
     },
     "execution_count": 681,
     "metadata": {},
     "output_type": "execute_result"
    }
   ],
   "source": [
    "train[['CabinBand','survived']].groupby(by='CabinBand',as_index=False).mean()"
   ]
  },
  {
   "cell_type": "markdown",
   "id": "8edae750-b3c0-4fa5-b54a-9823611e7c5e",
   "metadata": {},
   "source": [
    "- 선실별 생존율\n",
    "> F < A < G < C < D < B < E\n",
    "\n",
    ">> 3등석인 F와 G선실의 생존율 낮고 / 1등석이지만 A호실이 생존율이 두번째로 낮음<br>\n",
    ">> Pclass내에서도 Cabin별로 생존율이 상의하다."
   ]
  },
  {
   "cell_type": "markdown",
   "id": "716f9c2a-8b08-474f-8305-822d116f4f6b",
   "metadata": {},
   "source": [
    "이상치"
   ]
  },
  {
   "cell_type": "code",
   "execution_count": 682,
   "id": "257ae29d-74d5-47ef-ad29-dd459529e383",
   "metadata": {},
   "outputs": [],
   "source": [
    "pclass_1 = train.loc[train['pclass']== 1,'fare']\n",
    "pclass_2 = train.loc[train['pclass']== 2,'fare']\n",
    "pclass_3 = train.loc[train['pclass']== 3,'fare']"
   ]
  },
  {
   "cell_type": "code",
   "execution_count": 683,
   "id": "0e1d334b-90d0-4183-8617-6031dbaaf56b",
   "metadata": {},
   "outputs": [],
   "source": [
    "def outlier(data):\n",
    "    quantile =  data.quantile([0.25,0.75])\n",
    "    iqr = quantile.values[1]-quantile.values[0]\n",
    "    Upper_boundary = quantile.values[1] + 1.5*iqr\n",
    "    Lower_boundary = quantile.values[0] - 1.5*iqr\n",
    "    return Lower_boundary,Upper_boundary"
   ]
  },
  {
   "cell_type": "code",
   "execution_count": 684,
   "id": "e1385216-0404-47f3-857a-975086a3dc22",
   "metadata": {},
   "outputs": [
    {
     "name": "stdout",
     "output_type": "stream",
     "text": [
      "outlier_1 : (-62.5266, 184.211)\n",
      "outlier_2 : (-6.5, 45.5)\n",
      "outlier_3 : (-2.3280874999999988, 24.546812499999998)\n"
     ]
    }
   ],
   "source": [
    "print(f'outlier_1 : {outlier(pclass_1)}')\n",
    "print(f'outlier_2 : {outlier(pclass_2)}')\n",
    "print(f'outlier_3 : {outlier(pclass_3)}')"
   ]
  },
  {
   "cell_type": "code",
   "execution_count": 685,
   "id": "1d18f22e-9d88-4433-ba96-ab077ecc4d34",
   "metadata": {},
   "outputs": [
    {
     "data": {
      "text/plain": [
       "<AxesSubplot:xlabel='pclass', ylabel='fare'>"
      ]
     },
     "execution_count": 685,
     "metadata": {},
     "output_type": "execute_result"
    },
    {
     "data": {
      "image/png": "[encoded data removed]",
      "text/plain": [
       "<Figure size 640x480 with 1 Axes>"
      ]
     },
     "metadata": {},
     "output_type": "display_data"
    }
   ],
   "source": [
    "sns.boxplot(x='pclass',y='fare',data=train)"
   ]
  },
  {
   "cell_type": "code",
   "execution_count": 618,
   "id": "332181ab-ef1e-4a4a-bc77-7ae6e9ddcffd",
   "metadata": {},
   "outputs": [
    {
     "data": {
      "text/plain": [
       "<AxesSubplot:xlabel='fare', ylabel='CabinBand'>"
      ]
     },
     "execution_count": 618,
     "metadata": {},
     "output_type": "execute_result"
    },
    {
     "data": {
      "image/png": "[encoded data removed]",
      "text/plain": [
       "<Figure size 640x480 with 1 Axes>"
      ]
     },
     "metadata": {},
     "output_type": "display_data"
    }
   ],
   "source": [
    "sns.boxplot(x=train['fare'],y=train['CabinBand'],data=train)"
   ]
  },
  {
   "cell_type": "markdown",
   "id": "724efb05-c9c1-41ac-9229-507fec7c75f2",
   "metadata": {},
   "source": [
    "> 실제 가격 정보와 이상치 정보를 합쳐서 cabin값 대체\n",
    "- 1등실 \n",
    "> 73-183까지는 A-E로 랜덤배정<br>\n",
    "> 184부터는 A-C로 랜덤배정<br>\n",
    "\n",
    "- 2등실<br>\n",
    "> 41-72까지 D-F로 랜덤배정<br>\n",
    "\n",
    "- 3등실<br>\n",
    "> 0-24까지 F-G로 랜덤배정<br>\n",
    "> 25-40까지는 D-E로 랜덤배정\n"
   ]
  },
  {
   "cell_type": "code",
   "execution_count": 619,
   "id": "ea926e30-ebbc-4dcc-8e5e-43bbc3a873f4",
   "metadata": {},
   "outputs": [
    {
     "data": {
      "text/plain": [
       "341    NaN\n",
       "451    NaN\n",
       "550    NaN\n",
       "Name: CabinBand, dtype: object"
      ]
     },
     "execution_count": 619,
     "metadata": {},
     "output_type": "execute_result"
    }
   ],
   "source": [
    "cond = (train['fare'] >= 184) & (train['cabin'].isnull())\n",
    "train.loc[cond, 'CabinBand']"
   ]
  },
  {
   "cell_type": "code",
   "execution_count": 620,
   "id": "a63fdacc-c02e-400c-8c71-58298f3f88c4",
   "metadata": {},
   "outputs": [
    {
     "data": {
      "text/plain": [
       "3"
      ]
     },
     "execution_count": 620,
     "metadata": {},
     "output_type": "execute_result"
    }
   ],
   "source": [
    "len(train[cond])"
   ]
  },
  {
   "cell_type": "code",
   "execution_count": 625,
   "id": "731d55f3-b580-46ad-b5b8-8f4824ec126e",
   "metadata": {},
   "outputs": [
    {
     "data": {
      "text/plain": [
       "341    NaN\n",
       "451    NaN\n",
       "550    NaN\n",
       "Name: CabinBand, dtype: object"
      ]
     },
     "execution_count": 625,
     "metadata": {},
     "output_type": "execute_result"
    }
   ],
   "source": [
    "train.loc[cond,'CabinBand']"
   ]
  },
  {
   "cell_type": "code",
   "execution_count": 643,
   "id": "fefdf772-d025-40ce-8576-21ce7f262aa8",
   "metadata": {},
   "outputs": [
    {
     "data": {
      "text/plain": [
       "['A', 'A', 'C']"
      ]
     },
     "execution_count": 643,
     "metadata": {},
     "output_type": "execute_result"
    }
   ],
   "source": [
    "rand = [random.choice(letter) for i in range(len(train[cond]))]\n",
    "rand"
   ]
  },
  {
   "cell_type": "code",
   "execution_count": 644,
   "id": "83a5640f-f4d8-4384-9109-d0daae79c15e",
   "metadata": {},
   "outputs": [
    {
     "data": {
      "text/plain": [
       "'A'"
      ]
     },
     "execution_count": 644,
     "metadata": {},
     "output_type": "execute_result"
    }
   ],
   "source": [
    "rand[0]"
   ]
  },
  {
   "cell_type": "code",
   "execution_count": 647,
   "id": "2af0ab1c-be87-4cf1-99a6-358770c51b4c",
   "metadata": {},
   "outputs": [],
   "source": [
    "for i in range(len(rand)):\n",
    "    train.loc[cond,'CabinBand'] = rand[i]\n",
    "    "
   ]
  },
  {
   "cell_type": "code",
   "execution_count": 648,
   "id": "6aa87358-f429-45c3-b46f-188c55fb51dd",
   "metadata": {},
   "outputs": [
    {
     "data": {
      "text/html": [
       "<div>\n",
       "<style scoped>\n",
       "    .dataframe tbody tr th:only-of-type {\n",
       "        vertical-align: middle;\n",
       "    }\n",
       "\n",
       "    .dataframe tbody tr th {\n",
       "        vertical-align: top;\n",
       "    }\n",
       "\n",
       "    .dataframe thead th {\n",
       "        text-align: right;\n",
       "    }\n",
       "</style>\n",
       "<table border=\"1\" class=\"dataframe\">\n",
       "  <thead>\n",
       "    <tr style=\"text-align: right;\">\n",
       "      <th></th>\n",
       "      <th>survived</th>\n",
       "      <th>pclass</th>\n",
       "      <th>name</th>\n",
       "      <th>gender</th>\n",
       "      <th>age</th>\n",
       "      <th>sibsp</th>\n",
       "      <th>parch</th>\n",
       "      <th>ticket</th>\n",
       "      <th>fare</th>\n",
       "      <th>cabin</th>\n",
       "      <th>embarked</th>\n",
       "      <th>CabinBand</th>\n",
       "    </tr>\n",
       "  </thead>\n",
       "  <tbody>\n",
       "    <tr>\n",
       "      <th>341</th>\n",
       "      <td>1</td>\n",
       "      <td>1</td>\n",
       "      <td>Ward, Miss. Anna</td>\n",
       "      <td>female</td>\n",
       "      <td>35.0</td>\n",
       "      <td>0</td>\n",
       "      <td>0</td>\n",
       "      <td>PC 17755</td>\n",
       "      <td>512.3292</td>\n",
       "      <td>NaN</td>\n",
       "      <td>C</td>\n",
       "      <td>C</td>\n",
       "    </tr>\n",
       "    <tr>\n",
       "      <th>451</th>\n",
       "      <td>0</td>\n",
       "      <td>1</td>\n",
       "      <td>Robbins, Mr. Victor</td>\n",
       "      <td>male</td>\n",
       "      <td>NaN</td>\n",
       "      <td>0</td>\n",
       "      <td>0</td>\n",
       "      <td>PC 17757</td>\n",
       "      <td>227.5250</td>\n",
       "      <td>NaN</td>\n",
       "      <td>C</td>\n",
       "      <td>C</td>\n",
       "    </tr>\n",
       "    <tr>\n",
       "      <th>550</th>\n",
       "      <td>1</td>\n",
       "      <td>1</td>\n",
       "      <td>Kreuchen, Miss. Emilie</td>\n",
       "      <td>female</td>\n",
       "      <td>39.0</td>\n",
       "      <td>0</td>\n",
       "      <td>0</td>\n",
       "      <td>24160</td>\n",
       "      <td>211.3375</td>\n",
       "      <td>NaN</td>\n",
       "      <td>S</td>\n",
       "      <td>C</td>\n",
       "    </tr>\n",
       "  </tbody>\n",
       "</table>\n",
       "</div>"
      ],
      "text/plain": [
       "     survived  pclass                    name  gender   age  sibsp  parch  \\\n",
       "341         1       1        Ward, Miss. Anna  female  35.0      0      0   \n",
       "451         0       1     Robbins, Mr. Victor    male   NaN      0      0   \n",
       "550         1       1  Kreuchen, Miss. Emilie  female  39.0      0      0   \n",
       "\n",
       "       ticket      fare cabin embarked CabinBand  \n",
       "341  PC 17755  512.3292   NaN        C         C  \n",
       "451  PC 17757  227.5250   NaN        C         C  \n",
       "550     24160  211.3375   NaN        S         C  "
      ]
     },
     "execution_count": 648,
     "metadata": {},
     "output_type": "execute_result"
    }
   ],
   "source": [
    "train[cond]"
   ]
  },
  {
   "cell_type": "code",
   "execution_count": 649,
   "id": "895d2c85-8d72-442c-bade-a0ddb5b71f20",
   "metadata": {},
   "outputs": [],
   "source": [
    "letter = 'ABC'\n",
    "for i in range(len(train[cond])):\n",
    "    train['CabinBand'] = random.choice(letter)"
   ]
  },
  {
   "cell_type": "code",
   "execution_count": 533,
   "id": "2e1614ea-6826-4c18-af7c-f690369ef60e",
   "metadata": {},
   "outputs": [],
   "source": [
    "letter = 'ABC'\n",
    "train.loc[cond, 'CabinBand'] = random.choice(letter)"
   ]
  },
  {
   "cell_type": "code",
   "execution_count": 487,
   "id": "750ac53b-205b-49ad-90ff-e295a4dd78d3",
   "metadata": {},
   "outputs": [],
   "source": [
    "letter = 'FG'\n",
    "train.loc[(train['fare']<=24)&(train['cabin'].isnull()),'cabin'] = random.choice(letter)"
   ]
  },
  {
   "cell_type": "code",
   "execution_count": 495,
   "id": "9ad6f307-8a43-4f90-9677-ffd671d09121",
   "metadata": {},
   "outputs": [
    {
     "data": {
      "text/plain": [
       "Series([], Name: cabin, dtype: object)"
      ]
     },
     "execution_count": 495,
     "metadata": {},
     "output_type": "execute_result"
    }
   ],
   "source": [
    "train.loc[(train['fare']>24)&(train['fare']<=40)&(train['cabin'].isnull()),'cabin']"
   ]
  },
  {
   "cell_type": "code",
   "execution_count": 493,
   "id": "0e005e03-bb03-4150-8592-0db9f57f7526",
   "metadata": {},
   "outputs": [],
   "source": [
    "str = 'DE'\n",
    "train.loc[(train['fare']>24)&(train['fare']<=40)&(train['cabin'].isnull()),'cabin'] = random.choice(str)"
   ]
  },
  {
   "cell_type": "code",
   "execution_count": 494,
   "id": "f3ffa316-5e4b-43cd-9086-aec490a6d144",
   "metadata": {},
   "outputs": [
    {
     "data": {
      "text/plain": [
       "Series([], Name: cabin, dtype: object)"
      ]
     },
     "execution_count": 494,
     "metadata": {},
     "output_type": "execute_result"
    }
   ],
   "source": [
    "train.loc[(train['fare']>24)&(train['fare']<=40)&(train['cabin'].isnull()),'cabin']"
   ]
  },
  {
   "cell_type": "code",
   "execution_count": 500,
   "id": "cac89389-39f2-4ead-b62b-94136f365af6",
   "metadata": {},
   "outputs": [
    {
     "data": {
      "text/plain": [
       "D     89\n",
       "C1     5\n",
       "A1     3\n",
       "F2     2\n",
       "C5     2\n",
       "B3     2\n",
       "B4     2\n",
       "A2     2\n",
       "C8     1\n",
       "A5     1\n",
       "D2     1\n",
       "D1     1\n",
       "C4     1\n",
       "D5     1\n",
       "B2     1\n",
       "B5     1\n",
       "D4     1\n",
       "E6     1\n",
       "E2     1\n",
       "A6     1\n",
       "Name: cabin, dtype: int64"
      ]
     },
     "execution_count": 500,
     "metadata": {},
     "output_type": "execute_result"
    }
   ],
   "source": [
    "train.loc[(train['fare']>24)&(train['fare']<=40),'cabin'].value_counts()"
   ]
  },
  {
   "cell_type": "code",
   "execution_count": 337,
   "id": "281dbfb0-1656-4395-a92b-a3ef9f7ae743",
   "metadata": {},
   "outputs": [
    {
     "data": {
      "text/html": [
       "<div>\n",
       "<style scoped>\n",
       "    .dataframe tbody tr th:only-of-type {\n",
       "        vertical-align: middle;\n",
       "    }\n",
       "\n",
       "    .dataframe tbody tr th {\n",
       "        vertical-align: top;\n",
       "    }\n",
       "\n",
       "    .dataframe thead tr th {\n",
       "        text-align: left;\n",
       "    }\n",
       "\n",
       "    .dataframe thead tr:last-of-type th {\n",
       "        text-align: right;\n",
       "    }\n",
       "</style>\n",
       "<table border=\"1\" class=\"dataframe\">\n",
       "  <thead>\n",
       "    <tr>\n",
       "      <th></th>\n",
       "      <th colspan=\"5\" halign=\"left\">pclass</th>\n",
       "      <th colspan=\"5\" halign=\"left\">fare</th>\n",
       "    </tr>\n",
       "    <tr>\n",
       "      <th></th>\n",
       "      <th>min</th>\n",
       "      <th>max</th>\n",
       "      <th>mean</th>\n",
       "      <th>median</th>\n",
       "      <th>count</th>\n",
       "      <th>min</th>\n",
       "      <th>max</th>\n",
       "      <th>mean</th>\n",
       "      <th>median</th>\n",
       "      <th>count</th>\n",
       "    </tr>\n",
       "    <tr>\n",
       "      <th>cabin</th>\n",
       "      <th></th>\n",
       "      <th></th>\n",
       "      <th></th>\n",
       "      <th></th>\n",
       "      <th></th>\n",
       "      <th></th>\n",
       "      <th></th>\n",
       "      <th></th>\n",
       "      <th></th>\n",
       "      <th></th>\n",
       "    </tr>\n",
       "  </thead>\n",
       "  <tbody>\n",
       "    <tr>\n",
       "      <th>A1</th>\n",
       "      <td>1</td>\n",
       "      <td>1</td>\n",
       "      <td>1.0</td>\n",
       "      <td>1.0</td>\n",
       "      <td>3</td>\n",
       "      <td>26.0000</td>\n",
       "      <td>29.7000</td>\n",
       "      <td>27.806933</td>\n",
       "      <td>27.72080</td>\n",
       "      <td>3</td>\n",
       "    </tr>\n",
       "    <tr>\n",
       "      <th>A2</th>\n",
       "      <td>1</td>\n",
       "      <td>1</td>\n",
       "      <td>1.0</td>\n",
       "      <td>1.0</td>\n",
       "      <td>4</td>\n",
       "      <td>30.0000</td>\n",
       "      <td>56.9292</td>\n",
       "      <td>41.981250</td>\n",
       "      <td>40.49790</td>\n",
       "      <td>4</td>\n",
       "    </tr>\n",
       "    <tr>\n",
       "      <th>A3</th>\n",
       "      <td>1</td>\n",
       "      <td>1</td>\n",
       "      <td>1.0</td>\n",
       "      <td>1.0</td>\n",
       "      <td>2</td>\n",
       "      <td>50.0000</td>\n",
       "      <td>81.8583</td>\n",
       "      <td>65.929150</td>\n",
       "      <td>65.92915</td>\n",
       "      <td>2</td>\n",
       "    </tr>\n",
       "    <tr>\n",
       "      <th>A5</th>\n",
       "      <td>1</td>\n",
       "      <td>1</td>\n",
       "      <td>1.0</td>\n",
       "      <td>1.0</td>\n",
       "      <td>1</td>\n",
       "      <td>34.6542</td>\n",
       "      <td>34.6542</td>\n",
       "      <td>34.654200</td>\n",
       "      <td>34.65420</td>\n",
       "      <td>1</td>\n",
       "    </tr>\n",
       "    <tr>\n",
       "      <th>A6</th>\n",
       "      <td>1</td>\n",
       "      <td>1</td>\n",
       "      <td>1.0</td>\n",
       "      <td>1.0</td>\n",
       "      <td>1</td>\n",
       "      <td>35.5000</td>\n",
       "      <td>35.5000</td>\n",
       "      <td>35.500000</td>\n",
       "      <td>35.50000</td>\n",
       "      <td>1</td>\n",
       "    </tr>\n",
       "    <tr>\n",
       "      <th>B1</th>\n",
       "      <td>1</td>\n",
       "      <td>1</td>\n",
       "      <td>1.0</td>\n",
       "      <td>1.0</td>\n",
       "      <td>1</td>\n",
       "      <td>0.0000</td>\n",
       "      <td>0.0000</td>\n",
       "      <td>0.000000</td>\n",
       "      <td>0.00000</td>\n",
       "      <td>1</td>\n",
       "    </tr>\n",
       "    <tr>\n",
       "      <th>B2</th>\n",
       "      <td>1</td>\n",
       "      <td>1</td>\n",
       "      <td>1.0</td>\n",
       "      <td>1.0</td>\n",
       "      <td>4</td>\n",
       "      <td>26.5500</td>\n",
       "      <td>71.0000</td>\n",
       "      <td>56.387500</td>\n",
       "      <td>64.00000</td>\n",
       "      <td>4</td>\n",
       "    </tr>\n",
       "    <tr>\n",
       "      <th>B3</th>\n",
       "      <td>1</td>\n",
       "      <td>1</td>\n",
       "      <td>1.0</td>\n",
       "      <td>1.0</td>\n",
       "      <td>5</td>\n",
       "      <td>26.5500</td>\n",
       "      <td>69.3000</td>\n",
       "      <td>47.405840</td>\n",
       "      <td>49.50000</td>\n",
       "      <td>5</td>\n",
       "    </tr>\n",
       "    <tr>\n",
       "      <th>B4</th>\n",
       "      <td>1</td>\n",
       "      <td>1</td>\n",
       "      <td>1.0</td>\n",
       "      <td>1.0</td>\n",
       "      <td>6</td>\n",
       "      <td>27.7208</td>\n",
       "      <td>91.0792</td>\n",
       "      <td>66.890983</td>\n",
       "      <td>80.73335</td>\n",
       "      <td>6</td>\n",
       "    </tr>\n",
       "    <tr>\n",
       "      <th>B5</th>\n",
       "      <td>1</td>\n",
       "      <td>1</td>\n",
       "      <td>1.0</td>\n",
       "      <td>1.0</td>\n",
       "      <td>10</td>\n",
       "      <td>0.0000</td>\n",
       "      <td>512.3292</td>\n",
       "      <td>204.133330</td>\n",
       "      <td>247.52080</td>\n",
       "      <td>10</td>\n",
       "    </tr>\n",
       "    <tr>\n",
       "      <th>B6</th>\n",
       "      <td>1</td>\n",
       "      <td>1</td>\n",
       "      <td>1.0</td>\n",
       "      <td>1.0</td>\n",
       "      <td>1</td>\n",
       "      <td>93.5000</td>\n",
       "      <td>93.5000</td>\n",
       "      <td>93.500000</td>\n",
       "      <td>93.50000</td>\n",
       "      <td>1</td>\n",
       "    </tr>\n",
       "    <tr>\n",
       "      <th>B7</th>\n",
       "      <td>1</td>\n",
       "      <td>1</td>\n",
       "      <td>1.0</td>\n",
       "      <td>1.0</td>\n",
       "      <td>2</td>\n",
       "      <td>93.5000</td>\n",
       "      <td>146.5208</td>\n",
       "      <td>120.010400</td>\n",
       "      <td>120.01040</td>\n",
       "      <td>2</td>\n",
       "    </tr>\n",
       "    <tr>\n",
       "      <th>B8</th>\n",
       "      <td>1</td>\n",
       "      <td>1</td>\n",
       "      <td>1.0</td>\n",
       "      <td>1.0</td>\n",
       "      <td>2</td>\n",
       "      <td>79.2000</td>\n",
       "      <td>146.5208</td>\n",
       "      <td>112.860400</td>\n",
       "      <td>112.86040</td>\n",
       "      <td>2</td>\n",
       "    </tr>\n",
       "    <tr>\n",
       "      <th>B9</th>\n",
       "      <td>1</td>\n",
       "      <td>1</td>\n",
       "      <td>1.0</td>\n",
       "      <td>1.0</td>\n",
       "      <td>3</td>\n",
       "      <td>120.0000</td>\n",
       "      <td>120.0000</td>\n",
       "      <td>120.000000</td>\n",
       "      <td>120.00000</td>\n",
       "      <td>3</td>\n",
       "    </tr>\n",
       "    <tr>\n",
       "      <th>C1</th>\n",
       "      <td>1</td>\n",
       "      <td>1</td>\n",
       "      <td>1.0</td>\n",
       "      <td>1.0</td>\n",
       "      <td>12</td>\n",
       "      <td>26.5500</td>\n",
       "      <td>211.5000</td>\n",
       "      <td>64.390975</td>\n",
       "      <td>51.73960</td>\n",
       "      <td>12</td>\n",
       "    </tr>\n",
       "    <tr>\n",
       "      <th>C2</th>\n",
       "      <td>1</td>\n",
       "      <td>1</td>\n",
       "      <td>1.0</td>\n",
       "      <td>1.0</td>\n",
       "      <td>4</td>\n",
       "      <td>66.6000</td>\n",
       "      <td>263.0000</td>\n",
       "      <td>186.037500</td>\n",
       "      <td>207.27500</td>\n",
       "      <td>4</td>\n",
       "    </tr>\n",
       "    <tr>\n",
       "      <th>C3</th>\n",
       "      <td>1</td>\n",
       "      <td>1</td>\n",
       "      <td>1.0</td>\n",
       "      <td>1.0</td>\n",
       "      <td>3</td>\n",
       "      <td>60.0000</td>\n",
       "      <td>135.6333</td>\n",
       "      <td>110.422200</td>\n",
       "      <td>135.63330</td>\n",
       "      <td>3</td>\n",
       "    </tr>\n",
       "    <tr>\n",
       "      <th>C4</th>\n",
       "      <td>1</td>\n",
       "      <td>1</td>\n",
       "      <td>1.0</td>\n",
       "      <td>1.0</td>\n",
       "      <td>2</td>\n",
       "      <td>29.7000</td>\n",
       "      <td>78.8500</td>\n",
       "      <td>54.275000</td>\n",
       "      <td>54.27500</td>\n",
       "      <td>2</td>\n",
       "    </tr>\n",
       "    <tr>\n",
       "      <th>C5</th>\n",
       "      <td>1</td>\n",
       "      <td>1</td>\n",
       "      <td>1.0</td>\n",
       "      <td>1.0</td>\n",
       "      <td>5</td>\n",
       "      <td>28.5000</td>\n",
       "      <td>221.7792</td>\n",
       "      <td>89.026660</td>\n",
       "      <td>83.15830</td>\n",
       "      <td>5</td>\n",
       "    </tr>\n",
       "    <tr>\n",
       "      <th>C6</th>\n",
       "      <td>1</td>\n",
       "      <td>1</td>\n",
       "      <td>1.0</td>\n",
       "      <td>1.0</td>\n",
       "      <td>2</td>\n",
       "      <td>108.9000</td>\n",
       "      <td>227.5250</td>\n",
       "      <td>168.212500</td>\n",
       "      <td>168.21250</td>\n",
       "      <td>2</td>\n",
       "    </tr>\n",
       "    <tr>\n",
       "      <th>C7</th>\n",
       "      <td>1</td>\n",
       "      <td>1</td>\n",
       "      <td>1.0</td>\n",
       "      <td>1.0</td>\n",
       "      <td>2</td>\n",
       "      <td>90.0000</td>\n",
       "      <td>164.8667</td>\n",
       "      <td>127.433350</td>\n",
       "      <td>127.43335</td>\n",
       "      <td>2</td>\n",
       "    </tr>\n",
       "    <tr>\n",
       "      <th>C8</th>\n",
       "      <td>1</td>\n",
       "      <td>1</td>\n",
       "      <td>1.0</td>\n",
       "      <td>1.0</td>\n",
       "      <td>6</td>\n",
       "      <td>26.5500</td>\n",
       "      <td>211.5000</td>\n",
       "      <td>102.975000</td>\n",
       "      <td>94.95000</td>\n",
       "      <td>6</td>\n",
       "    </tr>\n",
       "    <tr>\n",
       "      <th>C9</th>\n",
       "      <td>1</td>\n",
       "      <td>1</td>\n",
       "      <td>1.0</td>\n",
       "      <td>1.0</td>\n",
       "      <td>5</td>\n",
       "      <td>89.1042</td>\n",
       "      <td>153.4625</td>\n",
       "      <td>102.334180</td>\n",
       "      <td>90.00000</td>\n",
       "      <td>5</td>\n",
       "    </tr>\n",
       "    <tr>\n",
       "      <th>D</th>\n",
       "      <td>2</td>\n",
       "      <td>2</td>\n",
       "      <td>2.0</td>\n",
       "      <td>2.0</td>\n",
       "      <td>3</td>\n",
       "      <td>12.8750</td>\n",
       "      <td>15.0458</td>\n",
       "      <td>13.640267</td>\n",
       "      <td>13.00000</td>\n",
       "      <td>3</td>\n",
       "    </tr>\n",
       "    <tr>\n",
       "      <th>D1</th>\n",
       "      <td>1</td>\n",
       "      <td>1</td>\n",
       "      <td>1.0</td>\n",
       "      <td>1.0</td>\n",
       "      <td>5</td>\n",
       "      <td>25.9292</td>\n",
       "      <td>77.9583</td>\n",
       "      <td>57.057520</td>\n",
       "      <td>52.55420</td>\n",
       "      <td>5</td>\n",
       "    </tr>\n",
       "    <tr>\n",
       "      <th>D2</th>\n",
       "      <td>1</td>\n",
       "      <td>1</td>\n",
       "      <td>1.0</td>\n",
       "      <td>1.0</td>\n",
       "      <td>3</td>\n",
       "      <td>39.4000</td>\n",
       "      <td>78.2667</td>\n",
       "      <td>64.984733</td>\n",
       "      <td>77.28750</td>\n",
       "      <td>3</td>\n",
       "    </tr>\n",
       "    <tr>\n",
       "      <th>D3</th>\n",
       "      <td>1</td>\n",
       "      <td>2</td>\n",
       "      <td>1.2</td>\n",
       "      <td>1.0</td>\n",
       "      <td>5</td>\n",
       "      <td>13.8625</td>\n",
       "      <td>113.2750</td>\n",
       "      <td>66.334180</td>\n",
       "      <td>75.25000</td>\n",
       "      <td>5</td>\n",
       "    </tr>\n",
       "    <tr>\n",
       "      <th>D4</th>\n",
       "      <td>1</td>\n",
       "      <td>1</td>\n",
       "      <td>1.0</td>\n",
       "      <td>1.0</td>\n",
       "      <td>3</td>\n",
       "      <td>27.7208</td>\n",
       "      <td>113.2750</td>\n",
       "      <td>72.575000</td>\n",
       "      <td>76.72920</td>\n",
       "      <td>3</td>\n",
       "    </tr>\n",
       "    <tr>\n",
       "      <th>D5</th>\n",
       "      <td>1</td>\n",
       "      <td>1</td>\n",
       "      <td>1.0</td>\n",
       "      <td>1.0</td>\n",
       "      <td>1</td>\n",
       "      <td>32.3208</td>\n",
       "      <td>32.3208</td>\n",
       "      <td>32.320800</td>\n",
       "      <td>32.32080</td>\n",
       "      <td>1</td>\n",
       "    </tr>\n",
       "    <tr>\n",
       "      <th>D7</th>\n",
       "      <td>1</td>\n",
       "      <td>1</td>\n",
       "      <td>1.0</td>\n",
       "      <td>1.0</td>\n",
       "      <td>1</td>\n",
       "      <td>77.9583</td>\n",
       "      <td>77.9583</td>\n",
       "      <td>77.958300</td>\n",
       "      <td>77.95830</td>\n",
       "      <td>1</td>\n",
       "    </tr>\n",
       "    <tr>\n",
       "      <th>E1</th>\n",
       "      <td>2</td>\n",
       "      <td>3</td>\n",
       "      <td>2.5</td>\n",
       "      <td>2.5</td>\n",
       "      <td>4</td>\n",
       "      <td>8.0500</td>\n",
       "      <td>13.0000</td>\n",
       "      <td>11.006250</td>\n",
       "      <td>11.48750</td>\n",
       "      <td>4</td>\n",
       "    </tr>\n",
       "    <tr>\n",
       "      <th>E2</th>\n",
       "      <td>1</td>\n",
       "      <td>1</td>\n",
       "      <td>1.0</td>\n",
       "      <td>1.0</td>\n",
       "      <td>1</td>\n",
       "      <td>26.3875</td>\n",
       "      <td>26.3875</td>\n",
       "      <td>26.387500</td>\n",
       "      <td>26.38750</td>\n",
       "      <td>1</td>\n",
       "    </tr>\n",
       "    <tr>\n",
       "      <th>E3</th>\n",
       "      <td>1</td>\n",
       "      <td>1</td>\n",
       "      <td>1.0</td>\n",
       "      <td>1.0</td>\n",
       "      <td>5</td>\n",
       "      <td>55.0000</td>\n",
       "      <td>134.5000</td>\n",
       "      <td>88.420840</td>\n",
       "      <td>61.17500</td>\n",
       "      <td>5</td>\n",
       "    </tr>\n",
       "    <tr>\n",
       "      <th>E4</th>\n",
       "      <td>1</td>\n",
       "      <td>1</td>\n",
       "      <td>1.0</td>\n",
       "      <td>1.0</td>\n",
       "      <td>3</td>\n",
       "      <td>51.8625</td>\n",
       "      <td>83.1583</td>\n",
       "      <td>63.640267</td>\n",
       "      <td>55.90000</td>\n",
       "      <td>3</td>\n",
       "    </tr>\n",
       "    <tr>\n",
       "      <th>E5</th>\n",
       "      <td>1</td>\n",
       "      <td>1</td>\n",
       "      <td>1.0</td>\n",
       "      <td>1.0</td>\n",
       "      <td>2</td>\n",
       "      <td>55.4417</td>\n",
       "      <td>55.4417</td>\n",
       "      <td>55.441700</td>\n",
       "      <td>55.44170</td>\n",
       "      <td>2</td>\n",
       "    </tr>\n",
       "    <tr>\n",
       "      <th>E6</th>\n",
       "      <td>1</td>\n",
       "      <td>1</td>\n",
       "      <td>1.0</td>\n",
       "      <td>1.0</td>\n",
       "      <td>1</td>\n",
       "      <td>38.5000</td>\n",
       "      <td>38.5000</td>\n",
       "      <td>38.500000</td>\n",
       "      <td>38.50000</td>\n",
       "      <td>1</td>\n",
       "    </tr>\n",
       "    <tr>\n",
       "      <th>E7</th>\n",
       "      <td>2</td>\n",
       "      <td>2</td>\n",
       "      <td>2.0</td>\n",
       "      <td>2.0</td>\n",
       "      <td>1</td>\n",
       "      <td>10.5000</td>\n",
       "      <td>10.5000</td>\n",
       "      <td>10.500000</td>\n",
       "      <td>10.50000</td>\n",
       "      <td>1</td>\n",
       "    </tr>\n",
       "    <tr>\n",
       "      <th>E8</th>\n",
       "      <td>1</td>\n",
       "      <td>1</td>\n",
       "      <td>1.0</td>\n",
       "      <td>1.0</td>\n",
       "      <td>1</td>\n",
       "      <td>53.1000</td>\n",
       "      <td>53.1000</td>\n",
       "      <td>53.100000</td>\n",
       "      <td>53.10000</td>\n",
       "      <td>1</td>\n",
       "    </tr>\n",
       "    <tr>\n",
       "      <th>F</th>\n",
       "      <td>2</td>\n",
       "      <td>2</td>\n",
       "      <td>2.0</td>\n",
       "      <td>2.0</td>\n",
       "      <td>1</td>\n",
       "      <td>13.0000</td>\n",
       "      <td>13.0000</td>\n",
       "      <td>13.000000</td>\n",
       "      <td>13.00000</td>\n",
       "      <td>1</td>\n",
       "    </tr>\n",
       "    <tr>\n",
       "      <th>F</th>\n",
       "      <td>3</td>\n",
       "      <td>3</td>\n",
       "      <td>3.0</td>\n",
       "      <td>3.0</td>\n",
       "      <td>3</td>\n",
       "      <td>7.2292</td>\n",
       "      <td>7.6500</td>\n",
       "      <td>7.369467</td>\n",
       "      <td>7.22920</td>\n",
       "      <td>3</td>\n",
       "    </tr>\n",
       "    <tr>\n",
       "      <th>F2</th>\n",
       "      <td>2</td>\n",
       "      <td>2</td>\n",
       "      <td>2.0</td>\n",
       "      <td>2.0</td>\n",
       "      <td>2</td>\n",
       "      <td>26.0000</td>\n",
       "      <td>26.0000</td>\n",
       "      <td>26.000000</td>\n",
       "      <td>26.00000</td>\n",
       "      <td>2</td>\n",
       "    </tr>\n",
       "    <tr>\n",
       "      <th>F3</th>\n",
       "      <td>2</td>\n",
       "      <td>2</td>\n",
       "      <td>2.0</td>\n",
       "      <td>2.0</td>\n",
       "      <td>2</td>\n",
       "      <td>10.5000</td>\n",
       "      <td>13.0000</td>\n",
       "      <td>11.750000</td>\n",
       "      <td>11.75000</td>\n",
       "      <td>2</td>\n",
       "    </tr>\n",
       "    <tr>\n",
       "      <th>G6</th>\n",
       "      <td>3</td>\n",
       "      <td>3</td>\n",
       "      <td>3.0</td>\n",
       "      <td>3.0</td>\n",
       "      <td>2</td>\n",
       "      <td>10.4625</td>\n",
       "      <td>16.7000</td>\n",
       "      <td>13.581250</td>\n",
       "      <td>13.58125</td>\n",
       "      <td>2</td>\n",
       "    </tr>\n",
       "  </tbody>\n",
       "</table>\n",
       "</div>"
      ],
      "text/plain": [
       "      pclass                            fare                                   \\\n",
       "         min max mean median count       min       max        mean     median   \n",
       "cabin                                                                           \n",
       "A1         1   1  1.0    1.0     3   26.0000   29.7000   27.806933   27.72080   \n",
       "A2         1   1  1.0    1.0     4   30.0000   56.9292   41.981250   40.49790   \n",
       "A3         1   1  1.0    1.0     2   50.0000   81.8583   65.929150   65.92915   \n",
       "A5         1   1  1.0    1.0     1   34.6542   34.6542   34.654200   34.65420   \n",
       "A6         1   1  1.0    1.0     1   35.5000   35.5000   35.500000   35.50000   \n",
       "B1         1   1  1.0    1.0     1    0.0000    0.0000    0.000000    0.00000   \n",
       "B2         1   1  1.0    1.0     4   26.5500   71.0000   56.387500   64.00000   \n",
       "B3         1   1  1.0    1.0     5   26.5500   69.3000   47.405840   49.50000   \n",
       "B4         1   1  1.0    1.0     6   27.7208   91.0792   66.890983   80.73335   \n",
       "B5         1   1  1.0    1.0    10    0.0000  512.3292  204.133330  247.52080   \n",
       "B6         1   1  1.0    1.0     1   93.5000   93.5000   93.500000   93.50000   \n",
       "B7         1   1  1.0    1.0     2   93.5000  146.5208  120.010400  120.01040   \n",
       "B8         1   1  1.0    1.0     2   79.2000  146.5208  112.860400  112.86040   \n",
       "B9         1   1  1.0    1.0     3  120.0000  120.0000  120.000000  120.00000   \n",
       "C1         1   1  1.0    1.0    12   26.5500  211.5000   64.390975   51.73960   \n",
       "C2         1   1  1.0    1.0     4   66.6000  263.0000  186.037500  207.27500   \n",
       "C3         1   1  1.0    1.0     3   60.0000  135.6333  110.422200  135.63330   \n",
       "C4         1   1  1.0    1.0     2   29.7000   78.8500   54.275000   54.27500   \n",
       "C5         1   1  1.0    1.0     5   28.5000  221.7792   89.026660   83.15830   \n",
       "C6         1   1  1.0    1.0     2  108.9000  227.5250  168.212500  168.21250   \n",
       "C7         1   1  1.0    1.0     2   90.0000  164.8667  127.433350  127.43335   \n",
       "C8         1   1  1.0    1.0     6   26.5500  211.5000  102.975000   94.95000   \n",
       "C9         1   1  1.0    1.0     5   89.1042  153.4625  102.334180   90.00000   \n",
       "D          2   2  2.0    2.0     3   12.8750   15.0458   13.640267   13.00000   \n",
       "D1         1   1  1.0    1.0     5   25.9292   77.9583   57.057520   52.55420   \n",
       "D2         1   1  1.0    1.0     3   39.4000   78.2667   64.984733   77.28750   \n",
       "D3         1   2  1.2    1.0     5   13.8625  113.2750   66.334180   75.25000   \n",
       "D4         1   1  1.0    1.0     3   27.7208  113.2750   72.575000   76.72920   \n",
       "D5         1   1  1.0    1.0     1   32.3208   32.3208   32.320800   32.32080   \n",
       "D7         1   1  1.0    1.0     1   77.9583   77.9583   77.958300   77.95830   \n",
       "E1         2   3  2.5    2.5     4    8.0500   13.0000   11.006250   11.48750   \n",
       "E2         1   1  1.0    1.0     1   26.3875   26.3875   26.387500   26.38750   \n",
       "E3         1   1  1.0    1.0     5   55.0000  134.5000   88.420840   61.17500   \n",
       "E4         1   1  1.0    1.0     3   51.8625   83.1583   63.640267   55.90000   \n",
       "E5         1   1  1.0    1.0     2   55.4417   55.4417   55.441700   55.44170   \n",
       "E6         1   1  1.0    1.0     1   38.5000   38.5000   38.500000   38.50000   \n",
       "E7         2   2  2.0    2.0     1   10.5000   10.5000   10.500000   10.50000   \n",
       "E8         1   1  1.0    1.0     1   53.1000   53.1000   53.100000   53.10000   \n",
       "F          2   2  2.0    2.0     1   13.0000   13.0000   13.000000   13.00000   \n",
       "F          3   3  3.0    3.0     3    7.2292    7.6500    7.369467    7.22920   \n",
       "F2         2   2  2.0    2.0     2   26.0000   26.0000   26.000000   26.00000   \n",
       "F3         2   2  2.0    2.0     2   10.5000   13.0000   11.750000   11.75000   \n",
       "G6         3   3  3.0    3.0     2   10.4625   16.7000   13.581250   13.58125   \n",
       "\n",
       "             \n",
       "      count  \n",
       "cabin        \n",
       "A1        3  \n",
       "A2        4  \n",
       "A3        2  \n",
       "A5        1  \n",
       "A6        1  \n",
       "B1        1  \n",
       "B2        4  \n",
       "B3        5  \n",
       "B4        6  \n",
       "B5       10  \n",
       "B6        1  \n",
       "B7        2  \n",
       "B8        2  \n",
       "B9        3  \n",
       "C1       12  \n",
       "C2        4  \n",
       "C3        3  \n",
       "C4        2  \n",
       "C5        5  \n",
       "C6        2  \n",
       "C7        2  \n",
       "C8        6  \n",
       "C9        5  \n",
       "D         3  \n",
       "D1        5  \n",
       "D2        3  \n",
       "D3        5  \n",
       "D4        3  \n",
       "D5        1  \n",
       "D7        1  \n",
       "E1        4  \n",
       "E2        1  \n",
       "E3        5  \n",
       "E4        3  \n",
       "E5        2  \n",
       "E6        1  \n",
       "E7        1  \n",
       "E8        1  \n",
       "F         1  \n",
       "F         3  \n",
       "F2        2  \n",
       "F3        2  \n",
       "G6        2  "
      ]
     },
     "execution_count": 337,
     "metadata": {},
     "output_type": "execute_result"
    }
   ],
   "source": [
    "cabin_fare = train.loc[train.cabin.notnull(),['cabin','pclass','fare']].groupby(by='cabin',as_index=False).agg(['min','max','mean','median','count'])\n",
    "cabin_fare"
   ]
  },
  {
   "cell_type": "code",
   "execution_count": 236,
   "id": "c4899012-284e-4415-97e1-894f277bf57f",
   "metadata": {},
   "outputs": [
    {
     "data": {
      "text/plain": [
       "C    41\n",
       "B    34\n",
       "D    21\n",
       "E    18\n",
       "A    11\n",
       "F     8\n",
       "G     2\n",
       "Name: CabinBand, dtype: int64"
      ]
     },
     "execution_count": 236,
     "metadata": {},
     "output_type": "execute_result"
    }
   ],
   "source": [
    "train['CabinBand'].value_counts()"
   ]
  },
  {
   "cell_type": "markdown",
   "id": "a818256c-bf6b-4621-aad2-2bb186c3ee88",
   "metadata": {},
   "source": [
    "- 선실별 생존율\n",
    "> F < A < G < C < D < B < E\n",
    "\n",
    ">> 3등석인 F와 G선실의 생존율 낮고 / 1등석이지만 A호실이 생존율이 두번째로 낮음<br>\n",
    ">> Pclass내에서도 Cabin별로 생존율이 상의하다."
   ]
  },
  {
   "cell_type": "markdown",
   "id": "dcee895c-5ef6-4e2c-9180-05e457a56390",
   "metadata": {},
   "source": [
    "- pclass안에서 cabin이 나뉘는 기준이 뭘까..?\n",
    "- 왜 cabin별로 생존율 차이가 심할까..?\n"
   ]
  },
  {
   "cell_type": "code",
   "execution_count": 407,
   "id": "bd572538-75a7-45f2-be28-b9b6800b05ee",
   "metadata": {},
   "outputs": [
    {
     "data": {
      "text/html": [
       "<div>\n",
       "<style scoped>\n",
       "    .dataframe tbody tr th:only-of-type {\n",
       "        vertical-align: middle;\n",
       "    }\n",
       "\n",
       "    .dataframe tbody tr th {\n",
       "        vertical-align: top;\n",
       "    }\n",
       "\n",
       "    .dataframe thead tr th {\n",
       "        text-align: left;\n",
       "    }\n",
       "\n",
       "    .dataframe thead tr:last-of-type th {\n",
       "        text-align: right;\n",
       "    }\n",
       "</style>\n",
       "<table border=\"1\" class=\"dataframe\">\n",
       "  <thead>\n",
       "    <tr>\n",
       "      <th></th>\n",
       "      <th></th>\n",
       "      <th colspan=\"8\" halign=\"left\">fare</th>\n",
       "    </tr>\n",
       "    <tr>\n",
       "      <th></th>\n",
       "      <th></th>\n",
       "      <th>count</th>\n",
       "      <th>mean</th>\n",
       "      <th>std</th>\n",
       "      <th>min</th>\n",
       "      <th>25%</th>\n",
       "      <th>50%</th>\n",
       "      <th>75%</th>\n",
       "      <th>max</th>\n",
       "    </tr>\n",
       "    <tr>\n",
       "      <th>CabinBand</th>\n",
       "      <th>pclass</th>\n",
       "      <th></th>\n",
       "      <th></th>\n",
       "      <th></th>\n",
       "      <th></th>\n",
       "      <th></th>\n",
       "      <th></th>\n",
       "      <th></th>\n",
       "      <th></th>\n",
       "    </tr>\n",
       "  </thead>\n",
       "  <tbody>\n",
       "    <tr>\n",
       "      <th>A</th>\n",
       "      <th>1</th>\n",
       "      <td>11.0</td>\n",
       "      <td>41.214391</td>\n",
       "      <td>17.101465</td>\n",
       "      <td>26.0000</td>\n",
       "      <td>29.850000</td>\n",
       "      <td>34.65420</td>\n",
       "      <td>50.247900</td>\n",
       "      <td>81.8583</td>\n",
       "    </tr>\n",
       "    <tr>\n",
       "      <th>B</th>\n",
       "      <th>1</th>\n",
       "      <td>34.0</td>\n",
       "      <td>112.485294</td>\n",
       "      <td>106.581257</td>\n",
       "      <td>0.0000</td>\n",
       "      <td>35.250000</td>\n",
       "      <td>80.73335</td>\n",
       "      <td>139.890600</td>\n",
       "      <td>512.3292</td>\n",
       "    </tr>\n",
       "    <tr>\n",
       "      <th>C</th>\n",
       "      <th>1</th>\n",
       "      <td>41.0</td>\n",
       "      <td>100.551322</td>\n",
       "      <td>68.221087</td>\n",
       "      <td>26.5500</td>\n",
       "      <td>52.000000</td>\n",
       "      <td>83.47500</td>\n",
       "      <td>135.633300</td>\n",
       "      <td>263.0000</td>\n",
       "    </tr>\n",
       "    <tr>\n",
       "      <th rowspan=\"2\" valign=\"top\">D</th>\n",
       "      <th>1</th>\n",
       "      <td>17.0</td>\n",
       "      <td>66.238488</td>\n",
       "      <td>26.112332</td>\n",
       "      <td>25.9292</td>\n",
       "      <td>52.554200</td>\n",
       "      <td>76.29170</td>\n",
       "      <td>77.958300</td>\n",
       "      <td>113.2750</td>\n",
       "    </tr>\n",
       "    <tr>\n",
       "      <th>2</th>\n",
       "      <td>4.0</td>\n",
       "      <td>13.695825</td>\n",
       "      <td>1.001356</td>\n",
       "      <td>12.8750</td>\n",
       "      <td>12.968750</td>\n",
       "      <td>13.43125</td>\n",
       "      <td>14.158325</td>\n",
       "      <td>15.0458</td>\n",
       "    </tr>\n",
       "    <tr>\n",
       "      <th rowspan=\"3\" valign=\"top\">E</th>\n",
       "      <th>1</th>\n",
       "      <td>13.0</td>\n",
       "      <td>66.299685</td>\n",
       "      <td>32.813798</td>\n",
       "      <td>26.3875</td>\n",
       "      <td>53.100000</td>\n",
       "      <td>55.44170</td>\n",
       "      <td>61.175000</td>\n",
       "      <td>134.5000</td>\n",
       "    </tr>\n",
       "    <tr>\n",
       "      <th>2</th>\n",
       "      <td>3.0</td>\n",
       "      <td>11.333333</td>\n",
       "      <td>1.443376</td>\n",
       "      <td>10.5000</td>\n",
       "      <td>10.500000</td>\n",
       "      <td>10.50000</td>\n",
       "      <td>11.750000</td>\n",
       "      <td>13.0000</td>\n",
       "    </tr>\n",
       "    <tr>\n",
       "      <th>3</th>\n",
       "      <td>2.0</td>\n",
       "      <td>10.262500</td>\n",
       "      <td>3.128948</td>\n",
       "      <td>8.0500</td>\n",
       "      <td>9.156250</td>\n",
       "      <td>10.26250</td>\n",
       "      <td>11.368750</td>\n",
       "      <td>12.4750</td>\n",
       "    </tr>\n",
       "    <tr>\n",
       "      <th rowspan=\"2\" valign=\"top\">F</th>\n",
       "      <th>2</th>\n",
       "      <td>5.0</td>\n",
       "      <td>17.700000</td>\n",
       "      <td>7.645260</td>\n",
       "      <td>10.5000</td>\n",
       "      <td>13.000000</td>\n",
       "      <td>13.00000</td>\n",
       "      <td>26.000000</td>\n",
       "      <td>26.0000</td>\n",
       "    </tr>\n",
       "    <tr>\n",
       "      <th>3</th>\n",
       "      <td>3.0</td>\n",
       "      <td>7.369467</td>\n",
       "      <td>0.242949</td>\n",
       "      <td>7.2292</td>\n",
       "      <td>7.229200</td>\n",
       "      <td>7.22920</td>\n",
       "      <td>7.439600</td>\n",
       "      <td>7.6500</td>\n",
       "    </tr>\n",
       "    <tr>\n",
       "      <th>G</th>\n",
       "      <th>3</th>\n",
       "      <td>2.0</td>\n",
       "      <td>13.581250</td>\n",
       "      <td>4.410579</td>\n",
       "      <td>10.4625</td>\n",
       "      <td>12.021875</td>\n",
       "      <td>13.58125</td>\n",
       "      <td>15.140625</td>\n",
       "      <td>16.7000</td>\n",
       "    </tr>\n",
       "  </tbody>\n",
       "</table>\n",
       "</div>"
      ],
      "text/plain": [
       "                  fare                                                        \\\n",
       "                 count        mean         std      min        25%       50%   \n",
       "CabinBand pclass                                                               \n",
       "A         1       11.0   41.214391   17.101465  26.0000  29.850000  34.65420   \n",
       "B         1       34.0  112.485294  106.581257   0.0000  35.250000  80.73335   \n",
       "C         1       41.0  100.551322   68.221087  26.5500  52.000000  83.47500   \n",
       "D         1       17.0   66.238488   26.112332  25.9292  52.554200  76.29170   \n",
       "          2        4.0   13.695825    1.001356  12.8750  12.968750  13.43125   \n",
       "E         1       13.0   66.299685   32.813798  26.3875  53.100000  55.44170   \n",
       "          2        3.0   11.333333    1.443376  10.5000  10.500000  10.50000   \n",
       "          3        2.0   10.262500    3.128948   8.0500   9.156250  10.26250   \n",
       "F         2        5.0   17.700000    7.645260  10.5000  13.000000  13.00000   \n",
       "          3        3.0    7.369467    0.242949   7.2292   7.229200   7.22920   \n",
       "G         3        2.0   13.581250    4.410579  10.4625  12.021875  13.58125   \n",
       "\n",
       "                                        \n",
       "                         75%       max  \n",
       "CabinBand pclass                        \n",
       "A         1        50.247900   81.8583  \n",
       "B         1       139.890600  512.3292  \n",
       "C         1       135.633300  263.0000  \n",
       "D         1        77.958300  113.2750  \n",
       "          2        14.158325   15.0458  \n",
       "E         1        61.175000  134.5000  \n",
       "          2        11.750000   13.0000  \n",
       "          3        11.368750   12.4750  \n",
       "F         2        26.000000   26.0000  \n",
       "          3         7.439600    7.6500  \n",
       "G         3        15.140625   16.7000  "
      ]
     },
     "execution_count": 407,
     "metadata": {},
     "output_type": "execute_result"
    }
   ],
   "source": [
    "cabin_cat = train[['CabinBand','fare','pclass']].groupby(by=['CabinBand','pclass']).describe()\n",
    "cabin_cat"
   ]
  },
  {
   "cell_type": "code",
   "execution_count": 313,
   "id": "0514bdd3-da70-41fc-b1f4-c6254ffa95d6",
   "metadata": {},
   "outputs": [],
   "source": [
    "cabin_BC = cabin_cat[1:3]\n",
    "cabin_FG = cabin_cat[5:8]"
   ]
  },
  {
   "cell_type": "code",
   "execution_count": 314,
   "id": "f4159b89-3d48-4bca-b2d3-4bb94e4e9d5e",
   "metadata": {},
   "outputs": [
    {
     "data": {
      "text/html": [
       "<div>\n",
       "<style scoped>\n",
       "    .dataframe tbody tr th:only-of-type {\n",
       "        vertical-align: middle;\n",
       "    }\n",
       "\n",
       "    .dataframe tbody tr th {\n",
       "        vertical-align: top;\n",
       "    }\n",
       "\n",
       "    .dataframe thead tr th {\n",
       "        text-align: left;\n",
       "    }\n",
       "\n",
       "    .dataframe thead tr:last-of-type th {\n",
       "        text-align: right;\n",
       "    }\n",
       "</style>\n",
       "<table border=\"1\" class=\"dataframe\">\n",
       "  <thead>\n",
       "    <tr>\n",
       "      <th></th>\n",
       "      <th colspan=\"4\" halign=\"left\">fare</th>\n",
       "    </tr>\n",
       "    <tr>\n",
       "      <th></th>\n",
       "      <th>mean</th>\n",
       "      <th>median</th>\n",
       "      <th>min</th>\n",
       "      <th>max</th>\n",
       "    </tr>\n",
       "    <tr>\n",
       "      <th>CabinBand</th>\n",
       "      <th></th>\n",
       "      <th></th>\n",
       "      <th></th>\n",
       "      <th></th>\n",
       "    </tr>\n",
       "  </thead>\n",
       "  <tbody>\n",
       "    <tr>\n",
       "      <th>B</th>\n",
       "      <td>112.485294</td>\n",
       "      <td>80.73335</td>\n",
       "      <td>0.00</td>\n",
       "      <td>512.3292</td>\n",
       "    </tr>\n",
       "    <tr>\n",
       "      <th>C</th>\n",
       "      <td>100.551322</td>\n",
       "      <td>83.47500</td>\n",
       "      <td>26.55</td>\n",
       "      <td>263.0000</td>\n",
       "    </tr>\n",
       "  </tbody>\n",
       "</table>\n",
       "</div>"
      ],
      "text/plain": [
       "                 fare                           \n",
       "                 mean    median    min       max\n",
       "CabinBand                                       \n",
       "B          112.485294  80.73335   0.00  512.3292\n",
       "C          100.551322  83.47500  26.55  263.0000"
      ]
     },
     "execution_count": 314,
     "metadata": {},
     "output_type": "execute_result"
    }
   ],
   "source": [
    "cabin_BC"
   ]
  },
  {
   "cell_type": "code",
   "execution_count": null,
   "id": "baf43546-3ceb-4d1c-9d73-c0664afeb000",
   "metadata": {},
   "outputs": [],
   "source": [
    "train[['"
   ]
  },
  {
   "cell_type": "code",
   "execution_count": 331,
   "id": "44eac2d6-2d96-4894-8324-f1fcff4752a1",
   "metadata": {},
   "outputs": [
    {
     "data": {
      "text/html": [
       "<div>\n",
       "<style scoped>\n",
       "    .dataframe tbody tr th:only-of-type {\n",
       "        vertical-align: middle;\n",
       "    }\n",
       "\n",
       "    .dataframe tbody tr th {\n",
       "        vertical-align: top;\n",
       "    }\n",
       "\n",
       "    .dataframe thead tr th {\n",
       "        text-align: left;\n",
       "    }\n",
       "\n",
       "    .dataframe thead tr:last-of-type th {\n",
       "        text-align: right;\n",
       "    }\n",
       "</style>\n",
       "<table border=\"1\" class=\"dataframe\">\n",
       "  <thead>\n",
       "    <tr>\n",
       "      <th></th>\n",
       "      <th colspan=\"3\" halign=\"left\">pclass</th>\n",
       "      <th colspan=\"3\" halign=\"left\">fare</th>\n",
       "    </tr>\n",
       "    <tr>\n",
       "      <th></th>\n",
       "      <th>mean</th>\n",
       "      <th>min</th>\n",
       "      <th>max</th>\n",
       "      <th>mean</th>\n",
       "      <th>min</th>\n",
       "      <th>max</th>\n",
       "    </tr>\n",
       "    <tr>\n",
       "      <th>cabin</th>\n",
       "      <th></th>\n",
       "      <th></th>\n",
       "      <th></th>\n",
       "      <th></th>\n",
       "      <th></th>\n",
       "      <th></th>\n",
       "    </tr>\n",
       "  </thead>\n",
       "  <tbody>\n",
       "    <tr>\n",
       "      <th>A1</th>\n",
       "      <td>1.0</td>\n",
       "      <td>1</td>\n",
       "      <td>1</td>\n",
       "      <td>27.806933</td>\n",
       "      <td>26.0000</td>\n",
       "      <td>29.7000</td>\n",
       "    </tr>\n",
       "    <tr>\n",
       "      <th>A2</th>\n",
       "      <td>1.0</td>\n",
       "      <td>1</td>\n",
       "      <td>1</td>\n",
       "      <td>41.981250</td>\n",
       "      <td>30.0000</td>\n",
       "      <td>56.9292</td>\n",
       "    </tr>\n",
       "    <tr>\n",
       "      <th>A3</th>\n",
       "      <td>1.0</td>\n",
       "      <td>1</td>\n",
       "      <td>1</td>\n",
       "      <td>65.929150</td>\n",
       "      <td>50.0000</td>\n",
       "      <td>81.8583</td>\n",
       "    </tr>\n",
       "    <tr>\n",
       "      <th>A5</th>\n",
       "      <td>1.0</td>\n",
       "      <td>1</td>\n",
       "      <td>1</td>\n",
       "      <td>34.654200</td>\n",
       "      <td>34.6542</td>\n",
       "      <td>34.6542</td>\n",
       "    </tr>\n",
       "    <tr>\n",
       "      <th>A6</th>\n",
       "      <td>1.0</td>\n",
       "      <td>1</td>\n",
       "      <td>1</td>\n",
       "      <td>35.500000</td>\n",
       "      <td>35.5000</td>\n",
       "      <td>35.5000</td>\n",
       "    </tr>\n",
       "    <tr>\n",
       "      <th>E1</th>\n",
       "      <td>2.5</td>\n",
       "      <td>2</td>\n",
       "      <td>3</td>\n",
       "      <td>11.006250</td>\n",
       "      <td>8.0500</td>\n",
       "      <td>13.0000</td>\n",
       "    </tr>\n",
       "    <tr>\n",
       "      <th>E2</th>\n",
       "      <td>1.0</td>\n",
       "      <td>1</td>\n",
       "      <td>1</td>\n",
       "      <td>26.387500</td>\n",
       "      <td>26.3875</td>\n",
       "      <td>26.3875</td>\n",
       "    </tr>\n",
       "    <tr>\n",
       "      <th>E3</th>\n",
       "      <td>1.0</td>\n",
       "      <td>1</td>\n",
       "      <td>1</td>\n",
       "      <td>88.420840</td>\n",
       "      <td>55.0000</td>\n",
       "      <td>134.5000</td>\n",
       "    </tr>\n",
       "    <tr>\n",
       "      <th>E4</th>\n",
       "      <td>1.0</td>\n",
       "      <td>1</td>\n",
       "      <td>1</td>\n",
       "      <td>63.640267</td>\n",
       "      <td>51.8625</td>\n",
       "      <td>83.1583</td>\n",
       "    </tr>\n",
       "    <tr>\n",
       "      <th>E5</th>\n",
       "      <td>1.0</td>\n",
       "      <td>1</td>\n",
       "      <td>1</td>\n",
       "      <td>55.441700</td>\n",
       "      <td>55.4417</td>\n",
       "      <td>55.4417</td>\n",
       "    </tr>\n",
       "    <tr>\n",
       "      <th>E6</th>\n",
       "      <td>1.0</td>\n",
       "      <td>1</td>\n",
       "      <td>1</td>\n",
       "      <td>38.500000</td>\n",
       "      <td>38.5000</td>\n",
       "      <td>38.5000</td>\n",
       "    </tr>\n",
       "    <tr>\n",
       "      <th>E7</th>\n",
       "      <td>2.0</td>\n",
       "      <td>2</td>\n",
       "      <td>2</td>\n",
       "      <td>10.500000</td>\n",
       "      <td>10.5000</td>\n",
       "      <td>10.5000</td>\n",
       "    </tr>\n",
       "    <tr>\n",
       "      <th>E8</th>\n",
       "      <td>1.0</td>\n",
       "      <td>1</td>\n",
       "      <td>1</td>\n",
       "      <td>53.100000</td>\n",
       "      <td>53.1000</td>\n",
       "      <td>53.1000</td>\n",
       "    </tr>\n",
       "  </tbody>\n",
       "</table>\n",
       "</div>"
      ],
      "text/plain": [
       "      pclass               fare                   \n",
       "        mean min max       mean      min       max\n",
       "cabin                                             \n",
       "A1       1.0   1   1  27.806933  26.0000   29.7000\n",
       "A2       1.0   1   1  41.981250  30.0000   56.9292\n",
       "A3       1.0   1   1  65.929150  50.0000   81.8583\n",
       "A5       1.0   1   1  34.654200  34.6542   34.6542\n",
       "A6       1.0   1   1  35.500000  35.5000   35.5000\n",
       "E1       2.5   2   3  11.006250   8.0500   13.0000\n",
       "E2       1.0   1   1  26.387500  26.3875   26.3875\n",
       "E3       1.0   1   1  88.420840  55.0000  134.5000\n",
       "E4       1.0   1   1  63.640267  51.8625   83.1583\n",
       "E5       1.0   1   1  55.441700  55.4417   55.4417\n",
       "E6       1.0   1   1  38.500000  38.5000   38.5000\n",
       "E7       2.0   2   2  10.500000  10.5000   10.5000\n",
       "E8       1.0   1   1  53.100000  53.1000   53.1000"
      ]
     },
     "execution_count": 331,
     "metadata": {},
     "output_type": "execute_result"
    }
   ],
   "source": [
    "train.loc[(train['CabinBand']=='A') | (train['CabinBand']=='E'),['cabin','pclass','fare']].groupby(by='cabin',as_index=False).agg(['mean','min','max'])"
   ]
  },
  {
   "cell_type": "code",
   "execution_count": 350,
   "id": "fec178f4-5623-4bbc-9692-18444aa9188e",
   "metadata": {},
   "outputs": [
    {
     "data": {
      "text/plain": [
       "3    348\n",
       "1    152\n",
       "2    141\n",
       "Name: pclass, dtype: int64"
      ]
     },
     "execution_count": 350,
     "metadata": {},
     "output_type": "execute_result"
    }
   ],
   "source": [
    "train.pclass.value_counts()"
   ]
  },
  {
   "cell_type": "code",
   "execution_count": 361,
   "id": "d0182aec-18b9-46a0-9467-5506da772f5e",
   "metadata": {},
   "outputs": [],
   "source": [
    "pclass_3 = train.loc[train['pclass']==3, ['pclass','fare']]"
   ]
  },
  {
   "cell_type": "code",
   "execution_count": 365,
   "id": "b1a9f668-d0a0-4eb4-baa1-b07654cb5ad7",
   "metadata": {},
   "outputs": [],
   "source": [
    "pclass_3 = train.loc[train['pclass']==3, 'fare']"
   ]
  },
  {
   "cell_type": "code",
   "execution_count": 366,
   "id": "4e96fa9e-593b-4995-8ad9-a57016f80533",
   "metadata": {},
   "outputs": [
    {
     "data": {
      "text/plain": [
       "<seaborn.axisgrid.FacetGrid at 0x190a027a340>"
      ]
     },
     "execution_count": 366,
     "metadata": {},
     "output_type": "execute_result"
    },
    {
     "data": {
      "image/png": "[encoded data removed]",
      "text/plain": [
       "<Figure size 500x500 with 1 Axes>"
      ]
     },
     "metadata": {},
     "output_type": "display_data"
    }
   ],
   "source": [
    "sns.displot(pclass_3 , color = 'b', label ='Skewness : %.2f'%(pclass_3.skew()))"
   ]
  },
  {
   "cell_type": "code",
   "execution_count": 353,
   "id": "a8287fcd-2506-4998-a1ce-ce52be7cfebc",
   "metadata": {},
   "outputs": [
    {
     "data": {
      "text/plain": [
       "<AxesSubplot:xlabel='pclass', ylabel='fare'>"
      ]
     },
     "execution_count": 353,
     "metadata": {},
     "output_type": "execute_result"
    },
    {
     "data": {
      "image/png": "[encoded data removed]",
      "text/plain": [
       "<Figure size 640x480 with 1 Axes>"
      ]
     },
     "metadata": {},
     "output_type": "display_data"
    }
   ],
   "source": [
    "sns.boxplot(x='pclass',y='fare',data=train)"
   ]
  },
  {
   "cell_type": "code",
   "execution_count": 368,
   "id": "4621be52-af2f-462a-ae5a-d549d3e82ac5",
   "metadata": {},
   "outputs": [
    {
     "data": {
      "text/plain": [
       "pclass      \n",
       "1       0.25    30.000000\n",
       "        0.75    91.684400\n",
       "2       0.25    13.000000\n",
       "        0.75    26.000000\n",
       "3       0.25     7.750000\n",
       "        0.75    14.468725\n",
       "Name: fare, dtype: float64"
      ]
     },
     "execution_count": 368,
     "metadata": {},
     "output_type": "execute_result"
    }
   ],
   "source": [
    "train.groupby(['pclass'])['fare'].quantile([0.25,0.75])"
   ]
  },
  {
   "cell_type": "code",
   "execution_count": 371,
   "id": "f86d84fa-5470-47ee-8a7c-f32a38f5ae1d",
   "metadata": {},
   "outputs": [],
   "source": [
    "pclass_1 = train.loc[train['pclass']== 1,'fare']\n",
    "pclass_2 = train.loc[train['pclass']== 2,'fare']\n",
    "pclass_3 = train.loc[train['pclass']== 3,'fare']"
   ]
  },
  {
   "cell_type": "code",
   "execution_count": 402,
   "id": "a8b0e514-88ed-46ba-980c-a57ece9c29f4",
   "metadata": {},
   "outputs": [],
   "source": [
    "def outlier(data):\n",
    "    quantile =  data.quantile([0.25,0.75])\n",
    "    iqr = quantile.values[1]-quantile.values[0]\n",
    "    Upper_boundary = quantile.values[1] + 1.5*iqr\n",
    "    Lower_boundary = quantile.values[0] - 1.5*iqr\n",
    "    return Lower_boundary,Upper_boundary"
   ]
  },
  {
   "cell_type": "code",
   "execution_count": 404,
   "id": "ef4c6854-52e8-4418-91d1-2d16e3344554",
   "metadata": {},
   "outputs": [
    {
     "name": "stdout",
     "output_type": "stream",
     "text": [
      "outlier_1 : (-62.5266, 184.211)\n",
      "outlier_2 : (-6.5, 45.5)\n",
      "outlier_3 : (-2.3280874999999988, 24.546812499999998)\n"
     ]
    }
   ],
   "source": [
    "print(f'outlier_1 : {outlier(pclass_1)}')\n",
    "print(f'outlier_2 : {outlier(pclass_2)}')\n",
    "print(f'outlier_3 : {outlier(pclass_3)}')"
   ]
  },
  {
   "cell_type": "code",
   "execution_count": 330,
   "id": "b6a1513a-ea4a-4a91-b530-98eb50714615",
   "metadata": {},
   "outputs": [
    {
     "data": {
      "text/plain": [
       "<AxesSubplot:xlabel='fare', ylabel='CabinBand'>"
      ]
     },
     "execution_count": 330,
     "metadata": {},
     "output_type": "execute_result"
    },
    {
     "data": {
      "image/png": "[encoded data removed]",
      "text/plain": [
       "<Figure size 640x480 with 1 Axes>"
      ]
     },
     "metadata": {},
     "output_type": "display_data"
    }
   ],
   "source": [
    "sns.boxplot(x=train['fare'],y=train['CabinBand'],data=df)"
   ]
  },
  {
   "cell_type": "code",
   "execution_count": null,
   "id": "cf2b57b0-0afa-4060-b2f0-5389ad891c1a",
   "metadata": {},
   "outputs": [],
   "source": [
    "- 선실별 비용 중앙값\n",
    "1emd : A < D < E < B < C\n",
    "2"
   ]
  },
  {
   "cell_type": "code",
   "execution_count": 247,
   "id": "d5843d70-a8ab-41fd-92f5-5952dca605b1",
   "metadata": {},
   "outputs": [
    {
     "data": {
      "text/plain": [
       "<AxesSubplot:xlabel='pclass', ylabel='survived'>"
      ]
     },
     "execution_count": 247,
     "metadata": {},
     "output_type": "execute_result"
    },
    {
     "data": {
      "image/png": "[encoded data removed]",
      "text/plain": [
       "<Figure size 640x480 with 1 Axes>"
      ]
     },
     "metadata": {},
     "output_type": "display_data"
    }
   ],
   "source": [
    "sns.barplot(x='pclass',y='survived',hue='CabinBand',data=train)"
   ]
  },
  {
   "cell_type": "code",
   "execution_count": 138,
   "id": "24b57a47-b2a3-45fd-837c-1438e8d16a5a",
   "metadata": {},
   "outputs": [
    {
     "data": {
      "text/plain": [
       "C    41\n",
       "B    34\n",
       "D    17\n",
       "E    13\n",
       "A    11\n",
       "Name: cabin, dtype: int64"
      ]
     },
     "execution_count": 138,
     "metadata": {},
     "output_type": "execute_result"
    }
   ],
   "source": [
    "train.loc[(train.pclass==1)&(train.cabin.notnull()),'cabin'].value_counts()"
   ]
  },
  {
   "cell_type": "code",
   "execution_count": 181,
   "id": "4065b68f-a610-48f9-965e-aba227d39f35",
   "metadata": {},
   "outputs": [
    {
     "data": {
      "text/plain": [
       "array([nan, 'B', 'C', 'E', 'A', 'D', 'G', 'F'], dtype=object)"
      ]
     },
     "execution_count": 181,
     "metadata": {},
     "output_type": "execute_result"
    }
   ],
   "source": [
    "train.cabin.unique()"
   ]
  },
  {
   "cell_type": "code",
   "execution_count": 189,
   "id": "8eb4bdc0-c857-4de3-aac8-0c6fe2ad3b36",
   "metadata": {},
   "outputs": [
    {
     "data": {
      "text/plain": [
       "<AxesSubplot:xlabel='fare', ylabel='cabin'>"
      ]
     },
     "execution_count": 189,
     "metadata": {},
     "output_type": "execute_result"
    },
    {
     "data": {
      "image/png": "[encoded data removed]",
      "text/plain": [
       "<Figure size 640x480 with 1 Axes>"
      ]
     },
     "metadata": {},
     "output_type": "display_data"
    }
   ],
   "source": [
    "sns.barplot(data=train,x='fare',y='cabin',hue='pclass')"
   ]
  },
  {
   "cell_type": "code",
   "execution_count": 102,
   "id": "85686f5e-06f7-4fe4-8a8e-acf6c44a930c",
   "metadata": {},
   "outputs": [
    {
     "data": {
      "text/plain": [
       "cabin\n",
       "G     16.7000\n",
       "F     26.0000\n",
       "A     81.8583\n",
       "D    113.2750\n",
       "E    134.5000\n",
       "C    263.0000\n",
       "B    512.3292\n",
       "Name: fare, dtype: float64"
      ]
     },
     "execution_count": 102,
     "metadata": {},
     "output_type": "execute_result"
    }
   ],
   "source": [
    "cabin_fare_max.fare.sort_values()"
   ]
  },
  {
   "cell_type": "markdown",
   "id": "1430e9d0",
   "metadata": {},
   "source": [
    "#### New Features "
   ]
  },
  {
   "cell_type": "markdown",
   "id": "af5e8e4e-43a0-42cc-b07b-4f5b7253b127",
   "metadata": {},
   "source": [
    "##### name title"
   ]
  },
  {
   "cell_type": "code",
   "execution_count": 73,
   "id": "0a99f70c",
   "metadata": {},
   "outputs": [
    {
     "data": {
      "text/plain": [
       "812                                   Ohman, Miss. Velin\n",
       "134                                  Buckley, Mr. Daniel\n",
       "390                                    Jonsson, Mr. Carl\n",
       "305                             Hassan, Mr. Houssein G N\n",
       "203                                      Corn, Mr. Harry\n",
       "                             ...                        \n",
       "273                                    Davis, Miss. Mary\n",
       "343                            Mulvihill, Miss. Bertha E\n",
       "450    Lindeberg-Lind, Mr. Erik Gustaf (Mr Edward Lin...\n",
       "94                          Panula, Master. Urho Abraham\n",
       "277                               Hunt, Mr. George Henry\n",
       "Name: name, Length: 641, dtype: object"
      ]
     },
     "execution_count": 73,
     "metadata": {},
     "output_type": "execute_result"
    }
   ],
   "source": [
    "train.name"
   ]
  },
  {
   "cell_type": "code",
   "execution_count": 74,
   "id": "73d81599",
   "metadata": {
    "tags": []
   },
   "outputs": [
    {
     "name": "stdout",
     "output_type": "stream",
     "text": [
      "before: ((641, 11), (275, 11), (393, 10))\n",
      "after: ((641, 12), (275, 12), (393, 11))\n"
     ]
    }
   ],
   "source": [
    "print(f'before: {train.shape , test.shape , raw_test.shape}')\n",
    "\n",
    "train['title'] = train.name.map(lambda x : x.split(',')[1].split('.')[0])\n",
    "test['title'] = test.name.map(lambda x : x.split(',')[1].split('.')[0])\n",
    "raw_test['title'] = raw_test.name.map(lambda x : x.split(',')[1].split('.')[0])\n",
    "\n",
    "print(f'after: {train.shape , test.shape , raw_test.shape}')"
   ]
  },
  {
   "cell_type": "code",
   "execution_count": 75,
   "id": "a10a6086-ec17-4fe2-a509-f478d3c74ed8",
   "metadata": {},
   "outputs": [
    {
     "data": {
      "text/plain": [
       " Mr          370\n",
       " Miss        126\n",
       " Mrs         106\n",
       " Master       22\n",
       " Rev           4\n",
       " Dr            3\n",
       " Col           3\n",
       " Major         2\n",
       " Capt          1\n",
       " Mlle          1\n",
       " Ms            1\n",
       " Sir           1\n",
       " Jonkheer      1\n",
       "Name: title, dtype: int64"
      ]
     },
     "execution_count": 75,
     "metadata": {},
     "output_type": "execute_result"
    }
   ],
   "source": [
    "train.title.value_counts()"
   ]
  },
  {
   "cell_type": "code",
   "execution_count": 76,
   "id": "a121d0e1",
   "metadata": {
    "tags": []
   },
   "outputs": [
    {
     "data": {
      "text/plain": [
       "[' Mr', ' Miss', ' Mrs']"
      ]
     },
     "execution_count": 76,
     "metadata": {},
     "output_type": "execute_result"
    }
   ],
   "source": [
    "list(train['title'].value_counts().index[:3])"
   ]
  },
  {
   "cell_type": "code",
   "execution_count": 77,
   "id": "8694abe6",
   "metadata": {
    "tags": []
   },
   "outputs": [],
   "source": [
    "def add_title(title):\n",
    "    result = 'Other'\n",
    "    try:\n",
    "        if title in list(train['title'].value_counts().index[:3]):\n",
    "            return title\n",
    "        else:\n",
    "            return result\n",
    "    except:\n",
    "        return result\n",
    "    \n",
    "train['title'] = train['title'].map(lambda x : add_title(x))\n",
    "test['title'] = test['title'].map(lambda x : add_title(x))\n",
    "raw_test['title'] = raw_test['title'].map(lambda x : add_title(x))"
   ]
  },
  {
   "cell_type": "code",
   "execution_count": 78,
   "id": "066f8de1",
   "metadata": {
    "tags": []
   },
   "outputs": [
    {
     "data": {
      "text/plain": [
       "(array([' Miss', ' Mr', ' Mrs', 'Other'], dtype=object),\n",
       " array([' Mr', 'Other', ' Miss', ' Mrs'], dtype=object),\n",
       " array([' Miss', ' Mrs', ' Mr', 'Other'], dtype=object))"
      ]
     },
     "execution_count": 78,
     "metadata": {},
     "output_type": "execute_result"
    }
   ],
   "source": [
    "train['title'].unique(), test['title'].unique(), raw_test['title'].unique()"
   ]
  },
  {
   "cell_type": "code",
   "execution_count": 79,
   "id": "c5d88b61",
   "metadata": {
    "tags": []
   },
   "outputs": [],
   "source": [
    "train['title'] = train['title'].map(lambda x : x.strip())\n",
    "test['title'] = test['title'].map(lambda x : x.strip())\n",
    "raw_test['title'] = raw_test['title'].map(lambda x : x.strip())"
   ]
  },
  {
   "cell_type": "code",
   "execution_count": 80,
   "id": "9c9ca94f",
   "metadata": {
    "tags": []
   },
   "outputs": [
    {
     "data": {
      "text/plain": [
       "array(['Miss', 'Mr', 'Mrs', 'Other'], dtype=object)"
      ]
     },
     "execution_count": 80,
     "metadata": {},
     "output_type": "execute_result"
    }
   ],
   "source": [
    "train.title.unique()"
   ]
  },
  {
   "cell_type": "code",
   "execution_count": 81,
   "id": "a5642929",
   "metadata": {
    "tags": []
   },
   "outputs": [
    {
     "name": "stdout",
     "output_type": "stream",
     "text": [
      "before: ((641, 12), (275, 12), (393, 11))\n",
      "after: ((641, 11), (275, 11), (393, 10))\n"
     ]
    }
   ],
   "source": [
    "#name 삭제\n",
    "print(f'before: {train.shape , test.shape , raw_test.shape}')\n",
    "\n",
    "del train['name']\n",
    "del test['name']\n",
    "del raw_test['name']\n",
    "\n",
    "print(f'after: {train.shape , test.shape , raw_test.shape}')"
   ]
  },
  {
   "cell_type": "markdown",
   "id": "c4f0b084-3099-43c3-8d5f-c54d1ef09171",
   "metadata": {},
   "source": [
    "##### age \n",
    "- 연령대별로 범주화"
   ]
  },
  {
   "cell_type": "code",
   "execution_count": 82,
   "id": "ef8ea57d-9c6b-47cf-a7b5-4e273aa473ce",
   "metadata": {},
   "outputs": [
    {
     "data": {
      "text/html": [
       "<div>\n",
       "<style scoped>\n",
       "    .dataframe tbody tr th:only-of-type {\n",
       "        vertical-align: middle;\n",
       "    }\n",
       "\n",
       "    .dataframe tbody tr th {\n",
       "        vertical-align: top;\n",
       "    }\n",
       "\n",
       "    .dataframe thead tr th {\n",
       "        text-align: left;\n",
       "    }\n",
       "\n",
       "    .dataframe thead tr:last-of-type th {\n",
       "        text-align: right;\n",
       "    }\n",
       "</style>\n",
       "<table border=\"1\" class=\"dataframe\">\n",
       "  <thead>\n",
       "    <tr>\n",
       "      <th></th>\n",
       "      <th colspan=\"3\" halign=\"left\">survived</th>\n",
       "    </tr>\n",
       "    <tr>\n",
       "      <th></th>\n",
       "      <th>mean</th>\n",
       "      <th>sum</th>\n",
       "      <th>count</th>\n",
       "    </tr>\n",
       "    <tr>\n",
       "      <th>AgeBand</th>\n",
       "      <th></th>\n",
       "      <th></th>\n",
       "      <th></th>\n",
       "    </tr>\n",
       "  </thead>\n",
       "  <tbody>\n",
       "    <tr>\n",
       "      <th>(0.0902, 16.136]</th>\n",
       "      <td>0.446429</td>\n",
       "      <td>25</td>\n",
       "      <td>56</td>\n",
       "    </tr>\n",
       "    <tr>\n",
       "      <th>(16.136, 32.102]</th>\n",
       "      <td>0.385185</td>\n",
       "      <td>104</td>\n",
       "      <td>270</td>\n",
       "    </tr>\n",
       "    <tr>\n",
       "      <th>(32.102, 48.068]</th>\n",
       "      <td>0.330709</td>\n",
       "      <td>42</td>\n",
       "      <td>127</td>\n",
       "    </tr>\n",
       "    <tr>\n",
       "      <th>(48.068, 64.034]</th>\n",
       "      <td>0.510204</td>\n",
       "      <td>25</td>\n",
       "      <td>49</td>\n",
       "    </tr>\n",
       "    <tr>\n",
       "      <th>(64.034, 80.0]</th>\n",
       "      <td>0.200000</td>\n",
       "      <td>2</td>\n",
       "      <td>10</td>\n",
       "    </tr>\n",
       "  </tbody>\n",
       "</table>\n",
       "</div>"
      ],
      "text/plain": [
       "                  survived           \n",
       "                      mean  sum count\n",
       "AgeBand                              \n",
       "(0.0902, 16.136]  0.446429   25    56\n",
       "(16.136, 32.102]  0.385185  104   270\n",
       "(32.102, 48.068]  0.330709   42   127\n",
       "(48.068, 64.034]  0.510204   25    49\n",
       "(64.034, 80.0]    0.200000    2    10"
      ]
     },
     "execution_count": 82,
     "metadata": {},
     "output_type": "execute_result"
    }
   ],
   "source": [
    "train['AgeBand'] = pd.cut(train['age'],5)\n",
    "train[['AgeBand','survived']].groupby(['AgeBand'],as_index=False).agg(['mean','sum','count'])"
   ]
  },
  {
   "cell_type": "code",
   "execution_count": null,
   "id": "634deae3-5f49-423a-9000-3595d306f2f6",
   "metadata": {},
   "outputs": [],
   "source": [
    "#age를 범주형으로 변환\n",
    "for dataset in combine:    \n",
    "    dataset.loc[ dataset['age'] <= 16, 'age'] = 0\n",
    "    dataset.loc[(dataset['age'] > 16) & (dataset['age'] <= 32), 'age'] = 1\n",
    "    dataset.loc[(dataset['age'] > 32) & (dataset['age'] <= 48), 'age'] = 2\n",
    "    dataset.loc[(dataset['age'] > 48) & (dataset['age'] <= 64), 'age'] = 3\n",
    "    dataset.loc[ dataset['age'] > 64, 'age'] = 4\n",
    "train.head()"
   ]
  },
  {
   "cell_type": "code",
   "execution_count": null,
   "id": "85f1966d-0cd0-4352-9c5a-c76aea5db14f",
   "metadata": {},
   "outputs": [],
   "source": [
    "train.info()"
   ]
  },
  {
   "cell_type": "code",
   "execution_count": null,
   "id": "1a331a9d-8a47-4b03-9130-f57e4ebbc27d",
   "metadata": {},
   "outputs": [],
   "source": [
    "#age type 변경\n",
    "train['age']=train.age.astype('int64')\n",
    "test['age']=test.age.astype('int64')\n",
    "raw_test['age']=raw_test.age.astype('int64')\n",
    "train.info()"
   ]
  },
  {
   "cell_type": "code",
   "execution_count": null,
   "id": "8f90fc12-649c-410f-b439-11e20fb96b83",
   "metadata": {},
   "outputs": [],
   "source": [
    "train[['age','AgeBand']]  #확인"
   ]
  },
  {
   "cell_type": "code",
   "execution_count": null,
   "id": "f10cbade-4771-4f52-9fb9-2dd43a60435d",
   "metadata": {},
   "outputs": [],
   "source": [
    "# AgeBand 삭제\n",
    "del train['AgeBand']"
   ]
  },
  {
   "cell_type": "markdown",
   "id": "109cad7d-a2a0-403e-b102-7cd9a600d13c",
   "metadata": {},
   "source": [
    "##### FamilySize \n",
    "- parch와 sibsp 이용"
   ]
  },
  {
   "cell_type": "code",
   "execution_count": null,
   "id": "307b5b71-03b9-4e3e-9e0b-22dc0f2bd236",
   "metadata": {},
   "outputs": [],
   "source": [
    "print(f'before: {train.shape , test.shape , raw_test.shape}')\n",
    "\n",
    "combine = [train, test , raw_test]\n",
    "for dataset in combine:\n",
    "    dataset['FamilySize'] = dataset['parch'] + dataset['sibsp'] + 1 \n",
    "\n",
    "train[['FamilySize','survived']].groupby(['FamilySize'],as_index=False).mean().sort_values(by='survived',ascending=False)\n",
    "\n",
    "print(f'after: {train.shape , test.shape , raw_test.shape}')"
   ]
  },
  {
   "cell_type": "markdown",
   "id": "c0aa2361-2cf2-4ffb-981b-8b0bef97c89e",
   "metadata": {},
   "source": [
    "##### IsAlone\n",
    "\n",
    "- 1인가구인지?"
   ]
  },
  {
   "cell_type": "code",
   "execution_count": null,
   "id": "c19b5453-35c6-4073-abc4-898b150f3d02",
   "metadata": {},
   "outputs": [],
   "source": [
    "print(f'before: {train.shape , test.shape , raw_test.shape}')\n",
    "\n",
    "for dataset in combine:\n",
    "    dataset['IsAlone'] = 0\n",
    "    dataset.loc[dataset['FamilySize'] == 1,'IsAlone']=1\n",
    "\n",
    "print(f'after: {train.shape , test.shape , raw_test.shape}')"
   ]
  },
  {
   "cell_type": "code",
   "execution_count": null,
   "id": "08406874-96be-44cb-92bc-84fac92f6c4e",
   "metadata": {},
   "outputs": [],
   "source": [
    "train[['IsAlone','survived']].groupby(['IsAlone'],as_index=False).mean()"
   ]
  },
  {
   "cell_type": "markdown",
   "id": "d3963895",
   "metadata": {},
   "source": [
    "### Data Encoding"
   ]
  },
  {
   "cell_type": "code",
   "execution_count": null,
   "id": "5073320b",
   "metadata": {
    "tags": []
   },
   "outputs": [],
   "source": [
    "from sklearn.preprocessing import OneHotEncoder"
   ]
  },
  {
   "cell_type": "code",
   "execution_count": null,
   "id": "cdd5d4cd",
   "metadata": {
    "tags": []
   },
   "outputs": [],
   "source": [
    "train.describe(exclude=np.number)  #범주형"
   ]
  },
  {
   "cell_type": "code",
   "execution_count": null,
   "id": "4a4652f2",
   "metadata": {
    "tags": []
   },
   "outputs": [],
   "source": [
    "train.isnull().sum().sum() ,test.isnull().sum().sum(), raw_test.isnull().sum().sum()"
   ]
  },
  {
   "cell_type": "code",
   "execution_count": null,
   "id": "0dec397c",
   "metadata": {
    "tags": []
   },
   "outputs": [],
   "source": [
    "enc_cols = ['gender','embarked','title']\n",
    "normal_cols = train.columns.difference(['gender','embarked','title'])\n",
    "\n",
    "#raw_test용 (survived를 제외시킨 column)\n",
    "normal_cols_ori = normal_cols      \n",
    "normal_cols_ori = normal_cols_ori.drop('survived')\n",
    "\n",
    "normal_cols , normal_cols_ori"
   ]
  },
  {
   "cell_type": "code",
   "execution_count": null,
   "id": "a1018378",
   "metadata": {
    "tags": []
   },
   "outputs": [],
   "source": [
    "print(f'before: {train.shape} / {test.shape} / {enc_raw_te.shape}')\n",
    "\n",
    "enc = OneHotEncoder()\n",
    "\n",
    "#train\n",
    "tmp_tr = pd.DataFrame(                              \n",
    "    enc.fit_transform(train[enc_cols]).toarray(),   \n",
    "    columns = enc.get_feature_names_out()           \n",
    ")\n",
    "enc_tr = pd.concat(\n",
    "    [train[normal_cols].reset_index(drop=True), tmp_tr.reset_index(drop=True)]    \n",
    "    , axis=1\n",
    ")\n",
    "\n",
    "# # test\n",
    "tmp_te = pd.DataFrame(\n",
    "    enc.transform(test[enc_cols]).toarray(), \n",
    "    columns = enc.get_feature_names_out()\n",
    ")\n",
    "enc_te = pd.concat(\n",
    "    [test[normal_cols].reset_index(drop=True), tmp_te.reset_index(drop=True)]\n",
    "    , axis=1\n",
    ")\n",
    "\n",
    "# raw_test\n",
    "tmp_te = pd.DataFrame(\n",
    "    enc.transform(raw_test[enc_cols]).toarray(), \n",
    "    columns = enc.get_feature_names_out()\n",
    ")\n",
    "\n",
    "enc_raw_te = pd.concat(\n",
    "    [raw_test[normal_cols_ori].reset_index(drop=True), tmp_te.reset_index(drop=True)]\n",
    "    , axis=1\n",
    ")\n",
    "\n",
    "print(f'after: {enc_tr.shape} / {enc_te.shape} / {enc_raw_te.shape}')\n",
    "enc_te.head()"
   ]
  },
  {
   "cell_type": "markdown",
   "id": "46befce7-2719-446d-b830-cf4716c9993e",
   "metadata": {},
   "source": [
    "#### target, feature 분리"
   ]
  },
  {
   "cell_type": "code",
   "execution_count": null,
   "id": "c617e28a",
   "metadata": {
    "tags": []
   },
   "outputs": [],
   "source": [
    "#enc_tr\n",
    "y_tr = enc_tr['survived']                   #타겟 데이터\n",
    "X_tr = enc_tr.drop(['survived'], axis=1)    #Feature 데이터만"
   ]
  },
  {
   "cell_type": "code",
   "execution_count": null,
   "id": "f4a01763",
   "metadata": {
    "tags": []
   },
   "outputs": [],
   "source": [
    "X_tr.head()"
   ]
  },
  {
   "cell_type": "code",
   "execution_count": null,
   "id": "de32e72a",
   "metadata": {
    "tags": []
   },
   "outputs": [],
   "source": [
    "#enc_te\n",
    "y_te = enc_te['survived']                   #타겟 데이터\n",
    "X_te = enc_te.drop(['survived'], axis=1)    #Feature 데이터만"
   ]
  },
  {
   "cell_type": "code",
   "execution_count": null,
   "id": "deb96c67",
   "metadata": {},
   "outputs": [],
   "source": [
    "print(f'after: {X_tr.shape} / {X_te.shape} / {enc_raw_te.shape}')"
   ]
  },
  {
   "cell_type": "markdown",
   "id": "9ca5db6b-8086-4977-8315-537ac785fe88",
   "metadata": {},
   "source": [
    "### Training"
   ]
  },
  {
   "cell_type": "markdown",
   "id": "76e7fd9d",
   "metadata": {},
   "source": [
    "#### CatBoost\n"
   ]
  },
  {
   "cell_type": "code",
   "execution_count": null,
   "id": "d49f24a0",
   "metadata": {},
   "outputs": [],
   "source": [
    "# !pip install catboost"
   ]
  },
  {
   "cell_type": "code",
   "execution_count": null,
   "id": "4a44e145",
   "metadata": {
    "tags": []
   },
   "outputs": [],
   "source": [
    "from catboost import CatBoostClassifier"
   ]
  },
  {
   "cell_type": "code",
   "execution_count": null,
   "id": "fdb0f1ef",
   "metadata": {
    "tags": []
   },
   "outputs": [],
   "source": [
    "hp = {\n",
    "    \"random_state\" : 42,\n",
    "    \"verbose\" : 0 # 부스팅 단계 출력 안보이게 하기\n",
    "}\n",
    "\n",
    "model1 = CatBoostClassifier(**hp).fit(X_tr, y_tr)"
   ]
  },
  {
   "cell_type": "code",
   "execution_count": null,
   "id": "188f9c2f",
   "metadata": {
    "tags": []
   },
   "outputs": [],
   "source": [
    "#AUC\n",
    "from sklearn.metrics import roc_curve, auc \n",
    "\n",
    "y_pred = model1.predict_proba(X_te)[:,1]   # 예측값 / proba : 확률 예측  > 0과 1사이에 있는 값이 나옴 > 이 값을 submit 파일에 올리면 됨\n",
    "fpr, tpr, thresholds = roc_curve(y_te,y_pred)\n",
    "auc_te = auc(fpr, tpr)\n",
    "print(f'model: {auc_te}')"
   ]
  },
  {
   "cell_type": "markdown",
   "id": "b2a36b83",
   "metadata": {},
   "source": [
    "#### Light GBM"
   ]
  },
  {
   "cell_type": "code",
   "execution_count": null,
   "id": "ac2318aa",
   "metadata": {
    "tags": []
   },
   "outputs": [],
   "source": [
    "from lightgbm import LGBMClassifier ,plot_importance\n",
    "\n",
    "model2 = LGBMClassifier(random_state=42).fit(X_tr,y_tr)"
   ]
  },
  {
   "cell_type": "code",
   "execution_count": null,
   "id": "ed35fd24",
   "metadata": {
    "tags": []
   },
   "outputs": [],
   "source": [
    "from sklearn.metrics import roc_curve, auc\n",
    "\n",
    "#AUC\n",
    "y_pred = model2.predict_proba(X_te)[:,1]\n",
    "fpr, tpr, thresholds = roc_curve(y_te,y_pred)\n",
    "auc_te = auc(fpr, tpr)\n",
    "print(f'model: {auc_te}')"
   ]
  },
  {
   "cell_type": "code",
   "execution_count": null,
   "id": "e4e1a65d-844e-44db-ba14-8c07fc33394b",
   "metadata": {},
   "outputs": [],
   "source": [
    "plot_importance(model2)\n",
    "plt.show()"
   ]
  },
  {
   "cell_type": "markdown",
   "id": "02da5388",
   "metadata": {},
   "source": [
    "#### XGboost"
   ]
  },
  {
   "cell_type": "code",
   "execution_count": null,
   "id": "e5fd15da",
   "metadata": {
    "tags": []
   },
   "outputs": [],
   "source": [
    "from xgboost import XGBClassifier ,plot_importance\n",
    "\n",
    "model3 = XGBClassifier(random_state=42).fit(X_tr,y_tr)"
   ]
  },
  {
   "cell_type": "code",
   "execution_count": null,
   "id": "3c66a68b",
   "metadata": {},
   "outputs": [],
   "source": [
    "X_tr.shape , y_tr.shape , enc_te.shape"
   ]
  },
  {
   "cell_type": "code",
   "execution_count": null,
   "id": "7426614e",
   "metadata": {},
   "outputs": [],
   "source": [
    "y_pred = model3.predict_proba(X_te)[:,1]"
   ]
  },
  {
   "cell_type": "code",
   "execution_count": null,
   "id": "792a1c37",
   "metadata": {
    "tags": []
   },
   "outputs": [],
   "source": [
    "from sklearn.metrics import roc_curve, auc\n",
    "\n",
    "y_pred = model3.predict_proba(X_te)[:,1]\n",
    "fpr, tpr, thresholds = roc_curve(y_te,y_pred)\n",
    "auc_te = auc(fpr, tpr)\n",
    "print(f'model: {auc_te}')"
   ]
  },
  {
   "cell_type": "code",
   "execution_count": null,
   "id": "3ef5ed55",
   "metadata": {
    "tags": []
   },
   "outputs": [],
   "source": [
    "plot_importance(model3)\n",
    "plt.show()"
   ]
  },
  {
   "cell_type": "markdown",
   "id": "251fdffd-504f-4a8b-9c86-495992d3a567",
   "metadata": {},
   "source": [
    "### Submission"
   ]
  },
  {
   "cell_type": "code",
   "execution_count": null,
   "id": "3703646d",
   "metadata": {
    "tags": []
   },
   "outputs": [],
   "source": [
    "#model1 사용\n",
    "ori_te_pred = model1.predict_proba(enc_raw_te)[:,1]\n",
    "ori_te_pred.shape"
   ]
  },
  {
   "cell_type": "code",
   "execution_count": null,
   "id": "e182cd79",
   "metadata": {
    "tags": []
   },
   "outputs": [],
   "source": [
    "ori_te_pred"
   ]
  },
  {
   "cell_type": "code",
   "execution_count": null,
   "id": "fe9a6f93",
   "metadata": {
    "tags": []
   },
   "outputs": [],
   "source": [
    "submission['survived'] = ori_te_pred\n",
    "print(f'{submission.isnull().sum().sum()}')\n",
    "submission.head(10)"
   ]
  },
  {
   "cell_type": "code",
   "execution_count": null,
   "id": "5808deee",
   "metadata": {
    "tags": []
   },
   "outputs": [],
   "source": [
    "#submission.to_csv(args.submission_csv, header=True, index=False)"
   ]
  }
 ],
 "metadata": {
  "kernelspec": {
   "display_name": "Python 3 (ipykernel)",
   "language": "python",
   "name": "python3"
  },
  "language_info": {
   "codemirror_mode": {
    "name": "ipython",
    "version": 3
   },
   "file_extension": ".py",
   "mimetype": "text/x-python",
   "name": "python",
   "nbconvert_exporter": "python",
   "pygments_lexer": "ipython3",
   "version": "3.9.13"
  }
 },
 "nbformat": 4,
 "nbformat_minor": 5
}
