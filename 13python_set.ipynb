{
 "cells": [
  {
   "cell_type": "code",
   "execution_count": 28,
   "id": "c55706e4-9445-4952-ba1f-b239fe3f1037",
   "metadata": {},
   "outputs": [],
   "source": [
    "#빈 세트 생성\n",
    "\n",
    "#빈 set()함수\n",
    "#빈 {}는 딕셔너리 자료형의 빈 값이므로 불가\n"
   ]
  },
  {
   "cell_type": "code",
   "execution_count": 3,
   "id": "859af28b-dda3-400a-8a3c-9005482b50ae",
   "metadata": {},
   "outputs": [],
   "source": [
    "#set 자료형의 컴프리헨션\n",
    "\n",
    "#set_variable = {expression for 변수 in iterable if 조건식}\n"
   ]
  },
  {
   "cell_type": "code",
   "execution_count": 4,
   "id": "faec0f47-33c9-4fc4-b174-53fe55295bbb",
   "metadata": {},
   "outputs": [],
   "source": [
    "#세트에 값 추가\n",
    "\n",
    "#.add()\n",
    "#한번에 하나의 값만 \n"
   ]
  },
  {
   "cell_type": "code",
   "execution_count": 6,
   "id": "1765da68-fbf9-42a4-989c-bee81a321516",
   "metadata": {},
   "outputs": [],
   "source": [
    "#요소 삭제\n",
    "\n",
    "#.remove(요소)\n",
    "#요소가 없는 값이라면 KeyError\n",
    "\n",
    "#.discard(요소)\n",
    "#요소가 세트 자료형에 존재하지 않아도 KeyError 발생 X\n",
    "\n",
    "#.pop()\n",
    "#삭제하려는 요소를 반환 후 삭제\n",
    "#세트 자료형 내에서 더 이상 삭제할 요소가 없다면 KeyError \n",
    "\n",
    "#.clear()\n",
    "#요소 전체 삭제\n"
   ]
  },
  {
   "cell_type": "code",
   "execution_count": 7,
   "id": "434ddd2a-e579-433b-95d7-ef0c14b63d81",
   "metadata": {},
   "outputs": [
    {
     "name": "stdout",
     "output_type": "stream",
     "text": [
      "A: {1, 2, 3, 4} \n",
      "B: {2, 4, 5}\n",
      "set.union(A,B): {1, 2, 3, 4, 5}\n",
      "A|B: {1, 2, 3, 4, 5}\n"
     ]
    }
   ],
   "source": [
    "#합집합 - union() or vertical bar(|)\n",
    "\n",
    "#set.union(세트 자료형1, 세트 자료형2)\n",
    "#세트 자료형1 | 세트 자료형2 \n",
    "\n",
    "A = {_ for _ in range(1,5)}\n",
    "B = {_ for _ in range(2,6) if _!= 3}\n",
    "print('A:',A,\"\\nB:\",B)\n",
    "print('set.union(A,B):',set.union(A,B))\n",
    "print('A|B:',A|B)"
   ]
  },
  {
   "cell_type": "code",
   "execution_count": 9,
   "id": "a417c993-adc3-4b78-9862-5f3b794ead9b",
   "metadata": {},
   "outputs": [
    {
     "name": "stdout",
     "output_type": "stream",
     "text": [
      "A: {1, 2, 3, 4} \n",
      "B: {2, 4, 5}\n",
      "set.intersection(A,B): {2, 4}\n",
      "A&B: {2, 4}\n"
     ]
    }
   ],
   "source": [
    "#교집합 - intersection() or &\n",
    "\n",
    "#set.intersection(세트1,세트2)\n",
    "\n",
    "A = {_ for _ in range(1,5)}\n",
    "B = {_ for _ in range(2,6) if _!= 3}\n",
    "print('A:',A,\"\\nB:\",B)\n",
    "print('set.intersection(A,B):',set.intersection(A,B))\n",
    "print('A&B:',A&B)"
   ]
  },
  {
   "cell_type": "code",
   "execution_count": 10,
   "id": "ca8e4684-4a93-4397-b8cb-fd94b405f7c8",
   "metadata": {},
   "outputs": [],
   "source": [
    "#차집합 - difference() or hyphen(-)\n",
    "\n",
    "#set.difference(세트1,세트2)\n",
    "\n"
   ]
  },
  {
   "cell_type": "code",
   "execution_count": 11,
   "id": "48877dd9-0b12-4c1c-9be8-c79ad8a2b1bb",
   "metadata": {},
   "outputs": [],
   "source": [
    "#대칭 차집합 - symmertric_difference() or ^\n",
    "\n",
    "#set.symmertric_difference(세트1,세트2)\n",
    "\n"
   ]
  },
  {
   "cell_type": "code",
   "execution_count": 13,
   "id": "b63ad8a5-d651-4e2f-b000-4310d333f9d7",
   "metadata": {},
   "outputs": [
    {
     "name": "stdout",
     "output_type": "stream",
     "text": [
      "A: {1, 2, 3, 4} \n",
      "B: {2, 4, 5}\n",
      "None\n"
     ]
    }
   ],
   "source": [
    "#업데이트\n",
    "\n",
    "#세트 자료형1.update(세트 자료형2)\n",
    "#세트1 |= 세트2\n",
    "\n",
    "A = {_ for _ in range(1,5)}\n",
    "B = {_ for _ in range(2,6) if _!= 3}\n",
    "print('A:',A,\"\\nB:\",B)\n",
    "A.update(B)"
   ]
  },
  {
   "cell_type": "code",
   "execution_count": 14,
   "id": "66c085e0-8803-430b-8a57-b57cf9ed7b77",
   "metadata": {},
   "outputs": [],
   "source": [
    "#교집합 대입\n",
    "\n",
    "#세트 자료형1.intersection_update(세트 자료형2)\n"
   ]
  },
  {
   "cell_type": "code",
   "execution_count": 15,
   "id": "0a9a390c-9fb0-4f37-adbf-1d0c1bb48722",
   "metadata": {},
   "outputs": [],
   "source": [
    "#차집합 대입\n",
    "\n",
    "#세트 자료형1.difference_update(세트 자료형2) \n",
    "#-=\n"
   ]
  },
  {
   "cell_type": "code",
   "execution_count": 16,
   "id": "8ef9d9db-2fbc-42c8-a2f7-dc5fb612fe42",
   "metadata": {},
   "outputs": [],
   "source": [
    "#겹치지 않는 부분 대입\n",
    "\n",
    "##세트 자료형1.symmetric_difference_update(세트 자료형2)\n",
    "#^=\n",
    "\n"
   ]
  },
  {
   "cell_type": "code",
   "execution_count": 17,
   "id": "776c666d-64c7-411c-a35c-71f6cf255ef1",
   "metadata": {},
   "outputs": [],
   "source": [
    "#부분집합\n",
    "\n",
    "#세트 자료형1.issubset(세트 자료형2)\n",
    "#세트1이 세트2의 부분집합이면 True, 아니면 False 반환\n",
    "#subset의 범위는 같다는 것도 포함\n",
    "\n"
   ]
  },
  {
   "cell_type": "code",
   "execution_count": 18,
   "id": "a0b8215b-89d1-4b60-8387-fb83204976fd",
   "metadata": {},
   "outputs": [],
   "source": [
    "#상위집합\n",
    "\n",
    "#세트 자료형1.issuperset(세트 자료형2)\n",
    "#세트1이 세트2의 상위 집합이면 True, 아니면 False 반환\n",
    "#subset의 범위는 같다는 것도 포함"
   ]
  },
  {
   "cell_type": "code",
   "execution_count": 20,
   "id": "2a7a1276-a362-4be2-a128-970755ac5ee7",
   "metadata": {},
   "outputs": [],
   "source": [
    "#진부분집합과 진상위집합 > , <\n",
    "\n",
    "#세트1 < 세트2 / 세트 1이 세트2의 진부분집합인지?\n",
    "#세트1 > 세트2\n"
   ]
  },
  {
   "cell_type": "code",
   "execution_count": 21,
   "id": "1cc48ed6-0111-4f45-86d1-816252bc1b0e",
   "metadata": {},
   "outputs": [],
   "source": [
    "#배반 \n",
    "\n",
    "#세트1.isdisjoint(세트2) \n",
    "#겹치는 부분 없으면 True, 있으면 False 반환\n"
   ]
  },
  {
   "cell_type": "code",
   "execution_count": 27,
   "id": "bc0f1bbe-2e9d-4879-8af7-008884494a80",
   "metadata": {},
   "outputs": [
    {
     "name": "stdout",
     "output_type": "stream",
     "text": [
      "{1, 2, 3, 4}\n"
     ]
    }
   ],
   "source": [
    "list_sample = [1,2,2,3,3,3,4,4,4,4]\n",
    "\n",
    "print(set(list_sample))\n",
    "\n",
    "#set은 중복 값 불가 / 고유한 값\n"
   ]
  },
  {
   "cell_type": "code",
   "execution_count": null,
   "id": "50b83543-8042-4a02-9fb5-1bdb72e81c5c",
   "metadata": {},
   "outputs": [],
   "source": []
  }
 ],
 "metadata": {
  "kernelspec": {
   "display_name": "Python 3 (ipykernel)",
   "language": "python",
   "name": "python3"
  },
  "language_info": {
   "codemirror_mode": {
    "name": "ipython",
    "version": 3
   },
   "file_extension": ".py",
   "mimetype": "text/x-python",
   "name": "python",
   "nbconvert_exporter": "python",
   "pygments_lexer": "ipython3",
   "version": "3.9.13"
  }
 },
 "nbformat": 4,
 "nbformat_minor": 5
}
