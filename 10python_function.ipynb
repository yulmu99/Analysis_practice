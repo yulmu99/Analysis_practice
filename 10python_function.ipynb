{
 "cells": [
  {
   "cell_type": "code",
   "execution_count": 1,
   "id": "f3562f23-d1a1-436c-a426-e0a33426a376",
   "metadata": {},
   "outputs": [],
   "source": [
    "#함수(function)\n",
    "\n",
    "#인수 - argument / 인자 - parameter\n",
    "#인수(우리가 입력하는 값)이 인자한테 전달됨(call)\n",
    "#함수 정의부(def)에서 코드를 실행하고 나온 반환값(return)이 함수 호출부 X에 저장\n",
    "\n",
    "#def에서 return값이 여러개 -> 호출부에 result 하나로 전달\n",
    "#return의 result가 1,2,3,..이면 모든 result를 튜플()로 저장해서 하나로 전달"
   ]
  },
  {
   "cell_type": "code",
   "execution_count": 5,
   "id": "c298c359-940c-4c14-af9b-04c700859215",
   "metadata": {},
   "outputs": [],
   "source": [
    "###함수(function)와 메서드(method) 차이\n",
    "\n",
    "##함수\n",
    "#클래스에 포함되지 않은 채로 단독 사용\n",
    "#함수명((인수1),(인수2),...)\n",
    "\n",
    "##메서드\n",
    "#클래스에 포함되어 객체를 통해 호출\n",
    "#객체.메서드명((인수1),(인수2))\n",
    "#객체는 무조건 클래스를 통해 만들어진 것이어야 함\n",
    "#메서드는 클래스 속에서 명시된 기능(메서드)만 가져와서 사용 가능\n",
    "#클래스>객체>메서드\n",
    "#객체마다 사용가능한 메서드 다름"
   ]
  },
  {
   "cell_type": "code",
   "execution_count": 37,
   "id": "fc2dffef-7fcb-4fe0-bd41-6a68b930e138",
   "metadata": {},
   "outputs": [],
   "source": [
    "#함수의 정의(define)\n",
    "\n",
    "#def 함수_이름(인자,...):\n",
    "#     \"\"\"Doc String을 적는 곳 -> 함수 설명문\n",
    "#     주로 작성자, 작성일, 수정일 \n",
    "#     포트폴리오 작성 할 설명을 잘 적어주면 좋음\n",
    "#     \"\"\"\n",
    "#     함수의 바디\n",
    "#     return 반환값\n",
    "\n",
    "#return -> keyword를 만나면 함수를 빠져나감(함수 종료)\n",
    "#return을 여러번 사용하기도 함\n",
    "#return값이 없으면 함수 자체는 None을 출력 -ex)print()"
   ]
  },
  {
   "cell_type": "code",
   "execution_count": 10,
   "id": "7b8aa39f-9c26-4807-9420-3584cb71715d",
   "metadata": {},
   "outputs": [],
   "source": [
    "###인자(parameter)\n",
    "\n",
    "#함수인자 혹수 매개변수\n",
    "#함수 정의에서 함수가 받을 수 있는 변수\n"
   ]
  },
  {
   "cell_type": "code",
   "execution_count": 11,
   "id": "11425a3f-0159-42dc-847a-fbc9e1c885c2",
   "metadata": {},
   "outputs": [
    {
     "name": "stdout",
     "output_type": "stream",
     "text": [
      "파이썬씨 안녕하세요. 약 11688.0일 되었습니다.\n"
     ]
    }
   ],
   "source": [
    "##argument? parameter?\n",
    "\n",
    "#argument - 함수를 호출할 때 함수에 전달하는 실제 값\n",
    "#parameter - 정의부에서 사용하는 이름\n",
    "\n",
    "#따라서 Parameter가 어떤 종류의 argument를 받을지 정의\n",
    "\n",
    "#함수 정의\n",
    "def greeting(name,age):         #parameter\n",
    "    print(f'{name}씨 안녕하세요. 약 {age * 365.25}일 되었습니다.')\n",
    "    \n",
    "#함수 호출\n",
    "greeting('파이썬',32)            #argument"
   ]
  },
  {
   "cell_type": "code",
   "execution_count": 3,
   "id": "8c7ba414-7fe7-4984-bec0-89487a54b2b3",
   "metadata": {},
   "outputs": [
    {
     "name": "stdout",
     "output_type": "stream",
     "text": [
      "파이썬씨 안녕하세요. 약 11688.0일 되었습니다.\n",
      "파이썬씨 안녕하세요. 약 11688.0일 되었습니다.\n",
      "파이썬씨 안녕하세요. 약 11688.0일 되었습니다.\n",
      "파이썬씨 안녕하세요. 약 11688.0일 되었습니다.\n",
      "파이썬씨 안녕하세요. 약 11688.0일 되었습니다.\n"
     ]
    }
   ],
   "source": [
    "#위치-키워드 인자 (positional-or-keyword parameter)\n",
    "\n",
    "#위치 인수 또는 키워드 인수를 받을 수 있는 인자\n",
    "\n",
    "#기본값 설정 (defalt)  \n",
    "#인자 = \"기본값\"   / 인자에서는 defalt, 인수에서는 keyword\n",
    "#기본값이 없는 위치-키워드 인자는 인수 전달 필수(인수 전달 안하면 오류)\n",
    "#defalt parameter(기본값 갖는 인자)는 non-defalt parameter보다 뒤에 작성\n",
    "\n",
    "def greeting(name,age=32):         #parameter  /  greeting(age=32,name) -> 오류\n",
    "    print(f'{name}씨 안녕하세요. 약 {age * 365.25}일 되었습니다.')\n",
    "    \n",
    "#위치 인수로 호출  -> 위치 인수는 순서 중요 \n",
    "greeting('파이썬',32)   \n",
    "\n",
    "#기본값 있는 인자는 인수 전달 생략 가능\n",
    "greeting('파이썬',)\n",
    "\n",
    "#기본값 없는 인자에 키워드 인수로 값 전달 가능\n",
    "greeting(name='파이썬')\n",
    "\n",
    "#키워드 인수로 호출 , 순서 상관 없음\n",
    "greeting(age=32,name='파이썬')\n",
    "\n",
    "#위치 인수가 먼저, 키워드 인수는 마지막\n",
    "greeting('파이썬',age = 32)\n"
   ]
  },
  {
   "cell_type": "code",
   "execution_count": 21,
   "id": "05b3dbfd-a1a1-408b-89e3-b292df1807cc",
   "metadata": {},
   "outputs": [
    {
     "name": "stdout",
     "output_type": "stream",
     "text": [
      "값만 입력\n"
     ]
    },
    {
     "ename": "TypeError",
     "evalue": "posonly() got some positional-only arguments passed as keyword arguments: 'posonly'",
     "output_type": "error",
     "traceback": [
      "\u001b[1;31m---------------------------------------------------------------------------\u001b[0m",
      "\u001b[1;31mTypeError\u001b[0m                                 Traceback (most recent call last)",
      "\u001b[1;32m~\\AppData\\Local\\Temp\\ipykernel_12588\\3485091325.py\u001b[0m in \u001b[0;36m<module>\u001b[1;34m\u001b[0m\n\u001b[0;32m     12\u001b[0m \u001b[0mposonly\u001b[0m\u001b[1;33m(\u001b[0m\u001b[1;34m\"값만 입력\"\u001b[0m\u001b[1;33m)\u001b[0m\u001b[1;33m\u001b[0m\u001b[1;33m\u001b[0m\u001b[0m\n\u001b[0;32m     13\u001b[0m \u001b[1;33m\u001b[0m\u001b[0m\n\u001b[1;32m---> 14\u001b[1;33m \u001b[0mposonly\u001b[0m\u001b[1;33m(\u001b[0m\u001b[0mposonly\u001b[0m\u001b[1;33m=\u001b[0m\u001b[1;34m'키워드 인수로 전달하면 오류'\u001b[0m\u001b[1;33m)\u001b[0m\u001b[1;33m\u001b[0m\u001b[1;33m\u001b[0m\u001b[0m\n\u001b[0m",
      "\u001b[1;31mTypeError\u001b[0m: posonly() got some positional-only arguments passed as keyword arguments: 'posonly'"
     ]
    }
   ],
   "source": [
    "#위치 전용 인자\n",
    "\n",
    "#오직 위치 인수만 값의 전달 가능\n",
    "#슬래시(/)를 인자 값으로 넣고 좌측 부분에 위치 전용 인자 선언\n",
    "\n",
    "\n",
    "#함수 정의\n",
    "def posonly(posonly,/):    #posonly가 위치 전용 인자가 됨\n",
    "    print(posonly)\n",
    "    \n",
    "#함수 호출\n",
    "posonly(\"값만 입력\")\n",
    "\n",
    "posonly(posonly='키워드 인수로 전달하면 오류')"
   ]
  },
  {
   "cell_type": "code",
   "execution_count": 4,
   "id": "dd82598a-c0fe-42d3-a8a9-841fcbc3e5ff",
   "metadata": {},
   "outputs": [
    {
     "name": "stdout",
     "output_type": "stream",
     "text": [
      "defalt\n",
      "출력\n"
     ]
    },
    {
     "ename": "TypeError",
     "evalue": "keyonly() takes 0 positional arguments but 1 was given",
     "output_type": "error",
     "traceback": [
      "\u001b[1;31m---------------------------------------------------------------------------\u001b[0m",
      "\u001b[1;31mTypeError\u001b[0m                                 Traceback (most recent call last)",
      "\u001b[1;32m~\\AppData\\Local\\Temp\\ipykernel_12876\\1829020737.py\u001b[0m in \u001b[0;36m<module>\u001b[1;34m\u001b[0m\n\u001b[0;32m     14\u001b[0m \u001b[0mkeyonly\u001b[0m\u001b[1;33m(\u001b[0m\u001b[0mkeyonly\u001b[0m\u001b[1;33m=\u001b[0m\u001b[1;34m'출력'\u001b[0m\u001b[1;33m)\u001b[0m\u001b[1;33m\u001b[0m\u001b[1;33m\u001b[0m\u001b[0m\n\u001b[0;32m     15\u001b[0m \u001b[1;33m\u001b[0m\u001b[0m\n\u001b[1;32m---> 16\u001b[1;33m \u001b[0mkeyonly\u001b[0m\u001b[1;33m(\u001b[0m\u001b[1;34m'출력'\u001b[0m\u001b[1;33m)\u001b[0m   \u001b[1;31m# 위치 전용으로 입력해서 오류\u001b[0m\u001b[1;33m\u001b[0m\u001b[1;33m\u001b[0m\u001b[0m\n\u001b[0m",
      "\u001b[1;31mTypeError\u001b[0m: keyonly() takes 0 positional arguments but 1 was given"
     ]
    }
   ],
   "source": [
    "#키워드 전용 인자\n",
    "\n",
    "#기본값 가질 수 있음 \n",
    "#defalt parameter에 상응하는 argument는 생략 가능\n",
    "#*(애스터리스크)를 인자로 하고, 우측 인자를 키워드 전용 인자\n",
    "\n",
    "#함수 정의\n",
    "def keyonly(*,keyonly='defalt'):  #keyonly는 키워드 전용 인자\n",
    "    print(keyonly)\n",
    "\n",
    "#함수 호출\n",
    "keyonly()\n",
    "\n",
    "keyonly(keyonly='출력')\n",
    "\n",
    "keyonly('출력')   # 위치 전용으로 입력해서 오류"
   ]
  },
  {
   "cell_type": "code",
   "execution_count": 35,
   "id": "28655e8f-ed94-4af3-a03b-9eccb296d9c9",
   "metadata": {},
   "outputs": [
    {
     "name": "stdout",
     "output_type": "stream",
     "text": [
      "<class 'tuple'>\n",
      "15\n",
      "<class 'tuple'>\n",
      "0\n"
     ]
    }
   ],
   "source": [
    "#가변-위치 인자 (var-positional parameters)\n",
    "\n",
    "#명시된 인자 외에 추가적으로 위치 인수를 개수에 상관없이 전달 받을 수 있음\n",
    "#가변 인자 변수명 앞에 *\n",
    "\n",
    "def  var_positional(*args):\n",
    "    print(type(args))\n",
    "    return sum([_ for _ in args])\n",
    "\n",
    "print(var_positional(1,2,3,4,5))\n",
    "\n",
    "print(var_positional())    #빈 튜플도 전달가능\n"
   ]
  },
  {
   "cell_type": "code",
   "execution_count": 34,
   "id": "fd86d7c6-714c-4a96-be83-eff31b21ef82",
   "metadata": {},
   "outputs": [
    {
     "name": "stdout",
     "output_type": "stream",
     "text": [
      "<class 'dict'>\n",
      "{'key': 'value', 'key2': 'value2'}\n",
      "<class 'dict'>\n",
      "{}\n"
     ]
    }
   ],
   "source": [
    "#가변-키워드 인자(var-keyword parameters)\n",
    "\n",
    "#가변 인자 변수명 앞에 **\n",
    "\n",
    "def var_keyword(**kargs):\n",
    "    print(type(kargs))\n",
    "    return kargs\n",
    "\n",
    "print(var_keyword(key='value',key2='value2'))\n",
    "\n",
    "print(var_keyword())    "
   ]
  },
  {
   "cell_type": "code",
   "execution_count": 39,
   "id": "237d826a-80d3-4e9d-87ec-c94c59ecb117",
   "metadata": {},
   "outputs": [
    {
     "name": "stdout",
     "output_type": "stream",
     "text": [
      "80\n"
     ]
    }
   ],
   "source": [
    "def plus_ten(i_value):\n",
    "    return i_value + 10\n",
    "\n",
    "print(plus_ten(70))"
   ]
  },
  {
   "cell_type": "code",
   "execution_count": 4,
   "id": "cfc76744-2de2-4489-80b6-5ec187b1ffaa",
   "metadata": {},
   "outputs": [
    {
     "name": "stdout",
     "output_type": "stream",
     "text": [
      "21.11111111111111\n"
     ]
    }
   ],
   "source": [
    "def to_celsius(fahrenheit) :\n",
    "    \"\"\"화씨 온도를 섭씨온도로 변경하는 함수\n",
    "    화씨온도 - fahrenheit\n",
    "    섭씨온도 - C = (fahrenheit -32) * 5/9\n",
    "    \"\"\"\n",
    "    c = (fahrenheit -32) * 5/9\n",
    "    return(c)\n",
    "\n",
    "print(to_celsius(70))"
   ]
  },
  {
   "cell_type": "code",
   "execution_count": 27,
   "id": "d573c71c-7f67-411f-9293-c7529681bac9",
   "metadata": {},
   "outputs": [
    {
     "name": "stdout",
     "output_type": "stream",
     "text": [
      "number가 짝수면 \"짝수\",홀수면 \"홀수\" 반환\n",
      "짝수\n",
      "홀수\n",
      "None\n",
      "None\n"
     ]
    }
   ],
   "source": [
    "def odd_even(number) :\n",
    "    \"\"\"number가 짝수면 \"짝수\",홀수면 \"홀수\" 반환\"\"\"\n",
    "    if type(number) != int or number <= 0 :\n",
    "        return\n",
    "    else:\n",
    "        if number % 2 == 0:\n",
    "            return(\"짝수\")\n",
    "        else :\n",
    "            return(\"홀수\")\n",
    "\n",
    "print(odd_even.__doc__)\n",
    "print(odd_even(10))\n",
    "print(odd_even(9))\n",
    "print(odd_even('가'))\n",
    "print(odd_even(0))\n",
    "\n",
    "#return -> Noe\n",
    "#return 값 -> 값 자체를 함수 호출한 곳으로 가져감\n"
   ]
  },
  {
   "cell_type": "code",
   "execution_count": 31,
   "id": "9dbf5e80-20ab-4a22-ae56-a7e6a4771c84",
   "metadata": {},
   "outputs": [
    {
     "name": "stdout",
     "output_type": "stream",
     "text": [
      "number가 짝수면 \"짝수\",홀수면 \"홀수\" 반환\n",
      "짝수\n",
      "홀수\n",
      "None\n",
      "None\n"
     ]
    }
   ],
   "source": [
    "#강사님\n",
    "#A or B 에서 A가 True이면 A, A가 False이면 B\n",
    "\n",
    "def odd_even(number) :\n",
    "    \"\"\"number가 짝수면 \"짝수\",홀수면 \"홀수\" 반환\"\"\"\n",
    "    if type(number) is int and number >  0 :\n",
    "        return \"짝수\" * (number % 2 == 0) or \"홀수\" \n",
    "        # (number % 2 == 0)가 True 이면 1의 값이 되서 짝수 반환 / False이면 0이되서 홀수 반환\n",
    "    else :\n",
    "        return\n",
    "    \n",
    "print(odd_even.__doc__)\n",
    "print(odd_even(10))\n",
    "print(odd_even(9))\n",
    "print(odd_even('가'))\n",
    "print(odd_even(0))"
   ]
  },
  {
   "cell_type": "code",
   "execution_count": 57,
   "id": "0d5b0a4f-239a-45d0-a7a4-b662ddf6abff",
   "metadata": {},
   "outputs": [
    {
     "name": "stdout",
     "output_type": "stream",
     "text": [
      "평년\n",
      "윤년\n"
     ]
    }
   ],
   "source": [
    "def check_leap_year(year):\n",
    "    \"\"\"평년과 윤년 계산하는 함수\n",
    "       \n",
    "       년도가 4로 나눠지면 윤년\n",
    "       100으로 나눠지면서 400으로 나눠지지 않으면 평년\n",
    "    \"\"\"\n",
    "    if year % 100 == 0 and year % 400 != 0 or year % 4 != 0 :\n",
    "        return \"평년\"\n",
    "    else :\n",
    "        return \"윤년\"\n",
    "    \n",
    "print( check_leap_year(1900))  \n",
    "print( check_leap_year(2000))\n"
   ]
  },
  {
   "cell_type": "code",
   "execution_count": 51,
   "id": "e4ac975d-143a-4717-b06b-7231b27b96db",
   "metadata": {},
   "outputs": [
    {
     "name": "stdout",
     "output_type": "stream",
     "text": [
      "30\n",
      "28\n",
      "31\n"
     ]
    }
   ],
   "source": [
    "def days(month) :\n",
    "    if year % 100 == 0 and year % 400 != 0 or year % 4 != 0 :\n",
    "        if month == 2 :\n",
    "            return 28\n",
    "        elif month in (4,6,9,11):\n",
    "            return 30\n",
    "        elif month in (1,3,5,7,8,10,12):\n",
    "            return 31\n",
    "\n",
    "print(days(11))\n",
    "print(days(2))\n",
    "print(days(1))"
   ]
  },
  {
   "cell_type": "code",
   "execution_count": 56,
   "id": "5bd9b8de-ab04-480f-8302-3191b9f5daa7",
   "metadata": {},
   "outputs": [
    {
     "name": "stdout",
     "output_type": "stream",
     "text": [
      "30\n",
      "31\n",
      "28\n",
      "29\n"
     ]
    }
   ],
   "source": [
    "def days(year,month) :\n",
    "    \"\"\" 윤년과 평년을 계산하고 그 달의 날짜 개수를 반환\n",
    "    \n",
    "        윤년은 2월이 29일\n",
    "        평년은 2월이 28일\n",
    "    \"\"\"\n",
    "    if month in (4,6,9,11):\n",
    "        return 30\n",
    "    elif month in (1,3,5,7,8,10,12):\n",
    "        return 31\n",
    "        \n",
    "    if year % 100 == 0 and year % 400 != 0 or year % 4 != 0 :\n",
    "        if month == 2 :\n",
    "            return 28\n",
    "    else :\n",
    "        if month == 2 :\n",
    "            return 29\n",
    "        \n",
    "print(days(1900,11))\n",
    "print(days(2004,10))\n",
    "print(days(1900,2))\n",
    "print(days(2000,2))"
   ]
  },
  {
   "cell_type": "code",
   "execution_count": 59,
   "id": "a9b1f4a9-b518-4822-a614-bf46b94bc719",
   "metadata": {},
   "outputs": [
    {
     "name": "stdout",
     "output_type": "stream",
     "text": [
      "30\n",
      "31\n",
      "28\n",
      "29\n"
     ]
    }
   ],
   "source": [
    "def days(year,month) :\n",
    "    \"\"\" 윤년과 평년을 계산하고 그 달의 날짜 개수를 반환\n",
    "    \n",
    "        윤년은 2월이 29일\n",
    "        평년은 2월이 28일\n",
    "    \"\"\"\n",
    "    if month in (4,6,9,11):\n",
    "        return 30\n",
    "    elif month in (1,3,5,7,8,10,12):\n",
    "        return 31\n",
    "    elif year % 100 == 0 and year % 400 != 0 or year % 4 != 0 :\n",
    "            return 28\n",
    "    else :\n",
    "            return 29\n",
    "        \n",
    "print(days(1900,11))\n",
    "print(days(2004,10))\n",
    "print(days(1900,2))\n",
    "print(days(2000,2))\n",
    "        "
   ]
  },
  {
   "cell_type": "code",
   "execution_count": 10,
   "id": "6cfd1305-0640-47f4-8f50-37a2a0ad9748",
   "metadata": {},
   "outputs": [],
   "source": [
    "##변수의 범위 \n",
    "\n",
    "#전역 변수\n",
    "#전역 범위에서 선언된 변수 \n",
    "#전역 범위(global scope) =제일 바깥 영역(들여쓰기 없이 쓴 영역) \n",
    "#스크립트 전체에서 접근 가능\n",
    "\n",
    "#지역 변수\n",
    "#함수 바디(local scope)에서 선언된 변수\n",
    "#변수를 만든 함수 안에서만 접근 가능\n",
    "\n",
    "#지역 범위에서 전역 변수에 대한 조회 가능 O / 변경은 가능 X\n"
   ]
  },
  {
   "cell_type": "code",
   "execution_count": 9,
   "id": "7545771e-772d-4e6d-ad14-982e4eb99bd6",
   "metadata": {},
   "outputs": [
    {
     "name": "stdout",
     "output_type": "stream",
     "text": [
      "global 키워드 활용해서 변경 완료\n"
     ]
    }
   ],
   "source": [
    "#지역 범위에서 전역 변수 변경하는 방법\n",
    "#global 키워드 사용\n",
    "\n",
    "global_variable = '변경이 됩니까?'\n",
    "\n",
    "def heartbreaker():\n",
    "    global global_variable   #global 키워드를 사용해서 전역변수 사용 설정 \n",
    "    global_variable = \"global 키워드 활용해서 변경 완료\"\n",
    "    \n",
    "heartbreaker()\n",
    "print(global_variable)"
   ]
  },
  {
   "cell_type": "code",
   "execution_count": 25,
   "id": "e2ebbf64-3519-4646-8145-ca964e1fced0",
   "metadata": {},
   "outputs": [
    {
     "name": "stdout",
     "output_type": "stream",
     "text": [
      "This is level 1.\n"
     ]
    }
   ],
   "source": [
    "#함수 중첩\n",
    "\n",
    "#지역 변수는 중첩된 함수내에서는 접근 가능 O / 변경 가능 X\n",
    "def level1():\n",
    "    message = \"This is level 1.\"\n",
    "    def level2():\n",
    "        message = \"level2 is bettetr than level1.\"\n",
    "    level2()\n",
    "    print(message)\n",
    "\n",
    "level1()  \n"
   ]
  },
  {
   "cell_type": "code",
   "execution_count": 26,
   "id": "0f415aa6-2317-4b0f-b7ba-732cd1ad8fb5",
   "metadata": {},
   "outputs": [
    {
     "name": "stdout",
     "output_type": "stream",
     "text": [
      "level2 is better than level1.\n"
     ]
    }
   ],
   "source": [
    "#안쪽 함수에서 바깥쪽 함수 변수 변경\n",
    "#nonlocal 키워드 사용\n",
    "\n",
    "def level1():\n",
    "    message = \"This is level 1.\"\n",
    "    def level2():\n",
    "        nonlocal message            #바깥 영역의 변수 사용 설정\n",
    "        message = \"level2 is better than level1.\"\n",
    "    level2()\n",
    "    print(message)\n",
    "\n",
    "level1()  \n",
    "\n"
   ]
  },
  {
   "cell_type": "code",
   "execution_count": 28,
   "id": "ac5b961f-04b3-439c-88a3-4a53dd64a015",
   "metadata": {},
   "outputs": [],
   "source": [
    "#global키워드\n",
    "#전역 변수를 변경\n",
    "#함수의 중첩 정도와 상관 없이 전역 변수 매칭\n",
    "\n",
    "#nonlocal키워드\n",
    "#지역 변수를 변경\n",
    "#중첩된 함수마다 같은 이름의 변수가 존재하면 가장 가까운 바깥 변수 매칭\n",
    "#가급적이면 변수 이름은 중복 사용 X\n"
   ]
  },
  {
   "cell_type": "code",
   "execution_count": 31,
   "id": "29701081-172e-4f97-901a-942937b6e2a8",
   "metadata": {},
   "outputs": [
    {
     "name": "stdout",
     "output_type": "stream",
     "text": [
      "20\n"
     ]
    }
   ],
   "source": [
    "#람다(lambda)\n",
    "\n",
    "#호출될 때 값이 구해지는 하나의 표현식\n",
    "#이름이 없는 인라인 함수\n",
    "#lambda는 이름이 아니고 keyword\n",
    "\n",
    "#lambda [parameters]:expression\n",
    "\n",
    "#바로 호출방법\n",
    "#(lambda [parameters]: expression)(arguments)\n",
    "\n",
    "(lambda x:x+10)(10)\n",
    "\n",
    "#람다로 만든 익명 함수 호출\n",
    "twice = lambda x : x*2\n",
    "print(twice(10))\n"
   ]
  },
  {
   "cell_type": "code",
   "execution_count": 32,
   "id": "306f545d-4257-4e52-80c5-037c74a7c697",
   "metadata": {},
   "outputs": [
    {
     "ename": "SyntaxError",
     "evalue": "invalid syntax (2382109683.py, line 5)",
     "output_type": "error",
     "traceback": [
      "\u001b[1;36m  File \u001b[1;32m\"C:\\Users\\user\\AppData\\Local\\Temp\\ipykernel_12876\\2382109683.py\"\u001b[1;36m, line \u001b[1;32m5\u001b[0m\n\u001b[1;33m    (lambda x: y=10 ; x+y)(10)  #오류\u001b[0m\n\u001b[1;37m                ^\u001b[0m\n\u001b[1;31mSyntaxError\u001b[0m\u001b[1;31m:\u001b[0m invalid syntax\n"
     ]
    }
   ],
   "source": [
    "#람다의 expression 부분은 변수 없이 식 한 줄로 표현 가능(인라인) 해야 함\n",
    "#람다의 표현식 안에 새 변수를 만들 수 없음\n",
    "#변수가 필요한 경우에는 def를 써서 함수를 정의\n",
    "\n",
    "(lambda x: y=10 ; x+y)(10)  #오류"
   ]
  },
  {
   "cell_type": "code",
   "execution_count": 36,
   "id": "d640b542-2328-425e-a8de-336aa94cf552",
   "metadata": {},
   "outputs": [
    {
     "data": {
      "text/plain": [
       "'B'"
      ]
     },
     "execution_count": 36,
     "metadata": {},
     "output_type": "execute_result"
    }
   ],
   "source": [
    "#조건 표현식 (inline if else)\n",
    "\n",
    "#if else를 한 줄로 작성하는 방법\n",
    "#lambda에 사용하면 활용도가 아주 좋음\n",
    "#if만 단독 사용 X, else랑 반드시 같이\n",
    "\n",
    "#True일때 값 if 조건식 else False일때 값\n",
    "\n",
    "score = 90\n",
    "'A' if 90 < score <= 100 else 'B' if 80 < score else 'C'\n"
   ]
  },
  {
   "cell_type": "code",
   "execution_count": 38,
   "id": "cb545323-9d4d-4eef-b208-4c7e14974e14",
   "metadata": {},
   "outputs": [
    {
     "name": "stdout",
     "output_type": "stream",
     "text": [
      "[2, 8, 18, 32, 50]\n"
     ]
    }
   ],
   "source": [
    "#람다와 map()\n",
    "#parameter와 iterable의 수 동일하게\n",
    "\n",
    "#map(function,iterable)\n",
    "#map(lambda parameter1, parameter2, .. :expression,iterable1,iterable2,...)\n",
    "\n",
    "#한번쓰고 말 함수는 def로 정의해서 사용할 필요없이\n",
    "#간단하게 함수 이름 없이 사용가능한 람다를 이용해서 사용하면 된다\n",
    "\n",
    "a = [ _ for _ in range(1,6)]\n",
    "b = [ _ for _ in range(2,11,2)]\n",
    "print(list(map(lambda x,y :x*y , a,b)))   #a와 b의 곱 구하는 함수"
   ]
  },
  {
   "cell_type": "code",
   "execution_count": 39,
   "id": "944ed527-bf31-4ac8-a1cf-5ddc62ff5fbe",
   "metadata": {},
   "outputs": [],
   "source": [
    "#람다와 filter()\n",
    "\n",
    "#iterable a에서 하나씩가져와서 x에 담고 표현식을 돌려서 True가 반환되는 경우에만\n",
    "#해당 요소를 가져옴\n",
    "\n",
    "#속도와 가독성 모두 좋은 리스트 컴프리헨션을 사용하는게 더 좋음\n"
   ]
  },
  {
   "cell_type": "code",
   "execution_count": null,
   "id": "0184c598-f95d-4a72-a865-24f1958066a4",
   "metadata": {},
   "outputs": [],
   "source": []
  }
 ],
 "metadata": {
  "kernelspec": {
   "display_name": "Python 3 (ipykernel)",
   "language": "python",
   "name": "python3"
  },
  "language_info": {
   "codemirror_mode": {
    "name": "ipython",
    "version": 3
   },
   "file_extension": ".py",
   "mimetype": "text/x-python",
   "name": "python",
   "nbconvert_exporter": "python",
   "pygments_lexer": "ipython3",
   "version": "3.9.13"
  }
 },
 "nbformat": 4,
 "nbformat_minor": 5
}
