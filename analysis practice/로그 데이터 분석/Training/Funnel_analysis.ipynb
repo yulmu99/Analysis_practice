{
 "cells": [
  {
   "attachments": {},
   "cell_type": "markdown",
   "metadata": {},
   "source": [
    "# Funnel Analysis"
   ]
  },
  {
   "cell_type": "code",
   "execution_count": 1,
   "metadata": {},
   "outputs": [],
   "source": [
    "%matplotlib inline\n",
    "import pandas as pd\n",
    "import numpy as np\n",
    "import matplotlib.pyplot as plt\n",
    "import seaborn as sns\n",
    "\n",
    "import warnings\n",
    "warnings.filterwarnings('ignore')\n",
    "plt.style.use('seaborn-paper')"
   ]
  },
  {
   "attachments": {},
   "cell_type": "markdown",
   "metadata": {},
   "source": [
    "## 1.Data load\n",
    "- 문서 앱내 사용시 발생하는 클라이언 로그 데이터 \n",
    "(after parsed)\n",
    "- 서버로그와 달리, 유저의 행동이 발생할 경우 로그 수집 (유저 행동 패턴 파악에 용이)\n",
    "    - 클라이언트(앱) 로그\n",
    "    - 서버 로그"
   ]
  },
  {
   "cell_type": "code",
   "execution_count": 6,
   "metadata": {},
   "outputs": [
    {
     "name": "stdout",
     "output_type": "stream",
     "text": [
      "C:\\dev\\github\\analysis practice\\로그 데이터 분석\n"
     ]
    }
   ],
   "source": [
    "%cd C:\\dev\\github\\analysis practice\\로그 데이터 분석\\"
   ]
  },
  {
   "cell_type": "code",
   "execution_count": 14,
   "metadata": {},
   "outputs": [],
   "source": [
    "df = pd.read_csv('datas/tutorial_02/df_funnel.csv',index_col=0)\n",
    "#index_col = 0 : unnamed:0 컬럼 제거"
   ]
  },
  {
   "attachments": {},
   "cell_type": "markdown",
   "metadata": {},
   "source": [
    "### 1.2 Columns Info.\n",
    "- actiontype: 문서 이용시 행동(OPEN, CLOSE, SAVE,,)\n",
    "- ismydoc: 내문서 해당 여부(중요x)\n",
    "- ext: 문서 확장자\n",
    "- sessionid: 유저 식별자\n",
    "- documentposition: 문서 이용시 위치 정보(CLOUD, OTHERAPP)\n",
    "- datetime: Timestamp\n",
    "- screen: 앱내 화면 이름"
   ]
  },
  {
   "cell_type": "code",
   "execution_count": 15,
   "metadata": {},
   "outputs": [
    {
     "data": {
      "text/html": [
       "<div>\n",
       "<style scoped>\n",
       "    .dataframe tbody tr th:only-of-type {\n",
       "        vertical-align: middle;\n",
       "    }\n",
       "\n",
       "    .dataframe tbody tr th {\n",
       "        vertical-align: top;\n",
       "    }\n",
       "\n",
       "    .dataframe thead th {\n",
       "        text-align: right;\n",
       "    }\n",
       "</style>\n",
       "<table border=\"1\" class=\"dataframe\">\n",
       "  <thead>\n",
       "    <tr style=\"text-align: right;\">\n",
       "      <th></th>\n",
       "      <th>actiontype</th>\n",
       "      <th>ismydoc</th>\n",
       "      <th>ext</th>\n",
       "      <th>sessionid</th>\n",
       "      <th>documentposition</th>\n",
       "      <th>datetime</th>\n",
       "      <th>screen</th>\n",
       "    </tr>\n",
       "  </thead>\n",
       "  <tbody>\n",
       "    <tr>\n",
       "      <th>0</th>\n",
       "      <td>OPEN</td>\n",
       "      <td>NoView</td>\n",
       "      <td>PDF</td>\n",
       "      <td>9400fd2e43d7dc2d054ca78806236ee1</td>\n",
       "      <td>LOCALSTORAGE</td>\n",
       "      <td>2016.7.18</td>\n",
       "      <td>Per_Dir</td>\n",
       "    </tr>\n",
       "    <tr>\n",
       "      <th>1</th>\n",
       "      <td>CLOSE</td>\n",
       "      <td>NoView</td>\n",
       "      <td>PDF</td>\n",
       "      <td>9400fd2e43d7dc2d054ca78806236ee1</td>\n",
       "      <td>LOCALSTORAGE</td>\n",
       "      <td>2016.7.18</td>\n",
       "      <td>Per_Dir</td>\n",
       "    </tr>\n",
       "    <tr>\n",
       "      <th>2</th>\n",
       "      <td>OPEN</td>\n",
       "      <td>View</td>\n",
       "      <td>PDF</td>\n",
       "      <td>9400fd2e43d7dc2d054ca78806236ee1</td>\n",
       "      <td>MYPOLARISDRIVE</td>\n",
       "      <td>2016.7.18</td>\n",
       "      <td>Pub_Dir</td>\n",
       "    </tr>\n",
       "    <tr>\n",
       "      <th>3</th>\n",
       "      <td>CLOSE</td>\n",
       "      <td>View</td>\n",
       "      <td>PDF</td>\n",
       "      <td>9400fd2e43d7dc2d054ca78806236ee1</td>\n",
       "      <td>MYPOLARISDRIVE</td>\n",
       "      <td>2016.7.18</td>\n",
       "      <td>Pub_Dir</td>\n",
       "    </tr>\n",
       "    <tr>\n",
       "      <th>4</th>\n",
       "      <td>OPEN</td>\n",
       "      <td>NoView</td>\n",
       "      <td>PDF</td>\n",
       "      <td>f191063c562691041dfa935ff0876975</td>\n",
       "      <td>OTHERAPP</td>\n",
       "      <td>2016.7.6</td>\n",
       "      <td>Main</td>\n",
       "    </tr>\n",
       "  </tbody>\n",
       "</table>\n",
       "</div>"
      ],
      "text/plain": [
       "  actiontype ismydoc  ext                         sessionid documentposition   \n",
       "0       OPEN  NoView  PDF  9400fd2e43d7dc2d054ca78806236ee1     LOCALSTORAGE  \\\n",
       "1      CLOSE  NoView  PDF  9400fd2e43d7dc2d054ca78806236ee1     LOCALSTORAGE   \n",
       "2       OPEN    View  PDF  9400fd2e43d7dc2d054ca78806236ee1   MYPOLARISDRIVE   \n",
       "3      CLOSE    View  PDF  9400fd2e43d7dc2d054ca78806236ee1   MYPOLARISDRIVE   \n",
       "4       OPEN  NoView  PDF  f191063c562691041dfa935ff0876975         OTHERAPP   \n",
       "\n",
       "    datetime   screen  \n",
       "0  2016.7.18  Per_Dir  \n",
       "1  2016.7.18  Per_Dir  \n",
       "2  2016.7.18  Pub_Dir  \n",
       "3  2016.7.18  Pub_Dir  \n",
       "4   2016.7.6     Main  "
      ]
     },
     "execution_count": 15,
     "metadata": {},
     "output_type": "execute_result"
    }
   ],
   "source": [
    "df.head()"
   ]
  },
  {
   "cell_type": "code",
   "execution_count": 16,
   "metadata": {},
   "outputs": [
    {
     "name": "stdout",
     "output_type": "stream",
     "text": [
      "<class 'pandas.core.frame.DataFrame'>\n",
      "Index: 301861 entries, 0 to 301860\n",
      "Data columns (total 7 columns):\n",
      " #   Column            Non-Null Count   Dtype \n",
      "---  ------            --------------   ----- \n",
      " 0   actiontype        301861 non-null  object\n",
      " 1   ismydoc           301861 non-null  object\n",
      " 2   ext               301861 non-null  object\n",
      " 3   sessionid         301861 non-null  object\n",
      " 4   documentposition  301861 non-null  object\n",
      " 5   datetime          301861 non-null  object\n",
      " 6   screen            301861 non-null  object\n",
      "dtypes: object(7)\n",
      "memory usage: 18.4+ MB\n"
     ]
    }
   ],
   "source": [
    "# key info => data entires, missing values, type\n",
    "df.info()"
   ]
  },
  {
   "attachments": {},
   "cell_type": "markdown",
   "metadata": {},
   "source": [
    "data entries : 301861 / missing values : None / type : all object\n",
    "> change datetime type"
   ]
  },
  {
   "attachments": {},
   "cell_type": "markdown",
   "metadata": {},
   "source": [
    "## 2. Preprocessing\n",
    "- 데이터 타입 변환\n",
    "- 데이터 값 변경\n",
    "- 결측치 처리\n",
    "- 신규 session id 부여\n",
    "- 대소문자 처리"
   ]
  },
  {
   "attachments": {},
   "cell_type": "markdown",
   "metadata": {},
   "source": [
    "### 2.1 날짜를 pandas datetime 형태로 변환하기\n",
    "[Reference](https://pandas.pydata.org/pandas-docs/stable/generated/pandas.to_datetime.html)\n",
    "\n",
    "```python\n",
    "pandas.to_datetime()\n",
    "```"
   ]
  },
  {
   "attachments": {},
   "cell_type": "markdown",
   "metadata": {},
   "source": [
    "case 1. data type is string"
   ]
  },
  {
   "cell_type": "code",
   "execution_count": 20,
   "metadata": {},
   "outputs": [
    {
     "data": {
      "text/plain": [
       "datetime\n",
       "2016.7.1     11836\n",
       "2016.7.10     6750\n",
       "2016.7.11    10075\n",
       "2016.7.12    12340\n",
       "2016.7.13    12159\n",
       "2016.7.14    11721\n",
       "2016.7.15    11057\n",
       "2016.7.16     8513\n",
       "2016.7.17     6906\n",
       "2016.7.18     9987\n",
       "2016.7.19    11872\n",
       "2016.7.2      8884\n",
       "2016.7.20    11912\n",
       "2016.7.21    11599\n",
       "2016.7.22    11250\n",
       "dtype: int64"
      ]
     },
     "execution_count": 20,
     "metadata": {},
     "output_type": "execute_result"
    }
   ],
   "source": [
    "#size() : NaN 포함 , series type 반환\n",
    "#count() : NaN 제외 , dataframe 반환\n",
    "df.groupby('datetime').size().head(15)\n"
   ]
  },
  {
   "cell_type": "code",
   "execution_count": 21,
   "metadata": {},
   "outputs": [
    {
     "data": {
      "text/plain": [
       "['2018/01/01', '2018.01.02', '2018-01-03', '2018-01-04', '2018/01/05']"
      ]
     },
     "execution_count": 21,
     "metadata": {},
     "output_type": "execute_result"
    }
   ],
   "source": [
    "str_date = ['2018/01/01', '2018.01.02', '2018-01-03', '2018-01-04', '2018/01/05'] # string type\n",
    "str_date"
   ]
  },
  {
   "cell_type": "code",
   "execution_count": 26,
   "metadata": {},
   "outputs": [
    {
     "data": {
      "text/plain": [
       "0   2018-01-01\n",
       "1   2018-01-02\n",
       "2   2018-01-03\n",
       "3   2018-01-04\n",
       "4   2018-01-05\n",
       "dtype: datetime64[ns]"
      ]
     },
     "execution_count": 26,
     "metadata": {},
     "output_type": "execute_result"
    }
   ],
   "source": [
    "#str -> datetime type -> pd.series\n",
    "pd.Series(pd.to_datetime(str_date,format='mixed')) "
   ]
  },
  {
   "attachments": {},
   "cell_type": "markdown",
   "metadata": {},
   "source": [
    "case 2. data type is timestamp "
   ]
  },
  {
   "cell_type": "code",
   "execution_count": 34,
   "metadata": {},
   "outputs": [
    {
     "data": {
      "text/plain": [
       "[1349720105, 1349806505, 1349892905, 1349979305, 1350065705]"
      ]
     },
     "execution_count": 34,
     "metadata": {},
     "output_type": "execute_result"
    }
   ],
   "source": [
    "ts_date = [1349720105, 1349806505, 1349892905, 1349979305, 1350065705]\n",
    "ts_date"
   ]
  },
  {
   "cell_type": "code",
   "execution_count": 38,
   "metadata": {},
   "outputs": [
    {
     "data": {
      "text/plain": [
       "0    2012-10-08\n",
       "1    2012-10-09\n",
       "2    2012-10-10\n",
       "3    2012-10-11\n",
       "4    2012-10-12\n",
       "dtype: object"
      ]
     },
     "execution_count": 38,
     "metadata": {},
     "output_type": "execute_result"
    }
   ],
   "source": [
    "pd.Series(pd.to_datetime(ts_date,unit='s')).dt.date"
   ]
  },
  {
   "attachments": {},
   "cell_type": "markdown",
   "metadata": {},
   "source": [
    "case 3. change type only"
   ]
  },
  {
   "cell_type": "code",
   "execution_count": 41,
   "metadata": {},
   "outputs": [
    {
     "name": "stdout",
     "output_type": "stream",
     "text": [
      "<class 'pandas.core.series.Series'>\n",
      "Index: 301861 entries, 0 to 301860\n",
      "Series name: datetime\n",
      "Non-Null Count   Dtype \n",
      "--------------   ----- \n",
      "301861 non-null  object\n",
      "dtypes: object(1)\n",
      "memory usage: 4.6+ MB\n"
     ]
    }
   ],
   "source": [
    "df.datetime.info() #object -> str"
   ]
  },
  {
   "cell_type": "code",
   "execution_count": 43,
   "metadata": {},
   "outputs": [
    {
     "data": {
      "text/plain": [
       "0   2016-07-18\n",
       "1   2016-07-18\n",
       "2   2016-07-18\n",
       "3   2016-07-18\n",
       "4   2016-07-06\n",
       "Name: datetime, dtype: datetime64[ns]"
      ]
     },
     "execution_count": 43,
     "metadata": {},
     "output_type": "execute_result"
    }
   ],
   "source": [
    "#option1. string to datetime \n",
    "df['datetime'].astype('datetime64[ns]').head()"
   ]
  },
  {
   "cell_type": "code",
   "execution_count": 44,
   "metadata": {},
   "outputs": [
    {
     "data": {
      "text/plain": [
       "0   2016-07-18\n",
       "1   2016-07-18\n",
       "2   2016-07-18\n",
       "3   2016-07-18\n",
       "4   2016-07-06\n",
       "Name: datetime, dtype: datetime64[ns]"
      ]
     },
     "execution_count": 44,
     "metadata": {},
     "output_type": "execute_result"
    }
   ],
   "source": [
    "# option2.\n",
    "pd.to_datetime(df['datetime']).head()"
   ]
  },
  {
   "cell_type": "code",
   "execution_count": 47,
   "metadata": {},
   "outputs": [],
   "source": [
    "df['datetime'] = pd.to_datetime(df['datetime'])"
   ]
  },
  {
   "cell_type": "code",
   "execution_count": 48,
   "metadata": {},
   "outputs": [
    {
     "name": "stdout",
     "output_type": "stream",
     "text": [
      "<class 'pandas.core.series.Series'>\n",
      "Index: 301861 entries, 0 to 301860\n",
      "Series name: datetime\n",
      "Non-Null Count   Dtype         \n",
      "--------------   -----         \n",
      "301861 non-null  datetime64[ns]\n",
      "dtypes: datetime64[ns](1)\n",
      "memory usage: 4.6 MB\n"
     ]
    }
   ],
   "source": [
    "df.datetime.info()"
   ]
  },
  {
   "cell_type": "code",
   "execution_count": 49,
   "metadata": {},
   "outputs": [
    {
     "data": {
      "text/html": [
       "<div>\n",
       "<style scoped>\n",
       "    .dataframe tbody tr th:only-of-type {\n",
       "        vertical-align: middle;\n",
       "    }\n",
       "\n",
       "    .dataframe tbody tr th {\n",
       "        vertical-align: top;\n",
       "    }\n",
       "\n",
       "    .dataframe thead th {\n",
       "        text-align: right;\n",
       "    }\n",
       "</style>\n",
       "<table border=\"1\" class=\"dataframe\">\n",
       "  <thead>\n",
       "    <tr style=\"text-align: right;\">\n",
       "      <th></th>\n",
       "      <th>actiontype</th>\n",
       "      <th>ismydoc</th>\n",
       "      <th>ext</th>\n",
       "      <th>sessionid</th>\n",
       "      <th>documentposition</th>\n",
       "      <th>datetime</th>\n",
       "      <th>screen</th>\n",
       "    </tr>\n",
       "  </thead>\n",
       "  <tbody>\n",
       "    <tr>\n",
       "      <th>0</th>\n",
       "      <td>OPEN</td>\n",
       "      <td>NoView</td>\n",
       "      <td>PDF</td>\n",
       "      <td>9400fd2e43d7dc2d054ca78806236ee1</td>\n",
       "      <td>LOCALSTORAGE</td>\n",
       "      <td>2016-07-18</td>\n",
       "      <td>Per_Dir</td>\n",
       "    </tr>\n",
       "    <tr>\n",
       "      <th>1</th>\n",
       "      <td>CLOSE</td>\n",
       "      <td>NoView</td>\n",
       "      <td>PDF</td>\n",
       "      <td>9400fd2e43d7dc2d054ca78806236ee1</td>\n",
       "      <td>LOCALSTORAGE</td>\n",
       "      <td>2016-07-18</td>\n",
       "      <td>Per_Dir</td>\n",
       "    </tr>\n",
       "    <tr>\n",
       "      <th>2</th>\n",
       "      <td>OPEN</td>\n",
       "      <td>View</td>\n",
       "      <td>PDF</td>\n",
       "      <td>9400fd2e43d7dc2d054ca78806236ee1</td>\n",
       "      <td>MYPOLARISDRIVE</td>\n",
       "      <td>2016-07-18</td>\n",
       "      <td>Pub_Dir</td>\n",
       "    </tr>\n",
       "    <tr>\n",
       "      <th>3</th>\n",
       "      <td>CLOSE</td>\n",
       "      <td>View</td>\n",
       "      <td>PDF</td>\n",
       "      <td>9400fd2e43d7dc2d054ca78806236ee1</td>\n",
       "      <td>MYPOLARISDRIVE</td>\n",
       "      <td>2016-07-18</td>\n",
       "      <td>Pub_Dir</td>\n",
       "    </tr>\n",
       "    <tr>\n",
       "      <th>4</th>\n",
       "      <td>OPEN</td>\n",
       "      <td>NoView</td>\n",
       "      <td>PDF</td>\n",
       "      <td>f191063c562691041dfa935ff0876975</td>\n",
       "      <td>OTHERAPP</td>\n",
       "      <td>2016-07-06</td>\n",
       "      <td>Main</td>\n",
       "    </tr>\n",
       "  </tbody>\n",
       "</table>\n",
       "</div>"
      ],
      "text/plain": [
       "  actiontype ismydoc  ext                         sessionid documentposition   \n",
       "0       OPEN  NoView  PDF  9400fd2e43d7dc2d054ca78806236ee1     LOCALSTORAGE  \\\n",
       "1      CLOSE  NoView  PDF  9400fd2e43d7dc2d054ca78806236ee1     LOCALSTORAGE   \n",
       "2       OPEN    View  PDF  9400fd2e43d7dc2d054ca78806236ee1   MYPOLARISDRIVE   \n",
       "3      CLOSE    View  PDF  9400fd2e43d7dc2d054ca78806236ee1   MYPOLARISDRIVE   \n",
       "4       OPEN  NoView  PDF  f191063c562691041dfa935ff0876975         OTHERAPP   \n",
       "\n",
       "    datetime   screen  \n",
       "0 2016-07-18  Per_Dir  \n",
       "1 2016-07-18  Per_Dir  \n",
       "2 2016-07-18  Pub_Dir  \n",
       "3 2016-07-18  Pub_Dir  \n",
       "4 2016-07-06     Main  "
      ]
     },
     "execution_count": 49,
     "metadata": {},
     "output_type": "execute_result"
    }
   ],
   "source": [
    "df.head()"
   ]
  },
  {
   "attachments": {},
   "cell_type": "markdown",
   "metadata": {},
   "source": [
    "### 2.2 Missing value 확인"
   ]
  },
  {
   "cell_type": "code",
   "execution_count": 52,
   "metadata": {},
   "outputs": [
    {
     "data": {
      "text/plain": [
       "actiontype          0\n",
       "ismydoc             0\n",
       "ext                 0\n",
       "sessionid           0\n",
       "documentposition    0\n",
       "datetime            0\n",
       "screen              0\n",
       "dtype: int64"
      ]
     },
     "execution_count": 52,
     "metadata": {},
     "output_type": "execute_result"
    }
   ],
   "source": [
    "df.isnull().sum()"
   ]
  },
  {
   "attachments": {},
   "cell_type": "markdown",
   "metadata": {},
   "source": [
    "### 2.3 결측치 처리\n",
    "\n",
    "- **Drop**\n",
    "    - 경우에 따라 결측치 처리 방법이 달라진다.\n",
    "    - 샘플수가 많다면 missing values 를 포함하는 행을 모두 삭제하는 것이 가능하다\n",
    "\n",
    "```python\n",
    "# 결측치가 하나라도 있으면 \n",
    "df.dropna()\n",
    "\n",
    "# 모든 값이 Null일 경우만\n",
    "df.dropna(how='all')\n",
    "\n",
    "# 결측치가 하나 이상 있는 Case만 선택\n",
    "df[df.isnull().any(axis=1)]\n",
    "```\n",
    "\n",
    "- **Imputation**\n",
    "    - 만약 샘플수가 충분하지 않을 경우, Pandas의 fillna() 명령어로 Null 값을 채우는 것이 가능하다. \n",
    "    - 연속형인 경우 Mean이나 Median을 이용하고 명목형인 경우 Mode(최빈치)나 예측 모형을 통해 Null 값을 대체할 수 있다.\n",
    "\n",
    "```python\n",
    "# Null 값을 median으로 대체하는 코드 예제\n",
    "df.fillna(df.mean()) \n",
    "```"
   ]
  },
  {
   "cell_type": "code",
   "execution_count": 70,
   "metadata": {},
   "outputs": [
    {
     "data": {
      "text/html": [
       "<div>\n",
       "<style scoped>\n",
       "    .dataframe tbody tr th:only-of-type {\n",
       "        vertical-align: middle;\n",
       "    }\n",
       "\n",
       "    .dataframe tbody tr th {\n",
       "        vertical-align: top;\n",
       "    }\n",
       "\n",
       "    .dataframe thead th {\n",
       "        text-align: right;\n",
       "    }\n",
       "</style>\n",
       "<table border=\"1\" class=\"dataframe\">\n",
       "  <thead>\n",
       "    <tr style=\"text-align: right;\">\n",
       "      <th>screen</th>\n",
       "      <th>InProduct_Mob</th>\n",
       "      <th>InProduct_Web</th>\n",
       "      <th>Main</th>\n",
       "      <th>Per_Dir</th>\n",
       "      <th>Pub_Dir</th>\n",
       "      <th>Purchase_done</th>\n",
       "      <th>Purchase_page</th>\n",
       "    </tr>\n",
       "    <tr>\n",
       "      <th>datetime</th>\n",
       "      <th></th>\n",
       "      <th></th>\n",
       "      <th></th>\n",
       "      <th></th>\n",
       "      <th></th>\n",
       "      <th></th>\n",
       "      <th></th>\n",
       "    </tr>\n",
       "  </thead>\n",
       "  <tbody>\n",
       "    <tr>\n",
       "      <th>2016-07-01</th>\n",
       "      <td>137.0</td>\n",
       "      <td>147.0</td>\n",
       "      <td>3582.0</td>\n",
       "      <td>296.0</td>\n",
       "      <td>1008.0</td>\n",
       "      <td>2.0</td>\n",
       "      <td>23.0</td>\n",
       "    </tr>\n",
       "    <tr>\n",
       "      <th>2016-07-02</th>\n",
       "      <td>89.0</td>\n",
       "      <td>124.0</td>\n",
       "      <td>2683.0</td>\n",
       "      <td>206.0</td>\n",
       "      <td>801.0</td>\n",
       "      <td>2.0</td>\n",
       "      <td>15.0</td>\n",
       "    </tr>\n",
       "    <tr>\n",
       "      <th>2016-07-03</th>\n",
       "      <td>50.0</td>\n",
       "      <td>83.0</td>\n",
       "      <td>1886.0</td>\n",
       "      <td>165.0</td>\n",
       "      <td>590.0</td>\n",
       "      <td>NaN</td>\n",
       "      <td>28.0</td>\n",
       "    </tr>\n",
       "    <tr>\n",
       "      <th>2016-07-04</th>\n",
       "      <td>112.0</td>\n",
       "      <td>104.0</td>\n",
       "      <td>2808.0</td>\n",
       "      <td>281.0</td>\n",
       "      <td>764.0</td>\n",
       "      <td>NaN</td>\n",
       "      <td>29.0</td>\n",
       "    </tr>\n",
       "    <tr>\n",
       "      <th>2016-07-05</th>\n",
       "      <td>118.0</td>\n",
       "      <td>138.0</td>\n",
       "      <td>3335.0</td>\n",
       "      <td>300.0</td>\n",
       "      <td>842.0</td>\n",
       "      <td>1.0</td>\n",
       "      <td>26.0</td>\n",
       "    </tr>\n",
       "    <tr>\n",
       "      <th>2016-07-06</th>\n",
       "      <td>138.0</td>\n",
       "      <td>145.0</td>\n",
       "      <td>3256.0</td>\n",
       "      <td>293.0</td>\n",
       "      <td>855.0</td>\n",
       "      <td>1.0</td>\n",
       "      <td>30.0</td>\n",
       "    </tr>\n",
       "    <tr>\n",
       "      <th>2016-07-07</th>\n",
       "      <td>110.0</td>\n",
       "      <td>117.0</td>\n",
       "      <td>3150.0</td>\n",
       "      <td>266.0</td>\n",
       "      <td>807.0</td>\n",
       "      <td>NaN</td>\n",
       "      <td>18.0</td>\n",
       "    </tr>\n",
       "    <tr>\n",
       "      <th>2016-07-08</th>\n",
       "      <td>117.0</td>\n",
       "      <td>148.0</td>\n",
       "      <td>3208.0</td>\n",
       "      <td>273.0</td>\n",
       "      <td>865.0</td>\n",
       "      <td>2.0</td>\n",
       "      <td>20.0</td>\n",
       "    </tr>\n",
       "    <tr>\n",
       "      <th>2016-07-09</th>\n",
       "      <td>102.0</td>\n",
       "      <td>138.0</td>\n",
       "      <td>2381.0</td>\n",
       "      <td>229.0</td>\n",
       "      <td>748.0</td>\n",
       "      <td>2.0</td>\n",
       "      <td>23.0</td>\n",
       "    </tr>\n",
       "    <tr>\n",
       "      <th>2016-07-10</th>\n",
       "      <td>62.0</td>\n",
       "      <td>122.0</td>\n",
       "      <td>1872.0</td>\n",
       "      <td>230.0</td>\n",
       "      <td>636.0</td>\n",
       "      <td>2.0</td>\n",
       "      <td>18.0</td>\n",
       "    </tr>\n",
       "  </tbody>\n",
       "</table>\n",
       "</div>"
      ],
      "text/plain": [
       "screen      InProduct_Mob  InProduct_Web    Main  Per_Dir  Pub_Dir   \n",
       "datetime                                                             \n",
       "2016-07-01          137.0          147.0  3582.0    296.0   1008.0  \\\n",
       "2016-07-02           89.0          124.0  2683.0    206.0    801.0   \n",
       "2016-07-03           50.0           83.0  1886.0    165.0    590.0   \n",
       "2016-07-04          112.0          104.0  2808.0    281.0    764.0   \n",
       "2016-07-05          118.0          138.0  3335.0    300.0    842.0   \n",
       "2016-07-06          138.0          145.0  3256.0    293.0    855.0   \n",
       "2016-07-07          110.0          117.0  3150.0    266.0    807.0   \n",
       "2016-07-08          117.0          148.0  3208.0    273.0    865.0   \n",
       "2016-07-09          102.0          138.0  2381.0    229.0    748.0   \n",
       "2016-07-10           62.0          122.0  1872.0    230.0    636.0   \n",
       "\n",
       "screen      Purchase_done  Purchase_page  \n",
       "datetime                                  \n",
       "2016-07-01            2.0           23.0  \n",
       "2016-07-02            2.0           15.0  \n",
       "2016-07-03            NaN           28.0  \n",
       "2016-07-04            NaN           29.0  \n",
       "2016-07-05            1.0           26.0  \n",
       "2016-07-06            1.0           30.0  \n",
       "2016-07-07            NaN           18.0  \n",
       "2016-07-08            2.0           20.0  \n",
       "2016-07-09            2.0           23.0  \n",
       "2016-07-10            2.0           18.0  "
      ]
     },
     "execution_count": 70,
     "metadata": {},
     "output_type": "execute_result"
    }
   ],
   "source": [
    "#날짜별 screen 사용자 이용 현황\n",
    "df_by_screen = df.groupby(['datetime','screen'])['sessionid'].nunique().unstack()\n",
    "df_by_screen[:10]\n",
    "\n",
    "#.unstack() : 가장 안쪽에 있는 row를 column으로 피벗시킨 dataframe 반환 "
   ]
  },
  {
   "cell_type": "code",
   "execution_count": 71,
   "metadata": {},
   "outputs": [
    {
     "data": {
      "text/plain": [
       "screen\n",
       "InProduct_Mob    0\n",
       "InProduct_Web    0\n",
       "Main             0\n",
       "Per_Dir          0\n",
       "Pub_Dir          0\n",
       "Purchase_done    6\n",
       "Purchase_page    0\n",
       "dtype: int64"
      ]
     },
     "execution_count": 71,
     "metadata": {},
     "output_type": "execute_result"
    }
   ],
   "source": [
    "df_by_screen.isnull().sum()"
   ]
  },
  {
   "cell_type": "code",
   "execution_count": 73,
   "metadata": {},
   "outputs": [],
   "source": [
    "# 해당 결측치는 0으로 대체 \n",
    "df_by_screen.fillna(0,inplace=True)"
   ]
  },
  {
   "cell_type": "code",
   "execution_count": 74,
   "metadata": {},
   "outputs": [
    {
     "name": "stdout",
     "output_type": "stream",
     "text": [
      "<class 'pandas.core.frame.DataFrame'>\n",
      "DatetimeIndex: 30 entries, 2016-07-01 to 2016-07-30\n",
      "Data columns (total 7 columns):\n",
      " #   Column         Non-Null Count  Dtype  \n",
      "---  ------         --------------  -----  \n",
      " 0   InProduct_Mob  30 non-null     float64\n",
      " 1   InProduct_Web  30 non-null     float64\n",
      " 2   Main           30 non-null     float64\n",
      " 3   Per_Dir        30 non-null     float64\n",
      " 4   Pub_Dir        30 non-null     float64\n",
      " 5   Purchase_done  30 non-null     float64\n",
      " 6   Purchase_page  30 non-null     float64\n",
      "dtypes: float64(7)\n",
      "memory usage: 1.9 KB\n"
     ]
    }
   ],
   "source": [
    "df_by_screen.info()"
   ]
  },
  {
   "attachments": {},
   "cell_type": "markdown",
   "metadata": {},
   "source": [
    "### 2.4 결측치가 카테고리 변수인 경우\n",
    "- Option 1. 최빈치(mode)\n",
    "    - 쉽고 빠르게 이용가능하나, 낮은 적절성\n",
    "- Option 2. 예측모형으로 예측치\n",
    "    - 적절성은 비교적 높으나 별도의 모형과 계산량 필요"
   ]
  },
  {
   "attachments": {},
   "cell_type": "markdown",
   "metadata": {},
   "source": [
    "option1. 최빈값으로 대체"
   ]
  },
  {
   "cell_type": "code",
   "execution_count": 76,
   "metadata": {},
   "outputs": [],
   "source": [
    "#결측치 생성\n",
    "df_ms = df.copy()\n",
    "\n",
    "df_ms.loc[2, 'documentposition'] = np.nan \n",
    "df_ms.loc[5, 'documentposition'] = np.nan \n",
    "df_ms.loc[7, 'documentposition'] = np.nan "
   ]
  },
  {
   "cell_type": "code",
   "execution_count": 77,
   "metadata": {},
   "outputs": [
    {
     "data": {
      "text/html": [
       "<div>\n",
       "<style scoped>\n",
       "    .dataframe tbody tr th:only-of-type {\n",
       "        vertical-align: middle;\n",
       "    }\n",
       "\n",
       "    .dataframe tbody tr th {\n",
       "        vertical-align: top;\n",
       "    }\n",
       "\n",
       "    .dataframe thead th {\n",
       "        text-align: right;\n",
       "    }\n",
       "</style>\n",
       "<table border=\"1\" class=\"dataframe\">\n",
       "  <thead>\n",
       "    <tr style=\"text-align: right;\">\n",
       "      <th></th>\n",
       "      <th>actiontype</th>\n",
       "      <th>ismydoc</th>\n",
       "      <th>ext</th>\n",
       "      <th>sessionid</th>\n",
       "      <th>documentposition</th>\n",
       "      <th>datetime</th>\n",
       "      <th>screen</th>\n",
       "    </tr>\n",
       "  </thead>\n",
       "  <tbody>\n",
       "    <tr>\n",
       "      <th>0</th>\n",
       "      <td>OPEN</td>\n",
       "      <td>NoView</td>\n",
       "      <td>PDF</td>\n",
       "      <td>9400fd2e43d7dc2d054ca78806236ee1</td>\n",
       "      <td>LOCALSTORAGE</td>\n",
       "      <td>2016-07-18</td>\n",
       "      <td>Per_Dir</td>\n",
       "    </tr>\n",
       "    <tr>\n",
       "      <th>1</th>\n",
       "      <td>CLOSE</td>\n",
       "      <td>NoView</td>\n",
       "      <td>PDF</td>\n",
       "      <td>9400fd2e43d7dc2d054ca78806236ee1</td>\n",
       "      <td>LOCALSTORAGE</td>\n",
       "      <td>2016-07-18</td>\n",
       "      <td>Per_Dir</td>\n",
       "    </tr>\n",
       "    <tr>\n",
       "      <th>2</th>\n",
       "      <td>OPEN</td>\n",
       "      <td>View</td>\n",
       "      <td>PDF</td>\n",
       "      <td>9400fd2e43d7dc2d054ca78806236ee1</td>\n",
       "      <td>NaN</td>\n",
       "      <td>2016-07-18</td>\n",
       "      <td>Pub_Dir</td>\n",
       "    </tr>\n",
       "    <tr>\n",
       "      <th>3</th>\n",
       "      <td>CLOSE</td>\n",
       "      <td>View</td>\n",
       "      <td>PDF</td>\n",
       "      <td>9400fd2e43d7dc2d054ca78806236ee1</td>\n",
       "      <td>MYPOLARISDRIVE</td>\n",
       "      <td>2016-07-18</td>\n",
       "      <td>Pub_Dir</td>\n",
       "    </tr>\n",
       "    <tr>\n",
       "      <th>4</th>\n",
       "      <td>OPEN</td>\n",
       "      <td>NoView</td>\n",
       "      <td>PDF</td>\n",
       "      <td>f191063c562691041dfa935ff0876975</td>\n",
       "      <td>OTHERAPP</td>\n",
       "      <td>2016-07-06</td>\n",
       "      <td>Main</td>\n",
       "    </tr>\n",
       "    <tr>\n",
       "      <th>5</th>\n",
       "      <td>RESET</td>\n",
       "      <td>View</td>\n",
       "      <td>PDF</td>\n",
       "      <td>f191063c562691041dfa935ff0876975</td>\n",
       "      <td>NaN</td>\n",
       "      <td>2016-07-06</td>\n",
       "      <td>Main</td>\n",
       "    </tr>\n",
       "    <tr>\n",
       "      <th>6</th>\n",
       "      <td>CLOSE</td>\n",
       "      <td>NoView</td>\n",
       "      <td>PDF</td>\n",
       "      <td>3747719d8f6bdd334703320433928d5a</td>\n",
       "      <td>OTHERAPP</td>\n",
       "      <td>2016-07-20</td>\n",
       "      <td>Main</td>\n",
       "    </tr>\n",
       "    <tr>\n",
       "      <th>7</th>\n",
       "      <td>OPEN</td>\n",
       "      <td>NoView</td>\n",
       "      <td>PDF</td>\n",
       "      <td>3747719d8f6bdd334703320433928d5a</td>\n",
       "      <td>NaN</td>\n",
       "      <td>2016-07-20</td>\n",
       "      <td>Main</td>\n",
       "    </tr>\n",
       "    <tr>\n",
       "      <th>8</th>\n",
       "      <td>OPEN</td>\n",
       "      <td>NoView</td>\n",
       "      <td>PDF</td>\n",
       "      <td>3da5ab986c93803de1e25012d9972274</td>\n",
       "      <td>OTHERAPP</td>\n",
       "      <td>2016-07-28</td>\n",
       "      <td>Main</td>\n",
       "    </tr>\n",
       "    <tr>\n",
       "      <th>9</th>\n",
       "      <td>CLOSE</td>\n",
       "      <td>NoView</td>\n",
       "      <td>PDF</td>\n",
       "      <td>3da5ab986c93803de1e25012d9972274</td>\n",
       "      <td>OTHERAPP</td>\n",
       "      <td>2016-07-28</td>\n",
       "      <td>Main</td>\n",
       "    </tr>\n",
       "  </tbody>\n",
       "</table>\n",
       "</div>"
      ],
      "text/plain": [
       "  actiontype ismydoc  ext                         sessionid documentposition   \n",
       "0       OPEN  NoView  PDF  9400fd2e43d7dc2d054ca78806236ee1     LOCALSTORAGE  \\\n",
       "1      CLOSE  NoView  PDF  9400fd2e43d7dc2d054ca78806236ee1     LOCALSTORAGE   \n",
       "2       OPEN    View  PDF  9400fd2e43d7dc2d054ca78806236ee1              NaN   \n",
       "3      CLOSE    View  PDF  9400fd2e43d7dc2d054ca78806236ee1   MYPOLARISDRIVE   \n",
       "4       OPEN  NoView  PDF  f191063c562691041dfa935ff0876975         OTHERAPP   \n",
       "5      RESET    View  PDF  f191063c562691041dfa935ff0876975              NaN   \n",
       "6      CLOSE  NoView  PDF  3747719d8f6bdd334703320433928d5a         OTHERAPP   \n",
       "7       OPEN  NoView  PDF  3747719d8f6bdd334703320433928d5a              NaN   \n",
       "8       OPEN  NoView  PDF  3da5ab986c93803de1e25012d9972274         OTHERAPP   \n",
       "9      CLOSE  NoView  PDF  3da5ab986c93803de1e25012d9972274         OTHERAPP   \n",
       "\n",
       "    datetime   screen  \n",
       "0 2016-07-18  Per_Dir  \n",
       "1 2016-07-18  Per_Dir  \n",
       "2 2016-07-18  Pub_Dir  \n",
       "3 2016-07-18  Pub_Dir  \n",
       "4 2016-07-06     Main  \n",
       "5 2016-07-06     Main  \n",
       "6 2016-07-20     Main  \n",
       "7 2016-07-20     Main  \n",
       "8 2016-07-28     Main  \n",
       "9 2016-07-28     Main  "
      ]
     },
     "execution_count": 77,
     "metadata": {},
     "output_type": "execute_result"
    }
   ],
   "source": [
    "df_ms.head(10)"
   ]
  },
  {
   "attachments": {},
   "cell_type": "markdown",
   "metadata": {},
   "source": [
    "# 최빈값 계산\n"
   ]
  }
 ],
 "metadata": {
  "kernelspec": {
   "display_name": ".venv",
   "language": "python",
   "name": "python3"
  },
  "language_info": {
   "codemirror_mode": {
    "name": "ipython",
    "version": 3
   },
   "file_extension": ".py",
   "mimetype": "text/x-python",
   "name": "python",
   "nbconvert_exporter": "python",
   "pygments_lexer": "ipython3",
   "version": "3.11.3"
  },
  "orig_nbformat": 4
 },
 "nbformat": 4,
 "nbformat_minor": 2
}
