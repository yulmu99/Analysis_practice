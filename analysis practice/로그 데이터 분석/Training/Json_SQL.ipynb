{
 "cells": [
  {
   "cell_type": "code",
   "execution_count": 2,
   "metadata": {},
   "outputs": [],
   "source": [
    "import pandas as pd\n",
    "import json\n",
    "import os"
   ]
  },
  {
   "cell_type": "code",
   "execution_count": 81,
   "metadata": {},
   "outputs": [],
   "source": [
    "data = []\n",
    "mydf = pd.DataFrame()"
   ]
  },
  {
   "cell_type": "code",
   "execution_count": 82,
   "metadata": {},
   "outputs": [
    {
     "data": {
      "text/plain": [
       "'c:\\\\dev\\\\github\\\\analysis practice\\\\로그 데이터 분석'"
      ]
     },
     "execution_count": 82,
     "metadata": {},
     "output_type": "execute_result"
    }
   ],
   "source": [
    "#현재 경로 확인\n",
    "%pwd"
   ]
  },
  {
   "cell_type": "code",
   "execution_count": 83,
   "metadata": {},
   "outputs": [],
   "source": [
    "#to parse json files\n",
    "with open('./datas/tutorial_01/ds_tutorial_json.json') as f:\n",
    "    for line in f:\n",
    "        data.append(json.loads(line))\n",
    "\n",
    "    # convert json to df\n",
    "    for i in range(0,len(data)):\n",
    "        df = pd.DataFrame.from_dict([data[i]])\n",
    "        mydf =pd.concat([mydf,df])\n",
    "\n",
    "    mydf.reset_index(drop=True, inplace = True)\n",
    "        "
   ]
  },
  {
   "cell_type": "code",
   "execution_count": 84,
   "metadata": {},
   "outputs": [
    {
     "name": "stdout",
     "output_type": "stream",
     "text": [
      "<class 'pandas.core.frame.DataFrame'>\n",
      "RangeIndex: 120 entries, 0 to 119\n",
      "Data columns (total 7 columns):\n",
      " #   Column  Non-Null Count  Dtype \n",
      "---  ------  --------------  ----- \n",
      " 0   date    120 non-null    object\n",
      " 1   memno   120 non-null    object\n",
      " 2   screen  120 non-null    object\n",
      " 3   event   120 non-null    object\n",
      " 4   ver     120 non-null    object\n",
      " 5   area    120 non-null    object\n",
      " 6   group   120 non-null    object\n",
      "dtypes: object(7)\n",
      "memory usage: 6.7+ KB\n"
     ]
    }
   ],
   "source": [
    "mydf.info()"
   ]
  },
  {
   "cell_type": "code",
   "execution_count": 85,
   "metadata": {},
   "outputs": [
    {
     "data": {
      "text/plain": [
       "0      1511947418\n",
       "1      1511947418\n",
       "2      1511947418\n",
       "3      1511947418\n",
       "4      1511947418\n",
       "          ...    \n",
       "115    1511688217\n",
       "116    1511688217\n",
       "117    1511688217\n",
       "118    1511688217\n",
       "119    1511688217\n",
       "Name: date, Length: 120, dtype: object"
      ]
     },
     "execution_count": 85,
     "metadata": {},
     "output_type": "execute_result"
    }
   ],
   "source": [
    "mydf['date']"
   ]
  },
  {
   "cell_type": "code",
   "execution_count": 88,
   "metadata": {},
   "outputs": [],
   "source": [
    "#change date column type\n",
    "mydf['date'] = pd.to_datetime(mydf['date'],unit='s').dt.date\n",
    "mydf['date'] = mydf['date'].astype('datetime64[ns]')"
   ]
  },
  {
   "cell_type": "code",
   "execution_count": null,
   "metadata": {},
   "outputs": [],
   "source": []
  }
 ],
 "metadata": {
  "kernelspec": {
   "display_name": ".venv",
   "language": "python",
   "name": "python3"
  },
  "language_info": {
   "codemirror_mode": {
    "name": "ipython",
    "version": 3
   },
   "file_extension": ".py",
   "mimetype": "text/x-python",
   "name": "python",
   "nbconvert_exporter": "python",
   "pygments_lexer": "ipython3",
   "version": "3.11.3"
  },
  "orig_nbformat": 4
 },
 "nbformat": 4,
 "nbformat_minor": 2
}
