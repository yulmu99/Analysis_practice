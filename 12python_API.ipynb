{
 "cells": [
  {
   "cell_type": "code",
   "execution_count": 6,
   "id": "be59a872-298f-4cbf-9fe9-7368d9f5a23d",
   "metadata": {},
   "outputs": [],
   "source": [
    "#API서버\n",
    "#server란 우리가 사용하는 컴퓨터보다 더 고성능인 컴퓨터라고 생각\n",
    "#browser(우리)에서 server의 주소를 통해 접근하면 server에서 데이터를 전달해줌\n",
    "#컴퓨터가 데이터 가져오기에 유용한 인터페이스\n",
    "\n",
    "#clients -> requests -> server\n",
    "#server -> response -> clients\n",
    "\n",
    "#HTTP통신 - API 호출 방식\n",
    "#request mothod 중 하나 get\n",
    "#get방식 주로 사용\n",
    "#get방식 속에는 parameter받고 query string 활용\n",
    "\n",
    "#query string\n",
    "#주소상에서 ?뒤에 &로 연결\n",
    "\n",
    "#URI\n",
    "#인터넷에서 server의 주소\n",
    "\n",
    "#response(응답) 데이터 형식\n",
    "#json,xml 형태로 받을 수 있음\n",
    "\n",
    "#직렬화 : 객체 -> 바이트로 변경 / 역직렬화 : 직렬화의 반대\n",
    "#컴퓨터는 바이트 형태로 자료 받음\n",
    "\n",
    "#파싱\n",
    "#일련의 문자열을 의미있는 토큰으로 분해하고 이들로 이루어진 파스 트리(객체)를 만드는 과정\n",
    "\n"
   ]
  },
  {
   "cell_type": "code",
   "execution_count": 3,
   "id": "826a12d5-8746-49ce-be02-35beb4e1fcb7",
   "metadata": {},
   "outputs": [],
   "source": [
    "#requests라이브러리\n",
    "#HTTP통신을 쉽게 할 수 있는 라이브러리 /  파이썬 기본 라이브러리\n",
    "#query string을 직접 URI에 작성하지 않고 제공되는 메서드에 arguments만 입력하면 됨\n"
   ]
  },
  {
   "cell_type": "code",
   "execution_count": 15,
   "id": "cadceece-1cf5-4d26-bdc7-2bac879669bb",
   "metadata": {},
   "outputs": [
    {
     "name": "stdout",
     "output_type": "stream",
     "text": [
      "200\n",
      "인코딩:utf-8\n",
      "콘텐츠 타입:application/json; charset=utf-8\n",
      "서버:GitHub.com\n",
      "{'Server': 'GitHub.com', 'Date': 'Mon, 27 Feb 2023 06:25:08 GMT', 'Content-Type': 'application/json; charset=utf-8', 'Cache-Control': 'public, max-age=60, s-maxage=60', 'Vary': 'Accept, Accept-Encoding, Accept, X-Requested-With', 'ETag': 'W/\"60df2d3c5cc08384fcdfa1716b86c62e74668ea8fd8f06bb96ba10a4471d8ec7\"', 'X-GitHub-Media-Type': 'github.v3; format=json', 'Link': '<https://api.github.com/repositories?since=369>; rel=\"next\", <https://api.github.com/repositories{?since}>; rel=\"first\"', 'x-github-api-version-selected': '2022-11-28', 'Access-Control-Expose-Headers': 'ETag, Link, Location, Retry-After, X-GitHub-OTP, X-RateLimit-Limit, X-RateLimit-Remaining, X-RateLimit-Used, X-RateLimit-Resource, X-RateLimit-Reset, X-OAuth-Scopes, X-Accepted-OAuth-Scopes, X-Poll-Interval, X-GitHub-Media-Type, X-GitHub-SSO, X-GitHub-Request-Id, Deprecation, Sunset', 'Access-Control-Allow-Origin': '*', 'Strict-Transport-Security': 'max-age=31536000; includeSubdomains; preload', 'X-Frame-Options': 'deny', 'X-Content-Type-Options': 'nosniff', 'X-XSS-Protection': '0', 'Referrer-Policy': 'origin-when-cross-origin, strict-origin-when-cross-origin', 'Content-Security-Policy': \"default-src 'none'\", 'Content-Encoding': 'gzip', 'X-RateLimit-Limit': '60', 'X-RateLimit-Remaining': '31', 'X-RateLimit-Reset': '1677481638', 'X-RateLimit-Resource': 'core', 'X-RateLimit-Used': '29', 'Accept-Ranges': 'bytes', 'Transfer-Encoding': 'chunked', 'X-GitHub-Request-Id': 'C6A4:5E34:FD07:17D5D2:63FC4CC4'}\n",
      "{\n",
      "  \"id\": 1,\n",
      "  \"node_id\": \"MDEwOlJlcG9zaXRvcnkx\",\n",
      "  \"name\": \"grit\",\n",
      "  \"full_name\": \"mojombo/grit\",\n",
      "  \"private\": false,\n",
      "  \"owner\": {\n",
      "    \"login\": \"mojombo\",\n",
      "    \"id\": 1,\n",
      "    \"node_id\": \"MDQ6VXNlcjE=\",\n",
      "\n"
     ]
    }
   ],
   "source": [
    "#데이터 불러오기\n",
    "#가장 중요한 것은 documents 페이지에서 API에 대한 정보를 파악하는게 우선\n",
    "\n",
    "#실습\n",
    "import requests\n",
    "response = requests.get('https://api.github.com/repositories',\n",
    "           headers={'Accepts':'application/vnd.github.v3+json'})\n",
    "print(response.status_code)    #status_code :서버와 통신이 바르게 되었는지 확인하는 코드\n",
    "\n",
    "#https://httpstatuses.com/200 -> 코드 번호 입력하면 그 코드가 의미하는 바를 알려줌\n",
    "#서버가 보내주는 반응\n",
    "\n",
    "#response에 대한 정보 확인\n",
    "print(f\"인코딩:{response.encoding}\")\n",
    "print(f\"콘텐츠 타입:{response.headers['Content-Type']}\")\n",
    "print(f\"서버:{response.headers['server']}\")\n",
    "\n",
    "print(response.headers)\n",
    " \n",
    "#json 형태의 dictionary로 구조화\n",
    "import json\n",
    "print(json.dumps(response.json()[0], indent=2)[:200])"
   ]
  },
  {
   "cell_type": "code",
   "execution_count": null,
   "id": "62d4d40c-6845-4144-86c1-46baee2dfffe",
   "metadata": {},
   "outputs": [],
   "source": [
    "#public repositories\n",
    "response.json()"
   ]
  },
  {
   "cell_type": "code",
   "execution_count": 21,
   "id": "75f39f5b-27a8-497e-9f70-ff73ece289f1",
   "metadata": {},
   "outputs": [
    {
     "name": "stdout",
     "output_type": "stream",
     "text": [
      "200\n"
     ]
    },
    {
     "data": {
      "text/plain": [
       "{'Server': 'GitHub.com', 'Date': 'Mon, 27 Feb 2023 06:42:10 GMT', 'Content-Type': 'application/json; charset=utf-8', 'Cache-Control': 'no-cache', 'Vary': 'Accept, Accept-Encoding, Accept, X-Requested-With', 'X-GitHub-Media-Type': 'github.v3; param=text-match; format=json', 'Link': '<https://api.github.com/search/repositories?q=data_science%2Blanguage%3Apython&page=2>; rel=\"next\", <https://api.github.com/search/repositories?q=data_science%2Blanguage%3Apython&page=34>; rel=\"last\"', 'x-github-api-version-selected': '2022-11-28', 'Access-Control-Expose-Headers': 'ETag, Link, Location, Retry-After, X-GitHub-OTP, X-RateLimit-Limit, X-RateLimit-Remaining, X-RateLimit-Used, X-RateLimit-Resource, X-RateLimit-Reset, X-OAuth-Scopes, X-Accepted-OAuth-Scopes, X-Poll-Interval, X-GitHub-Media-Type, X-GitHub-SSO, X-GitHub-Request-Id, Deprecation, Sunset', 'Access-Control-Allow-Origin': '*', 'Strict-Transport-Security': 'max-age=31536000; includeSubdomains; preload', 'X-Frame-Options': 'deny', 'X-Content-Type-Options': 'nosniff', 'X-XSS-Protection': '0', 'Referrer-Policy': 'origin-when-cross-origin, strict-origin-when-cross-origin', 'Content-Security-Policy': \"default-src 'none'\", 'Content-Encoding': 'gzip', 'X-RateLimit-Limit': '10', 'X-RateLimit-Remaining': '4', 'X-RateLimit-Reset': '1677480157', 'X-RateLimit-Resource': 'search', 'X-RateLimit-Used': '6', 'Accept-Ranges': 'bytes', 'Content-Length': '18792', 'X-GitHub-Request-Id': 'DE79:2D25:FEA0C:284324:63FC50D5'}"
      ]
     },
     "execution_count": 21,
     "metadata": {},
     "output_type": "execute_result"
    }
   ],
   "source": [
    "#API의 documents에서 required -> 필수 입력\n",
    "\n",
    "\n",
    "response = requests.get( 'https://api.github.com/search/repositories',\n",
    "                          params = {'q':'data_science+language:python'},\n",
    "                          headers= {'Accept':'application/vnd.github.v3.text-match+json'})\n",
    "print(response.status_code)\n",
    "response.headers"
   ]
  },
  {
   "cell_type": "code",
   "execution_count": null,
   "id": "9a90d890-f7ca-4c6d-a2af-79cd487cdf27",
   "metadata": {},
   "outputs": [],
   "source": [
    "import json\n",
    "response.json()"
   ]
  },
  {
   "cell_type": "code",
   "execution_count": 24,
   "id": "94e2db56-3692-4292-a79c-e0e47021215a",
   "metadata": {},
   "outputs": [],
   "source": [
    "#json컨텐츠 딕셔너리로 변환\n"
   ]
  },
  {
   "cell_type": "code",
   "execution_count": 28,
   "id": "a2bde742-9e4d-4c2b-9013-2e712c9681c2",
   "metadata": {},
   "outputs": [
    {
     "data": {
      "text/plain": [
       "30"
      ]
     },
     "execution_count": 28,
     "metadata": {},
     "output_type": "execute_result"
    }
   ],
   "source": [
    "response.json().keys()\n",
    "len(response.json()['items'])"
   ]
  },
  {
   "cell_type": "code",
   "execution_count": null,
   "id": "15f518a4-256d-42c5-8535-fcc3e1a56ecb",
   "metadata": {},
   "outputs": [],
   "source": []
  }
 ],
 "metadata": {
  "kernelspec": {
   "display_name": "Python 3 (ipykernel)",
   "language": "python",
   "name": "python3"
  },
  "language_info": {
   "codemirror_mode": {
    "name": "ipython",
    "version": 3
   },
   "file_extension": ".py",
   "mimetype": "text/x-python",
   "name": "python",
   "nbconvert_exporter": "python",
   "pygments_lexer": "ipython3",
   "version": "3.9.13"
  }
 },
 "nbformat": 4,
 "nbformat_minor": 5
}
