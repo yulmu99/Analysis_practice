{
 "cells": [
  {
   "cell_type": "markdown",
   "id": "183b825e-ec64-4caf-8ddc-af687356abb9",
   "metadata": {},
   "source": [
    "# 모델 성능 평가지표\n",
    ">실제값과 모델에 의해 예측된 값을 비교하여 모델의 성능을 측정하는 방법"
   ]
  },
  {
   "cell_type": "markdown",
   "id": "47f8c834-d717-43ee-9948-1da130e9960e",
   "metadata": {},
   "source": [
    "# 회귀 모형 성능 측정"
   ]
  },
  {
   "cell_type": "markdown",
   "id": "956ff233-13d4-4254-a866-65ff5b997acb",
   "metadata": {},
   "source": [
    "## Linear Regression 학습 및 예측"
   ]
  },
  {
   "cell_type": "code",
   "execution_count": 2,
   "id": "c630b4f6-bab6-4159-84a5-e73cc181e857",
   "metadata": {},
   "outputs": [
    {
     "data": {
      "text/plain": [
       "((442, 10), (442,))"
      ]
     },
     "execution_count": 2,
     "metadata": {},
     "output_type": "execute_result"
    }
   ],
   "source": [
    "from sklearn.datasets import load_diabetes\n",
    "\n",
    "diabetes = load_diabetes()\n",
    "\n",
    "data = diabetes.data\n",
    "target = diabetes.target\n",
    "data.shape , target.shape"
   ]
  },
  {
   "cell_type": "code",
   "execution_count": 4,
   "id": "2b26fb4f-628c-42f5-a4aa-f427635b1026",
   "metadata": {},
   "outputs": [
    {
     "data": {
      "text/plain": [
       "((331, 10), (111, 10), (331,), (111,))"
      ]
     },
     "execution_count": 4,
     "metadata": {},
     "output_type": "execute_result"
    }
   ],
   "source": [
    "from sklearn.model_selection import train_test_split\n",
    "\n",
    "SEED=42\n",
    "X_train, X_valid, y_train, y_valid = train_test_split(data, target, random_state=SEED)\n",
    "X_train.shape, X_valid.shape,y_train.shape, y_valid.shape"
   ]
  },
  {
   "cell_type": "code",
   "execution_count": 5,
   "id": "1fb3a43c-7b79-49f2-b9eb-e19713a86f67",
   "metadata": {},
   "outputs": [],
   "source": [
    "from sklearn.linear_model import LinearRegression \n",
    "#모델 생성\n",
    "model = LinearRegression()\n",
    "#모델 학습\n",
    "model.fit(X_train,y_train)\n",
    "#모델 예측\n",
    "pred = model.predict(X_valid)"
   ]
  },
  {
   "cell_type": "code",
   "execution_count": 6,
   "id": "265efdfc-2648-4b9d-8cf7-9bfbb3ca6451",
   "metadata": {},
   "outputs": [
    {
     "data": {
      "text/plain": [
       "((111,), (111,))"
      ]
     },
     "execution_count": 6,
     "metadata": {},
     "output_type": "execute_result"
    }
   ],
   "source": [
    "pred.shape, y_valid.shape"
   ]
  },
  {
   "cell_type": "markdown",
   "id": "0669386a-951b-4e2c-8637-39733b8129ce",
   "metadata": {},
   "source": [
    "## 회귀 평가 지표"
   ]
  },
  {
   "cell_type": "markdown",
   "id": "b73e8423-8e0d-44f1-8b46-2acac2e8eb83",
   "metadata": {},
   "source": [
    "### R2(결정계수 ; Coefficient of Determination)"
   ]
  },
  {
   "cell_type": "code",
   "execution_count": 8,
   "id": "edfaadf1-25cb-4c8e-b0d2-9781b4bc46ee",
   "metadata": {},
   "outputs": [
    {
     "data": {
      "text/plain": [
       "0.48490866359058016"
      ]
     },
     "execution_count": 8,
     "metadata": {},
     "output_type": "execute_result"
    }
   ],
   "source": [
    "from sklearn.metrics import r2_score\n",
    "\n",
    "r2 = r2_score(y_vaild, pred)  \n",
    "r2"
   ]
  },
  {
   "cell_type": "markdown",
   "id": "80f38757-ad6b-4105-8554-e5d61a3c35af",
   "metadata": {},
   "source": [
    "### MSE\n",
    "- 실제값과 예측값의 차이를 제곱한 뒤 평균화\n",
    "- 손실함수로 사용"
   ]
  },
  {
   "cell_type": "code",
   "execution_count": 10,
   "id": "71e95709-575f-4c0d-99dd-4d3b5d6a1984",
   "metadata": {},
   "outputs": [
    {
     "data": {
      "text/plain": [
       "2848.2953079329427"
      ]
     },
     "execution_count": 10,
     "metadata": {},
     "output_type": "execute_result"
    }
   ],
   "source": [
    "from sklearn.metrics import mean_squared_error\n",
    "mse = mean_squared_error(y_valid,pred)\n",
    "mse"
   ]
  },
  {
   "cell_type": "markdown",
   "id": "8b832d54-dcd3-4d30-97d9-be1191d2e0cf",
   "metadata": {},
   "source": [
    "### RMSE"
   ]
  },
  {
   "cell_type": "code",
   "execution_count": 12,
   "id": "de6583f4-8003-425f-ab39-f2542dc9f155",
   "metadata": {},
   "outputs": [
    {
     "data": {
      "text/plain": [
       "53.36942296795931"
      ]
     },
     "execution_count": 12,
     "metadata": {},
     "output_type": "execute_result"
    }
   ],
   "source": [
    "import numpy as np\n",
    "np.sqrt(mse)"
   ]
  },
  {
   "cell_type": "markdown",
   "id": "b0f5470f-e63c-4e64-9194-24d286a74ff5",
   "metadata": {},
   "source": [
    "### MAE\n",
    "- 실제값과 예측값 차이의 절대값 평균"
   ]
  },
  {
   "cell_type": "code",
   "execution_count": 14,
   "id": "a50f555c-243b-4dea-addd-e4c0e93416b7",
   "metadata": {},
   "outputs": [
    {
     "data": {
      "text/plain": [
       "41.54836328325206"
      ]
     },
     "execution_count": 14,
     "metadata": {},
     "output_type": "execute_result"
    }
   ],
   "source": [
    "from sklearn.metrics import mean_absolute_error\n",
    "mae = mean_absolute_error(y_valid,pred)\n",
    "mae"
   ]
  },
  {
   "cell_type": "markdown",
   "id": "bd3aabb9-f701-4a50-bde7-b0acd49847cb",
   "metadata": {},
   "source": [
    "### MAPE\n",
    "- 실제값에 대한 절대오차 비율의 평균을 퍼센트로 표현\n",
    "- 0에 가까울 수록 모델학습 잘 된것"
   ]
  },
  {
   "cell_type": "code",
   "execution_count": 15,
   "id": "1ff8717a-5c63-48d2-8ab5-dba2d2d03e6c",
   "metadata": {},
   "outputs": [
    {
     "data": {
      "text/plain": [
       "0.3731095161631555"
      ]
     },
     "execution_count": 15,
     "metadata": {},
     "output_type": "execute_result"
    }
   ],
   "source": [
    "from sklearn.metrics import mean_absolute_percentage_error\n",
    "mean_absolute_percentage_error(y_valid,pred)"
   ]
  },
  {
   "cell_type": "markdown",
   "id": "4bc5f303-fe5d-4547-9458-d43c410b4f4c",
   "metadata": {},
   "source": [
    "### SMAPE\n",
    "- MAPE의 단점 보완"
   ]
  },
  {
   "cell_type": "code",
   "execution_count": 17,
   "id": "b580bf30-e521-420b-b435-24703c05ae51",
   "metadata": {},
   "outputs": [
    {
     "data": {
      "text/plain": [
       "0.15271360402048706"
      ]
     },
     "execution_count": 17,
     "metadata": {},
     "output_type": "execute_result"
    }
   ],
   "source": [
    "def smape(true, pred):\n",
    "    error = np.abs(true-pred) / (np.abs(true) +np.abs(pred))\n",
    "    return np.mean(error)\n",
    "\n",
    "smape(y_valid, pred)"
   ]
  },
  {
   "cell_type": "markdown",
   "id": "f4631db9-7c97-4d00-b647-d992f38f7029",
   "metadata": {},
   "source": [
    "# 분류 모형 성능 평가"
   ]
  },
  {
   "cell_type": "markdown",
   "id": "36b72508-d04b-4b52-84f0-b607cb82cd3c",
   "metadata": {},
   "source": [
    "## 혼동행렬\n",
    "> 분석 모델에서 구한 분류의 예측 범주와 데이터의 실제 분류 범주률 교차 표 형태로 정리한 행렬\n",
    "- Accuracy : 정확도\n",
    "- Specificity : 특이도\n",
    "- Recall, Sensitivity : 민감도\n",
    "- Precisosn : 정밀도"
   ]
  },
  {
   "cell_type": "code",
   "execution_count": 18,
   "id": "159cd4d5-0898-41d3-858a-78c09b73099c",
   "metadata": {},
   "outputs": [],
   "source": [
    "import numpy as np\n",
    "import pandas as pd\n",
    "\n",
    "from sklearn.datasets import load_digits\n",
    "\n",
    "digits = load_digits()"
   ]
  },
  {
   "cell_type": "code",
   "execution_count": 22,
   "id": "6128e2fa-96e3-4deb-942f-ac2efcbcb59c",
   "metadata": {},
   "outputs": [],
   "source": [
    "data = digits.data\n",
    "\n",
    "# Binary Classifier - 손글씨 데이터\n",
    "target = (digits.target == 5).astype(int)"
   ]
  },
  {
   "cell_type": "code",
   "execution_count": null,
   "id": "9315f181-fc4b-41e5-89b7-02d04239dd51",
   "metadata": {},
   "outputs": [],
   "source": [
    "#이진 분류 데이터 만들기"
   ]
  },
  {
   "cell_type": "code",
   "execution_count": 23,
   "id": "9a64b82a-7a25-4fb3-b19c-c94f21789d32",
   "metadata": {},
   "outputs": [
    {
     "data": {
      "text/plain": [
       "1"
      ]
     },
     "execution_count": 23,
     "metadata": {},
     "output_type": "execute_result"
    }
   ],
   "source": [
    "int(5==5)"
   ]
  },
  {
   "cell_type": "code",
   "execution_count": 24,
   "id": "7149f405-2b08-4f4b-b20e-15cc0b900ec6",
   "metadata": {},
   "outputs": [
    {
     "data": {
      "text/plain": [
       "0"
      ]
     },
     "execution_count": 24,
     "metadata": {},
     "output_type": "execute_result"
    }
   ],
   "source": [
    "int(4 == 5)"
   ]
  },
  {
   "cell_type": "code",
   "execution_count": 26,
   "id": "9a8ef206-fb2d-408b-8da4-bd0d43b06c55",
   "metadata": {},
   "outputs": [
    {
     "data": {
      "text/plain": [
       "((1347, 64), (450, 64), (1347,), (450,))"
      ]
     },
     "execution_count": 26,
     "metadata": {},
     "output_type": "execute_result"
    }
   ],
   "source": [
    "from sklearn.model_selection import train_test_split\n",
    "\n",
    "SEED = 42\n",
    "X_train, X_valid, y_train, y_valid = train_test_split(data,target, random_state=SEED)\n",
    "X_train.shape, X_valid.shape, y_train.shape, y_valid.shape"
   ]
  },
  {
   "cell_type": "code",
   "execution_count": 27,
   "id": "b536b316-e2ec-445a-8555-3b16e87a3a20",
   "metadata": {},
   "outputs": [
    {
     "data": {
      "text/plain": [
       "5"
      ]
     },
     "execution_count": 27,
     "metadata": {},
     "output_type": "execute_result"
    }
   ],
   "source": [
    "# 원본 데이터\n",
    "digit = data[5]\n",
    "digits.target[5]"
   ]
  },
  {
   "cell_type": "code",
   "execution_count": 28,
   "id": "1b7679f8-6f53-4b28-9165-1c9fe6366d26",
   "metadata": {},
   "outputs": [
    {
     "data": {
      "text/plain": [
       "1"
      ]
     },
     "execution_count": 28,
     "metadata": {},
     "output_type": "execute_result"
    }
   ],
   "source": [
    "#변경한 데이터 \n",
    "target[5]"
   ]
  },
  {
   "cell_type": "code",
   "execution_count": 30,
   "id": "16b985c2-a062-4b1e-9521-1c77a6c25fae",
   "metadata": {},
   "outputs": [
    {
     "data": {
      "image/png": "[encoded data removed]",
      "text/plain": [
       "<Figure size 640x480 with 1 Axes>"
      ]
     },
     "metadata": {},
     "output_type": "display_data"
    }
   ],
   "source": [
    "# 손글씨 확인 \n",
    "\n",
    "import matplotlib as mpl\n",
    "import matplotlib.pyplot as plt\n",
    "\n",
    "#벡터 변환\n",
    "digit_img = digit.reshape(8,8)\n",
    "\n",
    "plt.imshow(digit_img, cmap='gray')\n",
    "plt.axis('off')\n",
    "plt.show()"
   ]
  },
  {
   "cell_type": "code",
   "execution_count": 32,
   "id": "c47dd2cb-bb75-415c-b361-8fc0d64dc546",
   "metadata": {},
   "outputs": [
    {
     "data": {
      "text/plain": [
       "array([ 0.,  0., 12., 10.,  0.,  0.,  0.,  0.,  0.,  0., 14., 16., 16.,\n",
       "       14.,  0.,  0.,  0.,  0., 13., 16., 15., 10.,  1.,  0.,  0.,  0.,\n",
       "       11., 16., 16.,  7.,  0.,  0.,  0.,  0.,  0.,  4.,  7., 16.,  7.,\n",
       "        0.,  0.,  0.,  0.,  0.,  4., 16.,  9.,  0.,  0.,  0.,  5.,  4.,\n",
       "       12., 16.,  4.,  0.,  0.,  0.,  9., 16., 16., 10.,  0.,  0.])"
      ]
     },
     "execution_count": 32,
     "metadata": {},
     "output_type": "execute_result"
    }
   ],
   "source": [
    "digit"
   ]
  },
  {
   "cell_type": "code",
   "execution_count": 31,
   "id": "23974ff8-f009-4478-ba24-370cecbc46b5",
   "metadata": {},
   "outputs": [
    {
     "data": {
      "text/plain": [
       "array([[ 0.,  0., 12., 10.,  0.,  0.,  0.,  0.],\n",
       "       [ 0.,  0., 14., 16., 16., 14.,  0.,  0.],\n",
       "       [ 0.,  0., 13., 16., 15., 10.,  1.,  0.],\n",
       "       [ 0.,  0., 11., 16., 16.,  7.,  0.,  0.],\n",
       "       [ 0.,  0.,  0.,  4.,  7., 16.,  7.,  0.],\n",
       "       [ 0.,  0.,  0.,  0.,  4., 16.,  9.,  0.],\n",
       "       [ 0.,  0.,  5.,  4., 12., 16.,  4.,  0.],\n",
       "       [ 0.,  0.,  9., 16., 16., 10.,  0.,  0.]])"
      ]
     },
     "execution_count": 31,
     "metadata": {},
     "output_type": "execute_result"
    }
   ],
   "source": [
    "digit_img"
   ]
  },
  {
   "cell_type": "code",
   "execution_count": 42,
   "id": "6a682127-724b-4dd6-bf2c-f9a75dba77b9",
   "metadata": {},
   "outputs": [],
   "source": [
    "#손글씨 3 \n",
    "Three = data[3]"
   ]
  },
  {
   "cell_type": "code",
   "execution_count": 41,
   "id": "4598f1ef-8e72-4b93-8d0e-c61d3c2d5222",
   "metadata": {},
   "outputs": [
    {
     "data": {
      "image/png": "[encoded data removed]",
      "text/plain": [
       "<Figure size 640x480 with 1 Axes>"
      ]
     },
     "metadata": {},
     "output_type": "display_data"
    }
   ],
   "source": [
    "Three_img = Three.reshape(8,8)\n",
    "\n",
    "plt.imshow(Three_img, cmap='gray')\n",
    "plt.axis('off')\n",
    "plt.show()"
   ]
  },
  {
   "cell_type": "code",
   "execution_count": 45,
   "id": "8f47325d-e6dc-4fea-9a16-ed276cbed5c2",
   "metadata": {},
   "outputs": [
    {
     "data": {
      "text/plain": [
       "array([0])"
      ]
     },
     "execution_count": 45,
     "metadata": {},
     "output_type": "execute_result"
    }
   ],
   "source": [
    "from sklearn.linear_model import SGDClassifier\n",
    "\n",
    "sgd_clf = SGDClassifier(random_state=42)\n",
    "sgd_clf.fit(X_train,y_train)\n",
    "\n",
    "sgd_clf.predict([digit])"
   ]
  },
  {
   "cell_type": "code",
   "execution_count": 46,
   "id": "fb7b3ec6-3818-4a4a-a168-bb8f10365fb0",
   "metadata": {},
   "outputs": [],
   "source": [
    "from sklearn.model_selection import cross_val_predict  #교차검증\n",
    "\n",
    "y_train_pred = cross_val_predict(sgd_clf, X_train, y_train, cv=5)"
   ]
  },
  {
   "cell_type": "code",
   "execution_count": 47,
   "id": "9f33a096-4489-447d-8d23-7f63da653b2e",
   "metadata": {},
   "outputs": [
    {
     "data": {
      "text/plain": [
       "array([[1217,    7],\n",
       "       [   8,  115]], dtype=int64)"
      ]
     },
     "execution_count": 47,
     "metadata": {},
     "output_type": "execute_result"
    }
   ],
   "source": [
    "from sklearn.metrics import confusion_matrix\n",
    "\n",
    "confusion_matrix(y_train, y_train_pred)"
   ]
  },
  {
   "cell_type": "markdown",
   "id": "213a8249-2d89-48ef-ae8a-120c80dfea5f",
   "metadata": {},
   "source": [
    "### 모델 예측"
   ]
  },
  {
   "cell_type": "markdown",
   "id": "9a7c808b-4a04-4535-8880-3819f9d8f4a5",
   "metadata": {},
   "source": [
    "#### Accuracy(정확도)"
   ]
  },
  {
   "cell_type": "markdown",
   "id": "00eb9936-ac91-4618-87da-9e794542d0c4",
   "metadata": {},
   "source": [
    "- Dummy 예측"
   ]
  },
  {
   "cell_type": "code",
   "execution_count": 50,
   "id": "ff80b6d0-64e0-4ea6-8d9a-810c438702d1",
   "metadata": {},
   "outputs": [],
   "source": [
    "from sklearn.dummy import DummyClassifier\n",
    "\n",
    "dummy = DummyClassifier(strategy = 'most_frequent') \n",
    "dummy.fit(X_train, y_train)\n",
    "pred_dummy = dummy.predict(X_valid)"
   ]
  },
  {
   "cell_type": "markdown",
   "id": "a8a1922c-8e93-4de2-8a0a-a7a65ca4579f",
   "metadata": {},
   "source": [
    "- 모델 예측"
   ]
  },
  {
   "cell_type": "code",
   "execution_count": 55,
   "id": "53f2f254-19ca-4efc-bb91-543424715880",
   "metadata": {},
   "outputs": [],
   "source": [
    "from sklearn.linear_model import SGDClassifier\n",
    "\n",
    "sgd_clf = SGDClassifier(random_state = 42)\n",
    "sgd_clf.fit(X_train, y_train)\n",
    "\n",
    "pred_clf = sgd_clf.predict(X_valid)"
   ]
  },
  {
   "cell_type": "code",
   "execution_count": 57,
   "id": "c002c5aa-0fc2-4e24-8bf5-89e81231c978",
   "metadata": {},
   "outputs": [
    {
     "name": "stdout",
     "output_type": "stream",
     "text": [
      "dummy:0.8688888888888889\n",
      "model:0.9866666666666667\n"
     ]
    }
   ],
   "source": [
    "from sklearn.metrics import accuracy_score\n",
    "score = accuracy_score(y_valid, pred_dummy)\n",
    "print(f'dummy:{score}')\n",
    "\n",
    "score =  accuracy_score(y_valid,pred_clf)\n",
    "print(f'model:{score}')"
   ]
  },
  {
   "cell_type": "code",
   "execution_count": 58,
   "id": "b3ba89f3-d208-4ff3-91f3-4166e5562dda",
   "metadata": {},
   "outputs": [],
   "source": [
    "# 데이터가 unbalance한 경우에는 dummy의 예측이 더 잘 맞을 수 있음\n",
    "# accuracy만 신뢰 할 수 없음"
   ]
  },
  {
   "cell_type": "markdown",
   "id": "f8511c91-9b74-4ba7-8fb0-232559171604",
   "metadata": {},
   "source": [
    "#### Precision (정밀도)"
   ]
  },
  {
   "cell_type": "code",
   "execution_count": 65,
   "id": "840a82d5-abcb-4dc5-b228-2eee9acef5bd",
   "metadata": {},
   "outputs": [
    {
     "name": "stdout",
     "output_type": "stream",
     "text": [
      "dummy: 0.0\n",
      "model: 1.0\n"
     ]
    },
    {
     "name": "stderr",
     "output_type": "stream",
     "text": [
      "C:\\Users\\user\\anaconda3\\lib\\site-packages\\sklearn\\metrics\\_classification.py:1318: UndefinedMetricWarning: Precision is ill-defined and being set to 0.0 due to no predicted samples. Use `zero_division` parameter to control this behavior.\n",
      "  _warn_prf(average, modifier, msg_start, len(result))\n"
     ]
    }
   ],
   "source": [
    "from sklearn.metrics import precision_score\n",
    "score = precision_score(y_valid, pred_dummy)\n",
    "print(f'dummy: {score}')\n",
    "\n",
    "score = precision_score(y_valid, pred_clf)\n",
    "print(f'model: {score}')"
   ]
  },
  {
   "cell_type": "markdown",
   "id": "3a7bb417-5769-4352-91b4-b316cadbf15f",
   "metadata": {},
   "source": [
    "#### Sensitivity(민감도) = Recall(재현도) = TPR"
   ]
  },
  {
   "cell_type": "code",
   "execution_count": 68,
   "id": "b82e1fe6-2023-4bf2-898b-5d146df1e4ca",
   "metadata": {},
   "outputs": [
    {
     "name": "stdout",
     "output_type": "stream",
     "text": [
      "dummy: 0.0\n",
      "model: 0.8983050847457628\n"
     ]
    }
   ],
   "source": [
    "from sklearn.metrics import recall_score\n",
    "score = recall_score(y_valid, pred_dummy)\n",
    "print(f\"dummy: {score}\")\n",
    "\n",
    "score = recall_score(y_valid, pred_clf)\n",
    "print(f\"model: {score}\")"
   ]
  },
  {
   "cell_type": "markdown",
   "id": "b200dea5-65c2-42ae-be02-626d569ed1ee",
   "metadata": {},
   "source": [
    "#### F1 score"
   ]
  },
  {
   "cell_type": "code",
   "execution_count": 62,
   "id": "41cd0d62-b404-4551-a027-44f9508d02e7",
   "metadata": {},
   "outputs": [
    {
     "name": "stdout",
     "output_type": "stream",
     "text": [
      "dummy: 0.0\n",
      "model: 0.9464285714285715\n"
     ]
    }
   ],
   "source": [
    "from sklearn.metrics import f1_score\n",
    "score = f1_score(y_valid, pred_dummy)\n",
    "print(f'dummy: {score}')\n",
    "\n",
    "score = f1_score(y_valid, pred_clf)\n",
    "print(f\"model: {score}\")"
   ]
  },
  {
   "cell_type": "code",
   "execution_count": 69,
   "id": "92a02965-c5f2-46ff-854a-8721bd1bebf3",
   "metadata": {},
   "outputs": [
    {
     "name": "stdout",
     "output_type": "stream",
     "text": [
      "              precision    recall  f1-score   support\n",
      "\n",
      "           0       0.87      1.00      0.93       391\n",
      "           1       0.00      0.00      0.00        59\n",
      "\n",
      "    accuracy                           0.87       450\n",
      "   macro avg       0.43      0.50      0.46       450\n",
      "weighted avg       0.75      0.87      0.81       450\n",
      "\n",
      "----------------------------------------------------------------------------------------------------\n",
      "              precision    recall  f1-score   support\n",
      "\n",
      "           0       0.98      1.00      0.99       391\n",
      "           1       1.00      0.90      0.95        59\n",
      "\n",
      "    accuracy                           0.99       450\n",
      "   macro avg       0.99      0.95      0.97       450\n",
      "weighted avg       0.99      0.99      0.99       450\n",
      "\n"
     ]
    },
    {
     "name": "stderr",
     "output_type": "stream",
     "text": [
      "C:\\Users\\user\\anaconda3\\lib\\site-packages\\sklearn\\metrics\\_classification.py:1318: UndefinedMetricWarning: Precision and F-score are ill-defined and being set to 0.0 in labels with no predicted samples. Use `zero_division` parameter to control this behavior.\n",
      "  _warn_prf(average, modifier, msg_start, len(result))\n",
      "C:\\Users\\user\\anaconda3\\lib\\site-packages\\sklearn\\metrics\\_classification.py:1318: UndefinedMetricWarning: Precision and F-score are ill-defined and being set to 0.0 in labels with no predicted samples. Use `zero_division` parameter to control this behavior.\n",
      "  _warn_prf(average, modifier, msg_start, len(result))\n",
      "C:\\Users\\user\\anaconda3\\lib\\site-packages\\sklearn\\metrics\\_classification.py:1318: UndefinedMetricWarning: Precision and F-score are ill-defined and being set to 0.0 in labels with no predicted samples. Use `zero_division` parameter to control this behavior.\n",
      "  _warn_prf(average, modifier, msg_start, len(result))\n"
     ]
    }
   ],
   "source": [
    "from sklearn.metrics import classification_report\n",
    "\n",
    "print(classification_report(y_valid,pred_dummy))\n",
    "print('-'*100)\n",
    "print(classification_report(y_valid,pred_clf))"
   ]
  },
  {
   "cell_type": "markdown",
   "id": "d5a9c401-81ba-4672-b423-28ad86c72cca",
   "metadata": {},
   "source": [
    "#### 임계값\n",
    "- 모델은 분류에서 확률(0~1) 또는 음수에서 양수 사이에 실수를 예측값으로 출력\n",
    "- 사이킷런에서는 predict_proba(), dicision_funtion() 제공\n",
    "> predict_proba(): 0.5 이상이면 1로 예측\n",
    "> dicision_funtion(): 0 이상이면 1로 예측"
   ]
  },
  {
   "cell_type": "code",
   "execution_count": 66,
   "id": "cf453454-fb92-47d5-bf0f-fe2fc56759ee",
   "metadata": {},
   "outputs": [],
   "source": [
    "pred_proba = sgd_clf.decision_function(X_valid)"
   ]
  },
  {
   "cell_type": "code",
   "execution_count": 70,
   "id": "c94bb79b-d815-43fa-bd6f-001f64e415a5",
   "metadata": {},
   "outputs": [
    {
     "data": {
      "text/plain": [
       "(1.0, 0.8983050847457628)"
      ]
     },
     "execution_count": 70,
     "metadata": {},
     "output_type": "execute_result"
    }
   ],
   "source": [
    "threshold = 0 # 사이킷런의 디폴트값\n",
    "pred = np.where(pred_proba > threshold, 1, 0)\n",
    "\n",
    "precision_score(y_valid, pred), recall_score(y_valid, pred)"
   ]
  },
  {
   "cell_type": "code",
   "execution_count": 71,
   "id": "9aa2429c-1a1b-4891-8a01-a52e0f8a8301",
   "metadata": {},
   "outputs": [
    {
     "name": "stderr",
     "output_type": "stream",
     "text": [
      "C:\\Users\\user\\anaconda3\\lib\\site-packages\\sklearn\\metrics\\_classification.py:1318: UndefinedMetricWarning: Precision is ill-defined and being set to 0.0 due to no predicted samples. Use `zero_division` parameter to control this behavior.\n",
      "  _warn_prf(average, modifier, msg_start, len(result))\n"
     ]
    },
    {
     "data": {
      "text/plain": [
       "(0.0, 0.0)"
      ]
     },
     "execution_count": 71,
     "metadata": {},
     "output_type": "execute_result"
    }
   ],
   "source": [
    "threshold = 30000\n",
    "pred = np.where(pred_proba > threshold , 1, 0)\n",
    "\n",
    "precision_score(y_valid, pred), recall_score(y_valid, pred)"
   ]
  },
  {
   "cell_type": "code",
   "execution_count": 72,
   "id": "cc4751b2-ce3e-4648-94d7-536edc2a6fe9",
   "metadata": {},
   "outputs": [
    {
     "data": {
      "text/plain": [
       "(0.13111111111111112, 1.0)"
      ]
     },
     "execution_count": 72,
     "metadata": {},
     "output_type": "execute_result"
    }
   ],
   "source": [
    "threshold = -30000\n",
    "pred = np.where(pred_proba > threshold , 1, 0)\n",
    "\n",
    "precision_score(y_valid, pred), recall_score(y_valid, pred)"
   ]
  },
  {
   "cell_type": "markdown",
   "id": "d2ef4fd3-ce30-442d-8fda-1a9ed7a9ad94",
   "metadata": {},
   "source": [
    "- DecisionTreeClassifier"
   ]
  },
  {
   "cell_type": "code",
   "execution_count": 76,
   "id": "20df0c4e-55d5-4a2f-b3e6-1350310cc3ec",
   "metadata": {},
   "outputs": [],
   "source": [
    "from sklearn.tree import DecisionTreeClassifier\n",
    "# 모델 생성\n",
    "tree = DecisionTreeClassifier (max_depth=3, random_state=SEED)\n",
    "# 모델 학습\n",
    "tree.fit(X_train, y_train)\n",
    "# 모델 평가 : predict -> predict_proba(확률)을 아용해 threshold를 적용할 결과\n",
    "pred_tree = tree.predict(X_valid) "
   ]
  },
  {
   "cell_type": "code",
   "execution_count": 77,
   "id": "0dd8abcd-931a-4ee5-9593-e33fa3d1012b",
   "metadata": {},
   "outputs": [
    {
     "data": {
      "text/plain": [
       "array([0, 0, 0])"
      ]
     },
     "execution_count": 77,
     "metadata": {},
     "output_type": "execute_result"
    }
   ],
   "source": [
    "pred_tree[:3]"
   ]
  },
  {
   "cell_type": "code",
   "execution_count": 78,
   "id": "ebbf12e4-b2f9-4653-816d-edb2cca6c206",
   "metadata": {},
   "outputs": [],
   "source": [
    "pred_proba =  tree.predict_proba(X_valid)[:,1]"
   ]
  },
  {
   "cell_type": "code",
   "execution_count": 79,
   "id": "a4ea9d23-6248-415d-a7bc-876e763d7ff3",
   "metadata": {},
   "outputs": [
    {
     "data": {
      "text/plain": [
       "array([0.02371542, 0.01059322, 0.01059322])"
      ]
     },
     "execution_count": 79,
     "metadata": {},
     "output_type": "execute_result"
    }
   ],
   "source": [
    "pred_proba[:3]"
   ]
  },
  {
   "cell_type": "code",
   "execution_count": 80,
   "id": "a78a6ca3-1e7e-4a89-ac1f-7b0ee0758d48",
   "metadata": {},
   "outputs": [
    {
     "data": {
      "text/plain": [
       "(0.9811320754716981, 0.8813559322033898)"
      ]
     },
     "execution_count": 80,
     "metadata": {},
     "output_type": "execute_result"
    }
   ],
   "source": [
    "threshold = 0.5 # 사이킷런의 디폴트값\n",
    "pred = np.where(pred_proba > threshold , 1 ,0)\n",
    "\n",
    "precision_score(y_valid,pred) , recall_score(y_valid,pred)"
   ]
  },
  {
   "cell_type": "code",
   "execution_count": 81,
   "id": "58f4c10d-5e3d-4937-9085-31d9e9b72a36",
   "metadata": {},
   "outputs": [
    {
     "data": {
      "text/plain": [
       "(0.9811320754716981, 0.8813559322033898)"
      ]
     },
     "execution_count": 81,
     "metadata": {},
     "output_type": "execute_result"
    }
   ],
   "source": [
    "threshold = 0.9\n",
    "pred = np.where(pred_proba > threshold , 1 ,0)\n",
    "\n",
    "precision_score(y_valid,pred) , recall_score(y_valid,pred)"
   ]
  },
  {
   "cell_type": "code",
   "execution_count": 82,
   "id": "77d5869f-416d-4be3-a696-280045efb122",
   "metadata": {},
   "outputs": [
    {
     "data": {
      "text/plain": [
       "(0.8813559322033898, 0.8813559322033898)"
      ]
     },
     "execution_count": 82,
     "metadata": {},
     "output_type": "execute_result"
    }
   ],
   "source": [
    "threshold = 0.1\n",
    "pred = np.where(pred_proba > threshold , 1 ,0)\n",
    "\n",
    "precision_score(y_valid,pred) , recall_score(y_valid,pred)"
   ]
  },
  {
   "cell_type": "code",
   "execution_count": 83,
   "id": "ba573281-0e23-47a7-bca7-6114ad136b61",
   "metadata": {},
   "outputs": [
    {
     "data": {
      "image/png": "[encoded data removed]",
      "text/plain": [
       "<Figure size 1500x500 with 4 Axes>"
      ]
     },
     "metadata": {},
     "output_type": "display_data"
    }
   ],
   "source": [
    "from sklearn.metrics import confusion_matrix, ConfusionMatrixDisplay\n",
    "\n",
    "fig , ax = plt.subplots(1,2,figsize=(15,5))\n",
    "\n",
    "cm = confusion_matrix(y_valid,pred_dummy) \n",
    "disp = ConfusionMatrixDisplay(confusion_matrix=cm)\n",
    "disp.plot(ax = ax[0])\n",
    "\n",
    "cm = confusion_matrix(y_valid,pred_clf) \n",
    "disp = ConfusionMatrixDisplay(confusion_matrix=cm)\n",
    "disp.plot(ax = ax[1])\n",
    "plt.show()"
   ]
  },
  {
   "cell_type": "code",
   "execution_count": 84,
   "id": "c39f40e2-3b89-4bf5-947f-681a8a7cb412",
   "metadata": {},
   "outputs": [
    {
     "data": {
      "text/plain": [
       "array([[391,   0],\n",
       "       [  6,  53]], dtype=int64)"
      ]
     },
     "execution_count": 84,
     "metadata": {},
     "output_type": "execute_result"
    }
   ],
   "source": [
    "from sklearn.metrics import confusion_matrix\n",
    "\n",
    "confusion_matrix(y_valid, pred_clf)"
   ]
  },
  {
   "cell_type": "markdown",
   "id": "9cceca44-3bb4-479c-8275-5b4a296346d3",
   "metadata": {},
   "source": [
    "## ROC curve "
   ]
  },
  {
   "cell_type": "code",
   "execution_count": 87,
   "id": "2ed68840-98aa-45b0-9858-834fd5e76ac1",
   "metadata": {},
   "outputs": [],
   "source": [
    "pred_dummy = dummy.predict_proba(X_valid)[:,1]  #1에 대한 확률만 \n",
    "pred_tree = tree.predict_proba(X_valid)[:,1]"
   ]
  },
  {
   "cell_type": "code",
   "execution_count": 88,
   "id": "ece0d8fb-d4e0-4244-9dc9-212373d2d060",
   "metadata": {},
   "outputs": [
    {
     "data": {
      "image/png": "[encoded data removed]",
      "text/plain": [
       "<Figure size 640x480 with 1 Axes>"
      ]
     },
     "metadata": {},
     "output_type": "display_data"
    }
   ],
   "source": [
    "from sklearn.metrics import RocCurveDisplay\n",
    "\n",
    "fig, ax = plt.subplots()\n",
    "RocCurveDisplay.from_predictions(y_valid,pred_dummy,ax=ax)\n",
    "RocCurveDisplay.from_predictions(y_valid,pred_tree,ax=ax)\n",
    "plt.show()"
   ]
  },
  {
   "cell_type": "markdown",
   "id": "af1ca58d-dcce-4d79-92aa-f8b44f885c20",
   "metadata": {},
   "source": [
    "### AUROC\n",
    "- ROC Curve의 밑부분 면적"
   ]
  },
  {
   "cell_type": "code",
   "execution_count": 90,
   "id": "37d2c18e-b46e-4d7e-b2e3-f257eb49b0a2",
   "metadata": {},
   "outputs": [
    {
     "name": "stdout",
     "output_type": "stream",
     "text": [
      "dummy: 0.5\n",
      "--------------------------------------------------\n",
      "model: 0.9479604664268065\n"
     ]
    }
   ],
   "source": [
    "from sklearn.metrics import roc_curve, auc \n",
    "\n",
    "fpr, tpr, thresholds = roc_curve(y_valid,pred_dummy)\n",
    "print(f'dummy: {auc(fpr, tpr)}')\n",
    "print('-'*50)\n",
    "fpr, tpr, thresholds = roc_curve(y_valid,pred_tree)\n",
    "print(f'model: {auc(fpr, tpr)}')"
   ]
  },
  {
   "cell_type": "markdown",
   "id": "250f59db-8c8f-42bd-b61b-a2574cd64417",
   "metadata": {},
   "source": [
    "## Multi Classification"
   ]
  },
  {
   "cell_type": "code",
   "execution_count": 91,
   "id": "e22d335d-06e7-4dfc-9eb0-696c48805512",
   "metadata": {},
   "outputs": [
    {
     "data": {
      "text/plain": [
       "((1347, 64), (450, 64), (1347,), (450,))"
      ]
     },
     "execution_count": 91,
     "metadata": {},
     "output_type": "execute_result"
    }
   ],
   "source": [
    "digits = load_digits()\n",
    "\n",
    "data = digits.data\n",
    "target = digits.target\n",
    "\n",
    "x_train,x_valid,y_train,y_valid = train_test_split(data,target,random_state=SEED)\n",
    "\n",
    "x_train.shape, x_valid.shape, y_train.shape, y_valid.shape"
   ]
  },
  {
   "cell_type": "code",
   "execution_count": 92,
   "id": "d0ece4fd-103d-4bef-b9f3-45184c8dabd4",
   "metadata": {},
   "outputs": [],
   "source": [
    "tree = DecisionTreeClassifier(max_depth = 5 , random_state=SEED)\n",
    "tree.fit(x_train,y_train)\n",
    "pred = tree.predict(x_valid)"
   ]
  },
  {
   "cell_type": "code",
   "execution_count": 94,
   "id": "a3069555-a9f7-40de-9d38-eee0c42ed731",
   "metadata": {},
   "outputs": [
    {
     "name": "stdout",
     "output_type": "stream",
     "text": [
      "              precision    recall  f1-score   support\n",
      "\n",
      "           0       1.00      0.91      0.95        43\n",
      "           1       0.32      0.32      0.32        37\n",
      "           2       0.56      0.66      0.60        38\n",
      "           3       0.87      0.85      0.86        46\n",
      "           4       0.80      0.78      0.79        55\n",
      "           5       0.73      0.19      0.30        59\n",
      "           6       0.95      0.89      0.92        45\n",
      "           7       0.90      0.68      0.78        41\n",
      "           8       0.37      0.61      0.46        38\n",
      "           9       0.52      0.85      0.65        48\n",
      "\n",
      "    accuracy                           0.67       450\n",
      "   macro avg       0.70      0.67      0.66       450\n",
      "weighted avg       0.71      0.67      0.66       450\n",
      "\n"
     ]
    }
   ],
   "source": [
    "print(classification_report(y_valid,pred))"
   ]
  },
  {
   "cell_type": "markdown",
   "id": "99d590c9-df3c-4590-98ff-a9bbf3cba172",
   "metadata": {},
   "source": [
    "- Multi Classification 분류 방법"
   ]
  },
  {
   "cell_type": "markdown",
   "id": "0344d35a-45c9-4eaa-bf22-efb93f2f4ffd",
   "metadata": {},
   "source": [
    "### 소프트맥스 함수(Softmax Function)\n",
    "- 각 클래스에 대한 확률을 출력\n",
    "- 입력받은 값들을 0~1사이의 값들로 모두 정규화하며 출력값들의 합은 항상 1이 되는 특성을 가진 함수"
   ]
  },
  {
   "cell_type": "code",
   "execution_count": 95,
   "id": "f0b05db7-75bc-4ac3-b785-c10ad8e1c1b2",
   "metadata": {},
   "outputs": [
    {
     "name": "stdout",
     "output_type": "stream",
     "text": [
      "1.0\n"
     ]
    },
    {
     "data": {
      "image/png": "[encoded data removed]",
      "text/plain": [
       "<Figure size 640x480 with 1 Axes>"
      ]
     },
     "metadata": {},
     "output_type": "display_data"
    }
   ],
   "source": [
    "import numpy as np\n",
    "import matplotlib.pyplot as plt\n",
    " \n",
    "def softmax(x):\n",
    "    e_x = np.exp(x - np.max(x))\n",
    "    return e_x / e_x.sum()\n",
    " \n",
    "x = np.array([1.0,1.0,2.0])\n",
    " \n",
    "y = softmax(x)\n",
    " \n",
    "print(np.sum(y))\n",
    " \n",
    "ratio = y\n",
    "labels = y\n",
    " \n",
    "plt.pie(ratio, labels=labels, shadow=True, startangle=90)\n",
    "plt.show()"
   ]
  },
  {
   "cell_type": "code",
   "execution_count": null,
   "id": "3b8d82a5-16d4-4775-b0c6-c9c2e1294398",
   "metadata": {},
   "outputs": [],
   "source": []
  }
 ],
 "metadata": {
  "kernelspec": {
   "display_name": "Python 3 (ipykernel)",
   "language": "python",
   "name": "python3"
  },
  "language_info": {
   "codemirror_mode": {
    "name": "ipython",
    "version": 3
   },
   "file_extension": ".py",
   "mimetype": "text/x-python",
   "name": "python",
   "nbconvert_exporter": "python",
   "pygments_lexer": "ipython3",
   "version": "3.9.13"
  }
 },
 "nbformat": 4,
 "nbformat_minor": 5
}
