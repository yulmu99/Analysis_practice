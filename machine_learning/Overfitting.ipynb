{
 "cells": [
  {
   "cell_type": "markdown",
   "id": "e7b03b38-3129-4f9a-bdf7-9351751cf2bc",
   "metadata": {},
   "source": [
    "# Overfitting"
   ]
  },
  {
   "cell_type": "code",
   "execution_count": 2,
   "id": "c0d7efd3-35d6-4894-9392-6a21251e44af",
   "metadata": {},
   "outputs": [],
   "source": [
    "import seaborn as sns\n",
    "df = sns.load_dataset('titanic')"
   ]
  },
  {
   "cell_type": "code",
   "execution_count": 3,
   "id": "51715b72-1d66-47ee-b972-3e0d68ff11fb",
   "metadata": {},
   "outputs": [],
   "source": [
    "cols = ['age','sibsp','parch','fare']\n",
    "features = df[cols]\n",
    "target = df['survived']"
   ]
  },
  {
   "cell_type": "code",
   "execution_count": 5,
   "id": "a61f377e-68a9-4121-ac9d-90b7cc447f7f",
   "metadata": {},
   "outputs": [
    {
     "data": {
      "text/html": [
       "<div>\n",
       "<style scoped>\n",
       "    .dataframe tbody tr th:only-of-type {\n",
       "        vertical-align: middle;\n",
       "    }\n",
       "\n",
       "    .dataframe tbody tr th {\n",
       "        vertical-align: top;\n",
       "    }\n",
       "\n",
       "    .dataframe thead th {\n",
       "        text-align: right;\n",
       "    }\n",
       "</style>\n",
       "<table border=\"1\" class=\"dataframe\">\n",
       "  <thead>\n",
       "    <tr style=\"text-align: right;\">\n",
       "      <th></th>\n",
       "      <th>age</th>\n",
       "      <th>sibsp</th>\n",
       "      <th>parch</th>\n",
       "      <th>fare</th>\n",
       "      <th>pclass_1</th>\n",
       "      <th>pclass_2</th>\n",
       "      <th>pclass_3</th>\n",
       "      <th>sex_female</th>\n",
       "      <th>sex_male</th>\n",
       "      <th>embarked_C</th>\n",
       "      <th>embarked_Q</th>\n",
       "      <th>embarked_S</th>\n",
       "      <th>embarked_nan</th>\n",
       "    </tr>\n",
       "  </thead>\n",
       "  <tbody>\n",
       "    <tr>\n",
       "      <th>0</th>\n",
       "      <td>22.0</td>\n",
       "      <td>1</td>\n",
       "      <td>0</td>\n",
       "      <td>7.2500</td>\n",
       "      <td>0.0</td>\n",
       "      <td>0.0</td>\n",
       "      <td>1.0</td>\n",
       "      <td>0.0</td>\n",
       "      <td>1.0</td>\n",
       "      <td>0.0</td>\n",
       "      <td>0.0</td>\n",
       "      <td>1.0</td>\n",
       "      <td>0.0</td>\n",
       "    </tr>\n",
       "    <tr>\n",
       "      <th>1</th>\n",
       "      <td>38.0</td>\n",
       "      <td>1</td>\n",
       "      <td>0</td>\n",
       "      <td>71.2833</td>\n",
       "      <td>1.0</td>\n",
       "      <td>0.0</td>\n",
       "      <td>0.0</td>\n",
       "      <td>1.0</td>\n",
       "      <td>0.0</td>\n",
       "      <td>1.0</td>\n",
       "      <td>0.0</td>\n",
       "      <td>0.0</td>\n",
       "      <td>0.0</td>\n",
       "    </tr>\n",
       "    <tr>\n",
       "      <th>2</th>\n",
       "      <td>26.0</td>\n",
       "      <td>0</td>\n",
       "      <td>0</td>\n",
       "      <td>7.9250</td>\n",
       "      <td>0.0</td>\n",
       "      <td>0.0</td>\n",
       "      <td>1.0</td>\n",
       "      <td>1.0</td>\n",
       "      <td>0.0</td>\n",
       "      <td>0.0</td>\n",
       "      <td>0.0</td>\n",
       "      <td>1.0</td>\n",
       "      <td>0.0</td>\n",
       "    </tr>\n",
       "    <tr>\n",
       "      <th>3</th>\n",
       "      <td>35.0</td>\n",
       "      <td>1</td>\n",
       "      <td>0</td>\n",
       "      <td>53.1000</td>\n",
       "      <td>1.0</td>\n",
       "      <td>0.0</td>\n",
       "      <td>0.0</td>\n",
       "      <td>1.0</td>\n",
       "      <td>0.0</td>\n",
       "      <td>0.0</td>\n",
       "      <td>0.0</td>\n",
       "      <td>1.0</td>\n",
       "      <td>0.0</td>\n",
       "    </tr>\n",
       "    <tr>\n",
       "      <th>4</th>\n",
       "      <td>35.0</td>\n",
       "      <td>0</td>\n",
       "      <td>0</td>\n",
       "      <td>8.0500</td>\n",
       "      <td>0.0</td>\n",
       "      <td>0.0</td>\n",
       "      <td>1.0</td>\n",
       "      <td>0.0</td>\n",
       "      <td>1.0</td>\n",
       "      <td>0.0</td>\n",
       "      <td>0.0</td>\n",
       "      <td>1.0</td>\n",
       "      <td>0.0</td>\n",
       "    </tr>\n",
       "  </tbody>\n",
       "</table>\n",
       "</div>"
      ],
      "text/plain": [
       "    age  sibsp  parch     fare  pclass_1  pclass_2  pclass_3  sex_female  \\\n",
       "0  22.0      1      0   7.2500       0.0       0.0       1.0         0.0   \n",
       "1  38.0      1      0  71.2833       1.0       0.0       0.0         1.0   \n",
       "2  26.0      0      0   7.9250       0.0       0.0       1.0         1.0   \n",
       "3  35.0      1      0  53.1000       1.0       0.0       0.0         1.0   \n",
       "4  35.0      0      0   8.0500       0.0       0.0       1.0         0.0   \n",
       "\n",
       "   sex_male  embarked_C  embarked_Q  embarked_S  embarked_nan  \n",
       "0       1.0         0.0         0.0         1.0           0.0  \n",
       "1       0.0         1.0         0.0         0.0           0.0  \n",
       "2       0.0         0.0         0.0         1.0           0.0  \n",
       "3       0.0         0.0         0.0         1.0           0.0  \n",
       "4       1.0         0.0         0.0         1.0           0.0  "
      ]
     },
     "execution_count": 5,
     "metadata": {},
     "output_type": "execute_result"
    }
   ],
   "source": [
    "import pandas as pd\n",
    "from sklearn.preprocessing import OneHotEncoder \n",
    "\n",
    "cols = ['pclass','sex','embarked']\n",
    "enc = OneHotEncoder()\n",
    "tmp = pd.DataFrame(\n",
    "    enc.fit_transform(df[cols]).toarray(),\n",
    "    columns = enc.get_feature_names_out()\n",
    ")\n",
    "tmp\n",
    "features = pd.concat([features, tmp],axis=1)\n",
    "features.head()"
   ]
  },
  {
   "cell_type": "code",
   "execution_count": 7,
   "id": "250f447d-11e5-4b9a-ab95-86d1a16d02f2",
   "metadata": {},
   "outputs": [
    {
     "data": {
      "text/plain": [
       "177"
      ]
     },
     "execution_count": 7,
     "metadata": {},
     "output_type": "execute_result"
    }
   ],
   "source": [
    "features.age.isnull().sum()\n"
   ]
  },
  {
   "cell_type": "code",
   "execution_count": 9,
   "id": "c5188556-9aec-48f5-b87c-a7b60de19d92",
   "metadata": {},
   "outputs": [
    {
     "data": {
      "text/plain": [
       "0"
      ]
     },
     "execution_count": 9,
     "metadata": {},
     "output_type": "execute_result"
    }
   ],
   "source": [
    "features.age = features.age.fillna(-1)\n",
    "features.isnull().sum().sum()\n"
   ]
  },
  {
   "cell_type": "code",
   "execution_count": 11,
   "id": "c8e28754-acc1-48ad-9a85-a8fc3695b651",
   "metadata": {},
   "outputs": [
    {
     "data": {
      "text/plain": [
       "((712, 13), (179, 13), (712,), (179,))"
      ]
     },
     "execution_count": 11,
     "metadata": {},
     "output_type": "execute_result"
    }
   ],
   "source": [
    "from sklearn.model_selection import train_test_split\n",
    "SEED = 42\n",
    "\n",
    "X_train, X_valid, y_train, y_valid = train_test_split(features, target, random_state=SEED, test_size = 0.2)\n",
    "\n",
    "X_train.shape, X_valid.shape, y_train.shape, y_valid.shape"
   ]
  },
  {
   "cell_type": "markdown",
   "id": "e141037b-361c-4848-8dda-f165dd774d68",
   "metadata": {},
   "source": [
    "## 모델 복잡도에 따른 overfitting 예제"
   ]
  },
  {
   "cell_type": "code",
   "execution_count": 15,
   "id": "c065881c-a9c3-41e1-9613-5f45150e626b",
   "metadata": {},
   "outputs": [
    {
     "data": {
      "text/plain": [
       "(0.9803370786516854, 0.770949720670391)"
      ]
     },
     "execution_count": 15,
     "metadata": {},
     "output_type": "execute_result"
    }
   ],
   "source": [
    "from sklearn.tree import DecisionTreeClassifier\n",
    "SEED = 42\n",
    "\n",
    "model = DecisionTreeClassifier(max_depth=20, random_state=SEED)  \n",
    "\n",
    "model.fit(X_train, y_train)\n",
    "\n",
    "model.score(X_train, y_train), model.score(X_valid,y_valid)"
   ]
  },
  {
   "cell_type": "markdown",
   "id": "a05a9f8b-5c0a-4c1f-ba08-9cfcf245319c",
   "metadata": {},
   "source": [
    "Hyper parameter : max_depth -> 사용자가 직접 세팅 // 복잡한 모델일수록 높은 값\n",
    "\n",
    "train data에서는 score가 높지만 test data에서는 score가 낮음"
   ]
  },
  {
   "cell_type": "markdown",
   "id": "646f5ffe-10ca-4cc3-8bf9-c168aa53fa28",
   "metadata": {},
   "source": [
    "## 모델 복잡도를 줄인 Underfitting 예제"
   ]
  },
  {
   "cell_type": "code",
   "execution_count": 18,
   "id": "1fb0472f-6397-49ed-afd6-2bf4a6cd6c3f",
   "metadata": {},
   "outputs": [
    {
     "data": {
      "text/plain": [
       "(0.8146067415730337, 0.7932960893854749)"
      ]
     },
     "execution_count": 18,
     "metadata": {},
     "output_type": "execute_result"
    }
   ],
   "source": [
    "model = DecisionTreeClassifier(max_depth =3, random_state=SEED)\n",
    "model.fit(X_train,y_train)\n",
    "model.score(X_train,y_train), model.score(X_valid, y_valid)"
   ]
  },
  {
   "cell_type": "markdown",
   "id": "4e63fba2-70fe-4cea-8ada-de0a1dd8ab72",
   "metadata": {},
   "source": [
    "train, test 모두 score가 낮음 "
   ]
  }
 ],
 "metadata": {
  "kernelspec": {
   "display_name": "Python 3 (ipykernel)",
   "language": "python",
   "name": "python3"
  },
  "language_info": {
   "codemirror_mode": {
    "name": "ipython",
    "version": 3
   },
   "file_extension": ".py",
   "mimetype": "text/x-python",
   "name": "python",
   "nbconvert_exporter": "python",
   "pygments_lexer": "ipython3",
   "version": "3.9.13"
  }
 },
 "nbformat": 4,
 "nbformat_minor": 5
}
