{
 "cells": [
  {
   "cell_type": "code",
   "execution_count": 1,
   "id": "1f203c84-e448-4942-97f1-1d5821892f18",
   "metadata": {},
   "outputs": [],
   "source": [
    "import logging\n",
    "\n",
    "logging.getLogger('matplotlib.font_manager').setLevel(logging.ERROR)"
   ]
  },
  {
   "cell_type": "code",
   "execution_count": 2,
   "id": "9921ef7c-cbe8-49fd-9164-ba6c6b3a072f",
   "metadata": {},
   "outputs": [],
   "source": [
    "import mglearn\n",
    "\n",
    "from sklearn.model_selection import train_test_split "
   ]
  },
  {
   "cell_type": "code",
   "execution_count": 3,
   "id": "f70b8b30-a9c5-4408-b835-691bb074183f",
   "metadata": {},
   "outputs": [],
   "source": [
    "import pandas as pd\n",
    "import numpy as np\n",
    "\n",
    "import matplotlib.pyplot as plt\n",
    "import matplotlib as mpl\n",
    "# import matplotlib.font_manager as fm\n",
    "import seaborn as sns\n",
    "\n",
    "# 브라우저에서 바로 그려지도록 \n",
    "%matplotlib inline\n",
    "\n",
    "# 그래프에 retina display 적용\n",
    "%config InlineBackend.figure_format = 'retina'\n",
    "\n",
    "# Colab 의 한글 폰트 설정\n",
    "plt.rc('font', family='NanumBarunGothic') \n",
    "\n",
    "# 유니코드에서  음수 부호설정\n",
    "mpl.rc('axes', unicode_minus=False)"
   ]
  },
  {
   "cell_type": "markdown",
   "id": "94c99bc7-9f78-42c4-93e8-00e31afc60e4",
   "metadata": {},
   "source": [
    "# 차원의 저주\n",
    "> 데이터 학습을 위해 차원이 증가하면서 학습데이터의 수가 차원의 수보다 적어져서 성능이 저하되는 현상\n",
    "\n",
    ">> 차원을 축소하거나 데이터를 더 많이 수집해야함"
   ]
  },
  {
   "cell_type": "markdown",
   "id": "dfc6bc97-1fef-4555-bf81-21ad139bc96d",
   "metadata": {},
   "source": [
    "# 데이터 로드"
   ]
  },
  {
   "cell_type": "code",
   "execution_count": 9,
   "id": "052175d9-cdf0-417d-b31b-1c7e76f0879d",
   "metadata": {},
   "outputs": [],
   "source": [
    "import pandas as pd\n",
    "import numpy as np\n",
    "from sklearn.preprocessing import OneHotEncoder\n",
    "from sklearn.model_selection import train_test_split\n",
    "from sklearn.model_selection import cross_val_score\n",
    "from sklearn.model_selection import KFold\n",
    "from lightgbm import LGBMClassifier\n",
    "\n",
    "SEED = 42"
   ]
  },
  {
   "cell_type": "code",
   "execution_count": 12,
   "id": "426e7016-b7d2-47ec-b8d8-2ebcf1e683b6",
   "metadata": {},
   "outputs": [
    {
     "name": "stdout",
     "output_type": "stream",
     "text": [
      "C:\\python\n"
     ]
    }
   ],
   "source": [
    "%cd C:\\\\python"
   ]
  },
  {
   "cell_type": "code",
   "execution_count": 13,
   "id": "3efc41f4-422f-406d-96ea-f3dbca8c245d",
   "metadata": {},
   "outputs": [
    {
     "data": {
      "text/plain": [
       "Index(['passengerid', 'survived', 'pclass', 'name', 'sex', 'age', 'sibsp',\n",
       "       'parch', 'ticket', 'fare', 'cabin', 'embarked'],\n",
       "      dtype='object')"
      ]
     },
     "execution_count": 13,
     "metadata": {},
     "output_type": "execute_result"
    }
   ],
   "source": [
    "DATA_PATH = \"datas/\"\n",
    "df = pd.read_csv(DATA_PATH+\"Titanic.csv\")\n",
    "\n",
    "df.columns = [col.lower() for col in df.columns] # 컬럼명 소문자로 변환\n",
    "df.columns"
   ]
  },
  {
   "cell_type": "code",
   "execution_count": null,
   "id": "7b9edb93-93ae-4c04-8d5d-0a94dd60211e",
   "metadata": {},
   "outputs": [],
   "source": [
    "y_train = df['survived']  #정답값\n",
    "df = df.drop('survived',axis=1) #정답값 제외\n",
    "\n",
    "df.shape, y_train.shape"
   ]
  },
  {
   "cell_type": "code",
   "execution_count": 18,
   "id": "0a88c2a3-8467-4c5e-9d84-88e3856f4d5e",
   "metadata": {},
   "outputs": [],
   "source": [
    "#결측치 미리 채우기\n",
    "df.age = df.age.fillna(df.age.median())\n",
    "df.fare = df.fare.fillna(df.fare.median())\n",
    "df.cabin = df.cabin.fillna('UNK')  #cabin 임의의 문자열로 채우기\n",
    "df.embarked = df.embarked.fillna(df.embarked.mode()[0])"
   ]
  },
  {
   "cell_type": "code",
   "execution_count": 19,
   "id": "34bed4b6-8c31-485f-959a-263042dd5167",
   "metadata": {},
   "outputs": [],
   "source": [
    "#학습에 바로 사용 가능한 특성\n",
    "cols = ['pclass','age','sibsp','parch','fare']\n",
    "features =df[cols]"
   ]
  },
  {
   "cell_type": "code",
   "execution_count": 22,
   "id": "7d9097ed-4f38-404c-ac26-8cc1141a88b2",
   "metadata": {},
   "outputs": [
    {
     "name": "stdout",
     "output_type": "stream",
     "text": [
      "before\"(891, 11)\n",
      "after: (891, 839)\n"
     ]
    },
    {
     "data": {
      "text/html": [
       "<div>\n",
       "<style scoped>\n",
       "    .dataframe tbody tr th:only-of-type {\n",
       "        vertical-align: middle;\n",
       "    }\n",
       "\n",
       "    .dataframe tbody tr th {\n",
       "        vertical-align: top;\n",
       "    }\n",
       "\n",
       "    .dataframe thead th {\n",
       "        text-align: right;\n",
       "    }\n",
       "</style>\n",
       "<table border=\"1\" class=\"dataframe\">\n",
       "  <thead>\n",
       "    <tr style=\"text-align: right;\">\n",
       "      <th></th>\n",
       "      <th>pclass</th>\n",
       "      <th>age</th>\n",
       "      <th>sibsp</th>\n",
       "      <th>parch</th>\n",
       "      <th>fare</th>\n",
       "      <th>sex_female</th>\n",
       "      <th>sex_male</th>\n",
       "      <th>embarked_C</th>\n",
       "      <th>embarked_Q</th>\n",
       "      <th>embarked_S</th>\n",
       "      <th>...</th>\n",
       "      <th>cabin_F E69</th>\n",
       "      <th>cabin_F G63</th>\n",
       "      <th>cabin_F G73</th>\n",
       "      <th>cabin_F2</th>\n",
       "      <th>cabin_F33</th>\n",
       "      <th>cabin_F38</th>\n",
       "      <th>cabin_F4</th>\n",
       "      <th>cabin_G6</th>\n",
       "      <th>cabin_T</th>\n",
       "      <th>cabin_UNK</th>\n",
       "    </tr>\n",
       "  </thead>\n",
       "  <tbody>\n",
       "    <tr>\n",
       "      <th>0</th>\n",
       "      <td>3</td>\n",
       "      <td>22.0</td>\n",
       "      <td>1</td>\n",
       "      <td>0</td>\n",
       "      <td>7.2500</td>\n",
       "      <td>0.0</td>\n",
       "      <td>1.0</td>\n",
       "      <td>0.0</td>\n",
       "      <td>0.0</td>\n",
       "      <td>1.0</td>\n",
       "      <td>...</td>\n",
       "      <td>0.0</td>\n",
       "      <td>0.0</td>\n",
       "      <td>0.0</td>\n",
       "      <td>0.0</td>\n",
       "      <td>0.0</td>\n",
       "      <td>0.0</td>\n",
       "      <td>0.0</td>\n",
       "      <td>0.0</td>\n",
       "      <td>0.0</td>\n",
       "      <td>1.0</td>\n",
       "    </tr>\n",
       "    <tr>\n",
       "      <th>1</th>\n",
       "      <td>1</td>\n",
       "      <td>38.0</td>\n",
       "      <td>1</td>\n",
       "      <td>0</td>\n",
       "      <td>71.2833</td>\n",
       "      <td>1.0</td>\n",
       "      <td>0.0</td>\n",
       "      <td>1.0</td>\n",
       "      <td>0.0</td>\n",
       "      <td>0.0</td>\n",
       "      <td>...</td>\n",
       "      <td>0.0</td>\n",
       "      <td>0.0</td>\n",
       "      <td>0.0</td>\n",
       "      <td>0.0</td>\n",
       "      <td>0.0</td>\n",
       "      <td>0.0</td>\n",
       "      <td>0.0</td>\n",
       "      <td>0.0</td>\n",
       "      <td>0.0</td>\n",
       "      <td>0.0</td>\n",
       "    </tr>\n",
       "    <tr>\n",
       "      <th>2</th>\n",
       "      <td>3</td>\n",
       "      <td>26.0</td>\n",
       "      <td>0</td>\n",
       "      <td>0</td>\n",
       "      <td>7.9250</td>\n",
       "      <td>1.0</td>\n",
       "      <td>0.0</td>\n",
       "      <td>0.0</td>\n",
       "      <td>0.0</td>\n",
       "      <td>1.0</td>\n",
       "      <td>...</td>\n",
       "      <td>0.0</td>\n",
       "      <td>0.0</td>\n",
       "      <td>0.0</td>\n",
       "      <td>0.0</td>\n",
       "      <td>0.0</td>\n",
       "      <td>0.0</td>\n",
       "      <td>0.0</td>\n",
       "      <td>0.0</td>\n",
       "      <td>0.0</td>\n",
       "      <td>1.0</td>\n",
       "    </tr>\n",
       "    <tr>\n",
       "      <th>3</th>\n",
       "      <td>1</td>\n",
       "      <td>35.0</td>\n",
       "      <td>1</td>\n",
       "      <td>0</td>\n",
       "      <td>53.1000</td>\n",
       "      <td>1.0</td>\n",
       "      <td>0.0</td>\n",
       "      <td>0.0</td>\n",
       "      <td>0.0</td>\n",
       "      <td>1.0</td>\n",
       "      <td>...</td>\n",
       "      <td>0.0</td>\n",
       "      <td>0.0</td>\n",
       "      <td>0.0</td>\n",
       "      <td>0.0</td>\n",
       "      <td>0.0</td>\n",
       "      <td>0.0</td>\n",
       "      <td>0.0</td>\n",
       "      <td>0.0</td>\n",
       "      <td>0.0</td>\n",
       "      <td>0.0</td>\n",
       "    </tr>\n",
       "    <tr>\n",
       "      <th>4</th>\n",
       "      <td>3</td>\n",
       "      <td>35.0</td>\n",
       "      <td>0</td>\n",
       "      <td>0</td>\n",
       "      <td>8.0500</td>\n",
       "      <td>0.0</td>\n",
       "      <td>1.0</td>\n",
       "      <td>0.0</td>\n",
       "      <td>0.0</td>\n",
       "      <td>1.0</td>\n",
       "      <td>...</td>\n",
       "      <td>0.0</td>\n",
       "      <td>0.0</td>\n",
       "      <td>0.0</td>\n",
       "      <td>0.0</td>\n",
       "      <td>0.0</td>\n",
       "      <td>0.0</td>\n",
       "      <td>0.0</td>\n",
       "      <td>0.0</td>\n",
       "      <td>0.0</td>\n",
       "      <td>1.0</td>\n",
       "    </tr>\n",
       "  </tbody>\n",
       "</table>\n",
       "<p>5 rows × 839 columns</p>\n",
       "</div>"
      ],
      "text/plain": [
       "   pclass   age  sibsp  parch     fare  sex_female  sex_male  embarked_C  \\\n",
       "0       3  22.0      1      0   7.2500         0.0       1.0         0.0   \n",
       "1       1  38.0      1      0  71.2833         1.0       0.0         1.0   \n",
       "2       3  26.0      0      0   7.9250         1.0       0.0         0.0   \n",
       "3       1  35.0      1      0  53.1000         1.0       0.0         0.0   \n",
       "4       3  35.0      0      0   8.0500         0.0       1.0         0.0   \n",
       "\n",
       "   embarked_Q  embarked_S  ...  cabin_F E69  cabin_F G63  cabin_F G73  \\\n",
       "0         0.0         1.0  ...          0.0          0.0          0.0   \n",
       "1         0.0         0.0  ...          0.0          0.0          0.0   \n",
       "2         0.0         1.0  ...          0.0          0.0          0.0   \n",
       "3         0.0         1.0  ...          0.0          0.0          0.0   \n",
       "4         0.0         1.0  ...          0.0          0.0          0.0   \n",
       "\n",
       "   cabin_F2  cabin_F33  cabin_F38  cabin_F4  cabin_G6  cabin_T  cabin_UNK  \n",
       "0       0.0        0.0        0.0       0.0       0.0      0.0        1.0  \n",
       "1       0.0        0.0        0.0       0.0       0.0      0.0        0.0  \n",
       "2       0.0        0.0        0.0       0.0       0.0      0.0        1.0  \n",
       "3       0.0        0.0        0.0       0.0       0.0      0.0        0.0  \n",
       "4       0.0        0.0        0.0       0.0       0.0      0.0        1.0  \n",
       "\n",
       "[5 rows x 839 columns]"
      ]
     },
     "execution_count": 22,
     "metadata": {},
     "output_type": "execute_result"
    }
   ],
   "source": [
    "print(f'before\"{df.shape}')\n",
    "\n",
    "#범주형 one-hot-encoding\n",
    "cols = ['sex','embarked','ticket','cabin']\n",
    "enc = OneHotEncoder()\n",
    "sparse_features = pd.DataFrame(\n",
    "    enc.fit_transform(df[cols]).toarray(),\n",
    "    columns  = enc.get_feature_names_out()\n",
    ")\n",
    "x_train = pd.concat([features, sparse_features],axis=1) #특성\n",
    "print(f'after: {x_train.shape}')\n",
    "x_train.head()"
   ]
  },
  {
   "cell_type": "markdown",
   "id": "f9a72291-7d76-417e-83de-c3f24a3cea8b",
   "metadata": {},
   "source": [
    "## Base model"
   ]
  },
  {
   "cell_type": "code",
   "execution_count": 25,
   "id": "b30667e7-48c3-4b9e-becd-bb480469eac4",
   "metadata": {},
   "outputs": [
    {
     "data": {
      "text/plain": [
       "0.8766894920348889"
      ]
     },
     "execution_count": 25,
     "metadata": {},
     "output_type": "execute_result"
    }
   ],
   "source": [
    "model = LGBMClassifier(random_state=SEED)\n",
    "cv =KFold(n_splits =5, shuffle=True, random_state=SEED) #5번 학습 시킨 모델\n",
    "\n",
    "scores = cross_val_score(model,x_train, y_train,cv=cv, scoring='roc_auc',n_jobs=-1)\n",
    "base_score = scores.mean()\n",
    "base_score"
   ]
  },
  {
   "cell_type": "markdown",
   "id": "fd52fc0e-2495-4ffd-8c90-439eb0b23323",
   "metadata": {},
   "source": [
    "## 주성분 분석(PCA)\n",
    "> "
   ]
  },
  {
   "cell_type": "code",
   "execution_count": null,
   "id": "d540aff9-80ef-4f67-9664-fe22f9af80a0",
   "metadata": {},
   "outputs": [],
   "source": []
  }
 ],
 "metadata": {
  "kernelspec": {
   "display_name": "Python 3 (ipykernel)",
   "language": "python",
   "name": "python3"
  },
  "language_info": {
   "codemirror_mode": {
    "name": "ipython",
    "version": 3
   },
   "file_extension": ".py",
   "mimetype": "text/x-python",
   "name": "python",
   "nbconvert_exporter": "python",
   "pygments_lexer": "ipython3",
   "version": "3.9.13"
  }
 },
 "nbformat": 4,
 "nbformat_minor": 5
}
