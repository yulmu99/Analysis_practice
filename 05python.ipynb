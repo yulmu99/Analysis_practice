{
 "cells": [
  {
   "cell_type": "code",
   "execution_count": 1,
   "id": "2e55a602-6268-4d60-8ee9-bdf93814af9d",
   "metadata": {},
   "outputs": [
    {
     "name": "stdin",
     "output_type": "stream",
     "text": [
      "Message 22\n"
     ]
    },
    {
     "name": "stdout",
     "output_type": "stream",
     "text": [
      "input_value: 22 \n",
      "type: <class 'str'>\n",
      "input_value: 22 \n",
      "type: <class 'int'>\n"
     ]
    }
   ],
   "source": [
    "#파이썬 자료 입력\n",
    "#input()내장 함수\n",
    "#input('메세지') -> return 사용자가 입력한 값(str)\n",
    "#사용자로부터 값을 받아 옴\n",
    "\n",
    "input_value = input(\"Message\")\n",
    "print('input_value:',input_value,'\\ntype:',type(input_value))\n",
    "\n",
    "#사용자 입력 값 정수변환\n",
    "#int()내장 함수\n",
    "\n",
    "input_value = int(input_value)\n",
    "print('input_value:',input_value,'\\ntype:',type(input_value))\n"
   ]
  },
  {
   "cell_type": "code",
   "execution_count": 2,
   "id": "d944840d-f1d9-48bc-8a98-dae78f36b510",
   "metadata": {},
   "outputs": [],
   "source": [
    "#입력값이 실수일 때 정수로 변경\n",
    "#바로 int()함수 쓰면 오류\n",
    "#float() 함수로 float type으로 만들고 int()함수 사용\n"
   ]
  },
  {
   "cell_type": "code",
   "execution_count": 4,
   "id": "75519e25-bb70-4369-b82c-c2c6e357615a",
   "metadata": {},
   "outputs": [
    {
     "name": "stdin",
     "output_type": "stream",
     "text": [
      "정수를 입력해주세요 2\n"
     ]
    },
    {
     "name": "stdout",
     "output_type": "stream",
     "text": [
      "2\n"
     ]
    }
   ],
   "source": [
    "#input()과 int()를 한줄로 작성\n",
    "#제일 안쪽 소괄호부터 동작\n",
    "#input() -> int() 순서로 동작해서 변수에 할당\n",
    "\n",
    "input_value4 = int(input('정수를 입력해주세요'))\n",
    "print(input_value4)\n"
   ]
  },
  {
   "cell_type": "code",
   "execution_count": 17,
   "id": "f45402af-68bd-4756-a0cc-7bdd48b25a32",
   "metadata": {},
   "outputs": [
    {
     "name": "stdin",
     "output_type": "stream",
     "text": [
      "이름을 입력하시오: 엔코아\n"
     ]
    },
    {
     "name": "stdout",
     "output_type": "stream",
     "text": [
      "엔코아 씨, 안녕하세요? \n",
      "파이썬에 오신 것을 환영합니다.\n"
     ]
    },
    {
     "name": "stdin",
     "output_type": "stream",
     "text": [
      "첫 번째 정수를 입력하세요: 300\n",
      "두 번째 정수를 입력하세요: 400\n"
     ]
    },
    {
     "name": "stdout",
     "output_type": "stream",
     "text": [
      "300 과 400 의 합은 700 입니다.\n"
     ]
    }
   ],
   "source": [
    "name = input('이름을 입력하시오:')\n",
    "print(name,'씨, 안녕하세요? \\n파이썬에 오신 것을 환영합니다.')\n",
    "\n",
    "value1 =int(input('첫 번째 정수를 입력하세요:'))\n",
    "value2 =int(input('두 번째 정수를 입력하세요:'))\n",
    "print(value1,'과',value2,'의 합은', value1 + value2,'입니다.')\n"
   ]
  },
  {
   "cell_type": "code",
   "execution_count": 32,
   "id": "31cf7371-d0c5-486b-a29c-1e51cefd4d4d",
   "metadata": {},
   "outputs": [
    {
     "name": "stdin",
     "output_type": "stream",
     "text": [
      "경기장은 어디입니까? 고척\n",
      "이긴 팀은 어디입니까? KT\n",
      "진 팀은 어디입니까? LG\n",
      "우수 선수는 누구입니까? 강백호\n",
      "스코어는 몇대몇입니까? 10:9\n"
     ]
    },
    {
     "name": "stdout",
     "output_type": "stream",
     "text": [
      "\n",
      "[속보] KT 가 10:9 로 승리...\n",
      "오늘 고척 경기장에서 야구 경기가 있었습니다.\n",
      "KT 와 LG 는 치열한 공방전을 펼쳤습니다.\n",
      "이 경기에서 강백호 가 맹활약을 했습니다.\n",
      "그 끝내 KT 가 LG 를 10:9 로 승리하였습니다.\n",
      "기사 끝.\n"
     ]
    }
   ],
   "source": [
    "stadium = input('경기장은 어디입니까?')\n",
    "win = input('이긴 팀은 어디입니까?')\n",
    "lose = input('진 팀은 어디입니까?')\n",
    "MVP = input('우수 선수는 누구입니까?')\n",
    "score = input('스코어는 몇대몇입니까?')\n",
    "\n",
    "print('\\n[속보]',win,'가',score,'로 승리...\\n오늘',\n",
    "      stadium,'경기장에서 야구 경기가 있었습니다.')\n",
    "print(win,'와',lose,'는 치열한 공방전을 펼쳤습니다.\\n이 경기에서',\n",
    "      MVP,'가 맹활약을 했습니다.\\n그 끝내',win,'가',lose,'를',score,'로 승리하였습니다.\\n기사 끝.')"
   ]
  },
  {
   "cell_type": "code",
   "execution_count": 34,
   "id": "7729ec76-157b-4902-a1af-458e5a57d375",
   "metadata": {},
   "outputs": [
    {
     "name": "stdout",
     "output_type": "stream",
     "text": [
      "<class 'list'>\n",
      "['1', '2', '3']\n"
     ]
    }
   ],
   "source": [
    "#입력값을 여러개 변수에 저장\n",
    "#.split(인자_구분자) 메소드\n",
    "#구분자를 활용하여 문자열을 쪼갬 / list로 결과값 반환\n",
    "#인자 없으면 공백을 기준으로\n",
    "\n",
    "result = '1,2,3'.split(',')\n",
    "print(type(result))\n",
    "print(result)"
   ]
  },
  {
   "cell_type": "code",
   "execution_count": 1,
   "id": "185e9883-6ac9-462d-ad5f-8cf19b0e8e38",
   "metadata": {},
   "outputs": [
    {
     "name": "stdin",
     "output_type": "stream",
     "text": [
      "hh:mm:ss의 형태로 시간을 입력해주세요 12:33:2\n"
     ]
    },
    {
     "name": "stdout",
     "output_type": "stream",
     "text": [
      "\n",
      "시 : 12 \n",
      "분 : 33 \n",
      "초 : 2\n"
     ]
    }
   ],
   "source": [
    "time = input('hh:mm:ss의 형태로 시간을 입력해주세요')\n",
    "result = time.split(':')\n",
    "print('\\n시 :',result[0],'\\n분 :',result[1],'\\n초 :',result[2])"
   ]
  },
  {
   "cell_type": "code",
   "execution_count": 2,
   "id": "a9599e22-c921-435b-89b6-3a6b3486d59b",
   "metadata": {},
   "outputs": [
    {
     "name": "stdin",
     "output_type": "stream",
     "text": [
      "hh:mm:ss의 형태로 시간을 입력해주세요 12:33:23\n"
     ]
    },
    {
     "name": "stdout",
     "output_type": "stream",
     "text": [
      "시 : 12\n",
      "분 : 33\n",
      "초 : 23\n"
     ]
    }
   ],
   "source": [
    "h,m,s = input(\"hh:mm:ss의 형태로 시간을 입력해주세요\").split(\":\")\n",
    "\n",
    "print(\"시 :\",h)\n",
    "print(\"분 :\",m)\n",
    "print(\"초 :\",s)"
   ]
  },
  {
   "cell_type": "code",
   "execution_count": 3,
   "id": "c4904af4-4d06-423c-b291-e98790519ce2",
   "metadata": {},
   "outputs": [],
   "source": [
    "#map(function,literable)함수\n",
    "#iterable -> 시퀀스(여러가지 값을 가진 연속형 자료)\n",
    "#literable(str,list,tuple)객체에서 요소를 하나씩 꺼내서 특정 함수 적용\n",
    "#map class 반환 (literable객체) / list(),tuple()로 클래스 변경 가능\n"
   ]
  },
  {
   "cell_type": "code",
   "execution_count": 19,
   "id": "17fdd794-d86d-459d-8a9e-45aa943c6cc1",
   "metadata": {},
   "outputs": [
    {
     "name": "stdin",
     "output_type": "stream",
     "text": [
      "국어,영어,수학,과학 점수를 입력해주세요 98,100,96,100\n"
     ]
    },
    {
     "name": "stdout",
     "output_type": "stream",
     "text": [
      "\n",
      "실행결과:\n",
      "평균 점수는 98.5 점 입니다.\n"
     ]
    }
   ],
   "source": [
    "kor,eng,mat,sci = input('국어,영어,수학,과학 점수를 입력해주세요').split(',')\n",
    "a=[kor,eng,mat,sci]\n",
    "a=list(map(int,a))\n",
    "\n",
    "mean = sum(a)/len(a)\n",
    "print('\\n실행결과:\\n평균 점수는',mean,'점 입니다.')"
   ]
  },
  {
   "cell_type": "code",
   "execution_count": null,
   "id": "9f77cfce-47b4-4fee-ac20-22d712358b57",
   "metadata": {},
   "outputs": [],
   "source": []
  }
 ],
 "metadata": {
  "kernelspec": {
   "display_name": "Python 3 (ipykernel)",
   "language": "python",
   "name": "python3"
  },
  "language_info": {
   "codemirror_mode": {
    "name": "ipython",
    "version": 3
   },
   "file_extension": ".py",
   "mimetype": "text/x-python",
   "name": "python",
   "nbconvert_exporter": "python",
   "pygments_lexer": "ipython3",
   "version": "3.9.13"
  }
 },
 "nbformat": 4,
 "nbformat_minor": 5
}
