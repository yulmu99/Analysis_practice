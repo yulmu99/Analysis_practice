{
 "cells": [
  {
   "cell_type": "code",
   "execution_count": 7,
   "id": "3e1bf245-1216-4494-922a-954d21c4c5ec",
   "metadata": {},
   "outputs": [],
   "source": [
    "import requests\n",
    "import xmltodict\n",
    "response = requests.get('https://apis.data.go.kr/1570100/KccBmubsiInfoService/getMediastat?serviceKey=mVnox%252F0TH6h7tKAZCqbx4CSGUirWCiLeUvcdWzz4X9dQzhPBE8pgKKak6n3entF1n2h3t8%252F5BctvfDHdZ7b27w%253D%253D&pageNo=10&numOfRows=10')"
   ]
  },
  {
   "cell_type": "code",
   "execution_count": 3,
   "id": "7aab464c-6924-430b-a575-d82383df4a29",
   "metadata": {},
   "outputs": [
    {
     "data": {
      "text/plain": [
       "200"
      ]
     },
     "execution_count": 3,
     "metadata": {},
     "output_type": "execute_result"
    }
   ],
   "source": [
    "response.status_code"
   ]
  },
  {
   "cell_type": "code",
   "execution_count": 16,
   "id": "99fb8895-b3ac-4c29-8d32-c707c54e4c80",
   "metadata": {},
   "outputs": [
    {
     "data": {
      "text/plain": [
       "{'Server': 'Apache-Coyote/1.1', 'Access-Control-Allow-Origin': '*', 'Content-Type': 'text/xml;charset=UTF-8', 'Content-Length': '229', 'Date': 'Mon, 06 Mar 2023 09:13:10 GMT'}"
      ]
     },
     "execution_count": 16,
     "metadata": {},
     "output_type": "execute_result"
    }
   ],
   "source": [
    "response.headers"
   ]
  },
  {
   "cell_type": "code",
   "execution_count": 19,
   "id": "db85b1d9-ca5b-4796-ad1f-d1b5fa8ac0fd",
   "metadata": {},
   "outputs": [
    {
     "data": {
      "text/plain": [
       "<Response [200]>"
      ]
     },
     "execution_count": 19,
     "metadata": {},
     "output_type": "execute_result"
    }
   ],
   "source": [
    "response."
   ]
  },
  {
   "cell_type": "code",
   "execution_count": null,
   "id": "d023373b-065a-459f-b79b-1c75827cd226",
   "metadata": {},
   "outputs": [],
   "source": []
  }
 ],
 "metadata": {
  "kernelspec": {
   "display_name": "Python 3 (ipykernel)",
   "language": "python",
   "name": "python3"
  },
  "language_info": {
   "codemirror_mode": {
    "name": "ipython",
    "version": 3
   },
   "file_extension": ".py",
   "mimetype": "text/x-python",
   "name": "python",
   "nbconvert_exporter": "python",
   "pygments_lexer": "ipython3",
   "version": "3.9.13"
  }
 },
 "nbformat": 4,
 "nbformat_minor": 5
}
