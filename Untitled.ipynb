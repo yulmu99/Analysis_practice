{
 "cells": [
  {
   "cell_type": "code",
   "execution_count": 19,
   "id": "9e0ce2c4-60ee-4f80-a3ad-bccbcac1ae03",
   "metadata": {},
   "outputs": [
    {
     "name": "stdin",
     "output_type": "stream",
     "text": [
      " 7 3\n"
     ]
    },
    {
     "name": "stdout",
     "output_type": "stream",
     "text": [
      "10\n",
      "4\n",
      "21\n",
      "2\n",
      "1\n"
     ]
    }
   ],
   "source": [
    "A,B = map(int,input().split())\n",
    "print(A + B) \n",
    "print(A - B) \n",
    "print(A * B) \n",
    "print(int(A / B) )\n",
    "print(A % B) "
   ]
  },
  {
   "cell_type": "code",
   "execution_count": 21,
   "id": "28b1a0e1-d9d7-4274-b906-efe702bb4838",
   "metadata": {},
   "outputs": [
    {
     "name": "stdin",
     "output_type": "stream",
     "text": [
      " joonas\n"
     ]
    },
    {
     "name": "stdout",
     "output_type": "stream",
     "text": [
      "joonas ??!\n"
     ]
    }
   ],
   "source": [
    "id = input()\n",
    "print(id,'??!')"
   ]
  },
  {
   "cell_type": "code",
   "execution_count": null,
   "id": "b150cd62-d7df-4c95-88b8-43de658582fb",
   "metadata": {},
   "outputs": [],
   "source": []
  }
 ],
 "metadata": {
  "kernelspec": {
   "display_name": "Python 3 (ipykernel)",
   "language": "python",
   "name": "python3"
  },
  "language_info": {
   "codemirror_mode": {
    "name": "ipython",
    "version": 3
   },
   "file_extension": ".py",
   "mimetype": "text/x-python",
   "name": "python",
   "nbconvert_exporter": "python",
   "pygments_lexer": "ipython3",
   "version": "3.9.13"
  }
 },
 "nbformat": 4,
 "nbformat_minor": 5
}
