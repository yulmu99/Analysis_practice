{
 "cells": [
  {
   "cell_type": "code",
   "execution_count": 2,
   "id": "6028d221-545f-46ea-9e95-f9effcf2fa8e",
   "metadata": {},
   "outputs": [
    {
     "name": "stdout",
     "output_type": "stream",
     "text": [
      "[1, 2]\n",
      "None\n"
     ]
    }
   ],
   "source": [
    "#함수 결과 반환(return)\n",
    "#반환값이 있을수도 있고 없을 수도(None)\n",
    "#print()함수는 출력값, 반환값은 None\n",
    "\n",
    "x=print([1,2])\n",
    "print(x)"
   ]
  },
  {
   "cell_type": "code",
   "execution_count": 5,
   "id": "0c05c5d4-b5e7-4d8f-a7a2-55547d15e422",
   "metadata": {},
   "outputs": [
    {
     "name": "stdout",
     "output_type": "stream",
     "text": [
      "[1, 2, 3, 4, 5, 6, 7, 8]\n"
     ]
    }
   ],
   "source": [
    "#리스트 메소드\n",
    "#object(객체)리스트.append(요소) -> class안에서 동작하는 함수, 함수 != 메소드\n",
    "#리스트 맨 뒤에 요소 추가\n",
    "\n",
    "numbers=[1,2,3,4,5,6,7]\n",
    "numbers.append(8)\n",
    "print(numbers)"
   ]
  },
  {
   "cell_type": "code",
   "execution_count": 8,
   "id": "de217b5b-8b28-4737-ae59-1c47743a0575",
   "metadata": {},
   "outputs": [
    {
     "name": "stdout",
     "output_type": "stream",
     "text": [
      "[0, 0, 1, 2, 0, 3, 0, 4, 5, 6, 7, 8, 0]\n"
     ]
    }
   ],
   "source": [
    "#.insert(인덱스,요소)\n",
    "#리스트에 원하는 위치에 요소 추가\n",
    "\n",
    "numbers.insert(0,0)\n",
    "numbers.insert(4,0)\n",
    "numbers.insert(6,0)\n",
    "numbers.insert(len(numbers),0)\n",
    "print(numbers)"
   ]
  },
  {
   "cell_type": "code",
   "execution_count": 13,
   "id": "aa768bf7-1366-476b-a151-e29e001ae74a",
   "metadata": {},
   "outputs": [
    {
     "name": "stdout",
     "output_type": "stream",
     "text": [
      "[1, 2, 0, 3, 0, 4, 5, 6, 7, 8, 0, 9, 10, 11, 9, 10, 11, 9, 10, 11]\n"
     ]
    }
   ],
   "source": [
    "#리스트1.extend(리스트2)\n",
    "#리스트1 맨 뒤로 리스트2 요소 추가\n",
    "\n",
    "numbers.extend([9,10,11])\n",
    "print(numbers)"
   ]
  },
  {
   "cell_type": "code",
   "execution_count": 15,
   "id": "6f1fbf1e-5e0b-427c-be58-96030405d015",
   "metadata": {},
   "outputs": [
    {
     "name": "stdout",
     "output_type": "stream",
     "text": [
      "[1, 2, 3, 4, 5, 6, 7, 8, 0, 9, 10, 11, 9, 10, 11, 9, 10, 11]\n"
     ]
    }
   ],
   "source": [
    "#리스트.remove(인자)\n",
    "#인자와 동일한 요소를 리스트에서 제거\n",
    "#여럿인 경우 제일 먼저 발견된 요소 삭제\n",
    "\n",
    "numbers.remove(0)\n",
    "print(numbers)"
   ]
  },
  {
   "cell_type": "code",
   "execution_count": 19,
   "id": "f1cd5f35-ea02-4640-8a9c-91a9d1cf973d",
   "metadata": {},
   "outputs": [
    {
     "name": "stdout",
     "output_type": "stream",
     "text": [
      "11\n",
      "[1, 2, 3, 4, 5, 6, 7, 8, 0, 9, 10, 11, 9, 10]\n"
     ]
    }
   ],
   "source": [
    "#리스트.pop()\n",
    "#리스트 제일 마지막 요소를 제거하고 제거된 요소 반환\n",
    "\n",
    "print(numbers.pop())\n",
    "print(numbers)"
   ]
  },
  {
   "cell_type": "code",
   "execution_count": 20,
   "id": "05b9e74d-c0e9-488c-83aa-10cba4ff90dd",
   "metadata": {},
   "outputs": [
    {
     "name": "stdout",
     "output_type": "stream",
     "text": [
      "8\n"
     ]
    }
   ],
   "source": [
    "#리스트.index(인자)\n",
    "#리스트에서 순서대로 인자와 요소가 같은 것 찾기\n",
    "#첫 번째로 발견된 요소의 인덱스 값 반환\n",
    "\n",
    "print(numbers.index(0))"
   ]
  },
  {
   "cell_type": "code",
   "execution_count": 21,
   "id": "e1bb19da-020a-49c0-99c4-393d2f0e09f4",
   "metadata": {},
   "outputs": [
    {
     "name": "stdout",
     "output_type": "stream",
     "text": [
      "2\n"
     ]
    }
   ],
   "source": [
    "#리스트.count(인자)\n",
    "#리스트에서 인자와 요소가 같은 것의 총 개수\n",
    "\n",
    "print(numbers.count(9))"
   ]
  },
  {
   "cell_type": "code",
   "execution_count": 22,
   "id": "aac34170-f347-40b4-85ae-7742d987556d",
   "metadata": {},
   "outputs": [
    {
     "name": "stdout",
     "output_type": "stream",
     "text": [
      "[0, 1, 2, 3, 4, 5, 6, 7, 8, 9, 9, 10, 10, 11]\n"
     ]
    }
   ],
   "source": [
    "#리스트.sort()\n",
    "#리스트 요소 정렬_오름차순\n",
    "\n",
    "numbers.sort()\n",
    "print(numbers)"
   ]
  },
  {
   "cell_type": "code",
   "execution_count": 24,
   "id": "77354347-971c-48e0-8045-3c1b7818be13",
   "metadata": {},
   "outputs": [
    {
     "name": "stdout",
     "output_type": "stream",
     "text": [
      "[8, 4, 2, 1, 2, 7]\n"
     ]
    }
   ],
   "source": [
    "#리스트.reverse()\n",
    "#리스트 요소 반대 방향으로 정렬 \n",
    "\n",
    "reverse_test = [7,2,1,2,4,8]\n",
    "reverse_test.reverse()\n",
    "print(reverse_test)"
   ]
  },
  {
   "cell_type": "code",
   "execution_count": 30,
   "id": "7e9b8d0e-1789-4e4c-b053-1208f8629ec7",
   "metadata": {},
   "outputs": [
    {
     "name": "stdout",
     "output_type": "stream",
     "text": [
      "[]\n"
     ]
    }
   ],
   "source": [
    "#리스트.clear()\n",
    "#리스트의 모든 요소 제거\n",
    "\n",
    "numbers.clear()\n",
    "print(numbers)"
   ]
  },
  {
   "cell_type": "code",
   "execution_count": 29,
   "id": "00730185-2877-4de2-a253-9e54a4f091df",
   "metadata": {},
   "outputs": [
    {
     "name": "stdout",
     "output_type": "stream",
     "text": [
      "[3, 4, 5, 6]\n",
      "6\n",
      "[3, 4, 5]\n",
      "5\n",
      "[3, 4]\n"
     ]
    }
   ],
   "source": [
    "#Stack 자료 구조\n",
    "#후입선출 구조(맨 마지막에 쌓은 자료를 가장 먼저 뽑아냄)\n",
    "#pop()\n",
    "\n",
    "stack = [3,4,5]\n",
    "stack.append(6)\n",
    "print(stack)\n",
    "\n",
    "print(stack.pop())\n",
    "print(stack)\n",
    "\n",
    "print(stack.pop())\n",
    "print(stack)"
   ]
  },
  {
   "cell_type": "code",
   "execution_count": 31,
   "id": "dad4c88f-54ce-48d9-b9f5-741e0d5f8160",
   "metadata": {},
   "outputs": [],
   "source": [
    "##함수와 메서드 차이\n",
    "\n",
    "#함수 -> 내부함수, 단독 사용, ex)print()\n",
    "#메서드 -> class안에 속하기 때문에 class.함수(), ex)class.append()"
   ]
  },
  {
   "cell_type": "code",
   "execution_count": null,
   "id": "8a95ee6e-3305-47fe-bd29-a5fcb9f2a05f",
   "metadata": {},
   "outputs": [],
   "source": []
  }
 ],
 "metadata": {
  "kernelspec": {
   "display_name": "Python 3 (ipykernel)",
   "language": "python",
   "name": "python3"
  },
  "language_info": {
   "codemirror_mode": {
    "name": "ipython",
    "version": 3
   },
   "file_extension": ".py",
   "mimetype": "text/x-python",
   "name": "python",
   "nbconvert_exporter": "python",
   "pygments_lexer": "ipython3",
   "version": "3.9.13"
  }
 },
 "nbformat": 4,
 "nbformat_minor": 5
}
