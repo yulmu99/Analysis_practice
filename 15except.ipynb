{
 "cells": [
  {
   "cell_type": "code",
   "execution_count": 1,
   "id": "c6bcf7e5-0e81-458a-a793-439a8a3b09ff",
   "metadata": {},
   "outputs": [
    {
     "name": "stdout",
     "output_type": "stream",
     "text": [
      "0으로 나눌 수 없습니다.\n"
     ]
    }
   ],
   "source": [
    "#예외 처리\n",
    "#에러가 발생되는 예외가 발생했을 때도 프로그램의 중단 없이 실행되도록 처리\n",
    "#try:    실행할 코드 except:     예외 처리 코드\n",
    "\n",
    "#0으로 나누면 에러발생\n",
    "try:\n",
    "    result =128 / 0\n",
    "    print(f'연산의 결과는 {result}입니다.')\n",
    "except:\n",
    "    print('0으로 나눌 수 없습니다.')"
   ]
  },
  {
   "cell_type": "code",
   "execution_count": 2,
   "id": "30a63ba2-550b-4377-b65b-ec8609948534",
   "metadata": {},
   "outputs": [
    {
     "name": "stdin",
     "output_type": "stream",
     "text": [
      "숫자 두개를 입력하세요. 1\n"
     ]
    },
    {
     "name": "stdout",
     "output_type": "stream",
     "text": [
      "값을 잘못 입력하셨습니다.\n"
     ]
    }
   ],
   "source": [
    "try:\n",
    "    x,y = input('숫자 두개를 입력하세요.').split()\n",
    "except:\n",
    "    print('값을 잘못 입력하셨습니다.')"
   ]
  },
  {
   "cell_type": "code",
   "execution_count": null,
   "id": "6a8de0c5-5a1d-460e-b5e3-ea49bee55a68",
   "metadata": {},
   "outputs": [],
   "source": []
  }
 ],
 "metadata": {
  "kernelspec": {
   "display_name": "Python 3 (ipykernel)",
   "language": "python",
   "name": "python3"
  },
  "language_info": {
   "codemirror_mode": {
    "name": "ipython",
    "version": 3
   },
   "file_extension": ".py",
   "mimetype": "text/x-python",
   "name": "python",
   "nbconvert_exporter": "python",
   "pygments_lexer": "ipython3",
   "version": "3.9.13"
  }
 },
 "nbformat": 4,
 "nbformat_minor": 5
}
