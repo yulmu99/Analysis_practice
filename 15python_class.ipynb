{
 "cells": [
  {
   "cell_type": "code",
   "execution_count": 1,
   "id": "222f870a-a36f-4388-8c2c-128e77363771",
   "metadata": {},
   "outputs": [],
   "source": [
    "#클래스\n",
    "#사용자 정의 객체를 만들기 위한 주형(설계)\n",
    "\n",
    "#중요! \n",
    "#클래스명으로는 PascalCase로 씀\n",
    "#class ClassName:\n",
    "#    def method_name(self):\n",
    "#       method_body\n",
    "#     \n",
    "#    class_body\n",
    "#    ...\n",
    "    "
   ]
  },
  {
   "cell_type": "code",
   "execution_count": 4,
   "id": "364625b6-96e6-44ca-bee1-be5a05f1e2a5",
   "metadata": {},
   "outputs": [],
   "source": [
    "#객체(object)? 인스턴스(instance)?\n",
    "#둘은 같은 말  /  약간의 뉘앙스 차이만 존재\n",
    "\n",
    "#클래스 생성\n",
    "#instance_variable  = ClassName()\n"
   ]
  },
  {
   "cell_type": "code",
   "execution_count": 3,
   "id": "eb8c9556-73e4-4da8-bc7b-8a2b842a274f",
   "metadata": {},
   "outputs": [],
   "source": [
    "#클래스 속성\n",
    "\n",
    "#__init__메서드 안에서 self.속성에 값을 할당\n"
   ]
  },
  {
   "cell_type": "code",
   "execution_count": null,
   "id": "c370892a-706e-45bb-a126-61ff78c5613c",
   "metadata": {},
   "outputs": [],
   "source": []
  }
 ],
 "metadata": {
  "kernelspec": {
   "display_name": "Python 3 (ipykernel)",
   "language": "python",
   "name": "python3"
  },
  "language_info": {
   "codemirror_mode": {
    "name": "ipython",
    "version": 3
   },
   "file_extension": ".py",
   "mimetype": "text/x-python",
   "name": "python",
   "nbconvert_exporter": "python",
   "pygments_lexer": "ipython3",
   "version": "3.9.13"
  }
 },
 "nbformat": 4,
 "nbformat_minor": 5
}
