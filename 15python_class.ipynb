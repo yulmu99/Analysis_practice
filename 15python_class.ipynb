{
 "cells": [
  {
   "cell_type": "code",
   "execution_count": null,
   "id": "3870d8ad-2144-4c30-96c2-fff4f1885cc1",
   "metadata": {},
   "outputs": [],
   "source": [
    "#객체지향(object oriented) 프로그래밍 \n",
    "\n",
    "#복잡한 문제들을 잘게 나눠 객체로 만들고, 객체를 조합하여 문제 해결\n",
    "#현실 세계의 복잡한 문제 처리에 유용\n",
    "#기능 개선, 발전시킬 때도 해당 클래스만 수정하면 되므로 유지보수성 높음\n"
   ]
  },
  {
   "cell_type": "code",
   "execution_count": 1,
   "id": "222f870a-a36f-4388-8c2c-128e77363771",
   "metadata": {},
   "outputs": [],
   "source": [
    "#클래스(Class)\n",
    "#사용자 정의 객체를 만들기 위한 주형(설계)\n",
    "#클래스 정의 속에 해당 클래스의 메서드 정의도 포함 \n",
    "\n",
    "#중요! \n",
    "#클래스명으로는 PascalCase로 씀\n",
    "#class ClassName:\n",
    "#    def method_name(self):\n",
    "#       method_body\n",
    "#     \n",
    "#    class_body\n",
    "#    ...\n",
    "    "
   ]
  },
  {
   "cell_type": "code",
   "execution_count": 2,
   "id": "364625b6-96e6-44ca-bee1-be5a05f1e2a5",
   "metadata": {},
   "outputs": [],
   "source": [
    "#객체(object)? 인스턴스(instance)?\n",
    "#객체는 객체\n",
    "#instance - 특정 클래스로부터 만들어진 실체\n",
    "\n",
    "#즉, 둘은 같은 말 \n",
    "\n",
    "#인스턴스 생성\n",
    "#클래스명 옆에 소괄호\n",
    "#instance_variable  = ClassName()\n"
   ]
  },
  {
   "cell_type": "code",
   "execution_count": 5,
   "id": "eb8c9556-73e4-4da8-bc7b-8a2b842a274f",
   "metadata": {},
   "outputs": [
    {
     "name": "stdout",
     "output_type": "stream",
     "text": [
      "안녕하세요\n"
     ]
    }
   ],
   "source": [
    "#클래스 속성(attribute)\n",
    "\n",
    "#__init__메서드 안에서 self.속성에 값을 할당\n",
    "#class ClassName:\n",
    "#    def__init__(self):\n",
    "#        self.속성 = 값\n",
    "\n",
    "class person :\n",
    "    def __init__(self):      #속성\n",
    "        self.hello = '안녕하세요'\n",
    "        \n",
    "    def greeting(self):      #메서드\n",
    "        print(self.hello)\n",
    "        \n",
    "james = person()\n",
    "james.greeting()\n",
    "\n"
   ]
  },
  {
   "cell_type": "code",
   "execution_count": null,
   "id": "c370892a-706e-45bb-a126-61ff78c5613c",
   "metadata": {},
   "outputs": [],
   "source": []
  }
 ],
 "metadata": {
  "kernelspec": {
   "display_name": "Python 3 (ipykernel)",
   "language": "python",
   "name": "python3"
  },
  "language_info": {
   "codemirror_mode": {
    "name": "ipython",
    "version": 3
   },
   "file_extension": ".py",
   "mimetype": "text/x-python",
   "name": "python",
   "nbconvert_exporter": "python",
   "pygments_lexer": "ipython3",
   "version": "3.9.13"
  }
 },
 "nbformat": 4,
 "nbformat_minor": 5
}
