{
 "cells": [
  {
   "cell_type": "code",
   "execution_count": null,
   "id": "3870d8ad-2144-4c30-96c2-fff4f1885cc1",
   "metadata": {},
   "outputs": [],
   "source": [
    "#객체지향(object oriented) 프로그래밍 \n",
    "\n",
    "#복잡한 문제들을 잘게 나눠 객체로 만들고, 객체를 조합하여 문제 해결\n",
    "#현실 세계의 복잡한 문제 처리에 유용\n",
    "#기능 개선, 발전시킬 때도 해당 클래스만 수정하면 되므로 유지보수성 높음\n"
   ]
  },
  {
   "cell_type": "code",
   "execution_count": 1,
   "id": "222f870a-a36f-4388-8c2c-128e77363771",
   "metadata": {},
   "outputs": [],
   "source": [
    "#클래스(Class)\n",
    "#사용자 정의 객체를 만들기 위한 주형(설계)\n",
    "#클래스 정의 속에 해당 클래스의 메서드 정의도 포함 \n",
    "\n",
    "#중요! \n",
    "#클래스명으로는 PascalCase로 씀\n",
    "#class ClassName:\n",
    "#    def method_name(self):\n",
    "#       method_body\n",
    "#     \n",
    "#    class_body\n",
    "#    ...\n",
    "    "
   ]
  },
  {
   "cell_type": "code",
   "execution_count": 2,
   "id": "364625b6-96e6-44ca-bee1-be5a05f1e2a5",
   "metadata": {},
   "outputs": [],
   "source": [
    "#객체(object)? 인스턴스(instance)?\n",
    "#객체는 객체\n",
    "#instance - 특정 클래스로부터 만들어진 실체\n",
    "\n",
    "#즉, 둘은 같은 말 \n",
    "\n",
    "#인스턴스 생성\n",
    "#클래스명 옆에 소괄호\n",
    "#instance_variable  = ClassName()\n"
   ]
  },
  {
   "cell_type": "code",
   "execution_count": 23,
   "id": "eb8c9556-73e4-4da8-bc7b-8a2b842a274f",
   "metadata": {},
   "outputs": [
    {
     "name": "stdout",
     "output_type": "stream",
     "text": [
      "안녕하세요\n"
     ]
    }
   ],
   "source": [
    "###클래스 속성(attribute)\n",
    "\n",
    "##__init__메서드 안에서 self.속성에 값을 할당\n",
    "#class ClassName:\n",
    "#    def__init__(self):\n",
    "#        self.속성 = 값\n",
    "\n",
    "#메서드를 호출한 객체를 self로 받아서 작동하도록 설계되어있음\n",
    "#그래서 메서드는 첫번째 인자로 self를 표준으로\n",
    "\n",
    "class person :\n",
    "    def __init__(self):      #속성\n",
    "        self.hello = '안녕하세요'\n",
    "        \n",
    "    def greeting(self):      #메서드\n",
    "        print(self.hello)\n",
    "        \n",
    "james = person()\n",
    "james.greeting()\n",
    "\n",
    "#person이라는 클래스 안에는 hello라는 속성이 존재하고 그 속성은 공통적으로 '안녕하세요'를 담고 있음\n",
    "#instance.속성 = ''형태로 인스턴스 자체로 개별 속성 설정 가능\n",
    "#__init__\n",
    "\n"
   ]
  },
  {
   "cell_type": "code",
   "execution_count": 16,
   "id": "c370892a-706e-45bb-a126-61ff78c5613c",
   "metadata": {},
   "outputs": [],
   "source": [
    "class Student :\n",
    "    #생성자 : 객체가 최초 생성될 때\n",
    "    #단 한번 실행되는 메서드\n",
    "    def __init__(self):\n",
    "        #self는 객체 자기자신\n",
    "        #클래스 안에서 생성되는 모든 객체들의 공통된 속성\n",
    "        self.name = \"홍길동\"\n",
    "        #객체가 생성되자마자 객체 이름이 self로 전달되서 속성이 만들어짐"
   ]
  },
  {
   "cell_type": "code",
   "execution_count": 11,
   "id": "fb0d92ef-94f6-4d9f-b672-a1675306e863",
   "metadata": {},
   "outputs": [],
   "source": [
    "#Student 클래스로부터 객체를 하나 생성\n",
    "s1=Student()  "
   ]
  },
  {
   "cell_type": "code",
   "execution_count": 7,
   "id": "29389142-47bd-48d4-8156-65135ac7020f",
   "metadata": {},
   "outputs": [
    {
     "data": {
      "text/plain": [
       "__main__.Student"
      ]
     },
     "execution_count": 7,
     "metadata": {},
     "output_type": "execute_result"
    }
   ],
   "source": [
    "type(s1)"
   ]
  },
  {
   "cell_type": "code",
   "execution_count": 13,
   "id": "d462bde8-7498-42bc-9581-8dcf1d34582d",
   "metadata": {},
   "outputs": [],
   "source": [
    "#s1 객체의 개별 속성\n",
    "s1.age = 30"
   ]
  },
  {
   "cell_type": "code",
   "execution_count": 17,
   "id": "4a501d59-0400-424b-b71d-60d8509c1585",
   "metadata": {},
   "outputs": [
    {
     "name": "stdout",
     "output_type": "stream",
     "text": [
      "홍길동\n"
     ]
    }
   ],
   "source": [
    "print(s1.name)"
   ]
  },
  {
   "cell_type": "code",
   "execution_count": 24,
   "id": "7a580116-0f5e-4892-bd23-86fa6293a231",
   "metadata": {},
   "outputs": [
    {
     "name": "stdout",
     "output_type": "stream",
     "text": [
      "홍길동\n",
      "22\n"
     ]
    }
   ],
   "source": [
    "##인스턴스 생성할 때 속성 값 할당\n",
    "class person :\n",
    "    def __init__(self,name,age):\n",
    "        self.name = name   #맨 오른쪽 name,age는 parameter\n",
    "        self.age = age\n",
    "\n",
    "p1 = person('홍길동',22)   #argument -'홍길동',22\n",
    "                          #argument를 class의 parameter - name,age에 전달\n",
    "                          #name,age속성을 가진 p1객체 생성\n",
    "print(p1.name)            \n",
    "print(p1.age)\n"
   ]
  },
  {
   "cell_type": "code",
   "execution_count": 26,
   "id": "f1ac7c2e-1d1e-48e2-85cc-dfec2d6ae28e",
   "metadata": {},
   "outputs": [
    {
     "name": "stdout",
     "output_type": "stream",
     "text": [
      "안녕하세요 제 이름은 마리아입니다.\n",
      "이름: 마리아\n",
      "나이: 20\n",
      "주소: 서울시 서초구 반포동\n"
     ]
    }
   ],
   "source": [
    "class Person:\n",
    "    def __init__(self,name,age,address):\n",
    "        self.hello = '안녕하세요'\n",
    "        self.name = name\n",
    "        self.age = age\n",
    "        self.address = address\n",
    "        \n",
    "    def greeting(self):\n",
    "        print(f'{self.hello} 제 이름은 {self.name}입니다.')\n",
    "\n",
    "maria = Person('마리아',20,'서울시 서초구 반포동')\n",
    "maria.greeting()\n",
    "\n",
    "print('이름:',maria.name)\n",
    "print('나이:',maria.age) \n",
    "print('주소:',maria.address) "
   ]
  },
  {
   "cell_type": "code",
   "execution_count": 1,
   "id": "1e7c77f4-ce8d-4fcd-85ad-5e73f57e63cf",
   "metadata": {},
   "outputs": [],
   "source": [
    "class Person:\n",
    "    def __init__(self) :\n",
    "        self.name = input('이름은 무엇인가요?')\n",
    "        self.age = input('나이는 무엇인가요?')\n",
    "        self.address = input('주소는 무엇인가요?')\n",
    "        \n",
    "    def info(self):\n",
    "        print(f'이름: {self.name}')\n",
    "        print(f'나이: {self.age}')\n",
    "        print(f'주소: {self.address}')"
   ]
  },
  {
   "cell_type": "code",
   "execution_count": 5,
   "id": "357fc338-1baa-4b21-af36-f46e40cec3a6",
   "metadata": {},
   "outputs": [
    {
     "name": "stdin",
     "output_type": "stream",
     "text": [
      "이름은 무엇인가요? 마리아\n",
      "나이는 무엇인가요? 20\n",
      "주소는 무엇인가요? 강남구\n",
      "이름은 무엇인가요? 제임스\n",
      "나이는 무엇인가요? 21\n",
      "주소는 무엇인가요? 구로구\n"
     ]
    },
    {
     "name": "stdout",
     "output_type": "stream",
     "text": [
      "이름: 마리아\n",
      "나이: 20\n",
      "주소: 강남구\n",
      "이름: 마리아\n",
      "나이: 20\n",
      "주소: 강남구\n"
     ]
    }
   ],
   "source": [
    "maria = Person()\n",
    "james = Person()\n",
    "maria.info()\n",
    "maria.info()"
   ]
  },
  {
   "cell_type": "code",
   "execution_count": 8,
   "id": "4e386377-d109-4074-878f-05fcb4ab30b2",
   "metadata": {},
   "outputs": [],
   "source": [
    "#비공개 속성 \n",
    "\n",
    "#인스턴스의 속성 값을 변경 못하도록 막고 싶을 때 사용\n",
    "#속성 앞에 __(던더) \n",
    "\n",
    "class ClassName:\n",
    "    def __init__(self,param1,param2):\n",
    "        self.attr1 = param1\n",
    "        self.__attr2 = param2  #비공개 속성"
   ]
  },
  {
   "cell_type": "code",
   "execution_count": null,
   "id": "e169621c-1c6c-4dc1-9e89-9cc4c5e01833",
   "metadata": {},
   "outputs": [],
   "source": [
    "class Person:\n",
    "    def __init_"
   ]
  },
  {
   "cell_type": "code",
   "execution_count": null,
   "id": "bb9408a4-38e2-4600-99f3-87f1e001a4eb",
   "metadata": {},
   "outputs": [],
   "source": [
    "#pat 메서드\n",
    "\n",
    "class Person :\n",
    "    def __init__(self,name,age,address,wallet):\n",
    "        "
   ]
  },
  {
   "cell_type": "code",
   "execution_count": 33,
   "id": "d257da6f-02ef-405d-b078-877aa80247ab",
   "metadata": {},
   "outputs": [],
   "source": [
    "class Annie : \n",
    "    def __init__(self):\n",
    "        self.fit, self.mana,self.AP = map(float,input('체력,마나,AP를 입력하세요.').split())\n",
    "    \n",
    "    def tibbers(self):\n",
    "        \"\"\"티버 스킬의 피해량 계산 메서드\n",
    "           AP * 0.65 + 400\"\"\"\n",
    "        return f'티버: 피해량 {self.AP * 0.65 + 400}'\n"
   ]
  },
  {
   "cell_type": "code",
   "execution_count": 34,
   "id": "0ea8f2d6-89ac-4006-917b-908a4730b4f8",
   "metadata": {},
   "outputs": [
    {
     "name": "stdin",
     "output_type": "stream",
     "text": [
      "체력,마나,AP를 입력하세요. 511.68 286.0 356\n"
     ]
    },
    {
     "name": "stdout",
     "output_type": "stream",
     "text": [
      "티버: 피해량 631.4\n"
     ]
    }
   ],
   "source": [
    "A1 = Annie()\n",
    "print(A1.tibbers())"
   ]
  },
  {
   "cell_type": "code",
   "execution_count": null,
   "id": "f13505ed-48fb-4907-895d-2a083d8de887",
   "metadata": {},
   "outputs": [],
   "source": [
    "\n",
    "        "
   ]
  }
 ],
 "metadata": {
  "kernelspec": {
   "display_name": "Python 3 (ipykernel)",
   "language": "python",
   "name": "python3"
  },
  "language_info": {
   "codemirror_mode": {
    "name": "ipython",
    "version": 3
   },
   "file_extension": ".py",
   "mimetype": "text/x-python",
   "name": "python",
   "nbconvert_exporter": "python",
   "pygments_lexer": "ipython3",
   "version": "3.9.13"
  }
 },
 "nbformat": 4,
 "nbformat_minor": 5
}
