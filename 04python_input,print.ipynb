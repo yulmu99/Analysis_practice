{
 "cells": [
  {
   "cell_type": "code",
   "execution_count": 1,
   "id": "2e55a602-6268-4d60-8ee9-bdf93814af9d",
   "metadata": {},
   "outputs": [
    {
     "name": "stdin",
     "output_type": "stream",
     "text": [
      "Message 22\n"
     ]
    },
    {
     "name": "stdout",
     "output_type": "stream",
     "text": [
      "input_value: 22 \n",
      "type: <class 'str'>\n",
      "input_value: 22 \n",
      "type: <class 'int'>\n"
     ]
    }
   ],
   "source": [
    "#파이썬 자료 입력\n",
    "#input()내장 함수\n",
    "#input('메세지') -> return 사용자가 입력한 값(str)\n",
    "#사용자로부터 값을 받아 옴\n",
    "\n",
    "input_value = input(\"Message\")\n",
    "print('input_value:',input_value,'\\ntype:',type(input_value))\n",
    "\n",
    "#사용자 입력 값 정수변환\n",
    "#int()내장 함수\n",
    "\n",
    "input_value = int(input_value)\n",
    "print('input_value:',input_value,'\\ntype:',type(input_value))\n"
   ]
  },
  {
   "cell_type": "code",
   "execution_count": 2,
   "id": "d944840d-f1d9-48bc-8a98-dae78f36b510",
   "metadata": {},
   "outputs": [],
   "source": [
    "#입력값이 실수일 때 정수로 변경\n",
    "#바로 int()함수 쓰면 오류\n",
    "#float() 함수로 float type으로 만들고 int()함수 사용\n"
   ]
  },
  {
   "cell_type": "code",
   "execution_count": 4,
   "id": "75519e25-bb70-4369-b82c-c2c6e357615a",
   "metadata": {},
   "outputs": [
    {
     "name": "stdin",
     "output_type": "stream",
     "text": [
      "정수를 입력해주세요 2\n"
     ]
    },
    {
     "name": "stdout",
     "output_type": "stream",
     "text": [
      "2\n"
     ]
    }
   ],
   "source": [
    "#input()과 int()를 한줄로 작성\n",
    "#제일 안쪽 소괄호부터 동작\n",
    "#input() -> int() 순서로 동작해서 변수에 할당\n",
    "\n",
    "input_value4 = int(input('정수를 입력해주세요'))\n",
    "print(input_value4)\n"
   ]
  },
  {
   "cell_type": "code",
   "execution_count": 17,
   "id": "f45402af-68bd-4756-a0cc-7bdd48b25a32",
   "metadata": {},
   "outputs": [
    {
     "name": "stdin",
     "output_type": "stream",
     "text": [
      "이름을 입력하시오: 엔코아\n"
     ]
    },
    {
     "name": "stdout",
     "output_type": "stream",
     "text": [
      "엔코아 씨, 안녕하세요? \n",
      "파이썬에 오신 것을 환영합니다.\n"
     ]
    },
    {
     "name": "stdin",
     "output_type": "stream",
     "text": [
      "첫 번째 정수를 입력하세요: 300\n",
      "두 번째 정수를 입력하세요: 400\n"
     ]
    },
    {
     "name": "stdout",
     "output_type": "stream",
     "text": [
      "300 과 400 의 합은 700 입니다.\n"
     ]
    }
   ],
   "source": [
    "name = input('이름을 입력하시오:')\n",
    "print(name,'씨, 안녕하세요? \\n파이썬에 오신 것을 환영합니다.')\n",
    "\n",
    "value1 =int(input('첫 번째 정수를 입력하세요:'))\n",
    "value2 =int(input('두 번째 정수를 입력하세요:'))\n",
    "print(value1,'과',value2,'의 합은', value1 + value2,'입니다.')\n"
   ]
  },
  {
   "cell_type": "code",
   "execution_count": 32,
   "id": "31cf7371-d0c5-486b-a29c-1e51cefd4d4d",
   "metadata": {},
   "outputs": [
    {
     "name": "stdin",
     "output_type": "stream",
     "text": [
      "경기장은 어디입니까? 고척\n",
      "이긴 팀은 어디입니까? KT\n",
      "진 팀은 어디입니까? LG\n",
      "우수 선수는 누구입니까? 강백호\n",
      "스코어는 몇대몇입니까? 10:9\n"
     ]
    },
    {
     "name": "stdout",
     "output_type": "stream",
     "text": [
      "\n",
      "[속보] KT 가 10:9 로 승리...\n",
      "오늘 고척 경기장에서 야구 경기가 있었습니다.\n",
      "KT 와 LG 는 치열한 공방전을 펼쳤습니다.\n",
      "이 경기에서 강백호 가 맹활약을 했습니다.\n",
      "그 끝내 KT 가 LG 를 10:9 로 승리하였습니다.\n",
      "기사 끝.\n"
     ]
    }
   ],
   "source": [
    "stadium = input('경기장은 어디입니까?')\n",
    "win = input('이긴 팀은 어디입니까?')\n",
    "lose = input('진 팀은 어디입니까?')\n",
    "MVP = input('우수 선수는 누구입니까?')\n",
    "score = input('스코어는 몇대몇입니까?')\n",
    "\n",
    "print('\\n[속보]',win,'가',score,'로 승리...\\n오늘',\n",
    "      stadium,'경기장에서 야구 경기가 있었습니다.')\n",
    "print(win,'와',lose,'는 치열한 공방전을 펼쳤습니다.\\n이 경기에서',\n",
    "      MVP,'가 맹활약을 했습니다.\\n그 끝내',win,'가',lose,'를',score,'로 승리하였습니다.\\n기사 끝.')"
   ]
  },
  {
   "cell_type": "code",
   "execution_count": 34,
   "id": "7729ec76-157b-4902-a1af-458e5a57d375",
   "metadata": {},
   "outputs": [
    {
     "name": "stdout",
     "output_type": "stream",
     "text": [
      "<class 'list'>\n",
      "['1', '2', '3']\n"
     ]
    }
   ],
   "source": [
    "#입력값을 여러개 변수에 저장\n",
    "#.split(인자_구분자) 메소드\n",
    "#구분자를 활용하여 문자열을 쪼갬 / list로 결과값 반환\n",
    "#인자 없으면 공백을 기준으로\n",
    "\n",
    "result = '1,2,3'.split(',')\n",
    "print(type(result))\n",
    "print(result)"
   ]
  },
  {
   "cell_type": "code",
   "execution_count": 1,
   "id": "185e9883-6ac9-462d-ad5f-8cf19b0e8e38",
   "metadata": {},
   "outputs": [
    {
     "name": "stdin",
     "output_type": "stream",
     "text": [
      "hh:mm:ss의 형태로 시간을 입력해주세요 12:33:2\n"
     ]
    },
    {
     "name": "stdout",
     "output_type": "stream",
     "text": [
      "\n",
      "시 : 12 \n",
      "분 : 33 \n",
      "초 : 2\n"
     ]
    }
   ],
   "source": [
    "time = input('hh:mm:ss의 형태로 시간을 입력해주세요')\n",
    "result = time.split(':')\n",
    "print('\\n시 :',result[0],'\\n분 :',result[1],'\\n초 :',result[2])"
   ]
  },
  {
   "cell_type": "code",
   "execution_count": 2,
   "id": "a9599e22-c921-435b-89b6-3a6b3486d59b",
   "metadata": {},
   "outputs": [
    {
     "name": "stdin",
     "output_type": "stream",
     "text": [
      "hh:mm:ss의 형태로 시간을 입력해주세요 12:33:23\n"
     ]
    },
    {
     "name": "stdout",
     "output_type": "stream",
     "text": [
      "시 : 12\n",
      "분 : 33\n",
      "초 : 23\n"
     ]
    }
   ],
   "source": [
    "h,m,s = input(\"hh:mm:ss의 형태로 시간을 입력해주세요\").split(\":\")\n",
    "\n",
    "print(\"시 :\",h)\n",
    "print(\"분 :\",m)\n",
    "print(\"초 :\",s)"
   ]
  },
  {
   "cell_type": "code",
   "execution_count": 3,
   "id": "c4904af4-4d06-423c-b291-e98790519ce2",
   "metadata": {},
   "outputs": [],
   "source": [
    "#map(function,literable)함수\n",
    "#iterable -> 시퀀스(여러가지 값을 가진 연속형 자료)\n",
    "#literable(str,list,tuple)객체에서 요소를 하나씩 꺼내서 특정 함수 적용\n",
    "#map class 반환 (literable객체) / list(),tuple()로 클래스 변경 가능\n"
   ]
  },
  {
   "cell_type": "code",
   "execution_count": 19,
   "id": "17fdd794-d86d-459d-8a9e-45aa943c6cc1",
   "metadata": {},
   "outputs": [
    {
     "name": "stdin",
     "output_type": "stream",
     "text": [
      "국어,영어,수학,과학 점수를 입력해주세요 98,100,96,100\n"
     ]
    },
    {
     "name": "stdout",
     "output_type": "stream",
     "text": [
      "\n",
      "실행결과:\n",
      "평균 점수는 98.5 점 입니다.\n"
     ]
    }
   ],
   "source": [
    "kor,eng,mat,sci = input('국어,영어,수학,과학 점수를 입력해주세요').split(',')\n",
    "a=[kor,eng,mat,sci]\n",
    "a=list(map(int,a))\n",
    "\n",
    "mean = sum(a)/len(a)\n",
    "print('\\n실행결과:\\n평균 점수는',mean,'점 입니다.')"
   ]
  },
  {
   "cell_type": "code",
   "execution_count": 1,
   "id": "9f77cfce-47b4-4fee-ac20-22d712358b57",
   "metadata": {},
   "outputs": [
    {
     "name": "stdin",
     "output_type": "stream",
     "text": [
      "국어,영어,수학,과학 점수를 입력해주세요 98,100,96,100\n"
     ]
    },
    {
     "name": "stdout",
     "output_type": "stream",
     "text": [
      "\n",
      "실행결과:\n",
      "평균 점수는 98.5 점 입니다.\n"
     ]
    }
   ],
   "source": [
    "kor,eng,mat,sci = map(int,input('국어,영어,수학,과학 점수를 입력해주세요').split(','))\n",
    "avg = (kor+eng+mat+sci) / 4\n",
    "print('\\n실행결과:\\n평균 점수는',avg,'점 입니다.')"
   ]
  },
  {
   "cell_type": "code",
   "execution_count": 1,
   "id": "70dd024f-e084-41c9-9667-9d980e7c924e",
   "metadata": {},
   "outputs": [
    {
     "name": "stdout",
     "output_type": "stream",
     "text": [
      "value 1 1.1 [1, 2, 3]\n",
      "value, 1, 1.1, [1, 2, 3]\n"
     ]
    }
   ],
   "source": [
    "#print()함수는 여러 인자 값을 한번에 출력 가능\n",
    "#기본 구분기호는 공백\n",
    "#sep=''이 defalt값\n",
    "\n",
    "#구분 기호를 다른 문자로 변경 \n",
    "#sep='구분기호' / 맨 마지막에 작성\n",
    "\n",
    "print('value',1,1.1,[1,2,3])\n",
    "print('value',1,1.1,[1,2,3],sep=', ')\n"
   ]
  },
  {
   "cell_type": "code",
   "execution_count": 2,
   "id": "9015c1af-e63c-4c9b-9c9e-9cf991a869a3",
   "metadata": {},
   "outputs": [
    {
     "name": "stdout",
     "output_type": "stream",
     "text": [
      "줄이 바뀌지 않습니다.그 이유는 end='\\n'과 같이 기본 설정된 값을 빈 스트링으로 변경했기 때문입니다.\n",
      "sep, end는 맨 뒤에 써야하며 둘 간 순서는 상관없습니다.어떻게 사용하는지\n",
      "이해가 되시나요?"
     ]
    }
   ],
   "source": [
    "#print()함수 마다 줄 바꿈 기본\n",
    "#end='\\n'이 defalt값\n",
    "#end='문자열'으로 변경 가능\n",
    "\n",
    "print('줄이 바뀌지 않습니다.',end='')\n",
    "print('그 이유는 end=\\'\\\\n\\'과 같이 기본 설정된 값을 빈 스트링으로 변경했기 때문입니다.')\n",
    "print('sep','end는 맨 뒤에 써야하며 둘 간 순서는 상관없습니다.',sep=', ',end='')\n",
    "print('어떻게 사용하는지','이해가 되시나요',sep='\\n',end='?')\n"
   ]
  },
  {
   "cell_type": "code",
   "execution_count": 3,
   "id": "893298c2-b06a-4da0-8a72-65263b0ef7f1",
   "metadata": {},
   "outputs": [
    {
     "name": "stdout",
     "output_type": "stream",
     "text": [
      "2021/02/03 18:33:23\n"
     ]
    }
   ],
   "source": [
    "year = '2021'\n",
    "month = '02'\n",
    "day = '03'\n",
    "hour = '18'\n",
    "minute = '33'\n",
    "second = '23'\n",
    "\n",
    "print(year,month,day,sep='/',end = ' ')\n",
    "print(hour,minute,second,sep=':')"
   ]
  },
  {
   "cell_type": "code",
   "execution_count": 6,
   "id": "a49447a8-ef57-48dc-b0ab-ad0f01fe4845",
   "metadata": {},
   "outputs": [
    {
     "name": "stdin",
     "output_type": "stream",
     "text": [
      "사과와 귤을 몇개 드릴까요? 1,5\n"
     ]
    },
    {
     "name": "stdout",
     "output_type": "stream",
     "text": [
      "총 가격은 2000원입니다\n"
     ]
    }
   ],
   "source": [
    "a,g = map(int,input('사과와 귤을 몇개 드릴까요?').split(','))\n",
    "print('총 가격은 ',1000*a + 200*g,'원입니다',sep=\"\")"
   ]
  },
  {
   "cell_type": "code",
   "execution_count": 7,
   "id": "166ee2ea-1c77-4a68-92e0-b3e11c2ca529",
   "metadata": {},
   "outputs": [
    {
     "name": "stdout",
     "output_type": "stream",
     "text": [
      "10 20\n",
      "\n",
      "오늘의 날짜를 알려드립니다!\n",
      "2023년 2월 27일입니다.\n"
     ]
    }
   ],
   "source": [
    "#format()메서드\n",
    "#\"{문자열} {}\".format(값1,값2)\n",
    "#문자열과 format() 인수 개수가 동일\n",
    "\n",
    "print('{} {}'.format(10,20))\n",
    "\n",
    "#문자열에 삼중 따옴표 사용 가능\n",
    "import time\n",
    "\n",
    "today = \"\"\"오늘의 날짜를 알려드립니다!\n",
    "{}년 {}월 {}일입니다.\\\n",
    "\"\"\".format(time.localtime().tm_year,\n",
    "           time.localtime().tm_mon,\n",
    "           time.localtime().tm_mday)\n",
    "\n",
    "print('\\n',today,sep=\"\")"
   ]
  },
  {
   "cell_type": "code",
   "execution_count": 8,
   "id": "246d6447-e598-4a0d-b860-181c36c24b0e",
   "metadata": {},
   "outputs": [
    {
     "name": "stdout",
     "output_type": "stream",
     "text": [
      "중괄호는 2개이고, 여기 인수는\n"
     ]
    }
   ],
   "source": [
    "#중괄호 개수보다 format 메서드의 인수가 많으면\n",
    "#초과되는 format 메서드의 인수는 버려짐\n",
    "\n",
    "some_str = \"중괄호는 2개이고, {} {}\".format(\"여기\",\"인수는\",\"3개 입니다.\")\n",
    "print(some_str)"
   ]
  },
  {
   "cell_type": "code",
   "execution_count": 9,
   "id": "dda228b6-a045-4b54-8d87-7910e8bf31a9",
   "metadata": {},
   "outputs": [
    {
     "ename": "IndexError",
     "evalue": "Replacement index 3 out of range for positional args tuple",
     "output_type": "error",
     "traceback": [
      "\u001b[1;31m---------------------------------------------------------------------------\u001b[0m",
      "\u001b[1;31mIndexError\u001b[0m                                Traceback (most recent call last)",
      "\u001b[1;32m~\\AppData\\Local\\Temp\\ipykernel_15852\\1136542040.py\u001b[0m in \u001b[0;36m<module>\u001b[1;34m\u001b[0m\n\u001b[0;32m      3\u001b[0m \u001b[1;31m#결론 : 개수를 잘 맞춰서 쓰는게 중요\u001b[0m\u001b[1;33m\u001b[0m\u001b[1;33m\u001b[0m\u001b[0m\n\u001b[0;32m      4\u001b[0m \u001b[1;33m\u001b[0m\u001b[0m\n\u001b[1;32m----> 5\u001b[1;33m \u001b[0msome_str\u001b[0m \u001b[1;33m=\u001b[0m \u001b[1;34m\"중괄호는 4개이고, {} {} {} {}\"\u001b[0m\u001b[1;33m.\u001b[0m\u001b[0mformat\u001b[0m\u001b[1;33m(\u001b[0m\u001b[1;34m\"여기\"\u001b[0m\u001b[1;33m,\u001b[0m\u001b[1;34m\"인수는\"\u001b[0m\u001b[1;33m,\u001b[0m\u001b[1;34m\"3개 입니다.\"\u001b[0m\u001b[1;33m)\u001b[0m\u001b[1;33m\u001b[0m\u001b[1;33m\u001b[0m\u001b[0m\n\u001b[0m\u001b[0;32m      6\u001b[0m \u001b[0mprint\u001b[0m\u001b[1;33m(\u001b[0m\u001b[0msome_str\u001b[0m\u001b[1;33m)\u001b[0m\u001b[1;33m\u001b[0m\u001b[1;33m\u001b[0m\u001b[0m\n",
      "\u001b[1;31mIndexError\u001b[0m: Replacement index 3 out of range for positional args tuple"
     ]
    }
   ],
   "source": [
    "#중괄호 개수보다 format 메서드의 인수가 적으면\n",
    "#IndexError 발생\n",
    "#결론 : 개수를 잘 맞춰서 쓰는게 중요\n",
    "\n",
    "some_str = \"중괄호는 4개이고, {} {} {} {}\".format(\"여기\",\"인수는\",\"3개 입니다.\")\n",
    "print(some_str)"
   ]
  },
  {
   "cell_type": "code",
   "execution_count": 10,
   "id": "8c71bc00-1799-45bd-91ff-9dfbdc78ef51",
   "metadata": {},
   "outputs": [
    {
     "name": "stdout",
     "output_type": "stream",
     "text": [
      "10\n",
      "10 20\n",
      "\n",
      "오늘의 날짜를 알려드립니다!\n",
      "2023년 2월 27일 입니다.\n"
     ]
    }
   ],
   "source": [
    "#문자열의 f-string\n",
    "#문자열 앞에 f를 붙이고 {}안에 리터럴 값 혹은 변수 넣어서 사용\n",
    "#.format() 메서드 보다 간편하고 직관적\n",
    "\n",
    "print(f\"{10}\")\n",
    "print(f\"{10} {20}\")\n",
    "\n",
    "#삼중 따옴표 사용 가능\n",
    "\n",
    "import time\n",
    "today = f\"\"\"\\n오늘의 날짜를 알려드립니다!\n",
    "{time.localtime().tm_year}년 {time.localtime().tm_mon}월 {time.localtime().tm_mday}일 입니다.\"\"\"\n",
    "\n",
    "print(today)"
   ]
  },
  {
   "cell_type": "code",
   "execution_count": null,
   "id": "c864be3c-bf54-41a5-8c31-5e905dbd3e10",
   "metadata": {},
   "outputs": [],
   "source": []
  }
 ],
 "metadata": {
  "kernelspec": {
   "display_name": "Python 3 (ipykernel)",
   "language": "python",
   "name": "python3"
  },
  "language_info": {
   "codemirror_mode": {
    "name": "ipython",
    "version": 3
   },
   "file_extension": ".py",
   "mimetype": "text/x-python",
   "name": "python",
   "nbconvert_exporter": "python",
   "pygments_lexer": "ipython3",
   "version": "3.9.13"
  }
 },
 "nbformat": 4,
 "nbformat_minor": 5
}
