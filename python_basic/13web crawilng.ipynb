{
 "cells": [
  {
   "cell_type": "code",
   "execution_count": 6,
   "id": "fa90094f-c28c-4005-a786-2a266d9495a1",
   "metadata": {},
   "outputs": [],
   "source": [
    "#robots.txt(로봇 배제 표준 프로토콜)\n",
    "#해당 파일 속에 Disallow : *가 없으면 콘텐츠 다운로드 가능\n",
    "\n",
    "import urllib.robotparser\n",
    "rp = urllib.robotparser.RobotFileParser()\n",
    "rp.set_url('http://www.reuters.com/robots.txt')\n",
    "rp.read()"
   ]
  },
  {
   "cell_type": "code",
   "execution_count": 4,
   "id": "1fdf3150-e136-4e7e-89b3-1c220fdf0a3f",
   "metadata": {},
   "outputs": [
    {
     "data": {
      "text/plain": [
       "True"
      ]
     },
     "execution_count": 4,
     "metadata": {},
     "output_type": "execute_result"
    }
   ],
   "source": [
    "#특정 User-agent가 특정 URL에 접근 가능 한지 확인\n",
    "\n",
    "rp.can_fetch(useragent='*',url='http://reuters.com/sitemap.xml')"
   ]
  },
  {
   "cell_type": "code",
   "execution_count": 8,
   "id": "21eafca8-792d-4274-a335-62978d3c1f3a",
   "metadata": {},
   "outputs": [
    {
     "data": {
      "text/plain": [
       "['https://www.reuters.com/arc/outboundfeeds/sitemap-index/?outputType=xml',\n",
       " 'https://www.reuters.com/arc/outboundfeeds/news-sitemap-index/?outputType=xml',\n",
       " 'https://www.reuters.com/sitemap_video_index.xml',\n",
       " 'https://www.reuters.com/brandfeature/sitemap']"
      ]
     },
     "execution_count": 8,
     "metadata": {},
     "output_type": "execute_result"
    }
   ],
   "source": [
    "#robots.txt에 있는 sitemap에 대한 정보 확인\n",
    "\n",
    "sitemap = rp.site_maps()\n",
    "sitemap\n"
   ]
  },
  {
   "cell_type": "code",
   "execution_count": 14,
   "id": "c1a2b837-7e00-42dc-8666-2624b1f7197b",
   "metadata": {},
   "outputs": [
    {
     "data": {
      "text/plain": [
       "'https://www.reuters.com/arc/outboundfeeds/sitemap-index/?outputType=xml'"
      ]
     },
     "execution_count": 14,
     "metadata": {},
     "output_type": "execute_result"
    }
   ],
   "source": [
    "sitemap[0]\n",
    "\n",
    "#해당 링크를 들어가면 또 별개의 sitemap 확인 가능\n",
    "#XML파일 > sitemapindex > sitemap > loc(URL정보),lastmod(최근 수정 시각)\n",
    "#첫 번째 loc의 URL > 개별의 기사 URL\n"
   ]
  },
  {
   "cell_type": "code",
   "execution_count": 12,
   "id": "5acd520b-7948-43bb-9077-516c9cc902d4",
   "metadata": {},
   "outputs": [
    {
     "name": "stdout",
     "output_type": "stream",
     "text": [
      "Requirement already satisfied: xmltodict in c:\\users\\user\\anaconda3\\lib\\site-packages (0.13.0)\n"
     ]
    }
   ],
   "source": [
    "#xmltodict\n",
    "#XML 파서를 위한 모듈\n",
    "\n",
    "!pip install xmltodict   "
   ]
  },
  {
   "cell_type": "code",
   "execution_count": null,
   "id": "edbbbf4d-8e0f-4faf-b963-b3b991e4d4b7",
   "metadata": {},
   "outputs": [],
   "source": [
    "import xmltodict\n",
    "import requests\n",
    "\n",
    "#XML파일을 파이썬의 자료형(list,dict)으로 파싱\n",
    "url = sitemap[0] \n",
    "sitemaps = xmltodict.parse(requests.get(url).text)\n",
    "sitemaps\n"
   ]
  },
  {
   "cell_type": "code",
   "execution_count": null,
   "id": "c06d809a-007c-4a76-884b-439ca44e147f",
   "metadata": {},
   "outputs": [],
   "source": [
    "#URL만 추출하여 리스트로 생성 \n",
    "#먼저 key값 확인 -> .keys()\n",
    "\n",
    "print(sitemaps.keys())\n",
    "print(sitemaps['sitemapindex'].keys())\n",
    "print(sitemaps['sitemapindex']['sitemap'])\n",
    "\n",
    "sub_sitemaps = [sitemap['loc'] for sitemap in sitemaps['sitemapindex']['sitemap']]"
   ]
  },
  {
   "cell_type": "code",
   "execution_count": null,
   "id": "9c829bb0-501c-4b01-9da3-a6726052852e",
   "metadata": {},
   "outputs": [],
   "source": [
    "#sitemap url중 첫번째 URL을 활용\n",
    "#XML파일을 HTTP통신을 통해 받아오기\n",
    "\n",
    "response = requests.get(sub_sitemaps[0])\n",
    "urls = xmltodict.parse(response.text)       \n",
    "urls\n",
    "\n",
    "#urls -> 신문 기사 url을 담고 있음"
   ]
  },
  {
   "cell_type": "code",
   "execution_count": 42,
   "id": "1bd15f18-7fe2-4c67-98b8-84d8a4b357b6",
   "metadata": {},
   "outputs": [
    {
     "data": {
      "text/plain": [
       "['https://www.reuters.com/business/energy/petronas-clean-energy-arm-sees-india-australia-key-rapid-growth-plans-2023-03-01/',\n",
       " 'https://www.reuters.com/business/retail-consumer/abercrombie-fitch-posts-fall-quarterly-profit-2023-03-01/',\n",
       " 'https://www.reuters.com/world/americas/chiles-economic-activity-starts-2023-positive-note-2023-03-01/',\n",
       " 'https://www.reuters.com/world/europe/two-trains-collide-greece-dozens-feared-injured-2023-03-01/',\n",
       " 'https://www.reuters.com/business/retail-consumer/dollar-tree-sees-strong-annual-sales-strong-demand-discounted-items-2023-03-01/',\n",
       " 'https://www.reuters.com/lifestyle/sports/preview-motor-racing-verstappen-aiming-his-best-start-season-2023-03-01/',\n",
       " 'https://www.reuters.com/technology/us-require-companies-winning-chipmaking-subsidies-share-excess-profits-2023-02-28/',\n",
       " 'https://www.reuters.com/world/asia-pacific/london-dogs-head-thailand-sniff-out-pangolin-smugglers-2023-02-28/',\n",
       " 'https://www.reuters.com/world/blinken-has-no-plans-meet-russian-chinese-counterparts-delhi-g20-meetings-2023-03-01/',\n",
       " 'https://www.reuters.com/world/africa/bola-tinubu-godfather-lagos-nigerias-president-elect-2023-03-01/',\n",
       " 'https://www.reuters.com/business/energy/enbridge-buy-us-gulf-coast-gas-storage-facility-335-million-2023-03-01/',\n",
       " 'https://www.reuters.com/business/sustainable-business/eu-should-act-quickly-question-e-fuels-combustion-engine-phaseout-german-govt-2023-03-01/',\n",
       " 'https://www.reuters.com/technology/trump-backed-spac-digital-world-appeal-nasdaq-delisting-notice-2023-03-01/',\n",
       " 'https://www.reuters.com/world/americas/tsx-set-begin-march-with-gains-tracking-global-mood-2023-03-01/',\n",
       " 'https://www.reuters.com/world/europe/finnish-parliament-passes-nato-bill-2023-03-01/',\n",
       " 'https://www.reuters.com/world/china-work-with-belarus-promote-bilateral-relations-state-media-2023-03-01/',\n",
       " 'https://www.reuters.com/technology/turkey-fines-tiktok-175-mln-lira-weak-data-protection-measures-2023-03-01/',\n",
       " 'https://www.reuters.com/lifestyle/sports/indore-pitch-draws-criticism-after-spin-mayhem-2023-03-01/',\n",
       " 'https://www.reuters.com/business/healthcare-pharmaceuticals/eu-silence-over-pfizer-covid-contract-talks-is-problem-that-wont-go-away-2023-03-01/',\n",
       " 'https://www.reuters.com/business/bank-mexicos-mejia-says-pace-rate-hikes-could-slow-down-2023-03-01/',\n",
       " 'https://www.reuters.com/business/media-telecom/telecom-operator-veon-confirms-deal-with-british-satellite-firm-oneweb-2023-03-01/',\n",
       " 'https://www.reuters.com/markets/us/us-mortgage-interest-rates-remain-highest-level-since-november-mba-2023-03-01/',\n",
       " 'https://www.reuters.com/business/retail-consumer/kohls-misses-quarterly-comparable-sales-estimates-2023-03-01/',\n",
       " 'https://www.reuters.com/world/europe/ukraine-is-fiercely-resisting-russian-assault-bakhmut-mercenary-boss-2023-03-01/',\n",
       " 'https://www.reuters.com/markets/europe/irish-inflation-ticks-back-up-8-february-flash-estimate-2023-03-01/',\n",
       " 'https://www.reuters.com/business/sustainable-business/enbridge-commits-1-bln-company-turning-food-waste-energy-2023-03-01/',\n",
       " 'https://www.reuters.com/markets/currencies/sterling-subdued-after-bailey-says-nothing-decided-future-rate-hikes-2023-03-01/',\n",
       " 'https://www.reuters.com/world/europe/soils-war-toxic-legacy-ukraines-breadbasket-2023-03-01/',\n",
       " 'https://www.reuters.com/business/finance/national-bank-canada-posts-lower-first-quarter-profit-2023-03-01/',\n",
       " 'https://www.reuters.com/world/china/condoms-cosmetics-china-sales-grow-lockdowns-end-2023-03-01/',\n",
       " 'https://www.reuters.com/world/uk/cold-weather-bad-planning-blame-uk-salad-crisis-spain-says-2023-03-01/',\n",
       " 'https://www.reuters.com/business/autos-transportation/pirelli-shareholder-accord-boosts-ma-speculation-with-brembo-analysts-say-2023-03-01/',\n",
       " 'https://www.reuters.com/breakingviews/uk-housebuilders-face-slow-painful-refurb-2023-03-01/',\n",
       " 'https://www.reuters.com/lifestyle/sports/alphatauri-f1-team-will-not-be-sold-says-tost-2023-03-01/',\n",
       " 'https://www.reuters.com/world/europe/relatives-pay-respects-toll-italy-migrant-boat-wreck-rises-67-2023-03-01/',\n",
       " 'https://www.reuters.com/business/healthcare-pharmaceuticals/fbi-director-says-china-lab-leak-likely-caused-covid-pandemic-2023-03-01/',\n",
       " 'https://www.reuters.com/business/energy/japan-promote-gas-lng-hydrogen-investment-during-g7-presidency-2023-02-28/',\n",
       " 'https://www.reuters.com/business/hedge-funds-that-did-best-2022-could-fare-worst-2023-bnp-2023-03-01/',\n",
       " 'https://www.reuters.com/podcasts/spiral-violence-occupied-west-bank-podcast-2023-03-01/',\n",
       " 'https://www.reuters.com/business/energy/germanys-gas-bill-surged-109-last-year-despite-slashed-buying-2023-03-01/',\n",
       " 'https://www.reuters.com/business/healthcare-pharmaceuticals/safrican-drugmaker-aspen-reports-15-drop-interim-profit-2023-03-01/',\n",
       " 'https://www.reuters.com/legal/can-republicans-topple-bidens-esg-investing-rule-court-2023-03-01/',\n",
       " 'https://www.reuters.com/business/energy/uaes-masdar-invest-12-bln-british-battery-storage-tech-2023-03-01/',\n",
       " 'https://www.reuters.com/world/africa/african-migrants-suffer-under-crackdown-tunisia-2023-03-01/',\n",
       " 'https://www.reuters.com/lifestyle/sports/chelsea-announce-fan-advisory-board-2023-03-01/',\n",
       " 'https://www.reuters.com/markets/us/futures-rise-positive-start-march-2023-03-01/',\n",
       " 'https://www.reuters.com/world/europe/kremlin-says-it-doesnt-believe-ukrainian-denial-attacks-russia-2023-03-01/',\n",
       " 'https://www.reuters.com/technology/twitter-down-some-users-us-downdetector-2023-03-01/',\n",
       " 'https://www.reuters.com/business/royal-bank-canadas-quarterly-profit-falls-2023-03-01/',\n",
       " 'https://www.reuters.com/business/energy/dow-x-energy-build-us-gulf-coast-nuclear-demonstration-plant-2023-03-01/',\n",
       " 'https://www.reuters.com/legal/us-supreme-court-doubt-over-student-debt-relief-looms-over-biden-agenda-2023-03-01/',\n",
       " 'https://www.reuters.com/business/autos-transportation/how-elon-musk-has-missed-his-targets-delivering-affordable-cars-2023-03-01/',\n",
       " 'https://www.reuters.com/markets/us/global-markets-view-usa-2023-03-01/',\n",
       " 'https://www.reuters.com/technology/tiktok-develop-parental-control-tool-block-certain-videos-2023-03-01/',\n",
       " 'https://www.reuters.com/world/india/indias-adani-says-has-secured-3-bln-credit-sovereign-wealth-fund-sources-2023-03-01/',\n",
       " 'https://www.reuters.com/legal/closing-arguments-set-murdaugh-south-carolina-murder-trial-2023-03-01/',\n",
       " 'https://www.reuters.com/business/retail-consumer/lowes-forecasts-annual-sales-below-estimates-slowdown-demand-2023-03-01/',\n",
       " 'https://www.reuters.com/world/europe/west-gains-advantage-it-vies-with-russia-influence-serbia-2023-03-01/',\n",
       " 'https://www.reuters.com/world/us/massachusetts-us-attorney-taps-ex-doj-watchdog-defend-her-ethics-probe-2023-03-01/',\n",
       " 'https://www.reuters.com/world/us/extreme-yosemite-rain-eases-drought-disrupts-wildlife-habitats-2023-03-01/',\n",
       " 'https://www.reuters.com/world/india/india-state-launches-probe-into-fire-apple-supplier-foxlink-2023-03-01/',\n",
       " 'https://www.reuters.com/markets/europe/brexit-breakthrough-twist-geoeconomics-2023-03-01/',\n",
       " 'https://www.reuters.com/world/china/xis-planned-revival-chinese-financial-watchdog-exerts-more-party-control-2023-03-01/',\n",
       " 'https://www.reuters.com/markets/asia/global-economy-asias-factory-activity-stalls-china-bright-spot-2023-03-01/',\n",
       " 'https://www.reuters.com/markets/asia/pakistans-february-cpi-rises-315-year-on-year-2023-03-01/',\n",
       " 'https://www.reuters.com/business/energy/indonesia-president-breaks-ground-construction-26-bln-hydropower-plant-2023-03-01/',\n",
       " 'https://www.reuters.com/lifestyle/sports/russian-chess-players-compete-asian-federation-after-quitting-europe-2023-03-01/',\n",
       " 'https://www.reuters.com/markets/deals/norways-equinor-nears-deal-buy-suncors-uk-oilfields-2023-03-01/',\n",
       " 'https://www.reuters.com/world/uk/british-lawmakers-ramp-up-pressure-banks-over-savings-rates-exec-pay-2023-03-01/',\n",
       " 'https://www.reuters.com/world/us/us-labor-dept-axes-trump-era-expansion-exemptions-anti-bias-laws-2023-02-28/',\n",
       " 'https://www.reuters.com/markets/currencies/india-rupee-rupee-scales-near-3-wk-high-chinese-yuan-boosts-asian-fx-2023-03-01/',\n",
       " 'https://www.reuters.com/legal/ghislaine-maxwell-seeks-void-conviction-jeffrey-epstein-case-2023-03-01/',\n",
       " 'https://www.reuters.com/legal/family-late-basketball-star-kobe-bryant-awarded-nearly-29m-photos-case-2023-03-01/',\n",
       " 'https://www.reuters.com/world/middle-east/israeli-protesters-block-highway-govt-presses-with-judicial-overhaul-2023-03-01/',\n",
       " 'https://www.reuters.com/business/property-developer-china-vanke-raise-500-mln-via-share-placement-term-sheet-2023-03-01/',\n",
       " 'https://www.reuters.com/markets/deals/baywa-sell-solar-trading-unit-2023-03-01/',\n",
       " 'https://www.reuters.com/podcasts/what-historic-northern-ireland-deal-really-means-podcast-2023-02-28/',\n",
       " 'https://www.reuters.com/markets/europe/inflation-key-german-states-remains-high-2023-03-01/',\n",
       " 'https://www.reuters.com/world/middle-east/iran-expels-two-german-diplomats-tit-for-tat-move-2023-03-01/',\n",
       " 'https://www.reuters.com/world/uk/bank-englands-bailey-says-nothing-decided-rates-path-2023-03-01/',\n",
       " 'https://www.reuters.com/business/media-telecom/chinese-video-streaming-platform-iqiyi-raise-600-mln-through-convertible-bonds-2023-03-01/',\n",
       " 'https://www.reuters.com/world/europe/poland-says-russian-hackers-attacked-tax-website-2023-03-01/',\n",
       " 'https://www.reuters.com/business/autos-transportation/rivian-sees-2023-production-well-below-estimates-recalls-over-12700-vehicles-2023-02-28/',\n",
       " 'https://www.reuters.com/lifestyle/sports/spains-pereira-takes-over-new-shanghai-port-coach-2023-03-01/',\n",
       " 'https://www.reuters.com/markets/europe/bundesbank-posts-first-loss-over-four-decades-higher-rates-bite-2023-03-01/',\n",
       " 'https://www.reuters.com/business/autos-transportation/tesla-readies-revamp-model-y-codenamed-juniper-sources-2023-03-01/',\n",
       " 'https://www.reuters.com/markets/europe/ecb-may-need-big-rates-hikes-beyond-march-steeper-qt-july-nagel-says-2023-03-01/',\n",
       " 'https://www.reuters.com/business/us-subsidies-are-appealing-german-companies-survey-2023-03-01/',\n",
       " 'https://www.reuters.com/markets/deals/viasats-buyout-inmarsat-provisionally-cleared-by-uk-regulator-2023-03-01/',\n",
       " 'https://www.reuters.com/business/retail-consumer/nordeas-esg-funds-have-little-thirst-coke-pepsi-2023-03-01/',\n",
       " 'https://www.reuters.com/markets/europe/eu-watchdog-says-will-visit-banks-check-their-crisis-plans-2023-03-01/',\n",
       " 'https://www.reuters.com/world/europe/i-heard-bang-then-chaos-greece-train-crash-survivors-2023-03-01/',\n",
       " 'https://www.reuters.com/business/energy/uniper-appoint-eons-uk-boss-new-ceo-2023-03-01/',\n",
       " 'https://www.reuters.com/business/finance/revolut-auditor-flags-concerns-about-576-mln-revenues-long-delayed-accounts-2023-03-01/',\n",
       " 'https://www.reuters.com/world/middle-east/israel-arrests-suspects-settler-rampage-described-by-general-pogrom-2023-03-01/',\n",
       " 'https://www.reuters.com/lifestyle/sports/former-france-great-fontaine-has-died-report-2023-03-01/',\n",
       " 'https://www.reuters.com/business/sustainable-business/eu-agrees-worlds-first-bond-issuance-rules-combat-greenwashing-2023-03-01/',\n",
       " 'https://www.reuters.com/world/russias-lavrov-talks-security-trade-issues-with-indian-counterpart-2023-03-01/',\n",
       " 'https://www.reuters.com/markets/commodities/gold-gains-traction-dollar-retreats-2023-03-01/',\n",
       " 'https://www.reuters.com/world/uk/uk-mortgage-approvals-fall-lowest-since-2009-excluding-pandemic-2023-03-01/']"
      ]
     },
     "execution_count": 42,
     "metadata": {},
     "output_type": "execute_result"
    }
   ],
   "source": [
    "#신문 기사의 URL만 가지는 리스트 생성\n",
    "\n",
    "urls['urlset']['url']\n",
    "\n",
    "#sub_sitemaps = [sitemap['loc'] for sitemap in sitemaps['sitemapindex']['sitemap']]\n",
    "news_urls = [url['loc'] for url in urls['urlset']['url']]\n",
    "news_urls"
   ]
  },
  {
   "cell_type": "code",
   "execution_count": 39,
   "id": "82fa3d6a-64a0-4bf3-8de4-ff9a73700bdc",
   "metadata": {},
   "outputs": [
    {
     "name": "stdout",
     "output_type": "stream",
     "text": [
      "Wall time: 3.24 s\n"
     ]
    }
   ],
   "source": [
    "%%time \n",
    "#%%time -> 실행하는데 걸리는 시간 / 맨 위에 작성\n",
    "\n",
    "##URL을 통해서 해당 문서 데이터 다운로드\n",
    "    #datas폴더 생성하고 코드 실행\n",
    "\n",
    "#session 추상화\n",
    "session = requests.Session()\n",
    "\n",
    "#앞의 5개의 링크만 가져오기\n",
    "for url in news_urls[:5]:\n",
    "    file = url.split('/')[-2] + '.html'\n",
    "\n",
    "    response = session.get(url)\n",
    "    if response.ok:\n",
    "        with open('datas/'+file, 'w+b') as f:\n",
    "            f.write(response.text.encode('utf-8'))\n",
    "    else:\n",
    "        print(f'error widh URL : {url}')"
   ]
  },
  {
   "cell_type": "code",
   "execution_count": 80,
   "id": "a16f351e-4553-441c-a2d5-d9a7e8347850",
   "metadata": {},
   "outputs": [],
   "source": [
    "#filename.txt 파일을 쓰기 모드(w)로 열기. open()함수는 파일 객체 변환\n",
    "file = open('filename.txt','w')\n",
    "\n",
    "#파일 객체의 write()메서드를 통해 문자열을 파일에 쓸 수 있습니다.\n",
    "file.write('파일에 작성할 문자열')\n",
    "\n",
    "#파일에 대한 처리가 끝났다면 반드시 파일 객체를 닫아줘야 합니다.\n",
    "\n",
    "file.close()"
   ]
  },
  {
   "cell_type": "code",
   "execution_count": 78,
   "id": "27590581-63cb-438e-a42a-6570f29a3e90",
   "metadata": {},
   "outputs": [],
   "source": [
    "#close에 대한 처리 없이 간편히 쓰려면 with 활용\n",
    "#아래 코드는 이전에 작성했던 것과 동일한 동작을 수행\n",
    "with open('filename.txt','w')as file:\n",
    "    file.write('파일에 작성할 문자열')\n",
    "    "
   ]
  },
  {
   "cell_type": "code",
   "execution_count": 45,
   "id": "7b67e250-be4f-4bff-a3f1-6c073bba78a9",
   "metadata": {},
   "outputs": [
    {
     "name": "stdout",
     "output_type": "stream",
     "text": [
      "파일에 작성할 문자열\n"
     ]
    }
   ],
   "source": [
    "#파일 읽어오기 모드\n",
    "with open('filename.txt','r') as file:\n",
    "    print(file.read())\n",
    "    "
   ]
  },
  {
   "cell_type": "code",
   "execution_count": 46,
   "id": "7e0825f6-5b3f-402f-8b4c-a7bcfe4dcc06",
   "metadata": {},
   "outputs": [
    {
     "data": {
      "text/plain": [
       "['./datas/.ipynb_checkpoints',\n",
       " './datas/bayer-sees-lower-2023-operating-profit-cost-inflation-2023-02-28.html',\n",
       " './datas/blinken-has-no-plans-meet-russian-chinese-counterparts-delhi-g20-meetings-2023-03-01.html',\n",
       " './datas/bola-tinubu-godfather-lagos-nigerias-president-elect-2023-03-01.html',\n",
       " './datas/england-captain-stokes-has-no-regrets-over-follow-on-2023-02-28.html',\n",
       " './datas/global-markets-view-europe-2023-02-28.html',\n",
       " './datas/home-zara-fast-slow-fashion-collide-2023-02-28.html',\n",
       " './datas/london-dogs-head-thailand-sniff-out-pangolin-smugglers-2023-02-28.html',\n",
       " './datas/oaktree-capital-seeks-raise-10-billion-new-fund-ft-2023-02-28.html',\n",
       " './datas/preview-motor-racing-verstappen-aiming-his-best-start-season-2023-03-01.html',\n",
       " './datas/us-require-companies-winning-chipmaking-subsidies-share-excess-profits-2023-02-28.html']"
      ]
     },
     "execution_count": 46,
     "metadata": {},
     "output_type": "execute_result"
    }
   ],
   "source": [
    "#파일 목록 가져오기\n",
    "    #os 패키지 - listdir()메서드\n",
    "    #arguments로 전달된 path 안의 파일 목록 가져옴\n",
    "\n",
    "import os\n",
    "path = './datas/'\n",
    "files = [path + file for file in os.listdir(path)]\n",
    "files"
   ]
  },
  {
   "cell_type": "code",
   "execution_count": null,
   "id": "3188abba-87c7-4f5f-a23b-3cea6dd8eddb",
   "metadata": {},
   "outputs": [],
   "source": [
    "#데이터 추출\n",
    "\n",
    "#파일 목록 중 3번째에 있는 HTML파일을 읽기모드 'r'로 가져오기\n",
    "#read()메서드로 파일을 읽어와서 내용을 html변수에 저장\n",
    "\n",
    "with open(files[2],'r',encoding = 'utf-8') as f:\n",
    "    html = f.read()\n",
    "\n",
    "print(html)"
   ]
  },
  {
   "cell_type": "code",
   "execution_count": 52,
   "id": "e445b246-7524-4bdd-bf90-578eba154c01",
   "metadata": {},
   "outputs": [
    {
     "name": "stdout",
     "output_type": "stream",
     "text": [
      "Blinken has 'no plans' to meet Russian, Chinese counterparts at Delhi G20 meetings\n"
     ]
    }
   ],
   "source": [
    "#BeautifulSoup\n",
    "#HTML 파싱에 도움을 주는 모듈\n",
    "    \n",
    "#BeautifulSoup(파싱할 대상, 파서의 종류)\n",
    "    #파서 종류 : html.parser , lxml, lxml-xml, xml, html5lib\n",
    "\n",
    "from bs4 import BeautifulSoup\n",
    "soup = BeautifulSoup(html,'html.parser')\n",
    "title = soup.select_one('h1')  #'h1'은 글제목\n",
    "print(title.text)"
   ]
  },
  {
   "cell_type": "code",
   "execution_count": 53,
   "id": "9380caef-2337-48f9-a279-107694243a41",
   "metadata": {},
   "outputs": [
    {
     "name": "stdout",
     "output_type": "stream",
     "text": [
      "Blinken has 'no plans' to meet Russian, Chinese counterparts at Delhi G20 meetings\n"
     ]
    }
   ],
   "source": [
    "#기사 헤드라인 추출하기\n",
    "\n",
    "#브라우저에 해당 기사 접속 > f12 > web inspector > 해당 헤드라인 클릭 \n",
    "#개발자 도구 선택된 태그 우클릭 > selector 복사 > select_one의 인수로 사용\n",
    "\n",
    "from bs4 import BeautifulSoup\n",
    "soup = BeautifulSoup(html,'html.parser')\n",
    "title = soup.select_one('#main-content > article > div.article__main__33WV2 > div.article__content__6hMn9 > header > div > div > h1')\n",
    "print(title.text)\n"
   ]
  },
  {
   "cell_type": "code",
   "execution_count": 56,
   "id": "302bac77-03f9-4c47-9a6b-d93478227463",
   "metadata": {},
   "outputs": [
    {
     "data": {
      "text/plain": [
       "<h1 class=\"text__text__1FZLe text__dark-grey__3Ml43 text__medium__1kbOh text__heading_3__1kDhc heading__base__2T28j heading__heading_3__3aL54 article-header__title__3Y2hh\" data-testid=\"Heading\">Blinken has 'no plans' to meet Russian, Chinese counterparts at Delhi G20 meetings</h1>"
      ]
     },
     "execution_count": 56,
     "metadata": {},
     "output_type": "execute_result"
    }
   ],
   "source": [
    "#<h1>태그에 해당하는 객체 가져오기\n",
    "soup.h1"
   ]
  },
  {
   "cell_type": "code",
   "execution_count": 57,
   "id": "48d05a15-990c-4c56-a14b-ca0ccabfca3a",
   "metadata": {},
   "outputs": [
    {
     "data": {
      "text/plain": [
       "\"Blinken has 'no plans' to meet Russian, Chinese counterparts at Delhi G20 meetings | Reuters\""
      ]
     },
     "execution_count": 57,
     "metadata": {},
     "output_type": "execute_result"
    }
   ],
   "source": [
    "#<h1>태그 사이에 있는 텍스트 값\n",
    "soup.title.text"
   ]
  },
  {
   "cell_type": "code",
   "execution_count": 58,
   "id": "66ee4a5f-349a-4b0c-a8d6-66f1d939ccf4",
   "metadata": {},
   "outputs": [
    {
     "data": {
      "text/plain": [
       "'TASHKENT, March 1 (Reuters) - U.S. Secretary of State Antony Blinken said on Wednesday that he has no plans to meet either the foreign ministers of Russia or of China during the Group of 20 (G20) meeting in New Delhi.'"
      ]
     },
     "execution_count": 58,
     "metadata": {},
     "output_type": "execute_result"
    }
   ],
   "source": [
    "soup.select_one('#main-content > article > div.article__main__33WV2 > div.article__content__6hMn9 > div > div > div.article-body__content__17Yit.paywall-article > p:nth-child(2)').text\n",
    "\n",
    "#soup.select('p') -> p의 값을 가지는 모든 데이터를 리스트로 저장 "
   ]
  },
  {
   "cell_type": "code",
   "execution_count": 61,
   "id": "47d5ae57-46f6-43c8-baa5-9594de17078f",
   "metadata": {},
   "outputs": [
    {
     "data": {
      "text/plain": [
       "'https://www.reuters.com/world/blinken-has-no-plans-meet-russian-chinese-counterparts-delhi-g20-meetings-2023-03-01/'"
      ]
     },
     "execution_count": 61,
     "metadata": {},
     "output_type": "execute_result"
    }
   ],
   "source": [
    "#표준 URL (=canonical URL)\n",
    "\n",
    "#많은 HTML파일을 다운로드 할 떄 나중에 찾기 편하게 원본 URL을 저장하는 것이 좋음\n",
    "#일번적으로 표준URL(canonical URL)사용하여 관리\n",
    "\n",
    "soup.find('link',{'rel':'canonical'})['href']"
   ]
  },
  {
   "cell_type": "code",
   "execution_count": null,
   "id": "e6cbe1b1-97c6-47b8-9c04-d17d7db13b16",
   "metadata": {},
   "outputs": [],
   "source": []
  }
 ],
 "metadata": {
  "kernelspec": {
   "display_name": "Python 3 (ipykernel)",
   "language": "python",
   "name": "python3"
  },
  "language_info": {
   "codemirror_mode": {
    "name": "ipython",
    "version": 3
   },
   "file_extension": ".py",
   "mimetype": "text/x-python",
   "name": "python",
   "nbconvert_exporter": "python",
   "pygments_lexer": "ipython3",
   "version": "3.9.13"
  }
 },
 "nbformat": 4,
 "nbformat_minor": 5
}
