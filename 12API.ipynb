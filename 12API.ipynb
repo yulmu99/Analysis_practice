{
 "cells": [
  {
   "cell_type": "code",
   "execution_count": 6,
   "id": "be59a872-298f-4cbf-9fe9-7368d9f5a23d",
   "metadata": {},
   "outputs": [],
   "source": [
    "#API서버\n",
    "#server란 우리가 사용하는 컴퓨터보다 더 고성능인 컴퓨터라고 생각\n",
    "#browser(우리)에서 server의 주소를 통해 접근하면 server에서 데이터를 전달해줌\n",
    "#컴퓨터가 데이터 가져오기에 유용한 인터페이스\n",
    "\n",
    "#clients -> requests -> server\n",
    "#server -> response -> clients\n",
    "\n",
    "#HTTP통신 - API 호출 방식\n",
    "#request mothod 중 하나 get\n",
    "#get방식 주로 사용\n",
    "#get방식 속에는 parameter받고 query string 활용\n",
    "\n",
    "#query string\n",
    "#주소상에서 ?뒤에 &로 연결\n",
    "\n",
    "#URI\n",
    "#인터넷에서 server의 주소\n",
    "\n",
    "#response(응답) 데이터 형식\n",
    "#json,xml 형태로 받을 수 있음\n",
    "\n",
    "#직렬화 : 객체 -> 바이트로 변경 / 역직렬화 : 직렬화의 반대\n",
    "#컴퓨터는 바이트 형태로 자료 받음\n",
    "\n",
    "#파싱\n",
    "#일련의 문자열을 의미있는 토큰으로 분해하고 이들로 이루어진 파스 트리(객체)를 만드는 과정\n",
    "\n"
   ]
  },
  {
   "cell_type": "code",
   "execution_count": 3,
   "id": "826a12d5-8746-49ce-be02-35beb4e1fcb7",
   "metadata": {},
   "outputs": [],
   "source": [
    "#requests라이브러리\n",
    "#HTTP통신을 쉽게 할 수 있는 라이브러리 /  파이썬 기본 라이브러리\n",
    "#query string을 직접 URI에 작성하지 않고 제공되는 메서드에 arguments만 입력하면 됨\n"
   ]
  },
  {
   "cell_type": "code",
   "execution_count": 24,
   "id": "cadceece-1cf5-4d26-bdc7-2bac879669bb",
   "metadata": {},
   "outputs": [
    {
     "name": "stdout",
     "output_type": "stream",
     "text": [
      "200\n",
      "인코딩:utf-8\n",
      "콘텐츠 타입:application/json; charset=utf-8\n",
      "서버:GitHub.com\n",
      "{'Server': 'GitHub.com', 'Date': 'Tue, 28 Feb 2023 16:06:29 GMT', 'Content-Type': 'application/json; charset=utf-8', 'Cache-Control': 'public, max-age=60, s-maxage=60', 'Vary': 'Accept, Accept-Encoding, Accept, X-Requested-With', 'ETag': 'W/\"60df2d3c5cc08384fcdfa1716b86c62e74668ea8fd8f06bb96ba10a4471d8ec7\"', 'X-GitHub-Media-Type': 'github.v3; format=json', 'Link': '<https://api.github.com/repositories?since=369>; rel=\"next\", <https://api.github.com/repositories{?since}>; rel=\"first\"', 'x-github-api-version-selected': '2022-11-28', 'Access-Control-Expose-Headers': 'ETag, Link, Location, Retry-After, X-GitHub-OTP, X-RateLimit-Limit, X-RateLimit-Remaining, X-RateLimit-Used, X-RateLimit-Resource, X-RateLimit-Reset, X-OAuth-Scopes, X-Accepted-OAuth-Scopes, X-Poll-Interval, X-GitHub-Media-Type, X-GitHub-SSO, X-GitHub-Request-Id, Deprecation, Sunset', 'Access-Control-Allow-Origin': '*', 'Strict-Transport-Security': 'max-age=31536000; includeSubdomains; preload', 'X-Frame-Options': 'deny', 'X-Content-Type-Options': 'nosniff', 'X-XSS-Protection': '0', 'Referrer-Policy': 'origin-when-cross-origin, strict-origin-when-cross-origin', 'Content-Security-Policy': \"default-src 'none'\", 'Content-Encoding': 'gzip', 'X-RateLimit-Limit': '60', 'X-RateLimit-Remaining': '59', 'X-RateLimit-Reset': '1677603989', 'X-RateLimit-Resource': 'core', 'X-RateLimit-Used': '1', 'Accept-Ranges': 'bytes', 'Transfer-Encoding': 'chunked', 'X-GitHub-Request-Id': 'F63A:2797:341D2E:52C7ED:63FE2685'}\n",
      "{\n",
      "  \"id\": 1,\n",
      "  \"node_id\": \"MDEwOlJlcG9zaXRvcnkx\",\n",
      "  \"name\": \"grit\",\n",
      "  \"full_name\": \"mojombo/grit\",\n",
      "  \"private\": false,\n",
      "  \"owner\": {\n",
      "    \"login\": \"mojombo\",\n",
      "    \"id\": 1,\n",
      "    \"node_id\": \"MDQ6VXNlcjE=\",\n",
      "\n"
     ]
    }
   ],
   "source": [
    "#데이터 불러오기\n",
    "#가장 중요한 것은 documents 페이지에서 API에 대한 정보를 파악하는게 우선\n",
    "\n",
    "#실습\n",
    "import requests\n",
    "response = requests.get('https://api.github.com/repositories',\n",
    "           headers={'Accepts':'application/vnd.github.v3+json'})\n",
    "print(response.status_code)    #status_code :서버와 통신이 바르게 되었는지 확인하는 코드\n",
    "\n",
    "#https://httpstatuses.com/200 -> 코드 번호 입력하면 그 코드가 의미하는 바를 알려줌\n",
    "#서버가 보내주는 반응\n",
    "\n",
    "#response에 대한 정보 확인\n",
    "print(f\"인코딩:{response.encoding}\")\n",
    "print(f\"콘텐츠 타입:{response.headers['Content-Type']}\")\n",
    "print(f\"서버:{response.headers['server']}\")\n",
    "\n",
    "print(response.headers)\n",
    " \n",
    "#json 형태의 dictionary로 구조화\n",
    "#API에서 받아온 데이터가 리스트거나 딕셔너리로 전달\n",
    "import json\n",
    "print(json.dumps(response.json()[0], indent=2)[:200])   # indent :들여쓰기 "
   ]
  },
  {
   "cell_type": "code",
   "execution_count": null,
   "id": "62d4d40c-6845-4144-86c1-46baee2dfffe",
   "metadata": {},
   "outputs": [],
   "source": [
    "#public repositories\n",
    "response.json()"
   ]
  },
  {
   "cell_type": "code",
   "execution_count": 26,
   "id": "75f39f5b-27a8-497e-9f70-ff73ece289f1",
   "metadata": {},
   "outputs": [
    {
     "name": "stdout",
     "output_type": "stream",
     "text": [
      "200\n"
     ]
    },
    {
     "data": {
      "text/plain": [
       "{'Server': 'GitHub.com', 'Date': 'Tue, 28 Feb 2023 16:16:55 GMT', 'Content-Type': 'application/json; charset=utf-8', 'Cache-Control': 'no-cache', 'Vary': 'Accept, Accept-Encoding, Accept, X-Requested-With', 'X-GitHub-Media-Type': 'github.v3; param=text-match; format=json', 'Link': '<https://api.github.com/search/repositories?q=data_science%2Blanguage%3Apython&page=2>; rel=\"next\", <https://api.github.com/search/repositories?q=data_science%2Blanguage%3Apython&page=34>; rel=\"last\"', 'x-github-api-version-selected': '2022-11-28', 'Access-Control-Expose-Headers': 'ETag, Link, Location, Retry-After, X-GitHub-OTP, X-RateLimit-Limit, X-RateLimit-Remaining, X-RateLimit-Used, X-RateLimit-Resource, X-RateLimit-Reset, X-OAuth-Scopes, X-Accepted-OAuth-Scopes, X-Poll-Interval, X-GitHub-Media-Type, X-GitHub-SSO, X-GitHub-Request-Id, Deprecation, Sunset', 'Access-Control-Allow-Origin': '*', 'Strict-Transport-Security': 'max-age=31536000; includeSubdomains; preload', 'X-Frame-Options': 'deny', 'X-Content-Type-Options': 'nosniff', 'X-XSS-Protection': '0', 'Referrer-Policy': 'origin-when-cross-origin, strict-origin-when-cross-origin', 'Content-Security-Policy': \"default-src 'none'\", 'Content-Encoding': 'gzip', 'X-RateLimit-Limit': '10', 'X-RateLimit-Remaining': '9', 'X-RateLimit-Reset': '1677601074', 'X-RateLimit-Resource': 'search', 'X-RateLimit-Used': '1', 'Accept-Ranges': 'bytes', 'Transfer-Encoding': 'chunked', 'X-GitHub-Request-Id': 'F6E0:7D0E:F6003:13FF6E:63FE28F6'}"
      ]
     },
     "execution_count": 26,
     "metadata": {},
     "output_type": "execute_result"
    }
   ],
   "source": [
    "#API의 documents에서 required -> 필수 입력\n",
    "\n",
    "\n",
    "response = requests.get( 'https://api.github.com/search/repositories',\n",
    "                          params = {'q':'data_science+language:python'},\n",
    "                          headers= {'Accept':'application/vnd.github.v3.text-match+json'})\n",
    "print(response.status_code)\n",
    "response.headers"
   ]
  },
  {
   "cell_type": "code",
   "execution_count": 44,
   "id": "9a90d890-f7ca-4c6d-a2af-79cd487cdf27",
   "metadata": {},
   "outputs": [
    {
     "name": "stdout",
     "output_type": "stream",
     "text": [
      "data-science-from-scratch:repositorydescription - \"code for Data Science From Scratch book\"matched withData Science\n",
      "PySyft:repositorydescription - \"data science on data without acquiring a copy\"matched withdata science\n",
      "data-science-blogs:repositorydescription - \"A curated list of data science blogs\"matched withdata science\n",
      "galaxy:repositorydescription - \"Data intensive science for everyone.\"matched withData\n",
      "DataCamp:repositorydescription - \"DataCamp data-science courses\"matched withdata\n",
      "data-scientist-roadmap:repositorydescription - \"Toturials coming with the \"data science roadmap\" picture.\"matched withdata science\n",
      "dsp:repositorydescription - \"data science preparation\"matched withdata science\n",
      "cookiecutter-data-science:repositorydescription - \"A logical, reasonably standardized, but flexible project structure for doing and sharing data science work.\"matched withdata science\n",
      "Kaggler:repositorydescription - \"Code for Kaggle Data Science Competitions\"matched withData Science\n",
      "kedro:repositorydescription - \"A Python framework for creating reproducible, maintainable and modular data science code.\"matched withdata science\n",
      "data-science-template:repositorydescription - \"Template for a data science project\"matched withdata science\n",
      "book_sample:repositorydescription - \"another book on data science\"matched withdata science\n",
      "PDA_Book:repositorydescription - \"Code Examples Data Science using Python\"matched withData Science\n",
      "metaflow:repositorydescription - \":rocket: Build and manage real-life data science projects with ease!\"matched withdata science\n",
      "intro_ds:repositorydescription - \"Code to accompany Mastering Data Science from PT press\"matched withData Science\n",
      "lale:repositorydescription - \"Library for Semi-Automated Data Science\"matched withData Science\n",
      "heamy:repositorydescription - \"A set of useful tools for competitive data science.\"matched withdata science\n",
      "datajoint-python:repositorydescription - \"Relational data pipelines for the science lab \"matched withdata\n",
      "python-data-science-workshop:repositorydescription - \"Workshop: Python for Data Science\"matched withData Science\n",
      "d6tflow:repositorydescription - \"Python library for building highly effective data science workflows\"matched withdata science\n",
      "nebari:repositorydescription - \"🪴 Nebari - your open source data science platform\"matched withdata science\n",
      "data-science-ipython-notebooks:repositorydescription - \"Data science Python notebooks: Deep learning (TensorFlow, Theano, Caffe, Keras), scikit-learn, Kaggle, big data (Spark, Hadoop MapReduce, HDFS), matplotlib, pandas, NumPy, SciPy, Python essentials, AWS, and various command lines.\"matched withData science\n",
      "Building-Data-Science-Applications-with-FastAPI:repositorydescription - \"Building Data Science Applications with FastAPI, Published by Packt\"matched withData Science\n",
      "the_data_science_handbook:repositorydescription - \"Source code for The Data Science Handbook\"matched withData Science\n",
      "Uber-DS-Challenge:repositorydescription - \"Uber provided Data Science take home\"matched withData Science\n",
      "dsb-2017:repositorydescription - \"Data Science Bowl 2017\"matched withData Science\n",
      "DSB2018:repositorydescription - \"Data Science Bowl 2018\"matched withData Science\n",
      "ufora:repositorydescription - \"Compiled, automatically parallel Python for data science\"matched withdata science\n",
      "xam:repositorydescription - \":dart: Personal data science and machine learning toolbox\"matched withdata science\n",
      "dslp-repo-template:repositorydescription - \"Template repository for data science lifecycle project\"matched withdata science\n"
     ]
    }
   ],
   "source": [
    "#json컨텐츠 딕셔너리로 변환\n",
    "#[{}] -> 리스트 속에 딕셔너리로 존재\n",
    "#.keys를 사용하려면 리스트 안에 있는 딕셔너리를 따로 꺼내서 \n",
    "import json\n",
    "response.json().keys()  \n",
    "\n",
    "#각 아이템마다 text_matches의 첫 번째의 property, fragment, matches 값을 각각 전부 조회하는 코드를 작성하세요.\n",
    "response.json()['items'][0]['text_matches']\n",
    "for item in response.json()['items']:\n",
    "    print(item['name']+':repository'+\n",
    "          item['text_matches'][0]['property'] + ' - \\\"' +\n",
    "          item['text_matches'][0]['fragment'] + '\\\"matched with' +\n",
    "          item['text_matches'][0]['matches'][0]['text']\n",
    "         )"
   ]
  },
  {
   "cell_type": "code",
   "execution_count": 12,
   "id": "29a99975-e8dc-4ada-a82c-ad81649da347",
   "metadata": {},
   "outputs": [
    {
     "name": "stdout",
     "output_type": "stream",
     "text": [
      "Response Code 200\n",
      "Number of comments 30\n"
     ]
    },
    {
     "data": {
      "text/plain": [
       "{'next': {'url': 'https://api.github.com/repositories/65600975/issues?page=2',\n",
       "  'rel': 'next'},\n",
       " 'last': {'url': 'https://api.github.com/repositories/65600975/issues?page=371',\n",
       "  'rel': 'last'}}"
      ]
     },
     "execution_count": 12,
     "metadata": {},
     "output_type": "execute_result"
    }
   ],
   "source": [
    "#list Repository Issues\n",
    "import requests\n",
    "response = requests.get('https://api.github.com/repos/pytorch/pytorch/issues',\n",
    "                      headers = {'Accept' : 'application/vnd.github.v3.text-match+json'})\n",
    "print('Response Code' , response.status_code)\n",
    "print('Number of comments', len(response.json()))    #데이터 자료 수\n",
    "                                                     #실제 수는 5천개 넘는데 30개만 가져와짐\n",
    "\n",
    "#pagination\n",
    "#서버의 과부하를 방지하기 위해 응답 개수를 제한 하는 기술로 API에 적용 되어있음\n",
    "\n",
    "response.links   #응답 페이지 수에 대한 세부 정보\n",
    "                 #next : 30개의 URL / ㅣlast : 마지막 페이지의 URL\n"
   ]
  },
  {
   "cell_type": "code",
   "execution_count": 37,
   "id": "ca673a5c-94c8-4fd1-9c62-4a8bc80f8b9a",
   "metadata": {},
   "outputs": [],
   "source": [
    "#첫 ~ 마지막 페이지까지의 URL 호출 코드\n",
    "\n",
    "def get_all_pages(url, params=None , headers=None):\n",
    "    output_json =[]\n",
    "    response = requests.get(url,params=params,headers=headers)    #API 호출\n",
    "    if response.status_code == 200:\n",
    "        output_json = response.json()\n",
    "        if 'next' in response.links:                              \n",
    "            next_url = response.links['next']['url']              \n",
    "            if 'next_url' != None:                                            #가져온 데이터에 다음 링크의 정보가 있으면\n",
    "                output_json += get_all_pages(next_url , params, headers)      #API호출 (반복)  / 재귀함수\n",
    "    return output_json\n",
    "\n",
    "#재귀함수 : 함수 바디에서 자기 자신의 함수를 호출하는 것"
   ]
  },
  {
   "cell_type": "code",
   "execution_count": 40,
   "id": "e88eaec1-5b48-45e0-bc70-5f36a7e1a23c",
   "metadata": {},
   "outputs": [
    {
     "ename": "KeyError",
     "evalue": "'body'",
     "output_type": "error",
     "traceback": [
      "\u001b[1;31m---------------------------------------------------------------------------\u001b[0m",
      "\u001b[1;31mKeyError\u001b[0m                                  Traceback (most recent call last)",
      "\u001b[1;32m~\\anaconda3\\lib\\site-packages\\pandas\\core\\indexes\\base.py\u001b[0m in \u001b[0;36mget_loc\u001b[1;34m(self, key, method, tolerance)\u001b[0m\n\u001b[0;32m   3628\u001b[0m             \u001b[1;32mtry\u001b[0m\u001b[1;33m:\u001b[0m\u001b[1;33m\u001b[0m\u001b[1;33m\u001b[0m\u001b[0m\n\u001b[1;32m-> 3629\u001b[1;33m                 \u001b[1;32mreturn\u001b[0m \u001b[0mself\u001b[0m\u001b[1;33m.\u001b[0m\u001b[0m_engine\u001b[0m\u001b[1;33m.\u001b[0m\u001b[0mget_loc\u001b[0m\u001b[1;33m(\u001b[0m\u001b[0mcasted_key\u001b[0m\u001b[1;33m)\u001b[0m\u001b[1;33m\u001b[0m\u001b[1;33m\u001b[0m\u001b[0m\n\u001b[0m\u001b[0;32m   3630\u001b[0m             \u001b[1;32mexcept\u001b[0m \u001b[0mKeyError\u001b[0m \u001b[1;32mas\u001b[0m \u001b[0merr\u001b[0m\u001b[1;33m:\u001b[0m\u001b[1;33m\u001b[0m\u001b[1;33m\u001b[0m\u001b[0m\n",
      "\u001b[1;32m~\\anaconda3\\lib\\site-packages\\pandas\\_libs\\index.pyx\u001b[0m in \u001b[0;36mpandas._libs.index.IndexEngine.get_loc\u001b[1;34m()\u001b[0m\n",
      "\u001b[1;32m~\\anaconda3\\lib\\site-packages\\pandas\\_libs\\index.pyx\u001b[0m in \u001b[0;36mpandas._libs.index.IndexEngine.get_loc\u001b[1;34m()\u001b[0m\n",
      "\u001b[1;32mpandas\\_libs\\hashtable_class_helper.pxi\u001b[0m in \u001b[0;36mpandas._libs.hashtable.PyObjectHashTable.get_item\u001b[1;34m()\u001b[0m\n",
      "\u001b[1;32mpandas\\_libs\\hashtable_class_helper.pxi\u001b[0m in \u001b[0;36mpandas._libs.hashtable.PyObjectHashTable.get_item\u001b[1;34m()\u001b[0m\n",
      "\u001b[1;31mKeyError\u001b[0m: 'body'",
      "\nThe above exception was the direct cause of the following exception:\n",
      "\u001b[1;31mKeyError\u001b[0m                                  Traceback (most recent call last)",
      "\u001b[1;32m~\\AppData\\Local\\Temp\\ipykernel_16164\\55116970.py\u001b[0m in \u001b[0;36m<module>\u001b[1;34m\u001b[0m\n\u001b[0;32m     14\u001b[0m \u001b[1;33m\u001b[0m\u001b[0m\n\u001b[0;32m     15\u001b[0m \u001b[0mdf\u001b[0m \u001b[1;33m=\u001b[0m \u001b[0mpd\u001b[0m\u001b[1;33m.\u001b[0m\u001b[0mDataFrame\u001b[0m\u001b[1;33m(\u001b[0m\u001b[0mout\u001b[0m\u001b[1;33m)\u001b[0m\u001b[1;33m\u001b[0m\u001b[1;33m\u001b[0m\u001b[0m\n\u001b[1;32m---> 16\u001b[1;33m \u001b[0mprint\u001b[0m\u001b[1;33m(\u001b[0m\u001b[0mdf\u001b[0m\u001b[1;33m[\u001b[0m\u001b[1;34m'body'\u001b[0m\u001b[1;33m]\u001b[0m\u001b[1;33m.\u001b[0m\u001b[0mcount\u001b[0m\u001b[1;33m(\u001b[0m\u001b[1;33m)\u001b[0m\u001b[1;33m)\u001b[0m\u001b[1;33m\u001b[0m\u001b[1;33m\u001b[0m\u001b[0m\n\u001b[0m\u001b[0;32m     17\u001b[0m \u001b[0mdf\u001b[0m\u001b[1;33m[\u001b[0m\u001b[1;33m[\u001b[0m\u001b[1;34m'id'\u001b[0m\u001b[1;33m,\u001b[0m\u001b[1;34m'creates_at'\u001b[0m\u001b[1;33m,\u001b[0m\u001b[1;34m'body'\u001b[0m\u001b[1;33m]\u001b[0m\u001b[1;33m]\u001b[0m\u001b[1;33m.\u001b[0m\u001b[0msample\u001b[0m\u001b[1;33m(\u001b[0m\u001b[1;36m1\u001b[0m\u001b[1;33m)\u001b[0m\u001b[1;33m\u001b[0m\u001b[1;33m\u001b[0m\u001b[0m\n",
      "\u001b[1;32m~\\anaconda3\\lib\\site-packages\\pandas\\core\\frame.py\u001b[0m in \u001b[0;36m__getitem__\u001b[1;34m(self, key)\u001b[0m\n\u001b[0;32m   3503\u001b[0m             \u001b[1;32mif\u001b[0m \u001b[0mself\u001b[0m\u001b[1;33m.\u001b[0m\u001b[0mcolumns\u001b[0m\u001b[1;33m.\u001b[0m\u001b[0mnlevels\u001b[0m \u001b[1;33m>\u001b[0m \u001b[1;36m1\u001b[0m\u001b[1;33m:\u001b[0m\u001b[1;33m\u001b[0m\u001b[1;33m\u001b[0m\u001b[0m\n\u001b[0;32m   3504\u001b[0m                 \u001b[1;32mreturn\u001b[0m \u001b[0mself\u001b[0m\u001b[1;33m.\u001b[0m\u001b[0m_getitem_multilevel\u001b[0m\u001b[1;33m(\u001b[0m\u001b[0mkey\u001b[0m\u001b[1;33m)\u001b[0m\u001b[1;33m\u001b[0m\u001b[1;33m\u001b[0m\u001b[0m\n\u001b[1;32m-> 3505\u001b[1;33m             \u001b[0mindexer\u001b[0m \u001b[1;33m=\u001b[0m \u001b[0mself\u001b[0m\u001b[1;33m.\u001b[0m\u001b[0mcolumns\u001b[0m\u001b[1;33m.\u001b[0m\u001b[0mget_loc\u001b[0m\u001b[1;33m(\u001b[0m\u001b[0mkey\u001b[0m\u001b[1;33m)\u001b[0m\u001b[1;33m\u001b[0m\u001b[1;33m\u001b[0m\u001b[0m\n\u001b[0m\u001b[0;32m   3506\u001b[0m             \u001b[1;32mif\u001b[0m \u001b[0mis_integer\u001b[0m\u001b[1;33m(\u001b[0m\u001b[0mindexer\u001b[0m\u001b[1;33m)\u001b[0m\u001b[1;33m:\u001b[0m\u001b[1;33m\u001b[0m\u001b[1;33m\u001b[0m\u001b[0m\n\u001b[0;32m   3507\u001b[0m                 \u001b[0mindexer\u001b[0m \u001b[1;33m=\u001b[0m \u001b[1;33m[\u001b[0m\u001b[0mindexer\u001b[0m\u001b[1;33m]\u001b[0m\u001b[1;33m\u001b[0m\u001b[1;33m\u001b[0m\u001b[0m\n",
      "\u001b[1;32m~\\anaconda3\\lib\\site-packages\\pandas\\core\\indexes\\base.py\u001b[0m in \u001b[0;36mget_loc\u001b[1;34m(self, key, method, tolerance)\u001b[0m\n\u001b[0;32m   3629\u001b[0m                 \u001b[1;32mreturn\u001b[0m \u001b[0mself\u001b[0m\u001b[1;33m.\u001b[0m\u001b[0m_engine\u001b[0m\u001b[1;33m.\u001b[0m\u001b[0mget_loc\u001b[0m\u001b[1;33m(\u001b[0m\u001b[0mcasted_key\u001b[0m\u001b[1;33m)\u001b[0m\u001b[1;33m\u001b[0m\u001b[1;33m\u001b[0m\u001b[0m\n\u001b[0;32m   3630\u001b[0m             \u001b[1;32mexcept\u001b[0m \u001b[0mKeyError\u001b[0m \u001b[1;32mas\u001b[0m \u001b[0merr\u001b[0m\u001b[1;33m:\u001b[0m\u001b[1;33m\u001b[0m\u001b[1;33m\u001b[0m\u001b[0m\n\u001b[1;32m-> 3631\u001b[1;33m                 \u001b[1;32mraise\u001b[0m \u001b[0mKeyError\u001b[0m\u001b[1;33m(\u001b[0m\u001b[0mkey\u001b[0m\u001b[1;33m)\u001b[0m \u001b[1;32mfrom\u001b[0m \u001b[0merr\u001b[0m\u001b[1;33m\u001b[0m\u001b[1;33m\u001b[0m\u001b[0m\n\u001b[0m\u001b[0;32m   3632\u001b[0m             \u001b[1;32mexcept\u001b[0m \u001b[0mTypeError\u001b[0m\u001b[1;33m:\u001b[0m\u001b[1;33m\u001b[0m\u001b[1;33m\u001b[0m\u001b[0m\n\u001b[0;32m   3633\u001b[0m                 \u001b[1;31m# If we have a listlike key, _check_indexing_error will raise\u001b[0m\u001b[1;33m\u001b[0m\u001b[1;33m\u001b[0m\u001b[0m\n",
      "\u001b[1;31mKeyError\u001b[0m: 'body'"
     ]
    }
   ],
   "source": [
    "#pandas패키지 . DataFrame() : 표 형태로 데이터 다룸\n",
    "\n",
    "import pandas as pd\n",
    "\n",
    "out = get_all_pages(\n",
    "    'https://api.github.com/repos/pytorch/pytorch/issues/comments',\n",
    "     params={\n",
    "        'since' : '2022-01-01T10:00:01Z',      #since : 해당 시간 이후에 업데이트 된 데이터만\n",
    "        'sorted' : 'created',                   #sorted : 정렬할 항목\n",
    "        'direction': 'desc'                    #direction : 정렬 방향\n",
    "     },\n",
    "     headers={'Accept':'application/vnd.github.v3+json'}\n",
    ")\n",
    "\n",
    "df = pd.DataFrame(out)\n",
    "print(df['body'].count())\n",
    "df[['id','creates_at','body']].sample(1)"
   ]
  },
  {
   "cell_type": "code",
   "execution_count": 50,
   "id": "39d76269-e7b6-4a77-ad09-f77030a1a892",
   "metadata": {},
   "outputs": [
    {
     "name": "stdout",
     "output_type": "stream",
     "text": [
      "X-RateLimit-Limit 60\n",
      "X-RateLimit-Remaining 54\n",
      "Rate Limit reset at Wed Mar  1 18:48:45 2023\n"
     ]
    }
   ],
   "source": [
    "#rate limit (시간당 속도 제한)\n",
    "#API 서버 부하 방지를 위해서 특정 시간 범위동안 한된 요청 수만 허용\n",
    "\n",
    "#응답 헤더에서 사용량 조회\n",
    "response = requests.get('https://api.github.com/repos/pytorch/pytorch/issues/comments')\n",
    "print('X-RateLimit-Limit',response.headers['X-RateLimit-Limit'])\n",
    "print('X-RateLimit-Remaining',response.headers['X-RateLimit-Remaining'])\n",
    "\n",
    "#UTC 시간을 사람이 읽을 수 있는 형식으로 반환\n",
    "import datetime \n",
    "print('Rate Limit reset at' , datetime.datetime.fromtimestamp(int(response.headers['X-RateLimit-Reset'])).strftime('%c'))\n"
   ]
  },
  {
   "cell_type": "code",
   "execution_count": 49,
   "id": "d4763544-5045-40eb-abbe-313e4f444879",
   "metadata": {},
   "outputs": [],
   "source": [
    "#rate limit (분당 속도 제한)\n",
    "#인증되지 않은 요청에 대해서는 1분에 10회만 요청\n",
    "#초과해서 요청하면 403 상태 코드로 응답 회신\n"
   ]
  },
  {
   "cell_type": "code",
   "execution_count": 56,
   "id": "9fc29ef6-c884-4e5a-9e09-8dacf28c894f",
   "metadata": {},
   "outputs": [],
   "source": [
    "#API 호출 속도 조절\n",
    "#time 라이브러리의 sleep()메서드\n",
    "#특정 시간 동안 대기 할 수 있도록 함\n",
    "\n",
    "from datetime import datetime\n",
    "import time\n",
    "\n",
    "def handle_rate_limits(response):\n",
    "    \"\"\"X-Ratelimit-Reset과 X-Ratelimit-Remaining을 활용한 대기시간동안\n",
    "       기다렸다가 API 호출하는 함수\"\"\"\n",
    "    now = datetime.now()\n",
    "    reset_time = datetime.fromtimestamp(int(response.headers['X-RateLimit-Reset']))\n",
    "    remaining_requests = response.headers['X-RateLimit-Remaining']\n",
    "    remaining_time = {reset_time - now}.total_seconds()\n",
    "    intervals = remaining_time / (1.0 + int(remaining_requests))\n",
    "                                          \n",
    "    print('Sleeping for',intervals)\n",
    "    time.sleep(intervals)\n",
    "    return True\n",
    "                                          \n"
   ]
  },
  {
   "cell_type": "code",
   "execution_count": 59,
   "id": "3622ed47-f746-4e1e-915a-1445a0c43ec1",
   "metadata": {},
   "outputs": [
    {
     "name": "stdout",
     "output_type": "stream",
     "text": [
      "data-science-from-scratch\n",
      "PySyft\n",
      "data-science-blogs\n",
      "galaxy\n",
      "DataCamp\n"
     ]
    }
   ],
   "source": [
    "#네트워크 오류를 감안한 코드 작성\n",
    "#API 호출에는 여러가지 변수가 존재 : 연결중단, dns 조회실패, 연결시간 초과 등\n",
    "\n",
    "#호출 실패에 대한 재시도를 할 수 있도록 HTTPAdapter를 사용\n",
    "    #Retry 객체를 통해 초기화\n",
    "    #total은 재시도횟수 / status_forcelist는 재시도할 상태 코드 목록 / backoff_factor는 각 시도마다 간격을 늘려주는 수치\n",
    "\n",
    "from requests.adapters import HTTPAdapter\n",
    "from requests.packages.urllib3.util.retry import Retry\n",
    "\n",
    "retry_strategy = Retry(\n",
    "    total=5,\n",
    "    status_forcelist=[500, 503, 504],\n",
    "    backoff_factor=1\n",
    ")\n",
    "\n",
    "retry_adapter = HTTPAdapter(max_retries=retry_strategy)\n",
    "\n",
    "#연결 동작에 재시도 추가하려면 재시도를 할 수 있는 사용자 지정 어댑터 지정\n",
    "#새로운 http Session 객체 생성해 사용\n",
    "http = requests.Session()\n",
    "http.mount(\"https://\", retry_adapter)\n",
    "http.mount(\"https://\", retry_adapter)\n",
    "\n",
    "response = http.get('https://api.github.com/search/repositories',\n",
    "                    params={'q': 'data_science+language:python'})\n",
    "\n",
    "for item in response.json()['items'][:5]:\n",
    "    print(item['name'])"
   ]
  },
  {
   "cell_type": "code",
   "execution_count": 60,
   "id": "899db211-ea02-4c30-bba0-f6cacdbb3a48",
   "metadata": {},
   "outputs": [],
   "source": [
    "#API실습 \n",
    "\n",
    "import requests\n",
    "\n",
    "client_id = \"JmbGxn4MjwRo3fFCtgbU\"\n",
    "client_secret = \"R772qo1Apc\"\n",
    "url = \"https://openapi.naver.com/v1/search/movie.json\"\n",
    "params = {'query': '해리포터'}\n",
    "headers = {\"X-Naver-Client-Id\": client_id, \"X-Naver-Client-Secret\": client_secret}\n",
    "response = requests.get(url, params=params, headers=headers)"
   ]
  },
  {
   "cell_type": "code",
   "execution_count": 61,
   "id": "cf8d8769-d1ce-4c8b-9c3c-e2e35e915243",
   "metadata": {},
   "outputs": [
    {
     "data": {
      "text/plain": [
       "200"
      ]
     },
     "execution_count": 61,
     "metadata": {},
     "output_type": "execute_result"
    }
   ],
   "source": [
    "response.status_code"
   ]
  },
  {
   "cell_type": "code",
   "execution_count": 3,
   "id": "6e9d4fa5-0cf1-440e-b67e-2d9e45cec4ff",
   "metadata": {},
   "outputs": [
    {
     "data": {
      "text/plain": [
       "{'Server': 'nginx', 'Date': 'Tue, 28 Feb 2023 15:41:07 GMT', 'Content-Type': 'application/json; charset=UTF-8', 'Content-Length': '1292', 'Connection': 'keep-alive', 'Keep-Alive': 'timeout=5', 'apigw-uuid': 'a20af739-8757-4bd6-90a5-bf452b88ed6f', 'x-rate-limit': '10', 'x-rate-limit-remaining': '9', 'x-rate-limit-reset': '1677598868000', 'X-Powered-By': 'Naver', 'Vary': 'Accept-Encoding', 'Content-Encoding': 'gzip'}"
      ]
     },
     "execution_count": 3,
     "metadata": {},
     "output_type": "execute_result"
    }
   ],
   "source": [
    "response.headers"
   ]
  },
  {
   "cell_type": "code",
   "execution_count": 4,
   "id": "a4ee217e-1021-452e-ba95-a1fa8335be5a",
   "metadata": {},
   "outputs": [
    {
     "data": {
      "text/plain": [
       "'{\\n\\t\"lastBuildDate\":\"Wed, 01 Mar 2023 00:41:07 +0900\",\\n\\t\"total\":11,\\n\\t\"start\":1,\\n\\t\"display\":10,\\n\\t\"items\":[\\n\\t\\t{\\n\\t\\t\\t\"title\":\"<b>해리포터<\\\\/b> 20주년 기념: 리턴 투 호그와트\",\\n\\t\\t\\t\"link\":\"https:\\\\/\\\\/movie.naver.com\\\\/movie\\\\/bi\\\\/mi\\\\/basic.nhn?code=218946\",\\n\\t\\t\\t\"image\":\"https:\\\\/\\\\/ssl.pstatic.net\\\\/imgmovie\\\\/mdi\\\\/mit110\\\\/2189\\\\/218946_P01_175857.png\",\\n\\t\\t\\t\"subtitle\":\"Harry Potter 20th Anniversary: Return to Hogwarts\",\\n\\t\\t\\t\"pubDate\":\"2022\",\\n\\t\\t\\t\"director\":\"조 펄맨|에란 크리비|케이시 패터슨|\",\\n\\t\\t\\t\"actor\":\"다니엘 래드클리프|루퍼트 그린트|엠마 왓슨|헬레나 본햄 카터|로비 콜트레인|랄프 파인즈|제이슨 아이삭스|게리 올드만|톰 펠튼|제임스 펠프스|올리버 펠프스|마크 윌리암스|보니 라이트|앨프리드 이넉|매튜 루이스|이반나 린치|\",\\n\\t\\t\\t\"userRating\":\"0.00\"\\n\\t\\t},\\n\\t\\t{\\n\\t\\t\\t\"title\":\"<b>해리포터<\\\\/b>와 잉크 마법사의 여행\",\\n\\t\\t\\t\"link\":\"https:\\\\/\\\\/movie.naver.com\\\\/movie\\\\/bi\\\\/mi\\\\/basic.nhn?code=203098\",\\n\\t\\t\\t\"image\":\"https:\\\\/\\\\/ssl.pstatic.net\\\\/imgmovie\\\\/mdi\\\\/mit110\\\\/2030\\\\/203098_P01_154544.jpg\",\\n\\t\\t\\t\"subtitle\":\"Literary Ink\",\\n\\t\\t\\t\"pubDate\":\"2020\",\\n\\t\\t\\t\"director\":\"액설 아르졸라|\",\\n\\t\\t\\t\"actor\":\"\",\\n\\t\\t\\t\"userRating\":\"0.00\"\\n\\t\\t},\\n\\t\\t{\\n\\t\\t\\t\"title\":\"<b>해리 포터<\\\\/b>와 죽음의 성물 - 2부\",\\n\\t\\t\\t\"link\":\"https:\\\\/\\\\/movie.naver.com\\\\/movie\\\\/bi\\\\/mi\\\\/basic.nhn?code=47528\",\\n\\t\\t\\t\"image\":\"https:\\\\/\\\\/ssl.pstatic.net\\\\/imgmovie\\\\/mdi\\\\/mit110\\\\/0475\\\\/47528_P50_144916.jpg\",\\n\\t\\t\\t\"subtitle\":\"Harry Potter And The Deathly Hallows: Part 2\",\\n\\t\\t\\t\"pubDate\":\"2011\",\\n\\t\\t\\t\"director\":\"데이빗 예이츠|\",\\n\\t\\t\\t\"actor\":\"다니엘 래드클리프|엠마 왓슨|루퍼트 그린트|\",\\n\\t\\t\\t\"userRating\":\"9.33\"\\n\\t\\t},\\n\\t\\t{\\n\\t\\t\\t\"title\":\"<b>해리 포터<\\\\/b>와 죽음의 성물 - 1부\",\\n\\t\\t\\t\"link\":\"https:\\\\/\\\\/movie.naver.com\\\\/movie\\\\/bi\\\\/mi\\\\/basic.nhn?code=67901\",\\n\\t\\t\\t\"image\":\"https:\\\\/\\\\/ssl.pstatic.net\\\\/imgmovie\\\\/mdi\\\\/mit110\\\\/0679\\\\/67901_P52_160214.jpg\",\\n\\t\\t\\t\"subtitle\":\"Harry Potter And The Deathly Hallows: Part 1\",\\n\\t\\t\\t\"pubDate\":\"2010\",\\n\\t\\t\\t\"director\":\"데이빗 예이츠|\",\\n\\t\\t\\t\"actor\":\"다니엘 래드클리프|엠마 왓슨|루퍼트 그린트|\",\\n\\t\\t\\t\"userRating\":\"8.21\"\\n\\t\\t},\\n\\t\\t{\\n\\t\\t\\t\"title\":\"<b>해리 포터<\\\\/b>와 혼혈 왕자\",\\n\\t\\t\\t\"link\":\"https:\\\\/\\\\/movie.naver.com\\\\/movie\\\\/bi\\\\/mi\\\\/basic.nhn?code=67900\",\\n\\t\\t\\t\"image\":\"https:\\\\/\\\\/ssl.pstatic.net\\\\/imgmovie\\\\/mdi\\\\/mit110\\\\/0679\\\\/67900_P01_130458.jpg\",\\n\\t\\t\\t\"subtitle\":\"Harry Potter And The Half-Blood Prince\",\\n\\t\\t\\t\"pubDate\":\"2009\",\\n\\t\\t\\t\"director\":\"데이빗 예이츠|\",\\n\\t\\t\\t\"actor\":\"다니엘 래드클리프|엠마 왓슨|루퍼트 그린트|\",\\n\\t\\t\\t\"userRating\":\"6.98\"\\n\\t\\t},\\n\\t\\t{\\n\\t\\t\\t\"title\":\"<b>해리 포터<\\\\/b>와 불사조 기사단\",\\n\\t\\t\\t\"link\":\"https:\\\\/\\\\/movie.naver.com\\\\/movie\\\\/bi\\\\/mi\\\\/basic.nhn?code=57095\",\\n\\t\\t\\t\"image\":\"https:\\\\/\\\\/ssl.pstatic.net\\\\/imgmovie\\\\/mdi\\\\/mit110\\\\/0570\\\\/E7095-00.jpg\",\\n\\t\\t\\t\"subtitle\":\"Harry Potter And The Order Of The Phoenix\",\\n\\t\\t\\t\"pubDate\":\"2007\",\\n\\t\\t\\t\"director\":\"데이빗 예이츠|\",\\n\\t\\t\\t\"actor\":\"다니엘 래드클리프|엠마 왓슨|루퍼트 그린트|\",\\n\\t\\t\\t\"userRating\":\"7.05\"\\n\\t\\t},\\n\\t\\t{\\n\\t\\t\\t\"title\":\"<b>해리 포터<\\\\/b>와 불의 잔\",\\n\\t\\t\\t\"link\":\"https:\\\\/\\\\/movie.naver.com\\\\/movie\\\\/bi\\\\/mi\\\\/basic.nhn?code=37883\",\\n\\t\\t\\t\"image\":\"https:\\\\/\\\\/ssl.pstatic.net\\\\/imgmovie\\\\/mdi\\\\/mit110\\\\/0378\\\\/37883_P158_182652.jpg\",\\n\\t\\t\\t\"subtitle\":\"Harry Potter And The Goblet Of Fire\",\\n\\t\\t\\t\"pubDate\":\"2005\",\\n\\t\\t\\t\"director\":\"마이크 뉴웰|\",\\n\\t\\t\\t\"actor\":\"다니엘 래드클리프|엠마 왓슨|루퍼트 그린트|\",\\n\\t\\t\\t\"userRating\":\"8.04\"\\n\\t\\t},\\n\\t\\t{\\n\\t\\t\\t\"title\":\"<b>해리 포터<\\\\/b>와 아즈카반의 죄수\",\\n\\t\\t\\t\"link\":\"https:\\\\/\\\\/movie.naver.com\\\\/movie\\\\/bi\\\\/mi\\\\/basic.nhn?code=35546\",\\n\\t\\t\\t\"image\":\"https:\\\\/\\\\/ssl.pstatic.net\\\\/imgmovie\\\\/mdi\\\\/mit110\\\\/0355\\\\/35546_P88_142722.jpg\",\\n\\t\\t\\t\"subtitle\":\"Harry Potter And The Prisoner Of Azkaban\",\\n\\t\\t\\t\"pubDate\":\"2004\",\\n\\t\\t\\t\"director\":\"알폰소 쿠아론|\",\\n\\t\\t\\t\"actor\":\"다니엘 래드클리프|엠마 왓슨|루퍼트 그린트|\",\\n\\t\\t\\t\"userRating\":\"8.75\"\\n\\t\\t},\\n\\t\\t{\\n\\t\\t\\t\"title\":\"<b>해리 포터<\\\\/b>와 비밀의 방\",\\n\\t\\t\\t\"link\":\"https:\\\\/\\\\/movie.naver.com\\\\/movie\\\\/bi\\\\/mi\\\\/basic.nhn?code=33930\",\\n\\t\\t\\t\"image\":\"https:\\\\/\\\\/ssl.pstatic.net\\\\/imgmovie\\\\/mdi\\\\/mit110\\\\/0339\\\\/C3930-06.jpg\",\\n\\t\\t\\t\"subtitle\":\"Harry Potter And The Chamber Of Secrets\",\\n\\t\\t\\t\"pubDate\":\"2002\",\\n\\t\\t\\t\"director\":\"크리스 콜럼버스|\",\\n\\t\\t\\t\"actor\":\"다니엘 래드클리프|루퍼트 그린트|엠마 왓슨|\",\\n\\t\\t\\t\"userRating\":\"8.89\"\\n\\t\\t},\\n\\t\\t{\\n\\t\\t\\t\"title\":\"<b>해리 포터<\\\\/b>와 마법사의 돌\",\\n\\t\\t\\t\"link\":\"https:\\\\/\\\\/movie.naver.com\\\\/movie\\\\/bi\\\\/mi\\\\/basic.nhn?code=30688\",\\n\\t\\t\\t\"image\":\"https:\\\\/\\\\/ssl.pstatic.net\\\\/imgmovie\\\\/mdi\\\\/mit110\\\\/0306\\\\/30688_P28_142632.jpg\",\\n\\t\\t\\t\"subtitle\":\"Harry Potter And The Sorcerer&apos;s Stone\",\\n\\t\\t\\t\"pubDate\":\"2001\",\\n\\t\\t\\t\"director\":\"크리스 콜럼버스|\",\\n\\t\\t\\t\"actor\":\"다니엘 래드클리프|루퍼트 그린트|엠마 왓슨|\",\\n\\t\\t\\t\"userRating\":\"9.37\"\\n\\t\\t}\\n\\t]\\n}'"
      ]
     },
     "execution_count": 4,
     "metadata": {},
     "output_type": "execute_result"
    }
   ],
   "source": [
    "response.text"
   ]
  },
  {
   "cell_type": "code",
   "execution_count": 5,
   "id": "1ab7349f-7aee-4b61-8a37-d12240ce7ef7",
   "metadata": {},
   "outputs": [],
   "source": [
    "import json"
   ]
  },
  {
   "cell_type": "code",
   "execution_count": 6,
   "id": "9227d326-2176-4950-b70a-7e42a2c80a98",
   "metadata": {},
   "outputs": [],
   "source": [
    "result_dict = json.loads(response.text)"
   ]
  },
  {
   "cell_type": "code",
   "execution_count": 7,
   "id": "2f11f26b-b8db-4a69-b7be-d810dbd46f5c",
   "metadata": {},
   "outputs": [
    {
     "data": {
      "text/plain": [
       "[{'title': '<b>해리포터</b> 20주년 기념: 리턴 투 호그와트',\n",
       "  'link': 'https://movie.naver.com/movie/bi/mi/basic.nhn?code=218946',\n",
       "  'image': 'https://ssl.pstatic.net/imgmovie/mdi/mit110/2189/218946_P01_175857.png',\n",
       "  'subtitle': 'Harry Potter 20th Anniversary: Return to Hogwarts',\n",
       "  'pubDate': '2022',\n",
       "  'director': '조 펄맨|에란 크리비|케이시 패터슨|',\n",
       "  'actor': '다니엘 래드클리프|루퍼트 그린트|엠마 왓슨|헬레나 본햄 카터|로비 콜트레인|랄프 파인즈|제이슨 아이삭스|게리 올드만|톰 펠튼|제임스 펠프스|올리버 펠프스|마크 윌리암스|보니 라이트|앨프리드 이넉|매튜 루이스|이반나 린치|',\n",
       "  'userRating': '0.00'},\n",
       " {'title': '<b>해리포터</b>와 잉크 마법사의 여행',\n",
       "  'link': 'https://movie.naver.com/movie/bi/mi/basic.nhn?code=203098',\n",
       "  'image': 'https://ssl.pstatic.net/imgmovie/mdi/mit110/2030/203098_P01_154544.jpg',\n",
       "  'subtitle': 'Literary Ink',\n",
       "  'pubDate': '2020',\n",
       "  'director': '액설 아르졸라|',\n",
       "  'actor': '',\n",
       "  'userRating': '0.00'},\n",
       " {'title': '<b>해리 포터</b>와 죽음의 성물 - 2부',\n",
       "  'link': 'https://movie.naver.com/movie/bi/mi/basic.nhn?code=47528',\n",
       "  'image': 'https://ssl.pstatic.net/imgmovie/mdi/mit110/0475/47528_P50_144916.jpg',\n",
       "  'subtitle': 'Harry Potter And The Deathly Hallows: Part 2',\n",
       "  'pubDate': '2011',\n",
       "  'director': '데이빗 예이츠|',\n",
       "  'actor': '다니엘 래드클리프|엠마 왓슨|루퍼트 그린트|',\n",
       "  'userRating': '9.33'},\n",
       " {'title': '<b>해리 포터</b>와 죽음의 성물 - 1부',\n",
       "  'link': 'https://movie.naver.com/movie/bi/mi/basic.nhn?code=67901',\n",
       "  'image': 'https://ssl.pstatic.net/imgmovie/mdi/mit110/0679/67901_P52_160214.jpg',\n",
       "  'subtitle': 'Harry Potter And The Deathly Hallows: Part 1',\n",
       "  'pubDate': '2010',\n",
       "  'director': '데이빗 예이츠|',\n",
       "  'actor': '다니엘 래드클리프|엠마 왓슨|루퍼트 그린트|',\n",
       "  'userRating': '8.21'},\n",
       " {'title': '<b>해리 포터</b>와 혼혈 왕자',\n",
       "  'link': 'https://movie.naver.com/movie/bi/mi/basic.nhn?code=67900',\n",
       "  'image': 'https://ssl.pstatic.net/imgmovie/mdi/mit110/0679/67900_P01_130458.jpg',\n",
       "  'subtitle': 'Harry Potter And The Half-Blood Prince',\n",
       "  'pubDate': '2009',\n",
       "  'director': '데이빗 예이츠|',\n",
       "  'actor': '다니엘 래드클리프|엠마 왓슨|루퍼트 그린트|',\n",
       "  'userRating': '6.98'},\n",
       " {'title': '<b>해리 포터</b>와 불사조 기사단',\n",
       "  'link': 'https://movie.naver.com/movie/bi/mi/basic.nhn?code=57095',\n",
       "  'image': 'https://ssl.pstatic.net/imgmovie/mdi/mit110/0570/E7095-00.jpg',\n",
       "  'subtitle': 'Harry Potter And The Order Of The Phoenix',\n",
       "  'pubDate': '2007',\n",
       "  'director': '데이빗 예이츠|',\n",
       "  'actor': '다니엘 래드클리프|엠마 왓슨|루퍼트 그린트|',\n",
       "  'userRating': '7.05'},\n",
       " {'title': '<b>해리 포터</b>와 불의 잔',\n",
       "  'link': 'https://movie.naver.com/movie/bi/mi/basic.nhn?code=37883',\n",
       "  'image': 'https://ssl.pstatic.net/imgmovie/mdi/mit110/0378/37883_P158_182652.jpg',\n",
       "  'subtitle': 'Harry Potter And The Goblet Of Fire',\n",
       "  'pubDate': '2005',\n",
       "  'director': '마이크 뉴웰|',\n",
       "  'actor': '다니엘 래드클리프|엠마 왓슨|루퍼트 그린트|',\n",
       "  'userRating': '8.04'},\n",
       " {'title': '<b>해리 포터</b>와 아즈카반의 죄수',\n",
       "  'link': 'https://movie.naver.com/movie/bi/mi/basic.nhn?code=35546',\n",
       "  'image': 'https://ssl.pstatic.net/imgmovie/mdi/mit110/0355/35546_P88_142722.jpg',\n",
       "  'subtitle': 'Harry Potter And The Prisoner Of Azkaban',\n",
       "  'pubDate': '2004',\n",
       "  'director': '알폰소 쿠아론|',\n",
       "  'actor': '다니엘 래드클리프|엠마 왓슨|루퍼트 그린트|',\n",
       "  'userRating': '8.75'},\n",
       " {'title': '<b>해리 포터</b>와 비밀의 방',\n",
       "  'link': 'https://movie.naver.com/movie/bi/mi/basic.nhn?code=33930',\n",
       "  'image': 'https://ssl.pstatic.net/imgmovie/mdi/mit110/0339/C3930-06.jpg',\n",
       "  'subtitle': 'Harry Potter And The Chamber Of Secrets',\n",
       "  'pubDate': '2002',\n",
       "  'director': '크리스 콜럼버스|',\n",
       "  'actor': '다니엘 래드클리프|루퍼트 그린트|엠마 왓슨|',\n",
       "  'userRating': '8.89'},\n",
       " {'title': '<b>해리 포터</b>와 마법사의 돌',\n",
       "  'link': 'https://movie.naver.com/movie/bi/mi/basic.nhn?code=30688',\n",
       "  'image': 'https://ssl.pstatic.net/imgmovie/mdi/mit110/0306/30688_P28_142632.jpg',\n",
       "  'subtitle': 'Harry Potter And The Sorcerer&apos;s Stone',\n",
       "  'pubDate': '2001',\n",
       "  'director': '크리스 콜럼버스|',\n",
       "  'actor': '다니엘 래드클리프|루퍼트 그린트|엠마 왓슨|',\n",
       "  'userRating': '9.37'}]"
      ]
     },
     "execution_count": 7,
     "metadata": {},
     "output_type": "execute_result"
    }
   ],
   "source": [
    "result_dict['items']"
   ]
  },
  {
   "cell_type": "code",
   "execution_count": 8,
   "id": "0f9f900d-3a24-4888-9767-4ff78a1e0855",
   "metadata": {},
   "outputs": [
    {
     "data": {
      "text/html": [
       "<div>\n",
       "<style scoped>\n",
       "    .dataframe tbody tr th:only-of-type {\n",
       "        vertical-align: middle;\n",
       "    }\n",
       "\n",
       "    .dataframe tbody tr th {\n",
       "        vertical-align: top;\n",
       "    }\n",
       "\n",
       "    .dataframe thead th {\n",
       "        text-align: right;\n",
       "    }\n",
       "</style>\n",
       "<table border=\"1\" class=\"dataframe\">\n",
       "  <thead>\n",
       "    <tr style=\"text-align: right;\">\n",
       "      <th></th>\n",
       "      <th>title</th>\n",
       "      <th>subtitle</th>\n",
       "      <th>pubDate</th>\n",
       "    </tr>\n",
       "  </thead>\n",
       "  <tbody>\n",
       "    <tr>\n",
       "      <th>0</th>\n",
       "      <td>&lt;b&gt;해리포터&lt;/b&gt; 20주년 기념: 리턴 투 호그와트</td>\n",
       "      <td>Harry Potter 20th Anniversary: Return to Hogwarts</td>\n",
       "      <td>2022</td>\n",
       "    </tr>\n",
       "    <tr>\n",
       "      <th>1</th>\n",
       "      <td>&lt;b&gt;해리포터&lt;/b&gt;와 잉크 마법사의 여행</td>\n",
       "      <td>Literary Ink</td>\n",
       "      <td>2020</td>\n",
       "    </tr>\n",
       "    <tr>\n",
       "      <th>2</th>\n",
       "      <td>&lt;b&gt;해리 포터&lt;/b&gt;와 죽음의 성물 - 2부</td>\n",
       "      <td>Harry Potter And The Deathly Hallows: Part 2</td>\n",
       "      <td>2011</td>\n",
       "    </tr>\n",
       "    <tr>\n",
       "      <th>3</th>\n",
       "      <td>&lt;b&gt;해리 포터&lt;/b&gt;와 죽음의 성물 - 1부</td>\n",
       "      <td>Harry Potter And The Deathly Hallows: Part 1</td>\n",
       "      <td>2010</td>\n",
       "    </tr>\n",
       "    <tr>\n",
       "      <th>4</th>\n",
       "      <td>&lt;b&gt;해리 포터&lt;/b&gt;와 혼혈 왕자</td>\n",
       "      <td>Harry Potter And The Half-Blood Prince</td>\n",
       "      <td>2009</td>\n",
       "    </tr>\n",
       "    <tr>\n",
       "      <th>5</th>\n",
       "      <td>&lt;b&gt;해리 포터&lt;/b&gt;와 불사조 기사단</td>\n",
       "      <td>Harry Potter And The Order Of The Phoenix</td>\n",
       "      <td>2007</td>\n",
       "    </tr>\n",
       "    <tr>\n",
       "      <th>6</th>\n",
       "      <td>&lt;b&gt;해리 포터&lt;/b&gt;와 불의 잔</td>\n",
       "      <td>Harry Potter And The Goblet Of Fire</td>\n",
       "      <td>2005</td>\n",
       "    </tr>\n",
       "    <tr>\n",
       "      <th>7</th>\n",
       "      <td>&lt;b&gt;해리 포터&lt;/b&gt;와 아즈카반의 죄수</td>\n",
       "      <td>Harry Potter And The Prisoner Of Azkaban</td>\n",
       "      <td>2004</td>\n",
       "    </tr>\n",
       "    <tr>\n",
       "      <th>8</th>\n",
       "      <td>&lt;b&gt;해리 포터&lt;/b&gt;와 비밀의 방</td>\n",
       "      <td>Harry Potter And The Chamber Of Secrets</td>\n",
       "      <td>2002</td>\n",
       "    </tr>\n",
       "    <tr>\n",
       "      <th>9</th>\n",
       "      <td>&lt;b&gt;해리 포터&lt;/b&gt;와 마법사의 돌</td>\n",
       "      <td>Harry Potter And The Sorcerer&amp;apos;s Stone</td>\n",
       "      <td>2001</td>\n",
       "    </tr>\n",
       "  </tbody>\n",
       "</table>\n",
       "</div>"
      ],
      "text/plain": [
       "                            title  \\\n",
       "0  <b>해리포터</b> 20주년 기념: 리턴 투 호그와트   \n",
       "1         <b>해리포터</b>와 잉크 마법사의 여행   \n",
       "2       <b>해리 포터</b>와 죽음의 성물 - 2부   \n",
       "3       <b>해리 포터</b>와 죽음의 성물 - 1부   \n",
       "4             <b>해리 포터</b>와 혼혈 왕자   \n",
       "5           <b>해리 포터</b>와 불사조 기사단   \n",
       "6              <b>해리 포터</b>와 불의 잔   \n",
       "7          <b>해리 포터</b>와 아즈카반의 죄수   \n",
       "8             <b>해리 포터</b>와 비밀의 방   \n",
       "9            <b>해리 포터</b>와 마법사의 돌   \n",
       "\n",
       "                                            subtitle pubDate  \n",
       "0  Harry Potter 20th Anniversary: Return to Hogwarts    2022  \n",
       "1                                       Literary Ink    2020  \n",
       "2       Harry Potter And The Deathly Hallows: Part 2    2011  \n",
       "3       Harry Potter And The Deathly Hallows: Part 1    2010  \n",
       "4             Harry Potter And The Half-Blood Prince    2009  \n",
       "5          Harry Potter And The Order Of The Phoenix    2007  \n",
       "6                Harry Potter And The Goblet Of Fire    2005  \n",
       "7           Harry Potter And The Prisoner Of Azkaban    2004  \n",
       "8            Harry Potter And The Chamber Of Secrets    2002  \n",
       "9         Harry Potter And The Sorcerer&apos;s Stone    2001  "
      ]
     },
     "execution_count": 8,
     "metadata": {},
     "output_type": "execute_result"
    }
   ],
   "source": [
    "import pandas as pd\n",
    "pd.DataFrame(result_dict['items'])[['title', 'subtitle', 'pubDate']]"
   ]
  },
  {
   "cell_type": "code",
   "execution_count": 9,
   "id": "df8d17d2-a17d-4c0e-bf1d-5ed4f421d456",
   "metadata": {},
   "outputs": [
    {
     "name": "stdout",
     "output_type": "stream",
     "text": [
      "{\n",
      "\t\"lastBuildDate\":\"Wed, 01 Mar 2023 00:42:20 +0900\",\n",
      "\t\"total\":11,\n",
      "\t\"start\":1,\n",
      "\t\"display\":10,\n",
      "\t\"items\":[\n",
      "\t\t{\n",
      "\t\t\t\"title\":\"<b>해리포터<\\/b> 20주년 기념: 리턴 투 호그와트\",\n",
      "\t\t\t\"link\":\"https:\\/\\/movie.naver.com\\/movie\\/bi\\/mi\\/basic.nhn?code=218946\",\n",
      "\t\t\t\"image\":\"https:\\/\\/ssl.pstatic.net\\/imgmovie\\/mdi\\/mit110\\/2189\\/218946_P01_175857.png\",\n",
      "\t\t\t\"subtitle\":\"Harry Potter 20th Anniversary: Return to Hogwarts\",\n",
      "\t\t\t\"pubDate\":\"2022\",\n",
      "\t\t\t\"director\":\"조 펄맨|에란 크리비|케이시 패터슨|\",\n",
      "\t\t\t\"actor\":\"다니엘 래드클리프|루퍼트 그린트|엠마 왓슨|헬레나 본햄 카터|로비 콜트레인|랄프 파인즈|제이슨 아이삭스|게리 올드만|톰 펠튼|제임스 펠프스|올리버 펠프스|마크 윌리암스|보니 라이트|앨프리드 이넉|매튜 루이스|이반나 린치|\",\n",
      "\t\t\t\"userRating\":\"0.00\"\n",
      "\t\t},\n",
      "\t\t{\n",
      "\t\t\t\"title\":\"<b>해리포터<\\/b>와 잉크 마법사의 여행\",\n",
      "\t\t\t\"link\":\"https:\\/\\/movie.naver.com\\/movie\\/bi\\/mi\\/basic.nhn?code=203098\",\n",
      "\t\t\t\"image\":\"https:\\/\\/ssl.pstatic.net\\/imgmovie\\/mdi\\/mit110\\/2030\\/203098_P01_154544.jpg\",\n",
      "\t\t\t\"subtitle\":\"Literary Ink\",\n",
      "\t\t\t\"pubDate\":\"2020\",\n",
      "\t\t\t\"director\":\"액설 아르졸라|\",\n",
      "\t\t\t\"actor\":\"\",\n",
      "\t\t\t\"userRating\":\"0.00\"\n",
      "\t\t},\n",
      "\t\t{\n",
      "\t\t\t\"title\":\"<b>해리 포터<\\/b>와 죽음의 성물 - 2부\",\n",
      "\t\t\t\"link\":\"https:\\/\\/movie.naver.com\\/movie\\/bi\\/mi\\/basic.nhn?code=47528\",\n",
      "\t\t\t\"image\":\"https:\\/\\/ssl.pstatic.net\\/imgmovie\\/mdi\\/mit110\\/0475\\/47528_P50_144916.jpg\",\n",
      "\t\t\t\"subtitle\":\"Harry Potter And The Deathly Hallows: Part 2\",\n",
      "\t\t\t\"pubDate\":\"2011\",\n",
      "\t\t\t\"director\":\"데이빗 예이츠|\",\n",
      "\t\t\t\"actor\":\"다니엘 래드클리프|엠마 왓슨|루퍼트 그린트|\",\n",
      "\t\t\t\"userRating\":\"9.33\"\n",
      "\t\t},\n",
      "\t\t{\n",
      "\t\t\t\"title\":\"<b>해리 포터<\\/b>와 죽음의 성물 - 1부\",\n",
      "\t\t\t\"link\":\"https:\\/\\/movie.naver.com\\/movie\\/bi\\/mi\\/basic.nhn?code=67901\",\n",
      "\t\t\t\"image\":\"https:\\/\\/ssl.pstatic.net\\/imgmovie\\/mdi\\/mit110\\/0679\\/67901_P52_160214.jpg\",\n",
      "\t\t\t\"subtitle\":\"Harry Potter And The Deathly Hallows: Part 1\",\n",
      "\t\t\t\"pubDate\":\"2010\",\n",
      "\t\t\t\"director\":\"데이빗 예이츠|\",\n",
      "\t\t\t\"actor\":\"다니엘 래드클리프|엠마 왓슨|루퍼트 그린트|\",\n",
      "\t\t\t\"userRating\":\"8.21\"\n",
      "\t\t},\n",
      "\t\t{\n",
      "\t\t\t\"title\":\"<b>해리 포터<\\/b>와 혼혈 왕자\",\n",
      "\t\t\t\"link\":\"https:\\/\\/movie.naver.com\\/movie\\/bi\\/mi\\/basic.nhn?code=67900\",\n",
      "\t\t\t\"image\":\"https:\\/\\/ssl.pstatic.net\\/imgmovie\\/mdi\\/mit110\\/0679\\/67900_P01_130458.jpg\",\n",
      "\t\t\t\"subtitle\":\"Harry Potter And The Half-Blood Prince\",\n",
      "\t\t\t\"pubDate\":\"2009\",\n",
      "\t\t\t\"director\":\"데이빗 예이츠|\",\n",
      "\t\t\t\"actor\":\"다니엘 래드클리프|엠마 왓슨|루퍼트 그린트|\",\n",
      "\t\t\t\"userRating\":\"6.98\"\n",
      "\t\t},\n",
      "\t\t{\n",
      "\t\t\t\"title\":\"<b>해리 포터<\\/b>와 불사조 기사단\",\n",
      "\t\t\t\"link\":\"https:\\/\\/movie.naver.com\\/movie\\/bi\\/mi\\/basic.nhn?code=57095\",\n",
      "\t\t\t\"image\":\"https:\\/\\/ssl.pstatic.net\\/imgmovie\\/mdi\\/mit110\\/0570\\/E7095-00.jpg\",\n",
      "\t\t\t\"subtitle\":\"Harry Potter And The Order Of The Phoenix\",\n",
      "\t\t\t\"pubDate\":\"2007\",\n",
      "\t\t\t\"director\":\"데이빗 예이츠|\",\n",
      "\t\t\t\"actor\":\"다니엘 래드클리프|엠마 왓슨|루퍼트 그린트|\",\n",
      "\t\t\t\"userRating\":\"7.05\"\n",
      "\t\t},\n",
      "\t\t{\n",
      "\t\t\t\"title\":\"<b>해리 포터<\\/b>와 불의 잔\",\n",
      "\t\t\t\"link\":\"https:\\/\\/movie.naver.com\\/movie\\/bi\\/mi\\/basic.nhn?code=37883\",\n",
      "\t\t\t\"image\":\"https:\\/\\/ssl.pstatic.net\\/imgmovie\\/mdi\\/mit110\\/0378\\/37883_P158_182652.jpg\",\n",
      "\t\t\t\"subtitle\":\"Harry Potter And The Goblet Of Fire\",\n",
      "\t\t\t\"pubDate\":\"2005\",\n",
      "\t\t\t\"director\":\"마이크 뉴웰|\",\n",
      "\t\t\t\"actor\":\"다니엘 래드클리프|엠마 왓슨|루퍼트 그린트|\",\n",
      "\t\t\t\"userRating\":\"8.04\"\n",
      "\t\t},\n",
      "\t\t{\n",
      "\t\t\t\"title\":\"<b>해리 포터<\\/b>와 아즈카반의 죄수\",\n",
      "\t\t\t\"link\":\"https:\\/\\/movie.naver.com\\/movie\\/bi\\/mi\\/basic.nhn?code=35546\",\n",
      "\t\t\t\"image\":\"https:\\/\\/ssl.pstatic.net\\/imgmovie\\/mdi\\/mit110\\/0355\\/35546_P88_142722.jpg\",\n",
      "\t\t\t\"subtitle\":\"Harry Potter And The Prisoner Of Azkaban\",\n",
      "\t\t\t\"pubDate\":\"2004\",\n",
      "\t\t\t\"director\":\"알폰소 쿠아론|\",\n",
      "\t\t\t\"actor\":\"다니엘 래드클리프|엠마 왓슨|루퍼트 그린트|\",\n",
      "\t\t\t\"userRating\":\"8.75\"\n",
      "\t\t},\n",
      "\t\t{\n",
      "\t\t\t\"title\":\"<b>해리 포터<\\/b>와 비밀의 방\",\n",
      "\t\t\t\"link\":\"https:\\/\\/movie.naver.com\\/movie\\/bi\\/mi\\/basic.nhn?code=33930\",\n",
      "\t\t\t\"image\":\"https:\\/\\/ssl.pstatic.net\\/imgmovie\\/mdi\\/mit110\\/0339\\/C3930-06.jpg\",\n",
      "\t\t\t\"subtitle\":\"Harry Potter And The Chamber Of Secrets\",\n",
      "\t\t\t\"pubDate\":\"2002\",\n",
      "\t\t\t\"director\":\"크리스 콜럼버스|\",\n",
      "\t\t\t\"actor\":\"다니엘 래드클리프|루퍼트 그린트|엠마 왓슨|\",\n",
      "\t\t\t\"userRating\":\"8.89\"\n",
      "\t\t},\n",
      "\t\t{\n",
      "\t\t\t\"title\":\"<b>해리 포터<\\/b>와 마법사의 돌\",\n",
      "\t\t\t\"link\":\"https:\\/\\/movie.naver.com\\/movie\\/bi\\/mi\\/basic.nhn?code=30688\",\n",
      "\t\t\t\"image\":\"https:\\/\\/ssl.pstatic.net\\/imgmovie\\/mdi\\/mit110\\/0306\\/30688_P28_142632.jpg\",\n",
      "\t\t\t\"subtitle\":\"Harry Potter And The Sorcerer&apos;s Stone\",\n",
      "\t\t\t\"pubDate\":\"2001\",\n",
      "\t\t\t\"director\":\"크리스 콜럼버스|\",\n",
      "\t\t\t\"actor\":\"다니엘 래드클리프|루퍼트 그린트|엠마 왓슨|\",\n",
      "\t\t\t\"userRating\":\"9.37\"\n",
      "\t\t}\n",
      "\t]\n",
      "}\n"
     ]
    }
   ],
   "source": [
    "import os\n",
    "import sys\n",
    "import urllib.request\n",
    "client_id = \"JmbGxn4MjwRo3fFCtgbU\"\n",
    "client_secret = \"R772qo1Apc\"\n",
    "encText = urllib.parse.quote(\"해리포터\")\n",
    "url = \"https://openapi.naver.com/v1/search/movie.json?query=\" + encText # JSON 결과\n",
    "# url = \"https://openapi.naver.com/v1/search/blog.xml?query=\" + encText # XML 결과\n",
    "\n",
    "request = urllib.request.Request(url)\n",
    "request.add_header(\"X-Naver-Client-Id\",client_id)\n",
    "request.add_header(\"X-Naver-Client-Secret\",client_secret)\n",
    "response = urllib.request.urlopen(request)\n",
    "rescode = response.getcode()\n",
    "if(rescode==200):\n",
    "    response_body = response.read()\n",
    "    print(response_body.decode('utf-8'))\n",
    "else:\n",
    "    print(\"Error Code:\" + rescode)\n"
   ]
  },
  {
   "cell_type": "code",
   "execution_count": 10,
   "id": "30878d6d-7bd9-4dbe-827a-4e238f009f91",
   "metadata": {},
   "outputs": [],
   "source": [
    "import json\n",
    "result_dict = json.loads(response_body.decode(\"utf-8\"))"
   ]
  },
  {
   "cell_type": "code",
   "execution_count": 11,
   "id": "fa6b877a-eaaf-432f-b9c1-5db6fad0a4df",
   "metadata": {},
   "outputs": [
    {
     "data": {
      "text/plain": [
       "['<b>해리포터</b> 20주년 기념: 리턴 투 호그와트',\n",
       " '<b>해리포터</b>와 잉크 마법사의 여행',\n",
       " '<b>해리 포터</b>와 죽음의 성물 - 2부',\n",
       " '<b>해리 포터</b>와 죽음의 성물 - 1부',\n",
       " '<b>해리 포터</b>와 혼혈 왕자',\n",
       " '<b>해리 포터</b>와 불사조 기사단',\n",
       " '<b>해리 포터</b>와 불의 잔',\n",
       " '<b>해리 포터</b>와 아즈카반의 죄수',\n",
       " '<b>해리 포터</b>와 비밀의 방',\n",
       " '<b>해리 포터</b>와 마법사의 돌']"
      ]
     },
     "execution_count": 11,
     "metadata": {},
     "output_type": "execute_result"
    }
   ],
   "source": [
    "[item['title'] for item in result_dict['items']]"
   ]
  },
  {
   "cell_type": "code",
   "execution_count": null,
   "id": "b86dead8-72eb-49e3-8b5f-3af35227dbd5",
   "metadata": {},
   "outputs": [],
   "source": []
  }
 ],
 "metadata": {
  "kernelspec": {
   "display_name": "Python 3 (ipykernel)",
   "language": "python",
   "name": "python3"
  },
  "language_info": {
   "codemirror_mode": {
    "name": "ipython",
    "version": 3
   },
   "file_extension": ".py",
   "mimetype": "text/x-python",
   "name": "python",
   "nbconvert_exporter": "python",
   "pygments_lexer": "ipython3",
   "version": "3.9.13"
  }
 },
 "nbformat": 4,
 "nbformat_minor": 5
}
