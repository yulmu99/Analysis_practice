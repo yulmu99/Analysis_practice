{
 "cells": [
  {
   "cell_type": "code",
   "execution_count": 2,
   "id": "20a5ac2f-7863-4a9d-8183-951327a34158",
   "metadata": {},
   "outputs": [
    {
     "name": "stdout",
     "output_type": "stream",
     "text": [
      "[0, 1, 2, 3, 4, 5, 6, 7]\n",
      "[0, 1, 2, 3, 4, 5, 6, 7]\n"
     ]
    },
    {
     "data": {
      "text/plain": [
       "range"
      ]
     },
     "execution_count": 2,
     "metadata": {},
     "output_type": "execute_result"
    }
   ],
   "source": [
    "##슬라이싱과 range()함수의 차이 \n",
    "\n",
    "#슬라이싱은 ...\n",
    "#[시작:끝:증감]\n",
    "\n",
    "#range()는 ...\n",
    "#range(시작, 끝, 증감)\n",
    "#함수를 호출 할 때 소괄호 사용\n",
    "#인수(arguments)를 구분할 때 콤마 사용\n",
    "#규칙된 숫자를 만드는데 특화되어 있음\n",
    "#시작(포함)=0,끝(미포함),증감=1\n",
    "\n",
    "print(list(range(0,8,1))) \n",
    "print(list(range(8)))\n",
    "type(range(8))             #range자체 literal"
   ]
  },
  {
   "cell_type": "code",
   "execution_count": 4,
   "id": "422f6783-1d72-4e30-8231-e40de8f10ecb",
   "metadata": {},
   "outputs": [],
   "source": [
    "##list와 range의 큰 차이점\n",
    "#list는 메모리상에 미리 다 만들어 놓습니다.\n",
    "#range는 필요할 때 메모리에 만듭니다."
   ]
  },
  {
   "cell_type": "code",
   "execution_count": null,
   "id": "42ef0b30-3744-4871-b2a2-767742cd06a2",
   "metadata": {},
   "outputs": [],
   "source": [
    "#for문 - 반복\n",
    "#range(1000)은 0부터 999까지의 숫자 생성(literal)\n",
    "\n",
    "for n in range(1000):\n",
    "    print('hello')\n",
    "    "
   ]
  }
 ],
 "metadata": {
  "kernelspec": {
   "display_name": "Python 3 (ipykernel)",
   "language": "python",
   "name": "python3"
  },
  "language_info": {
   "codemirror_mode": {
    "name": "ipython",
    "version": 3
   },
   "file_extension": ".py",
   "mimetype": "text/x-python",
   "name": "python",
   "nbconvert_exporter": "python",
   "pygments_lexer": "ipython3",
   "version": "3.9.13"
  }
 },
 "nbformat": 4,
 "nbformat_minor": 5
}
