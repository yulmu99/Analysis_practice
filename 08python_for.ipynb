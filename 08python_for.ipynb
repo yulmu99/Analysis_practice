{
 "cells": [
  {
   "cell_type": "code",
   "execution_count": 2,
   "id": "20a5ac2f-7863-4a9d-8183-951327a34158",
   "metadata": {},
   "outputs": [
    {
     "name": "stdout",
     "output_type": "stream",
     "text": [
      "[0, 1, 2, 3, 4, 5, 6, 7]\n",
      "[0, 1, 2, 3, 4, 5, 6, 7]\n"
     ]
    },
    {
     "data": {
      "text/plain": [
       "range"
      ]
     },
     "execution_count": 2,
     "metadata": {},
     "output_type": "execute_result"
    }
   ],
   "source": [
    "##슬라이싱과 range()함수의 차이 \n",
    "\n",
    "#슬라이싱은 ...\n",
    "#[시작:끝:증감]\n",
    "\n",
    "#range()는 ...\n",
    "#range(시작, 끝, 증감)\n",
    "#함수를 호출 할 때 소괄호 사용\n",
    "#인수(arguments)를 구분할 때 콤마 사용\n",
    "#규칙된 숫자를 만드는데 특화되어 있음\n",
    "#시작(포함)=0,끝(미포함),증감=1\n",
    "\n",
    "print(list(range(0,8,1))) \n",
    "print(list(range(8)))\n",
    "type(range(8))             #range자체 literal"
   ]
  },
  {
   "cell_type": "code",
   "execution_count": 4,
   "id": "422f6783-1d72-4e30-8231-e40de8f10ecb",
   "metadata": {},
   "outputs": [],
   "source": [
    "##list와 range의 큰 차이점\n",
    "#list는 메모리상에 미리 다 만들어 놓습니다.\n",
    "#range는 필요할 때 메모리에 만듭니다."
   ]
  },
  {
   "cell_type": "code",
   "execution_count": null,
   "id": "f61e8248-cdbd-4b51-9bb9-0784b35ae290",
   "metadata": {},
   "outputs": [],
   "source": [
    "#for문 - 반복\n",
    "#range(1000)은 0부터 999까지의 숫자 생성(literal)\n",
    "\n",
    "for n in range(1000):\n",
    "    print('hello')"
   ]
  },
  {
   "cell_type": "code",
   "execution_count": 3,
   "id": "d26185fc-5478-4590-9fd0-3a81601c09eb",
   "metadata": {},
   "outputs": [
    {
     "name": "stdout",
     "output_type": "stream",
     "text": [
      "[2, 4, 6, 8, 10, 12, 14, 16, 18, 20, 22, 24, 26, 28, 30, 32, 34, 36, 38, 40, 42, 44, 46, 48, 50, 52, 54, 56, 58, 60, 62, 64, 66, 68, 70, 72, 74, 76, 78, 80, 82, 84, 86, 88, 90, 92, 94, 96, 98]\n"
     ]
    }
   ],
   "source": [
    "#range()로 반환 받은 자료형은 range\n",
    "#list 자료형으로 변환\n",
    "\n",
    "even_numbers = list(range(2,100,2))\n",
    "print(even_numbers)"
   ]
  },
  {
   "cell_type": "code",
   "execution_count": 5,
   "id": "d7424b40-ba1d-44e3-8103-8bfca3ad5911",
   "metadata": {},
   "outputs": [],
   "source": [
    "##for문\n",
    "#iterable 자료형의 항목들을 순서대로 요소를 하나씩 꺼내는 역할\n",
    "#반복되는 부분을 만들 때 , iterable(객체)를 루핑(반복)할 때 \n",
    "\n",
    "#java와 python의 for문 차이\n",
    "#java는 변수를 통해서 제어 / 변수가 해당 조건을 만족할 때까지 반복\n",
    "#python은 여러 개의 요소들을 하나씩 다 꺼내 주는 방법\n",
    "\n",
    "##iterable 자료형\n",
    "#iterable 자료형 - > 반복가능한 자료\n",
    "#여러 개의 요소들로 구성되어있고 요소를 한 번에 하나씩 돌려줄 수 있는 객체\n",
    "#시퀀스 자료형(list,str,tuple,range)와 비시퀀스 자료형(dictionary)\n",
    "\n",
    "##객체\n",
    "#메모리에 할당되어 존재하는 데이터 /  실제 존재하는 데이터"
   ]
  },
  {
   "cell_type": "code",
   "execution_count": 13,
   "id": "a3a01b1b-ec7e-426f-81fe-75d8b35e52d0",
   "metadata": {},
   "outputs": [
    {
     "name": "stdout",
     "output_type": "stream",
     "text": [
      "Hello world 1\n",
      "Hello world 2\n",
      "Hello world 3\n",
      "Hello world 4\n",
      "Hello world 5\n",
      "Hello world 6\n",
      "Hello world 7\n",
      "Hello world 8\n",
      "Hello world 9\n",
      "Hello world 10\n",
      "Hello world 11\n",
      "Hello world 12\n",
      "Hello world 13\n",
      "Hello world 14\n",
      "Hello world 15\n",
      "Hello world 16\n",
      "Hello world 17\n",
      "Hello world 18\n",
      "Hello world 19\n",
      "Hello world 20\n",
      "Hello world 21\n",
      "Hello world 22\n",
      "Hello world 23\n",
      "Hello world 24\n",
      "Hello world 25\n",
      "Hello world 26\n",
      "Hello world 27\n",
      "Hello world 28\n",
      "Hello world 29\n",
      "Hello world 30\n",
      "Hello world 31\n",
      "Hello world 32\n",
      "Hello world 33\n",
      "Hello world 34\n",
      "Hello world 35\n",
      "Hello world 36\n",
      "Hello world 37\n",
      "Hello world 38\n",
      "Hello world 39\n",
      "Hello world 40\n",
      "Hello world 41\n",
      "Hello world 42\n",
      "Hello world 43\n",
      "Hello world 44\n",
      "Hello world 45\n",
      "Hello world 46\n",
      "Hello world 47\n",
      "Hello world 48\n",
      "Hello world 49\n",
      "Hello world 50\n",
      "Hello world 51\n",
      "Hello world 52\n",
      "Hello world 53\n",
      "Hello world 54\n",
      "Hello world 55\n",
      "Hello world 56\n",
      "Hello world 57\n",
      "Hello world 58\n",
      "Hello world 59\n",
      "Hello world 60\n",
      "Hello world 61\n",
      "Hello world 62\n",
      "Hello world 63\n",
      "Hello world 64\n",
      "Hello world 65\n",
      "Hello world 66\n",
      "Hello world 67\n",
      "Hello world 68\n",
      "Hello world 69\n",
      "Hello world 70\n",
      "Hello world 71\n",
      "Hello world 72\n",
      "Hello world 73\n",
      "Hello world 74\n",
      "Hello world 75\n",
      "Hello world 76\n",
      "Hello world 77\n",
      "Hello world 78\n",
      "Hello world 79\n",
      "Hello world 80\n",
      "Hello world 81\n",
      "Hello world 82\n",
      "Hello world 83\n",
      "Hello world 84\n",
      "Hello world 85\n",
      "Hello world 86\n",
      "Hello world 87\n",
      "Hello world 88\n",
      "Hello world 89\n",
      "Hello world 90\n",
      "Hello world 91\n",
      "Hello world 92\n",
      "Hello world 93\n",
      "Hello world 94\n",
      "Hello world 95\n",
      "Hello world 96\n",
      "Hello world 97\n",
      "Hello world 98\n",
      "Hello world 99\n",
      "Hello world 100\n"
     ]
    }
   ],
   "source": [
    "for i in range(1,101):\n",
    "    print(f\"Hello world {i}\")"
   ]
  },
  {
   "cell_type": "code",
   "execution_count": 18,
   "id": "b16bf361-b724-403d-88d2-5d7413b49382",
   "metadata": {},
   "outputs": [
    {
     "name": "stdin",
     "output_type": "stream",
     "text": [
      "인사 몇 번 해드릴까요? 2\n"
     ]
    },
    {
     "name": "stdout",
     "output_type": "stream",
     "text": [
      "Hello world\n",
      "Hello world\n"
     ]
    },
    {
     "name": "stdin",
     "output_type": "stream",
     "text": [
      "인사 몇 번 해드릴까요? 2\n"
     ]
    },
    {
     "name": "stdout",
     "output_type": "stream",
     "text": [
      "Hello world 1\n",
      "Hello world 2\n"
     ]
    }
   ],
   "source": [
    "#나 ver\n",
    "a = int(input('인사 몇 번 해드릴까요?'))\n",
    "for i in range(a) :\n",
    "    print('Hello world')\n",
    "\n",
    "#강사님 ver\n",
    "a = int(input('인사 몇 번 해드릴까요?'))\n",
    "for _ in range(1,a+1) :\n",
    "    print('Hello world' , _)"
   ]
  },
  {
   "cell_type": "code",
   "execution_count": 26,
   "id": "0fadf8d8-1518-4746-9f32-46fab91634ae",
   "metadata": {},
   "outputs": [
    {
     "name": "stdout",
     "output_type": "stream",
     "text": [
      "[5, 6, 7, 8, 9]\n",
      "[0, 3, 6, 9]\n",
      "[-10, -40, -70]\n"
     ]
    }
   ],
   "source": [
    "a= list(range(5,10))\n",
    "print(a)\n",
    "\n",
    "b=list(range(0,10,3))\n",
    "print(b)\n",
    "\n",
    "c=list(range(-10,-80,-30))\n",
    "print(c)"
   ]
  },
  {
   "cell_type": "code",
   "execution_count": 74,
   "id": "ec679908-5308-4ed2-95fc-d578162ca788",
   "metadata": {},
   "outputs": [
    {
     "name": "stdin",
     "output_type": "stream",
     "text": [
      "자연수 하나 입력해주세요: 5\n"
     ]
    },
    {
     "name": "stdout",
     "output_type": "stream",
     "text": [
      "5\t5\t5\t5\t5\t\n",
      "4\t4\t4\t4\t\n",
      "3\t3\t3\t\n",
      "2\t2\t\n",
      "1\t\n"
     ]
    }
   ],
   "source": [
    "# print()는 반환값이 None\n",
    "# print * _ 하면 에러\n",
    "\n",
    "count = int(input('자연수 하나 입력해주세요:'))\n",
    "for _ in range(count, 0 , -1) :\n",
    "    print(f\"{_}\\t\" * _ )\n"
   ]
  },
  {
   "cell_type": "code",
   "execution_count": 75,
   "id": "1f895818-c392-4da7-be04-57742bea034e",
   "metadata": {},
   "outputs": [
    {
     "name": "stdin",
     "output_type": "stream",
     "text": [
      "자연수 하나 입력해주세요: 5\n"
     ]
    },
    {
     "name": "stdout",
     "output_type": "stream",
     "text": [
      "5\t5\t5\t5\t5\t\n",
      "4\t4\t4\t4\t\n",
      "3\t3\t3\t\n",
      "2\t2\t\n",
      "1\t\n"
     ]
    }
   ],
   "source": [
    "count = int(input('자연수 하나 입력해주세요:'))\n",
    "for i in range(count,0,-1) :\n",
    "    for j in range(i):\n",
    "        print(i,end='\\t')\n",
    "    print()                #줄바꿈"
   ]
  },
  {
   "cell_type": "code",
   "execution_count": 102,
   "id": "e92f5014-5127-4142-9154-e7f4c0059901",
   "metadata": {},
   "outputs": [
    {
     "name": "stdout",
     "output_type": "stream",
     "text": [
      "* * * * * * * * * * \n",
      "*                 *\n",
      "*                 *\n",
      "*                 *\n",
      "*                 *\n",
      "*                 *\n",
      "*                 *\n",
      "*                 *\n",
      "*                 *\n",
      "* * * * * * * * * * \n"
     ]
    }
   ],
   "source": [
    "for i in range(10) :\n",
    "    if i == 0 or i == 9:\n",
    "        print('* ' * 10)\n",
    "    else :\n",
    "        print('*',' ' * 15,'*')"
   ]
  },
  {
   "cell_type": "code",
   "execution_count": 152,
   "id": "36b3a98c-a556-4d9a-abbc-1a18a1aec8ae",
   "metadata": {},
   "outputs": [
    {
     "name": "stdin",
     "output_type": "stream",
     "text": [
      "1부터 입력한 자연수까지의 모든 홀수의 합을 구합니다 100\n"
     ]
    },
    {
     "name": "stdout",
     "output_type": "stream",
     "text": [
      "1+3+5+7+9+11+13+15+17+19+21+23+25+27+29+31+33+35+37+39+41+43+45+47+49+51+53+55+57+59+61+63+65+67+69+71+73+75+77+79+81+83+85+87+89+91+93+95+97+99 = 2500\n"
     ]
    }
   ],
   "source": [
    "#누적합\n",
    "#num = 0 / 자기자신을 더해도 변함 없는 수는 0\n",
    "#num += i / i는 반복 변수\n",
    "\n",
    "value = int(input('1부터 입력한 자연수까지의 모든 홀수의 합을 구합니다'))\n",
    "num = 0\n",
    "\n",
    "for i in range(1,value-1,2):\n",
    "    print(i,'+',end=\"\",sep=\"\")\n",
    "    num += i\n",
    "    \n",
    "if value % 2 == 0 :\n",
    "    print(value -1,'=',num + (value -1))\n",
    "else :\n",
    "    print(value,'=',num + value)\n",
    "        \n",
    "\n",
    "\n",
    "    "
   ]
  },
  {
   "cell_type": "code",
   "execution_count": 154,
   "id": "db1c4af8-72e0-4fbf-92be-673cce457161",
   "metadata": {},
   "outputs": [
    {
     "name": "stdin",
     "output_type": "stream",
     "text": [
      "1부터 입력한 자연수까지의 모든 홀수의 합을 구합니다 100\n"
     ]
    },
    {
     "name": "stdout",
     "output_type": "stream",
     "text": [
      "1+3+5+7+9+11+13+15+17+19+21+23+25+27+29+31+33+35+37+39+41+43+45+47+49+51+53+55+57+59+61+63+65+67+69+71+73+75+77+79+81+83+85+87+89+91+93+95+97+99=2500\n"
     ]
    }
   ],
   "source": [
    "value = int(input('1부터 입력한 자연수까지의 모든 홀수의 합을 구합니다'))\n",
    "result = 0\n",
    "\n",
    "for i in range(1,value + 1):\n",
    "    if i % 2 == 1 :  #홀수\n",
    "        if (value - 1) == i or  value == i : \n",
    "            print(i,end='=')\n",
    "        else :\n",
    "            print(i,end='+')\n",
    "        result += i\n",
    "print(result)\n"
   ]
  },
  {
   "cell_type": "code",
   "execution_count": 11,
   "id": "f8d5ed71-aaa4-4287-a2a9-9e24796aa0c5",
   "metadata": {},
   "outputs": [
    {
     "name": "stdin",
     "output_type": "stream",
     "text": [
      "자연수 입력 100\n"
     ]
    },
    {
     "name": "stdout",
     "output_type": "stream",
     "text": [
      "1+3+5+7+9+11+13+15+17+19+21+23+25+27+29+31+33+35+37+39+41+43+45+47+49+51+53+55+57+59+61+63+65+67+69+71+73+75+77+79+81+83+85+87+89+91+93+95+97+99 = 2500\n"
     ]
    }
   ],
   "source": [
    "input_value =int(input('자연수 입력'))\n",
    "print(1,end=\"\")\n",
    "\n",
    "result =0 \n",
    "\n",
    "for i in range(3,input_value + 1 , 2):\n",
    "    print(f\"+{i}\", end =\"\")\n",
    "    result += i\n",
    "                          \n",
    "print(f' = {result+1}')"
   ]
  },
  {
   "cell_type": "code",
   "execution_count": 20,
   "id": "6ab3612b-15d6-4460-8a9f-0450016cc215",
   "metadata": {},
   "outputs": [
    {
     "name": "stdin",
     "output_type": "stream",
     "text": [
      "계승을 구할 숫자를 입력하세요. 4\n"
     ]
    },
    {
     "name": "stdout",
     "output_type": "stream",
     "text": [
      "24\n"
     ]
    }
   ],
   "source": [
    "v = int(input('계승을 구할 숫자를 입력하세요.'))\n",
    "num = 1\n",
    "\n",
    "for i in range(1,v+1) :\n",
    "    num = i * num        #누적곱\n",
    "\n",
    "print(num)"
   ]
  },
  {
   "cell_type": "code",
   "execution_count": 28,
   "id": "fed5643c-fe8b-48a1-aba6-c2352986b381",
   "metadata": {},
   "outputs": [
    {
     "name": "stdout",
     "output_type": "stream",
     "text": [
      "시\n",
      "미\n",
      "라\n",
      "레\n",
      "솔\n",
      "도\n",
      "파도솔레일 이 삼 사 오 육 칠 "
     ]
    }
   ],
   "source": [
    "#시퀀스 객체 반복\n",
    "#range()대신 시퀀스 객체 사용\n",
    "\n",
    "for _ in ['시','미','라','레','솔','도']:    #list\n",
    "    print(_)\n",
    "    \n",
    "for _ in ('파','도','솔','레'):             #tuple\n",
    "    print(_,end=\"\")\n",
    "    \n",
    "for _ in '일이삼사오육칠':                  #str\n",
    "    print(_,end=' ')"
   ]
  },
  {
   "cell_type": "code",
   "execution_count": 30,
   "id": "64edbdb4-a553-4e61-bfb1-a1fee92a98dc",
   "metadata": {},
   "outputs": [
    {
     "name": "stdout",
     "output_type": "stream",
     "text": [
      "십 구 팔 칠 육 오 사 삼 이 일 "
     ]
    }
   ],
   "source": [
    "#reversed(인수_시퀀스) 내장 함수 - 역순\n",
    "\n",
    "##.reverse 메서드와 차이\n",
    "#reversed() 함수는 반환값을 주지만 시퀀스를 변경하지는 않음\n",
    "#리스트.reverse() 함수는 리스트의 요소 순서를 변경, 반환값 None\n",
    "\n",
    "for _ in reversed('일이삼사오육칠팔구십'):\n",
    "    print(_,end=' ')\n",
    "\n"
   ]
  },
  {
   "cell_type": "code",
   "execution_count": 35,
   "id": "34c8bde2-9fb9-40cc-aa09-83e1f900e8fc",
   "metadata": {},
   "outputs": [
    {
     "name": "stdout",
     "output_type": "stream",
     "text": [
      "100 -420 250 1030 210 770 240 "
     ]
    }
   ],
   "source": [
    "x=[10,-42,25,103,21,77,24]\n",
    "\n",
    "for i in x :\n",
    "    print(i*10,end=\" \")"
   ]
  },
  {
   "cell_type": "code",
   "execution_count": 61,
   "id": "52e9db7a-89b6-4b26-b6af-1836b6207c51",
   "metadata": {},
   "outputs": [
    {
     "name": "stdin",
     "output_type": "stream",
     "text": [
      "구구단을 알려드립니다. 숫자를 입력하세요. 8\n"
     ]
    },
    {
     "name": "stdout",
     "output_type": "stream",
     "text": [
      "8 * 1 = 8\n",
      "8 * 2 = 16\n",
      "8 * 3 = 24\n",
      "8 * 4 = 32\n",
      "8 * 5 = 40\n",
      "8 * 6 = 48\n",
      "8 * 7 = 56\n",
      "8 * 8 = 64\n",
      "8 * 9 = 72\n"
     ]
    }
   ],
   "source": [
    "gu = int(input('구구단을 알려드립니다. 숫자를 입력하세요.'))\n",
    "\n",
    "for i in range(1,10) :\n",
    "    print(f\"{gu} * {i} = {gu*i}\" )"
   ]
  },
  {
   "cell_type": "code",
   "execution_count": 59,
   "id": "d7bfbecd-3d27-4435-891f-5cae79529d96",
   "metadata": {},
   "outputs": [
    {
     "name": "stdin",
     "output_type": "stream",
     "text": [
      "자연수를 입력해주세요: 100\n"
     ]
    },
    {
     "name": "stdout",
     "output_type": "stream",
     "text": [
      "5050\n"
     ]
    }
   ],
   "source": [
    "value = int(input('자연수를 입력해주세요:'))\n",
    "num=0\n",
    "for i in range(1,value+1) :\n",
    "    num += i\n",
    "    \n",
    "print(num)\n",
    "    "
   ]
  },
  {
   "cell_type": "code",
   "execution_count": 93,
   "id": "a9d41bdf-aec8-4cbd-90c0-421e51ce6d61",
   "metadata": {},
   "outputs": [
    {
     "name": "stdout",
     "output_type": "stream",
     "text": [
      "*****\n",
      "*****\n",
      "*****\n",
      "*****\n",
      "*****\n"
     ]
    }
   ],
   "source": [
    "for j in range(5):            #*****를 다섯줄 반복\n",
    "    for i in range(5) :     \n",
    "        print('*',end=\"\")\n",
    "    print()                   #줄바꿈"
   ]
  },
  {
   "cell_type": "code",
   "execution_count": 3,
   "id": "ae22957b-36fe-43be-8a27-d9f9cd1fdbbf",
   "metadata": {},
   "outputs": [
    {
     "name": "stdout",
     "output_type": "stream",
     "text": [
      "97\n",
      "100\n",
      "77\n"
     ]
    }
   ],
   "source": [
    "#for문으로 시퀀스 객체의 인덱스 루프(loop)\n",
    "\n",
    "scores = (97,100,77)\n",
    "\n",
    "for _ in range(len(scores)):\n",
    "    print(scores[_])"
   ]
  },
  {
   "cell_type": "code",
   "execution_count": null,
   "id": "f0c8d34e-e08e-430a-aa7e-cb771281711a",
   "metadata": {},
   "outputs": [],
   "source": []
  }
 ],
 "metadata": {
  "kernelspec": {
   "display_name": "Python 3 (ipykernel)",
   "language": "python",
   "name": "python3"
  },
  "language_info": {
   "codemirror_mode": {
    "name": "ipython",
    "version": 3
   },
   "file_extension": ".py",
   "mimetype": "text/x-python",
   "name": "python",
   "nbconvert_exporter": "python",
   "pygments_lexer": "ipython3",
   "version": "3.9.13"
  }
 },
 "nbformat": 4,
 "nbformat_minor": 5
}
