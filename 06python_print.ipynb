{
 "cells": [
  {
   "cell_type": "code",
   "execution_count": 6,
   "id": "d5bc0723-7b8d-4b4d-8533-85ac62a5a6b5",
   "metadata": {},
   "outputs": [
    {
     "name": "stdout",
     "output_type": "stream",
     "text": [
      "value 1 1.1 [1, 2, 3]\n",
      "value, 1, 1.1, [1, 2, 3]\n"
     ]
    }
   ],
   "source": [
    "#print()함수는 여러 인자 값을 한번에 출력 가능\n",
    "#기본 구분기호는 공백\n",
    "#sep=''이 defalt값\n",
    "\n",
    "#구분 기호를 다른 문자로 변경 \n",
    "#sep='구분기호' / 맨 마지막에 작성\n",
    "\n",
    "print('value',1,1.1,[1,2,3])\n",
    "print('value',1,1.1,[1,2,3],sep=', ')\n"
   ]
  },
  {
   "cell_type": "code",
   "execution_count": 5,
   "id": "b6138788-a015-4018-9338-cb77b012e558",
   "metadata": {},
   "outputs": [
    {
     "name": "stdout",
     "output_type": "stream",
     "text": [
      "줄이 바뀌지 않습니다.그 이유는 end='\\n'과 같이 기본 설정된 값을 빈 스트링으로 변경했기 때문입니다.\n",
      "sep, end는 맨 뒤에 써야하며 둘 간 순서는 상관없습니다.어떻게 사용하는지\n",
      "이해가 되시나요?"
     ]
    }
   ],
   "source": [
    "#print()함수 마다 줄 바꿈 기본\n",
    "#end='\\n'이 defalt값\n",
    "#end='문자열'으로 변경 가능\n",
    "\n",
    "print('줄이 바뀌지 않습니다.',end='')\n",
    "print('그 이유는 end=\\'\\\\n\\'과 같이 기본 설정된 값을 빈 스트링으로 변경했기 때문입니다.')\n",
    "print('sep','end는 맨 뒤에 써야하며 둘 간 순서는 상관없습니다.',sep=', ',end='')\n",
    "print('어떻게 사용하는지','이해가 되시나요',sep='\\n',end='?')\n"
   ]
  },
  {
   "cell_type": "code",
   "execution_count": 12,
   "id": "ff895e70-5294-45b4-8b2d-db00340d009f",
   "metadata": {},
   "outputs": [
    {
     "name": "stdout",
     "output_type": "stream",
     "text": [
      "2021/02/03 18:33:23\n"
     ]
    }
   ],
   "source": [
    "year = '2021'\n",
    "month = '02'\n",
    "day = '03'\n",
    "hour = '18'\n",
    "minute = '33'\n",
    "second = '23'\n",
    "\n",
    "print(year,month,day,sep='/',end = ' ')\n",
    "print(hour,minute,second,sep=':')"
   ]
  },
  {
   "cell_type": "code",
   "execution_count": 22,
   "id": "acae0a31-4bf0-4a6f-adfc-625840ce6d31",
   "metadata": {},
   "outputs": [
    {
     "name": "stdin",
     "output_type": "stream",
     "text": [
      "사과와 귤을 몇개 드릴까요? 10,20\n"
     ]
    },
    {
     "name": "stdout",
     "output_type": "stream",
     "text": [
      "총 가격은 14000원입니다\n"
     ]
    }
   ],
   "source": [
    "a,g = map(int,input('사과와 귤을 몇개 드릴까요?').split(','))\n",
    "print('총 가격은 ',1000*a + 200*g,'원입니다',sep=\"\")\n"
   ]
  },
  {
   "cell_type": "code",
   "execution_count": 29,
   "id": "deb713f1-784e-476c-b253-77f965e8fec0",
   "metadata": {},
   "outputs": [
    {
     "name": "stdout",
     "output_type": "stream",
     "text": [
      "10 20\n",
      "\n",
      "오늘의 날짜를 알려드립니다!\n",
      "2023년 2월 15일입니다.\n"
     ]
    }
   ],
   "source": [
    "#format()메서드\n",
    "#\"{문자열} {}\".format(값1,값2)\n",
    "#문자열과 format() 인수 개수가 동일\n",
    "\n",
    "print('{} {}'.format(10,20))\n",
    "\n",
    "#문자열에 삼중 따옴표 사용 가능\n",
    "import time\n",
    "\n",
    "today = \"\"\"오늘의 날짜를 알려드립니다!\n",
    "{}년 {}월 {}일입니다.\\\n",
    "\"\"\".format(time.localtime().tm_year,\n",
    "           time.localtime().tm_mon,\n",
    "           time.localtime().tm_mday)\n",
    "\n",
    "print('\\n',today,sep=\"\")"
   ]
  },
  {
   "cell_type": "code",
   "execution_count": 30,
   "id": "1434c7ba-c05b-4d37-a4d9-9962d2be5e7f",
   "metadata": {},
   "outputs": [
    {
     "name": "stdout",
     "output_type": "stream",
     "text": [
      "중괄호는 2개이고, 여기 인수는\n"
     ]
    }
   ],
   "source": [
    "#중괄호 개수보다 format 메서드의 인수가 많으면\n",
    "#초과되는 format 메서드의 인수는 버려짐\n",
    "\n",
    "some_str = \"중괄호는 2개이고, {} {}\".format(\"여기\",\"인수는\",\"3개 입니다.\")\n",
    "print(some_str)"
   ]
  },
  {
   "cell_type": "code",
   "execution_count": 33,
   "id": "ed12a727-3de0-4c9a-8c63-58724035f31a",
   "metadata": {},
   "outputs": [
    {
     "ename": "IndexError",
     "evalue": "Replacement index 3 out of range for positional args tuple",
     "output_type": "error",
     "traceback": [
      "\u001b[1;31m---------------------------------------------------------------------------\u001b[0m",
      "\u001b[1;31mIndexError\u001b[0m                                Traceback (most recent call last)",
      "\u001b[1;32m~\\AppData\\Local\\Temp\\ipykernel_17528\\1136542040.py\u001b[0m in \u001b[0;36m<module>\u001b[1;34m\u001b[0m\n\u001b[0;32m      3\u001b[0m \u001b[1;31m#결론 : 개수를 잘 맞춰서 쓰는게 중요\u001b[0m\u001b[1;33m\u001b[0m\u001b[1;33m\u001b[0m\u001b[0m\n\u001b[0;32m      4\u001b[0m \u001b[1;33m\u001b[0m\u001b[0m\n\u001b[1;32m----> 5\u001b[1;33m \u001b[0msome_str\u001b[0m \u001b[1;33m=\u001b[0m \u001b[1;34m\"중괄호는 4개이고, {} {} {} {}\"\u001b[0m\u001b[1;33m.\u001b[0m\u001b[0mformat\u001b[0m\u001b[1;33m(\u001b[0m\u001b[1;34m\"여기\"\u001b[0m\u001b[1;33m,\u001b[0m\u001b[1;34m\"인수는\"\u001b[0m\u001b[1;33m,\u001b[0m\u001b[1;34m\"3개 입니다.\"\u001b[0m\u001b[1;33m)\u001b[0m\u001b[1;33m\u001b[0m\u001b[1;33m\u001b[0m\u001b[0m\n\u001b[0m\u001b[0;32m      6\u001b[0m \u001b[0mprint\u001b[0m\u001b[1;33m(\u001b[0m\u001b[0msome_str\u001b[0m\u001b[1;33m)\u001b[0m\u001b[1;33m\u001b[0m\u001b[1;33m\u001b[0m\u001b[0m\n",
      "\u001b[1;31mIndexError\u001b[0m: Replacement index 3 out of range for positional args tuple"
     ]
    }
   ],
   "source": [
    "#중괄호 개수보다 format 메서드의 인수가 적으면\n",
    "#IndexError 발생\n",
    "#결론 : 개수를 잘 맞춰서 쓰는게 중요\n",
    "\n",
    "some_str = \"중괄호는 4개이고, {} {} {} {}\".format(\"여기\",\"인수는\",\"3개 입니다.\")\n",
    "print(some_str)"
   ]
  },
  {
   "cell_type": "code",
   "execution_count": 37,
   "id": "46139342-2249-4871-acb5-ec8dec55e661",
   "metadata": {},
   "outputs": [
    {
     "name": "stdout",
     "output_type": "stream",
     "text": [
      "10\n",
      "10 20\n",
      "\n",
      "오늘의 날짜를 알려드립니다!\n",
      "2023년 2월 15일 입니다.\n"
     ]
    }
   ],
   "source": [
    "#문자열의 f-string\n",
    "#문자열 앞에 f를 붙이고 {}안에 리터럴 값 혹은 변수 넣어서 사용\n",
    "#.format() 메서드 보다 간편하고 직관적\n",
    "\n",
    "print(f\"{10}\")\n",
    "print(f\"{10} {20}\")\n",
    "\n",
    "#삼중 따옴표 사용 가능\n",
    "\n",
    "import time\n",
    "today = f\"\"\"\\n오늘의 날짜를 알려드립니다!\n",
    "{time.localtime().tm_year}년 {time.localtime().tm_mon}월 {time.localtime().tm_mday}일 입니다.\"\"\"\n",
    "\n",
    "print(today)"
   ]
  },
  {
   "cell_type": "code",
   "execution_count": null,
   "id": "7d91f42a-c476-4858-b1e1-aa58f9c0b894",
   "metadata": {},
   "outputs": [],
   "source": []
  }
 ],
 "metadata": {
  "kernelspec": {
   "display_name": "Python 3 (ipykernel)",
   "language": "python",
   "name": "python3"
  },
  "language_info": {
   "codemirror_mode": {
    "name": "ipython",
    "version": 3
   },
   "file_extension": ".py",
   "mimetype": "text/x-python",
   "name": "python",
   "nbconvert_exporter": "python",
   "pygments_lexer": "ipython3",
   "version": "3.9.13"
  }
 },
 "nbformat": 4,
 "nbformat_minor": 5
}
