{
 "cells": [
  {
   "cell_type": "code",
   "execution_count": 1,
   "id": "fa90094f-c28c-4005-a786-2a266d9495a1",
   "metadata": {},
   "outputs": [],
   "source": [
    "import urllib.robotparser\n",
    "rp = urllib.robotparser.RobotFileParser()\n",
    "rp.set_url('http://www.reuters.com/robots.txt')\n",
    "rp.read()"
   ]
  },
  {
   "cell_type": "code",
   "execution_count": 4,
   "id": "1fdf3150-e136-4e7e-89b3-1c220fdf0a3f",
   "metadata": {},
   "outputs": [],
   "source": [
    "rp.can_fetch(useragent='*',url='http://reuters.com/sitemap.xml')"
   ]
  },
  {
   "cell_type": "code",
   "execution_count": 8,
   "id": "21eafca8-792d-4274-a335-62978d3c1f3a",
   "metadata": {},
   "outputs": [],
   "source": [
    "sitemap = rp.site_maps()\n",
    "sitemap"
   ]
  },
  {
   "cell_type": "code",
   "execution_count": 9,
   "id": "5acd520b-7948-43bb-9077-516c9cc902d4",
   "metadata": {},
   "outputs": [],
   "source": [
    "!pip install xmltodict"
   ]
  },
  {
   "cell_type": "code",
   "execution_count": 22,
   "id": "edbbbf4d-8e0f-4faf-b963-b3b991e4d4b7",
   "metadata": {},
   "outputs": [],
   "source": [
    "import xmltodict\n",
    "import requests\n",
    "\n",
    "url = sitemap[0] \n",
    "sitemaps = xmltodict.parse(requests.get(url).text)\n",
    "sitemaps\n"
   ]
  },
  {
   "cell_type": "code",
   "execution_count": 43,
   "id": "c06d809a-007c-4a76-884b-439ca44e147f",
   "metadata": {},
   "outputs": [],
   "source": [
    "#sitemap의 url을 확보\n",
    "#먼저 key값 확인 -> .keys()\n",
    "\n",
    "sub_sitemaps = [sitemap['loc'] for sitemap in sitemaps['sitemapindex']['sitemap']]"
   ]
  },
  {
   "cell_type": "code",
   "execution_count": null,
   "id": "9c829bb0-501c-4b01-9da3-a6726052852e",
   "metadata": {},
   "outputs": [],
   "source": [
    "response = requests.get(sub_sitemaps[0])\n",
    "urls = xmltodict.parse(response.text)\n",
    "urls"
   ]
  },
  {
   "cell_type": "code",
   "execution_count": 67,
   "id": "1bd15f18-7fe2-4c67-98b8-84d8a4b357b6",
   "metadata": {},
   "outputs": [],
   "source": [
    "urls['urlset']['url']"
   ]
  },
  {
   "cell_type": "code",
   "execution_count": 87,
   "id": "ca24b213-a678-48a0-98e9-bf4fbdc8278f",
   "metadata": {},
   "outputs": [
    {
     "data": {
      "text/plain": [
       "['https://www.reuters.com/markets/europe/bayer-sees-lower-2023-operating-profit-cost-inflation-2023-02-28/',\n",
       " 'https://www.reuters.com/business/finance/oaktree-capital-seeks-raise-10-billion-new-fund-ft-2023-02-28/',\n",
       " 'https://www.reuters.com/markets/europe/global-markets-view-europe-2023-02-28/',\n",
       " 'https://www.reuters.com/business/retail-consumer/home-zara-fast-slow-fashion-collide-2023-02-28/',\n",
       " 'https://www.reuters.com/lifestyle/sports/england-captain-stokes-has-no-regrets-over-follow-on-2023-02-28/',\n",
       " 'https://www.reuters.com/markets/asia/indias-adani-plans-repay-up-790-mln-share-backed-loans-by-march-sources-2023-02-28/',\n",
       " 'https://www.reuters.com/lifestyle/sports/smith-says-australia-batsmen-will-ditch-risky-tempo-third-test-2023-02-28/',\n",
       " 'https://www.reuters.com/technology/cryptoverse-bitcoin-moves-towards-satoshis-payment-dream-2023-02-28/',\n",
       " 'https://www.reuters.com/markets/europe/ecb-has-started-win-inflation-fight-lane-says-2023-02-28/',\n",
       " 'https://www.reuters.com/markets/rates-bonds/banks-pile-into-euro-zone-bond-sales-rates-shoot-up-2023-02-28/',\n",
       " 'https://www.reuters.com/business/adecco-sees-signs-hiring-slowdown-start-2023-2023-02-28/',\n",
       " 'https://www.reuters.com/world/us/tennessee-meat-plant-workers-reach-12-mln-settlement-over-2018-raid-2023-02-28/',\n",
       " 'https://www.reuters.com/markets/asia/china-income-spending-per-capita-grow-over-2022-national-bureau-statistics-2023-02-28/',\n",
       " 'https://www.reuters.com/world/asia-pacific/la-nina-wet-weather-system-near-its-end-australian-weather-bureau-2023-02-28/',\n",
       " 'https://www.reuters.com/lifestyle/sports/nhl-roundup-connor-mcdavids-49th-50th-goals-cant-stop-bruins-2023-02-28/',\n",
       " 'https://www.reuters.com/lifestyle/sports/new-zealand-skipper-southee-hails-test-win-ages-2023-02-28/',\n",
       " 'https://www.reuters.com/world/china/chinas-birth-rate-slumps-political-advisor-urges-egg-freezing-single-women-2023-02-28/',\n",
       " 'https://www.reuters.com/lifestyle/sports/tough-see-alcaraz-playing-acapulco-says-coach-2023-02-28/',\n",
       " 'https://www.reuters.com/world/moscow-accuses-us-preparing-toxic-chemicals-provocation-ukraine-2023-02-28/',\n",
       " 'https://www.reuters.com/business/finance/goldman-sachs-seen-unveiling-medium-term-goals-investor-day-2023-02-28/',\n",
       " 'https://www.reuters.com/breakingviews/chinas-li-auto-drives-fine-profit-line-2023-02-28/',\n",
       " 'https://www.reuters.com/breakingviews/japan-posts-deal-will-test-interest-rate-optimism-2023-02-28/',\n",
       " 'https://www.reuters.com/markets/europe/germany-home-prices-sink-nearly-6-this-year-2023-02-28/',\n",
       " 'https://www.reuters.com/breakingviews/airtel-would-be-complex-saviour-paytm-2023-02-28/',\n",
       " 'https://www.reuters.com/business/autos-transportation/volkswagen-china-chief-visits-xinjiang-plant-sees-no-sign-forced-labour-2023-02-28/',\n",
       " 'https://www.reuters.com/world/europe/ex-kremlins-adviser-soviet-era-dissident-pavlovsky-dies-2023-02-28/',\n",
       " 'https://www.reuters.com/lifestyle/sports/brentfords-frank-says-abuse-directed-managers-is-disgrace-2023-02-28/',\n",
       " 'https://www.reuters.com/lifestyle/sports/nba-roundup-hornets-win-again-lose-lamelo-ball-2023-02-28/',\n",
       " 'https://www.reuters.com/lifestyle/giorgio-armani-offers-soft-fluid-winter-designs-milan-fashion-week-2023-02-26/',\n",
       " 'https://www.reuters.com/business/energy/thailands-indorama-ventures-scouts-acquisitions-europe-africa-ceo-2023-02-28/',\n",
       " 'https://www.reuters.com/lifestyle/sports/list-narrowest-victories-by-runs-tests-2023-02-28/',\n",
       " 'https://www.reuters.com/business/media-telecom/reuters-reporters-online-accounts-faked-approach-china-activists-2023-02-28/',\n",
       " 'https://www.reuters.com/world/us/us-needs-learn-all-black-history-biden-says-some-republicans-push-curbs-2023-02-27/',\n",
       " 'https://www.reuters.com/lifestyle/sports/list-teams-that-won-test-after-follow-on-2023-02-28/',\n",
       " 'https://www.reuters.com/world/blinken-hold-talks-with-central-asian-nations-wake-ukraine-anniversary-2023-02-28/',\n",
       " 'https://www.reuters.com/lifestyle/sports/wimbledon-offers-best-chance-deep-run-grand-slam-murray-2023-02-28/',\n",
       " 'https://www.reuters.com/lifestyle/sports/new-zealand-beat-england-by-one-run-second-test-level-series-1-1-2023-02-28/',\n",
       " 'https://www.reuters.com/business/finance/australias-regulator-sues-mercer-pension-fund-first-greenwashing-case-2023-02-28/',\n",
       " 'https://www.reuters.com/technology/rapidus-picks-northern-japans-chitose-semiconductor-plant-location-2023-02-28/',\n",
       " 'https://www.reuters.com/lifestyle/sports/spring-training-roundup-emmanuel-rivera-d-backs-walk-off-cubs-2023-02-28/',\n",
       " 'https://www.reuters.com/world/europe/russian-offensive-eastern-ukraine-focused-bakhmut-2023-02-28/',\n",
       " 'https://www.reuters.com/markets/australia-limit-tax-breaks-multi-million-dollar-retirement-savings-2023-02-28/',\n",
       " 'https://www.reuters.com/world/us/us-marshals-service-suffers-major-security-breach-nbc-news-2023-02-28/',\n",
       " 'https://www.reuters.com/world/india/indian-shares-set-muted-start-us-rate-fears-ahead-domestic-gdp-data-2023-02-28/',\n",
       " 'https://www.reuters.com/markets/global-markets-wrapup-1-2023-02-28/',\n",
       " 'https://www.reuters.com/world/us/florida-gov-desantis-signs-bill-asserting-state-oversight-land-around-walt-2023-02-27/',\n",
       " 'https://www.reuters.com/business/sustainable-business/women-make-up-40-boards-top-uk-companies-first-time-2023-02-28/',\n",
       " 'https://www.reuters.com/markets/asia/vietnams-factory-output-rises-february-exports-up-11-2023-02-28/',\n",
       " 'https://www.reuters.com/legal/litigation/ny-lawyer-sued-quiet-quitting-strikes-back-with-race-bias-lawsuit-2023-02-27/',\n",
       " 'https://www.reuters.com/business/energy/oil-steadies-after-fall-fear-rate-hikes-rising-inventories-2023-02-28/',\n",
       " 'https://www.reuters.com/business/aerospace-defense/bae-systems-australia-unveils-first-homegrown-military-drone-2023-02-28/',\n",
       " 'https://www.reuters.com/world/us/us-awards-nearly-1-billion-airports-infrastructure-grants-2023-02-27/',\n",
       " 'https://www.reuters.com/world/china/hong-kong-scrap-covid-mask-mandate-march-1-2023-02-28/',\n",
       " 'https://www.reuters.com/markets/currencies/sterling-holds-gains-after-rising-uk-trade-deal-with-eu-2023-02-28/',\n",
       " 'https://www.reuters.com/business/us-crack-down-child-labor-amid-massive-uptick-2023-02-27/',\n",
       " 'https://www.reuters.com/lifestyle/orchestra-turns-trash-music-environmental-activism-bolivia-2023-02-28/',\n",
       " 'https://www.reuters.com/markets/asia/boj-shouldnt-modify-easy-policy-address-costs-incoming-deputy-governor-uchida-2023-02-28/',\n",
       " 'https://www.reuters.com/breakingviews/warren-buffetts-greatest-hits-lose-their-verve-2023-02-27/',\n",
       " 'https://www.reuters.com/business/aerospace-defense/lockheed-martin-hopes-deliver-more-f-35s-australia-2023-02-28/',\n",
       " 'https://www.reuters.com/lifestyle/sports/japan-anti-trust-authorities-seek-criminal-charges-against-dentsu-others-over-2023-02-28/',\n",
       " 'https://www.reuters.com/world/asia-pacific/rust-belt-province-got-old-before-it-got-rich-much-china-will-2023-02-28/',\n",
       " 'https://www.reuters.com/business/energy/japan-promote-gas-lng-hydrogen-investments-during-g7-presidency-meti-2023-02-28/',\n",
       " 'https://www.reuters.com/world/india/weak-global-demand-rate-hikes-may-curtail-india-growth-economists-2023-02-28/',\n",
       " 'https://www.reuters.com/technology/elon-musk-recruits-team-develop-openai-rival-information-2023-02-28/',\n",
       " 'https://www.reuters.com/world/new-zealand-businesses-less-pessimistic-february-anz-survey-2023-02-28/',\n",
       " 'https://www.reuters.com/markets/australias-current-account-surplus-widens-sharply-q4-2023-02-28/',\n",
       " 'https://www.reuters.com/world/us/house-committee-probe-epa-response-ohio-derailment-2023-02-28/',\n",
       " 'https://www.reuters.com/business/retail-consumer/australia-retail-sales-rebound-by-19-january-2023-02-28/',\n",
       " 'https://www.reuters.com/business/aerospace-defense/boeing-says-great-news-if-mq-28-drone-can-partner-with-f-35-2023-02-28/',\n",
       " 'https://www.reuters.com/technology/aclu-urges-us-lawmakers-not-ban-tiktok-2023-02-28/',\n",
       " 'https://www.reuters.com/world/us/us-commerce-ask-companies-seeking-chips-funding-provide-childcare-employees-2023-02-28/',\n",
       " 'https://www.reuters.com/lifestyle/sports/cactus-league-roundup-emmanuel-rivera-d-backs-walk-off-cubs-2023-02-28/',\n",
       " 'https://www.reuters.com/markets/deals/canadas-baytex-energy-nears-25-bln-deal-us-peer-ranger-oil-sources-2023-02-28/',\n",
       " 'https://www.reuters.com/markets/global-markets-view-asia-graphic-pix-2023-02-27/',\n",
       " 'https://www.reuters.com/markets/asia/japans-factory-output-suffer-biggest-fall-8-months-2023-02-28/',\n",
       " 'https://www.reuters.com/lifestyle/sports/england-90-runs-victory-after-roots-steadying-half-century-2023-02-28/',\n",
       " 'https://www.reuters.com/business/healthcare-pharmaceuticals/eisai-biogen-say-alzheimers-drug-lecanemab-getting-priority-review-china-2023-02-28/',\n",
       " 'https://www.reuters.com/world/uk/uks-hunt-has-extra-30-bln-pounds-play-with-march-budget-ifs-2023-02-28/',\n",
       " 'https://www.reuters.com/business/energy/petroecuador-finish-contingency-work-sote-pipeline-tuesday-2023-02-28/',\n",
       " 'https://www.reuters.com/business/mental-health-startup-cerebral-lay-off-about-15-workforce-2023-02-28/',\n",
       " 'https://www.reuters.com/business/aerospace-defense/lockheeds-himars-plant-gearing-up-meet-demand-after-ukraine-success-2023-02-28/',\n",
       " 'https://www.reuters.com/world/americas/massive-forest-fires-rage-eastern-cuba-2023-02-27/',\n",
       " 'https://www.reuters.com/business/retail-consumer/australias-harvey-norman-slumps-lower-half-year-profit-2023-02-27/',\n",
       " 'https://www.reuters.com/legal/robinhood-says-sec-issued-subpoena-related-crypto-operations-2023-02-27/',\n",
       " 'https://www.reuters.com/world/americas/mexico-receives-us-request-extradite-son-druglord-chapo-guzman-sources-2023-02-27/',\n",
       " 'https://www.reuters.com/world/europe/russia-will-not-resume-start-nuclear-talks-until-washington-listens-moscow-2023-02-27/',\n",
       " 'https://www.reuters.com/legal/legalindustry/california-panel-wants-state-keep-bar-exam-design-its-own-test-2023-02-27/',\n",
       " 'https://www.reuters.com/world/us/yes-joe-biden-plans-run-president-again-wife-jill-says-2023-02-27/',\n",
       " 'https://www.reuters.com/world/americas/mexican-restaurant-operator-alsea-sees-profit-dip-due-higher-taxes-2023-02-27/',\n",
       " 'https://www.reuters.com/world/europe/tiktok-suffers-another-blow-with-european-commissions-ban-2023-02-24/',\n",
       " 'https://www.reuters.com/world/ecuador-belgium-sign-deal-fight-crime-after-mega-cocaine-bust-2023-02-27/',\n",
       " 'https://www.reuters.com/legal/tesla-musk-sued-by-shareholders-over-self-driving-safety-claims-2023-02-27/',\n",
       " 'https://www.reuters.com/markets/asia/bojs-wakatabe-warns-secular-stagnation-risk-has-yet-pass-2023-02-27/',\n",
       " 'https://www.reuters.com/world/europe/us-treasurys-yellen-makes-surprise-visit-ukraine-push-economic-aid-2023-02-27/',\n",
       " 'https://www.reuters.com/legal/legalindustry/law-firms-dial-back-summer-associate-hiring-amid-legal-market-slowdown-2023-02-27/',\n",
       " 'https://www.reuters.com/business/aerospace-defense/japans-ispace-track-late-april-touchdown-attempt-private-moon-lander-2023-02-27/',\n",
       " 'https://www.reuters.com/world/asia-pacific/north-koreas-kim-calls-agriculture-reform-amid-food-shortage-woes-2023-02-27/',\n",
       " 'https://www.reuters.com/lifestyle/sports/late-luis-alberto-goal-lifts-lazio-into-top-four-after-sampdoria-win-2023-02-27/',\n",
       " 'https://www.reuters.com/lifestyle/sports/messi-named-fifa-player-2022-england-women-rewarded-euro-campaign-2023-02-27/',\n",
       " 'https://www.reuters.com/world/us/us-senate-leader-schumer-norfolk-southern-chief-should-testify-ohio-train-wreck-2023-02-27/']"
      ]
     },
     "execution_count": 87,
     "metadata": {},
     "output_type": "execute_result"
    }
   ],
   "source": [
    "#sub_sitemaps = [sitemap['loc'] for sitemap in sitemaps['sitemapindex']['sitemap']]\n",
    "news_urls = [url['loc'] for url in urls['urlset']['url']]\n",
    "news_urls"
   ]
  },
  {
   "cell_type": "code",
   "execution_count": 73,
   "id": "82fa3d6a-64a0-4bf3-8de4-ff9a73700bdc",
   "metadata": {},
   "outputs": [
    {
     "name": "stdout",
     "output_type": "stream",
     "text": [
      "Wall time: 5.07 s\n"
     ]
    }
   ],
   "source": [
    "%%time\n",
    "\n",
    "#데이터 다운로드\n",
    "#session 추상화\n",
    "#%%time -> 실행하는데 걸리는 시간 / 맨 위에 작성\n",
    "\n",
    "\n",
    "session = requests.Session()\n",
    "\n",
    "for url in news_urls[:5]:\n",
    "    file = url.split('/')[-2] + '.html'\n",
    "\n",
    "    response = session.get(url)\n",
    "    if response.ok:\n",
    "        with open('datas/'+file, 'w+b') as f:\n",
    "            f.write(response.text.encode('utf-8'))\n",
    "    else:\n",
    "        print(f'error widh URL : {url}')"
   ]
  },
  {
   "cell_type": "code",
   "execution_count": 80,
   "id": "a16f351e-4553-441c-a2d5-d9a7e8347850",
   "metadata": {},
   "outputs": [],
   "source": [
    "#filename.txt 파일을 쓰기 모드(w)로 열기. open()함수는 파일 객체 변환\n",
    "file = open('filename.txt','w')\n",
    "\n",
    "#파일 객체의 write()메서드를 통해 문자열을 파일에 쓸 수 있습니다.\n",
    "file.write('파일에 작성할 문자열')\n",
    "\n",
    "#파일에 대한 처리가 끝났다면 반드시 파일 객체를 닫아줘야 합니다.\n",
    "\n",
    "file.close()"
   ]
  },
  {
   "cell_type": "code",
   "execution_count": 78,
   "id": "27590581-63cb-438e-a42a-6570f29a3e90",
   "metadata": {},
   "outputs": [],
   "source": [
    "#close에 대한 처리 없이 간편히 쓰려면 with 활용\n",
    "#아래 코드는 이전에 작성했던 것과 동일한 동작을 수행\n",
    "with open('filename.txt','w')as file:\n",
    "    file.write('파일에 작성할 문자열')\n",
    "    "
   ]
  },
  {
   "cell_type": "code",
   "execution_count": 81,
   "id": "7b67e250-be4f-4bff-a3f1-6c073bba78a9",
   "metadata": {},
   "outputs": [
    {
     "name": "stdout",
     "output_type": "stream",
     "text": [
      "파일에 작성할 문자열\n"
     ]
    }
   ],
   "source": [
    "with open('filename.txt','r') as file:\n",
    "    print(file.read())\n",
    "    "
   ]
  },
  {
   "cell_type": "code",
   "execution_count": 83,
   "id": "7e0825f6-5b3f-402f-8b4c-a7bcfe4dcc06",
   "metadata": {},
   "outputs": [
    {
     "data": {
      "text/plain": [
       "['./datas/bayer-sees-lower-2023-operating-profit-cost-inflation-2023-02-28.html',\n",
       " './datas/england-captain-stokes-has-no-regrets-over-follow-on-2023-02-28.html',\n",
       " './datas/global-markets-view-europe-2023-02-28.html',\n",
       " './datas/home-zara-fast-slow-fashion-collide-2023-02-28.html',\n",
       " './datas/oaktree-capital-seeks-raise-10-billion-new-fund-ft-2023-02-28.html']"
      ]
     },
     "execution_count": 83,
     "metadata": {},
     "output_type": "execute_result"
    }
   ],
   "source": [
    "import os\n",
    "path = './datas/'\n",
    "files = [path + file for file in os.listdir(path)]\n",
    "files"
   ]
  },
  {
   "cell_type": "code",
   "execution_count": 85,
   "id": "3188abba-87c7-4f5f-a23b-3cea6dd8eddb",
   "metadata": {},
   "outputs": [],
   "source": [
    "with open(files[2],'r',encoding = 'utf-8') as f:\n",
    "    html = f.read()"
   ]
  },
  {
   "cell_type": "code",
   "execution_count": 90,
   "id": "e445b246-7524-4bdd-bf90-578eba154c01",
   "metadata": {},
   "outputs": [
    {
     "name": "stdout",
     "output_type": "stream",
     "text": [
      "Morning Bid: Market mood downbeat ahead of raft of data\n"
     ]
    }
   ],
   "source": [
    "from bs4 import BeautifulSoup\n",
    "soup = BeautifulSoup(html,'html.parser')\n",
    "title = soup.select_one('h1')\n",
    "print(title.text)"
   ]
  },
  {
   "cell_type": "code",
   "execution_count": 89,
   "id": "9380caef-2337-48f9-a279-107694243a41",
   "metadata": {},
   "outputs": [
    {
     "name": "stdout",
     "output_type": "stream",
     "text": [
      "Morning Bid: Market mood downbeat ahead of raft of data\n"
     ]
    }
   ],
   "source": [
    "from bs4 import BeautifulSoup\n",
    "soup = BeautifulSoup(html,'html.parser')\n",
    "title = soup.select_one('#main-content > article > div.article__main__33WV2 > div.article__content__6hMn9 > header > div > div > h1')\n",
    "print(title.text)\n"
   ]
  },
  {
   "cell_type": "code",
   "execution_count": 94,
   "id": "302bac77-03f9-4c47-9a6b-d93478227463",
   "metadata": {},
   "outputs": [
    {
     "data": {
      "text/plain": [
       "<h1 class=\"text__text__1FZLe text__dark-grey__3Ml43 text__medium__1kbOh text__heading_3__1kDhc heading__base__2T28j heading__heading_3__3aL54 article-header__title__3Y2hh\" data-testid=\"Heading\">Morning Bid: Market mood downbeat ahead of raft of data</h1>"
      ]
     },
     "execution_count": 94,
     "metadata": {},
     "output_type": "execute_result"
    }
   ],
   "source": [
    "soup.h1"
   ]
  },
  {
   "cell_type": "code",
   "execution_count": 92,
   "id": "48d05a15-990c-4c56-a14b-ca0ccabfca3a",
   "metadata": {},
   "outputs": [
    {
     "data": {
      "text/plain": [
       "'Morning Bid: Market mood downbeat ahead of raft of data | Reuters'"
      ]
     },
     "execution_count": 92,
     "metadata": {},
     "output_type": "execute_result"
    }
   ],
   "source": [
    "soup.title.text"
   ]
  },
  {
   "cell_type": "code",
   "execution_count": 102,
   "id": "66ee4a5f-349a-4b0c-a8d6-66f1d939ccf4",
   "metadata": {},
   "outputs": [
    {
     "data": {
      "text/plain": [
       "'A look at the day ahead in European and global markets from Anshuman Daga'"
      ]
     },
     "execution_count": 102,
     "metadata": {},
     "output_type": "execute_result"
    }
   ],
   "source": [
    "soup.select_one('#main-content > article > div.article__main__33WV2 > div.article__content__6hMn9 > div > div > div.article-body__content__17Yit.paywall-article > p:nth-child(2)').text\n",
    "\n",
    "#soup.select('p') -> p의 값을 가지는 모든 데이터를 리스트로 저장 "
   ]
  },
  {
   "cell_type": "code",
   "execution_count": 96,
   "id": "47d5ae57-46f6-43c8-baa5-9594de17078f",
   "metadata": {},
   "outputs": [
    {
     "data": {
      "text/plain": [
       "'https://www.reuters.com/markets/europe/global-markets-view-europe-2023-02-28/'"
      ]
     },
     "execution_count": 96,
     "metadata": {},
     "output_type": "execute_result"
    }
   ],
   "source": [
    "soup.find('link',{'rel':'canonical'})['href']"
   ]
  },
  {
   "cell_type": "code",
   "execution_count": null,
   "id": "e6cbe1b1-97c6-47b8-9c04-d17d7db13b16",
   "metadata": {},
   "outputs": [],
   "source": []
  }
 ],
 "metadata": {
  "kernelspec": {
   "display_name": "Python 3 (ipykernel)",
   "language": "python",
   "name": "python3"
  },
  "language_info": {
   "codemirror_mode": {
    "name": "ipython",
    "version": 3
   },
   "file_extension": ".py",
   "mimetype": "text/x-python",
   "name": "python",
   "nbconvert_exporter": "python",
   "pygments_lexer": "ipython3",
   "version": "3.9.13"
  }
 },
 "nbformat": 4,
 "nbformat_minor": 5
}
