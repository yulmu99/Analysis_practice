{
 "cells": [
  {
   "cell_type": "code",
   "execution_count": null,
   "id": "9c357035-fcda-43cf-a2e2-039a9405a8aa",
   "metadata": {},
   "outputs": [],
   "source": [
    "#리스트 생성 - 대괄호[] 사용 / 콤마(,)로 요소 구분\n",
    "\n",
    "#리스트의 자료형은 class 'list'\n",
    "#list 클래스로 만들어진 객체라는 의미\n",
    "\n",
    "#클래스,객체,메서드란?\n",
    "#비유)\n",
    "#자동차공장 - class -> 실체가 없는 규격같은 존재\n",
    "#자동차(공장에서 생성) - object(객체) -> 규격에 따라서 만들어진 실체\n",
    "#자동차의 기능,동작 (명령어) - method(메서드) -> 객체에서만 쓸 수 있는 함수\n",
    "#클래스마다 메서드가 정의가 되어있어서 각각의 메서드를 필요에 따라 사용\n",
    "\n",
    "list_a = [48,48,33,95]\n",
    "print(type(list_a))\n",
    "print(list_a)"
   ]
  },
  {
   "cell_type": "code",
   "execution_count": null,
   "id": "9e99be52-c8b5-4fe8-b6cc-a73f79f598dd",
   "metadata": {},
   "outputs": [],
   "source": [
    "#빈 리스트(empty list) 생성\n",
    "#[]대괄호만 , 인자 없이 list()\n",
    "\n",
    "#[]와 list()함수의 차이\n",
    "#[]는 값을 일일이 입력\n",
    "#list()함수는 인자로 literable(연속)만 사용 가능"
   ]
  },
  {
   "cell_type": "code",
   "execution_count": null,
   "id": "536bad55-12a1-4745-849e-f0462d9a3028",
   "metadata": {},
   "outputs": [],
   "source": [
    "#리스트 생성 - 문자열.split()\n",
    "\n",
    "list_b = list(map(int,input('숫자를 띄어쓰기로 구분하여 여럿 입력해보세요.').split()))\n",
    "print(type(list_b))\n",
    "print(list_b)"
   ]
  },
  {
   "cell_type": "code",
   "execution_count": null,
   "id": "64af03fc-679f-4996-9a4d-8a8a91d48f0d",
   "metadata": {},
   "outputs": [],
   "source": [
    "#리스트 컴프리헨션(comprehension)\n",
    "\n",
    "#리스트를 좀 더 간편하게 생성하기 위함\n",
    "#[]안에 표현식 for문 / 콜론(:) 사용 X\n",
    "#for문의 조건을 만족할 때마다 표현식으로 자료 하나씩 반복해서 리스트 형태로 생성\n",
    "\n",
    "#동작순서\n",
    "#반복가능한 객체(iterable)로부터 값을 하나 꺼내와서 변수에 담음\n",
    "#요소를 담은 변수를 활용해서 표현식을 실행 /  변수는 사용 할 수도 안할 수도\n",
    "#표현식 결과 값을 리스트 요소에 넣음\n",
    "#iterable로부터 값이 없을 때까지 1~3 과정 반복\n",
    "\n",
    "#list_variable = [expression for 변수 in iterable]\n",
    "\n",
    "#list : [0,1,2,...,9]\n",
    "[i **  2 for i in list(range(10))]\n",
    "\n",
    "list_c = [i for i in range(1,10)]\n",
    "print(list_c)"
   ]
  },
  {
   "cell_type": "code",
   "execution_count": null,
   "id": "a366ec39-dca9-440a-a09e-4dc58f897911",
   "metadata": {},
   "outputs": [],
   "source": [
    "#리스트 컴프리헨션 또 다른 방법\n",
    "\n",
    "#[]대신 list()함수 사용\n",
    "#list_variable = list(expression for 변수 in iterable)\n",
    "\n",
    "#그러나 []방식이 성능이 좋기 때문에 우리는 []형식만 사용하면 됨\n",
    "list_d = list(i ** 3 for i in range(10))\n",
    "print(list_d)"
   ]
  },
  {
   "cell_type": "code",
   "execution_count": null,
   "id": "24d6ced2-fea5-405c-87b1-fff5b8d7b5a7",
   "metadata": {},
   "outputs": [],
   "source": [
    "#제곱 생성 방법1\n",
    "prac_result = [ i**2 for i in range(1,10)]\n",
    "print(type(prac_result))\n",
    "print(prac_result)\n",
    "\n",
    "#방법2\n",
    "prac_result = [ i*i for i in range(1,10)]\n",
    "print(type(prac_result))\n",
    "print(prac_result)"
   ]
  },
  {
   "cell_type": "code",
   "execution_count": null,
   "id": "e413ff6d-dea5-4b9e-be3c-c105e51f606d",
   "metadata": {},
   "outputs": [],
   "source": [
    "#홀수 리스트 생성\n",
    "prac_result2 = [i for i in range(1,10,2)]\n",
    "print(prac_result2)"
   ]
  },
  {
   "cell_type": "code",
   "execution_count": null,
   "id": "d5d3e15c-5989-4b72-b5ff-4e1fca8a2825",
   "metadata": {},
   "outputs": [],
   "source": [
    "prac_result3 = [i for i in 'abcdefg']\n",
    "print(prac_result3)"
   ]
  },
  {
   "cell_type": "code",
   "execution_count": null,
   "id": "68cace5a-9176-4856-b64e-110248c71fc9",
   "metadata": {},
   "outputs": [],
   "source": [
    "#리스트 컴프리헨션 - if \n",
    "\n",
    "#동작순서\n",
    "#iterable로부터 값을 하나 꺼내와서 조건식에 넣습니다\n",
    "#조건식이 True이면 변수를 활용해서 표현식 실행\n",
    "#조건식이 false이면 1부터 다시 시작\n",
    "#표현식 결과 값을 리스트 요소에 넣음\n",
    "#iterable의 값이 없을 때까지 1-3과정을 반복\n",
    "\n",
    "#list_variable = [expression for 변수 in iterable if 조건식]\n",
    "\n",
    "list_p = [i for i in range(10) if i % 3 == 0]\n",
    "print(list_p)\n"
   ]
  },
  {
   "cell_type": "code",
   "execution_count": null,
   "id": "ebf972e8-7687-4531-8e17-ac356f42b0c6",
   "metadata": {},
   "outputs": [],
   "source": [
    "a = ['alpha', 'bravo', 'charlie', 'delta', 'echo', 'foxtrot', 'golf','hotel', 'india']\n",
    "\n",
    "b = [i for i in a if len(i) == 5 ]\n",
    "print(b)\n"
   ]
  },
  {
   "cell_type": "code",
   "execution_count": 35,
   "id": "f4e8d41e-2843-477a-b28d-550635892762",
   "metadata": {},
   "outputs": [
    {
     "name": "stdin",
     "output_type": "stream",
     "text": [
      "정수 두 개 입력하세요: 99 1\n"
     ]
    },
    {
     "name": "stdout",
     "output_type": "stream",
     "text": [
      "첫번째 값의 범위는 1~20입니다.\n"
     ]
    },
    {
     "name": "stdin",
     "output_type": "stream",
     "text": [
      "정수 두 개 입력하세요: 10 99\n"
     ]
    },
    {
     "name": "stdout",
     "output_type": "stream",
     "text": [
      "두번째 값의 범위는 10~30입니다.\n"
     ]
    },
    {
     "name": "stdin",
     "output_type": "stream",
     "text": [
      "정수 두 개 입력하세요: 20 10\n"
     ]
    },
    {
     "name": "stdout",
     "output_type": "stream",
     "text": [
      "첫 번째 입력 값은 두 번째 입력 값보다 작게 입력하세요.\n"
     ]
    },
    {
     "name": "stdin",
     "output_type": "stream",
     "text": [
      "정수 두 개 입력하세요: 10 20\n"
     ]
    },
    {
     "name": "stdout",
     "output_type": "stream",
     "text": [
      "[1024, 4096, 8192, 16384, 32768, 65536, 131072, 524288]\n"
     ]
    }
   ],
   "source": [
    "while True :\n",
    "    num_1st, num_2nd = map(int,input('정수 두 개 입력하세요:').split())\n",
    "    \n",
    "    if num_1st < 1 or num_1st > 20 :\n",
    "        print('첫번째 값의 범위는 1~20입니다.')\n",
    "    elif num_2nd < 10 or num_2nd > 30 :\n",
    "        print('두번째 값의 범위는 10~30입니다.')\n",
    "    elif num_1st >= num_2nd :\n",
    "        print('첫 번째 입력 값은 두 번째 입력 값보다 작게 입력하세요.')\n",
    "    else:\n",
    "        power_of_2 = [2**i for i in range(num_1st,num_2nd)]\n",
    "        del power_of_2[1]\n",
    "        del power_of_2[len(power_of_2) - 2]\n",
    "        print(power_of_2)\n",
    "        break\n",
    "    continue   # if문 실행 후 최종 조건 만족할 때까지 반복 되야 해서"
   ]
  },
  {
   "cell_type": "code",
   "execution_count": null,
   "id": "21eab385-6390-49ea-a063-4ebc265da574",
   "metadata": {},
   "outputs": [],
   "source": [
    "#리스트 컴프리헨션 - for문 여러개\n",
    "\n",
    "#동작순서는 우측에서 좌측으로 진행\n",
    "#[expression for 변수 in iterable for 변수 in iterable]\n",
    "\n",
    "#줄바꿈 가능\n",
    "#[expression for 변수 in iterable\n",
    "#            for 변수 in iterable\n",
    "#            ...]"
   ]
  },
  {
   "cell_type": "code",
   "execution_count": null,
   "id": "ec8aa59c-e841-46ae-b2c9-da7f8612ca1f",
   "metadata": {},
   "outputs": [],
   "source": [
    "#리스트 합치기\n",
    "\n",
    "#방법1\n",
    "prac_result4 = [str(i) for i in range(2,11)] + [i for i in 'JQKA']\n",
    "print(prac_result4)\n",
    "\n",
    "#방법2 / .extend 메서드 활용\n",
    "prac_result4 = [str(i) for i in range(2,11)] \n",
    "prac_result4.extend([i for i in 'JQKA'])\n",
    "print(prac_result4)\n",
    "\n"
   ]
  },
  {
   "cell_type": "code",
   "execution_count": null,
   "id": "d8bf925a-d4b5-41b5-9e6e-8017be91a8cb",
   "metadata": {},
   "outputs": [],
   "source": [
    "#변수 i는 반복수의 역할이고 직접 사용되진 않음\n",
    "\n",
    "prac_result5 = [ prac_result4 for i in range(4)]\n",
    "print(prac_result5)"
   ]
  },
  {
   "cell_type": "code",
   "execution_count": null,
   "id": "b4481c17-ab60-4268-9e39-6d87b3292519",
   "metadata": {},
   "outputs": [],
   "source": [
    "#객체를 담는 변수의 특징\n",
    "\n",
    "prac_result4[0] = 'two'\n",
    "print(prac_result4)\n",
    "print(prac_result5)\n",
    "\n",
    "#prac_result4를 변경했는데 prac_result5도 변경이 됨! 이유는?\n",
    "\n",
    "#메모리는 고유한 주소를 가짐\n",
    "#객체는 메모리 속에서 특정 주소에 위치 /주소를 통해 객체에 접근\n",
    "#result4를 복사해서 result5를 만들었을 때\n",
    "#result4 변수에 담긴 객체 위치를 result5의 리스트 요소 값으로 복사한 것\n",
    "#즉, result5의 모든 요소가 result4 변수가 가지고 있던 메모리상의 객체의 위치를 복사한 것\n",
    "#그래서 둘의 메모리상 위치는 동일하므로 result4의 요소가 변경되면 result5도 변경\n",
    "\n",
    "#이렇게 되면 원하지 않은 값의 변화가 생기는 단점이 발생..."
   ]
  },
  {
   "cell_type": "code",
   "execution_count": null,
   "id": "34f00e19-6748-44f0-942a-7650854a786d",
   "metadata": {},
   "outputs": [],
   "source": [
    "#id()내장 함수\n",
    "#객체의 메모리 주소 조회\n",
    "#객체마다 고유한 정수 값(메모리 주소) 가짐\n",
    "#즉, id()함수 반환값이 같다면 같은 객체라는 의미\n",
    "\n",
    "print('prac_result의 id:', id(prac_result4))\n",
    "\n",
    "for i, v in enumerate(prac_result5):\n",
    "    print('prac_result5[',i,'] : ' ,id(v), sep=\"\")\n",
    "\n",
    "#result4와 result5의 id()의 반환값 같음 -> 둘은 같은 객체"
   ]
  },
  {
   "cell_type": "code",
   "execution_count": null,
   "id": "efb68d07-d15e-450f-a303-a5c1a0223a32",
   "metadata": {},
   "outputs": [],
   "source": [
    "#기존 리스트의 전체 범위의 슬라이싱 결과는 같은 객체?\n",
    "#No! 새로운 객체 생성\n",
    "#같은 값을 가져오는 겉 같아보이지만 새로운 객체를 생성하는 것\n",
    "#list 자료형이 유일하게 요소 변경 가능(mutable) / tuple, range,str은 생성, 변경 불가(immutable)\n",
    "#immutable은 요소의 변경이 불가능하므로 슬라이싱이라는 것 자체는\n",
    "#새로운 객체를 생성해야 하는 것\n",
    "\n",
    "prac_result6 = [prac_result4[:] for _ in range(4)]\n",
    "\n",
    "print('prac_result4의 id:',id(prac_result4))\n",
    "for i,v in enumerate(prac_result6):\n",
    "    print('prac_result6[',i,'] : ' ,id(v), sep=\"\")\n"
   ]
  },
  {
   "cell_type": "code",
   "execution_count": null,
   "id": "2f1b59ca-be7d-4ef1-b594-8482aedada83",
   "metadata": {},
   "outputs": [],
   "source": [
    "#[1,2,3,4,5,6,7,8,9]\n",
    "old_list = list(range(10))\n",
    "new_list = old_list[:]\n",
    "\n",
    "print(id(old_list))\n",
    "print(id(new_list))\n",
    "print(old_list is new_list)  #is연산자 -> id()값 비교\n",
    "print(old_list == new_list)  #== -> 값에 대한 비교 / id()값 말고"
   ]
  },
  {
   "cell_type": "code",
   "execution_count": null,
   "id": "521f66d1-75bc-4e71-ad00-e2b3066053d6",
   "metadata": {},
   "outputs": [],
   "source": [
    "#참고\n",
    "#tuple,str은 불변(immutable)\n",
    "#따라서 요소가 동일하다면 재사용해도 문제가 없음 /같은 주소를 바라보고 있어도 됨\n",
    "#파이썬에서 효율을 위해서 동일하게 주소 복사를 하기도 함\n",
    "\n",
    "#list는 가변(mutable)이므로 요소가 동일해도 주소는 달라야 함\n",
    "#tuple,str은 불변(immutable)이라서 요소가 동일하면 주소가 같을 수 있음\n",
    "\n",
    "#(1,2,3,4,5,6,7,8,9)\n",
    "old_tuple = tuple(range(10))\n",
    "new_tuple = old_tuple[:]\n",
    "\n",
    "print(id(old_tuple))\n",
    "print(id(new_tuple))\n",
    "print(old_tuple is new_tuple)  \n",
    "print(old_tuple == new_tuple)  \n"
   ]
  },
  {
   "cell_type": "code",
   "execution_count": null,
   "id": "43f9e7b3-4f4d-422d-886a-6b59383d871b",
   "metadata": {},
   "outputs": [],
   "source": [
    "e = 256\n",
    "h = 256\n",
    "e is h\n"
   ]
  },
  {
   "cell_type": "code",
   "execution_count": null,
   "id": "4cc2325e-1210-4eee-b075-d2ac35691801",
   "metadata": {},
   "outputs": [],
   "source": [
    "#256이하는 효율을 위해서 같은 객체로\n",
    "\n",
    "g = 257\n",
    "i = 257\n",
    "g is i\n"
   ]
  },
  {
   "cell_type": "code",
   "execution_count": null,
   "id": "c60258df-a564-48fa-b501-09c14c249477",
   "metadata": {},
   "outputs": [],
   "source": [
    "#리스트 변수를 할당해서 복사\n",
    "#한 변수를 다른 변수에 대입하면 해당 변수의 메모리 주소 정보를 복사\n",
    "#즉, 두 변수는 동일한 객체를 바라봄\n",
    "\n",
    "list_e = [i for i in range(10)]\n",
    "print(list_e)\n",
    "\n",
    "list_f = list_e\n",
    "print(list_f)\n",
    "\n",
    "print(id(list_e))\n",
    "print(id(list_f))"
   ]
  },
  {
   "cell_type": "code",
   "execution_count": null,
   "id": "5c073f33-dc75-4890-af7b-b26248f22d78",
   "metadata": {},
   "outputs": [],
   "source": [
    "#리스트 복사\n",
    "#.copy()메서드 \n",
    "#리스트 객체를 새롭게 복사  / 리스트 슬라이싱과 같음 \n",
    "#반환값이 새로운 객체가 됨\n",
    "\n",
    "list_g = list(range(10))\n",
    "list_h = list_g.copy()\n",
    "\n",
    "print(id(list_g))\n",
    "print(id(list_h))\n",
    "print(list_g is list_h )\n",
    "\n",
    "#copy()메서드로 만든 객체는 새로운 객체"
   ]
  },
  {
   "cell_type": "code",
   "execution_count": null,
   "id": "1a95c0de-2fd4-4383-96ab-e89c495e75f3",
   "metadata": {},
   "outputs": [],
   "source": [
    "#중첩 리스트\n",
    "\n",
    "#for문\n",
    "easy_list = [[1,2,3,4,5],[3,4]]\n",
    "for item in easy_list:\n",
    "    for i in item:\n",
    "        print(i)\n",
    "        \n",
    "#while문\n",
    "easy_list = [[1,2,3,4,5],[3,4]]\n",
    "i = 0   #easy_list의 인덱스용\n",
    "\n",
    "while i < len(easy_list):\n",
    "    j = 0   #easy_list[0],easy_list[1] 인덱스용\n",
    "    while j <len(easy_list[i]):\n",
    "        print(easy_list[i][j])\n",
    "        j += 1\n",
    "    i += 1\n"
   ]
  },
  {
   "cell_type": "code",
   "execution_count": null,
   "id": "06b2c5e9-2f21-4dc5-8da2-79aedf466cd2",
   "metadata": {},
   "outputs": [],
   "source": [
    "##중첩리스트인 경우 -> 얕은 복사, 깊은 복사\n",
    "\n",
    "#얕은 복사(shallow copy)\n",
    "\n",
    "#리스트에 애스터리스크(*)를 사용\n",
    "#리스트 내에 있는 값을 그대로 복사\n",
    "\n",
    "list_i = [[0]]*3\n",
    "print(list_i)\n",
    "list_i[0][0] =999 #list_i의 첫 요소 리스트에서 첫 번째 값 0을 999로 변경\n",
    "\n",
    "print(list_i)\n",
    "\n",
    "#리스트 내에 있는 모든 요소는 서로 같은 객체\n",
    "#단 하나의 요소만 바꿨지만 모든 요소의 값이 변경\n",
    "\n",
    "list_i[0][0] is list_i[1][0]\n",
    "list_i[1][0] is list_i[2][0]\n",
    "list_i[0][0] is list_i[2][0]\n"
   ]
  },
  {
   "cell_type": "code",
   "execution_count": null,
   "id": "148b117e-a228-4515-85d0-1a7b0485207b",
   "metadata": {},
   "outputs": [],
   "source": [
    "#슬라이싱,copy()메서드를 통한 복사도 얕은 복사\n",
    "list_j = [[1,2],[3,4]]\n",
    "list_k = list_j[:]\n",
    "print(list_k[0] is list_j[0])\n",
    "\n",
    "list_l = [[5,6],[7,8]]\n",
    "list_m = list_l.copy()\n",
    "print(list_l[0] is list_m[0])\n",
    "\n",
    "#겉에 있는 내용은 새롭게 복사한게 됬는데 \n",
    "#실제 복사한 내용은 똑같음\n",
    "\n",
    "#l의 주소값이 메모리에 저장 -> l속에 [5,6] , [7,8]이 각각 주소값을 가짐\n",
    "#l을 복사해서 m을 만들면 / .copy(),[:]\n",
    "#m의 주소값은 새로운 객체로 생성 \n",
    "#그러나 l속에 [5,6] , [7,8]은 l속에 [5,6] , [7,8]과 같은 주소값을 가짐\n",
    "#그래서 겉으로는 새로운 객체가 됬지만 속은 같은 객체\n",
    "\n"
   ]
  },
  {
   "cell_type": "code",
   "execution_count": null,
   "id": "b8308c61-fc51-4ab7-ab23-633822138249",
   "metadata": {},
   "outputs": [],
   "source": [
    "#깊은 복사(deep copy)\n",
    "\n",
    "#안에 내용물까지 새롭게 복사하기 위해서\n",
    "#리스트 내 요소가 메모리 주소를 담고 있는 객체라도 객체를 완전하게 새롭게 복사\n",
    "#전혀 다른 메모리 공간을 차지하는 완전한 리스트로 복사\n",
    "#두 리스트 간에 값은 같으나(==) 객체는 완전 다름\n",
    "\n",
    "##deepcopy()를 위해서는 copy라이브러리 필요\n",
    "#copy라이브러리는 표준 라이브러리로 따로 설치않고 사용\n",
    "#import로 불러옴\n",
    "\n",
    "import copy\n",
    "list_n = [[9,10],[11,12]]\n",
    "list_o =copy.deepcopy(list_n)\n",
    "print(list_n[0] is list_o)\n",
    "\n",
    "#deepcopy대상 리스트 값 변경했을 때\n",
    "#deepcopy로 복사된 리스트는 서로 완전 다른 객체\n",
    "list_n[0][1] = 999\n",
    "print(list_n)\n",
    "print(list_o)"
   ]
  },
  {
   "cell_type": "code",
   "execution_count": null,
   "id": "49a859a7-f3ba-4a87-ad0b-0c43bf515216",
   "metadata": {},
   "outputs": [],
   "source": [
    "l1 = [1,2,[3,4]]\n",
    "l2 = l1.copy\n",
    "\n",
    "l1 is l2\n"
   ]
  },
  {
   "cell_type": "code",
   "execution_count": null,
   "id": "4b292d7c-b8c0-41db-bb38-c610f7479f6a",
   "metadata": {},
   "outputs": [],
   "source": [
    "#겉 리스트는 새로운 객체로 복사\n",
    "\n",
    "l5 = [5,6,(7,8)]\n",
    "l6 = l5.copy()\n",
    "\n",
    "l5 is l6\n"
   ]
  },
  {
   "cell_type": "code",
   "execution_count": null,
   "id": "b686d59f-6e0f-48af-853d-2075f85ad1f4",
   "metadata": {},
   "outputs": [],
   "source": [
    "#속 튜플(리스트)는 기존 리스트와 같은 주소를 바라봄\n",
    "\n",
    "l5[-1] is l6[-1]"
   ]
  },
  {
   "cell_type": "code",
   "execution_count": 69,
   "id": "02cd8531-e4eb-4649-930c-b8ac929cb22f",
   "metadata": {},
   "outputs": [
    {
     "name": "stdin",
     "output_type": "stream",
     "text": [
      "2부터 입력하신 수까지의 모든 소수를 찾는 프로그램입니다. \n",
      "찾는 범위를 입력하세요 100\n"
     ]
    },
    {
     "name": "stdout",
     "output_type": "stream",
     "text": [
      "2 3 5 7 11 13 17 \n",
      "19 23 29 31 37 41 43 \n",
      "47 53 59 61 67 71 73 \n",
      "79 83 89 97 "
     ]
    }
   ],
   "source": [
    "num = int(input('2부터 입력하신 수까지의 모든 소수를 찾는 프로그램입니다. \\n찾는 범위를 입력하세요'))\n",
    "\n",
    "i = 2\n",
    "line = 0\n",
    "while i <= num:\n",
    "    j = 2\n",
    "    while j <= i :\n",
    "        if i % j == 0 :\n",
    "            break\n",
    "        j += 1\n",
    "    if i == j :\n",
    "        print(i,end=' ')\n",
    "        line = line +1\n",
    "        if line == 7 :\n",
    "            line = 0\n",
    "            print()\n",
    "    i+=1\n",
    "    "
   ]
  },
  {
   "cell_type": "code",
   "execution_count": 72,
   "id": "540b566c-467c-41e6-89a2-31dd3f985f44",
   "metadata": {},
   "outputs": [
    {
     "name": "stdout",
     "output_type": "stream",
     "text": [
      "[2, 5, 9, 4, 1, 3, 7, 4, 6, 8]\n"
     ]
    }
   ],
   "source": [
    "#random 라이브러리\n",
    "#임의의 수를 생성할 때 사용하는 표준 라이브러리\n",
    "#random.randint(시작 정수,끝 정수)\n",
    "\n",
    "import random\n",
    "random_list =[random.randint(1,10) for _ in range(10)]\n",
    "print(random_list)"
   ]
  },
  {
   "cell_type": "code",
   "execution_count": 96,
   "id": "077a9ada-0b50-4340-8e23-06297104700d",
   "metadata": {},
   "outputs": [
    {
     "name": "stdin",
     "output_type": "stream",
     "text": [
      "1-100 중 숫자를 맞춰보세요 10\n"
     ]
    },
    {
     "ename": "TypeError",
     "evalue": "'>' not supported between instances of 'list' and 'int'",
     "output_type": "error",
     "traceback": [
      "\u001b[1;31m---------------------------------------------------------------------------\u001b[0m",
      "\u001b[1;31mTypeError\u001b[0m                                 Traceback (most recent call last)",
      "\u001b[1;32m~\\AppData\\Local\\Temp\\ipykernel_8624\\624151212.py\u001b[0m in \u001b[0;36m<module>\u001b[1;34m\u001b[0m\n\u001b[0;32m     11\u001b[0m         \u001b[0mprint\u001b[0m\u001b[1;33m(\u001b[0m\u001b[1;34mf'입력한 숫자는 다음과 같습니다. {input_val}'\u001b[0m\u001b[1;33m)\u001b[0m\u001b[1;33m\u001b[0m\u001b[1;33m\u001b[0m\u001b[0m\n\u001b[0;32m     12\u001b[0m         \u001b[1;32mbreak\u001b[0m\u001b[1;33m\u001b[0m\u001b[1;33m\u001b[0m\u001b[0m\n\u001b[1;32m---> 13\u001b[1;33m     \u001b[1;32melif\u001b[0m \u001b[0minput_val\u001b[0m \u001b[1;33m>\u001b[0m \u001b[0mrandom_value\u001b[0m \u001b[1;33m:\u001b[0m\u001b[1;33m\u001b[0m\u001b[1;33m\u001b[0m\u001b[0m\n\u001b[0m\u001b[0;32m     14\u001b[0m         \u001b[0mprint\u001b[0m\u001b[1;33m(\u001b[0m\u001b[1;34m'그보다 작습니다.'\u001b[0m\u001b[1;33m)\u001b[0m\u001b[1;33m\u001b[0m\u001b[1;33m\u001b[0m\u001b[0m\n\u001b[0;32m     15\u001b[0m     \u001b[1;32melif\u001b[0m \u001b[0minput_val\u001b[0m \u001b[1;33m<\u001b[0m \u001b[0mrandom_value\u001b[0m \u001b[1;33m:\u001b[0m\u001b[1;33m\u001b[0m\u001b[1;33m\u001b[0m\u001b[0m\n",
      "\u001b[1;31mTypeError\u001b[0m: '>' not supported between instances of 'list' and 'int'"
     ]
    }
   ],
   "source": [
    "import random\n",
    "random_value = random.randint(1,100) \n",
    "input_val = []\n",
    "\n",
    "i = 0\n",
    "while True :\n",
    "    input_val.append(input('1-100 중 숫자를 맞춰보세요'))\n",
    "    i += 1\n",
    "    if input_val == random_value :\n",
    "        print(f'{i}번만에 맞추셨습니다.')\n",
    "        print(f'입력한 숫자는 다음과 같습니다. {input_val}')\n",
    "        break\n",
    "    elif input_val > random_value :\n",
    "        print('그보다 작습니다.')\n",
    "    elif input_val < random_value :\n",
    "        print('그보다 큽니다.')\n",
    "    else :\n",
    "        print('1~100 사이의 숫자를 입력하세요.')\n",
    "        \n",
    "        \n",
    "    \n",
    "    \n",
    "    \n",
    "\n"
   ]
  },
  {
   "cell_type": "markdown",
   "id": "0f28f1b3-1ec6-4d4f-9e90-1a1f4ded1509",
   "metadata": {},
   "source": [
    "# "
   ]
  }
 ],
 "metadata": {
  "kernelspec": {
   "display_name": "Python 3 (ipykernel)",
   "language": "python",
   "name": "python3"
  },
  "language_info": {
   "codemirror_mode": {
    "name": "ipython",
    "version": 3
   },
   "file_extension": ".py",
   "mimetype": "text/x-python",
   "name": "python",
   "nbconvert_exporter": "python",
   "pygments_lexer": "ipython3",
   "version": "3.9.13"
  }
 },
 "nbformat": 4,
 "nbformat_minor": 5
}
