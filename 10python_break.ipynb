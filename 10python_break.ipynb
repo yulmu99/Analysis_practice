{
 "cells": [
  {
   "cell_type": "code",
   "execution_count": 7,
   "id": "13d5bf87-4cdb-4401-9e33-c86e99c8aaad",
   "metadata": {},
   "outputs": [
    {
     "name": "stdout",
     "output_type": "stream",
     "text": [
      "5050\n"
     ]
    }
   ],
   "source": [
    "#break문\n",
    "#for,while문에서 해당 반복문을 완전히 빠져나감\n",
    "#보통 반복문 안에서 특정 조건에 부합할 때 빠져나가기 위함 -> if랑 같이 쓰임\n",
    "\n",
    "#While문 - 무한 루프 활용\n",
    "i = 0\n",
    "total = 0\n",
    "while True :\n",
    "    total += i\n",
    "    i += 1\n",
    "    if i > 100 :\n",
    "        break\n",
    "print(total)\n",
    "    "
   ]
  },
  {
   "cell_type": "code",
   "execution_count": 8,
   "id": "5a7dc13a-edb4-4e97-b4b4-3d1c418b84e5",
   "metadata": {},
   "outputs": [
    {
     "name": "stdin",
     "output_type": "stream",
     "text": [
      "q를 입력하면 종료 p\n",
      "q를 입력하면 종료 q\n"
     ]
    },
    {
     "name": "stdout",
     "output_type": "stream",
     "text": [
      "프로그램 종료\n"
     ]
    }
   ],
   "source": [
    "#while문의 무한 루프 + input() \n",
    "#원하는 값을 받을때까지 입력 받는 프로그램 구현\n",
    "\n",
    "while True :\n",
    "    input_value = input('q를 입력하면 종료')\n",
    "    if input_value == 'q' : break\n",
    "print('프로그램 종료')"
   ]
  },
  {
   "cell_type": "code",
   "execution_count": 10,
   "id": "ea6860c0-cda8-4011-827d-a40e34e27ccb",
   "metadata": {},
   "outputs": [
    {
     "name": "stdout",
     "output_type": "stream",
     "text": [
      "1\t3\t5\t7\t9\t11\t13\t15\t17\t19\t21\t23\t25\t27\t29\t31\t33\t35\t37\t39\t41\t43\t45\t47\t49\t51\t53\t55\t57\t59\t61\t63\t65\t67\t69\t71\t73\t75\t77\t79\t81\t83\t85\t87\t89\t91\t93\t95\t97\t99\t"
     ]
    }
   ],
   "source": [
    "#continue\n",
    "#for,while문의 제어흐름을 유지하고, continue가 실행된 반복 횟수의 코드 실행만 건너뜀\n",
    "\n",
    "#break - 해당 조건을 만족하면 아예 조건문을 빠져나옴\n",
    "#continue - 해당 조건이 만족할 때만 실행하지 않고 건너뜀\n",
    "\n",
    "for i in range(100) :   # 0부터 99까지 증가하면서 100번 진행\n",
    "    if i % 2 == 0 :     # i가 짝수일 때\n",
    "        continue        # 아래 코드를 실행하지 않고 건너뜀\n",
    "    print(i , end ='\\t')"
   ]
  },
  {
   "cell_type": "code",
   "execution_count": 10,
   "id": "05925537-76b3-4c30-be99-3fce4ef2f9c7",
   "metadata": {},
   "outputs": [
    {
     "name": "stdin",
     "output_type": "stream",
     "text": [
      "시작하는 정수 입력: 1\n",
      "끝나는 정수 입력: 10\n"
     ]
    },
    {
     "name": "stdout",
     "output_type": "stream",
     "text": [
      "1부터 10까지의 합은 55입니다.\n",
      "1부터 10까지의 합은 55입니다.\n"
     ]
    }
   ],
   "source": [
    "a = int(input('시작하는 정수 입력:'))\n",
    "b = int(input('끝나는 정수 입력:'))\n",
    "\n",
    "total = 0\n",
    "for i in range(a,b+1):\n",
    "    total += i\n",
    "    \n",
    "print(f'{a}부터 {b}까지의 합은 {total}입니다.')\n",
    "\n",
    "i= a\n",
    "total = 0 \n",
    "while i <= b :\n",
    "    total += i\n",
    "    i += 1\n",
    "    \n",
    "print(f'{a}부터 {b}까지의 합은 {total}입니다.')\n",
    "    "
   ]
  },
  {
   "cell_type": "code",
   "execution_count": null,
   "id": "5955afb0-aa37-4e6b-81a8-e25beb481501",
   "metadata": {},
   "outputs": [],
   "source": []
  }
 ],
 "metadata": {
  "kernelspec": {
   "display_name": "Python 3 (ipykernel)",
   "language": "python",
   "name": "python3"
  },
  "language_info": {
   "codemirror_mode": {
    "name": "ipython",
    "version": 3
   },
   "file_extension": ".py",
   "mimetype": "text/x-python",
   "name": "python",
   "nbconvert_exporter": "python",
   "pygments_lexer": "ipython3",
   "version": "3.9.13"
  }
 },
 "nbformat": 4,
 "nbformat_minor": 5
}
