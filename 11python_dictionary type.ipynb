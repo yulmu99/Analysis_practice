{
 "cells": [
  {
   "cell_type": "code",
   "execution_count": 1,
   "id": "4fe6e5cf-dc1c-4b7f-bf8e-78b5253cebcd",
   "metadata": {},
   "outputs": [
    {
     "name": "stdout",
     "output_type": "stream",
     "text": [
      "<class 'dict'>\n",
      "{'key': 'value'}\n",
      "{'key': 'last value'}\n"
     ]
    }
   ],
   "source": [
    "#딕셔너리 자료형\n",
    "\n",
    "#비 시퀀스 자료형\n",
    "#인덱스를 가지지 않는 대신 고유한 키(key)값 가짐\n",
    "#key-value pair\n",
    "#키와 값이 한 쌍을 이룸\n",
    "#중괄호{}활용하여 생성\n",
    "#dictionary_variable = {key:value,key:value,...}\n",
    "\n",
    "dic_var = {'key':'value'}\n",
    "print(type(dic_var))\n",
    "print(dic_var)\n",
    "\n",
    "#() -> tuple / 시퀀스 자료형\n",
    "#[] -> list . 시퀀스 자료형\n",
    "#{} -> dictionary(key:value) or set(key) / 비 시퀀스 자료형 \n",
    "#시퀀스는 순서를 가짐, 인덱스 사용 가능\n",
    "#비 시퀀스는 순서를 안가짐, 인덱스 X , 고유한 키 값 가짐\n",
    "\n",
    "#키 값이 중복되면 가장 최근에 넣은 key-value pair만 남음\n",
    "dic_var = {'key':'value','key':'last value'}\n",
    "print(dic_var)"
   ]
  },
  {
   "cell_type": "code",
   "execution_count": 2,
   "id": "d437ef50-7629-4a63-b83e-47d79e7daf5a",
   "metadata": {},
   "outputs": [
    {
     "name": "stdout",
     "output_type": "stream",
     "text": [
      "[<class 'str'>, <class 'bool'>, <class 'float'>, <class 'tuple'>, <class 'list'>, <class 'dict'>, <class 'set'>]\n"
     ]
    }
   ],
   "source": [
    "#딕셔너리 자료형 특징\n",
    "\n",
    "#키(key)사용가능 - 문자열(str),정수(int),실수(float),불(bool),튜플(tuple) / hashable(불변)\n",
    "#키(key)사용불가 - 리스트(list),딕셔너리(dictionary),집합(set) /unhashable(가변)\n",
    "#키는 고유한 값 이어야 함 -> 인덱스에 겹치는 숫자가 없듯이\n",
    "\n",
    "#값(value)는 모든 자료형 사용가능\n",
    "\n",
    "dict_var = {'key':'value',\n",
    "           1:1,\n",
    "           1.1:1.1,\n",
    "           True:False,\n",
    "           ('key',1,1.1,True):('key',1,1.1,True),\n",
    "           'list' : [1,'가',1.1,True,(1,'나')],\n",
    "           'dict' :  {'key1':'value','key2':'value2'},\n",
    "           'set' : {'key' , 'value'}\n",
    "          }\n",
    "\n",
    "print(list(map(type,dict_var.values())))\n",
    "\n",
    "##참고\n",
    "#bool 자료형은 int 자료형과 동일\n",
    "#True = 1, False = 0\n",
    "\n",
    "           "
   ]
  },
  {
   "cell_type": "code",
   "execution_count": 3,
   "id": "704df719-accf-45b8-bd71-1e9c5c9602d4",
   "metadata": {},
   "outputs": [
    {
     "name": "stdout",
     "output_type": "stream",
     "text": [
      "{}\n",
      "<class 'dict'>\n",
      "{}\n",
      "<class 'dict'>\n"
     ]
    }
   ],
   "source": [
    "#빈 딕셔너리 생성하기\n",
    "\n",
    "#{}만 사용  // 빈 set 만들때는 빈{}가 아닌 set()함수로만 가능\n",
    "#인자 없이 dict()함수 사용\n",
    "\n",
    "empty_dict = {}\n",
    "print(empty_dict)\n",
    "print(type(empty_dict))\n",
    "\n",
    "empty_dict = dict()\n",
    "print(empty_dict)\n",
    "print(type(empty_dict))\n"
   ]
  },
  {
   "cell_type": "code",
   "execution_count": 7,
   "id": "177fbb72-10ca-4571-8416-5edb3a5a5d76",
   "metadata": {},
   "outputs": [
    {
     "name": "stdout",
     "output_type": "stream",
     "text": [
      "{'key': 'value', 'key2': 'value2'}\n"
     ]
    },
    {
     "data": {
      "text/plain": [
       "{'key': 'value', 'key2': 'value2'}"
      ]
     },
     "execution_count": 7,
     "metadata": {},
     "output_type": "execute_result"
    }
   ],
   "source": [
    "#dict()함수로 생성\n",
    "\n",
    "#dict()함수에서 key값은 str로 지정\n",
    "#함수에 사용하는 키워드 인자의 키워드 부분은 따옴표 사용 X\n",
    "\n",
    "dict_A = dict(key='value',key2='value2')\n",
    "print(dict_A)\n",
    "\n",
    "#dict()함수와 시퀀스 객체로 생성\n",
    "#dict()함수에서 키의 유연성을 증가시키기 위함\n",
    "\n",
    "dict([('key','value'),('key2','value2')])\n"
   ]
  },
  {
   "cell_type": "code",
   "execution_count": 8,
   "id": "ae5a253f-d0c3-4700-ba8c-85aa4e6018ac",
   "metadata": {},
   "outputs": [
    {
     "name": "stdout",
     "output_type": "stream",
     "text": [
      "{'key': 'value', 'key2': 'value2', 'key3': 'value3'}\n"
     ]
    }
   ],
   "source": [
    "#zip()함수\n",
    "\n",
    "#키와 값 한 쌍을 갖는 튜플을 요소로 갖는 객체로  딕셔너리 자료형 생성\n",
    " \n",
    "dict_b = dict(zip(['key','key2','key3'],['value','value2','value3']))\n",
    "print(dict_b)"
   ]
  },
  {
   "cell_type": "code",
   "execution_count": 23,
   "id": "a26d624c-369d-49ff-ad2f-cddcd9dd3601",
   "metadata": {},
   "outputs": [
    {
     "name": "stdout",
     "output_type": "stream",
     "text": [
      "[('key1', 'value1'), ('key2', 'value2'), ('key3', 'value3')]\n"
     ]
    }
   ],
   "source": [
    "keys = (\"key1\", \"key2\", \"key3\")\n",
    "values = (\"value1\", \"value2\", \"value3\")\n",
    "sam_list = []\n",
    "for index in range(len(keys)):\n",
    "    sam_list.append((keys[index], values[index]))\n",
    "print(sam_list)"
   ]
  },
  {
   "cell_type": "code",
   "execution_count": 9,
   "id": "ba4168ed-c346-47c8-8c17-e69d04620c7c",
   "metadata": {},
   "outputs": [
    {
     "name": "stdout",
     "output_type": "stream",
     "text": [
      "{'key': 'value', 'key2': 'value2', 'key3': 'value3'}\n",
      "{'key': 'super value', 'key2': 'value2', 'key3': 'value3'}\n"
     ]
    }
   ],
   "source": [
    "#키로 값에 접근하기\n",
    "\n",
    "#인덱싱과 유사 / 다만 인덱싱은 0이상의 정수\n",
    "#딕셔너리 자료형은 키를 활용하여 해당 값에 접근\n",
    "\n",
    "#키로 값 변경하기\n",
    "\n",
    "print(dict_b)\n",
    "dict_b['key'] = 'super value'\n",
    "print(dict_b)"
   ]
  },
  {
   "cell_type": "code",
   "execution_count": 28,
   "id": "f51fb4e4-4cd5-46bd-8c42-a96ad98eb778",
   "metadata": {},
   "outputs": [
    {
     "name": "stdout",
     "output_type": "stream",
     "text": [
      "{'key': 'super value', 'key2': 'value2', 'key3': 'value3'}\n",
      "{'key': 'super value', 'key2': 'value2', 'key3': 'value3', 'new one': 'new value'}\n"
     ]
    }
   ],
   "source": [
    "#키와 값 추가하기\n",
    "print(dict_b)\n",
    "dict_b['new one'] = 'new value'\n",
    "print(dict_b)"
   ]
  },
  {
   "cell_type": "code",
   "execution_count": 29,
   "id": "681562b4-e573-4618-a561-076f1ed412ed",
   "metadata": {},
   "outputs": [
    {
     "name": "stdout",
     "output_type": "stream",
     "text": [
      "{'key': 'super value', 'key2': 'value2', 'key3': 'value3', 'new one': 'new value'}\n"
     ]
    },
    {
     "ename": "KeyError",
     "evalue": "'없는 키'",
     "output_type": "error",
     "traceback": [
      "\u001b[1;31m---------------------------------------------------------------------------\u001b[0m",
      "\u001b[1;31mKeyError\u001b[0m                                  Traceback (most recent call last)",
      "\u001b[1;32m~\\AppData\\Local\\Temp\\ipykernel_8980\\238312928.py\u001b[0m in \u001b[0;36m<module>\u001b[1;34m\u001b[0m\n\u001b[0;32m      1\u001b[0m \u001b[1;31m#없는 키에 접근하는 경우 -> KeyError 발생\u001b[0m\u001b[1;33m\u001b[0m\u001b[1;33m\u001b[0m\u001b[0m\n\u001b[0;32m      2\u001b[0m \u001b[0mprint\u001b[0m\u001b[1;33m(\u001b[0m\u001b[0mdict_b\u001b[0m\u001b[1;33m)\u001b[0m\u001b[1;33m\u001b[0m\u001b[1;33m\u001b[0m\u001b[0m\n\u001b[1;32m----> 3\u001b[1;33m \u001b[0mprint\u001b[0m\u001b[1;33m(\u001b[0m\u001b[0mdict_b\u001b[0m\u001b[1;33m[\u001b[0m\u001b[1;34m'없는 키'\u001b[0m\u001b[1;33m]\u001b[0m\u001b[1;33m)\u001b[0m\u001b[1;33m\u001b[0m\u001b[1;33m\u001b[0m\u001b[0m\n\u001b[0m",
      "\u001b[1;31mKeyError\u001b[0m: '없는 키'"
     ]
    }
   ],
   "source": [
    "#없는 키에 접근하는 경우 -> KeyError 발생\n",
    "print(dict_b)\n",
    "print(dict_b['없는 키'])"
   ]
  },
  {
   "cell_type": "code",
   "execution_count": 10,
   "id": "921fd042-8dd7-46ce-a2e3-0dfd5e3c59ce",
   "metadata": {},
   "outputs": [
    {
     "name": "stdout",
     "output_type": "stream",
     "text": [
      "{'key': 'super value', 'key2': 'value2', 'key3': 'value3'}\n",
      "True\n",
      "True\n"
     ]
    }
   ],
   "source": [
    "#특정 키의 존재 확인\n",
    "\n",
    "#in 연산자 활용 -> 키에 대해서만 찾음\n",
    "\n",
    "print(dict_b)\n",
    "print('key' in dict_b)\n",
    "\n",
    "#특정 값의 존재 확인\n",
    "\n",
    "print('value3' in dict_b.values())"
   ]
  },
  {
   "cell_type": "code",
   "execution_count": 12,
   "id": "9fc3858a-f81e-432a-9978-59b14e8aa2db",
   "metadata": {},
   "outputs": [
    {
     "name": "stdout",
     "output_type": "stream",
     "text": [
      "{'key2': 'value2', 'key3': 'value3'}\n"
     ]
    },
    {
     "ename": "KeyError",
     "evalue": "'key'",
     "output_type": "error",
     "traceback": [
      "\u001b[1;31m---------------------------------------------------------------------------\u001b[0m",
      "\u001b[1;31mKeyError\u001b[0m                                  Traceback (most recent call last)",
      "\u001b[1;32m~\\AppData\\Local\\Temp\\ipykernel_1688\\2163964332.py\u001b[0m in \u001b[0;36m<module>\u001b[1;34m\u001b[0m\n\u001b[0;32m      4\u001b[0m \u001b[1;33m\u001b[0m\u001b[0m\n\u001b[0;32m      5\u001b[0m \u001b[0mprint\u001b[0m\u001b[1;33m(\u001b[0m\u001b[0mdict_b\u001b[0m\u001b[1;33m)\u001b[0m\u001b[1;33m\u001b[0m\u001b[1;33m\u001b[0m\u001b[0m\n\u001b[1;32m----> 6\u001b[1;33m \u001b[1;32mdel\u001b[0m \u001b[0mdict_b\u001b[0m\u001b[1;33m[\u001b[0m\u001b[1;34m'key'\u001b[0m\u001b[1;33m]\u001b[0m\u001b[1;33m\u001b[0m\u001b[1;33m\u001b[0m\u001b[0m\n\u001b[0m\u001b[0;32m      7\u001b[0m \u001b[0mprint\u001b[0m\u001b[1;33m(\u001b[0m\u001b[0mdict_b\u001b[0m\u001b[1;33m)\u001b[0m\u001b[1;33m\u001b[0m\u001b[1;33m\u001b[0m\u001b[0m\n",
      "\u001b[1;31mKeyError\u001b[0m: 'key'"
     ]
    }
   ],
   "source": [
    "#특정 키와 값의 쌍 삭제\n",
    "\n",
    "#del 키워드 사용\n",
    "\n",
    "print(dict_b)\n",
    "del dict_b['key']\n",
    "print(dict_b)\n"
   ]
  },
  {
   "cell_type": "code",
   "execution_count": 39,
   "id": "54562d9d-1a95-442b-a977-57f2ef3f864b",
   "metadata": {},
   "outputs": [
    {
     "name": "stdout",
     "output_type": "stream",
     "text": [
      "{'key2': 'value2', 'key3': 'value3'}\n"
     ]
    },
    {
     "data": {
      "text/plain": [
       "2"
      ]
     },
     "execution_count": 39,
     "metadata": {},
     "output_type": "execute_result"
    }
   ],
   "source": [
    "#키와 값의 쌍 개수 \n",
    "#len()함수\n",
    "\n",
    "print(dict_b)\n",
    "len(dict_b)"
   ]
  },
  {
   "cell_type": "code",
   "execution_count": 40,
   "id": "16429709-f561-4bc2-9463-e82db5c070e3",
   "metadata": {},
   "outputs": [
    {
     "name": "stdin",
     "output_type": "stream",
     "text": [
      "과일 이름을 입력하세요 사과\n"
     ]
    },
    {
     "name": "stdout",
     "output_type": "stream",
     "text": [
      "사과의 가격은 1000원입니다.\n"
     ]
    }
   ],
   "source": [
    "#강사님 ver\n",
    "dict_fruits = {'사과' : 1000 , '바나나' :700 , '오렌지':1500,'파인애플':2000}\n",
    "\n",
    "input_fruit = input('과일 이름을 입력하세요')\n",
    "print(f'{input_fruit}의 가격은 {dict_fruits[input_fruit]}원입니다.')\n"
   ]
  },
  {
   "cell_type": "code",
   "execution_count": 41,
   "id": "7926e1b5-76a2-459f-9052-bc093ca7ec09",
   "metadata": {},
   "outputs": [
    {
     "name": "stdin",
     "output_type": "stream",
     "text": [
      "이름을 기입해주세요. 뽀로로 루피 크롱 스누피\n",
      "몸무게를 입력해주세요. 20.4 16.2 22.3 5.2\n"
     ]
    },
    {
     "name": "stdout",
     "output_type": "stream",
     "text": [
      "{'뽀로로': 20.4, '루피': 16.2, '크롱': 22.3, '스누피': 5.2}\n"
     ]
    }
   ],
   "source": [
    "#강사님 ver\n",
    "names = input('이름을 기입해주세요.').split()\n",
    "weights = map(float,input('몸무게를 입력해주세요.').split())\n",
    "\n",
    "dict_info = dict(zip(names,weights))\n",
    "print(dict_info)\n"
   ]
  },
  {
   "cell_type": "code",
   "execution_count": 42,
   "id": "a6965541-e689-4513-b1ec-94fd69a415fd",
   "metadata": {},
   "outputs": [],
   "source": [
    "#비 시퀀스 -> 정렬되어 있지 않지만 값의 이름(키)가 있어 찾을 수 있음\n",
    "#시퀀스 -> 정렬되어 있어서 값의 이름은 없어도 인덱스로 값에 접근 가능\n"
   ]
  },
  {
   "cell_type": "code",
   "execution_count": null,
   "id": "44969dba-d496-4583-8987-49fb2b6bc377",
   "metadata": {},
   "outputs": [],
   "source": []
  }
 ],
 "metadata": {
  "kernelspec": {
   "display_name": "Python 3 (ipykernel)",
   "language": "python",
   "name": "python3"
  },
  "language_info": {
   "codemirror_mode": {
    "name": "ipython",
    "version": 3
   },
   "file_extension": ".py",
   "mimetype": "text/x-python",
   "name": "python",
   "nbconvert_exporter": "python",
   "pygments_lexer": "ipython3",
   "version": "3.9.13"
  }
 },
 "nbformat": 4,
 "nbformat_minor": 5
}
