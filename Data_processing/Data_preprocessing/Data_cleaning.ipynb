{
 "cells": [
  {
   "cell_type": "markdown",
   "id": "18174699-b97f-4ec0-bb7b-da8745625fee",
   "metadata": {},
   "source": [
    "# Data cleaning\n",
    "> 머신러닝을 제대로 하기 위해서는 데이터가 완결성,유일성,통일성의 특징을 가져야 합니다.\n",
    "- 완결성 \n",
    "> 결측치 제거\n",
    "\n",
    "- 유일성\n",
    "> 중복데이터 제거\n",
    "\n",
    "- 통일성\n",
    "> 이상치 제거, 데이터 단위 통일"
   ]
  },
  {
   "cell_type": "code",
   "execution_count": 1,
   "id": "e9ba1f30-3d40-4d5f-b344-aaa548af8220",
   "metadata": {},
   "outputs": [],
   "source": [
    "#데이터 분석 라이브러리\n",
    "import pandas as pd\n",
    "import numpy as np"
   ]
  },
  {
   "cell_type": "code",
   "execution_count": 2,
   "id": "68baafe6-3a76-4f66-9fbb-fb040c673f1b",
   "metadata": {},
   "outputs": [],
   "source": [
    "#시각화용 라이브러리\n",
    "import matplotlib as mpl\n",
    "import matplotlib.pyplot as plt\n",
    "import seaborn as sns"
   ]
  },
  {
   "cell_type": "code",
   "execution_count": 26,
   "id": "1e064084-98af-458a-bcec-ef0bef085fac",
   "metadata": {},
   "outputs": [],
   "source": [
    "global_font = {'family':'D2Coding','size' : 12 , 'weight':'bold'}\n",
    "\n",
    "#폰트 설정\n",
    "mpl.rc('font',**global_font)\n",
    "\n",
    "#유니코드에서 음수 부호 설정\n",
    "mpl.rc('axes',unicode_minus=False)\n",
    "\n",
    "#주피터 내부에 그림 표시 (magic명령)\n",
    "%matplotlib inline"
   ]
  },
  {
   "cell_type": "markdown",
   "id": "23727e6e-b6a4-41b1-9aa8-1fb68b9cab0b",
   "metadata": {},
   "source": [
    "## 데이터 확인"
   ]
  },
  {
   "cell_type": "code",
   "execution_count": 4,
   "id": "b2f30216-ab24-4730-86ed-8343e4f9bb78",
   "metadata": {},
   "outputs": [
    {
     "name": "stdout",
     "output_type": "stream",
     "text": [
      "C:\\python\n"
     ]
    }
   ],
   "source": [
    "%cd C:\\\\python"
   ]
  },
  {
   "cell_type": "code",
   "execution_count": 5,
   "id": "475c192d-f33b-4b2e-aacc-e13e3733a58b",
   "metadata": {},
   "outputs": [],
   "source": [
    "#타이타닉 데이터 불러오기\n",
    "df = pd.read_csv('datas/Titanic.csv')"
   ]
  },
  {
   "cell_type": "code",
   "execution_count": 6,
   "id": "fa3e1990-0bfe-4ca8-8544-4fadfbfea74d",
   "metadata": {},
   "outputs": [
    {
     "data": {
      "text/plain": [
       "((891, 12),\n",
       " Index(['PassengerId', 'Survived', 'Pclass', 'Name', 'Sex', 'Age', 'SibSp',\n",
       "        'Parch', 'Ticket', 'Fare', 'Cabin', 'Embarked'],\n",
       "       dtype='object'))"
      ]
     },
     "execution_count": 6,
     "metadata": {},
     "output_type": "execute_result"
    }
   ],
   "source": [
    "df.shape ,df.columns"
   ]
  },
  {
   "cell_type": "code",
   "execution_count": 7,
   "id": "aa9fdcbf-e479-4e08-8675-0f8498425ccc",
   "metadata": {},
   "outputs": [
    {
     "data": {
      "text/plain": [
       "Index(['passengerid', 'survived', 'pclass', 'name', 'sex', 'age', 'sibsp',\n",
       "       'parch', 'ticket', 'fare', 'cabin', 'embarked'],\n",
       "      dtype='object')"
      ]
     },
     "execution_count": 7,
     "metadata": {},
     "output_type": "execute_result"
    }
   ],
   "source": [
    "df.columns = [col.lower() for col in df.columns]\n",
    "df.columns"
   ]
  },
  {
   "cell_type": "code",
   "execution_count": 8,
   "id": "681e85c5-d7ea-4bd8-9757-5eb4117c5cb1",
   "metadata": {},
   "outputs": [
    {
     "data": {
      "text/html": [
       "<div>\n",
       "<style scoped>\n",
       "    .dataframe tbody tr th:only-of-type {\n",
       "        vertical-align: middle;\n",
       "    }\n",
       "\n",
       "    .dataframe tbody tr th {\n",
       "        vertical-align: top;\n",
       "    }\n",
       "\n",
       "    .dataframe thead th {\n",
       "        text-align: right;\n",
       "    }\n",
       "</style>\n",
       "<table border=\"1\" class=\"dataframe\">\n",
       "  <thead>\n",
       "    <tr style=\"text-align: right;\">\n",
       "      <th></th>\n",
       "      <th>passengerid</th>\n",
       "      <th>survived</th>\n",
       "      <th>pclass</th>\n",
       "      <th>name</th>\n",
       "      <th>sex</th>\n",
       "      <th>age</th>\n",
       "      <th>sibsp</th>\n",
       "      <th>parch</th>\n",
       "      <th>ticket</th>\n",
       "      <th>fare</th>\n",
       "      <th>cabin</th>\n",
       "      <th>embarked</th>\n",
       "    </tr>\n",
       "  </thead>\n",
       "  <tbody>\n",
       "    <tr>\n",
       "      <th>0</th>\n",
       "      <td>1</td>\n",
       "      <td>0</td>\n",
       "      <td>3</td>\n",
       "      <td>Braund, Mr. Owen Harris</td>\n",
       "      <td>male</td>\n",
       "      <td>22.0</td>\n",
       "      <td>1</td>\n",
       "      <td>0</td>\n",
       "      <td>A/5 21171</td>\n",
       "      <td>7.2500</td>\n",
       "      <td>NaN</td>\n",
       "      <td>S</td>\n",
       "    </tr>\n",
       "    <tr>\n",
       "      <th>1</th>\n",
       "      <td>2</td>\n",
       "      <td>1</td>\n",
       "      <td>1</td>\n",
       "      <td>Cumings, Mrs. John Bradley (Florence Briggs Th...</td>\n",
       "      <td>female</td>\n",
       "      <td>38.0</td>\n",
       "      <td>1</td>\n",
       "      <td>0</td>\n",
       "      <td>PC 17599</td>\n",
       "      <td>71.2833</td>\n",
       "      <td>C85</td>\n",
       "      <td>C</td>\n",
       "    </tr>\n",
       "    <tr>\n",
       "      <th>2</th>\n",
       "      <td>3</td>\n",
       "      <td>1</td>\n",
       "      <td>3</td>\n",
       "      <td>Heikkinen, Miss. Laina</td>\n",
       "      <td>female</td>\n",
       "      <td>26.0</td>\n",
       "      <td>0</td>\n",
       "      <td>0</td>\n",
       "      <td>STON/O2. 3101282</td>\n",
       "      <td>7.9250</td>\n",
       "      <td>NaN</td>\n",
       "      <td>S</td>\n",
       "    </tr>\n",
       "    <tr>\n",
       "      <th>3</th>\n",
       "      <td>4</td>\n",
       "      <td>1</td>\n",
       "      <td>1</td>\n",
       "      <td>Futrelle, Mrs. Jacques Heath (Lily May Peel)</td>\n",
       "      <td>female</td>\n",
       "      <td>35.0</td>\n",
       "      <td>1</td>\n",
       "      <td>0</td>\n",
       "      <td>113803</td>\n",
       "      <td>53.1000</td>\n",
       "      <td>C123</td>\n",
       "      <td>S</td>\n",
       "    </tr>\n",
       "    <tr>\n",
       "      <th>4</th>\n",
       "      <td>5</td>\n",
       "      <td>0</td>\n",
       "      <td>3</td>\n",
       "      <td>Allen, Mr. William Henry</td>\n",
       "      <td>male</td>\n",
       "      <td>35.0</td>\n",
       "      <td>0</td>\n",
       "      <td>0</td>\n",
       "      <td>373450</td>\n",
       "      <td>8.0500</td>\n",
       "      <td>NaN</td>\n",
       "      <td>S</td>\n",
       "    </tr>\n",
       "    <tr>\n",
       "      <th>...</th>\n",
       "      <td>...</td>\n",
       "      <td>...</td>\n",
       "      <td>...</td>\n",
       "      <td>...</td>\n",
       "      <td>...</td>\n",
       "      <td>...</td>\n",
       "      <td>...</td>\n",
       "      <td>...</td>\n",
       "      <td>...</td>\n",
       "      <td>...</td>\n",
       "      <td>...</td>\n",
       "      <td>...</td>\n",
       "    </tr>\n",
       "    <tr>\n",
       "      <th>886</th>\n",
       "      <td>887</td>\n",
       "      <td>0</td>\n",
       "      <td>2</td>\n",
       "      <td>Montvila, Rev. Juozas</td>\n",
       "      <td>male</td>\n",
       "      <td>27.0</td>\n",
       "      <td>0</td>\n",
       "      <td>0</td>\n",
       "      <td>211536</td>\n",
       "      <td>13.0000</td>\n",
       "      <td>NaN</td>\n",
       "      <td>S</td>\n",
       "    </tr>\n",
       "    <tr>\n",
       "      <th>887</th>\n",
       "      <td>888</td>\n",
       "      <td>1</td>\n",
       "      <td>1</td>\n",
       "      <td>Graham, Miss. Margaret Edith</td>\n",
       "      <td>female</td>\n",
       "      <td>19.0</td>\n",
       "      <td>0</td>\n",
       "      <td>0</td>\n",
       "      <td>112053</td>\n",
       "      <td>30.0000</td>\n",
       "      <td>B42</td>\n",
       "      <td>S</td>\n",
       "    </tr>\n",
       "    <tr>\n",
       "      <th>888</th>\n",
       "      <td>889</td>\n",
       "      <td>0</td>\n",
       "      <td>3</td>\n",
       "      <td>Johnston, Miss. Catherine Helen \"Carrie\"</td>\n",
       "      <td>female</td>\n",
       "      <td>NaN</td>\n",
       "      <td>1</td>\n",
       "      <td>2</td>\n",
       "      <td>W./C. 6607</td>\n",
       "      <td>23.4500</td>\n",
       "      <td>NaN</td>\n",
       "      <td>S</td>\n",
       "    </tr>\n",
       "    <tr>\n",
       "      <th>889</th>\n",
       "      <td>890</td>\n",
       "      <td>1</td>\n",
       "      <td>1</td>\n",
       "      <td>Behr, Mr. Karl Howell</td>\n",
       "      <td>male</td>\n",
       "      <td>26.0</td>\n",
       "      <td>0</td>\n",
       "      <td>0</td>\n",
       "      <td>111369</td>\n",
       "      <td>30.0000</td>\n",
       "      <td>C148</td>\n",
       "      <td>C</td>\n",
       "    </tr>\n",
       "    <tr>\n",
       "      <th>890</th>\n",
       "      <td>891</td>\n",
       "      <td>0</td>\n",
       "      <td>3</td>\n",
       "      <td>Dooley, Mr. Patrick</td>\n",
       "      <td>male</td>\n",
       "      <td>32.0</td>\n",
       "      <td>0</td>\n",
       "      <td>0</td>\n",
       "      <td>370376</td>\n",
       "      <td>7.7500</td>\n",
       "      <td>NaN</td>\n",
       "      <td>Q</td>\n",
       "    </tr>\n",
       "  </tbody>\n",
       "</table>\n",
       "<p>891 rows × 12 columns</p>\n",
       "</div>"
      ],
      "text/plain": [
       "     passengerid  survived  pclass  \\\n",
       "0              1         0       3   \n",
       "1              2         1       1   \n",
       "2              3         1       3   \n",
       "3              4         1       1   \n",
       "4              5         0       3   \n",
       "..           ...       ...     ...   \n",
       "886          887         0       2   \n",
       "887          888         1       1   \n",
       "888          889         0       3   \n",
       "889          890         1       1   \n",
       "890          891         0       3   \n",
       "\n",
       "                                                  name     sex   age  sibsp  \\\n",
       "0                              Braund, Mr. Owen Harris    male  22.0      1   \n",
       "1    Cumings, Mrs. John Bradley (Florence Briggs Th...  female  38.0      1   \n",
       "2                               Heikkinen, Miss. Laina  female  26.0      0   \n",
       "3         Futrelle, Mrs. Jacques Heath (Lily May Peel)  female  35.0      1   \n",
       "4                             Allen, Mr. William Henry    male  35.0      0   \n",
       "..                                                 ...     ...   ...    ...   \n",
       "886                              Montvila, Rev. Juozas    male  27.0      0   \n",
       "887                       Graham, Miss. Margaret Edith  female  19.0      0   \n",
       "888           Johnston, Miss. Catherine Helen \"Carrie\"  female   NaN      1   \n",
       "889                              Behr, Mr. Karl Howell    male  26.0      0   \n",
       "890                                Dooley, Mr. Patrick    male  32.0      0   \n",
       "\n",
       "     parch            ticket     fare cabin embarked  \n",
       "0        0         A/5 21171   7.2500   NaN        S  \n",
       "1        0          PC 17599  71.2833   C85        C  \n",
       "2        0  STON/O2. 3101282   7.9250   NaN        S  \n",
       "3        0            113803  53.1000  C123        S  \n",
       "4        0            373450   8.0500   NaN        S  \n",
       "..     ...               ...      ...   ...      ...  \n",
       "886      0            211536  13.0000   NaN        S  \n",
       "887      0            112053  30.0000   B42        S  \n",
       "888      2        W./C. 6607  23.4500   NaN        S  \n",
       "889      0            111369  30.0000  C148        C  \n",
       "890      0            370376   7.7500   NaN        Q  \n",
       "\n",
       "[891 rows x 12 columns]"
      ]
     },
     "execution_count": 8,
     "metadata": {},
     "output_type": "execute_result"
    }
   ],
   "source": [
    "df"
   ]
  },
  {
   "cell_type": "code",
   "execution_count": 9,
   "id": "91bb9053-b188-4b29-adeb-a3e078ea011d",
   "metadata": {},
   "outputs": [
    {
     "data": {
      "text/plain": [
       "Index(['survived', 'pclass', 'name', 'sex', 'age', 'sibsp', 'parch', 'ticket',\n",
       "       'fare', 'cabin', 'embarked'],\n",
       "      dtype='object')"
      ]
     },
     "execution_count": 9,
     "metadata": {},
     "output_type": "execute_result"
    }
   ],
   "source": [
    "# passengerid 삭제\n",
    "df.drop('passengerid', axis=1, inplace=True)\n",
    "df.columns"
   ]
  },
  {
   "cell_type": "markdown",
   "id": "92d1affe-0ac8-4ed7-9b35-b90cadd6fe8f",
   "metadata": {},
   "source": [
    "### 타겟 데이터 확인\n",
    "> 제일 알고 싶은 데이터"
   ]
  },
  {
   "cell_type": "code",
   "execution_count": 11,
   "id": "7eee7abb-a712-4088-b3e3-db4044bce3c4",
   "metadata": {},
   "outputs": [
    {
     "data": {
      "text/plain": [
       "[0, 1, 1, 1, 0]\n",
       "Categories (2, int64): [0, 1]"
      ]
     },
     "execution_count": 11,
     "metadata": {},
     "output_type": "execute_result"
    }
   ],
   "source": [
    "#타겟 데이터의 분포 확인\n",
    "new_survived = pd.Categorical(df['survived'])\n",
    "new_survived[:5]"
   ]
  },
  {
   "cell_type": "code",
   "execution_count": 12,
   "id": "9329c817-a0a5-48d0-b4fc-6934855e1578",
   "metadata": {},
   "outputs": [
    {
     "name": "stdout",
     "output_type": "stream",
     "text": [
      "['Died', 'Survived', 'Survived', 'Survived', 'Died']\n",
      "Categories (2, object): ['Died', 'Survived']\n"
     ]
    },
    {
     "data": {
      "text/html": [
       "<div>\n",
       "<style scoped>\n",
       "    .dataframe tbody tr th:only-of-type {\n",
       "        vertical-align: middle;\n",
       "    }\n",
       "\n",
       "    .dataframe tbody tr th {\n",
       "        vertical-align: top;\n",
       "    }\n",
       "\n",
       "    .dataframe thead th {\n",
       "        text-align: right;\n",
       "    }\n",
       "</style>\n",
       "<table border=\"1\" class=\"dataframe\">\n",
       "  <thead>\n",
       "    <tr style=\"text-align: right;\">\n",
       "      <th></th>\n",
       "      <th>counts</th>\n",
       "      <th>freqs</th>\n",
       "    </tr>\n",
       "    <tr>\n",
       "      <th>categories</th>\n",
       "      <th></th>\n",
       "      <th></th>\n",
       "    </tr>\n",
       "  </thead>\n",
       "  <tbody>\n",
       "    <tr>\n",
       "      <th>Died</th>\n",
       "      <td>549</td>\n",
       "      <td>0.616162</td>\n",
       "    </tr>\n",
       "    <tr>\n",
       "      <th>Survived</th>\n",
       "      <td>342</td>\n",
       "      <td>0.383838</td>\n",
       "    </tr>\n",
       "  </tbody>\n",
       "</table>\n",
       "</div>"
      ],
      "text/plain": [
       "            counts     freqs\n",
       "categories                  \n",
       "Died           549  0.616162\n",
       "Survived       342  0.383838"
      ]
     },
     "execution_count": 12,
     "metadata": {},
     "output_type": "execute_result"
    }
   ],
   "source": [
    "#카테고리 재정의\n",
    "new_survived = new_survived.rename_categories(['Died','Survived'])   \n",
    "\n",
    "print(new_survived[:5])\n",
    "new_survived.describe()\n"
   ]
  },
  {
   "cell_type": "markdown",
   "id": "cef79669-9245-43b9-8c2d-b23dea6d06ac",
   "metadata": {},
   "source": [
    "### 데이터 분리\n",
    "> train data(훈련데이터)<br>\n",
    "> test data(테스트데이터)"
   ]
  },
  {
   "cell_type": "code",
   "execution_count": 13,
   "id": "2145b0eb-f4fb-4a45-a641-b90ca50ff381",
   "metadata": {},
   "outputs": [],
   "source": [
    "#머신러닝 중에 가장 많이 사용되는 모듈 sklearn \n",
    "#중에 model_selection 기능 \n",
    "#중에 train_test_split을 import\n",
    "\n",
    "from sklearn.model_selection import train_test_split"
   ]
  },
  {
   "cell_type": "code",
   "execution_count": 14,
   "id": "40fe9e90-d6cb-40b1-957f-fb5e501ff77b",
   "metadata": {},
   "outputs": [
    {
     "data": {
      "text/html": [
       "<div>\n",
       "<style scoped>\n",
       "    .dataframe tbody tr th:only-of-type {\n",
       "        vertical-align: middle;\n",
       "    }\n",
       "\n",
       "    .dataframe tbody tr th {\n",
       "        vertical-align: top;\n",
       "    }\n",
       "\n",
       "    .dataframe thead th {\n",
       "        text-align: right;\n",
       "    }\n",
       "</style>\n",
       "<table border=\"1\" class=\"dataframe\">\n",
       "  <thead>\n",
       "    <tr style=\"text-align: right;\">\n",
       "      <th></th>\n",
       "      <th>index</th>\n",
       "      <th>pclass</th>\n",
       "      <th>name</th>\n",
       "      <th>sex</th>\n",
       "      <th>age</th>\n",
       "      <th>sibsp</th>\n",
       "      <th>parch</th>\n",
       "      <th>ticket</th>\n",
       "      <th>fare</th>\n",
       "      <th>cabin</th>\n",
       "      <th>embarked</th>\n",
       "    </tr>\n",
       "  </thead>\n",
       "  <tbody>\n",
       "    <tr>\n",
       "      <th>0</th>\n",
       "      <td>709</td>\n",
       "      <td>3</td>\n",
       "      <td>Moubarek, Master. Halim Gonios (\"William George\")</td>\n",
       "      <td>male</td>\n",
       "      <td>NaN</td>\n",
       "      <td>1</td>\n",
       "      <td>1</td>\n",
       "      <td>2661</td>\n",
       "      <td>15.2458</td>\n",
       "      <td>NaN</td>\n",
       "      <td>C</td>\n",
       "    </tr>\n",
       "    <tr>\n",
       "      <th>1</th>\n",
       "      <td>439</td>\n",
       "      <td>2</td>\n",
       "      <td>Kvillner, Mr. Johan Henrik Johannesson</td>\n",
       "      <td>male</td>\n",
       "      <td>31.0</td>\n",
       "      <td>0</td>\n",
       "      <td>0</td>\n",
       "      <td>C.A. 18723</td>\n",
       "      <td>10.5000</td>\n",
       "      <td>NaN</td>\n",
       "      <td>S</td>\n",
       "    </tr>\n",
       "    <tr>\n",
       "      <th>2</th>\n",
       "      <td>840</td>\n",
       "      <td>3</td>\n",
       "      <td>Alhomaki, Mr. Ilmari Rudolf</td>\n",
       "      <td>male</td>\n",
       "      <td>20.0</td>\n",
       "      <td>0</td>\n",
       "      <td>0</td>\n",
       "      <td>SOTON/O2 3101287</td>\n",
       "      <td>7.9250</td>\n",
       "      <td>NaN</td>\n",
       "      <td>S</td>\n",
       "    </tr>\n",
       "    <tr>\n",
       "      <th>3</th>\n",
       "      <td>720</td>\n",
       "      <td>2</td>\n",
       "      <td>Harper, Miss. Annie Jessie \"Nina\"</td>\n",
       "      <td>female</td>\n",
       "      <td>6.0</td>\n",
       "      <td>0</td>\n",
       "      <td>1</td>\n",
       "      <td>248727</td>\n",
       "      <td>33.0000</td>\n",
       "      <td>NaN</td>\n",
       "      <td>S</td>\n",
       "    </tr>\n",
       "    <tr>\n",
       "      <th>4</th>\n",
       "      <td>39</td>\n",
       "      <td>3</td>\n",
       "      <td>Nicola-Yarred, Miss. Jamila</td>\n",
       "      <td>female</td>\n",
       "      <td>14.0</td>\n",
       "      <td>1</td>\n",
       "      <td>0</td>\n",
       "      <td>2651</td>\n",
       "      <td>11.2417</td>\n",
       "      <td>NaN</td>\n",
       "      <td>C</td>\n",
       "    </tr>\n",
       "    <tr>\n",
       "      <th>...</th>\n",
       "      <td>...</td>\n",
       "      <td>...</td>\n",
       "      <td>...</td>\n",
       "      <td>...</td>\n",
       "      <td>...</td>\n",
       "      <td>...</td>\n",
       "      <td>...</td>\n",
       "      <td>...</td>\n",
       "      <td>...</td>\n",
       "      <td>...</td>\n",
       "      <td>...</td>\n",
       "    </tr>\n",
       "    <tr>\n",
       "      <th>174</th>\n",
       "      <td>433</td>\n",
       "      <td>3</td>\n",
       "      <td>Kallio, Mr. Nikolai Erland</td>\n",
       "      <td>male</td>\n",
       "      <td>17.0</td>\n",
       "      <td>0</td>\n",
       "      <td>0</td>\n",
       "      <td>STON/O 2. 3101274</td>\n",
       "      <td>7.1250</td>\n",
       "      <td>NaN</td>\n",
       "      <td>S</td>\n",
       "    </tr>\n",
       "    <tr>\n",
       "      <th>175</th>\n",
       "      <td>773</td>\n",
       "      <td>3</td>\n",
       "      <td>Elias, Mr. Dibo</td>\n",
       "      <td>male</td>\n",
       "      <td>NaN</td>\n",
       "      <td>0</td>\n",
       "      <td>0</td>\n",
       "      <td>2674</td>\n",
       "      <td>7.2250</td>\n",
       "      <td>NaN</td>\n",
       "      <td>C</td>\n",
       "    </tr>\n",
       "    <tr>\n",
       "      <th>176</th>\n",
       "      <td>25</td>\n",
       "      <td>3</td>\n",
       "      <td>Asplund, Mrs. Carl Oscar (Selma Augusta Emilia...</td>\n",
       "      <td>female</td>\n",
       "      <td>38.0</td>\n",
       "      <td>1</td>\n",
       "      <td>5</td>\n",
       "      <td>347077</td>\n",
       "      <td>31.3875</td>\n",
       "      <td>NaN</td>\n",
       "      <td>S</td>\n",
       "    </tr>\n",
       "    <tr>\n",
       "      <th>177</th>\n",
       "      <td>84</td>\n",
       "      <td>2</td>\n",
       "      <td>Ilett, Miss. Bertha</td>\n",
       "      <td>female</td>\n",
       "      <td>17.0</td>\n",
       "      <td>0</td>\n",
       "      <td>0</td>\n",
       "      <td>SO/C 14885</td>\n",
       "      <td>10.5000</td>\n",
       "      <td>NaN</td>\n",
       "      <td>S</td>\n",
       "    </tr>\n",
       "    <tr>\n",
       "      <th>178</th>\n",
       "      <td>10</td>\n",
       "      <td>3</td>\n",
       "      <td>Sandstrom, Miss. Marguerite Rut</td>\n",
       "      <td>female</td>\n",
       "      <td>4.0</td>\n",
       "      <td>1</td>\n",
       "      <td>1</td>\n",
       "      <td>PP 9549</td>\n",
       "      <td>16.7000</td>\n",
       "      <td>G6</td>\n",
       "      <td>S</td>\n",
       "    </tr>\n",
       "  </tbody>\n",
       "</table>\n",
       "<p>179 rows × 11 columns</p>\n",
       "</div>"
      ],
      "text/plain": [
       "     index  pclass                                               name     sex  \\\n",
       "0      709       3  Moubarek, Master. Halim Gonios (\"William George\")    male   \n",
       "1      439       2             Kvillner, Mr. Johan Henrik Johannesson    male   \n",
       "2      840       3                        Alhomaki, Mr. Ilmari Rudolf    male   \n",
       "3      720       2                  Harper, Miss. Annie Jessie \"Nina\"  female   \n",
       "4       39       3                        Nicola-Yarred, Miss. Jamila  female   \n",
       "..     ...     ...                                                ...     ...   \n",
       "174    433       3                         Kallio, Mr. Nikolai Erland    male   \n",
       "175    773       3                                    Elias, Mr. Dibo    male   \n",
       "176     25       3  Asplund, Mrs. Carl Oscar (Selma Augusta Emilia...  female   \n",
       "177     84       2                                Ilett, Miss. Bertha  female   \n",
       "178     10       3                    Sandstrom, Miss. Marguerite Rut  female   \n",
       "\n",
       "      age  sibsp  parch             ticket     fare cabin embarked  \n",
       "0     NaN      1      1               2661  15.2458   NaN        C  \n",
       "1    31.0      0      0         C.A. 18723  10.5000   NaN        S  \n",
       "2    20.0      0      0   SOTON/O2 3101287   7.9250   NaN        S  \n",
       "3     6.0      0      1             248727  33.0000   NaN        S  \n",
       "4    14.0      1      0               2651  11.2417   NaN        C  \n",
       "..    ...    ...    ...                ...      ...   ...      ...  \n",
       "174  17.0      0      0  STON/O 2. 3101274   7.1250   NaN        S  \n",
       "175   NaN      0      0               2674   7.2250   NaN        C  \n",
       "176  38.0      1      5             347077  31.3875   NaN        S  \n",
       "177  17.0      0      0         SO/C 14885  10.5000   NaN        S  \n",
       "178   4.0      1      1            PP 9549  16.7000    G6        S  \n",
       "\n",
       "[179 rows x 11 columns]"
      ]
     },
     "execution_count": 14,
     "metadata": {},
     "output_type": "execute_result"
    }
   ],
   "source": [
    "x = df.drop('survived', axis=1)   #survived column을 제외하고 모든 column\n",
    "y = df['survived']\n",
    "\n",
    "SEED = 42\n",
    "x_tr,x_te,y_tr,y_te = train_test_split(x,y,random_state=SEED, test_size=0.2) #train : 80%, test : 20%, 랜덤하게 분리\n",
    "\n",
    "x_tr\n",
    "x_tr.reset_index(drop=False)   #drop : 기존 index를 column으로 옮길지(False) 버릴지(True)\n",
    "x_te.reset_index(drop=False)"
   ]
  },
  {
   "cell_type": "code",
   "execution_count": 15,
   "id": "01025db6-fe48-4401-9302-ee10d6bbea22",
   "metadata": {},
   "outputs": [
    {
     "data": {
      "text/plain": [
       "((712, 10), (179, 10))"
      ]
     },
     "execution_count": 15,
     "metadata": {},
     "output_type": "execute_result"
    }
   ],
   "source": [
    "x_tr.shape , x_te.shape"
   ]
  },
  {
   "cell_type": "code",
   "execution_count": 16,
   "id": "b3229eed-3494-4234-aae7-23f65014b6a3",
   "metadata": {},
   "outputs": [
    {
     "data": {
      "text/html": [
       "<div>\n",
       "<style scoped>\n",
       "    .dataframe tbody tr th:only-of-type {\n",
       "        vertical-align: middle;\n",
       "    }\n",
       "\n",
       "    .dataframe tbody tr th {\n",
       "        vertical-align: top;\n",
       "    }\n",
       "\n",
       "    .dataframe thead th {\n",
       "        text-align: right;\n",
       "    }\n",
       "</style>\n",
       "<table border=\"1\" class=\"dataframe\">\n",
       "  <thead>\n",
       "    <tr style=\"text-align: right;\">\n",
       "      <th></th>\n",
       "      <th>counts</th>\n",
       "      <th>freqs</th>\n",
       "    </tr>\n",
       "    <tr>\n",
       "      <th>categories</th>\n",
       "      <th></th>\n",
       "      <th></th>\n",
       "    </tr>\n",
       "  </thead>\n",
       "  <tbody>\n",
       "    <tr>\n",
       "      <th>Died</th>\n",
       "      <td>444</td>\n",
       "      <td>0.623596</td>\n",
       "    </tr>\n",
       "    <tr>\n",
       "      <th>Survived</th>\n",
       "      <td>268</td>\n",
       "      <td>0.376404</td>\n",
       "    </tr>\n",
       "  </tbody>\n",
       "</table>\n",
       "</div>"
      ],
      "text/plain": [
       "            counts     freqs\n",
       "categories                  \n",
       "Died           444  0.623596\n",
       "Survived       268  0.376404"
      ]
     },
     "execution_count": 16,
     "metadata": {},
     "output_type": "execute_result"
    }
   ],
   "source": [
    "# survived 카테고리 재정의\n",
    "\n",
    "new_survived = pd.Categorical(y_tr)\n",
    "new_survived = new_survived.rename_categories(['Died','Survived'])\n",
    "new_survived[:5]\n",
    "new_survived.describe()"
   ]
  },
  {
   "cell_type": "markdown",
   "id": "5e8d18b1-c688-414a-ab62-22a1e6a78d5f",
   "metadata": {},
   "source": [
    "## data cleaning"
   ]
  },
  {
   "cell_type": "markdown",
   "id": "517b5134-6621-4281-aa94-63a165b19b36",
   "metadata": {},
   "source": [
    "### 중복데이터 처리"
   ]
  },
  {
   "cell_type": "code",
   "execution_count": null,
   "id": "f2f5fc7b-03b6-4326-8a27-a487da605897",
   "metadata": {},
   "outputs": [],
   "source": [
    "#중복제거_ row"
   ]
  },
  {
   "cell_type": "code",
   "execution_count": 17,
   "id": "d9044a84-978c-4e56-8949-223d513d26fe",
   "metadata": {},
   "outputs": [
    {
     "name": "stdout",
     "output_type": "stream",
     "text": [
      "before:(891, 11)\n",
      "after:(891, 11)\n"
     ]
    }
   ],
   "source": [
    "print(f'before:{df.shape}')\n",
    "df.drop_duplicates(keep='first',inplace=True, ignore_index=True)\n",
    "print(f'after:{df.shape}')"
   ]
  },
  {
   "cell_type": "markdown",
   "id": "df7db275-1821-40ec-8fd0-0870231e709e",
   "metadata": {},
   "source": [
    "둘의 shape이 동일한 것으로 보아 중복값은 없다는 것을 알 수있다."
   ]
  },
  {
   "cell_type": "markdown",
   "id": "3f9526c9-297b-4c2e-bd19-c4f888092b59",
   "metadata": {},
   "source": [
    "### 결측치 \n",
    "> 값이 없는 값\n",
    "- NaN : not a number(숫자가 아닌) -> 값은 있지만 기능을 할 수 없는 값\n",
    "- Null : 아무것도 존재하지 않음\n",
    "- undefined : 정의되지 않음"
   ]
  },
  {
   "cell_type": "markdown",
   "id": "d6cb0bfd-8f24-4501-b44a-dae4d326330d",
   "metadata": {},
   "source": [
    "#### 결측치 탐색"
   ]
  },
  {
   "cell_type": "markdown",
   "id": "f773a070-c903-4eff-8850-f5314b27e370",
   "metadata": {},
   "source": [
    "##### 통계 탐색\n",
    "> train data에 대해서만 탐색 !! \n",
    ">> test data 탐색 XX"
   ]
  },
  {
   "cell_type": "code",
   "execution_count": 18,
   "id": "4df88375-9ff5-455d-bdb3-bd42038e7a96",
   "metadata": {},
   "outputs": [
    {
     "name": "stdout",
     "output_type": "stream",
     "text": [
      "<class 'pandas.core.frame.DataFrame'>\n",
      "Int64Index: 712 entries, 331 to 102\n",
      "Data columns (total 10 columns):\n",
      " #   Column    Non-Null Count  Dtype  \n",
      "---  ------    --------------  -----  \n",
      " 0   pclass    712 non-null    int64  \n",
      " 1   name      712 non-null    object \n",
      " 2   sex       712 non-null    object \n",
      " 3   age       572 non-null    float64\n",
      " 4   sibsp     712 non-null    int64  \n",
      " 5   parch     712 non-null    int64  \n",
      " 6   ticket    712 non-null    object \n",
      " 7   fare      712 non-null    float64\n",
      " 8   cabin     159 non-null    object \n",
      " 9   embarked  710 non-null    object \n",
      "dtypes: float64(2), int64(3), object(5)\n",
      "memory usage: 61.2+ KB\n"
     ]
    }
   ],
   "source": [
    "x_tr.info()"
   ]
  },
  {
   "cell_type": "code",
   "execution_count": 19,
   "id": "9aee9d35-d64c-416d-ae86-ab239db59a07",
   "metadata": {},
   "outputs": [
    {
     "data": {
      "text/plain": [
       "695"
      ]
     },
     "execution_count": 19,
     "metadata": {},
     "output_type": "execute_result"
    }
   ],
   "source": [
    "#전체 결측치의 수\n",
    "x_tr.isnull().sum().sum()"
   ]
  },
  {
   "cell_type": "code",
   "execution_count": 20,
   "id": "76867bbe-85a9-4fcb-94b0-bd1126c5fd1a",
   "metadata": {},
   "outputs": [
    {
     "data": {
      "text/plain": [
       "cabin       553\n",
       "age         140\n",
       "embarked      2\n",
       "pclass        0\n",
       "name          0\n",
       "sex           0\n",
       "sibsp         0\n",
       "parch         0\n",
       "ticket        0\n",
       "fare          0\n",
       "dtype: int64"
      ]
     },
     "execution_count": 20,
     "metadata": {},
     "output_type": "execute_result"
    }
   ],
   "source": [
    "#각 컬럼별 결측치의 수\n",
    "x_tr.isnull().sum().sort_values(ascending=False) "
   ]
  },
  {
   "cell_type": "code",
   "execution_count": 21,
   "id": "c8c7d48c-1af4-4067-be4b-fffffc555793",
   "metadata": {},
   "outputs": [
    {
     "data": {
      "text/plain": [
       "cabin       0.7767\n",
       "age         0.1966\n",
       "embarked    0.0028\n",
       "pclass      0.0000\n",
       "name        0.0000\n",
       "sex         0.0000\n",
       "sibsp       0.0000\n",
       "parch       0.0000\n",
       "ticket      0.0000\n",
       "fare        0.0000\n",
       "dtype: float64"
      ]
     },
     "execution_count": 21,
     "metadata": {},
     "output_type": "execute_result"
    }
   ],
   "source": [
    "#각 컬럼별 결측치의 비율\n",
    "(x_tr.isnull().sum() / x_tr.shape[0]).round(4).sort_values(ascending=False)"
   ]
  },
  {
   "cell_type": "markdown",
   "id": "e1f42f22-dd2b-4ba3-bd04-79ca37fa1078",
   "metadata": {},
   "source": [
    "##### 결측치 그래프"
   ]
  },
  {
   "cell_type": "code",
   "execution_count": 23,
   "id": "b5d79543-7273-44fb-9d13-39a5fb036aac",
   "metadata": {},
   "outputs": [
    {
     "name": "stderr",
     "output_type": "stream",
     "text": [
      "findfont: Font family ['D2Coding'] not found. Falling back to DejaVu Sans.\n"
     ]
    },
    {
     "data": {
      "text/plain": [
       "<AxesSubplot:>"
      ]
     },
     "execution_count": 23,
     "metadata": {},
     "output_type": "execute_result"
    },
    {
     "data": {
      "image/png": "[encoded data removed]",
      "text/plain": [
       "<Figure size 640x480 with 1 Axes>"
      ]
     },
     "metadata": {},
     "output_type": "display_data"
    }
   ],
   "source": [
    "sns.heatmap(df.isnull(),yticklabels = False, cbar =False, cmap='viridis')"
   ]
  },
  {
   "cell_type": "code",
   "execution_count": 27,
   "id": "8752b1ed-99cc-4f86-b8ae-c13d1c910174",
   "metadata": {},
   "outputs": [
    {
     "data": {
      "text/plain": [
       "Text(0.5, 1.0, 'Total Missing Value (%)')"
      ]
     },
     "execution_count": 27,
     "metadata": {},
     "output_type": "execute_result"
    },
    {
     "data": {
      "image/png": "[encoded data removed]",
      "text/plain": [
       "<Figure size 800x600 with 1 Axes>"
      ]
     },
     "metadata": {},
     "output_type": "display_data"
    }
   ],
   "source": [
    "total = x_tr.isnull().sum().sort_values(ascending=False)\n",
    "percent = (x_tr.isnull().sum()/x_tr.isnull().count()).sort_values(ascending=False)\n",
    "missing_data = pd.concat([total, percent], axis=1, keys=['Total', 'Percent'])\n",
    "percent_data = percent.head(20)\n",
    "percent_data.plot(kind=\"bar\", figsize = (8,6), fontsize = 10)\n",
    "\n",
    "plt.xlabel(\"\", fontsize = 20)\n",
    "plt.ylabel(\"\", fontsize = 20)\n",
    "plt.title(\"Total Missing Value (%)\", fontsize = 20)"
   ]
  },
  {
   "cell_type": "code",
   "execution_count": 28,
   "id": "125f2f4b-b287-40fb-bf7b-48b28739ab35",
   "metadata": {},
   "outputs": [],
   "source": [
    "# null 값이면 0, 아니면 1\n",
    "\n",
    "x_tr['hascabin'] = x_tr['cabin'].isnull().apply(lambda x : 0 if x == True else 1)\n",
    "x_tr['hasage'] = x_tr['age'].isnull().apply(lambda x : 0 if x == True else 1)"
   ]
  },
  {
   "cell_type": "code",
   "execution_count": 31,
   "id": "bcfaf4ed-145f-40cc-8710-fdb4371f1068",
   "metadata": {},
   "outputs": [
    {
     "data": {
      "text/html": [
       "<div>\n",
       "<style scoped>\n",
       "    .dataframe tbody tr th:only-of-type {\n",
       "        vertical-align: middle;\n",
       "    }\n",
       "\n",
       "    .dataframe tbody tr th {\n",
       "        vertical-align: top;\n",
       "    }\n",
       "\n",
       "    .dataframe thead th {\n",
       "        text-align: right;\n",
       "    }\n",
       "</style>\n",
       "<table border=\"1\" class=\"dataframe\">\n",
       "  <thead>\n",
       "    <tr style=\"text-align: right;\">\n",
       "      <th></th>\n",
       "      <th>hascabin</th>\n",
       "      <th>cabin</th>\n",
       "    </tr>\n",
       "  </thead>\n",
       "  <tbody>\n",
       "    <tr>\n",
       "      <th>331</th>\n",
       "      <td>1</td>\n",
       "      <td>C124</td>\n",
       "    </tr>\n",
       "    <tr>\n",
       "      <th>733</th>\n",
       "      <td>0</td>\n",
       "      <td>NaN</td>\n",
       "    </tr>\n",
       "    <tr>\n",
       "      <th>382</th>\n",
       "      <td>0</td>\n",
       "      <td>NaN</td>\n",
       "    </tr>\n",
       "    <tr>\n",
       "      <th>704</th>\n",
       "      <td>0</td>\n",
       "      <td>NaN</td>\n",
       "    </tr>\n",
       "    <tr>\n",
       "      <th>813</th>\n",
       "      <td>0</td>\n",
       "      <td>NaN</td>\n",
       "    </tr>\n",
       "  </tbody>\n",
       "</table>\n",
       "</div>"
      ],
      "text/plain": [
       "     hascabin cabin\n",
       "331         1  C124\n",
       "733         0   NaN\n",
       "382         0   NaN\n",
       "704         0   NaN\n",
       "813         0   NaN"
      ]
     },
     "execution_count": 31,
     "metadata": {},
     "output_type": "execute_result"
    }
   ],
   "source": [
    "# 확인\n",
    "x_tr[['hascabin','cabin']].head()"
   ]
  },
  {
   "cell_type": "code",
   "execution_count": 34,
   "id": "e25f2982-acd9-4850-9989-64e09398fcbd",
   "metadata": {},
   "outputs": [
    {
     "name": "stderr",
     "output_type": "stream",
     "text": [
      "findfont: Font family ['D2Coding'] not found. Falling back to DejaVu Sans.\n"
     ]
    },
    {
     "data": {
      "image/png": "[encoded data removed]",
      "text/plain": [
       "<Figure size 800x600 with 1 Axes>"
      ]
     },
     "metadata": {},
     "output_type": "display_data"
    }
   ],
   "source": [
    "#결측치가 있는 데이터와 없는 데이터의 fare 비교\n",
    "data = pd.concat([x_tr['fare'],x_tr['hascabin']],axis =1)\n",
    "f , ax = plt.subplots(figsize=(8,6))\n",
    "fig = sns.boxplot(x='hascabin',y='fare',data=data)"
   ]
  },
  {
   "cell_type": "markdown",
   "id": "938ed1e3-364c-4aaa-a590-0fe534f95208",
   "metadata": {},
   "source": [
    "cabin 값이 있는 사람들이 fare가 높은 경향이 있다."
   ]
  },
  {
   "cell_type": "code",
   "execution_count": 40,
   "id": "e2255216-8a7b-45d7-a4ad-c5833bb3a13a",
   "metadata": {},
   "outputs": [
    {
     "name": "stderr",
     "output_type": "stream",
     "text": [
      "findfont: Font family ['D2Coding'] not found. Falling back to DejaVu Sans.\n"
     ]
    },
    {
     "data": {
      "image/png": "[encoded data removed]",
      "text/plain": [
       "<Figure size 640x480 with 3 Axes>"
      ]
     },
     "metadata": {},
     "output_type": "display_data"
    }
   ],
   "source": [
    "from statsmodels.graphics.mosaicplot import mosaic\n",
    "\n",
    "mosaic(x_tr, ['hascabin', 'pclass'],gap=0.02)\n",
    "plt.show()"
   ]
  },
  {
   "cell_type": "markdown",
   "id": "d8a027d4-6a3f-4765-a592-dd3ff6814a29",
   "metadata": {},
   "source": [
    "pclass가 1일수록 hascabin의 값이 1인 경우가 많다.\n",
    "즉 pclass가 1일수록 cabin 값이 null이 아닐 경우가 많다."
   ]
  },
  {
   "cell_type": "code",
   "execution_count": 43,
   "id": "73195b7e-f731-4982-9d65-93d95a67238d",
   "metadata": {},
   "outputs": [
    {
     "data": {
      "image/png": "[encoded data removed]",
      "text/plain": [
       "<Figure size 800x600 with 1 Axes>"
      ]
     },
     "metadata": {},
     "output_type": "display_data"
    }
   ],
   "source": [
    "data = pd.concat([x_tr['fare'],x_tr['embarked']],axis=1)\n",
    "f , ax = plt.subplots(figsize=(8,6))\n",
    "fig = sns.boxplot(x=x_tr['embarked'],y=x_tr['fare'])"
   ]
  },
  {
   "cell_type": "markdown",
   "id": "d649e2b7-51dd-444e-9dd3-a9b9fe8cbf17",
   "metadata": {},
   "source": [
    "embarked가  C > S > Q 순으로 fare가 높은 경향이 있다.\n"
   ]
  },
  {
   "cell_type": "code",
   "execution_count": 44,
   "id": "062de0b6-7a19-4ac2-ba4d-fb36bffd22f4",
   "metadata": {},
   "outputs": [
    {
     "data": {
      "image/png": "[encoded data removed]",
      "text/plain": [
       "<Figure size 800x600 with 1 Axes>"
      ]
     },
     "metadata": {},
     "output_type": "display_data"
    }
   ],
   "source": [
    "f , ax = plt.subplots(figsize=(8,6))\n",
    "fig = sns.boxplot(x=x_tr['embarked'],y=x_tr['fare'],hue=x_tr['pclass'])"
   ]
  },
  {
   "cell_type": "markdown",
   "id": "c51d548d-c0cb-4eb6-b598-2205cb4c80ea",
   "metadata": {},
   "source": [
    "위 그래프를 보면 embarked(C > S > Q)와 pclass (1 > 2 > 3)을 같이 적용하면, 더욱더 fare가 높은 경향을 보인다.\n",
    "\n",
    "embarked가 Q에는 pclass 3외에는 존재 X pclass 결측치를 3으로 대체하면 좋을 듯 하다."
   ]
  },
  {
   "cell_type": "markdown",
   "id": "2e115d0b-8579-49d1-a045-186ed7254d18",
   "metadata": {},
   "source": [
    "#### 결측치 처리\n",
    "- df.dropna() \n",
    "> axis=0 : row삭제 // axis=1 : column 삭제<br>\n",
    "> df[['column']].dropna(axis=1) : column 삭제<br>\n",
    "> df.dropna(subset=['원하는 행']) : 원하는 행의 결측값이 있는 부분을 기준으로 row 삭제\n",
    "\n",
    "- df.fillna()\n",
    "> df[['column']].fillna(원하는 값) : 원하는 값으로 채우기\n",
    "\n",
    "- df.replace\n",
    "> list_df.replace(np.nan, 원하는 값) : 결측값을 원하는 값으로 변경<br>\n",
    "> df[['column']].replace({'column명' : 원하는 값},{'column명': 원하는 값})"
   ]
  },
  {
   "cell_type": "markdown",
   "id": "244f8626-9f5f-405e-bb58-ad4019fee56e",
   "metadata": {},
   "source": [
    "#### pandas 사용"
   ]
  },
  {
   "cell_type": "markdown",
   "id": "5b865c4e-4691-4b77-bbb9-f6bccbbd8419",
   "metadata": {},
   "source": [
    "##### 제거\n",
    "> 크게 권하지 않는 방법"
   ]
  },
  {
   "cell_type": "code",
   "execution_count": 47,
   "id": "8fa18638-5963-4eef-8e9d-7e29dfef6af2",
   "metadata": {},
   "outputs": [
    {
     "name": "stdout",
     "output_type": "stream",
     "text": [
      "before: (712, 12)\n",
      "after: (143, 12)\n"
     ]
    }
   ],
   "source": [
    "print(f'before: {x_tr.shape}')\n",
    "\n",
    "#결측치 행 제거\n",
    "df_droprows = x_tr.dropna(axis=0)\n",
    "print(f'after: {df_droprows.shape}')"
   ]
  },
  {
   "cell_type": "code",
   "execution_count": 51,
   "id": "ee60d84b-4946-4413-8894-c37ffa918df5",
   "metadata": {},
   "outputs": [
    {
     "name": "stdout",
     "output_type": "stream",
     "text": [
      "before: (712, 12) / isnull().sum(): 695\n",
      "after: (712, 9) / isnull().sum(): 0\n"
     ]
    }
   ],
   "source": [
    "print(f'before: {x_tr.shape} / isnull().sum(): {x_tr.isnull().sum().sum()}')\n",
    "\n",
    "#결측치 열 제거\n",
    "df_dropcols = x_tr.dropna(axis=1)\n",
    "print(f'after: {df_dropcols.shape} / isnull().sum(): {df_dropcols.isnull().sum().sum()}')\n"
   ]
  },
  {
   "cell_type": "markdown",
   "id": "cd8795aa-b9b0-4cc7-84dc-61a9ec97e864",
   "metadata": {},
   "source": [
    "##### 치환"
   ]
  },
  {
   "cell_type": "markdown",
   "id": "0b6cc81a-721d-4b36-9bfe-6998c5c46e1a",
   "metadata": {},
   "source": [
    "##### 수치형 치환"
   ]
  },
  {
   "cell_type": "markdown",
   "id": "9c056537-f89e-4d71-917c-e98c0d966491",
   "metadata": {},
   "source": [
    "평균값 치환"
   ]
  },
  {
   "cell_type": "code",
   "execution_count": 53,
   "id": "6fe947c0-9a3c-4923-abb4-4dfae41b5ba8",
   "metadata": {},
   "outputs": [],
   "source": [
    "x_tr['age_mean'] = x_tr['age'].fillna(x_tr['age'].mean())"
   ]
  },
  {
   "cell_type": "markdown",
   "id": "0ac8ee37-ef02-4d56-a6a7-e06a95444bf3",
   "metadata": {},
   "source": [
    "중앙값 치환"
   ]
  },
  {
   "cell_type": "code",
   "execution_count": 54,
   "id": "f401b8f4-b878-4b6e-9259-95dfe0f0598e",
   "metadata": {},
   "outputs": [],
   "source": [
    "x_tr['age_median'] = x_tr['age'].fillna(x_tr['age'].median())"
   ]
  },
  {
   "cell_type": "code",
   "execution_count": 55,
   "id": "f19d5567-4424-4b14-9d73-7c8c5502833f",
   "metadata": {},
   "outputs": [
    {
     "data": {
      "text/plain": [
       "0"
      ]
     },
     "execution_count": 55,
     "metadata": {},
     "output_type": "execute_result"
    }
   ],
   "source": [
    "x_tr[['age_mean','age_median']].isnull().sum().sum()"
   ]
  },
  {
   "cell_type": "code",
   "execution_count": 62,
   "id": "f1772021-6e84-421d-804a-87b9588938ae",
   "metadata": {},
   "outputs": [
    {
     "data": {
      "text/plain": [
       "<matplotlib.legend.Legend at 0x1cb6e3c99d0>"
      ]
     },
     "execution_count": 62,
     "metadata": {},
     "output_type": "execute_result"
    },
    {
     "data": {
      "image/png": "[encoded data removed]",
      "text/plain": [
       "<Figure size 1000x600 with 1 Axes>"
      ]
     },
     "metadata": {},
     "output_type": "display_data"
    }
   ],
   "source": [
    "#분포 시각화\n",
    "fig, ax = plt.subplots(figsize=(10,6))\n",
    "\n",
    "x_tr['age'].plot(kind='kde',ax=ax, color='blue')\n",
    "x_tr['age_mean'].plot(kind='kde',ax=ax, color='red')\n",
    "x_tr['age_median'].plot(kind='kde',ax=ax, color='green')\n",
    "\n",
    "lines, labels = ax.get_legend_handles_labels()\n",
    "ax.legend(lines, labels, loc='best')"
   ]
  },
  {
   "cell_type": "markdown",
   "id": "c6d3e163-80a9-4528-bf1b-d296cc01b778",
   "metadata": {},
   "source": [
    "raw data랑 차이가 꽤 많이 나는 것으로 보인다.<br>\n",
    " test data가 raw data를 예측하는 정확도가 떨어질 것이다."
   ]
  },
  {
   "cell_type": "code",
   "execution_count": 65,
   "id": "dda853fd-1962-408d-8451-e762b0efa769",
   "metadata": {},
   "outputs": [
    {
     "data": {
      "text/plain": [
       "<matplotlib.legend.Legend at 0x1cb6efeea00>"
      ]
     },
     "execution_count": 65,
     "metadata": {},
     "output_type": "execute_result"
    },
    {
     "data": {
      "image/png": "[encoded data removed]",
      "text/plain": [
       "<Figure size 1000x600 with 1 Axes>"
      ]
     },
     "metadata": {},
     "output_type": "display_data"
    }
   ],
   "source": [
    "#test data에도 적용\n",
    "\n",
    "x_te['age_mean'] = x_te['age'].fillna(x_tr['age'].mean())\n",
    "x_te['age_median'] = x_te['age'].fillna(x_tr['age'].median())\n",
    "\n",
    "# 분포 시각화\n",
    "fig, ax = plt.subplots(figsize=(10,6))\n",
    "\n",
    "x_te['age'].plot(kind='kde', ax=ax, color='blue')\n",
    "x_te['age_mean'].plot(kind='kde', ax=ax, color='red')\n",
    "x_te['age_median'].plot(kind='kde', ax=ax, color='green')\n",
    "\n",
    "lines, labels = ax.get_legend_handles_labels()\n",
    "ax.legend(lines, labels, loc='best')"
   ]
  },
  {
   "cell_type": "markdown",
   "id": "8cc922a6-4639-4bec-b2b0-a56974e6d8a3",
   "metadata": {},
   "source": [
    "랜덤값 치환\n"
   ]
  },
  {
   "cell_type": "code",
   "execution_count": 68,
   "id": "01756855-bc40-4166-8850-a8f57ee184c0",
   "metadata": {},
   "outputs": [
    {
     "data": {
      "text/plain": [
       "age           140\n",
       "age_random      0\n",
       "dtype: int64"
      ]
     },
     "execution_count": 68,
     "metadata": {},
     "output_type": "execute_result"
    }
   ],
   "source": [
    "x_tr['age_random'] =x_tr['age']\n",
    "\n",
    "#random sampling\n",
    "random_sampling = (x_tr['age'].dropna().sample(x_tr['age'].isnull().sum()))  #train data의 결측치 개수만큼 train data에서 랜덤샘플링\n",
    "random_sampling.index = x_tr[lambda x : x['age'].isnull()].index \n",
    "\n",
    "#NA imputation\n",
    "x_tr.loc[x_tr['age'].isnull(),'age_random'] = random_sampling\n",
    "\n",
    "#확인\n",
    "x_tr[['age','age_random']].isnull().sum()"
   ]
  },
  {
   "cell_type": "code",
   "execution_count": 70,
   "id": "f72c63a4-c407-4a53-b200-cee36890ca14",
   "metadata": {},
   "outputs": [
    {
     "data": {
      "text/plain": [
       "<matplotlib.legend.Legend at 0x1cb6f61aa30>"
      ]
     },
     "execution_count": 70,
     "metadata": {},
     "output_type": "execute_result"
    },
    {
     "data": {
      "image/png": "[encoded data removed]",
      "text/plain": [
       "<Figure size 1000x600 with 1 Axes>"
      ]
     },
     "metadata": {},
     "output_type": "display_data"
    }
   ],
   "source": [
    "# 분포 시각화\n",
    "fig, ax = plt.subplots(figsize=(10,6))\n",
    "\n",
    "x_tr['age'].plot(kind='kde', ax=ax, color='blue')\n",
    "x_tr['age_random'].plot(kind='kde', ax=ax, color='brown')\n",
    "\n",
    "lines, labels = ax.get_legend_handles_labels()\n",
    "ax.legend(lines, labels, loc='best')"
   ]
  },
  {
   "cell_type": "code",
   "execution_count": 71,
   "id": "581c0058-b6b1-451e-9255-425cd7d695ce",
   "metadata": {},
   "outputs": [
    {
     "data": {
      "text/plain": [
       "age           37\n",
       "age_random     0\n",
       "dtype: int64"
      ]
     },
     "execution_count": 71,
     "metadata": {},
     "output_type": "execute_result"
    }
   ],
   "source": [
    "#test data에도 적용\n",
    "\n",
    "x_te['age_random'] =x_te['age']\n",
    "\n",
    "#random sampling\n",
    "random_sampling = (x_tr['age'].dropna().sample(x_te['age'].isnull().sum()))  #train data의 결측치 개수만큼 train data에서 랜덤샘플링\n",
    "random_sampling.index = x_te[lambda x : x['age'].isnull()].index \n",
    "\n",
    "#NA imputation\n",
    "x_te.loc[x_te['age'].isnull(),'age_random'] = random_sampling\n",
    "\n",
    "#확인\n",
    "x_te[['age','age_random']].isnull().sum()"
   ]
  },
  {
   "cell_type": "code",
   "execution_count": 72,
   "id": "10f1da10-28db-4de4-9f68-963d51d90630",
   "metadata": {},
   "outputs": [
    {
     "data": {
      "text/plain": [
       "<matplotlib.legend.Legend at 0x1cb6f8b7c40>"
      ]
     },
     "execution_count": 72,
     "metadata": {},
     "output_type": "execute_result"
    },
    {
     "data": {
      "image/png": "[encoded data removed]",
      "text/plain": [
       "<Figure size 1000x600 with 1 Axes>"
      ]
     },
     "metadata": {},
     "output_type": "display_data"
    }
   ],
   "source": [
    "# 분포 시각화\n",
    "fig, ax = plt.subplots(figsize=(10,6))\n",
    "\n",
    "x_te['age'].plot(kind='kde', ax=ax, color='blue')\n",
    "x_te['age_random'].plot(kind='kde', ax=ax, color='brown')\n",
    "\n",
    "lines, labels = ax.get_legend_handles_labels()\n",
    "ax.legend(lines, labels, loc='best')"
   ]
  },
  {
   "cell_type": "markdown",
   "id": "c8cc4906-25d3-4fec-a70b-e98823666495",
   "metadata": {},
   "source": [
    "위의 그래프를 보면 mean/median과 달리 random sample imputation의 경우 원래의 분산 및 분포를 보존한다는 장점을 확인할 수 있다."
   ]
  },
  {
   "cell_type": "markdown",
   "id": "5eb57093-a9e9-4ecf-a742-8c7581d39756",
   "metadata": {},
   "source": [
    "##### 범주형 치환"
   ]
  },
  {
   "cell_type": "markdown",
   "id": "bbe5639f-20c1-44b4-89ee-c3130f65cd83",
   "metadata": {},
   "source": [
    "최빈값 치환"
   ]
  },
  {
   "cell_type": "code",
   "execution_count": 76,
   "id": "343b9193-51c7-469e-8d95-7c375fad156f",
   "metadata": {},
   "outputs": [
    {
     "data": {
      "text/plain": [
       "S      525\n",
       "C      125\n",
       "Q       60\n",
       "NaN      2\n",
       "Name: embarked, dtype: int64"
      ]
     },
     "execution_count": 76,
     "metadata": {},
     "output_type": "execute_result"
    }
   ],
   "source": [
    "#범주별 빈도 확인\n",
    "x_tr['embarked'].value_counts(dropna=False)"
   ]
  },
  {
   "cell_type": "code",
   "execution_count": 80,
   "id": "dd6d2202-e12d-4dd7-88a2-67e50100b09f",
   "metadata": {},
   "outputs": [
    {
     "data": {
      "text/plain": [
       "'S'"
      ]
     },
     "execution_count": 80,
     "metadata": {},
     "output_type": "execute_result"
    }
   ],
   "source": [
    "#embarked column의 최빈값\n",
    "embarked_mode = x_tr['embarked'].mode().values[0]\n",
    "embarked_mode"
   ]
  },
  {
   "cell_type": "code",
   "execution_count": 84,
   "id": "4b4920a1-b9a7-43d9-8490-d5e679c82932",
   "metadata": {},
   "outputs": [
    {
     "name": "stdout",
     "output_type": "stream",
     "text": [
      "embarked           2\n",
      "embarked_filled    0\n",
      "dtype: int64\n",
      "embarked           0\n",
      "embarked_filled    0\n",
      "dtype: int64\n"
     ]
    }
   ],
   "source": [
    "#NA impulation \n",
    "x_tr['embarked_filled'] = x_tr['embarked'].fillna(embarked_mode)\n",
    "x_te['embarked_filled'] = x_te['embarked'].fillna(embarked_mode)\n",
    "\n",
    "#확인\n",
    "print(x_tr[['embarked','embarked_filled']].isnull().sum())\n",
    "print(x_te[['embarked','embarked_filled']].isnull().sum())"
   ]
  },
  {
   "cell_type": "markdown",
   "id": "c88748e1-8187-42b8-aa0c-2780f4123ab9",
   "metadata": {},
   "source": [
    "#### sklearn 사용"
   ]
  },
  {
   "cell_type": "markdown",
   "id": "7bd5d153-5b66-4f20-9102-e6215fd14ab9",
   "metadata": {},
   "source": [
    "##### simpleimputer - 치환\n",
    "\n",
    "> 파라미터\n",
    "\n",
    "- missing_values<br>default값은 np.nan으로 비어있는 값을 채우게 되고 필요시 다른 값을 빈값으로 인식하게 할 수 있다.\n",
    "- strategy<br> 채울 값에 대한 함수; mean, median, most_frequent, constant(따로 지정한 값)\n",
    "- fill_value<br> strategy의 값이 constant일 때, 여기에 정의된 값으로 채움"
   ]
  },
  {
   "cell_type": "code",
   "execution_count": 90,
   "id": "acc491d3-83bd-47d3-80cf-c5e7093cb339",
   "metadata": {},
   "outputs": [
    {
     "data": {
      "text/plain": [
       "age                140\n",
       "age_simple_mean      0\n",
       "dtype: int64"
      ]
     },
     "execution_count": 90,
     "metadata": {},
     "output_type": "execute_result"
    }
   ],
   "source": [
    "from sklearn.impute import SimpleImputer\n",
    "\n",
    "imputer = SimpleImputer(strategy='mean')\n",
    "\n",
    "x_tr['age_simple_mean'] = imputer.fit_transform(x_tr[['age']]) #fit:학습 / transform : 치환\n",
    "x_te['age_simple_mean'] = imputer.transform(x_te[['age']])     #학습 X, 치환만\n",
    "\n",
    "x_tr[['age','age_simple_mean']].isnull().sum()"
   ]
  },
  {
   "cell_type": "markdown",
   "id": "4d11feee-2a67-473b-b05c-da2f367919a1",
   "metadata": {},
   "source": [
    "##### KNNimputer"
   ]
  },
  {
   "cell_type": "code",
   "execution_count": 96,
   "id": "847cf187-5dc1-456a-92e4-33221f090752",
   "metadata": {},
   "outputs": [
    {
     "name": "stdout",
     "output_type": "stream",
     "text": [
      "age        140\n",
      "age_knn      0\n",
      "dtype: int64\n"
     ]
    }
   ],
   "source": [
    "from sklearn.impute import KNNImputer\n",
    "\n",
    "imputer = KNNImputer(n_neighbors =5)\n",
    "\n",
    "x_tr['age_knn'] = imputer.fit_transform(x_tr[['age']])\n",
    "x_te['age_knn'] = imputer.transform(x_te[['age']])\n",
    "\n",
    "print(x_tr[['age','age_knn']].isnull().sum())"
   ]
  },
  {
   "cell_type": "markdown",
   "id": "0b3efe1d-ca01-4d97-9022-2988c09fe121",
   "metadata": {},
   "source": [
    "##### iterativeImputer "
   ]
  },
  {
   "cell_type": "code",
   "execution_count": 102,
   "id": "5cbcceef-147b-42e2-b817-7da61ad0f44e",
   "metadata": {},
   "outputs": [
    {
     "data": {
      "text/plain": [
       "age              140\n",
       "age_iter_none      0\n",
       "dtype: int64"
      ]
     },
     "execution_count": 102,
     "metadata": {},
     "output_type": "execute_result"
    }
   ],
   "source": [
    "from sklearn.experimental import enable_iterative_imputer\n",
    "from sklearn.impute import IterativeImputer\n",
    "\n",
    "imputer = IterativeImputer(random_state=SEED)\n",
    "\n",
    "x_tr['age_iter_none'] = imputer.fit_transform(x_tr[['age']])\n",
    "x_te['age_iter_none'] = imputer.transform(x_te[['age']])\n",
    "\n",
    "x_tr[['age', 'age_iter_none']].isnull().sum()"
   ]
  },
  {
   "cell_type": "code",
   "execution_count": 105,
   "id": "a28d9258-4235-4c03-9c9b-1d37396d07ca",
   "metadata": {},
   "outputs": [
    {
     "data": {
      "text/plain": [
       "age              140\n",
       "age_iter_none      0\n",
       "dtype: int64"
      ]
     },
     "execution_count": 105,
     "metadata": {},
     "output_type": "execute_result"
    }
   ],
   "source": [
    "from sklearn.ensemble import RandomForestRegressor\n",
    "\n",
    "imputer = IterativeImputer(estimator=RandomForestRegressor(verbose=0, random_state=SEED), \n",
    "max_iter=10, verbose=0, imputation_order='ascending', random_state=SEED)\n",
    "\n",
    "x_tr['age_iter_none'] = imputer.fit_transform(x_tr[[\"age\"]])    #fit 할 때는 train data\n",
    "x_te['age_iter_none'] = imputer.transform(x_te[[\"age\"]])        #transform 할 때는 test data\n",
    "\n",
    "x_tr[['age', 'age_iter_none']].isnull().sum()"
   ]
  },
  {
   "cell_type": "markdown",
   "id": "165fe8cc-b47d-4138-83bc-a7ff6d828b84",
   "metadata": {},
   "source": [
    "### 비대칭 데이터"
   ]
  },
  {
   "cell_type": "code",
   "execution_count": 106,
   "id": "17bdbe67-8763-4f5d-973b-8f59a1d761e8",
   "metadata": {},
   "outputs": [
    {
     "data": {
      "text/plain": [
       "4.787316519674893"
      ]
     },
     "execution_count": 106,
     "metadata": {},
     "output_type": "execute_result"
    }
   ],
   "source": [
    "# 왜도\n",
    "df['fare'].skew()"
   ]
  },
  {
   "cell_type": "code",
   "execution_count": 107,
   "id": "867aad35-12b7-4c7a-a822-d4f2358f9886",
   "metadata": {},
   "outputs": [
    {
     "data": {
      "text/plain": [
       "33.39814088089868"
      ]
     },
     "execution_count": 107,
     "metadata": {},
     "output_type": "execute_result"
    }
   ],
   "source": [
    "#첨도\n",
    "df['fare'].kurt()"
   ]
  },
  {
   "cell_type": "code",
   "execution_count": 108,
   "id": "dd020bee-194c-4dc9-bb7e-9aff93b5fef1",
   "metadata": {},
   "outputs": [
    {
     "data": {
      "text/plain": [
       "<seaborn.axisgrid.FacetGrid at 0x1cb72f21fa0>"
      ]
     },
     "execution_count": 108,
     "metadata": {},
     "output_type": "execute_result"
    },
    {
     "data": {
      "image/png": "[encoded data removed]",
      "text/plain": [
       "<Figure size 500x500 with 1 Axes>"
      ]
     },
     "metadata": {},
     "output_type": "display_data"
    }
   ],
   "source": [
    "sns.displot(df['fare'], color = 'b', label ='Skewness : %.2f'%(df['fare'].skew()))"
   ]
  },
  {
   "cell_type": "markdown",
   "id": "6400fd3d-3254-4fad-a70e-e089aab4d550",
   "metadata": {},
   "source": [
    "#### 비대칭 데이터 처리"
   ]
  },
  {
   "cell_type": "code",
   "execution_count": 109,
   "id": "6d7816f6-42c3-4c24-806b-da3e2a1da7b9",
   "metadata": {},
   "outputs": [
    {
     "data": {
      "text/plain": [
       "<seaborn.axisgrid.FacetGrid at 0x1cb6f662340>"
      ]
     },
     "execution_count": 109,
     "metadata": {},
     "output_type": "execute_result"
    },
    {
     "data": {
      "image/png": "[encoded data removed]",
      "text/plain": [
       "<Figure size 500x500 with 1 Axes>"
      ]
     },
     "metadata": {},
     "output_type": "display_data"
    }
   ],
   "source": [
    "df['fare'] = df['fare'].map(lambda i : np.log(i) if i > 0 else 0) # log를 이용하여 비대칭 처리 -> 일반적으로 가장 많이 사용되는 방식이지만 \n",
    "sns.displot(df[\"fare\"], color=\"b\", label=\"Skewness : %.2f\"%(df[\"fare\"].skew())) # 데이터를 변경하는 방식이라서 왜곡이 발생할 수 있어서 최대한 안쓰는 쪽으로 노력해보길\n"
   ]
  },
  {
   "cell_type": "code",
   "execution_count": 110,
   "id": "5ec0205e-033d-4f93-8474-35b48eea2827",
   "metadata": {},
   "outputs": [
    {
     "data": {
      "text/plain": [
       "(0.44310881405404506, 0.641225603709215)"
      ]
     },
     "execution_count": 110,
     "metadata": {},
     "output_type": "execute_result"
    }
   ],
   "source": [
    "df['fare'].skew(), df['fare'].kurt()"
   ]
  },
  {
   "cell_type": "markdown",
   "id": "82a0f67f-1c58-439d-bc94-f8dda31ec179",
   "metadata": {},
   "source": [
    "### 이상치 "
   ]
  },
  {
   "cell_type": "markdown",
   "id": "1e4e69b0-367c-439d-b5ab-3b8a6b900bb5",
   "metadata": {},
   "source": [
    "#### 이상치 확인"
   ]
  },
  {
   "cell_type": "code",
   "execution_count": 111,
   "id": "478427ee-451a-4d46-884c-96dec2b778db",
   "metadata": {},
   "outputs": [
    {
     "data": {
      "text/plain": [
       "(0.38910778230082704, 0.17827415364210353)"
      ]
     },
     "execution_count": 111,
     "metadata": {},
     "output_type": "execute_result"
    }
   ],
   "source": [
    "df['age'].skew() , df['age'].kurt()"
   ]
  },
  {
   "cell_type": "code",
   "execution_count": 112,
   "id": "8e138437-5c21-4fbf-93d2-b1a688a6b44c",
   "metadata": {},
   "outputs": [
    {
     "data": {
      "text/plain": [
       "<AxesSubplot:ylabel='age'>"
      ]
     },
     "execution_count": 112,
     "metadata": {},
     "output_type": "execute_result"
    },
    {
     "data": {
      "image/png": "[encoded data removed]",
      "text/plain": [
       "<Figure size 640x480 with 1 Axes>"
      ]
     },
     "metadata": {},
     "output_type": "display_data"
    }
   ],
   "source": [
    "sns.boxplot(y=df['age'],data=df)"
   ]
  },
  {
   "cell_type": "code",
   "execution_count": 113,
   "id": "b4ce1d6a-2fd0-42da-a34b-d4cd3bf7586a",
   "metadata": {},
   "outputs": [
    {
     "data": {
      "text/plain": [
       "<seaborn.axisgrid.FacetGrid at 0x1cb6f50b730>"
      ]
     },
     "execution_count": 113,
     "metadata": {},
     "output_type": "execute_result"
    },
    {
     "data": {
      "image/png": "[encoded data removed]",
      "text/plain": [
       "<Figure size 500x500 with 1 Axes>"
      ]
     },
     "metadata": {},
     "output_type": "display_data"
    }
   ],
   "source": [
    "sns.displot(df['age'],color='b',label = \"Skewness : %.2f\"%(df[\"age\"].skew()))"
   ]
  },
  {
   "cell_type": "code",
   "execution_count": 114,
   "id": "9ec8d94d-c717-40f0-84b7-9c092dd4176b",
   "metadata": {},
   "outputs": [
    {
     "data": {
      "text/plain": [
       "<AxesSubplot:xlabel='survived', ylabel='age'>"
      ]
     },
     "execution_count": 114,
     "metadata": {},
     "output_type": "execute_result"
    },
    {
     "data": {
      "image/png": "[encoded data removed]",
      "text/plain": [
       "<Figure size 640x480 with 1 Axes>"
      ]
     },
     "metadata": {},
     "output_type": "display_data"
    }
   ],
   "source": [
    "sns.boxplot(x=df['survived'],y=df['age'],data=df)"
   ]
  },
  {
   "cell_type": "code",
   "execution_count": 116,
   "id": "72dd82d6-3469-4967-b5f3-c8fefd8fe2c7",
   "metadata": {},
   "outputs": [
    {
     "data": {
      "text/plain": [
       "survived      \n",
       "0         0.25    21.0\n",
       "          0.75    39.0\n",
       "1         0.25    19.0\n",
       "          0.75    36.0\n",
       "Name: age, dtype: float64"
      ]
     },
     "execution_count": 116,
     "metadata": {},
     "output_type": "execute_result"
    }
   ],
   "source": [
    "#분위수 계산\n",
    "df.groupby(['survived'])['age'].quantile([0.25,0.75])"
   ]
  },
  {
   "cell_type": "code",
   "execution_count": 117,
   "id": "c2b70a1f-fd89-420b-86b5-412fff9bcee5",
   "metadata": {},
   "outputs": [
    {
     "data": {
      "text/plain": [
       "0.25    20.125\n",
       "0.50    28.000\n",
       "0.75    38.000\n",
       "Name: age, dtype: float64"
      ]
     },
     "execution_count": 117,
     "metadata": {},
     "output_type": "execute_result"
    }
   ],
   "source": [
    "df['age'].quantile([0.25, 0.5, 0.75])"
   ]
  },
  {
   "cell_type": "code",
   "execution_count": 125,
   "id": "38d3cfb6-a4be-4baf-8a44-b577569cd494",
   "metadata": {},
   "outputs": [
    {
     "name": "stdout",
     "output_type": "stream",
     "text": [
      "age outliers are values < -6.6875 or > 64.8125\n"
     ]
    }
   ],
   "source": [
    "#boxplot\n",
    "IQR = df['age'].quantile([0.25, 0.75]).values[1] - df['age'].quantile([0.25, 0.75]).values[0]\n",
    "\n",
    "Upper_boundary = df['age'].quantile([0.25, 0.75]).values[1]  + 1.5*IQR #최대값\n",
    "Lower_boundary = df['age'].quantile([0.25, 0.75]).values[0]  - 1.5*IQR #최소값\n",
    "\n",
    "print('age outliers are values < {lowerboundary} or > {upperboundary}'.format(lowerboundary=Lower_boundary,upperboundary=Upper_boundary))"
   ]
  },
  {
   "cell_type": "code",
   "execution_count": 126,
   "id": "80b45620-ee5d-4746-bd89-d82ec4a81686",
   "metadata": {},
   "outputs": [
    {
     "name": "stdout",
     "output_type": "stream",
     "text": [
      "(11, 11) (891, 11)\n"
     ]
    }
   ],
   "source": [
    "cond1 = df['age'] > Upper_boundary   #최대값 이상의 이상치\n",
    "cond2 = df['age'] < Lower_boundary   #최소값 이하의 이상치\n",
    "\n",
    "cond = cond1 | cond2\n",
    "outlier = df.loc[cond]  #이상치\n",
    "print(outlier.shape, df.shape)"
   ]
  },
  {
   "cell_type": "code",
   "execution_count": 127,
   "id": "4938760e-a5ff-47e4-8f63-40395dd1fa19",
   "metadata": {},
   "outputs": [
    {
     "data": {
      "text/html": [
       "<div>\n",
       "<style scoped>\n",
       "    .dataframe tbody tr th:only-of-type {\n",
       "        vertical-align: middle;\n",
       "    }\n",
       "\n",
       "    .dataframe tbody tr th {\n",
       "        vertical-align: top;\n",
       "    }\n",
       "\n",
       "    .dataframe thead th {\n",
       "        text-align: right;\n",
       "    }\n",
       "</style>\n",
       "<table border=\"1\" class=\"dataframe\">\n",
       "  <thead>\n",
       "    <tr style=\"text-align: right;\">\n",
       "      <th></th>\n",
       "      <th>survived</th>\n",
       "      <th>pclass</th>\n",
       "      <th>name</th>\n",
       "      <th>sex</th>\n",
       "      <th>age</th>\n",
       "      <th>sibsp</th>\n",
       "      <th>parch</th>\n",
       "      <th>ticket</th>\n",
       "      <th>fare</th>\n",
       "      <th>cabin</th>\n",
       "      <th>embarked</th>\n",
       "    </tr>\n",
       "  </thead>\n",
       "  <tbody>\n",
       "    <tr>\n",
       "      <th>33</th>\n",
       "      <td>0</td>\n",
       "      <td>2</td>\n",
       "      <td>Wheadon, Mr. Edward H</td>\n",
       "      <td>male</td>\n",
       "      <td>66.0</td>\n",
       "      <td>0</td>\n",
       "      <td>0</td>\n",
       "      <td>C.A. 24579</td>\n",
       "      <td>2.351375</td>\n",
       "      <td>NaN</td>\n",
       "      <td>S</td>\n",
       "    </tr>\n",
       "    <tr>\n",
       "      <th>54</th>\n",
       "      <td>0</td>\n",
       "      <td>1</td>\n",
       "      <td>Ostby, Mr. Engelhart Cornelius</td>\n",
       "      <td>male</td>\n",
       "      <td>65.0</td>\n",
       "      <td>0</td>\n",
       "      <td>1</td>\n",
       "      <td>113509</td>\n",
       "      <td>4.126799</td>\n",
       "      <td>B30</td>\n",
       "      <td>C</td>\n",
       "    </tr>\n",
       "    <tr>\n",
       "      <th>96</th>\n",
       "      <td>0</td>\n",
       "      <td>1</td>\n",
       "      <td>Goldschmidt, Mr. George B</td>\n",
       "      <td>male</td>\n",
       "      <td>71.0</td>\n",
       "      <td>0</td>\n",
       "      <td>0</td>\n",
       "      <td>PC 17754</td>\n",
       "      <td>3.545419</td>\n",
       "      <td>A5</td>\n",
       "      <td>C</td>\n",
       "    </tr>\n",
       "    <tr>\n",
       "      <th>116</th>\n",
       "      <td>0</td>\n",
       "      <td>3</td>\n",
       "      <td>Connors, Mr. Patrick</td>\n",
       "      <td>male</td>\n",
       "      <td>70.5</td>\n",
       "      <td>0</td>\n",
       "      <td>0</td>\n",
       "      <td>370369</td>\n",
       "      <td>2.047693</td>\n",
       "      <td>NaN</td>\n",
       "      <td>Q</td>\n",
       "    </tr>\n",
       "    <tr>\n",
       "      <th>280</th>\n",
       "      <td>0</td>\n",
       "      <td>3</td>\n",
       "      <td>Duane, Mr. Frank</td>\n",
       "      <td>male</td>\n",
       "      <td>65.0</td>\n",
       "      <td>0</td>\n",
       "      <td>0</td>\n",
       "      <td>336439</td>\n",
       "      <td>2.047693</td>\n",
       "      <td>NaN</td>\n",
       "      <td>Q</td>\n",
       "    </tr>\n",
       "  </tbody>\n",
       "</table>\n",
       "</div>"
      ],
      "text/plain": [
       "     survived  pclass                            name   sex   age  sibsp  \\\n",
       "33          0       2           Wheadon, Mr. Edward H  male  66.0      0   \n",
       "54          0       1  Ostby, Mr. Engelhart Cornelius  male  65.0      0   \n",
       "96          0       1       Goldschmidt, Mr. George B  male  71.0      0   \n",
       "116         0       3            Connors, Mr. Patrick  male  70.5      0   \n",
       "280         0       3                Duane, Mr. Frank  male  65.0      0   \n",
       "\n",
       "     parch      ticket      fare cabin embarked  \n",
       "33       0  C.A. 24579  2.351375   NaN        S  \n",
       "54       1      113509  4.126799   B30        C  \n",
       "96       0    PC 17754  3.545419    A5        C  \n",
       "116      0      370369  2.047693   NaN        Q  \n",
       "280      0      336439  2.047693   NaN        Q  "
      ]
     },
     "execution_count": 127,
     "metadata": {},
     "output_type": "execute_result"
    }
   ],
   "source": [
    "outlier.head()"
   ]
  },
  {
   "cell_type": "markdown",
   "id": "04add598-2629-4c83-9db6-ee6083938d42",
   "metadata": {},
   "source": [
    "#### 이상치 처리"
   ]
  },
  {
   "cell_type": "code",
   "execution_count": 128,
   "id": "ebbd7f9e-b49d-4e8e-8dce-89e4a00f3443",
   "metadata": {},
   "outputs": [],
   "source": [
    "df['age'] = df['age'].map(lambda x : Upper_boundary if x > Upper_boundary else x)\n",
    "df['age'] = df['age'].map(lambda x: Lower_boundary if x < Lower_boundary else x)"
   ]
  },
  {
   "cell_type": "code",
   "execution_count": 129,
   "id": "eec86f5a-653c-4616-a7d8-682b2ca09155",
   "metadata": {},
   "outputs": [
    {
     "name": "stdout",
     "output_type": "stream",
     "text": [
      "(0, 11) (891, 11)\n"
     ]
    },
    {
     "data": {
      "text/html": [
       "<div>\n",
       "<style scoped>\n",
       "    .dataframe tbody tr th:only-of-type {\n",
       "        vertical-align: middle;\n",
       "    }\n",
       "\n",
       "    .dataframe tbody tr th {\n",
       "        vertical-align: top;\n",
       "    }\n",
       "\n",
       "    .dataframe thead th {\n",
       "        text-align: right;\n",
       "    }\n",
       "</style>\n",
       "<table border=\"1\" class=\"dataframe\">\n",
       "  <thead>\n",
       "    <tr style=\"text-align: right;\">\n",
       "      <th></th>\n",
       "      <th>survived</th>\n",
       "      <th>pclass</th>\n",
       "      <th>name</th>\n",
       "      <th>sex</th>\n",
       "      <th>age</th>\n",
       "      <th>sibsp</th>\n",
       "      <th>parch</th>\n",
       "      <th>ticket</th>\n",
       "      <th>fare</th>\n",
       "      <th>cabin</th>\n",
       "      <th>embarked</th>\n",
       "    </tr>\n",
       "  </thead>\n",
       "  <tbody>\n",
       "  </tbody>\n",
       "</table>\n",
       "</div>"
      ],
      "text/plain": [
       "Empty DataFrame\n",
       "Columns: [survived, pclass, name, sex, age, sibsp, parch, ticket, fare, cabin, embarked]\n",
       "Index: []"
      ]
     },
     "execution_count": 129,
     "metadata": {},
     "output_type": "execute_result"
    }
   ],
   "source": [
    "#이상치 제거 확인\n",
    "\n",
    "cond1 = df['age'] > Upper_boundary\n",
    "cond2 = df['age'] < Lower_boundary\n",
    "\n",
    "cond = cond1 | cond2\n",
    "outlier = df.loc[cond]\n",
    "print(outlier.shape, df.shape)\n",
    "outlier.head()"
   ]
  },
  {
   "cell_type": "code",
   "execution_count": 130,
   "id": "0abc53ef-5432-43d5-8278-2bcf047fe0ff",
   "metadata": {},
   "outputs": [
    {
     "data": {
      "text/plain": [
       "<AxesSubplot:ylabel='age'>"
      ]
     },
     "execution_count": 130,
     "metadata": {},
     "output_type": "execute_result"
    },
    {
     "data": {
      "image/png": "[encoded data removed]",
      "text/plain": [
       "<Figure size 640x480 with 1 Axes>"
      ]
     },
     "metadata": {},
     "output_type": "display_data"
    }
   ],
   "source": [
    "sns.boxplot(y=df['age'], data=df)"
   ]
  },
  {
   "cell_type": "code",
   "execution_count": 131,
   "id": "bb9dfbc9-6762-45a8-aa9b-ed4a9b72d50c",
   "metadata": {},
   "outputs": [
    {
     "data": {
      "text/plain": [
       "<seaborn.axisgrid.FacetGrid at 0x1cb7498c9a0>"
      ]
     },
     "execution_count": 131,
     "metadata": {},
     "output_type": "execute_result"
    },
    {
     "data": {
      "image/png": "[encoded data removed]",
      "text/plain": [
       "<Figure size 500x500 with 1 Axes>"
      ]
     },
     "metadata": {},
     "output_type": "display_data"
    }
   ],
   "source": [
    "sns.displot(df[\"age\"], color=\"b\", label=\"Skewness : %.2f\"%(df[\"age\"].skew()))"
   ]
  },
  {
   "cell_type": "code",
   "execution_count": 133,
   "id": "69ce36c9-9e6e-4091-b461-e3ea829e4f6b",
   "metadata": {},
   "outputs": [
    {
     "data": {
      "text/plain": [
       "<AxesSubplot:xlabel='survived', ylabel='age'>"
      ]
     },
     "execution_count": 133,
     "metadata": {},
     "output_type": "execute_result"
    },
    {
     "data": {
      "image/png": "[encoded data removed]",
      "text/plain": [
       "<Figure size 640x480 with 1 Axes>"
      ]
     },
     "metadata": {},
     "output_type": "display_data"
    }
   ],
   "source": [
    "sns.boxplot(x=df['survived'], y=df['age'], data=df)"
   ]
  },
  {
   "cell_type": "code",
   "execution_count": null,
   "id": "87b95d2f-a537-405a-b816-295c6c469ef3",
   "metadata": {},
   "outputs": [],
   "source": []
  }
 ],
 "metadata": {
  "kernelspec": {
   "display_name": "Python 3 (ipykernel)",
   "language": "python",
   "name": "python3"
  },
  "language_info": {
   "codemirror_mode": {
    "name": "ipython",
    "version": 3
   },
   "file_extension": ".py",
   "mimetype": "text/x-python",
   "name": "python",
   "nbconvert_exporter": "python",
   "pygments_lexer": "ipython3",
   "version": "3.9.13"
  }
 },
 "nbformat": 4,
 "nbformat_minor": 5
}
