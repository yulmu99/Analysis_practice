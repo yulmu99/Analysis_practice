{
 "cells": [
  {
   "cell_type": "code",
   "execution_count": 1,
   "id": "b2fd1b94-0e29-44e3-9f6f-25812733f36f",
   "metadata": {},
   "outputs": [],
   "source": [
    "import pandas as pd\n",
    "import numpy as np"
   ]
  },
  {
   "cell_type": "code",
   "execution_count": 2,
   "id": "c8bf40a3-022e-431c-b06a-6859a395abce",
   "metadata": {},
   "outputs": [],
   "source": [
    "import matplotlib.pyplot as plt\n",
    "import matplotlib.font_manager as fm\n",
    "import matplotlib as mpl\n",
    "import seaborn as sns"
   ]
  },
  {
   "cell_type": "code",
   "execution_count": 3,
   "id": "add979be-e242-4c29-836e-89cfae3c9a90",
   "metadata": {},
   "outputs": [],
   "source": [
    "global_font = {'family':'D2Coding','size' : 12 , 'weight':'bold'}\n",
    "\n",
    "#폰트 설정\n",
    "mpl.rc('font',**global_font)\n",
    "\n",
    "#유니코드에서 음수 부호 설정\n",
    "mpl.rc('axes',unicode_minus=False)\n",
    "\n",
    "#주피터 내부에 그림 표시 (magic명령)\n",
    "%matplotlib inline"
   ]
  },
  {
   "cell_type": "code",
   "execution_count": 4,
   "id": "f0f1548c-cce5-4820-9834-85a2af941353",
   "metadata": {},
   "outputs": [],
   "source": [
    "plt.rcParams['axes.unicode_minus'] = False\n",
    "plt.rcParams['font.family'] = 'D2Coding'\n",
    "plt.rcParams['axes.grid'] = False"
   ]
  },
  {
   "cell_type": "markdown",
   "id": "e838ba24-42d2-4bc0-a965-8da85b4088fd",
   "metadata": {},
   "source": [
    "## 데이터 확인"
   ]
  },
  {
   "cell_type": "code",
   "execution_count": 5,
   "id": "4c0ff449-fce2-4625-8f59-de9abd5be87a",
   "metadata": {},
   "outputs": [
    {
     "name": "stdout",
     "output_type": "stream",
     "text": [
      "C:\\python\n"
     ]
    }
   ],
   "source": [
    "%cd C:\\\\python"
   ]
  },
  {
   "cell_type": "code",
   "execution_count": 6,
   "id": "09ead75e-4221-4866-b00f-d82d7d58bd7c",
   "metadata": {},
   "outputs": [
    {
     "data": {
      "text/plain": [
       "((891, 12),\n",
       " Index(['PassengerId', 'Survived', 'Pclass', 'Name', 'Sex', 'Age', 'SibSp',\n",
       "        'Parch', 'Ticket', 'Fare', 'Cabin', 'Embarked'],\n",
       "       dtype='object'))"
      ]
     },
     "execution_count": 6,
     "metadata": {},
     "output_type": "execute_result"
    }
   ],
   "source": [
    "df = pd.read_csv('datas/Titanic.csv')\n",
    "df.shape , df.columns"
   ]
  },
  {
   "cell_type": "code",
   "execution_count": 7,
   "id": "de06a7df-6df5-4654-9977-c0878d76f233",
   "metadata": {},
   "outputs": [
    {
     "data": {
      "text/plain": [
       "Index(['passengerid', 'survived', 'pclass', 'name', 'sex', 'age', 'sibsp',\n",
       "       'parch', 'ticket', 'fare', 'cabin', 'embarked'],\n",
       "      dtype='object')"
      ]
     },
     "execution_count": 7,
     "metadata": {},
     "output_type": "execute_result"
    }
   ],
   "source": [
    "df.columns = [col.lower() for col in df.columns]\n",
    "df.columns"
   ]
  },
  {
   "cell_type": "code",
   "execution_count": 8,
   "id": "9c5c89b7-4c4b-4298-8f9c-d9bb337359d9",
   "metadata": {},
   "outputs": [
    {
     "name": "stdout",
     "output_type": "stream",
     "text": [
      "<class 'pandas.core.frame.DataFrame'>\n",
      "RangeIndex: 891 entries, 0 to 890\n",
      "Data columns (total 12 columns):\n",
      " #   Column       Non-Null Count  Dtype  \n",
      "---  ------       --------------  -----  \n",
      " 0   passengerid  891 non-null    int64  \n",
      " 1   survived     891 non-null    int64  \n",
      " 2   pclass       891 non-null    int64  \n",
      " 3   name         891 non-null    object \n",
      " 4   sex          891 non-null    object \n",
      " 5   age          714 non-null    float64\n",
      " 6   sibsp        891 non-null    int64  \n",
      " 7   parch        891 non-null    int64  \n",
      " 8   ticket       891 non-null    object \n",
      " 9   fare         891 non-null    float64\n",
      " 10  cabin        204 non-null    object \n",
      " 11  embarked     889 non-null    object \n",
      "dtypes: float64(2), int64(5), object(5)\n",
      "memory usage: 83.7+ KB\n"
     ]
    }
   ],
   "source": [
    "df.info()"
   ]
  },
  {
   "cell_type": "code",
   "execution_count": 9,
   "id": "b759f3e1-6fda-447f-abed-8ce8e04b21ca",
   "metadata": {},
   "outputs": [
    {
     "data": {
      "text/html": [
       "<div>\n",
       "<style scoped>\n",
       "    .dataframe tbody tr th:only-of-type {\n",
       "        vertical-align: middle;\n",
       "    }\n",
       "\n",
       "    .dataframe tbody tr th {\n",
       "        vertical-align: top;\n",
       "    }\n",
       "\n",
       "    .dataframe thead th {\n",
       "        text-align: right;\n",
       "    }\n",
       "</style>\n",
       "<table border=\"1\" class=\"dataframe\">\n",
       "  <thead>\n",
       "    <tr style=\"text-align: right;\">\n",
       "      <th></th>\n",
       "      <th>passengerid</th>\n",
       "      <th>survived</th>\n",
       "      <th>pclass</th>\n",
       "      <th>age</th>\n",
       "      <th>sibsp</th>\n",
       "      <th>parch</th>\n",
       "      <th>fare</th>\n",
       "    </tr>\n",
       "  </thead>\n",
       "  <tbody>\n",
       "    <tr>\n",
       "      <th>count</th>\n",
       "      <td>891.000000</td>\n",
       "      <td>891.000000</td>\n",
       "      <td>891.000000</td>\n",
       "      <td>714.000000</td>\n",
       "      <td>891.000000</td>\n",
       "      <td>891.000000</td>\n",
       "      <td>891.000000</td>\n",
       "    </tr>\n",
       "    <tr>\n",
       "      <th>mean</th>\n",
       "      <td>446.000000</td>\n",
       "      <td>0.383838</td>\n",
       "      <td>2.308642</td>\n",
       "      <td>29.699118</td>\n",
       "      <td>0.523008</td>\n",
       "      <td>0.381594</td>\n",
       "      <td>32.204208</td>\n",
       "    </tr>\n",
       "    <tr>\n",
       "      <th>std</th>\n",
       "      <td>257.353842</td>\n",
       "      <td>0.486592</td>\n",
       "      <td>0.836071</td>\n",
       "      <td>14.526497</td>\n",
       "      <td>1.102743</td>\n",
       "      <td>0.806057</td>\n",
       "      <td>49.693429</td>\n",
       "    </tr>\n",
       "    <tr>\n",
       "      <th>min</th>\n",
       "      <td>1.000000</td>\n",
       "      <td>0.000000</td>\n",
       "      <td>1.000000</td>\n",
       "      <td>0.420000</td>\n",
       "      <td>0.000000</td>\n",
       "      <td>0.000000</td>\n",
       "      <td>0.000000</td>\n",
       "    </tr>\n",
       "    <tr>\n",
       "      <th>25%</th>\n",
       "      <td>223.500000</td>\n",
       "      <td>0.000000</td>\n",
       "      <td>2.000000</td>\n",
       "      <td>20.125000</td>\n",
       "      <td>0.000000</td>\n",
       "      <td>0.000000</td>\n",
       "      <td>7.910400</td>\n",
       "    </tr>\n",
       "    <tr>\n",
       "      <th>50%</th>\n",
       "      <td>446.000000</td>\n",
       "      <td>0.000000</td>\n",
       "      <td>3.000000</td>\n",
       "      <td>28.000000</td>\n",
       "      <td>0.000000</td>\n",
       "      <td>0.000000</td>\n",
       "      <td>14.454200</td>\n",
       "    </tr>\n",
       "    <tr>\n",
       "      <th>75%</th>\n",
       "      <td>668.500000</td>\n",
       "      <td>1.000000</td>\n",
       "      <td>3.000000</td>\n",
       "      <td>38.000000</td>\n",
       "      <td>1.000000</td>\n",
       "      <td>0.000000</td>\n",
       "      <td>31.000000</td>\n",
       "    </tr>\n",
       "    <tr>\n",
       "      <th>max</th>\n",
       "      <td>891.000000</td>\n",
       "      <td>1.000000</td>\n",
       "      <td>3.000000</td>\n",
       "      <td>80.000000</td>\n",
       "      <td>8.000000</td>\n",
       "      <td>6.000000</td>\n",
       "      <td>512.329200</td>\n",
       "    </tr>\n",
       "  </tbody>\n",
       "</table>\n",
       "</div>"
      ],
      "text/plain": [
       "       passengerid    survived      pclass         age       sibsp  \\\n",
       "count   891.000000  891.000000  891.000000  714.000000  891.000000   \n",
       "mean    446.000000    0.383838    2.308642   29.699118    0.523008   \n",
       "std     257.353842    0.486592    0.836071   14.526497    1.102743   \n",
       "min       1.000000    0.000000    1.000000    0.420000    0.000000   \n",
       "25%     223.500000    0.000000    2.000000   20.125000    0.000000   \n",
       "50%     446.000000    0.000000    3.000000   28.000000    0.000000   \n",
       "75%     668.500000    1.000000    3.000000   38.000000    1.000000   \n",
       "max     891.000000    1.000000    3.000000   80.000000    8.000000   \n",
       "\n",
       "            parch        fare  \n",
       "count  891.000000  891.000000  \n",
       "mean     0.381594   32.204208  \n",
       "std      0.806057   49.693429  \n",
       "min      0.000000    0.000000  \n",
       "25%      0.000000    7.910400  \n",
       "50%      0.000000   14.454200  \n",
       "75%      0.000000   31.000000  \n",
       "max      6.000000  512.329200  "
      ]
     },
     "execution_count": 9,
     "metadata": {},
     "output_type": "execute_result"
    }
   ],
   "source": [
    "#수치형에 대한 정보 확인\n",
    "df.describe(include = np.number)"
   ]
  },
  {
   "cell_type": "code",
   "execution_count": 10,
   "id": "4049db7d-b760-4f77-9c4c-6c0d998c85ce",
   "metadata": {},
   "outputs": [
    {
     "data": {
      "text/html": [
       "<div>\n",
       "<style scoped>\n",
       "    .dataframe tbody tr th:only-of-type {\n",
       "        vertical-align: middle;\n",
       "    }\n",
       "\n",
       "    .dataframe tbody tr th {\n",
       "        vertical-align: top;\n",
       "    }\n",
       "\n",
       "    .dataframe thead th {\n",
       "        text-align: right;\n",
       "    }\n",
       "</style>\n",
       "<table border=\"1\" class=\"dataframe\">\n",
       "  <thead>\n",
       "    <tr style=\"text-align: right;\">\n",
       "      <th></th>\n",
       "      <th>name</th>\n",
       "      <th>sex</th>\n",
       "      <th>ticket</th>\n",
       "      <th>cabin</th>\n",
       "      <th>embarked</th>\n",
       "    </tr>\n",
       "  </thead>\n",
       "  <tbody>\n",
       "    <tr>\n",
       "      <th>count</th>\n",
       "      <td>891</td>\n",
       "      <td>891</td>\n",
       "      <td>891</td>\n",
       "      <td>204</td>\n",
       "      <td>889</td>\n",
       "    </tr>\n",
       "    <tr>\n",
       "      <th>unique</th>\n",
       "      <td>891</td>\n",
       "      <td>2</td>\n",
       "      <td>681</td>\n",
       "      <td>147</td>\n",
       "      <td>3</td>\n",
       "    </tr>\n",
       "    <tr>\n",
       "      <th>top</th>\n",
       "      <td>Braund, Mr. Owen Harris</td>\n",
       "      <td>male</td>\n",
       "      <td>347082</td>\n",
       "      <td>B96 B98</td>\n",
       "      <td>S</td>\n",
       "    </tr>\n",
       "    <tr>\n",
       "      <th>freq</th>\n",
       "      <td>1</td>\n",
       "      <td>577</td>\n",
       "      <td>7</td>\n",
       "      <td>4</td>\n",
       "      <td>644</td>\n",
       "    </tr>\n",
       "  </tbody>\n",
       "</table>\n",
       "</div>"
      ],
      "text/plain": [
       "                           name   sex  ticket    cabin embarked\n",
       "count                       891   891     891      204      889\n",
       "unique                      891     2     681      147        3\n",
       "top     Braund, Mr. Owen Harris  male  347082  B96 B98        S\n",
       "freq                          1   577       7        4      644"
      ]
     },
     "execution_count": 10,
     "metadata": {},
     "output_type": "execute_result"
    }
   ],
   "source": [
    "#문자형에 대한 정보 확인\n",
    "df.describe(exclude = np.number)"
   ]
  },
  {
   "cell_type": "code",
   "execution_count": 11,
   "id": "4c0570aa-b0c1-4798-8a53-3015bdc7ddd7",
   "metadata": {},
   "outputs": [
    {
     "data": {
      "text/html": [
       "<div>\n",
       "<style scoped>\n",
       "    .dataframe tbody tr th:only-of-type {\n",
       "        vertical-align: middle;\n",
       "    }\n",
       "\n",
       "    .dataframe tbody tr th {\n",
       "        vertical-align: top;\n",
       "    }\n",
       "\n",
       "    .dataframe thead th {\n",
       "        text-align: right;\n",
       "    }\n",
       "</style>\n",
       "<table border=\"1\" class=\"dataframe\">\n",
       "  <thead>\n",
       "    <tr style=\"text-align: right;\">\n",
       "      <th></th>\n",
       "      <th>passengerid</th>\n",
       "      <th>survived</th>\n",
       "      <th>pclass</th>\n",
       "      <th>name</th>\n",
       "      <th>sex</th>\n",
       "      <th>age</th>\n",
       "      <th>sibsp</th>\n",
       "      <th>parch</th>\n",
       "      <th>ticket</th>\n",
       "      <th>fare</th>\n",
       "      <th>cabin</th>\n",
       "      <th>embarked</th>\n",
       "    </tr>\n",
       "  </thead>\n",
       "  <tbody>\n",
       "    <tr>\n",
       "      <th>0</th>\n",
       "      <td>1</td>\n",
       "      <td>0</td>\n",
       "      <td>3</td>\n",
       "      <td>Braund, Mr. Owen Harris</td>\n",
       "      <td>male</td>\n",
       "      <td>22.0</td>\n",
       "      <td>1</td>\n",
       "      <td>0</td>\n",
       "      <td>A/5 21171</td>\n",
       "      <td>7.2500</td>\n",
       "      <td>NaN</td>\n",
       "      <td>S</td>\n",
       "    </tr>\n",
       "    <tr>\n",
       "      <th>1</th>\n",
       "      <td>2</td>\n",
       "      <td>1</td>\n",
       "      <td>1</td>\n",
       "      <td>Cumings, Mrs. John Bradley (Florence Briggs Th...</td>\n",
       "      <td>female</td>\n",
       "      <td>38.0</td>\n",
       "      <td>1</td>\n",
       "      <td>0</td>\n",
       "      <td>PC 17599</td>\n",
       "      <td>71.2833</td>\n",
       "      <td>C85</td>\n",
       "      <td>C</td>\n",
       "    </tr>\n",
       "    <tr>\n",
       "      <th>2</th>\n",
       "      <td>3</td>\n",
       "      <td>1</td>\n",
       "      <td>3</td>\n",
       "      <td>Heikkinen, Miss. Laina</td>\n",
       "      <td>female</td>\n",
       "      <td>26.0</td>\n",
       "      <td>0</td>\n",
       "      <td>0</td>\n",
       "      <td>STON/O2. 3101282</td>\n",
       "      <td>7.9250</td>\n",
       "      <td>NaN</td>\n",
       "      <td>S</td>\n",
       "    </tr>\n",
       "    <tr>\n",
       "      <th>3</th>\n",
       "      <td>4</td>\n",
       "      <td>1</td>\n",
       "      <td>1</td>\n",
       "      <td>Futrelle, Mrs. Jacques Heath (Lily May Peel)</td>\n",
       "      <td>female</td>\n",
       "      <td>35.0</td>\n",
       "      <td>1</td>\n",
       "      <td>0</td>\n",
       "      <td>113803</td>\n",
       "      <td>53.1000</td>\n",
       "      <td>C123</td>\n",
       "      <td>S</td>\n",
       "    </tr>\n",
       "    <tr>\n",
       "      <th>4</th>\n",
       "      <td>5</td>\n",
       "      <td>0</td>\n",
       "      <td>3</td>\n",
       "      <td>Allen, Mr. William Henry</td>\n",
       "      <td>male</td>\n",
       "      <td>35.0</td>\n",
       "      <td>0</td>\n",
       "      <td>0</td>\n",
       "      <td>373450</td>\n",
       "      <td>8.0500</td>\n",
       "      <td>NaN</td>\n",
       "      <td>S</td>\n",
       "    </tr>\n",
       "  </tbody>\n",
       "</table>\n",
       "</div>"
      ],
      "text/plain": [
       "   passengerid  survived  pclass  \\\n",
       "0            1         0       3   \n",
       "1            2         1       1   \n",
       "2            3         1       3   \n",
       "3            4         1       1   \n",
       "4            5         0       3   \n",
       "\n",
       "                                                name     sex   age  sibsp  \\\n",
       "0                            Braund, Mr. Owen Harris    male  22.0      1   \n",
       "1  Cumings, Mrs. John Bradley (Florence Briggs Th...  female  38.0      1   \n",
       "2                             Heikkinen, Miss. Laina  female  26.0      0   \n",
       "3       Futrelle, Mrs. Jacques Heath (Lily May Peel)  female  35.0      1   \n",
       "4                           Allen, Mr. William Henry    male  35.0      0   \n",
       "\n",
       "   parch            ticket     fare cabin embarked  \n",
       "0      0         A/5 21171   7.2500   NaN        S  \n",
       "1      0          PC 17599  71.2833   C85        C  \n",
       "2      0  STON/O2. 3101282   7.9250   NaN        S  \n",
       "3      0            113803  53.1000  C123        S  \n",
       "4      0            373450   8.0500   NaN        S  "
      ]
     },
     "execution_count": 11,
     "metadata": {},
     "output_type": "execute_result"
    }
   ],
   "source": [
    "df.head()"
   ]
  },
  {
   "cell_type": "code",
   "execution_count": 12,
   "id": "ba0f6c88-06ac-47cc-9190-2ee2c39beebb",
   "metadata": {},
   "outputs": [
    {
     "data": {
      "text/html": [
       "<div>\n",
       "<style scoped>\n",
       "    .dataframe tbody tr th:only-of-type {\n",
       "        vertical-align: middle;\n",
       "    }\n",
       "\n",
       "    .dataframe tbody tr th {\n",
       "        vertical-align: top;\n",
       "    }\n",
       "\n",
       "    .dataframe thead th {\n",
       "        text-align: right;\n",
       "    }\n",
       "</style>\n",
       "<table border=\"1\" class=\"dataframe\">\n",
       "  <thead>\n",
       "    <tr style=\"text-align: right;\">\n",
       "      <th></th>\n",
       "      <th>passengerid</th>\n",
       "      <th>survived</th>\n",
       "      <th>pclass</th>\n",
       "      <th>name</th>\n",
       "      <th>sex</th>\n",
       "      <th>age</th>\n",
       "      <th>sibsp</th>\n",
       "      <th>parch</th>\n",
       "      <th>ticket</th>\n",
       "      <th>fare</th>\n",
       "      <th>cabin</th>\n",
       "      <th>embarked</th>\n",
       "    </tr>\n",
       "  </thead>\n",
       "  <tbody>\n",
       "    <tr>\n",
       "      <th>886</th>\n",
       "      <td>887</td>\n",
       "      <td>0</td>\n",
       "      <td>2</td>\n",
       "      <td>Montvila, Rev. Juozas</td>\n",
       "      <td>male</td>\n",
       "      <td>27.0</td>\n",
       "      <td>0</td>\n",
       "      <td>0</td>\n",
       "      <td>211536</td>\n",
       "      <td>13.00</td>\n",
       "      <td>NaN</td>\n",
       "      <td>S</td>\n",
       "    </tr>\n",
       "    <tr>\n",
       "      <th>887</th>\n",
       "      <td>888</td>\n",
       "      <td>1</td>\n",
       "      <td>1</td>\n",
       "      <td>Graham, Miss. Margaret Edith</td>\n",
       "      <td>female</td>\n",
       "      <td>19.0</td>\n",
       "      <td>0</td>\n",
       "      <td>0</td>\n",
       "      <td>112053</td>\n",
       "      <td>30.00</td>\n",
       "      <td>B42</td>\n",
       "      <td>S</td>\n",
       "    </tr>\n",
       "    <tr>\n",
       "      <th>888</th>\n",
       "      <td>889</td>\n",
       "      <td>0</td>\n",
       "      <td>3</td>\n",
       "      <td>Johnston, Miss. Catherine Helen \"Carrie\"</td>\n",
       "      <td>female</td>\n",
       "      <td>NaN</td>\n",
       "      <td>1</td>\n",
       "      <td>2</td>\n",
       "      <td>W./C. 6607</td>\n",
       "      <td>23.45</td>\n",
       "      <td>NaN</td>\n",
       "      <td>S</td>\n",
       "    </tr>\n",
       "    <tr>\n",
       "      <th>889</th>\n",
       "      <td>890</td>\n",
       "      <td>1</td>\n",
       "      <td>1</td>\n",
       "      <td>Behr, Mr. Karl Howell</td>\n",
       "      <td>male</td>\n",
       "      <td>26.0</td>\n",
       "      <td>0</td>\n",
       "      <td>0</td>\n",
       "      <td>111369</td>\n",
       "      <td>30.00</td>\n",
       "      <td>C148</td>\n",
       "      <td>C</td>\n",
       "    </tr>\n",
       "    <tr>\n",
       "      <th>890</th>\n",
       "      <td>891</td>\n",
       "      <td>0</td>\n",
       "      <td>3</td>\n",
       "      <td>Dooley, Mr. Patrick</td>\n",
       "      <td>male</td>\n",
       "      <td>32.0</td>\n",
       "      <td>0</td>\n",
       "      <td>0</td>\n",
       "      <td>370376</td>\n",
       "      <td>7.75</td>\n",
       "      <td>NaN</td>\n",
       "      <td>Q</td>\n",
       "    </tr>\n",
       "  </tbody>\n",
       "</table>\n",
       "</div>"
      ],
      "text/plain": [
       "     passengerid  survived  pclass                                      name  \\\n",
       "886          887         0       2                     Montvila, Rev. Juozas   \n",
       "887          888         1       1              Graham, Miss. Margaret Edith   \n",
       "888          889         0       3  Johnston, Miss. Catherine Helen \"Carrie\"   \n",
       "889          890         1       1                     Behr, Mr. Karl Howell   \n",
       "890          891         0       3                       Dooley, Mr. Patrick   \n",
       "\n",
       "        sex   age  sibsp  parch      ticket   fare cabin embarked  \n",
       "886    male  27.0      0      0      211536  13.00   NaN        S  \n",
       "887  female  19.0      0      0      112053  30.00   B42        S  \n",
       "888  female   NaN      1      2  W./C. 6607  23.45   NaN        S  \n",
       "889    male  26.0      0      0      111369  30.00  C148        C  \n",
       "890    male  32.0      0      0      370376   7.75   NaN        Q  "
      ]
     },
     "execution_count": 12,
     "metadata": {},
     "output_type": "execute_result"
    }
   ],
   "source": [
    "df.tail()"
   ]
  },
  {
   "cell_type": "code",
   "execution_count": 13,
   "id": "d2558b7a-c1c7-4451-9d9c-c4fee0964e66",
   "metadata": {},
   "outputs": [
    {
     "data": {
      "text/html": [
       "<div>\n",
       "<style scoped>\n",
       "    .dataframe tbody tr th:only-of-type {\n",
       "        vertical-align: middle;\n",
       "    }\n",
       "\n",
       "    .dataframe tbody tr th {\n",
       "        vertical-align: top;\n",
       "    }\n",
       "\n",
       "    .dataframe thead th {\n",
       "        text-align: right;\n",
       "    }\n",
       "</style>\n",
       "<table border=\"1\" class=\"dataframe\">\n",
       "  <thead>\n",
       "    <tr style=\"text-align: right;\">\n",
       "      <th></th>\n",
       "      <th>counts</th>\n",
       "      <th>freqs</th>\n",
       "    </tr>\n",
       "    <tr>\n",
       "      <th>categories</th>\n",
       "      <th></th>\n",
       "      <th></th>\n",
       "    </tr>\n",
       "  </thead>\n",
       "  <tbody>\n",
       "    <tr>\n",
       "      <th>Died</th>\n",
       "      <td>549</td>\n",
       "      <td>0.616162</td>\n",
       "    </tr>\n",
       "    <tr>\n",
       "      <th>Survived</th>\n",
       "      <td>342</td>\n",
       "      <td>0.383838</td>\n",
       "    </tr>\n",
       "  </tbody>\n",
       "</table>\n",
       "</div>"
      ],
      "text/plain": [
       "            counts     freqs\n",
       "categories                  \n",
       "Died           549  0.616162\n",
       "Survived       342  0.383838"
      ]
     },
     "execution_count": 13,
     "metadata": {},
     "output_type": "execute_result"
    }
   ],
   "source": [
    "new_survived = pd.Categorical(df['survived'])\n",
    "new_survived = new_survived.rename_categories(['Died','Survived'])\n",
    "\n",
    "new_survived.describe()"
   ]
  },
  {
   "cell_type": "markdown",
   "id": "bffd299b-3b06-401f-8fce-a9211dced79e",
   "metadata": {},
   "source": [
    "## 데이터 분리"
   ]
  },
  {
   "cell_type": "code",
   "execution_count": 14,
   "id": "6142ac5f-1c86-4c4e-a4a8-8969c5420570",
   "metadata": {},
   "outputs": [],
   "source": [
    "from sklearn.model_selection import train_test_split"
   ]
  },
  {
   "cell_type": "code",
   "execution_count": 15,
   "id": "d9c75324-b1c4-4edf-a7d1-0c570ce56005",
   "metadata": {},
   "outputs": [
    {
     "data": {
      "text/plain": [
       "((712, 12), (179, 12))"
      ]
     },
     "execution_count": 15,
     "metadata": {},
     "output_type": "execute_result"
    }
   ],
   "source": [
    "seed = 42\n",
    "X_tr,X_te = train_test_split(df, random_state=seed, test_size = 0.2)\n",
    "X_tr = X_tr.reset_index(drop=True)\n",
    "X_te = X_te.reset_index(drop=True)\n",
    "\n",
    "X_tr.shape ,X_te.shape"
   ]
  },
  {
   "cell_type": "code",
   "execution_count": 16,
   "id": "98b03e36-bc2d-4d63-aaaa-896295ce4dff",
   "metadata": {},
   "outputs": [
    {
     "data": {
      "text/plain": [
       "Index(['passengerid', 'survived', 'pclass', 'name', 'sex', 'age', 'sibsp',\n",
       "       'parch', 'ticket', 'fare', 'cabin', 'embarked'],\n",
       "      dtype='object')"
      ]
     },
     "execution_count": 16,
     "metadata": {},
     "output_type": "execute_result"
    }
   ],
   "source": [
    "X_tr.columns"
   ]
  },
  {
   "cell_type": "code",
   "execution_count": 17,
   "id": "adc156be-1473-47c2-ac3e-55a3eb8e3ff3",
   "metadata": {},
   "outputs": [
    {
     "name": "stdout",
     "output_type": "stream",
     "text": [
      "['Died', 'Died', 'Died', 'Died', 'Died']\n",
      "Categories (2, object): ['Died', 'Survived']\n"
     ]
    },
    {
     "data": {
      "text/html": [
       "<div>\n",
       "<style scoped>\n",
       "    .dataframe tbody tr th:only-of-type {\n",
       "        vertical-align: middle;\n",
       "    }\n",
       "\n",
       "    .dataframe tbody tr th {\n",
       "        vertical-align: top;\n",
       "    }\n",
       "\n",
       "    .dataframe thead th {\n",
       "        text-align: right;\n",
       "    }\n",
       "</style>\n",
       "<table border=\"1\" class=\"dataframe\">\n",
       "  <thead>\n",
       "    <tr style=\"text-align: right;\">\n",
       "      <th></th>\n",
       "      <th>counts</th>\n",
       "      <th>freqs</th>\n",
       "    </tr>\n",
       "    <tr>\n",
       "      <th>categories</th>\n",
       "      <th></th>\n",
       "      <th></th>\n",
       "    </tr>\n",
       "  </thead>\n",
       "  <tbody>\n",
       "    <tr>\n",
       "      <th>Died</th>\n",
       "      <td>444</td>\n",
       "      <td>0.623596</td>\n",
       "    </tr>\n",
       "    <tr>\n",
       "      <th>Survived</th>\n",
       "      <td>268</td>\n",
       "      <td>0.376404</td>\n",
       "    </tr>\n",
       "  </tbody>\n",
       "</table>\n",
       "</div>"
      ],
      "text/plain": [
       "            counts     freqs\n",
       "categories                  \n",
       "Died           444  0.623596\n",
       "Survived       268  0.376404"
      ]
     },
     "execution_count": 17,
     "metadata": {},
     "output_type": "execute_result"
    }
   ],
   "source": [
    "# train data에서 target data 확인\n",
    "new_survived = pd.Categorical(X_tr['survived'])\n",
    "new_survived = new_survived.rename_categories(['Died','Survived'])\n",
    "\n",
    "print(new_survived[:5])\n",
    "new_survived.describe()"
   ]
  },
  {
   "cell_type": "markdown",
   "id": "dc053337-fc2a-4ca2-9a26-78d42cbc76d0",
   "metadata": {},
   "source": [
    "## data cleaning"
   ]
  },
  {
   "cell_type": "markdown",
   "id": "6e933697-8d90-4a59-b798-e71461d16ac9",
   "metadata": {},
   "source": [
    "### 필요없는 값 처리"
   ]
  },
  {
   "cell_type": "code",
   "execution_count": 18,
   "id": "60306a38-594f-4111-9562-e00d4fe1d778",
   "metadata": {},
   "outputs": [
    {
     "data": {
      "text/plain": [
       "(712, 712)"
      ]
     },
     "execution_count": 18,
     "metadata": {},
     "output_type": "execute_result"
    }
   ],
   "source": [
    "X_tr['passengerid'].nunique() , X_tr.shape[0]"
   ]
  },
  {
   "cell_type": "code",
   "execution_count": 19,
   "id": "864e8d87-264f-4796-99b0-712c2e3348cd",
   "metadata": {},
   "outputs": [
    {
     "data": {
      "text/plain": [
       "Index(['survived', 'pclass', 'name', 'sex', 'age', 'sibsp', 'parch', 'ticket',\n",
       "       'fare', 'cabin', 'embarked'],\n",
       "      dtype='object')"
      ]
     },
     "execution_count": 19,
     "metadata": {},
     "output_type": "execute_result"
    }
   ],
   "source": [
    "# passengerid는 전체 데이터가 unique하기 때문에 삭제\n",
    "X_tr.drop('passengerid', axis = 1, inplace=True)\n",
    "X_te.drop('passengerid', axis = 1, inplace=True)\n",
    "\n",
    "X_tr.columns"
   ]
  },
  {
   "cell_type": "markdown",
   "id": "1ee23b62-2db1-4719-8f6e-e45457921016",
   "metadata": {},
   "source": [
    "### 결측치 처리"
   ]
  },
  {
   "cell_type": "code",
   "execution_count": 20,
   "id": "ed0ccc79-e4d9-42e0-8d1f-f876af7a4bd2",
   "metadata": {},
   "outputs": [
    {
     "data": {
      "text/plain": [
       "cabin       0.7767\n",
       "age         0.1966\n",
       "embarked    0.0028\n",
       "survived    0.0000\n",
       "pclass      0.0000\n",
       "name        0.0000\n",
       "sex         0.0000\n",
       "sibsp       0.0000\n",
       "parch       0.0000\n",
       "ticket      0.0000\n",
       "fare        0.0000\n",
       "dtype: float64"
      ]
     },
     "execution_count": 20,
     "metadata": {},
     "output_type": "execute_result"
    }
   ],
   "source": [
    "#각 칼럼 별 결측치 비율\n",
    "(X_tr.isnull().sum() / X_tr.shape[0]).round(4).sort_values(ascending=False)"
   ]
  },
  {
   "cell_type": "code",
   "execution_count": 21,
   "id": "9c4ec9a1-1b62-4c77-94f1-5bcc27961d91",
   "metadata": {},
   "outputs": [
    {
     "name": "stdout",
     "output_type": "stream",
     "text": [
      "before: (712, 11) / lsnull().sum() : 695\n",
      "after: (712, 10) / isnull().sum(): 142\n"
     ]
    }
   ],
   "source": [
    "print(f'before: {X_tr.shape} / lsnull().sum() : {X_tr.isnull().sum().sum()}')\n",
    "#결측치가 있는 행 제거 : X_tr.dropna(axis=0)\n",
    "\n",
    "X_tr = X_tr.drop('cabin', axis = 1)\n",
    "X_te = X_te.drop('cabin', axis = 1)\n",
    "\n",
    "print(f'after: {X_tr.shape} / isnull().sum(): {X_tr.isnull().sum().sum()}')"
   ]
  },
  {
   "cell_type": "code",
   "execution_count": 22,
   "id": "e7bf5044-af2b-44b6-9bb2-a8b6c1359f70",
   "metadata": {},
   "outputs": [],
   "source": [
    "X_tr['age'] = X_tr['age'].fillna(X_tr['age'].median())\n",
    "X_te['age'] = X_tr['age'].fillna(X_te['age'].median())"
   ]
  },
  {
   "cell_type": "code",
   "execution_count": 23,
   "id": "d710fa7a-7259-4b9b-89aa-fefa1eab45cf",
   "metadata": {},
   "outputs": [],
   "source": [
    "embarked_mode =  X_tr['embarked'].mode().values[0]\n",
    "\n",
    "X_tr['embarked'] = X_tr['embarked'].fillna(embarked_mode)\n",
    "X_te['embarked'] = X_tr['embarked'].fillna(embarked_mode)"
   ]
  },
  {
   "cell_type": "code",
   "execution_count": 24,
   "id": "daf0348e-8b4f-4275-9057-57f72a73a54c",
   "metadata": {},
   "outputs": [
    {
     "data": {
      "text/plain": [
       "0"
      ]
     },
     "execution_count": 24,
     "metadata": {},
     "output_type": "execute_result"
    }
   ],
   "source": [
    "X_tr.isnull().sum().sum()"
   ]
  },
  {
   "cell_type": "markdown",
   "id": "380e06a2-ec2d-45ce-8701-6313cecc0b09",
   "metadata": {},
   "source": [
    "## Feature Extraction \n",
    "> 기존 Feature에 기반하여 새로운 Feature 생성"
   ]
  },
  {
   "cell_type": "markdown",
   "id": "183469b5-7bff-4e1b-8248-84c011265e96",
   "metadata": {},
   "source": [
    "### 데이터 타입"
   ]
  },
  {
   "cell_type": "code",
   "execution_count": 25,
   "id": "f4c58e38-8508-4bd0-b234-160f3fc445f7",
   "metadata": {},
   "outputs": [
    {
     "name": "stdout",
     "output_type": "stream",
     "text": [
      "<class 'pandas.core.frame.DataFrame'>\n",
      "RangeIndex: 712 entries, 0 to 711\n",
      "Data columns (total 10 columns):\n",
      " #   Column    Non-Null Count  Dtype  \n",
      "---  ------    --------------  -----  \n",
      " 0   survived  712 non-null    int64  \n",
      " 1   pclass    712 non-null    int64  \n",
      " 2   name      712 non-null    object \n",
      " 3   sex       712 non-null    object \n",
      " 4   age       712 non-null    float64\n",
      " 5   sibsp     712 non-null    int64  \n",
      " 6   parch     712 non-null    int64  \n",
      " 7   ticket    712 non-null    object \n",
      " 8   fare      712 non-null    float64\n",
      " 9   embarked  712 non-null    object \n",
      "dtypes: float64(2), int64(4), object(4)\n",
      "memory usage: 55.8+ KB\n"
     ]
    }
   ],
   "source": [
    "X_tr.info()"
   ]
  },
  {
   "cell_type": "markdown",
   "id": "90119c3d-1e51-49da-beb2-318b2bb1407d",
   "metadata": {},
   "source": [
    "#### 수치형 데이터 타입 변환"
   ]
  },
  {
   "cell_type": "code",
   "execution_count": 26,
   "id": "5dc0afe3-59e4-4d6c-9345-c1c166e91734",
   "metadata": {},
   "outputs": [
    {
     "data": {
      "text/plain": [
       "Index(['survived', 'pclass', 'age', 'sibsp', 'parch', 'fare'], dtype='object')"
      ]
     },
     "execution_count": 26,
     "metadata": {},
     "output_type": "execute_result"
    }
   ],
   "source": [
    "df_number = X_tr.select_dtypes(include=np.number)\n",
    "df_number.columns"
   ]
  },
  {
   "cell_type": "code",
   "execution_count": 27,
   "id": "495d5c39-8a50-4e69-a02e-78816b87dbc4",
   "metadata": {},
   "outputs": [
    {
     "name": "stdout",
     "output_type": "stream",
     "text": [
      "<class 'pandas.core.frame.DataFrame'>\n",
      "RangeIndex: 712 entries, 0 to 711\n",
      "Data columns (total 6 columns):\n",
      " #   Column    Non-Null Count  Dtype  \n",
      "---  ------    --------------  -----  \n",
      " 0   survived  712 non-null    int64  \n",
      " 1   pclass    712 non-null    int64  \n",
      " 2   age       712 non-null    float64\n",
      " 3   sibsp     712 non-null    int64  \n",
      " 4   parch     712 non-null    int64  \n",
      " 5   fare      712 non-null    float64\n",
      "dtypes: float64(2), int64(4)\n",
      "memory usage: 33.5 KB\n"
     ]
    }
   ],
   "source": [
    "df_number.info()"
   ]
  },
  {
   "cell_type": "code",
   "execution_count": 28,
   "id": "e28f38a9-0fba-4ede-a1fa-ec509f634173",
   "metadata": {},
   "outputs": [
    {
     "data": {
      "text/html": [
       "<div>\n",
       "<style scoped>\n",
       "    .dataframe tbody tr th:only-of-type {\n",
       "        vertical-align: middle;\n",
       "    }\n",
       "\n",
       "    .dataframe tbody tr th {\n",
       "        vertical-align: top;\n",
       "    }\n",
       "\n",
       "    .dataframe thead th {\n",
       "        text-align: right;\n",
       "    }\n",
       "</style>\n",
       "<table border=\"1\" class=\"dataframe\">\n",
       "  <thead>\n",
       "    <tr style=\"text-align: right;\">\n",
       "      <th></th>\n",
       "      <th>survived</th>\n",
       "      <th>pclass</th>\n",
       "      <th>age</th>\n",
       "      <th>sibsp</th>\n",
       "      <th>parch</th>\n",
       "      <th>fare</th>\n",
       "    </tr>\n",
       "  </thead>\n",
       "  <tbody>\n",
       "    <tr>\n",
       "      <th>0</th>\n",
       "      <td>0</td>\n",
       "      <td>1</td>\n",
       "      <td>45.5</td>\n",
       "      <td>0</td>\n",
       "      <td>0</td>\n",
       "      <td>28.5000</td>\n",
       "    </tr>\n",
       "    <tr>\n",
       "      <th>1</th>\n",
       "      <td>0</td>\n",
       "      <td>2</td>\n",
       "      <td>23.0</td>\n",
       "      <td>0</td>\n",
       "      <td>0</td>\n",
       "      <td>13.0000</td>\n",
       "    </tr>\n",
       "    <tr>\n",
       "      <th>2</th>\n",
       "      <td>0</td>\n",
       "      <td>3</td>\n",
       "      <td>32.0</td>\n",
       "      <td>0</td>\n",
       "      <td>0</td>\n",
       "      <td>7.9250</td>\n",
       "    </tr>\n",
       "    <tr>\n",
       "      <th>3</th>\n",
       "      <td>0</td>\n",
       "      <td>3</td>\n",
       "      <td>26.0</td>\n",
       "      <td>1</td>\n",
       "      <td>0</td>\n",
       "      <td>7.8542</td>\n",
       "    </tr>\n",
       "    <tr>\n",
       "      <th>4</th>\n",
       "      <td>0</td>\n",
       "      <td>3</td>\n",
       "      <td>6.0</td>\n",
       "      <td>4</td>\n",
       "      <td>2</td>\n",
       "      <td>31.2750</td>\n",
       "    </tr>\n",
       "  </tbody>\n",
       "</table>\n",
       "</div>"
      ],
      "text/plain": [
       "   survived  pclass   age  sibsp  parch     fare\n",
       "0         0       1  45.5      0      0  28.5000\n",
       "1         0       2  23.0      0      0  13.0000\n",
       "2         0       3  32.0      0      0   7.9250\n",
       "3         0       3  26.0      1      0   7.8542\n",
       "4         0       3   6.0      4      2  31.2750"
      ]
     },
     "execution_count": 28,
     "metadata": {},
     "output_type": "execute_result"
    }
   ],
   "source": [
    "df_number.head()"
   ]
  },
  {
   "cell_type": "code",
   "execution_count": 29,
   "id": "3858779e-080b-4bfe-b3fc-43632b32521d",
   "metadata": {},
   "outputs": [],
   "source": [
    "# Survived\n",
    "X_tr['survived'] = X_tr['survived'].astype('int32')\n",
    "X_te['survived'] = X_te['survived'].astype('int32')"
   ]
  },
  {
   "cell_type": "code",
   "execution_count": 30,
   "id": "2b332be8-add9-47f0-957a-8f6a09cf4858",
   "metadata": {},
   "outputs": [
    {
     "data": {
      "text/plain": [
       "array([1, 2, 3], dtype=int64)"
      ]
     },
     "execution_count": 30,
     "metadata": {},
     "output_type": "execute_result"
    }
   ],
   "source": [
    "# pclass\n",
    "X_tr['pclass'].unique()"
   ]
  },
  {
   "cell_type": "code",
   "execution_count": 31,
   "id": "68163381-3632-4dbd-ab16-53f7f5cf288e",
   "metadata": {},
   "outputs": [],
   "source": [
    "X_tr['pclass'] = X_tr['pclass'].astype('category')\n",
    "X_te['pclass'] = X_te['pclass'].astype('category')"
   ]
  },
  {
   "cell_type": "code",
   "execution_count": 32,
   "id": "fc057948-b706-4627-b69a-3db500f786f3",
   "metadata": {},
   "outputs": [
    {
     "data": {
      "text/plain": [
       "83"
      ]
     },
     "execution_count": 32,
     "metadata": {},
     "output_type": "execute_result"
    }
   ],
   "source": [
    "# age\n",
    "X_tr['age'].nunique()"
   ]
  },
  {
   "cell_type": "code",
   "execution_count": 33,
   "id": "f6237653-f9e6-4eb0-9c65-7c191a52d873",
   "metadata": {},
   "outputs": [],
   "source": [
    "X_tr['age'] = X_tr['age'].astype('int32')\n",
    "X_te['age'] = X_te['age'].astype('int32')"
   ]
  },
  {
   "cell_type": "code",
   "execution_count": 34,
   "id": "232929f7-e97f-48ee-b603-903474fdd18d",
   "metadata": {},
   "outputs": [
    {
     "data": {
      "text/plain": [
       "7"
      ]
     },
     "execution_count": 34,
     "metadata": {},
     "output_type": "execute_result"
    }
   ],
   "source": [
    "#sibsp\n",
    "X_tr['sibsp'].nunique()"
   ]
  },
  {
   "cell_type": "code",
   "execution_count": 35,
   "id": "1610d37b-4d64-42e7-bfb1-c3b3c51314ed",
   "metadata": {},
   "outputs": [],
   "source": [
    "X_tr['sibsp'] = X_tr['sibsp'].astype('category')\n",
    "X_te['sibsp'] = X_te['sibsp'].astype('category')"
   ]
  },
  {
   "cell_type": "code",
   "execution_count": 36,
   "id": "9b2d400d-b9c5-4148-890e-1255b6f1d27d",
   "metadata": {},
   "outputs": [
    {
     "data": {
      "text/plain": [
       "7"
      ]
     },
     "execution_count": 36,
     "metadata": {},
     "output_type": "execute_result"
    }
   ],
   "source": [
    "# parch\n",
    "X_tr['parch'].nunique()"
   ]
  },
  {
   "cell_type": "code",
   "execution_count": 37,
   "id": "93abad6d-8056-4741-9ee6-db16915da016",
   "metadata": {},
   "outputs": [],
   "source": [
    "X_tr['parch'] = X_tr['parch'].astype('category')\n",
    "X_te['parch'] = X_te['parch'].astype('category')"
   ]
  },
  {
   "cell_type": "code",
   "execution_count": 38,
   "id": "6a0d49a8-b8b0-4318-937e-b7c82e7fafef",
   "metadata": {},
   "outputs": [
    {
     "data": {
      "text/plain": [
       "array([ 28.5   ,  13.    ,   7.925 ,   7.8542,  31.275 , 247.5208,\n",
       "        26.55  ,  27.7208,   7.8958,  35.5   ,  24.15  ,  12.275 ,\n",
       "         7.0542,   9.5   ,  26.    ,  90.    , 227.525 ,  57.    ,\n",
       "         6.2375,   8.6625,  26.25  ,   9.5875,   7.2292,  22.3583,\n",
       "         9.4833, 120.    ,  14.4583,   8.05  , 211.5   ,   7.25  ,\n",
       "         7.725 ,  25.4667,  21.075 ,  30.    ,  61.3792,  20.2125,\n",
       "        30.5   ,   7.05  ,  14.5   ,   7.5208, 151.55  ,  21.    ,\n",
       "       262.375 ,   7.75  ,   7.775 ,  80.    ,   9.8417,  12.35  ,\n",
       "         0.    ,   7.225 ,   6.4375,  12.475 , 133.65  ,   6.975 ,\n",
       "        77.9583,  10.5   , 106.425 ,  81.8583,  11.1333,  27.75  ,\n",
       "       153.4625,   8.3   ,  15.05  , 110.8833,  15.0458,  39.6875,\n",
       "         7.8792,  23.45  ,   7.65  ,  15.7417,  15.2458,  51.8625,\n",
       "        15.5   ,  41.5792,  14.4542,  10.5167,  20.525 ,  89.1042,\n",
       "        36.75  ,  55.4417,  50.    ,  13.8625,  16.7   ,  13.5   ,\n",
       "        35.    ,  55.9   ,   7.8   ,  34.375 ,  18.    ,  47.1   ,\n",
       "        19.5   ,  20.25  ,  31.3875,   8.1125,   7.8292,  59.4   ,\n",
       "        79.2   ,  56.4958,  57.9792,  46.9   ,  52.5542,  29.125 ,\n",
       "         9.825 ,  61.175 ,  15.1   ,  66.6   ,  83.1583,  37.0042,\n",
       "        16.1   ,  27.9   , 211.3375,   7.7958,  40.125 ,  28.7125,\n",
       "        19.2583,  49.5042,  65.    ,  52.    ,  86.5   ,  16.    ,\n",
       "        53.1   ,   6.8583,  19.9667,  13.7917,   7.7333, 113.275 ,\n",
       "        69.55  ,  30.0708,   8.0292,  55.    ,  39.6   ,  24.    ,\n",
       "        20.575 ,  17.4   ,  22.025 ,  29.7   ,   6.95  ,  25.5875,\n",
       "       263.    ,  11.5   ,  11.2417,  18.7875,  13.4167,  73.5   ,\n",
       "       164.8667,  79.65  ,  71.    ,  69.3   , 108.9   ,  14.4   ,\n",
       "         6.4958,  12.2875, 146.5208,  13.8583,  10.1708,  77.2875,\n",
       "         7.7417,  17.8   ,  15.85  ,  12.65  ,  26.2875,  18.75  ,\n",
       "        42.4   ,   7.3125,  23.    ,   7.1417, 512.3292,  23.25  ,\n",
       "         7.55  ,  33.    ,  21.6792,  25.9292,  34.0208,   9.35  ,\n",
       "        78.85  ,  39.    ,   8.6542,  15.    ,  51.4792,  12.525 ,\n",
       "        15.9   , 135.6333,   6.75  ,   8.4042,   8.85  ,   7.8875,\n",
       "         8.1375,  78.2667,   5.    ,  14.    ,   8.5167,   7.125 ,\n",
       "        76.7292,  33.5   ,   7.4958,  27.    ,   8.6833,   7.7375,\n",
       "         7.6292,  83.475 ,   4.0125,   9.2167,  50.4958,  93.5   ,\n",
       "         9.475 , 134.5   ,  10.4625,  15.75  ,  12.    ,  71.2833,\n",
       "         9.    ,  82.1708,  22.525 ,  75.25  ,   6.45  ,  91.0792,\n",
       "         9.8375,   8.3625,  31.    ,  14.1083])"
      ]
     },
     "execution_count": 38,
     "metadata": {},
     "output_type": "execute_result"
    }
   ],
   "source": [
    "# fare\n",
    "X_tr['fare'].unique()"
   ]
  },
  {
   "cell_type": "code",
   "execution_count": 39,
   "id": "cea8cf3c-6b53-4d58-a032-ec65963508d7",
   "metadata": {},
   "outputs": [],
   "source": [
    "X_tr['fare'] = X_tr['fare'].astype('float32')\n",
    "X_te['fare'] = X_te['fare'].astype('float32')"
   ]
  },
  {
   "cell_type": "code",
   "execution_count": 40,
   "id": "fc705d07-97a3-4c4f-8588-599bdd67f56d",
   "metadata": {},
   "outputs": [
    {
     "name": "stdout",
     "output_type": "stream",
     "text": [
      "<class 'pandas.core.frame.DataFrame'>\n",
      "RangeIndex: 712 entries, 0 to 711\n",
      "Data columns (total 10 columns):\n",
      " #   Column    Non-Null Count  Dtype   \n",
      "---  ------    --------------  -----   \n",
      " 0   survived  712 non-null    int32   \n",
      " 1   pclass    712 non-null    category\n",
      " 2   name      712 non-null    object  \n",
      " 3   sex       712 non-null    object  \n",
      " 4   age       712 non-null    int32   \n",
      " 5   sibsp     712 non-null    category\n",
      " 6   parch     712 non-null    category\n",
      " 7   ticket    712 non-null    object  \n",
      " 8   fare      712 non-null    float32 \n",
      " 9   embarked  712 non-null    object  \n",
      "dtypes: category(3), float32(1), int32(2), object(4)\n",
      "memory usage: 33.6+ KB\n"
     ]
    }
   ],
   "source": [
    "X_tr.info()"
   ]
  },
  {
   "cell_type": "markdown",
   "id": "c102a04f-46d8-4759-9198-4c60f0067fbd",
   "metadata": {},
   "source": [
    "#### 범주형 데이터 타입 변환"
   ]
  },
  {
   "cell_type": "code",
   "execution_count": 41,
   "id": "00bd9973-a19d-47b6-9707-aaf884ecc423",
   "metadata": {},
   "outputs": [
    {
     "data": {
      "text/plain": [
       "Index(['name', 'sex', 'ticket', 'embarked'], dtype='object')"
      ]
     },
     "execution_count": 41,
     "metadata": {},
     "output_type": "execute_result"
    }
   ],
   "source": [
    "df_object = X_tr.select_dtypes(include='object')\n",
    "df_object.columns"
   ]
  },
  {
   "cell_type": "code",
   "execution_count": 42,
   "id": "45d1e23e-7429-4ab5-8c4c-34bbe66739c1",
   "metadata": {},
   "outputs": [
    {
     "name": "stdout",
     "output_type": "stream",
     "text": [
      "<class 'pandas.core.frame.DataFrame'>\n",
      "RangeIndex: 712 entries, 0 to 711\n",
      "Data columns (total 4 columns):\n",
      " #   Column    Non-Null Count  Dtype \n",
      "---  ------    --------------  ----- \n",
      " 0   name      712 non-null    object\n",
      " 1   sex       712 non-null    object\n",
      " 2   ticket    712 non-null    object\n",
      " 3   embarked  712 non-null    object\n",
      "dtypes: object(4)\n",
      "memory usage: 22.4+ KB\n"
     ]
    }
   ],
   "source": [
    "df_object.info()"
   ]
  },
  {
   "cell_type": "code",
   "execution_count": 43,
   "id": "3a79633b-89f9-4627-93f7-55c079c21a64",
   "metadata": {},
   "outputs": [
    {
     "data": {
      "text/html": [
       "<div>\n",
       "<style scoped>\n",
       "    .dataframe tbody tr th:only-of-type {\n",
       "        vertical-align: middle;\n",
       "    }\n",
       "\n",
       "    .dataframe tbody tr th {\n",
       "        vertical-align: top;\n",
       "    }\n",
       "\n",
       "    .dataframe thead th {\n",
       "        text-align: right;\n",
       "    }\n",
       "</style>\n",
       "<table border=\"1\" class=\"dataframe\">\n",
       "  <thead>\n",
       "    <tr style=\"text-align: right;\">\n",
       "      <th></th>\n",
       "      <th>name</th>\n",
       "      <th>sex</th>\n",
       "      <th>ticket</th>\n",
       "      <th>embarked</th>\n",
       "    </tr>\n",
       "  </thead>\n",
       "  <tbody>\n",
       "    <tr>\n",
       "      <th>0</th>\n",
       "      <td>Partner, Mr. Austen</td>\n",
       "      <td>male</td>\n",
       "      <td>113043</td>\n",
       "      <td>S</td>\n",
       "    </tr>\n",
       "    <tr>\n",
       "      <th>1</th>\n",
       "      <td>Berriman, Mr. William John</td>\n",
       "      <td>male</td>\n",
       "      <td>28425</td>\n",
       "      <td>S</td>\n",
       "    </tr>\n",
       "    <tr>\n",
       "      <th>2</th>\n",
       "      <td>Tikkanen, Mr. Juho</td>\n",
       "      <td>male</td>\n",
       "      <td>STON/O 2. 3101293</td>\n",
       "      <td>S</td>\n",
       "    </tr>\n",
       "    <tr>\n",
       "      <th>3</th>\n",
       "      <td>Hansen, Mr. Henrik Juul</td>\n",
       "      <td>male</td>\n",
       "      <td>350025</td>\n",
       "      <td>S</td>\n",
       "    </tr>\n",
       "    <tr>\n",
       "      <th>4</th>\n",
       "      <td>Andersson, Miss. Ebba Iris Alfrida</td>\n",
       "      <td>female</td>\n",
       "      <td>347082</td>\n",
       "      <td>S</td>\n",
       "    </tr>\n",
       "  </tbody>\n",
       "</table>\n",
       "</div>"
      ],
      "text/plain": [
       "                                 name     sex             ticket embarked\n",
       "0                 Partner, Mr. Austen    male             113043        S\n",
       "1          Berriman, Mr. William John    male              28425        S\n",
       "2                  Tikkanen, Mr. Juho    male  STON/O 2. 3101293        S\n",
       "3             Hansen, Mr. Henrik Juul    male             350025        S\n",
       "4  Andersson, Miss. Ebba Iris Alfrida  female             347082        S"
      ]
     },
     "execution_count": 43,
     "metadata": {},
     "output_type": "execute_result"
    }
   ],
   "source": [
    "df_object.head()"
   ]
  },
  {
   "cell_type": "code",
   "execution_count": 44,
   "id": "c4a9970c-0146-4dab-9a8c-aa62f78fd681",
   "metadata": {},
   "outputs": [
    {
     "data": {
      "text/plain": [
       "array(['male', 'female'], dtype=object)"
      ]
     },
     "execution_count": 44,
     "metadata": {},
     "output_type": "execute_result"
    }
   ],
   "source": [
    "# sex\n",
    "X_tr['sex'].unique()"
   ]
  },
  {
   "cell_type": "code",
   "execution_count": 45,
   "id": "7499f1c0-337f-4139-b730-64e5270c4f51",
   "metadata": {},
   "outputs": [],
   "source": [
    "X_tr['sex'] = X_tr['sex'].astype('category')\n",
    "X_te['sex'] = X_te['sex'].astype('category')"
   ]
  },
  {
   "cell_type": "code",
   "execution_count": 46,
   "id": "1c5f5af1-5051-4e2a-a976-7478e4e788e6",
   "metadata": {},
   "outputs": [],
   "source": [
    "# embarked\n",
    "X_tr[\"embarked\"] = X_tr[\"embarked\"].astype(\"category\")\n",
    "X_te[\"embarked\"] = X_te[\"embarked\"].astype(\"category\")"
   ]
  },
  {
   "cell_type": "code",
   "execution_count": 47,
   "id": "ed776f18-3616-4b3e-b653-65f5c14ca3a8",
   "metadata": {},
   "outputs": [
    {
     "name": "stdout",
     "output_type": "stream",
     "text": [
      "<class 'pandas.core.frame.DataFrame'>\n",
      "RangeIndex: 712 entries, 0 to 711\n",
      "Data columns (total 10 columns):\n",
      " #   Column    Non-Null Count  Dtype   \n",
      "---  ------    --------------  -----   \n",
      " 0   survived  712 non-null    int32   \n",
      " 1   pclass    712 non-null    category\n",
      " 2   name      712 non-null    object  \n",
      " 3   sex       712 non-null    category\n",
      " 4   age       712 non-null    int32   \n",
      " 5   sibsp     712 non-null    category\n",
      " 6   parch     712 non-null    category\n",
      " 7   ticket    712 non-null    object  \n",
      " 8   fare      712 non-null    float32 \n",
      " 9   embarked  712 non-null    category\n",
      "dtypes: category(5), float32(1), int32(2), object(2)\n",
      "memory usage: 24.1+ KB\n"
     ]
    }
   ],
   "source": [
    "X_tr.info()"
   ]
  },
  {
   "cell_type": "code",
   "execution_count": 48,
   "id": "131da035-2777-4097-aa07-3cc32ba2633f",
   "metadata": {},
   "outputs": [
    {
     "data": {
      "text/html": [
       "<div>\n",
       "<style scoped>\n",
       "    .dataframe tbody tr th:only-of-type {\n",
       "        vertical-align: middle;\n",
       "    }\n",
       "\n",
       "    .dataframe tbody tr th {\n",
       "        vertical-align: top;\n",
       "    }\n",
       "\n",
       "    .dataframe thead th {\n",
       "        text-align: right;\n",
       "    }\n",
       "</style>\n",
       "<table border=\"1\" class=\"dataframe\">\n",
       "  <thead>\n",
       "    <tr style=\"text-align: right;\">\n",
       "      <th></th>\n",
       "      <th>survived</th>\n",
       "      <th>pclass</th>\n",
       "      <th>name</th>\n",
       "      <th>sex</th>\n",
       "      <th>age</th>\n",
       "      <th>sibsp</th>\n",
       "      <th>parch</th>\n",
       "      <th>ticket</th>\n",
       "      <th>fare</th>\n",
       "      <th>embarked</th>\n",
       "    </tr>\n",
       "  </thead>\n",
       "  <tbody>\n",
       "    <tr>\n",
       "      <th>0</th>\n",
       "      <td>0</td>\n",
       "      <td>1</td>\n",
       "      <td>Partner, Mr. Austen</td>\n",
       "      <td>male</td>\n",
       "      <td>45</td>\n",
       "      <td>0</td>\n",
       "      <td>0</td>\n",
       "      <td>113043</td>\n",
       "      <td>28.5000</td>\n",
       "      <td>S</td>\n",
       "    </tr>\n",
       "    <tr>\n",
       "      <th>1</th>\n",
       "      <td>0</td>\n",
       "      <td>2</td>\n",
       "      <td>Berriman, Mr. William John</td>\n",
       "      <td>male</td>\n",
       "      <td>23</td>\n",
       "      <td>0</td>\n",
       "      <td>0</td>\n",
       "      <td>28425</td>\n",
       "      <td>13.0000</td>\n",
       "      <td>S</td>\n",
       "    </tr>\n",
       "    <tr>\n",
       "      <th>2</th>\n",
       "      <td>0</td>\n",
       "      <td>3</td>\n",
       "      <td>Tikkanen, Mr. Juho</td>\n",
       "      <td>male</td>\n",
       "      <td>32</td>\n",
       "      <td>0</td>\n",
       "      <td>0</td>\n",
       "      <td>STON/O 2. 3101293</td>\n",
       "      <td>7.9250</td>\n",
       "      <td>S</td>\n",
       "    </tr>\n",
       "    <tr>\n",
       "      <th>3</th>\n",
       "      <td>0</td>\n",
       "      <td>3</td>\n",
       "      <td>Hansen, Mr. Henrik Juul</td>\n",
       "      <td>male</td>\n",
       "      <td>26</td>\n",
       "      <td>1</td>\n",
       "      <td>0</td>\n",
       "      <td>350025</td>\n",
       "      <td>7.8542</td>\n",
       "      <td>S</td>\n",
       "    </tr>\n",
       "    <tr>\n",
       "      <th>4</th>\n",
       "      <td>0</td>\n",
       "      <td>3</td>\n",
       "      <td>Andersson, Miss. Ebba Iris Alfrida</td>\n",
       "      <td>female</td>\n",
       "      <td>6</td>\n",
       "      <td>4</td>\n",
       "      <td>2</td>\n",
       "      <td>347082</td>\n",
       "      <td>31.2750</td>\n",
       "      <td>S</td>\n",
       "    </tr>\n",
       "  </tbody>\n",
       "</table>\n",
       "</div>"
      ],
      "text/plain": [
       "   survived pclass                                name     sex  age sibsp  \\\n",
       "0         0      1                 Partner, Mr. Austen    male   45     0   \n",
       "1         0      2          Berriman, Mr. William John    male   23     0   \n",
       "2         0      3                  Tikkanen, Mr. Juho    male   32     0   \n",
       "3         0      3             Hansen, Mr. Henrik Juul    male   26     1   \n",
       "4         0      3  Andersson, Miss. Ebba Iris Alfrida  female    6     4   \n",
       "\n",
       "  parch             ticket     fare embarked  \n",
       "0     0             113043  28.5000        S  \n",
       "1     0              28425  13.0000        S  \n",
       "2     0  STON/O 2. 3101293   7.9250        S  \n",
       "3     0             350025   7.8542        S  \n",
       "4     2             347082  31.2750        S  "
      ]
     },
     "execution_count": 48,
     "metadata": {},
     "output_type": "execute_result"
    }
   ],
   "source": [
    "X_tr.head()"
   ]
  },
  {
   "cell_type": "markdown",
   "id": "fe6d4a2b-e6e5-484b-8951-257732350ff7",
   "metadata": {},
   "source": [
    "### 문자열"
   ]
  },
  {
   "cell_type": "code",
   "execution_count": 49,
   "id": "983eea92-d27f-4a43-950d-163233952a11",
   "metadata": {},
   "outputs": [],
   "source": [
    "df_object = X_tr.select_dtypes(include='object')"
   ]
  },
  {
   "cell_type": "code",
   "execution_count": 50,
   "id": "294b903c-cb12-4bf7-9dc4-0b44a9a4b506",
   "metadata": {},
   "outputs": [
    {
     "data": {
      "text/html": [
       "<div>\n",
       "<style scoped>\n",
       "    .dataframe tbody tr th:only-of-type {\n",
       "        vertical-align: middle;\n",
       "    }\n",
       "\n",
       "    .dataframe tbody tr th {\n",
       "        vertical-align: top;\n",
       "    }\n",
       "\n",
       "    .dataframe thead th {\n",
       "        text-align: right;\n",
       "    }\n",
       "</style>\n",
       "<table border=\"1\" class=\"dataframe\">\n",
       "  <thead>\n",
       "    <tr style=\"text-align: right;\">\n",
       "      <th></th>\n",
       "      <th>name</th>\n",
       "      <th>ticket</th>\n",
       "    </tr>\n",
       "  </thead>\n",
       "  <tbody>\n",
       "    <tr>\n",
       "      <th>0</th>\n",
       "      <td>Partner, Mr. Austen</td>\n",
       "      <td>113043</td>\n",
       "    </tr>\n",
       "    <tr>\n",
       "      <th>1</th>\n",
       "      <td>Berriman, Mr. William John</td>\n",
       "      <td>28425</td>\n",
       "    </tr>\n",
       "    <tr>\n",
       "      <th>2</th>\n",
       "      <td>Tikkanen, Mr. Juho</td>\n",
       "      <td>STON/O 2. 3101293</td>\n",
       "    </tr>\n",
       "    <tr>\n",
       "      <th>3</th>\n",
       "      <td>Hansen, Mr. Henrik Juul</td>\n",
       "      <td>350025</td>\n",
       "    </tr>\n",
       "    <tr>\n",
       "      <th>4</th>\n",
       "      <td>Andersson, Miss. Ebba Iris Alfrida</td>\n",
       "      <td>347082</td>\n",
       "    </tr>\n",
       "  </tbody>\n",
       "</table>\n",
       "</div>"
      ],
      "text/plain": [
       "                                 name             ticket\n",
       "0                 Partner, Mr. Austen             113043\n",
       "1          Berriman, Mr. William John              28425\n",
       "2                  Tikkanen, Mr. Juho  STON/O 2. 3101293\n",
       "3             Hansen, Mr. Henrik Juul             350025\n",
       "4  Andersson, Miss. Ebba Iris Alfrida             347082"
      ]
     },
     "execution_count": 50,
     "metadata": {},
     "output_type": "execute_result"
    }
   ],
   "source": [
    "df_object.head()"
   ]
  },
  {
   "cell_type": "code",
   "execution_count": 51,
   "id": "11d91d15-0293-4928-ab57-f50d549ed5ed",
   "metadata": {},
   "outputs": [
    {
     "data": {
      "text/html": [
       "<div>\n",
       "<style scoped>\n",
       "    .dataframe tbody tr th:only-of-type {\n",
       "        vertical-align: middle;\n",
       "    }\n",
       "\n",
       "    .dataframe tbody tr th {\n",
       "        vertical-align: top;\n",
       "    }\n",
       "\n",
       "    .dataframe thead th {\n",
       "        text-align: right;\n",
       "    }\n",
       "</style>\n",
       "<table border=\"1\" class=\"dataframe\">\n",
       "  <thead>\n",
       "    <tr style=\"text-align: right;\">\n",
       "      <th></th>\n",
       "      <th>name</th>\n",
       "      <th>ticket</th>\n",
       "    </tr>\n",
       "  </thead>\n",
       "  <tbody>\n",
       "    <tr>\n",
       "      <th>count</th>\n",
       "      <td>712</td>\n",
       "      <td>712</td>\n",
       "    </tr>\n",
       "    <tr>\n",
       "      <th>unique</th>\n",
       "      <td>712</td>\n",
       "      <td>558</td>\n",
       "    </tr>\n",
       "    <tr>\n",
       "      <th>top</th>\n",
       "      <td>Partner, Mr. Austen</td>\n",
       "      <td>CA. 2343</td>\n",
       "    </tr>\n",
       "    <tr>\n",
       "      <th>freq</th>\n",
       "      <td>1</td>\n",
       "      <td>7</td>\n",
       "    </tr>\n",
       "  </tbody>\n",
       "</table>\n",
       "</div>"
      ],
      "text/plain": [
       "                       name    ticket\n",
       "count                   712       712\n",
       "unique                  712       558\n",
       "top     Partner, Mr. Austen  CA. 2343\n",
       "freq                      1         7"
      ]
     },
     "execution_count": 51,
     "metadata": {},
     "output_type": "execute_result"
    }
   ],
   "source": [
    "df_object.describe()  #ticket column에 중복값 존재"
   ]
  },
  {
   "cell_type": "markdown",
   "id": "42c13fd6-c488-4cfd-8088-d3ae2915fd7f",
   "metadata": {},
   "source": [
    "#### 공백제거\n",
    "> strip : 앞뒤 공백 제거 / str에만 사용 가능"
   ]
  },
  {
   "cell_type": "code",
   "execution_count": 52,
   "id": "08f588d7-adf8-40c0-bfdf-05ed5b27f295",
   "metadata": {},
   "outputs": [],
   "source": [
    "X_tr['name'] = X_tr['name'].map(lambda x : x.strip())\n",
    "X_tr['ticket'] = X_tr['ticket'].map(lambda x : x.strip())\n",
    "\n",
    "X_te['name'] = X_te['name'].map(lambda x : x.strip())\n",
    "X_te['ticket'] = X_te['ticket'].map(lambda x : x.strip())"
   ]
  },
  {
   "cell_type": "code",
   "execution_count": 53,
   "id": "77f951ea-7341-492b-8f4e-39344ecc35e8",
   "metadata": {},
   "outputs": [
    {
     "data": {
      "text/html": [
       "<div>\n",
       "<style scoped>\n",
       "    .dataframe tbody tr th:only-of-type {\n",
       "        vertical-align: middle;\n",
       "    }\n",
       "\n",
       "    .dataframe tbody tr th {\n",
       "        vertical-align: top;\n",
       "    }\n",
       "\n",
       "    .dataframe thead th {\n",
       "        text-align: right;\n",
       "    }\n",
       "</style>\n",
       "<table border=\"1\" class=\"dataframe\">\n",
       "  <thead>\n",
       "    <tr style=\"text-align: right;\">\n",
       "      <th></th>\n",
       "      <th>name</th>\n",
       "      <th>ticket</th>\n",
       "    </tr>\n",
       "  </thead>\n",
       "  <tbody>\n",
       "    <tr>\n",
       "      <th>0</th>\n",
       "      <td>Partner, Mr. Austen</td>\n",
       "      <td>113043</td>\n",
       "    </tr>\n",
       "    <tr>\n",
       "      <th>1</th>\n",
       "      <td>Berriman, Mr. William John</td>\n",
       "      <td>28425</td>\n",
       "    </tr>\n",
       "    <tr>\n",
       "      <th>2</th>\n",
       "      <td>Tikkanen, Mr. Juho</td>\n",
       "      <td>STON/O 2. 3101293</td>\n",
       "    </tr>\n",
       "    <tr>\n",
       "      <th>3</th>\n",
       "      <td>Hansen, Mr. Henrik Juul</td>\n",
       "      <td>350025</td>\n",
       "    </tr>\n",
       "    <tr>\n",
       "      <th>4</th>\n",
       "      <td>Andersson, Miss. Ebba Iris Alfrida</td>\n",
       "      <td>347082</td>\n",
       "    </tr>\n",
       "  </tbody>\n",
       "</table>\n",
       "</div>"
      ],
      "text/plain": [
       "                                 name             ticket\n",
       "0                 Partner, Mr. Austen             113043\n",
       "1          Berriman, Mr. William John              28425\n",
       "2                  Tikkanen, Mr. Juho  STON/O 2. 3101293\n",
       "3             Hansen, Mr. Henrik Juul             350025\n",
       "4  Andersson, Miss. Ebba Iris Alfrida             347082"
      ]
     },
     "execution_count": 53,
     "metadata": {},
     "output_type": "execute_result"
    }
   ],
   "source": [
    "df_object.head()"
   ]
  },
  {
   "cell_type": "markdown",
   "id": "4c9a67f8-af03-4ada-bf69-bbfedb2b17ab",
   "metadata": {},
   "source": [
    "#### 문자열 포함 여부"
   ]
  },
  {
   "cell_type": "markdown",
   "id": "7e8e7448-e1ab-4c55-95dc-3be5cc3b6902",
   "metadata": {},
   "source": [
    "Mr, Miss 정보를 통해서 탑승객에 대한 추가적인 정보 (Feature) "
   ]
  },
  {
   "cell_type": "code",
   "execution_count": 54,
   "id": "c4e1c74e-ada7-451a-8842-ff72ff5331e4",
   "metadata": {},
   "outputs": [],
   "source": [
    "dict_designation = {\n",
    "    'Mr.': '남성',\n",
    "    'Master.': '남성',\n",
    "    'Sir.': '남성',\n",
    "    'Miss.': '미혼 여성',\n",
    "    'Mrs.': '기혼 여성',\n",
    "    'Ms.': '미혼/기혼 여성',\n",
    "    'Lady.': '숙녀',\n",
    "    'Mlle.': '아가씨',\n",
    "    # 직업\n",
    "    'Dr.': '의사',\n",
    "    'Rev.': '목사',\n",
    "    'Major.': '계급',\n",
    "    'Don.': '교수',\n",
    "    'Col.': '군인',\n",
    "    'Capt.': '군인',\n",
    "    # 귀족\n",
    "    'Mme.': '영부인',\n",
    "    'Countess.': '백작부인',\n",
    "    'Jonkheer.': '귀족'\n",
    "}\n"
   ]
  },
  {
   "cell_type": "code",
   "execution_count": 55,
   "id": "6db3d4e3-91b6-4a8f-aff1-d6adcb2661c0",
   "metadata": {},
   "outputs": [
    {
     "data": {
      "text/plain": [
       "dict_keys(['Mr.', 'Master.', 'Sir.', 'Miss.', 'Mrs.', 'Ms.', 'Lady.', 'Mlle.', 'Dr.', 'Rev.', 'Major.', 'Don.', 'Col.', 'Capt.', 'Mme.', 'Countess.', 'Jonkheer.'])"
      ]
     },
     "execution_count": 55,
     "metadata": {},
     "output_type": "execute_result"
    }
   ],
   "source": [
    "dict_designation.keys()"
   ]
  },
  {
   "cell_type": "code",
   "execution_count": 56,
   "id": "f902ce3c-33ef-4ea7-b528-d98e534d6493",
   "metadata": {},
   "outputs": [],
   "source": [
    "def add_designation(name):\n",
    "    designation = 'unknown'\n",
    "    for key in dict_designation.keys():\n",
    "        if key in name:\n",
    "            designation = key\n",
    "            break\n",
    "    return designation"
   ]
  },
  {
   "cell_type": "code",
   "execution_count": 57,
   "id": "b314d45c-b55c-4e93-a802-80ae8e98a1c5",
   "metadata": {},
   "outputs": [
    {
     "data": {
      "text/html": [
       "<div>\n",
       "<style scoped>\n",
       "    .dataframe tbody tr th:only-of-type {\n",
       "        vertical-align: middle;\n",
       "    }\n",
       "\n",
       "    .dataframe tbody tr th {\n",
       "        vertical-align: top;\n",
       "    }\n",
       "\n",
       "    .dataframe thead th {\n",
       "        text-align: right;\n",
       "    }\n",
       "</style>\n",
       "<table border=\"1\" class=\"dataframe\">\n",
       "  <thead>\n",
       "    <tr style=\"text-align: right;\">\n",
       "      <th></th>\n",
       "      <th>survived</th>\n",
       "      <th>pclass</th>\n",
       "      <th>name</th>\n",
       "      <th>sex</th>\n",
       "      <th>age</th>\n",
       "      <th>sibsp</th>\n",
       "      <th>parch</th>\n",
       "      <th>ticket</th>\n",
       "      <th>fare</th>\n",
       "      <th>embarked</th>\n",
       "      <th>designation</th>\n",
       "    </tr>\n",
       "  </thead>\n",
       "  <tbody>\n",
       "    <tr>\n",
       "      <th>0</th>\n",
       "      <td>0</td>\n",
       "      <td>1</td>\n",
       "      <td>Partner, Mr. Austen</td>\n",
       "      <td>male</td>\n",
       "      <td>45</td>\n",
       "      <td>0</td>\n",
       "      <td>0</td>\n",
       "      <td>113043</td>\n",
       "      <td>28.5000</td>\n",
       "      <td>S</td>\n",
       "      <td>Mr.</td>\n",
       "    </tr>\n",
       "    <tr>\n",
       "      <th>1</th>\n",
       "      <td>0</td>\n",
       "      <td>2</td>\n",
       "      <td>Berriman, Mr. William John</td>\n",
       "      <td>male</td>\n",
       "      <td>23</td>\n",
       "      <td>0</td>\n",
       "      <td>0</td>\n",
       "      <td>28425</td>\n",
       "      <td>13.0000</td>\n",
       "      <td>S</td>\n",
       "      <td>Mr.</td>\n",
       "    </tr>\n",
       "    <tr>\n",
       "      <th>2</th>\n",
       "      <td>0</td>\n",
       "      <td>3</td>\n",
       "      <td>Tikkanen, Mr. Juho</td>\n",
       "      <td>male</td>\n",
       "      <td>32</td>\n",
       "      <td>0</td>\n",
       "      <td>0</td>\n",
       "      <td>STON/O 2. 3101293</td>\n",
       "      <td>7.9250</td>\n",
       "      <td>S</td>\n",
       "      <td>Mr.</td>\n",
       "    </tr>\n",
       "    <tr>\n",
       "      <th>3</th>\n",
       "      <td>0</td>\n",
       "      <td>3</td>\n",
       "      <td>Hansen, Mr. Henrik Juul</td>\n",
       "      <td>male</td>\n",
       "      <td>26</td>\n",
       "      <td>1</td>\n",
       "      <td>0</td>\n",
       "      <td>350025</td>\n",
       "      <td>7.8542</td>\n",
       "      <td>S</td>\n",
       "      <td>Mr.</td>\n",
       "    </tr>\n",
       "    <tr>\n",
       "      <th>4</th>\n",
       "      <td>0</td>\n",
       "      <td>3</td>\n",
       "      <td>Andersson, Miss. Ebba Iris Alfrida</td>\n",
       "      <td>female</td>\n",
       "      <td>6</td>\n",
       "      <td>4</td>\n",
       "      <td>2</td>\n",
       "      <td>347082</td>\n",
       "      <td>31.2750</td>\n",
       "      <td>S</td>\n",
       "      <td>Miss.</td>\n",
       "    </tr>\n",
       "  </tbody>\n",
       "</table>\n",
       "</div>"
      ],
      "text/plain": [
       "   survived pclass                                name     sex  age sibsp  \\\n",
       "0         0      1                 Partner, Mr. Austen    male   45     0   \n",
       "1         0      2          Berriman, Mr. William John    male   23     0   \n",
       "2         0      3                  Tikkanen, Mr. Juho    male   32     0   \n",
       "3         0      3             Hansen, Mr. Henrik Juul    male   26     1   \n",
       "4         0      3  Andersson, Miss. Ebba Iris Alfrida  female    6     4   \n",
       "\n",
       "  parch             ticket     fare embarked designation  \n",
       "0     0             113043  28.5000        S         Mr.  \n",
       "1     0              28425  13.0000        S         Mr.  \n",
       "2     0  STON/O 2. 3101293   7.9250        S         Mr.  \n",
       "3     0             350025   7.8542        S         Mr.  \n",
       "4     2             347082  31.2750        S       Miss.  "
      ]
     },
     "execution_count": 57,
     "metadata": {},
     "output_type": "execute_result"
    }
   ],
   "source": [
    "X_tr['designation'] = X_tr['name'].map(lambda x : add_designation(x))\n",
    "X_te['designation'] = X_te['name'].map(lambda x : add_designation(x))\n",
    "\n",
    "X_tr.head()"
   ]
  },
  {
   "cell_type": "code",
   "execution_count": 58,
   "id": "b8646def-1430-4255-8093-6bb5ae21e3d8",
   "metadata": {},
   "outputs": [
    {
     "data": {
      "text/html": [
       "<div>\n",
       "<style scoped>\n",
       "    .dataframe tbody tr th:only-of-type {\n",
       "        vertical-align: middle;\n",
       "    }\n",
       "\n",
       "    .dataframe tbody tr th {\n",
       "        vertical-align: top;\n",
       "    }\n",
       "\n",
       "    .dataframe thead th {\n",
       "        text-align: right;\n",
       "    }\n",
       "</style>\n",
       "<table border=\"1\" class=\"dataframe\">\n",
       "  <thead>\n",
       "    <tr style=\"text-align: right;\">\n",
       "      <th></th>\n",
       "      <th>survived</th>\n",
       "      <th>pclass</th>\n",
       "      <th>name</th>\n",
       "      <th>sex</th>\n",
       "      <th>age</th>\n",
       "      <th>sibsp</th>\n",
       "      <th>parch</th>\n",
       "      <th>ticket</th>\n",
       "      <th>fare</th>\n",
       "      <th>embarked</th>\n",
       "      <th>designation</th>\n",
       "    </tr>\n",
       "  </thead>\n",
       "  <tbody>\n",
       "  </tbody>\n",
       "</table>\n",
       "</div>"
      ],
      "text/plain": [
       "Empty DataFrame\n",
       "Columns: [survived, pclass, name, sex, age, sibsp, parch, ticket, fare, embarked, designation]\n",
       "Index: []"
      ]
     },
     "execution_count": 58,
     "metadata": {},
     "output_type": "execute_result"
    }
   ],
   "source": [
    "# train data 검증\n",
    "cond = X_tr['designation'] == 'unknown'\n",
    "X_tr.loc[cond]"
   ]
  },
  {
   "cell_type": "code",
   "execution_count": 59,
   "id": "0e8b98c8-b725-4872-bb24-1b29fecd3a03",
   "metadata": {},
   "outputs": [],
   "source": [
    "#test data 검증"
   ]
  },
  {
   "cell_type": "code",
   "execution_count": 60,
   "id": "f55993c8-1506-4027-809b-b61df259cce4",
   "metadata": {},
   "outputs": [
    {
     "data": {
      "text/html": [
       "<div>\n",
       "<style scoped>\n",
       "    .dataframe tbody tr th:only-of-type {\n",
       "        vertical-align: middle;\n",
       "    }\n",
       "\n",
       "    .dataframe tbody tr th {\n",
       "        vertical-align: top;\n",
       "    }\n",
       "\n",
       "    .dataframe thead th {\n",
       "        text-align: right;\n",
       "    }\n",
       "</style>\n",
       "<table border=\"1\" class=\"dataframe\">\n",
       "  <thead>\n",
       "    <tr style=\"text-align: right;\">\n",
       "      <th></th>\n",
       "      <th>survived</th>\n",
       "      <th>pclass</th>\n",
       "      <th>name</th>\n",
       "      <th>sex</th>\n",
       "      <th>age</th>\n",
       "      <th>sibsp</th>\n",
       "      <th>parch</th>\n",
       "      <th>ticket</th>\n",
       "      <th>fare</th>\n",
       "      <th>embarked</th>\n",
       "      <th>designation</th>\n",
       "    </tr>\n",
       "  </thead>\n",
       "  <tbody>\n",
       "  </tbody>\n",
       "</table>\n",
       "</div>"
      ],
      "text/plain": [
       "Empty DataFrame\n",
       "Columns: [survived, pclass, name, sex, age, sibsp, parch, ticket, fare, embarked, designation]\n",
       "Index: []"
      ]
     },
     "execution_count": 60,
     "metadata": {},
     "output_type": "execute_result"
    }
   ],
   "source": [
    "cond = X_te['designation'] == 'unknown'\n",
    "X_te.loc[cond]"
   ]
  },
  {
   "cell_type": "markdown",
   "id": "44973c20-7a51-4046-a9f7-0acc4716eda6",
   "metadata": {},
   "source": [
    "#### 문자열 분리"
   ]
  },
  {
   "cell_type": "code",
   "execution_count": 61,
   "id": "168d5a2a-42a5-4751-96e8-915e69759680",
   "metadata": {},
   "outputs": [
    {
     "data": {
      "text/html": [
       "<div>\n",
       "<style scoped>\n",
       "    .dataframe tbody tr th:only-of-type {\n",
       "        vertical-align: middle;\n",
       "    }\n",
       "\n",
       "    .dataframe tbody tr th {\n",
       "        vertical-align: top;\n",
       "    }\n",
       "\n",
       "    .dataframe thead th {\n",
       "        text-align: right;\n",
       "    }\n",
       "</style>\n",
       "<table border=\"1\" class=\"dataframe\">\n",
       "  <thead>\n",
       "    <tr style=\"text-align: right;\">\n",
       "      <th></th>\n",
       "      <th>name</th>\n",
       "      <th>ticket</th>\n",
       "    </tr>\n",
       "  </thead>\n",
       "  <tbody>\n",
       "    <tr>\n",
       "      <th>0</th>\n",
       "      <td>Partner, Mr. Austen</td>\n",
       "      <td>113043</td>\n",
       "    </tr>\n",
       "    <tr>\n",
       "      <th>1</th>\n",
       "      <td>Berriman, Mr. William John</td>\n",
       "      <td>28425</td>\n",
       "    </tr>\n",
       "    <tr>\n",
       "      <th>2</th>\n",
       "      <td>Tikkanen, Mr. Juho</td>\n",
       "      <td>STON/O 2. 3101293</td>\n",
       "    </tr>\n",
       "    <tr>\n",
       "      <th>3</th>\n",
       "      <td>Hansen, Mr. Henrik Juul</td>\n",
       "      <td>350025</td>\n",
       "    </tr>\n",
       "    <tr>\n",
       "      <th>4</th>\n",
       "      <td>Andersson, Miss. Ebba Iris Alfrida</td>\n",
       "      <td>347082</td>\n",
       "    </tr>\n",
       "  </tbody>\n",
       "</table>\n",
       "</div>"
      ],
      "text/plain": [
       "                                 name             ticket\n",
       "0                 Partner, Mr. Austen             113043\n",
       "1          Berriman, Mr. William John              28425\n",
       "2                  Tikkanen, Mr. Juho  STON/O 2. 3101293\n",
       "3             Hansen, Mr. Henrik Juul             350025\n",
       "4  Andersson, Miss. Ebba Iris Alfrida             347082"
      ]
     },
     "execution_count": 61,
     "metadata": {},
     "output_type": "execute_result"
    }
   ],
   "source": [
    "df_object.head()"
   ]
  },
  {
   "cell_type": "code",
   "execution_count": 62,
   "id": "d880b725-eb92-493f-be7c-323b16be5478",
   "metadata": {},
   "outputs": [
    {
     "data": {
      "text/html": [
       "<div>\n",
       "<style scoped>\n",
       "    .dataframe tbody tr th:only-of-type {\n",
       "        vertical-align: middle;\n",
       "    }\n",
       "\n",
       "    .dataframe tbody tr th {\n",
       "        vertical-align: top;\n",
       "    }\n",
       "\n",
       "    .dataframe thead th {\n",
       "        text-align: right;\n",
       "    }\n",
       "</style>\n",
       "<table border=\"1\" class=\"dataframe\">\n",
       "  <thead>\n",
       "    <tr style=\"text-align: right;\">\n",
       "      <th></th>\n",
       "      <th>survived</th>\n",
       "      <th>pclass</th>\n",
       "      <th>name</th>\n",
       "      <th>sex</th>\n",
       "      <th>age</th>\n",
       "      <th>sibsp</th>\n",
       "      <th>parch</th>\n",
       "      <th>ticket</th>\n",
       "      <th>fare</th>\n",
       "      <th>embarked</th>\n",
       "      <th>designation</th>\n",
       "      <th>last_name</th>\n",
       "    </tr>\n",
       "  </thead>\n",
       "  <tbody>\n",
       "    <tr>\n",
       "      <th>0</th>\n",
       "      <td>0</td>\n",
       "      <td>1</td>\n",
       "      <td>Partner, Mr. Austen</td>\n",
       "      <td>male</td>\n",
       "      <td>45</td>\n",
       "      <td>0</td>\n",
       "      <td>0</td>\n",
       "      <td>113043</td>\n",
       "      <td>28.5000</td>\n",
       "      <td>S</td>\n",
       "      <td>Mr.</td>\n",
       "      <td>Partner</td>\n",
       "    </tr>\n",
       "    <tr>\n",
       "      <th>1</th>\n",
       "      <td>0</td>\n",
       "      <td>2</td>\n",
       "      <td>Berriman, Mr. William John</td>\n",
       "      <td>male</td>\n",
       "      <td>23</td>\n",
       "      <td>0</td>\n",
       "      <td>0</td>\n",
       "      <td>28425</td>\n",
       "      <td>13.0000</td>\n",
       "      <td>S</td>\n",
       "      <td>Mr.</td>\n",
       "      <td>Berriman</td>\n",
       "    </tr>\n",
       "    <tr>\n",
       "      <th>2</th>\n",
       "      <td>0</td>\n",
       "      <td>3</td>\n",
       "      <td>Tikkanen, Mr. Juho</td>\n",
       "      <td>male</td>\n",
       "      <td>32</td>\n",
       "      <td>0</td>\n",
       "      <td>0</td>\n",
       "      <td>STON/O 2. 3101293</td>\n",
       "      <td>7.9250</td>\n",
       "      <td>S</td>\n",
       "      <td>Mr.</td>\n",
       "      <td>Tikkanen</td>\n",
       "    </tr>\n",
       "    <tr>\n",
       "      <th>3</th>\n",
       "      <td>0</td>\n",
       "      <td>3</td>\n",
       "      <td>Hansen, Mr. Henrik Juul</td>\n",
       "      <td>male</td>\n",
       "      <td>26</td>\n",
       "      <td>1</td>\n",
       "      <td>0</td>\n",
       "      <td>350025</td>\n",
       "      <td>7.8542</td>\n",
       "      <td>S</td>\n",
       "      <td>Mr.</td>\n",
       "      <td>Hansen</td>\n",
       "    </tr>\n",
       "    <tr>\n",
       "      <th>4</th>\n",
       "      <td>0</td>\n",
       "      <td>3</td>\n",
       "      <td>Andersson, Miss. Ebba Iris Alfrida</td>\n",
       "      <td>female</td>\n",
       "      <td>6</td>\n",
       "      <td>4</td>\n",
       "      <td>2</td>\n",
       "      <td>347082</td>\n",
       "      <td>31.2750</td>\n",
       "      <td>S</td>\n",
       "      <td>Miss.</td>\n",
       "      <td>Andersson</td>\n",
       "    </tr>\n",
       "  </tbody>\n",
       "</table>\n",
       "</div>"
      ],
      "text/plain": [
       "   survived pclass                                name     sex  age sibsp  \\\n",
       "0         0      1                 Partner, Mr. Austen    male   45     0   \n",
       "1         0      2          Berriman, Mr. William John    male   23     0   \n",
       "2         0      3                  Tikkanen, Mr. Juho    male   32     0   \n",
       "3         0      3             Hansen, Mr. Henrik Juul    male   26     1   \n",
       "4         0      3  Andersson, Miss. Ebba Iris Alfrida  female    6     4   \n",
       "\n",
       "  parch             ticket     fare embarked designation  last_name  \n",
       "0     0             113043  28.5000        S         Mr.    Partner  \n",
       "1     0              28425  13.0000        S         Mr.   Berriman  \n",
       "2     0  STON/O 2. 3101293   7.9250        S         Mr.   Tikkanen  \n",
       "3     0             350025   7.8542        S         Mr.     Hansen  \n",
       "4     2             347082  31.2750        S       Miss.  Andersson  "
      ]
     },
     "execution_count": 62,
     "metadata": {},
     "output_type": "execute_result"
    }
   ],
   "source": [
    "# 이름에서 성만 분리 -> last name\n",
    "X_tr['last_name'] = X_tr['name'].map(lambda x : x.split(',')[0])\n",
    "X_te['last_name'] = X_te['name'].map(lambda x : x.split(',')[0])\n",
    "\n",
    "X_tr.head()"
   ]
  },
  {
   "cell_type": "code",
   "execution_count": 63,
   "id": "4b679b50-a473-4495-8e01-b530e5b569ef",
   "metadata": {},
   "outputs": [
    {
     "data": {
      "text/html": [
       "<div>\n",
       "<style scoped>\n",
       "    .dataframe tbody tr th:only-of-type {\n",
       "        vertical-align: middle;\n",
       "    }\n",
       "\n",
       "    .dataframe tbody tr th {\n",
       "        vertical-align: top;\n",
       "    }\n",
       "\n",
       "    .dataframe thead th {\n",
       "        text-align: right;\n",
       "    }\n",
       "</style>\n",
       "<table border=\"1\" class=\"dataframe\">\n",
       "  <thead>\n",
       "    <tr style=\"text-align: right;\">\n",
       "      <th></th>\n",
       "      <th>survived</th>\n",
       "      <th>pclass</th>\n",
       "      <th>name</th>\n",
       "      <th>sex</th>\n",
       "      <th>age</th>\n",
       "      <th>sibsp</th>\n",
       "      <th>parch</th>\n",
       "      <th>ticket</th>\n",
       "      <th>fare</th>\n",
       "      <th>embarked</th>\n",
       "      <th>designation</th>\n",
       "      <th>last_name</th>\n",
       "      <th>first_name</th>\n",
       "    </tr>\n",
       "  </thead>\n",
       "  <tbody>\n",
       "    <tr>\n",
       "      <th>0</th>\n",
       "      <td>0</td>\n",
       "      <td>1</td>\n",
       "      <td>Partner, Mr. Austen</td>\n",
       "      <td>male</td>\n",
       "      <td>45</td>\n",
       "      <td>0</td>\n",
       "      <td>0</td>\n",
       "      <td>113043</td>\n",
       "      <td>28.5000</td>\n",
       "      <td>S</td>\n",
       "      <td>Mr.</td>\n",
       "      <td>Partner</td>\n",
       "      <td>Austen</td>\n",
       "    </tr>\n",
       "    <tr>\n",
       "      <th>1</th>\n",
       "      <td>0</td>\n",
       "      <td>2</td>\n",
       "      <td>Berriman, Mr. William John</td>\n",
       "      <td>male</td>\n",
       "      <td>23</td>\n",
       "      <td>0</td>\n",
       "      <td>0</td>\n",
       "      <td>28425</td>\n",
       "      <td>13.0000</td>\n",
       "      <td>S</td>\n",
       "      <td>Mr.</td>\n",
       "      <td>Berriman</td>\n",
       "      <td>William John</td>\n",
       "    </tr>\n",
       "    <tr>\n",
       "      <th>2</th>\n",
       "      <td>0</td>\n",
       "      <td>3</td>\n",
       "      <td>Tikkanen, Mr. Juho</td>\n",
       "      <td>male</td>\n",
       "      <td>32</td>\n",
       "      <td>0</td>\n",
       "      <td>0</td>\n",
       "      <td>STON/O 2. 3101293</td>\n",
       "      <td>7.9250</td>\n",
       "      <td>S</td>\n",
       "      <td>Mr.</td>\n",
       "      <td>Tikkanen</td>\n",
       "      <td>Juho</td>\n",
       "    </tr>\n",
       "    <tr>\n",
       "      <th>3</th>\n",
       "      <td>0</td>\n",
       "      <td>3</td>\n",
       "      <td>Hansen, Mr. Henrik Juul</td>\n",
       "      <td>male</td>\n",
       "      <td>26</td>\n",
       "      <td>1</td>\n",
       "      <td>0</td>\n",
       "      <td>350025</td>\n",
       "      <td>7.8542</td>\n",
       "      <td>S</td>\n",
       "      <td>Mr.</td>\n",
       "      <td>Hansen</td>\n",
       "      <td>Henrik Juul</td>\n",
       "    </tr>\n",
       "    <tr>\n",
       "      <th>4</th>\n",
       "      <td>0</td>\n",
       "      <td>3</td>\n",
       "      <td>Andersson, Miss. Ebba Iris Alfrida</td>\n",
       "      <td>female</td>\n",
       "      <td>6</td>\n",
       "      <td>4</td>\n",
       "      <td>2</td>\n",
       "      <td>347082</td>\n",
       "      <td>31.2750</td>\n",
       "      <td>S</td>\n",
       "      <td>Miss.</td>\n",
       "      <td>Andersson</td>\n",
       "      <td>Ebba Iris Alfrida</td>\n",
       "    </tr>\n",
       "  </tbody>\n",
       "</table>\n",
       "</div>"
      ],
      "text/plain": [
       "   survived pclass                                name     sex  age sibsp  \\\n",
       "0         0      1                 Partner, Mr. Austen    male   45     0   \n",
       "1         0      2          Berriman, Mr. William John    male   23     0   \n",
       "2         0      3                  Tikkanen, Mr. Juho    male   32     0   \n",
       "3         0      3             Hansen, Mr. Henrik Juul    male   26     1   \n",
       "4         0      3  Andersson, Miss. Ebba Iris Alfrida  female    6     4   \n",
       "\n",
       "  parch             ticket     fare embarked designation  last_name  \\\n",
       "0     0             113043  28.5000        S         Mr.    Partner   \n",
       "1     0              28425  13.0000        S         Mr.   Berriman   \n",
       "2     0  STON/O 2. 3101293   7.9250        S         Mr.   Tikkanen   \n",
       "3     0             350025   7.8542        S         Mr.     Hansen   \n",
       "4     2             347082  31.2750        S       Miss.  Andersson   \n",
       "\n",
       "           first_name  \n",
       "0              Austen  \n",
       "1        William John  \n",
       "2                Juho  \n",
       "3         Henrik Juul  \n",
       "4   Ebba Iris Alfrida  "
      ]
     },
     "execution_count": 63,
     "metadata": {},
     "output_type": "execute_result"
    }
   ],
   "source": [
    "# 이름만 분리 -> first name\n",
    "X_tr['first_name'] = X_tr['name'].map(lambda x : x.split(',')[1].split('.')[1])\n",
    "X_te['first_name'] = X_te['name'].map(lambda x : x.split(',')[1].split('.')[1])\n",
    "\n",
    "X_tr.head()"
   ]
  },
  {
   "cell_type": "code",
   "execution_count": 64,
   "id": "ca246612-ca20-4b67-9e94-45fed6155f47",
   "metadata": {},
   "outputs": [
    {
     "data": {
      "text/html": [
       "<div>\n",
       "<style scoped>\n",
       "    .dataframe tbody tr th:only-of-type {\n",
       "        vertical-align: middle;\n",
       "    }\n",
       "\n",
       "    .dataframe tbody tr th {\n",
       "        vertical-align: top;\n",
       "    }\n",
       "\n",
       "    .dataframe thead th {\n",
       "        text-align: right;\n",
       "    }\n",
       "</style>\n",
       "<table border=\"1\" class=\"dataframe\">\n",
       "  <thead>\n",
       "    <tr style=\"text-align: right;\">\n",
       "      <th></th>\n",
       "      <th>survived</th>\n",
       "      <th>pclass</th>\n",
       "      <th>name</th>\n",
       "      <th>sex</th>\n",
       "      <th>age</th>\n",
       "      <th>sibsp</th>\n",
       "      <th>parch</th>\n",
       "      <th>ticket</th>\n",
       "      <th>fare</th>\n",
       "      <th>embarked</th>\n",
       "      <th>designation</th>\n",
       "      <th>last_name</th>\n",
       "      <th>first_name</th>\n",
       "      <th>ticket_number</th>\n",
       "    </tr>\n",
       "  </thead>\n",
       "  <tbody>\n",
       "    <tr>\n",
       "      <th>0</th>\n",
       "      <td>0</td>\n",
       "      <td>1</td>\n",
       "      <td>Partner, Mr. Austen</td>\n",
       "      <td>male</td>\n",
       "      <td>45</td>\n",
       "      <td>0</td>\n",
       "      <td>0</td>\n",
       "      <td>113043</td>\n",
       "      <td>28.5000</td>\n",
       "      <td>S</td>\n",
       "      <td>Mr.</td>\n",
       "      <td>Partner</td>\n",
       "      <td>Austen</td>\n",
       "      <td>113043</td>\n",
       "    </tr>\n",
       "    <tr>\n",
       "      <th>1</th>\n",
       "      <td>0</td>\n",
       "      <td>2</td>\n",
       "      <td>Berriman, Mr. William John</td>\n",
       "      <td>male</td>\n",
       "      <td>23</td>\n",
       "      <td>0</td>\n",
       "      <td>0</td>\n",
       "      <td>28425</td>\n",
       "      <td>13.0000</td>\n",
       "      <td>S</td>\n",
       "      <td>Mr.</td>\n",
       "      <td>Berriman</td>\n",
       "      <td>William John</td>\n",
       "      <td>28425</td>\n",
       "    </tr>\n",
       "    <tr>\n",
       "      <th>2</th>\n",
       "      <td>0</td>\n",
       "      <td>3</td>\n",
       "      <td>Tikkanen, Mr. Juho</td>\n",
       "      <td>male</td>\n",
       "      <td>32</td>\n",
       "      <td>0</td>\n",
       "      <td>0</td>\n",
       "      <td>STON/O 2. 3101293</td>\n",
       "      <td>7.9250</td>\n",
       "      <td>S</td>\n",
       "      <td>Mr.</td>\n",
       "      <td>Tikkanen</td>\n",
       "      <td>Juho</td>\n",
       "      <td>3101293</td>\n",
       "    </tr>\n",
       "    <tr>\n",
       "      <th>3</th>\n",
       "      <td>0</td>\n",
       "      <td>3</td>\n",
       "      <td>Hansen, Mr. Henrik Juul</td>\n",
       "      <td>male</td>\n",
       "      <td>26</td>\n",
       "      <td>1</td>\n",
       "      <td>0</td>\n",
       "      <td>350025</td>\n",
       "      <td>7.8542</td>\n",
       "      <td>S</td>\n",
       "      <td>Mr.</td>\n",
       "      <td>Hansen</td>\n",
       "      <td>Henrik Juul</td>\n",
       "      <td>350025</td>\n",
       "    </tr>\n",
       "    <tr>\n",
       "      <th>4</th>\n",
       "      <td>0</td>\n",
       "      <td>3</td>\n",
       "      <td>Andersson, Miss. Ebba Iris Alfrida</td>\n",
       "      <td>female</td>\n",
       "      <td>6</td>\n",
       "      <td>4</td>\n",
       "      <td>2</td>\n",
       "      <td>347082</td>\n",
       "      <td>31.2750</td>\n",
       "      <td>S</td>\n",
       "      <td>Miss.</td>\n",
       "      <td>Andersson</td>\n",
       "      <td>Ebba Iris Alfrida</td>\n",
       "      <td>347082</td>\n",
       "    </tr>\n",
       "  </tbody>\n",
       "</table>\n",
       "</div>"
      ],
      "text/plain": [
       "   survived pclass                                name     sex  age sibsp  \\\n",
       "0         0      1                 Partner, Mr. Austen    male   45     0   \n",
       "1         0      2          Berriman, Mr. William John    male   23     0   \n",
       "2         0      3                  Tikkanen, Mr. Juho    male   32     0   \n",
       "3         0      3             Hansen, Mr. Henrik Juul    male   26     1   \n",
       "4         0      3  Andersson, Miss. Ebba Iris Alfrida  female    6     4   \n",
       "\n",
       "  parch             ticket     fare embarked designation  last_name  \\\n",
       "0     0             113043  28.5000        S         Mr.    Partner   \n",
       "1     0              28425  13.0000        S         Mr.   Berriman   \n",
       "2     0  STON/O 2. 3101293   7.9250        S         Mr.   Tikkanen   \n",
       "3     0             350025   7.8542        S         Mr.     Hansen   \n",
       "4     2             347082  31.2750        S       Miss.  Andersson   \n",
       "\n",
       "           first_name ticket_number  \n",
       "0              Austen        113043  \n",
       "1        William John         28425  \n",
       "2                Juho       3101293  \n",
       "3         Henrik Juul        350025  \n",
       "4   Ebba Iris Alfrida        347082  "
      ]
     },
     "execution_count": 64,
     "metadata": {},
     "output_type": "execute_result"
    }
   ],
   "source": [
    "#ticket column에서 맨 뒤의 숫자만 추출\n",
    "X_tr['ticket_number'] = X_tr['ticket'].map(lambda x : x.split(' ')[-1])\n",
    "X_te['ticket_number'] = X_te['ticket'].map(lambda x : x.split(' ')[-1])\n",
    "\n",
    "X_tr.head()"
   ]
  },
  {
   "cell_type": "markdown",
   "id": "277148ef-512c-475a-a90c-2459e487330a",
   "metadata": {},
   "source": [
    "### 집계"
   ]
  },
  {
   "cell_type": "markdown",
   "id": "04f3b1ab-3acb-41d8-81c5-319fb582e83e",
   "metadata": {},
   "source": [
    "#### 피벗테이블"
   ]
  },
  {
   "cell_type": "code",
   "execution_count": 65,
   "id": "4e7c5569-8eb7-4260-aa1c-04970cb59cd6",
   "metadata": {},
   "outputs": [
    {
     "data": {
      "text/html": [
       "<div>\n",
       "<style scoped>\n",
       "    .dataframe tbody tr th:only-of-type {\n",
       "        vertical-align: middle;\n",
       "    }\n",
       "\n",
       "    .dataframe tbody tr th {\n",
       "        vertical-align: top;\n",
       "    }\n",
       "\n",
       "    .dataframe thead th {\n",
       "        text-align: right;\n",
       "    }\n",
       "</style>\n",
       "<table border=\"1\" class=\"dataframe\">\n",
       "  <thead>\n",
       "    <tr style=\"text-align: right;\">\n",
       "      <th></th>\n",
       "      <th>pclass</th>\n",
       "      <th>fare_mean_by_class</th>\n",
       "    </tr>\n",
       "  </thead>\n",
       "  <tbody>\n",
       "    <tr>\n",
       "      <th>0</th>\n",
       "      <td>1</td>\n",
       "      <td>89.253914</td>\n",
       "    </tr>\n",
       "    <tr>\n",
       "      <th>1</th>\n",
       "      <td>2</td>\n",
       "      <td>20.575939</td>\n",
       "    </tr>\n",
       "    <tr>\n",
       "      <th>2</th>\n",
       "      <td>3</td>\n",
       "      <td>13.934860</td>\n",
       "    </tr>\n",
       "  </tbody>\n",
       "</table>\n",
       "</div>"
      ],
      "text/plain": [
       "  pclass  fare_mean_by_class\n",
       "0      1           89.253914\n",
       "1      2           20.575939\n",
       "2      3           13.934860"
      ]
     },
     "execution_count": 65,
     "metadata": {},
     "output_type": "execute_result"
    }
   ],
   "source": [
    "# pclass별 요금 평균\n",
    "df_pivot = pd.pivot_table(X_tr, index='pclass', values='fare', aggfunc='mean').reset_index()\n",
    "df_pivot.rename(columns={'fare': 'fare_mean_by_class'},inplace=True)\n",
    "df_pivot"
   ]
  },
  {
   "cell_type": "code",
   "execution_count": 66,
   "id": "06baf601-b83c-499e-a18f-39fc46879954",
   "metadata": {},
   "outputs": [
    {
     "name": "stdout",
     "output_type": "stream",
     "text": [
      "before: (712, 14)\n",
      "after: (712, 15)\n"
     ]
    },
    {
     "data": {
      "text/html": [
       "<div>\n",
       "<style scoped>\n",
       "    .dataframe tbody tr th:only-of-type {\n",
       "        vertical-align: middle;\n",
       "    }\n",
       "\n",
       "    .dataframe tbody tr th {\n",
       "        vertical-align: top;\n",
       "    }\n",
       "\n",
       "    .dataframe thead th {\n",
       "        text-align: right;\n",
       "    }\n",
       "</style>\n",
       "<table border=\"1\" class=\"dataframe\">\n",
       "  <thead>\n",
       "    <tr style=\"text-align: right;\">\n",
       "      <th></th>\n",
       "      <th>survived</th>\n",
       "      <th>pclass</th>\n",
       "      <th>name</th>\n",
       "      <th>sex</th>\n",
       "      <th>age</th>\n",
       "      <th>sibsp</th>\n",
       "      <th>parch</th>\n",
       "      <th>ticket</th>\n",
       "      <th>fare</th>\n",
       "      <th>embarked</th>\n",
       "      <th>designation</th>\n",
       "      <th>last_name</th>\n",
       "      <th>first_name</th>\n",
       "      <th>ticket_number</th>\n",
       "      <th>fare_mean_by_class</th>\n",
       "    </tr>\n",
       "  </thead>\n",
       "  <tbody>\n",
       "    <tr>\n",
       "      <th>0</th>\n",
       "      <td>0</td>\n",
       "      <td>1</td>\n",
       "      <td>Partner, Mr. Austen</td>\n",
       "      <td>male</td>\n",
       "      <td>45</td>\n",
       "      <td>0</td>\n",
       "      <td>0</td>\n",
       "      <td>113043</td>\n",
       "      <td>28.5000</td>\n",
       "      <td>S</td>\n",
       "      <td>Mr.</td>\n",
       "      <td>Partner</td>\n",
       "      <td>Austen</td>\n",
       "      <td>113043</td>\n",
       "      <td>89.253914</td>\n",
       "    </tr>\n",
       "    <tr>\n",
       "      <th>1</th>\n",
       "      <td>0</td>\n",
       "      <td>2</td>\n",
       "      <td>Berriman, Mr. William John</td>\n",
       "      <td>male</td>\n",
       "      <td>23</td>\n",
       "      <td>0</td>\n",
       "      <td>0</td>\n",
       "      <td>28425</td>\n",
       "      <td>13.0000</td>\n",
       "      <td>S</td>\n",
       "      <td>Mr.</td>\n",
       "      <td>Berriman</td>\n",
       "      <td>William John</td>\n",
       "      <td>28425</td>\n",
       "      <td>20.575939</td>\n",
       "    </tr>\n",
       "    <tr>\n",
       "      <th>2</th>\n",
       "      <td>0</td>\n",
       "      <td>3</td>\n",
       "      <td>Tikkanen, Mr. Juho</td>\n",
       "      <td>male</td>\n",
       "      <td>32</td>\n",
       "      <td>0</td>\n",
       "      <td>0</td>\n",
       "      <td>STON/O 2. 3101293</td>\n",
       "      <td>7.9250</td>\n",
       "      <td>S</td>\n",
       "      <td>Mr.</td>\n",
       "      <td>Tikkanen</td>\n",
       "      <td>Juho</td>\n",
       "      <td>3101293</td>\n",
       "      <td>13.934860</td>\n",
       "    </tr>\n",
       "    <tr>\n",
       "      <th>3</th>\n",
       "      <td>0</td>\n",
       "      <td>3</td>\n",
       "      <td>Hansen, Mr. Henrik Juul</td>\n",
       "      <td>male</td>\n",
       "      <td>26</td>\n",
       "      <td>1</td>\n",
       "      <td>0</td>\n",
       "      <td>350025</td>\n",
       "      <td>7.8542</td>\n",
       "      <td>S</td>\n",
       "      <td>Mr.</td>\n",
       "      <td>Hansen</td>\n",
       "      <td>Henrik Juul</td>\n",
       "      <td>350025</td>\n",
       "      <td>13.934860</td>\n",
       "    </tr>\n",
       "    <tr>\n",
       "      <th>4</th>\n",
       "      <td>0</td>\n",
       "      <td>3</td>\n",
       "      <td>Andersson, Miss. Ebba Iris Alfrida</td>\n",
       "      <td>female</td>\n",
       "      <td>6</td>\n",
       "      <td>4</td>\n",
       "      <td>2</td>\n",
       "      <td>347082</td>\n",
       "      <td>31.2750</td>\n",
       "      <td>S</td>\n",
       "      <td>Miss.</td>\n",
       "      <td>Andersson</td>\n",
       "      <td>Ebba Iris Alfrida</td>\n",
       "      <td>347082</td>\n",
       "      <td>13.934860</td>\n",
       "    </tr>\n",
       "  </tbody>\n",
       "</table>\n",
       "</div>"
      ],
      "text/plain": [
       "   survived pclass                                name     sex  age sibsp  \\\n",
       "0         0      1                 Partner, Mr. Austen    male   45     0   \n",
       "1         0      2          Berriman, Mr. William John    male   23     0   \n",
       "2         0      3                  Tikkanen, Mr. Juho    male   32     0   \n",
       "3         0      3             Hansen, Mr. Henrik Juul    male   26     1   \n",
       "4         0      3  Andersson, Miss. Ebba Iris Alfrida  female    6     4   \n",
       "\n",
       "  parch             ticket     fare embarked designation  last_name  \\\n",
       "0     0             113043  28.5000        S         Mr.    Partner   \n",
       "1     0              28425  13.0000        S         Mr.   Berriman   \n",
       "2     0  STON/O 2. 3101293   7.9250        S         Mr.   Tikkanen   \n",
       "3     0             350025   7.8542        S         Mr.     Hansen   \n",
       "4     2             347082  31.2750        S       Miss.  Andersson   \n",
       "\n",
       "           first_name ticket_number  fare_mean_by_class  \n",
       "0              Austen        113043           89.253914  \n",
       "1        William John         28425           20.575939  \n",
       "2                Juho       3101293           13.934860  \n",
       "3         Henrik Juul        350025           13.934860  \n",
       "4   Ebba Iris Alfrida        347082           13.934860  "
      ]
     },
     "execution_count": 66,
     "metadata": {},
     "output_type": "execute_result"
    }
   ],
   "source": [
    "# train data에 column추가\n",
    "print(f'before: {X_tr.shape}')\n",
    "X_tr = pd.merge(X_tr,df_pivot,how='left',on='pclass')\n",
    "X_te = pd.merge(X_te,df_pivot,how='left',on='pclass')\n",
    "print(f'after: {X_tr.shape}')\n",
    "X_tr.head()"
   ]
  },
  {
   "cell_type": "code",
   "execution_count": null,
   "id": "8f6d26fe-2258-4f27-abd9-964d44c7b65f",
   "metadata": {},
   "outputs": [],
   "source": []
  }
 ],
 "metadata": {
  "kernelspec": {
   "display_name": "Python 3 (ipykernel)",
   "language": "python",
   "name": "python3"
  },
  "language_info": {
   "codemirror_mode": {
    "name": "ipython",
    "version": 3
   },
   "file_extension": ".py",
   "mimetype": "text/x-python",
   "name": "python",
   "nbconvert_exporter": "python",
   "pygments_lexer": "ipython3",
   "version": "3.9.13"
  }
 },
 "nbformat": 4,
 "nbformat_minor": 5
}
